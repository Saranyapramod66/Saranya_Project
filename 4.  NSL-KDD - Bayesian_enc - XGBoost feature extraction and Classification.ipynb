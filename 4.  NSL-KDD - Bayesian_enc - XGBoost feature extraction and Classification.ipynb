{
 "cells": [
  {
   "cell_type": "code",
   "execution_count": 1,
   "id": "3f40fa6c",
   "metadata": {},
   "outputs": [],
   "source": [
    "import numpy as np\n",
    "import pandas as pd\n",
    "train = pd.read_csv('NSL_KDD_bayesian_enc_training_set.csv')\n",
    "test = pd.read_csv('NSL_KDD_bayesian_enc_testing_set.csv')"
   ]
  },
  {
   "cell_type": "code",
   "execution_count": 2,
   "id": "0acf0126",
   "metadata": {},
   "outputs": [
    {
     "name": "stdout",
     "output_type": "stream",
     "text": [
      "        src_bytes  dst_bytes  land  wrong_fragment  urgent  hot  \\\n",
      "0             491          0     0               0       0    0   \n",
      "1             146          0     0               0       0    0   \n",
      "2               0          0     0               0       0    0   \n",
      "3             232       8153     0               0       0    0   \n",
      "4             199        420     0               0       0    0   \n",
      "...           ...        ...   ...             ...     ...  ...   \n",
      "125968          0          0     0               0       0    0   \n",
      "125969        105        145     0               0       0    0   \n",
      "125970       2231        384     0               0       0    0   \n",
      "125971          0          0     0               0       0    0   \n",
      "125972        151          0     0               0       0    0   \n",
      "\n",
      "        num_failed_logins  logged_in  num_compromised  root_shell  ...  \\\n",
      "0                       0          0                0           0  ...   \n",
      "1                       0          0                0           0  ...   \n",
      "2                       0          0                0           0  ...   \n",
      "3                       0          1                0           0  ...   \n",
      "4                       0          1                0           0  ...   \n",
      "...                   ...        ...              ...         ...  ...   \n",
      "125968                  0          0                0           0  ...   \n",
      "125969                  0          0                0           0  ...   \n",
      "125970                  0          1                0           0  ...   \n",
      "125971                  0          0                0           0  ...   \n",
      "125972                  0          1                0           0  ...   \n",
      "\n",
      "        dst_host_diff_srv_rate  dst_host_same_src_port_rate  \\\n",
      "0                         0.03                         0.17   \n",
      "1                         0.60                         0.88   \n",
      "2                         0.05                         0.00   \n",
      "3                         0.00                         0.03   \n",
      "4                         0.00                         0.00   \n",
      "...                        ...                          ...   \n",
      "125968                    0.06                         0.00   \n",
      "125969                    0.01                         0.01   \n",
      "125970                    0.06                         0.00   \n",
      "125971                    0.05                         0.00   \n",
      "125972                    0.03                         0.30   \n",
      "\n",
      "        dst_host_srv_diff_host_rate  dst_host_serror_rate  \\\n",
      "0                              0.00                  0.00   \n",
      "1                              0.00                  0.00   \n",
      "2                              0.00                  1.00   \n",
      "3                              0.04                  0.03   \n",
      "4                              0.00                  0.00   \n",
      "...                             ...                   ...   \n",
      "125968                         0.00                  1.00   \n",
      "125969                         0.00                  0.00   \n",
      "125970                         0.00                  0.72   \n",
      "125971                         0.00                  1.00   \n",
      "125972                         0.00                  0.00   \n",
      "\n",
      "        dst_host_srv_serror_rate  dst_host_rerror_rate  \\\n",
      "0                           0.00                  0.05   \n",
      "1                           0.00                  0.00   \n",
      "2                           1.00                  0.00   \n",
      "3                           0.01                  0.00   \n",
      "4                           0.00                  0.00   \n",
      "...                          ...                   ...   \n",
      "125968                      1.00                  0.00   \n",
      "125969                      0.00                  0.00   \n",
      "125970                      0.00                  0.01   \n",
      "125971                      1.00                  0.00   \n",
      "125972                      0.00                  0.00   \n",
      "\n",
      "        dst_host_srv_rerror_rate  protocol_type   service      flag  \n",
      "0                           0.00       0.494592  0.312151  0.187263  \n",
      "1                           0.00       0.193255  0.486434  0.187263  \n",
      "2                           0.00       0.494592  0.931123  0.990397  \n",
      "3                           0.01       0.494592  0.071984  0.187263  \n",
      "4                           0.00       0.494592  0.071984  0.187263  \n",
      "...                          ...            ...       ...       ...  \n",
      "125968                      0.00       0.494592  0.931123  0.990397  \n",
      "125969                      0.00       0.193255  0.931123  0.187263  \n",
      "125970                      0.00       0.494592  0.072754  0.187263  \n",
      "125971                      0.00       0.494592  1.000000  0.990397  \n",
      "125972                      0.00       0.494592  0.312151  0.187263  \n",
      "\n",
      "[125973 rows x 40 columns]\n",
      "0         0\n",
      "1         0\n",
      "2         1\n",
      "3         0\n",
      "4         0\n",
      "         ..\n",
      "125968    1\n",
      "125969    0\n",
      "125970    0\n",
      "125971    1\n",
      "125972    0\n",
      "Name: label, Length: 125973, dtype: int64\n"
     ]
    }
   ],
   "source": [
    "x1 = train.iloc[:,1:41]\n",
    "y1 = train['label']\n",
    "print(x1)\n",
    "print(y1)"
   ]
  },
  {
   "cell_type": "code",
   "execution_count": 3,
   "id": "270b8ebc",
   "metadata": {},
   "outputs": [
    {
     "name": "stdout",
     "output_type": "stream",
     "text": [
      "       src_bytes  dst_bytes  land  wrong_fragment  urgent  hot  \\\n",
      "0              0          0     0               0       0    0   \n",
      "1              0          0     0               0       0    0   \n",
      "2          12983          0     0               0       0    0   \n",
      "3             20          0     0               0       0    0   \n",
      "4              0         15     0               0       0    0   \n",
      "...          ...        ...   ...             ...     ...  ...   \n",
      "22539        794        333     0               0       0    0   \n",
      "22540        317        938     0               0       0    0   \n",
      "22541      54540       8314     0               0       0    2   \n",
      "22542         42         42     0               0       0    0   \n",
      "22543          0          0     0               0       0    0   \n",
      "\n",
      "       num_failed_logins  logged_in  num_compromised  root_shell  ...  \\\n",
      "0                      0          0                0           0  ...   \n",
      "1                      0          0                0           0  ...   \n",
      "2                      0          0                0           0  ...   \n",
      "3                      0          0                0           0  ...   \n",
      "4                      0          0                0           0  ...   \n",
      "...                  ...        ...              ...         ...  ...   \n",
      "22539                  0          1                0           0  ...   \n",
      "22540                  0          1                0           0  ...   \n",
      "22541                  0          1                1           0  ...   \n",
      "22542                  0          0                0           0  ...   \n",
      "22543                  0          0                0           0  ...   \n",
      "\n",
      "       dst_host_diff_srv_rate  dst_host_same_src_port_rate  \\\n",
      "0                        0.06                         0.00   \n",
      "1                        0.06                         0.00   \n",
      "2                        0.04                         0.61   \n",
      "3                        0.00                         1.00   \n",
      "4                        0.17                         0.03   \n",
      "...                       ...                          ...   \n",
      "22539                    0.06                         0.01   \n",
      "22540                    0.00                         0.01   \n",
      "22541                    0.00                         0.00   \n",
      "22542                    0.01                         0.00   \n",
      "22543                    0.03                         0.00   \n",
      "\n",
      "       dst_host_srv_diff_host_rate  dst_host_serror_rate  \\\n",
      "0                             0.00                  0.00   \n",
      "1                             0.00                  0.00   \n",
      "2                             0.02                  0.00   \n",
      "3                             0.28                  0.00   \n",
      "4                             0.02                  0.00   \n",
      "...                            ...                   ...   \n",
      "22539                         0.01                  0.01   \n",
      "22540                         0.01                  0.01   \n",
      "22541                         0.00                  0.00   \n",
      "22542                         0.00                  0.00   \n",
      "22543                         0.00                  0.00   \n",
      "\n",
      "       dst_host_srv_serror_rate  dst_host_rerror_rate  \\\n",
      "0                           0.0                  1.00   \n",
      "1                           0.0                  1.00   \n",
      "2                           0.0                  0.00   \n",
      "3                           0.0                  0.00   \n",
      "4                           0.0                  0.83   \n",
      "...                         ...                   ...   \n",
      "22539                       0.0                  0.00   \n",
      "22540                       0.0                  0.00   \n",
      "22541                       0.0                  0.07   \n",
      "22542                       0.0                  0.00   \n",
      "22543                       0.0                  0.44   \n",
      "\n",
      "       dst_host_srv_rerror_rate  protocol_type   service      flag  \n",
      "0                          1.00       0.494592  0.931123  0.819200  \n",
      "1                          1.00       0.494592  0.931123  0.819200  \n",
      "2                          0.00       0.494592  0.312151  0.187263  \n",
      "3                          0.00       0.849796  0.892120  0.187263  \n",
      "4                          0.71       0.494592  0.758482  0.905353  \n",
      "...                         ...            ...       ...       ...  \n",
      "22539                      0.00       0.494592  0.072754  0.187263  \n",
      "22540                      0.00       0.494592  0.071984  0.187263  \n",
      "22541                      0.07       0.494592  0.071984  0.187263  \n",
      "22542                      0.00       0.193255  0.001107  0.187263  \n",
      "22543                      1.00       0.494592  1.000000  0.819200  \n",
      "\n",
      "[22544 rows x 40 columns]\n",
      "0        1\n",
      "1        1\n",
      "2        0\n",
      "3        1\n",
      "4        1\n",
      "        ..\n",
      "22539    0\n",
      "22540    0\n",
      "22541    1\n",
      "22542    0\n",
      "22543    1\n",
      "Name: label, Length: 22544, dtype: int64\n"
     ]
    }
   ],
   "source": [
    "x2 = test.iloc[:,1:41]\n",
    "y2 = test['label']\n",
    "print(x2)\n",
    "print(y2)"
   ]
  },
  {
   "cell_type": "code",
   "execution_count": 4,
   "id": "c66225d5",
   "metadata": {},
   "outputs": [
    {
     "data": {
      "text/plain": [
       "0    67343\n",
       "1    58630\n",
       "Name: label, dtype: int64"
      ]
     },
     "execution_count": 4,
     "metadata": {},
     "output_type": "execute_result"
    }
   ],
   "source": [
    "train[\"label\"].value_counts()"
   ]
  },
  {
   "cell_type": "code",
   "execution_count": 5,
   "id": "3b31662d",
   "metadata": {},
   "outputs": [
    {
     "data": {
      "image/png": "[encoded data removed]",
      "text/plain": [
       "<Figure size 360x360 with 1 Axes>"
      ]
     },
     "metadata": {
      "needs_background": "light"
     },
     "output_type": "display_data"
    }
   ],
   "source": [
    "from matplotlib import pyplot as plt\n",
    "data1 = {'Intrusion':58630, 'Normal':67343}\n",
    "Class_label = list(data1.keys())\n",
    "Number_of_instances = list(data1.values())\n",
    "  \n",
    "fig = plt.figure(figsize = (5, 5))\n",
    " \n",
    "# creating the bar plot\n",
    "plt.bar(Class_label, Number_of_instances, color ='blue',\n",
    "        width = 0.3)\n",
    "plt.ylim(0, 70000)\n",
    "plt.xlabel(\"Class label\")\n",
    "plt.ylabel(\"Number of instances\")\n",
    "plt.title(\"Number of samples in each class before resampling (NSLKDD Dataset)\")\n",
    "plt.show()"
   ]
  },
  {
   "cell_type": "code",
   "execution_count": 6,
   "id": "d991ac22",
   "metadata": {},
   "outputs": [],
   "source": [
    "# RESAMPLING\n",
    "\n",
    "from imblearn import under_sampling, over_sampling\n",
    "from imblearn.over_sampling import SMOTE\n",
    "sm = SMOTE()\n",
    "x1, y1 = sm.fit_sample(x1, y1) "
   ]
  },
  {
   "cell_type": "code",
   "execution_count": 30,
   "id": "7fd11c0f",
   "metadata": {},
   "outputs": [
    {
     "data": {
      "image/png": "[encoded data removed]",
      "text/plain": [
       "<Figure size 360x360 with 1 Axes>"
      ]
     },
     "metadata": {
      "needs_background": "light"
     },
     "output_type": "display_data"
    }
   ],
   "source": [
    "data2 = {'Intrusion':67343, 'Normal':67343}\n",
    "Class_label = list(data2.keys())\n",
    "Number_of_instances = list(data2.values())\n",
    "  \n",
    "fig = plt.figure(figsize = (5, 5))\n",
    " \n",
    "# creating the bar plot\n",
    "plt.bar(Class_label, Number_of_instances, color ='blue',\n",
    "        width = 0.3)\n",
    "plt.ylim(0, 70000)\n",
    "plt.xlabel(\"Class label\")\n",
    "plt.ylabel(\"Number of instances\")\n",
    "plt.title(\"Number of samples in each class after resampling (NSLKDD Dataset)\")\n",
    "plt.show()"
   ]
  },
  {
   "cell_type": "code",
   "execution_count": 8,
   "id": "75d1b4df",
   "metadata": {},
   "outputs": [],
   "source": [
    "# NORMALIZATION\n",
    "\n",
    "from sklearn.preprocessing import MinMaxScaler\n",
    "model = MinMaxScaler()\n",
    "model.fit(x1)\n",
    "x1 = model.transform(x1)\n",
    "x2 = model.transform(x2)"
   ]
  },
  {
   "cell_type": "code",
   "execution_count": 9,
   "id": "95a511bc",
   "metadata": {},
   "outputs": [
    {
     "name": "stderr",
     "output_type": "stream",
     "text": [
      "C:\\Users\\admin\\anaconda3\\lib\\site-packages\\xgboost\\sklearn.py:1224: UserWarning: The use of label encoder in XGBClassifier is deprecated and will be removed in a future release. To remove this warning, do the following: 1) Pass option use_label_encoder=False when constructing XGBClassifier object; and 2) Encode your labels (y) as integers starting with 0, i.e. 0, 1, 2, ..., [num_class - 1].\n",
      "  warnings.warn(label_encoder_deprecation_msg, UserWarning)\n"
     ]
    },
    {
     "name": "stdout",
     "output_type": "stream",
     "text": [
      "[19:00:26] WARNING: C:/Users/Administrator/workspace/xgboost-win64_release_1.5.1/src/learner.cc:1115: Starting in XGBoost 1.3.0, the default evaluation metric used with the objective 'binary:logistic' was changed from 'error' to 'logloss'. Explicitly set eval_metric if you'd like to restore the old behavior.\n"
     ]
    },
    {
     "data": {
      "text/plain": [
       "XGBClassifier(base_score=0.5, booster='gbtree', colsample_bylevel=1,\n",
       "              colsample_bynode=1, colsample_bytree=0.6,\n",
       "              enable_categorical=False, gamma=0.0, gpu_id=-1,\n",
       "              importance_type=None, interaction_constraints='',\n",
       "              learning_rate=0.1, max_delta_step=0, max_depth=5,\n",
       "              min_child_weight=8, missing=nan, monotone_constraints='()',\n",
       "              n_estimators=381, n_jobs=4, nthread=4, num_parallel_tree=1,\n",
       "              predictor='auto', random_state=27, reg_alpha=0.005, reg_lambda=1,\n",
       "              scale_pos_weight=1, seed=27, subsample=0.9, tree_method='exact',\n",
       "              validate_parameters=1, verbosity=None)"
      ]
     },
     "execution_count": 9,
     "metadata": {},
     "output_type": "execute_result"
    }
   ],
   "source": [
    "# 1. XGBOOST FEATURE SELECTION\n",
    "\n",
    "from xgboost import XGBClassifier\n",
    "import xgboost as xgb\n",
    "params = {\n",
    "             'learning_rate': 0.1,\n",
    "        'n_estimators':381,\n",
    "        'max_depth':5,\n",
    "        'min_child_weight':8,\n",
    "        'gamma':0.0,\n",
    "        'reg_alpha' : 0.005,\n",
    "        'subsample':0.9,\n",
    "        'colsample_bytree':0.6,\n",
    "        'objective': 'binary:logistic',\n",
    "        'nthread':4,\n",
    "        'scale_pos_weight':1,\n",
    "        'seed':27\n",
    "         }\n",
    "xgb_clf = XGBClassifier(**params)\n",
    "xgb_clf.fit(x1, y1)"
   ]
  },
  {
   "cell_type": "code",
   "execution_count": 10,
   "id": "77e8e90f",
   "metadata": {},
   "outputs": [
    {
     "name": "stdout",
     "output_type": "stream",
     "text": [
      "[1 1 0 ... 1 0 1]\n"
     ]
    }
   ],
   "source": [
    "y_pred=xgb_clf.predict(x2)\n",
    "print(y_pred)"
   ]
  },
  {
   "cell_type": "code",
   "execution_count": 11,
   "id": "cb6bcc43",
   "metadata": {},
   "outputs": [
    {
     "name": "stdout",
     "output_type": "stream",
     "text": [
      "Accuracy in XGBoost classifier model before FS =  79.45794889992904\n",
      "Confusion Matrix = [[9442  269]\n",
      " [4362 8471]]\n",
      "Recall = 0.7945794889992903\n",
      "Precision = 0.8463624262928319\n",
      "Classification Report =\n",
      "               precision    recall  f1-score   support\n",
      "\n",
      "           0       0.68      0.97      0.80      9711\n",
      "           1       0.97      0.66      0.79     12833\n",
      "\n",
      "    accuracy                           0.79     22544\n",
      "   macro avg       0.83      0.82      0.79     22544\n",
      "weighted avg       0.85      0.79      0.79     22544\n",
      "\n",
      "F1 Score =  0.7941976970744857\n"
     ]
    }
   ],
   "source": [
    "from sklearn import metrics\n",
    "from sklearn.metrics import f1_score\n",
    "\n",
    "print('Accuracy in XGBoost classifier model before FS = ', metrics.accuracy_score(y2, y_pred)*100)\n",
    "print(\"Confusion Matrix =\", metrics.confusion_matrix(y2, y_pred, labels=None, \n",
    "                                              sample_weight=None))\n",
    "print(\"Recall =\", metrics.recall_score(y2, y_pred, labels=None, \n",
    "                                             pos_label=1, average='weighted', \n",
    "                                             sample_weight=None))\n",
    "print(\"Precision =\", metrics.precision_score(y2, y_pred, labels=None, \n",
    "                                             pos_label=1, average='weighted', \n",
    "                                             sample_weight=None))\n",
    "print(\"Classification Report =\\n\", metrics.classification_report(y2, y_pred, \n",
    "                                                                 labels=None, \n",
    "                                                                 target_names=None, \n",
    "                                                                 sample_weight=None, \n",
    "                                                                 digits=2, \n",
    "                                                                 output_dict=False))\n",
    "print(\"F1 Score = \",f1_score(y2, y_pred, average='macro'))"
   ]
  },
  {
   "cell_type": "code",
   "execution_count": 12,
   "id": "70b90402",
   "metadata": {},
   "outputs": [
    {
     "data": {
      "text/plain": [
       "['duration', 'src_bytes', 'dst_bytes', 'land']"
      ]
     },
     "execution_count": 12,
     "metadata": {},
     "output_type": "execute_result"
    }
   ],
   "source": [
    "abc1 = list(train.columns[0:4])\n",
    "abc1"
   ]
  },
  {
   "cell_type": "code",
   "execution_count": 13,
   "id": "ad6e3f99",
   "metadata": {},
   "outputs": [
    {
     "data": {
      "text/plain": [
       "['urgent',\n",
       " 'hot',\n",
       " 'num_failed_logins',\n",
       " 'logged_in',\n",
       " 'num_compromised',\n",
       " 'root_shell',\n",
       " 'su_attempted',\n",
       " 'num_root',\n",
       " 'num_file_creations',\n",
       " 'num_shells',\n",
       " 'num_access_files',\n",
       " 'num_outbound_cmds',\n",
       " 'is_host_login',\n",
       " 'is_guest_login',\n",
       " 'count',\n",
       " 'srv_count',\n",
       " 'serror_rate',\n",
       " 'srv_serror_rate',\n",
       " 'rerror_rate',\n",
       " 'srv_rerror_rate',\n",
       " 'same_srv_rate',\n",
       " 'diff_srv_rate',\n",
       " 'srv_diff_host_rate',\n",
       " 'dst_host_count',\n",
       " 'dst_host_srv_count',\n",
       " 'dst_host_same_srv_rate',\n",
       " 'dst_host_diff_srv_rate',\n",
       " 'dst_host_same_src_port_rate',\n",
       " 'dst_host_srv_diff_host_rate',\n",
       " 'dst_host_serror_rate',\n",
       " 'dst_host_srv_serror_rate',\n",
       " 'dst_host_rerror_rate',\n",
       " 'dst_host_srv_rerror_rate',\n",
       " 'protocol_type',\n",
       " 'service',\n",
       " 'flag']"
      ]
     },
     "execution_count": 13,
     "metadata": {},
     "output_type": "execute_result"
    }
   ],
   "source": [
    "abc2 = list(train.columns[5:41])\n",
    "abc2"
   ]
  },
  {
   "cell_type": "code",
   "execution_count": 14,
   "id": "afb3488a",
   "metadata": {},
   "outputs": [
    {
     "data": {
      "text/plain": [
       "['duration',\n",
       " 'src_bytes',\n",
       " 'dst_bytes',\n",
       " 'land',\n",
       " 'urgent',\n",
       " 'hot',\n",
       " 'num_failed_logins',\n",
       " 'logged_in',\n",
       " 'num_compromised',\n",
       " 'root_shell',\n",
       " 'su_attempted',\n",
       " 'num_root',\n",
       " 'num_file_creations',\n",
       " 'num_shells',\n",
       " 'num_access_files',\n",
       " 'num_outbound_cmds',\n",
       " 'is_host_login',\n",
       " 'is_guest_login',\n",
       " 'count',\n",
       " 'srv_count',\n",
       " 'serror_rate',\n",
       " 'srv_serror_rate',\n",
       " 'rerror_rate',\n",
       " 'srv_rerror_rate',\n",
       " 'same_srv_rate',\n",
       " 'diff_srv_rate',\n",
       " 'srv_diff_host_rate',\n",
       " 'dst_host_count',\n",
       " 'dst_host_srv_count',\n",
       " 'dst_host_same_srv_rate',\n",
       " 'dst_host_diff_srv_rate',\n",
       " 'dst_host_same_src_port_rate',\n",
       " 'dst_host_srv_diff_host_rate',\n",
       " 'dst_host_serror_rate',\n",
       " 'dst_host_srv_serror_rate',\n",
       " 'dst_host_rerror_rate',\n",
       " 'dst_host_srv_rerror_rate',\n",
       " 'protocol_type',\n",
       " 'service',\n",
       " 'flag']"
      ]
     },
     "execution_count": 14,
     "metadata": {},
     "output_type": "execute_result"
    }
   ],
   "source": [
    "abc3 = abc1 + abc2\n",
    "abc3"
   ]
  },
  {
   "cell_type": "code",
   "execution_count": 15,
   "id": "503f02e9",
   "metadata": {},
   "outputs": [],
   "source": [
    "xgb_clf.get_booster().feature_names = abc3"
   ]
  },
  {
   "cell_type": "code",
   "execution_count": 16,
   "id": "4b61150b",
   "metadata": {},
   "outputs": [
    {
     "ename": "ValueError",
     "evalue": "The number of FixedLocator locations (33), usually from a call to set_ticks, does not match the number of ticklabels (40).",
     "output_type": "error",
     "traceback": [
      "\u001b[1;31m---------------------------------------------------------------------------\u001b[0m",
      "\u001b[1;31mValueError\u001b[0m                                Traceback (most recent call last)",
      "\u001b[1;32m<ipython-input-16-bc76986987bb>\u001b[0m in \u001b[0;36m<module>\u001b[1;34m\u001b[0m\n\u001b[0;32m      2\u001b[0m \u001b[0mfigsize\u001b[0m\u001b[1;33m(\u001b[0m\u001b[1;36m14\u001b[0m\u001b[1;33m,\u001b[0m \u001b[1;36m9\u001b[0m\u001b[1;33m)\u001b[0m\u001b[1;33m\u001b[0m\u001b[1;33m\u001b[0m\u001b[0m\n\u001b[0;32m      3\u001b[0m \u001b[1;32mimport\u001b[0m \u001b[0mmatplotlib\u001b[0m\u001b[1;33m.\u001b[0m\u001b[0mpyplot\u001b[0m \u001b[1;32mas\u001b[0m \u001b[0mplt\u001b[0m\u001b[1;33m\u001b[0m\u001b[1;33m\u001b[0m\u001b[0m\n\u001b[1;32m----> 4\u001b[1;33m \u001b[0mxgb\u001b[0m\u001b[1;33m.\u001b[0m\u001b[0mplot_importance\u001b[0m\u001b[1;33m(\u001b[0m\u001b[0mxgb_clf\u001b[0m\u001b[1;33m)\u001b[0m\u001b[1;33m.\u001b[0m\u001b[0mset_yticklabels\u001b[0m\u001b[1;33m(\u001b[0m\u001b[0mabc3\u001b[0m\u001b[1;33m)\u001b[0m\u001b[1;33m\u001b[0m\u001b[1;33m\u001b[0m\u001b[0m\n\u001b[0m",
      "\u001b[1;32m~\\anaconda3\\lib\\site-packages\\matplotlib\\axes\\_base.py\u001b[0m in \u001b[0;36mwrapper\u001b[1;34m(self, *args, **kwargs)\u001b[0m\n\u001b[0;32m     61\u001b[0m \u001b[1;33m\u001b[0m\u001b[0m\n\u001b[0;32m     62\u001b[0m         \u001b[1;32mdef\u001b[0m \u001b[0mwrapper\u001b[0m\u001b[1;33m(\u001b[0m\u001b[0mself\u001b[0m\u001b[1;33m,\u001b[0m \u001b[1;33m*\u001b[0m\u001b[0margs\u001b[0m\u001b[1;33m,\u001b[0m \u001b[1;33m**\u001b[0m\u001b[0mkwargs\u001b[0m\u001b[1;33m)\u001b[0m\u001b[1;33m:\u001b[0m\u001b[1;33m\u001b[0m\u001b[1;33m\u001b[0m\u001b[0m\n\u001b[1;32m---> 63\u001b[1;33m             \u001b[1;32mreturn\u001b[0m \u001b[0mget_method\u001b[0m\u001b[1;33m(\u001b[0m\u001b[0mself\u001b[0m\u001b[1;33m)\u001b[0m\u001b[1;33m(\u001b[0m\u001b[1;33m*\u001b[0m\u001b[0margs\u001b[0m\u001b[1;33m,\u001b[0m \u001b[1;33m**\u001b[0m\u001b[0mkwargs\u001b[0m\u001b[1;33m)\u001b[0m\u001b[1;33m\u001b[0m\u001b[1;33m\u001b[0m\u001b[0m\n\u001b[0m\u001b[0;32m     64\u001b[0m \u001b[1;33m\u001b[0m\u001b[0m\n\u001b[0;32m     65\u001b[0m         \u001b[0mwrapper\u001b[0m\u001b[1;33m.\u001b[0m\u001b[0m__module__\u001b[0m \u001b[1;33m=\u001b[0m \u001b[0mowner\u001b[0m\u001b[1;33m.\u001b[0m\u001b[0m__module__\u001b[0m\u001b[1;33m\u001b[0m\u001b[1;33m\u001b[0m\u001b[0m\n",
      "\u001b[1;32m~\\anaconda3\\lib\\site-packages\\matplotlib\\cbook\\deprecation.py\u001b[0m in \u001b[0;36mwrapper\u001b[1;34m(*args, **kwargs)\u001b[0m\n\u001b[0;32m    449\u001b[0m                 \u001b[1;34m\"parameter will become keyword-only %(removal)s.\"\u001b[0m\u001b[1;33m,\u001b[0m\u001b[1;33m\u001b[0m\u001b[1;33m\u001b[0m\u001b[0m\n\u001b[0;32m    450\u001b[0m                 name=name, obj_type=f\"parameter of {func.__name__}()\")\n\u001b[1;32m--> 451\u001b[1;33m         \u001b[1;32mreturn\u001b[0m \u001b[0mfunc\u001b[0m\u001b[1;33m(\u001b[0m\u001b[1;33m*\u001b[0m\u001b[0margs\u001b[0m\u001b[1;33m,\u001b[0m \u001b[1;33m**\u001b[0m\u001b[0mkwargs\u001b[0m\u001b[1;33m)\u001b[0m\u001b[1;33m\u001b[0m\u001b[1;33m\u001b[0m\u001b[0m\n\u001b[0m\u001b[0;32m    452\u001b[0m \u001b[1;33m\u001b[0m\u001b[0m\n\u001b[0;32m    453\u001b[0m     \u001b[1;32mreturn\u001b[0m \u001b[0mwrapper\u001b[0m\u001b[1;33m\u001b[0m\u001b[1;33m\u001b[0m\u001b[0m\n",
      "\u001b[1;32m~\\anaconda3\\lib\\site-packages\\matplotlib\\axis.py\u001b[0m in \u001b[0;36m_set_ticklabels\u001b[1;34m(self, labels, fontdict, minor, **kwargs)\u001b[0m\n\u001b[0;32m   1794\u001b[0m         \u001b[1;32mif\u001b[0m \u001b[0mfontdict\u001b[0m \u001b[1;32mis\u001b[0m \u001b[1;32mnot\u001b[0m \u001b[1;32mNone\u001b[0m\u001b[1;33m:\u001b[0m\u001b[1;33m\u001b[0m\u001b[1;33m\u001b[0m\u001b[0m\n\u001b[0;32m   1795\u001b[0m             \u001b[0mkwargs\u001b[0m\u001b[1;33m.\u001b[0m\u001b[0mupdate\u001b[0m\u001b[1;33m(\u001b[0m\u001b[0mfontdict\u001b[0m\u001b[1;33m)\u001b[0m\u001b[1;33m\u001b[0m\u001b[1;33m\u001b[0m\u001b[0m\n\u001b[1;32m-> 1796\u001b[1;33m         \u001b[1;32mreturn\u001b[0m \u001b[0mself\u001b[0m\u001b[1;33m.\u001b[0m\u001b[0mset_ticklabels\u001b[0m\u001b[1;33m(\u001b[0m\u001b[0mlabels\u001b[0m\u001b[1;33m,\u001b[0m \u001b[0mminor\u001b[0m\u001b[1;33m=\u001b[0m\u001b[0mminor\u001b[0m\u001b[1;33m,\u001b[0m \u001b[1;33m**\u001b[0m\u001b[0mkwargs\u001b[0m\u001b[1;33m)\u001b[0m\u001b[1;33m\u001b[0m\u001b[1;33m\u001b[0m\u001b[0m\n\u001b[0m\u001b[0;32m   1797\u001b[0m \u001b[1;33m\u001b[0m\u001b[0m\n\u001b[0;32m   1798\u001b[0m     \u001b[1;33m@\u001b[0m\u001b[0mcbook\u001b[0m\u001b[1;33m.\u001b[0m\u001b[0m_make_keyword_only\u001b[0m\u001b[1;33m(\u001b[0m\u001b[1;34m\"3.2\"\u001b[0m\u001b[1;33m,\u001b[0m \u001b[1;34m\"minor\"\u001b[0m\u001b[1;33m)\u001b[0m\u001b[1;33m\u001b[0m\u001b[1;33m\u001b[0m\u001b[0m\n",
      "\u001b[1;32m~\\anaconda3\\lib\\site-packages\\matplotlib\\axis.py\u001b[0m in \u001b[0;36mset_ticklabels\u001b[1;34m(self, ticklabels, minor, **kwargs)\u001b[0m\n\u001b[0;32m   1715\u001b[0m             \u001b[1;31m# remove all tick labels, so only error for > 0 ticklabels\u001b[0m\u001b[1;33m\u001b[0m\u001b[1;33m\u001b[0m\u001b[1;33m\u001b[0m\u001b[0m\n\u001b[0;32m   1716\u001b[0m             \u001b[1;32mif\u001b[0m \u001b[0mlen\u001b[0m\u001b[1;33m(\u001b[0m\u001b[0mlocator\u001b[0m\u001b[1;33m.\u001b[0m\u001b[0mlocs\u001b[0m\u001b[1;33m)\u001b[0m \u001b[1;33m!=\u001b[0m \u001b[0mlen\u001b[0m\u001b[1;33m(\u001b[0m\u001b[0mticklabels\u001b[0m\u001b[1;33m)\u001b[0m \u001b[1;32mand\u001b[0m \u001b[0mlen\u001b[0m\u001b[1;33m(\u001b[0m\u001b[0mticklabels\u001b[0m\u001b[1;33m)\u001b[0m \u001b[1;33m!=\u001b[0m \u001b[1;36m0\u001b[0m\u001b[1;33m:\u001b[0m\u001b[1;33m\u001b[0m\u001b[1;33m\u001b[0m\u001b[0m\n\u001b[1;32m-> 1717\u001b[1;33m                 raise ValueError(\n\u001b[0m\u001b[0;32m   1718\u001b[0m                     \u001b[1;34m\"The number of FixedLocator locations\"\u001b[0m\u001b[1;33m\u001b[0m\u001b[1;33m\u001b[0m\u001b[0m\n\u001b[0;32m   1719\u001b[0m                     \u001b[1;34mf\" ({len(locator.locs)}), usually from a call to\"\u001b[0m\u001b[1;33m\u001b[0m\u001b[1;33m\u001b[0m\u001b[0m\n",
      "\u001b[1;31mValueError\u001b[0m: The number of FixedLocator locations (33), usually from a call to set_ticks, does not match the number of ticklabels (40)."
     ]
    },
    {
     "data": {
      "image/png": "[encoded data removed]",
      "text/plain": [
       "<Figure size 1008x648 with 1 Axes>"
      ]
     },
     "metadata": {
      "needs_background": "light"
     },
     "output_type": "display_data"
    }
   ],
   "source": [
    "from IPython.core.pylabtools import figsize\n",
    "figsize(14, 9)\n",
    "import matplotlib.pyplot as plt\n",
    "xgb.plot_importance(xgb_clf).set_yticklabels(abc3)\n"
   ]
  },
  {
   "cell_type": "code",
   "execution_count": 17,
   "id": "7484fd05",
   "metadata": {},
   "outputs": [
    {
     "data": {
      "text/plain": [
       "duration                       818.0\n",
       "src_bytes                      370.0\n",
       "service                        313.0\n",
       "dst_host_srv_count             280.0\n",
       "dst_host_diff_srv_rate         276.0\n",
       "dst_host_count                 267.0\n",
       "dst_host_same_srv_rate         245.0\n",
       "dst_host_same_src_port_rate    237.0\n",
       "dst_host_rerror_rate           196.0\n",
       "dst_host_srv_diff_host_rate    153.0\n",
       "count                          147.0\n",
       "hot                            123.0\n",
       "dst_host_serror_rate           122.0\n",
       "srv_count                      113.0\n",
       "protocol_type                  110.0\n",
       "dst_host_srv_serror_rate        90.0\n",
       "flag                            84.0\n",
       "dst_host_srv_rerror_rate        81.0\n",
       "logged_in                       58.0\n",
       "diff_srv_rate                   56.0\n",
       "same_srv_rate                   40.0\n",
       "rerror_rate                     29.0\n",
       "serror_rate                     29.0\n",
       "num_file_creations              28.0\n",
       "srv_serror_rate                 17.0\n",
       "is_guest_login                  15.0\n",
       "srv_diff_host_rate              12.0\n",
       "num_compromised                 10.0\n",
       "srv_rerror_rate                 10.0\n",
       "num_root                         7.0\n",
       "root_shell                       6.0\n",
       "num_failed_logins                3.0\n",
       "land                             1.0\n",
       "dtype: float64"
      ]
     },
     "execution_count": 17,
     "metadata": {},
     "output_type": "execute_result"
    }
   ],
   "source": [
    "pd.Series(xgb_clf.get_booster().get_fscore()).sort_values(ascending=False)"
   ]
  },
  {
   "cell_type": "code",
   "execution_count": 18,
   "id": "25938980",
   "metadata": {},
   "outputs": [
    {
     "name": "stdout",
     "output_type": "stream",
     "text": [
      "[0.         0.         0.         0.         0.         0.\n",
      " 0.         0.00197093 0.00255039 0.00257206 0.00293953 0.00313528\n",
      " 0.00384515 0.00398264 0.00528151 0.00549247 0.00565206 0.00577297\n",
      " 0.00591819 0.00651832 0.00664822 0.00893929 0.01113858 0.01172895\n",
      " 0.01251084 0.01391875 0.01617652 0.02265299 0.02325589 0.02379557\n",
      " 0.02835167 0.0339696  0.0369223  0.03920159 0.04344051 0.0631948\n",
      " 0.06501263 0.08771387 0.18096845 0.21482748]\n"
     ]
    }
   ],
   "source": [
    "from numpy import sort\n",
    "from sklearn.feature_selection import SelectFromModel\n",
    "thresholds = sort(xgb_clf.feature_importances_)\n",
    "print(thresholds)"
   ]
  },
  {
   "cell_type": "code",
   "execution_count": 19,
   "id": "dde4d330",
   "metadata": {},
   "outputs": [
    {
     "name": "stderr",
     "output_type": "stream",
     "text": [
      "C:\\Users\\admin\\anaconda3\\lib\\site-packages\\xgboost\\sklearn.py:1224: UserWarning: The use of label encoder in XGBClassifier is deprecated and will be removed in a future release. To remove this warning, do the following: 1) Pass option use_label_encoder=False when constructing XGBClassifier object; and 2) Encode your labels (y) as integers starting with 0, i.e. 0, 1, 2, ..., [num_class - 1].\n",
      "  warnings.warn(label_encoder_deprecation_msg, UserWarning)\n"
     ]
    },
    {
     "name": "stdout",
     "output_type": "stream",
     "text": [
      "[19:54:12] WARNING: C:/Users/Administrator/workspace/xgboost-win64_release_1.5.1/src/learner.cc:1115: Starting in XGBoost 1.3.0, the default evaluation metric used with the objective 'binary:logistic' was changed from 'error' to 'logloss'. Explicitly set eval_metric if you'd like to restore the old behavior.\n",
      "Thresh=0.000, n=40, Accuracy: 79.46%\n"
     ]
    },
    {
     "name": "stderr",
     "output_type": "stream",
     "text": [
      "C:\\Users\\admin\\anaconda3\\lib\\site-packages\\xgboost\\sklearn.py:1224: UserWarning: The use of label encoder in XGBClassifier is deprecated and will be removed in a future release. To remove this warning, do the following: 1) Pass option use_label_encoder=False when constructing XGBClassifier object; and 2) Encode your labels (y) as integers starting with 0, i.e. 0, 1, 2, ..., [num_class - 1].\n",
      "  warnings.warn(label_encoder_deprecation_msg, UserWarning)\n"
     ]
    },
    {
     "name": "stdout",
     "output_type": "stream",
     "text": [
      "[19:55:15] WARNING: C:/Users/Administrator/workspace/xgboost-win64_release_1.5.1/src/learner.cc:1115: Starting in XGBoost 1.3.0, the default evaluation metric used with the objective 'binary:logistic' was changed from 'error' to 'logloss'. Explicitly set eval_metric if you'd like to restore the old behavior.\n",
      "Thresh=0.000, n=40, Accuracy: 79.46%\n"
     ]
    },
    {
     "name": "stderr",
     "output_type": "stream",
     "text": [
      "C:\\Users\\admin\\anaconda3\\lib\\site-packages\\xgboost\\sklearn.py:1224: UserWarning: The use of label encoder in XGBClassifier is deprecated and will be removed in a future release. To remove this warning, do the following: 1) Pass option use_label_encoder=False when constructing XGBClassifier object; and 2) Encode your labels (y) as integers starting with 0, i.e. 0, 1, 2, ..., [num_class - 1].\n",
      "  warnings.warn(label_encoder_deprecation_msg, UserWarning)\n"
     ]
    },
    {
     "name": "stdout",
     "output_type": "stream",
     "text": [
      "[19:56:06] WARNING: C:/Users/Administrator/workspace/xgboost-win64_release_1.5.1/src/learner.cc:1115: Starting in XGBoost 1.3.0, the default evaluation metric used with the objective 'binary:logistic' was changed from 'error' to 'logloss'. Explicitly set eval_metric if you'd like to restore the old behavior.\n",
      "Thresh=0.000, n=40, Accuracy: 79.46%\n"
     ]
    },
    {
     "name": "stderr",
     "output_type": "stream",
     "text": [
      "C:\\Users\\admin\\anaconda3\\lib\\site-packages\\xgboost\\sklearn.py:1224: UserWarning: The use of label encoder in XGBClassifier is deprecated and will be removed in a future release. To remove this warning, do the following: 1) Pass option use_label_encoder=False when constructing XGBClassifier object; and 2) Encode your labels (y) as integers starting with 0, i.e. 0, 1, 2, ..., [num_class - 1].\n",
      "  warnings.warn(label_encoder_deprecation_msg, UserWarning)\n"
     ]
    },
    {
     "name": "stdout",
     "output_type": "stream",
     "text": [
      "[19:57:16] WARNING: C:/Users/Administrator/workspace/xgboost-win64_release_1.5.1/src/learner.cc:1115: Starting in XGBoost 1.3.0, the default evaluation metric used with the objective 'binary:logistic' was changed from 'error' to 'logloss'. Explicitly set eval_metric if you'd like to restore the old behavior.\n",
      "Thresh=0.000, n=40, Accuracy: 79.46%\n"
     ]
    },
    {
     "name": "stderr",
     "output_type": "stream",
     "text": [
      "C:\\Users\\admin\\anaconda3\\lib\\site-packages\\xgboost\\sklearn.py:1224: UserWarning: The use of label encoder in XGBClassifier is deprecated and will be removed in a future release. To remove this warning, do the following: 1) Pass option use_label_encoder=False when constructing XGBClassifier object; and 2) Encode your labels (y) as integers starting with 0, i.e. 0, 1, 2, ..., [num_class - 1].\n",
      "  warnings.warn(label_encoder_deprecation_msg, UserWarning)\n"
     ]
    },
    {
     "name": "stdout",
     "output_type": "stream",
     "text": [
      "[19:58:11] WARNING: C:/Users/Administrator/workspace/xgboost-win64_release_1.5.1/src/learner.cc:1115: Starting in XGBoost 1.3.0, the default evaluation metric used with the objective 'binary:logistic' was changed from 'error' to 'logloss'. Explicitly set eval_metric if you'd like to restore the old behavior.\n",
      "Thresh=0.000, n=40, Accuracy: 79.46%\n"
     ]
    },
    {
     "name": "stderr",
     "output_type": "stream",
     "text": [
      "C:\\Users\\admin\\anaconda3\\lib\\site-packages\\xgboost\\sklearn.py:1224: UserWarning: The use of label encoder in XGBClassifier is deprecated and will be removed in a future release. To remove this warning, do the following: 1) Pass option use_label_encoder=False when constructing XGBClassifier object; and 2) Encode your labels (y) as integers starting with 0, i.e. 0, 1, 2, ..., [num_class - 1].\n",
      "  warnings.warn(label_encoder_deprecation_msg, UserWarning)\n"
     ]
    },
    {
     "name": "stdout",
     "output_type": "stream",
     "text": [
      "[19:59:00] WARNING: C:/Users/Administrator/workspace/xgboost-win64_release_1.5.1/src/learner.cc:1115: Starting in XGBoost 1.3.0, the default evaluation metric used with the objective 'binary:logistic' was changed from 'error' to 'logloss'. Explicitly set eval_metric if you'd like to restore the old behavior.\n",
      "Thresh=0.000, n=40, Accuracy: 79.46%\n"
     ]
    },
    {
     "name": "stderr",
     "output_type": "stream",
     "text": [
      "C:\\Users\\admin\\anaconda3\\lib\\site-packages\\xgboost\\sklearn.py:1224: UserWarning: The use of label encoder in XGBClassifier is deprecated and will be removed in a future release. To remove this warning, do the following: 1) Pass option use_label_encoder=False when constructing XGBClassifier object; and 2) Encode your labels (y) as integers starting with 0, i.e. 0, 1, 2, ..., [num_class - 1].\n",
      "  warnings.warn(label_encoder_deprecation_msg, UserWarning)\n"
     ]
    },
    {
     "name": "stdout",
     "output_type": "stream",
     "text": [
      "[19:59:51] WARNING: C:/Users/Administrator/workspace/xgboost-win64_release_1.5.1/src/learner.cc:1115: Starting in XGBoost 1.3.0, the default evaluation metric used with the objective 'binary:logistic' was changed from 'error' to 'logloss'. Explicitly set eval_metric if you'd like to restore the old behavior.\n",
      "Thresh=0.000, n=40, Accuracy: 79.46%\n"
     ]
    },
    {
     "name": "stderr",
     "output_type": "stream",
     "text": [
      "C:\\Users\\admin\\anaconda3\\lib\\site-packages\\xgboost\\sklearn.py:1224: UserWarning: The use of label encoder in XGBClassifier is deprecated and will be removed in a future release. To remove this warning, do the following: 1) Pass option use_label_encoder=False when constructing XGBClassifier object; and 2) Encode your labels (y) as integers starting with 0, i.e. 0, 1, 2, ..., [num_class - 1].\n",
      "  warnings.warn(label_encoder_deprecation_msg, UserWarning)\n"
     ]
    },
    {
     "name": "stdout",
     "output_type": "stream",
     "text": [
      "[20:00:40] WARNING: C:/Users/Administrator/workspace/xgboost-win64_release_1.5.1/src/learner.cc:1115: Starting in XGBoost 1.3.0, the default evaluation metric used with the objective 'binary:logistic' was changed from 'error' to 'logloss'. Explicitly set eval_metric if you'd like to restore the old behavior.\n",
      "Thresh=0.000, n=33, Accuracy: 80.14%\n"
     ]
    },
    {
     "name": "stderr",
     "output_type": "stream",
     "text": [
      "C:\\Users\\admin\\anaconda3\\lib\\site-packages\\xgboost\\sklearn.py:1224: UserWarning: The use of label encoder in XGBClassifier is deprecated and will be removed in a future release. To remove this warning, do the following: 1) Pass option use_label_encoder=False when constructing XGBClassifier object; and 2) Encode your labels (y) as integers starting with 0, i.e. 0, 1, 2, ..., [num_class - 1].\n",
      "  warnings.warn(label_encoder_deprecation_msg, UserWarning)\n"
     ]
    },
    {
     "name": "stdout",
     "output_type": "stream",
     "text": [
      "[20:01:24] WARNING: C:/Users/Administrator/workspace/xgboost-win64_release_1.5.1/src/learner.cc:1115: Starting in XGBoost 1.3.0, the default evaluation metric used with the objective 'binary:logistic' was changed from 'error' to 'logloss'. Explicitly set eval_metric if you'd like to restore the old behavior.\n",
      "Thresh=0.002, n=32, Accuracy: 79.14%\n"
     ]
    },
    {
     "name": "stderr",
     "output_type": "stream",
     "text": [
      "C:\\Users\\admin\\anaconda3\\lib\\site-packages\\xgboost\\sklearn.py:1224: UserWarning: The use of label encoder in XGBClassifier is deprecated and will be removed in a future release. To remove this warning, do the following: 1) Pass option use_label_encoder=False when constructing XGBClassifier object; and 2) Encode your labels (y) as integers starting with 0, i.e. 0, 1, 2, ..., [num_class - 1].\n",
      "  warnings.warn(label_encoder_deprecation_msg, UserWarning)\n"
     ]
    },
    {
     "name": "stdout",
     "output_type": "stream",
     "text": [
      "[20:02:10] WARNING: C:/Users/Administrator/workspace/xgboost-win64_release_1.5.1/src/learner.cc:1115: Starting in XGBoost 1.3.0, the default evaluation metric used with the objective 'binary:logistic' was changed from 'error' to 'logloss'. Explicitly set eval_metric if you'd like to restore the old behavior.\n",
      "Thresh=0.002, n=31, Accuracy: 79.58%\n"
     ]
    },
    {
     "name": "stderr",
     "output_type": "stream",
     "text": [
      "C:\\Users\\admin\\anaconda3\\lib\\site-packages\\xgboost\\sklearn.py:1224: UserWarning: The use of label encoder in XGBClassifier is deprecated and will be removed in a future release. To remove this warning, do the following: 1) Pass option use_label_encoder=False when constructing XGBClassifier object; and 2) Encode your labels (y) as integers starting with 0, i.e. 0, 1, 2, ..., [num_class - 1].\n",
      "  warnings.warn(label_encoder_deprecation_msg, UserWarning)\n"
     ]
    },
    {
     "name": "stdout",
     "output_type": "stream",
     "text": [
      "[20:02:52] WARNING: C:/Users/Administrator/workspace/xgboost-win64_release_1.5.1/src/learner.cc:1115: Starting in XGBoost 1.3.0, the default evaluation metric used with the objective 'binary:logistic' was changed from 'error' to 'logloss'. Explicitly set eval_metric if you'd like to restore the old behavior.\n",
      "Thresh=0.002, n=30, Accuracy: 79.47%\n"
     ]
    },
    {
     "name": "stderr",
     "output_type": "stream",
     "text": [
      "C:\\Users\\admin\\anaconda3\\lib\\site-packages\\xgboost\\sklearn.py:1224: UserWarning: The use of label encoder in XGBClassifier is deprecated and will be removed in a future release. To remove this warning, do the following: 1) Pass option use_label_encoder=False when constructing XGBClassifier object; and 2) Encode your labels (y) as integers starting with 0, i.e. 0, 1, 2, ..., [num_class - 1].\n",
      "  warnings.warn(label_encoder_deprecation_msg, UserWarning)\n"
     ]
    },
    {
     "name": "stdout",
     "output_type": "stream",
     "text": [
      "[20:03:38] WARNING: C:/Users/Administrator/workspace/xgboost-win64_release_1.5.1/src/learner.cc:1115: Starting in XGBoost 1.3.0, the default evaluation metric used with the objective 'binary:logistic' was changed from 'error' to 'logloss'. Explicitly set eval_metric if you'd like to restore the old behavior.\n",
      "Thresh=0.002, n=29, Accuracy: 80.23%\n"
     ]
    },
    {
     "name": "stderr",
     "output_type": "stream",
     "text": [
      "C:\\Users\\admin\\anaconda3\\lib\\site-packages\\xgboost\\sklearn.py:1224: UserWarning: The use of label encoder in XGBClassifier is deprecated and will be removed in a future release. To remove this warning, do the following: 1) Pass option use_label_encoder=False when constructing XGBClassifier object; and 2) Encode your labels (y) as integers starting with 0, i.e. 0, 1, 2, ..., [num_class - 1].\n",
      "  warnings.warn(label_encoder_deprecation_msg, UserWarning)\n"
     ]
    },
    {
     "name": "stdout",
     "output_type": "stream",
     "text": [
      "[20:04:24] WARNING: C:/Users/Administrator/workspace/xgboost-win64_release_1.5.1/src/learner.cc:1115: Starting in XGBoost 1.3.0, the default evaluation metric used with the objective 'binary:logistic' was changed from 'error' to 'logloss'. Explicitly set eval_metric if you'd like to restore the old behavior.\n",
      "Thresh=0.003, n=28, Accuracy: 80.12%\n"
     ]
    },
    {
     "name": "stderr",
     "output_type": "stream",
     "text": [
      "C:\\Users\\admin\\anaconda3\\lib\\site-packages\\xgboost\\sklearn.py:1224: UserWarning: The use of label encoder in XGBClassifier is deprecated and will be removed in a future release. To remove this warning, do the following: 1) Pass option use_label_encoder=False when constructing XGBClassifier object; and 2) Encode your labels (y) as integers starting with 0, i.e. 0, 1, 2, ..., [num_class - 1].\n",
      "  warnings.warn(label_encoder_deprecation_msg, UserWarning)\n"
     ]
    },
    {
     "name": "stdout",
     "output_type": "stream",
     "text": [
      "[20:05:06] WARNING: C:/Users/Administrator/workspace/xgboost-win64_release_1.5.1/src/learner.cc:1115: Starting in XGBoost 1.3.0, the default evaluation metric used with the objective 'binary:logistic' was changed from 'error' to 'logloss'. Explicitly set eval_metric if you'd like to restore the old behavior.\n",
      "Thresh=0.003, n=27, Accuracy: 79.50%\n"
     ]
    },
    {
     "name": "stderr",
     "output_type": "stream",
     "text": [
      "C:\\Users\\admin\\anaconda3\\lib\\site-packages\\xgboost\\sklearn.py:1224: UserWarning: The use of label encoder in XGBClassifier is deprecated and will be removed in a future release. To remove this warning, do the following: 1) Pass option use_label_encoder=False when constructing XGBClassifier object; and 2) Encode your labels (y) as integers starting with 0, i.e. 0, 1, 2, ..., [num_class - 1].\n",
      "  warnings.warn(label_encoder_deprecation_msg, UserWarning)\n"
     ]
    },
    {
     "name": "stdout",
     "output_type": "stream",
     "text": [
      "[20:05:46] WARNING: C:/Users/Administrator/workspace/xgboost-win64_release_1.5.1/src/learner.cc:1115: Starting in XGBoost 1.3.0, the default evaluation metric used with the objective 'binary:logistic' was changed from 'error' to 'logloss'. Explicitly set eval_metric if you'd like to restore the old behavior.\n",
      "Thresh=0.003, n=26, Accuracy: 80.31%\n"
     ]
    },
    {
     "name": "stderr",
     "output_type": "stream",
     "text": [
      "C:\\Users\\admin\\anaconda3\\lib\\site-packages\\xgboost\\sklearn.py:1224: UserWarning: The use of label encoder in XGBClassifier is deprecated and will be removed in a future release. To remove this warning, do the following: 1) Pass option use_label_encoder=False when constructing XGBClassifier object; and 2) Encode your labels (y) as integers starting with 0, i.e. 0, 1, 2, ..., [num_class - 1].\n",
      "  warnings.warn(label_encoder_deprecation_msg, UserWarning)\n"
     ]
    },
    {
     "name": "stdout",
     "output_type": "stream",
     "text": [
      "[20:06:25] WARNING: C:/Users/Administrator/workspace/xgboost-win64_release_1.5.1/src/learner.cc:1115: Starting in XGBoost 1.3.0, the default evaluation metric used with the objective 'binary:logistic' was changed from 'error' to 'logloss'. Explicitly set eval_metric if you'd like to restore the old behavior.\n",
      "Thresh=0.005, n=25, Accuracy: 79.71%\n"
     ]
    },
    {
     "name": "stderr",
     "output_type": "stream",
     "text": [
      "C:\\Users\\admin\\anaconda3\\lib\\site-packages\\xgboost\\sklearn.py:1224: UserWarning: The use of label encoder in XGBClassifier is deprecated and will be removed in a future release. To remove this warning, do the following: 1) Pass option use_label_encoder=False when constructing XGBClassifier object; and 2) Encode your labels (y) as integers starting with 0, i.e. 0, 1, 2, ..., [num_class - 1].\n",
      "  warnings.warn(label_encoder_deprecation_msg, UserWarning)\n"
     ]
    },
    {
     "name": "stdout",
     "output_type": "stream",
     "text": [
      "[20:07:07] WARNING: C:/Users/Administrator/workspace/xgboost-win64_release_1.5.1/src/learner.cc:1115: Starting in XGBoost 1.3.0, the default evaluation metric used with the objective 'binary:logistic' was changed from 'error' to 'logloss'. Explicitly set eval_metric if you'd like to restore the old behavior.\n",
      "Thresh=0.005, n=24, Accuracy: 80.47%\n"
     ]
    },
    {
     "name": "stderr",
     "output_type": "stream",
     "text": [
      "C:\\Users\\admin\\anaconda3\\lib\\site-packages\\xgboost\\sklearn.py:1224: UserWarning: The use of label encoder in XGBClassifier is deprecated and will be removed in a future release. To remove this warning, do the following: 1) Pass option use_label_encoder=False when constructing XGBClassifier object; and 2) Encode your labels (y) as integers starting with 0, i.e. 0, 1, 2, ..., [num_class - 1].\n",
      "  warnings.warn(label_encoder_deprecation_msg, UserWarning)\n"
     ]
    },
    {
     "name": "stdout",
     "output_type": "stream",
     "text": [
      "[20:07:45] WARNING: C:/Users/Administrator/workspace/xgboost-win64_release_1.5.1/src/learner.cc:1115: Starting in XGBoost 1.3.0, the default evaluation metric used with the objective 'binary:logistic' was changed from 'error' to 'logloss'. Explicitly set eval_metric if you'd like to restore the old behavior.\n",
      "Thresh=0.006, n=23, Accuracy: 80.58%\n"
     ]
    },
    {
     "name": "stderr",
     "output_type": "stream",
     "text": [
      "C:\\Users\\admin\\anaconda3\\lib\\site-packages\\xgboost\\sklearn.py:1224: UserWarning: The use of label encoder in XGBClassifier is deprecated and will be removed in a future release. To remove this warning, do the following: 1) Pass option use_label_encoder=False when constructing XGBClassifier object; and 2) Encode your labels (y) as integers starting with 0, i.e. 0, 1, 2, ..., [num_class - 1].\n",
      "  warnings.warn(label_encoder_deprecation_msg, UserWarning)\n"
     ]
    },
    {
     "name": "stdout",
     "output_type": "stream",
     "text": [
      "[20:08:24] WARNING: C:/Users/Administrator/workspace/xgboost-win64_release_1.5.1/src/learner.cc:1115: Starting in XGBoost 1.3.0, the default evaluation metric used with the objective 'binary:logistic' was changed from 'error' to 'logloss'. Explicitly set eval_metric if you'd like to restore the old behavior.\n",
      "Thresh=0.006, n=22, Accuracy: 80.22%\n"
     ]
    },
    {
     "name": "stderr",
     "output_type": "stream",
     "text": [
      "C:\\Users\\admin\\anaconda3\\lib\\site-packages\\xgboost\\sklearn.py:1224: UserWarning: The use of label encoder in XGBClassifier is deprecated and will be removed in a future release. To remove this warning, do the following: 1) Pass option use_label_encoder=False when constructing XGBClassifier object; and 2) Encode your labels (y) as integers starting with 0, i.e. 0, 1, 2, ..., [num_class - 1].\n",
      "  warnings.warn(label_encoder_deprecation_msg, UserWarning)\n"
     ]
    },
    {
     "name": "stdout",
     "output_type": "stream",
     "text": [
      "[20:09:03] WARNING: C:/Users/Administrator/workspace/xgboost-win64_release_1.5.1/src/learner.cc:1115: Starting in XGBoost 1.3.0, the default evaluation metric used with the objective 'binary:logistic' was changed from 'error' to 'logloss'. Explicitly set eval_metric if you'd like to restore the old behavior.\n",
      "Thresh=0.006, n=21, Accuracy: 80.11%\n"
     ]
    },
    {
     "name": "stderr",
     "output_type": "stream",
     "text": [
      "C:\\Users\\admin\\anaconda3\\lib\\site-packages\\xgboost\\sklearn.py:1224: UserWarning: The use of label encoder in XGBClassifier is deprecated and will be removed in a future release. To remove this warning, do the following: 1) Pass option use_label_encoder=False when constructing XGBClassifier object; and 2) Encode your labels (y) as integers starting with 0, i.e. 0, 1, 2, ..., [num_class - 1].\n",
      "  warnings.warn(label_encoder_deprecation_msg, UserWarning)\n"
     ]
    },
    {
     "name": "stdout",
     "output_type": "stream",
     "text": [
      "[20:09:38] WARNING: C:/Users/Administrator/workspace/xgboost-win64_release_1.5.1/src/learner.cc:1115: Starting in XGBoost 1.3.0, the default evaluation metric used with the objective 'binary:logistic' was changed from 'error' to 'logloss'. Explicitly set eval_metric if you'd like to restore the old behavior.\n",
      "Thresh=0.006, n=20, Accuracy: 80.38%\n"
     ]
    },
    {
     "name": "stderr",
     "output_type": "stream",
     "text": [
      "C:\\Users\\admin\\anaconda3\\lib\\site-packages\\xgboost\\sklearn.py:1224: UserWarning: The use of label encoder in XGBClassifier is deprecated and will be removed in a future release. To remove this warning, do the following: 1) Pass option use_label_encoder=False when constructing XGBClassifier object; and 2) Encode your labels (y) as integers starting with 0, i.e. 0, 1, 2, ..., [num_class - 1].\n",
      "  warnings.warn(label_encoder_deprecation_msg, UserWarning)\n"
     ]
    },
    {
     "name": "stdout",
     "output_type": "stream",
     "text": [
      "[20:10:14] WARNING: C:/Users/Administrator/workspace/xgboost-win64_release_1.5.1/src/learner.cc:1115: Starting in XGBoost 1.3.0, the default evaluation metric used with the objective 'binary:logistic' was changed from 'error' to 'logloss'. Explicitly set eval_metric if you'd like to restore the old behavior.\n",
      "Thresh=0.006, n=19, Accuracy: 79.57%\n"
     ]
    },
    {
     "name": "stderr",
     "output_type": "stream",
     "text": [
      "C:\\Users\\admin\\anaconda3\\lib\\site-packages\\xgboost\\sklearn.py:1224: UserWarning: The use of label encoder in XGBClassifier is deprecated and will be removed in a future release. To remove this warning, do the following: 1) Pass option use_label_encoder=False when constructing XGBClassifier object; and 2) Encode your labels (y) as integers starting with 0, i.e. 0, 1, 2, ..., [num_class - 1].\n",
      "  warnings.warn(label_encoder_deprecation_msg, UserWarning)\n"
     ]
    },
    {
     "name": "stdout",
     "output_type": "stream",
     "text": [
      "[20:10:51] WARNING: C:/Users/Administrator/workspace/xgboost-win64_release_1.5.1/src/learner.cc:1115: Starting in XGBoost 1.3.0, the default evaluation metric used with the objective 'binary:logistic' was changed from 'error' to 'logloss'. Explicitly set eval_metric if you'd like to restore the old behavior.\n",
      "Thresh=0.006, n=18, Accuracy: 79.64%\n"
     ]
    },
    {
     "name": "stderr",
     "output_type": "stream",
     "text": [
      "C:\\Users\\admin\\anaconda3\\lib\\site-packages\\xgboost\\sklearn.py:1224: UserWarning: The use of label encoder in XGBClassifier is deprecated and will be removed in a future release. To remove this warning, do the following: 1) Pass option use_label_encoder=False when constructing XGBClassifier object; and 2) Encode your labels (y) as integers starting with 0, i.e. 0, 1, 2, ..., [num_class - 1].\n",
      "  warnings.warn(label_encoder_deprecation_msg, UserWarning)\n"
     ]
    },
    {
     "name": "stdout",
     "output_type": "stream",
     "text": [
      "[20:11:27] WARNING: C:/Users/Administrator/workspace/xgboost-win64_release_1.5.1/src/learner.cc:1115: Starting in XGBoost 1.3.0, the default evaluation metric used with the objective 'binary:logistic' was changed from 'error' to 'logloss'. Explicitly set eval_metric if you'd like to restore the old behavior.\n",
      "Thresh=0.006, n=17, Accuracy: 79.49%\n"
     ]
    },
    {
     "name": "stderr",
     "output_type": "stream",
     "text": [
      "C:\\Users\\admin\\anaconda3\\lib\\site-packages\\xgboost\\sklearn.py:1224: UserWarning: The use of label encoder in XGBClassifier is deprecated and will be removed in a future release. To remove this warning, do the following: 1) Pass option use_label_encoder=False when constructing XGBClassifier object; and 2) Encode your labels (y) as integers starting with 0, i.e. 0, 1, 2, ..., [num_class - 1].\n",
      "  warnings.warn(label_encoder_deprecation_msg, UserWarning)\n"
     ]
    },
    {
     "name": "stdout",
     "output_type": "stream",
     "text": [
      "[20:12:02] WARNING: C:/Users/Administrator/workspace/xgboost-win64_release_1.5.1/src/learner.cc:1115: Starting in XGBoost 1.3.0, the default evaluation metric used with the objective 'binary:logistic' was changed from 'error' to 'logloss'. Explicitly set eval_metric if you'd like to restore the old behavior.\n",
      "Thresh=0.006, n=16, Accuracy: 79.21%\n"
     ]
    },
    {
     "name": "stderr",
     "output_type": "stream",
     "text": [
      "C:\\Users\\admin\\anaconda3\\lib\\site-packages\\xgboost\\sklearn.py:1224: UserWarning: The use of label encoder in XGBClassifier is deprecated and will be removed in a future release. To remove this warning, do the following: 1) Pass option use_label_encoder=False when constructing XGBClassifier object; and 2) Encode your labels (y) as integers starting with 0, i.e. 0, 1, 2, ..., [num_class - 1].\n",
      "  warnings.warn(label_encoder_deprecation_msg, UserWarning)\n"
     ]
    },
    {
     "name": "stdout",
     "output_type": "stream",
     "text": [
      "[20:12:36] WARNING: C:/Users/Administrator/workspace/xgboost-win64_release_1.5.1/src/learner.cc:1115: Starting in XGBoost 1.3.0, the default evaluation metric used with the objective 'binary:logistic' was changed from 'error' to 'logloss'. Explicitly set eval_metric if you'd like to restore the old behavior.\n",
      "Thresh=0.006, n=15, Accuracy: 79.76%\n"
     ]
    },
    {
     "name": "stderr",
     "output_type": "stream",
     "text": [
      "C:\\Users\\admin\\anaconda3\\lib\\site-packages\\xgboost\\sklearn.py:1224: UserWarning: The use of label encoder in XGBClassifier is deprecated and will be removed in a future release. To remove this warning, do the following: 1) Pass option use_label_encoder=False when constructing XGBClassifier object; and 2) Encode your labels (y) as integers starting with 0, i.e. 0, 1, 2, ..., [num_class - 1].\n",
      "  warnings.warn(label_encoder_deprecation_msg, UserWarning)\n"
     ]
    },
    {
     "name": "stdout",
     "output_type": "stream",
     "text": [
      "[20:15:20] WARNING: C:/Users/Administrator/workspace/xgboost-win64_release_1.5.1/src/learner.cc:1115: Starting in XGBoost 1.3.0, the default evaluation metric used with the objective 'binary:logistic' was changed from 'error' to 'logloss'. Explicitly set eval_metric if you'd like to restore the old behavior.\n",
      "Thresh=0.006, n=14, Accuracy: 80.38%\n"
     ]
    },
    {
     "name": "stderr",
     "output_type": "stream",
     "text": [
      "C:\\Users\\admin\\anaconda3\\lib\\site-packages\\xgboost\\sklearn.py:1224: UserWarning: The use of label encoder in XGBClassifier is deprecated and will be removed in a future release. To remove this warning, do the following: 1) Pass option use_label_encoder=False when constructing XGBClassifier object; and 2) Encode your labels (y) as integers starting with 0, i.e. 0, 1, 2, ..., [num_class - 1].\n",
      "  warnings.warn(label_encoder_deprecation_msg, UserWarning)\n"
     ]
    },
    {
     "name": "stdout",
     "output_type": "stream",
     "text": [
      "[20:16:04] WARNING: C:/Users/Administrator/workspace/xgboost-win64_release_1.5.1/src/learner.cc:1115: Starting in XGBoost 1.3.0, the default evaluation metric used with the objective 'binary:logistic' was changed from 'error' to 'logloss'. Explicitly set eval_metric if you'd like to restore the old behavior.\n",
      "Thresh=0.006, n=13, Accuracy: 80.92%\n"
     ]
    },
    {
     "name": "stderr",
     "output_type": "stream",
     "text": [
      "C:\\Users\\admin\\anaconda3\\lib\\site-packages\\xgboost\\sklearn.py:1224: UserWarning: The use of label encoder in XGBClassifier is deprecated and will be removed in a future release. To remove this warning, do the following: 1) Pass option use_label_encoder=False when constructing XGBClassifier object; and 2) Encode your labels (y) as integers starting with 0, i.e. 0, 1, 2, ..., [num_class - 1].\n",
      "  warnings.warn(label_encoder_deprecation_msg, UserWarning)\n"
     ]
    },
    {
     "name": "stdout",
     "output_type": "stream",
     "text": [
      "[20:16:45] WARNING: C:/Users/Administrator/workspace/xgboost-win64_release_1.5.1/src/learner.cc:1115: Starting in XGBoost 1.3.0, the default evaluation metric used with the objective 'binary:logistic' was changed from 'error' to 'logloss'. Explicitly set eval_metric if you'd like to restore the old behavior.\n",
      "Thresh=0.023, n=12, Accuracy: 80.97%\n"
     ]
    },
    {
     "name": "stderr",
     "output_type": "stream",
     "text": [
      "C:\\Users\\admin\\anaconda3\\lib\\site-packages\\xgboost\\sklearn.py:1224: UserWarning: The use of label encoder in XGBClassifier is deprecated and will be removed in a future release. To remove this warning, do the following: 1) Pass option use_label_encoder=False when constructing XGBClassifier object; and 2) Encode your labels (y) as integers starting with 0, i.e. 0, 1, 2, ..., [num_class - 1].\n",
      "  warnings.warn(label_encoder_deprecation_msg, UserWarning)\n"
     ]
    },
    {
     "name": "stdout",
     "output_type": "stream",
     "text": [
      "[20:17:22] WARNING: C:/Users/Administrator/workspace/xgboost-win64_release_1.5.1/src/learner.cc:1115: Starting in XGBoost 1.3.0, the default evaluation metric used with the objective 'binary:logistic' was changed from 'error' to 'logloss'. Explicitly set eval_metric if you'd like to restore the old behavior.\n",
      "Thresh=0.023, n=11, Accuracy: 80.57%\n"
     ]
    },
    {
     "name": "stderr",
     "output_type": "stream",
     "text": [
      "C:\\Users\\admin\\anaconda3\\lib\\site-packages\\xgboost\\sklearn.py:1224: UserWarning: The use of label encoder in XGBClassifier is deprecated and will be removed in a future release. To remove this warning, do the following: 1) Pass option use_label_encoder=False when constructing XGBClassifier object; and 2) Encode your labels (y) as integers starting with 0, i.e. 0, 1, 2, ..., [num_class - 1].\n",
      "  warnings.warn(label_encoder_deprecation_msg, UserWarning)\n"
     ]
    },
    {
     "name": "stdout",
     "output_type": "stream",
     "text": [
      "[20:17:50] WARNING: C:/Users/Administrator/workspace/xgboost-win64_release_1.5.1/src/learner.cc:1115: Starting in XGBoost 1.3.0, the default evaluation metric used with the objective 'binary:logistic' was changed from 'error' to 'logloss'. Explicitly set eval_metric if you'd like to restore the old behavior.\n",
      "Thresh=0.023, n=10, Accuracy: 79.46%\n"
     ]
    },
    {
     "name": "stderr",
     "output_type": "stream",
     "text": [
      "C:\\Users\\admin\\anaconda3\\lib\\site-packages\\xgboost\\sklearn.py:1224: UserWarning: The use of label encoder in XGBClassifier is deprecated and will be removed in a future release. To remove this warning, do the following: 1) Pass option use_label_encoder=False when constructing XGBClassifier object; and 2) Encode your labels (y) as integers starting with 0, i.e. 0, 1, 2, ..., [num_class - 1].\n",
      "  warnings.warn(label_encoder_deprecation_msg, UserWarning)\n"
     ]
    },
    {
     "name": "stdout",
     "output_type": "stream",
     "text": [
      "[20:18:24] WARNING: C:/Users/Administrator/workspace/xgboost-win64_release_1.5.1/src/learner.cc:1115: Starting in XGBoost 1.3.0, the default evaluation metric used with the objective 'binary:logistic' was changed from 'error' to 'logloss'. Explicitly set eval_metric if you'd like to restore the old behavior.\n",
      "Thresh=0.023, n=9, Accuracy: 78.81%\n",
      "[20:19:13] WARNING: C:/Users/Administrator/workspace/xgboost-win64_release_1.5.1/src/learner.cc:1115: Starting in XGBoost 1.3.0, the default evaluation metric used with the objective 'binary:logistic' was changed from 'error' to 'logloss'. Explicitly set eval_metric if you'd like to restore the old behavior.\n"
     ]
    },
    {
     "name": "stderr",
     "output_type": "stream",
     "text": [
      "C:\\Users\\admin\\anaconda3\\lib\\site-packages\\xgboost\\sklearn.py:1224: UserWarning: The use of label encoder in XGBClassifier is deprecated and will be removed in a future release. To remove this warning, do the following: 1) Pass option use_label_encoder=False when constructing XGBClassifier object; and 2) Encode your labels (y) as integers starting with 0, i.e. 0, 1, 2, ..., [num_class - 1].\n",
      "  warnings.warn(label_encoder_deprecation_msg, UserWarning)\n"
     ]
    },
    {
     "name": "stdout",
     "output_type": "stream",
     "text": [
      "Thresh=0.023, n=8, Accuracy: 79.31%\n",
      "[20:19:39] WARNING: C:/Users/Administrator/workspace/xgboost-win64_release_1.5.1/src/learner.cc:1115: Starting in XGBoost 1.3.0, the default evaluation metric used with the objective 'binary:logistic' was changed from 'error' to 'logloss'. Explicitly set eval_metric if you'd like to restore the old behavior.\n"
     ]
    },
    {
     "name": "stderr",
     "output_type": "stream",
     "text": [
      "C:\\Users\\admin\\anaconda3\\lib\\site-packages\\xgboost\\sklearn.py:1224: UserWarning: The use of label encoder in XGBClassifier is deprecated and will be removed in a future release. To remove this warning, do the following: 1) Pass option use_label_encoder=False when constructing XGBClassifier object; and 2) Encode your labels (y) as integers starting with 0, i.e. 0, 1, 2, ..., [num_class - 1].\n",
      "  warnings.warn(label_encoder_deprecation_msg, UserWarning)\n"
     ]
    },
    {
     "name": "stdout",
     "output_type": "stream",
     "text": [
      "Thresh=0.023, n=7, Accuracy: 81.27%\n",
      "[20:20:02] WARNING: C:/Users/Administrator/workspace/xgboost-win64_release_1.5.1/src/learner.cc:1115: Starting in XGBoost 1.3.0, the default evaluation metric used with the objective 'binary:logistic' was changed from 'error' to 'logloss'. Explicitly set eval_metric if you'd like to restore the old behavior.\n"
     ]
    },
    {
     "name": "stderr",
     "output_type": "stream",
     "text": [
      "C:\\Users\\admin\\anaconda3\\lib\\site-packages\\xgboost\\sklearn.py:1224: UserWarning: The use of label encoder in XGBClassifier is deprecated and will be removed in a future release. To remove this warning, do the following: 1) Pass option use_label_encoder=False when constructing XGBClassifier object; and 2) Encode your labels (y) as integers starting with 0, i.e. 0, 1, 2, ..., [num_class - 1].\n",
      "  warnings.warn(label_encoder_deprecation_msg, UserWarning)\n"
     ]
    },
    {
     "name": "stdout",
     "output_type": "stream",
     "text": [
      "Thresh=0.039, n=6, Accuracy: 79.31%\n",
      "[20:20:24] WARNING: C:/Users/Administrator/workspace/xgboost-win64_release_1.5.1/src/learner.cc:1115: Starting in XGBoost 1.3.0, the default evaluation metric used with the objective 'binary:logistic' was changed from 'error' to 'logloss'. Explicitly set eval_metric if you'd like to restore the old behavior.\n"
     ]
    },
    {
     "name": "stderr",
     "output_type": "stream",
     "text": [
      "C:\\Users\\admin\\anaconda3\\lib\\site-packages\\xgboost\\sklearn.py:1224: UserWarning: The use of label encoder in XGBClassifier is deprecated and will be removed in a future release. To remove this warning, do the following: 1) Pass option use_label_encoder=False when constructing XGBClassifier object; and 2) Encode your labels (y) as integers starting with 0, i.e. 0, 1, 2, ..., [num_class - 1].\n",
      "  warnings.warn(label_encoder_deprecation_msg, UserWarning)\n"
     ]
    },
    {
     "name": "stdout",
     "output_type": "stream",
     "text": [
      "Thresh=0.039, n=5, Accuracy: 81.23%\n"
     ]
    },
    {
     "name": "stderr",
     "output_type": "stream",
     "text": [
      "C:\\Users\\admin\\anaconda3\\lib\\site-packages\\xgboost\\sklearn.py:1224: UserWarning: The use of label encoder in XGBClassifier is deprecated and will be removed in a future release. To remove this warning, do the following: 1) Pass option use_label_encoder=False when constructing XGBClassifier object; and 2) Encode your labels (y) as integers starting with 0, i.e. 0, 1, 2, ..., [num_class - 1].\n",
      "  warnings.warn(label_encoder_deprecation_msg, UserWarning)\n"
     ]
    },
    {
     "name": "stdout",
     "output_type": "stream",
     "text": [
      "[20:20:48] WARNING: C:/Users/Administrator/workspace/xgboost-win64_release_1.5.1/src/learner.cc:1115: Starting in XGBoost 1.3.0, the default evaluation metric used with the objective 'binary:logistic' was changed from 'error' to 'logloss'. Explicitly set eval_metric if you'd like to restore the old behavior.\n",
      "Thresh=0.039, n=4, Accuracy: 82.10%\n",
      "[20:21:10] WARNING: C:/Users/Administrator/workspace/xgboost-win64_release_1.5.1/src/learner.cc:1115: Starting in XGBoost 1.3.0, the default evaluation metric used with the objective 'binary:logistic' was changed from 'error' to 'logloss'. Explicitly set eval_metric if you'd like to restore the old behavior.\n"
     ]
    },
    {
     "name": "stderr",
     "output_type": "stream",
     "text": [
      "C:\\Users\\admin\\anaconda3\\lib\\site-packages\\xgboost\\sklearn.py:1224: UserWarning: The use of label encoder in XGBClassifier is deprecated and will be removed in a future release. To remove this warning, do the following: 1) Pass option use_label_encoder=False when constructing XGBClassifier object; and 2) Encode your labels (y) as integers starting with 0, i.e. 0, 1, 2, ..., [num_class - 1].\n",
      "  warnings.warn(label_encoder_deprecation_msg, UserWarning)\n"
     ]
    },
    {
     "name": "stdout",
     "output_type": "stream",
     "text": [
      "Thresh=0.065, n=3, Accuracy: 81.32%\n",
      "[20:21:30] WARNING: C:/Users/Administrator/workspace/xgboost-win64_release_1.5.1/src/learner.cc:1115: Starting in XGBoost 1.3.0, the default evaluation metric used with the objective 'binary:logistic' was changed from 'error' to 'logloss'. Explicitly set eval_metric if you'd like to restore the old behavior.\n"
     ]
    },
    {
     "name": "stderr",
     "output_type": "stream",
     "text": [
      "C:\\Users\\admin\\anaconda3\\lib\\site-packages\\xgboost\\sklearn.py:1224: UserWarning: The use of label encoder in XGBClassifier is deprecated and will be removed in a future release. To remove this warning, do the following: 1) Pass option use_label_encoder=False when constructing XGBClassifier object; and 2) Encode your labels (y) as integers starting with 0, i.e. 0, 1, 2, ..., [num_class - 1].\n",
      "  warnings.warn(label_encoder_deprecation_msg, UserWarning)\n"
     ]
    },
    {
     "name": "stdout",
     "output_type": "stream",
     "text": [
      "Thresh=0.065, n=2, Accuracy: 81.34%\n"
     ]
    },
    {
     "name": "stderr",
     "output_type": "stream",
     "text": [
      "C:\\Users\\admin\\anaconda3\\lib\\site-packages\\xgboost\\sklearn.py:1224: UserWarning: The use of label encoder in XGBClassifier is deprecated and will be removed in a future release. To remove this warning, do the following: 1) Pass option use_label_encoder=False when constructing XGBClassifier object; and 2) Encode your labels (y) as integers starting with 0, i.e. 0, 1, 2, ..., [num_class - 1].\n",
      "  warnings.warn(label_encoder_deprecation_msg, UserWarning)\n"
     ]
    },
    {
     "name": "stdout",
     "output_type": "stream",
     "text": [
      "[20:21:52] WARNING: C:/Users/Administrator/workspace/xgboost-win64_release_1.5.1/src/learner.cc:1115: Starting in XGBoost 1.3.0, the default evaluation metric used with the objective 'binary:logistic' was changed from 'error' to 'logloss'. Explicitly set eval_metric if you'd like to restore the old behavior.\n",
      "Thresh=0.065, n=1, Accuracy: 75.51%\n"
     ]
    }
   ],
   "source": [
    "n_min = 40\n",
    "acc_max = 0\n",
    "thresholds = sort(xgb_clf.feature_importances_)\n",
    "obj_thresh = thresholds[0]\n",
    "for thresh in thresholds:\n",
    "    selection = SelectFromModel(xgb_clf, threshold=thresh, prefit=True)\n",
    "    select_X_train = selection.transform(x1)\n",
    "    selection_model = XGBClassifier(**params)\n",
    "    selection_model.fit(select_X_train, y1)\n",
    "    select_X_test = selection.transform(x2)\n",
    "    predictions = selection_model.predict(select_X_test)\n",
    "    accuracy = metrics.accuracy_score(y2, predictions)\n",
    "    print(\"Thresh=%.3f, n=%d, Accuracy: %.2f%%\" % (obj_thresh, select_X_train.shape[1], accuracy*100.0))\n",
    "    if(select_X_train.shape[1] < n_min) and (accuracy > acc_max):\n",
    "        n_min = select_X_train.shape[1]\n",
    "        acc_max = accuracy\n",
    "        obj_thresh = thresh"
   ]
  },
  {
   "cell_type": "code",
   "execution_count": 20,
   "id": "0b1f0b5b",
   "metadata": {},
   "outputs": [
    {
     "name": "stderr",
     "output_type": "stream",
     "text": [
      "C:\\Users\\admin\\anaconda3\\lib\\site-packages\\xgboost\\sklearn.py:1224: UserWarning: The use of label encoder in XGBClassifier is deprecated and will be removed in a future release. To remove this warning, do the following: 1) Pass option use_label_encoder=False when constructing XGBClassifier object; and 2) Encode your labels (y) as integers starting with 0, i.e. 0, 1, 2, ..., [num_class - 1].\n",
      "  warnings.warn(label_encoder_deprecation_msg, UserWarning)\n"
     ]
    },
    {
     "name": "stdout",
     "output_type": "stream",
     "text": [
      "[20:22:14] WARNING: C:/Users/Administrator/workspace/xgboost-win64_release_1.5.1/src/learner.cc:1115: Starting in XGBoost 1.3.0, the default evaluation metric used with the objective 'binary:logistic' was changed from 'error' to 'logloss'. Explicitly set eval_metric if you'd like to restore the old behavior.\n",
      "Thresh=0.065, n=4, Accuracy: 82.10%\n"
     ]
    }
   ],
   "source": [
    "selection = SelectFromModel(xgb_clf, threshold=obj_thresh, prefit=True)\n",
    "select_X_train = selection.transform(x1)\n",
    "selection_model = XGBClassifier(**params)\n",
    "selection_model.fit(select_X_train, y1)\n",
    "select_X_test = selection.transform(x2)\n",
    "predictions = selection_model.predict(select_X_test)\n",
    "accuracy = metrics.accuracy_score(y2, predictions)\n",
    "print(\"Thresh=%.3f, n=%d, Accuracy: %.2f%%\" % (obj_thresh, select_X_train.shape[1], accuracy*100.0))"
   ]
  },
  {
   "cell_type": "code",
   "execution_count": 21,
   "id": "84491448",
   "metadata": {},
   "outputs": [
    {
     "data": {
      "text/plain": [
       "array([[3.55806412e-07, 0.00000000e+00, 1.00000000e+00, 3.12151472e-01],\n",
       "       [1.05799870e-07, 0.00000000e+00, 8.00000000e-02, 4.86434481e-01],\n",
       "       [0.00000000e+00, 0.00000000e+00, 5.00000000e-02, 9.31122545e-01],\n",
       "       ...,\n",
       "       [3.76821455e-07, 0.00000000e+00, 1.00000000e+00, 9.37842779e-01],\n",
       "       [0.00000000e+00, 0.00000000e+00, 2.99814938e-01, 7.45252931e-02],\n",
       "       [0.00000000e+00, 0.00000000e+00, 1.00000000e-02, 9.57257348e-01]])"
      ]
     },
     "execution_count": 21,
     "metadata": {},
     "output_type": "execute_result"
    }
   ],
   "source": [
    "select_X_train"
   ]
  },
  {
   "cell_type": "code",
   "execution_count": 22,
   "id": "d4056b7d",
   "metadata": {},
   "outputs": [
    {
     "data": {
      "text/plain": [
       "array([[0.00000000e+00, 0.00000000e+00, 4.00000000e-02, 9.31122545e-01],\n",
       "       [0.00000000e+00, 0.00000000e+00, 1.00000000e-02, 9.31122545e-01],\n",
       "       [9.40821721e-06, 0.00000000e+00, 1.00000000e+00, 3.12151472e-01],\n",
       "       ...,\n",
       "       [3.95227734e-05, 1.33707715e-04, 1.00000000e+00, 7.19843954e-02],\n",
       "       [3.04355791e-08, 0.00000000e+00, 1.00000000e+00, 1.10697394e-03],\n",
       "       [0.00000000e+00, 0.00000000e+00, 2.50000000e-01, 1.00000000e+00]])"
      ]
     },
     "execution_count": 22,
     "metadata": {},
     "output_type": "execute_result"
    }
   ],
   "source": [
    "select_X_test"
   ]
  },
  {
   "cell_type": "code",
   "execution_count": 23,
   "id": "32c1b487",
   "metadata": {},
   "outputs": [
    {
     "data": {
      "text/plain": [
       "(134686, 4)"
      ]
     },
     "execution_count": 23,
     "metadata": {},
     "output_type": "execute_result"
    }
   ],
   "source": [
    "select_X_train.shape"
   ]
  },
  {
   "cell_type": "code",
   "execution_count": 24,
   "id": "57bf9ca0",
   "metadata": {},
   "outputs": [
    {
     "data": {
      "text/plain": [
       "(22544, 4)"
      ]
     },
     "execution_count": 24,
     "metadata": {},
     "output_type": "execute_result"
    }
   ],
   "source": [
    "select_X_test.shape"
   ]
  },
  {
   "cell_type": "code",
   "execution_count": 31,
   "id": "e2a7bfde",
   "metadata": {},
   "outputs": [
    {
     "data": {
      "text/html": [
       "<div>\n",
       "<style scoped>\n",
       "    .dataframe tbody tr th:only-of-type {\n",
       "        vertical-align: middle;\n",
       "    }\n",
       "\n",
       "    .dataframe tbody tr th {\n",
       "        vertical-align: top;\n",
       "    }\n",
       "\n",
       "    .dataframe thead th {\n",
       "        text-align: right;\n",
       "    }\n",
       "</style>\n",
       "<table border=\"1\" class=\"dataframe\">\n",
       "  <thead>\n",
       "    <tr style=\"text-align: right;\">\n",
       "      <th></th>\n",
       "      <th>XGB_0</th>\n",
       "      <th>XGB_1</th>\n",
       "      <th>XGB_2</th>\n",
       "      <th>XGB_3</th>\n",
       "    </tr>\n",
       "  </thead>\n",
       "  <tbody>\n",
       "    <tr>\n",
       "      <th>0</th>\n",
       "      <td>3.558064e-07</td>\n",
       "      <td>0.0</td>\n",
       "      <td>1.000000</td>\n",
       "      <td>0.312151</td>\n",
       "    </tr>\n",
       "    <tr>\n",
       "      <th>1</th>\n",
       "      <td>1.057999e-07</td>\n",
       "      <td>0.0</td>\n",
       "      <td>0.080000</td>\n",
       "      <td>0.486434</td>\n",
       "    </tr>\n",
       "    <tr>\n",
       "      <th>2</th>\n",
       "      <td>0.000000e+00</td>\n",
       "      <td>0.0</td>\n",
       "      <td>0.050000</td>\n",
       "      <td>0.931123</td>\n",
       "    </tr>\n",
       "    <tr>\n",
       "      <th>3</th>\n",
       "      <td>1.681203e-07</td>\n",
       "      <td>0.0</td>\n",
       "      <td>1.000000</td>\n",
       "      <td>0.071984</td>\n",
       "    </tr>\n",
       "    <tr>\n",
       "      <th>4</th>\n",
       "      <td>1.442067e-07</td>\n",
       "      <td>0.0</td>\n",
       "      <td>1.000000</td>\n",
       "      <td>0.071984</td>\n",
       "    </tr>\n",
       "    <tr>\n",
       "      <th>...</th>\n",
       "      <td>...</td>\n",
       "      <td>...</td>\n",
       "      <td>...</td>\n",
       "      <td>...</td>\n",
       "    </tr>\n",
       "    <tr>\n",
       "      <th>134681</th>\n",
       "      <td>0.000000e+00</td>\n",
       "      <td>0.0</td>\n",
       "      <td>0.070000</td>\n",
       "      <td>0.931123</td>\n",
       "    </tr>\n",
       "    <tr>\n",
       "      <th>134682</th>\n",
       "      <td>0.000000e+00</td>\n",
       "      <td>0.0</td>\n",
       "      <td>0.050000</td>\n",
       "      <td>0.447813</td>\n",
       "    </tr>\n",
       "    <tr>\n",
       "      <th>134683</th>\n",
       "      <td>3.768215e-07</td>\n",
       "      <td>0.0</td>\n",
       "      <td>1.000000</td>\n",
       "      <td>0.937843</td>\n",
       "    </tr>\n",
       "    <tr>\n",
       "      <th>134684</th>\n",
       "      <td>0.000000e+00</td>\n",
       "      <td>0.0</td>\n",
       "      <td>0.299815</td>\n",
       "      <td>0.074525</td>\n",
       "    </tr>\n",
       "    <tr>\n",
       "      <th>134685</th>\n",
       "      <td>0.000000e+00</td>\n",
       "      <td>0.0</td>\n",
       "      <td>0.010000</td>\n",
       "      <td>0.957257</td>\n",
       "    </tr>\n",
       "  </tbody>\n",
       "</table>\n",
       "<p>134686 rows × 4 columns</p>\n",
       "</div>"
      ],
      "text/plain": [
       "               XGB_0  XGB_1     XGB_2     XGB_3\n",
       "0       3.558064e-07    0.0  1.000000  0.312151\n",
       "1       1.057999e-07    0.0  0.080000  0.486434\n",
       "2       0.000000e+00    0.0  0.050000  0.931123\n",
       "3       1.681203e-07    0.0  1.000000  0.071984\n",
       "4       1.442067e-07    0.0  1.000000  0.071984\n",
       "...              ...    ...       ...       ...\n",
       "134681  0.000000e+00    0.0  0.070000  0.931123\n",
       "134682  0.000000e+00    0.0  0.050000  0.447813\n",
       "134683  3.768215e-07    0.0  1.000000  0.937843\n",
       "134684  0.000000e+00    0.0  0.299815  0.074525\n",
       "134685  0.000000e+00    0.0  0.010000  0.957257\n",
       "\n",
       "[134686 rows x 4 columns]"
      ]
     },
     "execution_count": 31,
     "metadata": {},
     "output_type": "execute_result"
    }
   ],
   "source": [
    "recon_feat_train = pd.DataFrame(select_X_train, columns =['XGB_0', 'XGB_1','XGB_2','XGB_3'])\n",
    "recon_feat_train"
   ]
  },
  {
   "cell_type": "code",
   "execution_count": 32,
   "id": "1e0a58c7",
   "metadata": {},
   "outputs": [
    {
     "data": {
      "text/html": [
       "<div>\n",
       "<style scoped>\n",
       "    .dataframe tbody tr th:only-of-type {\n",
       "        vertical-align: middle;\n",
       "    }\n",
       "\n",
       "    .dataframe tbody tr th {\n",
       "        vertical-align: top;\n",
       "    }\n",
       "\n",
       "    .dataframe thead th {\n",
       "        text-align: right;\n",
       "    }\n",
       "</style>\n",
       "<table border=\"1\" class=\"dataframe\">\n",
       "  <thead>\n",
       "    <tr style=\"text-align: right;\">\n",
       "      <th></th>\n",
       "      <th>XGB_0</th>\n",
       "      <th>XGB_1</th>\n",
       "      <th>XGB_2</th>\n",
       "      <th>XGB_3</th>\n",
       "    </tr>\n",
       "  </thead>\n",
       "  <tbody>\n",
       "    <tr>\n",
       "      <th>0</th>\n",
       "      <td>0.000000e+00</td>\n",
       "      <td>0.000000</td>\n",
       "      <td>0.04</td>\n",
       "      <td>0.931123</td>\n",
       "    </tr>\n",
       "    <tr>\n",
       "      <th>1</th>\n",
       "      <td>0.000000e+00</td>\n",
       "      <td>0.000000</td>\n",
       "      <td>0.01</td>\n",
       "      <td>0.931123</td>\n",
       "    </tr>\n",
       "    <tr>\n",
       "      <th>2</th>\n",
       "      <td>9.408217e-06</td>\n",
       "      <td>0.000000</td>\n",
       "      <td>1.00</td>\n",
       "      <td>0.312151</td>\n",
       "    </tr>\n",
       "    <tr>\n",
       "      <th>3</th>\n",
       "      <td>1.449313e-08</td>\n",
       "      <td>0.000000</td>\n",
       "      <td>1.00</td>\n",
       "      <td>0.892120</td>\n",
       "    </tr>\n",
       "    <tr>\n",
       "      <th>4</th>\n",
       "      <td>0.000000e+00</td>\n",
       "      <td>0.000000</td>\n",
       "      <td>1.00</td>\n",
       "      <td>0.758482</td>\n",
       "    </tr>\n",
       "    <tr>\n",
       "      <th>...</th>\n",
       "      <td>...</td>\n",
       "      <td>...</td>\n",
       "      <td>...</td>\n",
       "      <td>...</td>\n",
       "    </tr>\n",
       "    <tr>\n",
       "      <th>22539</th>\n",
       "      <td>5.753774e-07</td>\n",
       "      <td>0.000000</td>\n",
       "      <td>1.00</td>\n",
       "      <td>0.072754</td>\n",
       "    </tr>\n",
       "    <tr>\n",
       "      <th>22540</th>\n",
       "      <td>2.297162e-07</td>\n",
       "      <td>0.000000</td>\n",
       "      <td>1.00</td>\n",
       "      <td>0.071984</td>\n",
       "    </tr>\n",
       "    <tr>\n",
       "      <th>22541</th>\n",
       "      <td>3.952277e-05</td>\n",
       "      <td>0.000134</td>\n",
       "      <td>1.00</td>\n",
       "      <td>0.071984</td>\n",
       "    </tr>\n",
       "    <tr>\n",
       "      <th>22542</th>\n",
       "      <td>3.043558e-08</td>\n",
       "      <td>0.000000</td>\n",
       "      <td>1.00</td>\n",
       "      <td>0.001107</td>\n",
       "    </tr>\n",
       "    <tr>\n",
       "      <th>22543</th>\n",
       "      <td>0.000000e+00</td>\n",
       "      <td>0.000000</td>\n",
       "      <td>0.25</td>\n",
       "      <td>1.000000</td>\n",
       "    </tr>\n",
       "  </tbody>\n",
       "</table>\n",
       "<p>22544 rows × 4 columns</p>\n",
       "</div>"
      ],
      "text/plain": [
       "              XGB_0     XGB_1  XGB_2     XGB_3\n",
       "0      0.000000e+00  0.000000   0.04  0.931123\n",
       "1      0.000000e+00  0.000000   0.01  0.931123\n",
       "2      9.408217e-06  0.000000   1.00  0.312151\n",
       "3      1.449313e-08  0.000000   1.00  0.892120\n",
       "4      0.000000e+00  0.000000   1.00  0.758482\n",
       "...             ...       ...    ...       ...\n",
       "22539  5.753774e-07  0.000000   1.00  0.072754\n",
       "22540  2.297162e-07  0.000000   1.00  0.071984\n",
       "22541  3.952277e-05  0.000134   1.00  0.071984\n",
       "22542  3.043558e-08  0.000000   1.00  0.001107\n",
       "22543  0.000000e+00  0.000000   0.25  1.000000\n",
       "\n",
       "[22544 rows x 4 columns]"
      ]
     },
     "execution_count": 32,
     "metadata": {},
     "output_type": "execute_result"
    }
   ],
   "source": [
    "recon_feat_test = pd.DataFrame(select_X_test, columns =['XGB_0', 'XGB_1','XGB_2','XGB_3'])\n",
    "recon_feat_test"
   ]
  },
  {
   "cell_type": "code",
   "execution_count": 33,
   "id": "e82903ed",
   "metadata": {},
   "outputs": [
    {
     "name": "stdout",
     "output_type": "stream",
     "text": [
      "               XGB_0  XGB_1     XGB_2     XGB_3\n",
      "0       3.558064e-07    0.0  1.000000  0.312151\n",
      "1       1.057999e-07    0.0  0.080000  0.486434\n",
      "2       0.000000e+00    0.0  0.050000  0.931123\n",
      "3       1.681203e-07    0.0  1.000000  0.071984\n",
      "4       1.442067e-07    0.0  1.000000  0.071984\n",
      "...              ...    ...       ...       ...\n",
      "134681  0.000000e+00    0.0  0.070000  0.931123\n",
      "134682  0.000000e+00    0.0  0.050000  0.447813\n",
      "134683  3.768215e-07    0.0  1.000000  0.937843\n",
      "134684  0.000000e+00    0.0  0.299815  0.074525\n",
      "134685  0.000000e+00    0.0  0.010000  0.957257\n",
      "\n",
      "[134686 rows x 4 columns]\n",
      "              XGB_0     XGB_1  XGB_2     XGB_3\n",
      "0      0.000000e+00  0.000000   0.04  0.931123\n",
      "1      0.000000e+00  0.000000   0.01  0.931123\n",
      "2      9.408217e-06  0.000000   1.00  0.312151\n",
      "3      1.449313e-08  0.000000   1.00  0.892120\n",
      "4      0.000000e+00  0.000000   1.00  0.758482\n",
      "...             ...       ...    ...       ...\n",
      "22539  5.753774e-07  0.000000   1.00  0.072754\n",
      "22540  2.297162e-07  0.000000   1.00  0.071984\n",
      "22541  3.952277e-05  0.000134   1.00  0.071984\n",
      "22542  3.043558e-08  0.000000   1.00  0.001107\n",
      "22543  0.000000e+00  0.000000   0.25  1.000000\n",
      "\n",
      "[22544 rows x 4 columns]\n"
     ]
    }
   ],
   "source": [
    "x1_recon = recon_feat_train.iloc[:,:]\n",
    "print(x1_recon)\n",
    "x2_recon = recon_feat_test.iloc[:,:]\n",
    "print(x2_recon)"
   ]
  },
  {
   "cell_type": "code",
   "execution_count": 25,
   "id": "5277a493",
   "metadata": {},
   "outputs": [
    {
     "name": "stdout",
     "output_type": "stream",
     "text": [
      "ROC AUC: 0.838241\n"
     ]
    }
   ],
   "source": [
    "# 2. XGBoost CLASSIFIER MODEL\n",
    "\n",
    "# ROC AUC\n",
    "from sklearn.metrics import roc_auc_score\n",
    "auc = roc_auc_score(y2, predictions)\n",
    "print('ROC AUC: %f' % auc)"
   ]
  },
  {
   "cell_type": "code",
   "execution_count": 34,
   "id": "032ee1a3",
   "metadata": {},
   "outputs": [
    {
     "data": {
      "image/png": "[encoded data removed]",
      "text/plain": [
       "<Figure size 432x360 with 1 Axes>"
      ]
     },
     "metadata": {
      "needs_background": "light"
     },
     "output_type": "display_data"
    }
   ],
   "source": [
    "from matplotlib import pyplot as plt\n",
    "from sklearn import metrics\n",
    "figsize(6, 5)\n",
    "fpr, tpr, _ = metrics.roc_curve(y2,  predictions)\n",
    "#create ROC curve\n",
    "plt.plot(fpr,tpr)\n",
    "plt.ylabel('True Positive Rate')\n",
    "plt.xlabel('False Positive Rate')\n",
    "plt.show()"
   ]
  },
  {
   "cell_type": "code",
   "execution_count": 27,
   "id": "78053820",
   "metadata": {},
   "outputs": [
    {
     "name": "stdout",
     "output_type": "stream",
     "text": [
      "Accuracy in XGBoost classifier model =  82.10166784953869\n",
      "Confusion Matrix = [[9348  363]\n",
      " [3672 9161]]\n",
      "Recall = 0.8210166784953868\n",
      "Precision = 0.8568181990989979\n",
      "Classification Report =\n",
      "               precision    recall  f1-score   support\n",
      "\n",
      "           0       0.72      0.96      0.82      9711\n",
      "           1       0.96      0.71      0.82     12833\n",
      "\n",
      "    accuracy                           0.82     22544\n",
      "   macro avg       0.84      0.84      0.82     22544\n",
      "weighted avg       0.86      0.82      0.82     22544\n",
      "\n",
      "F1 Score =  0.8210043626647618\n"
     ]
    }
   ],
   "source": [
    "from sklearn import metrics\n",
    "from sklearn.metrics import f1_score\n",
    "print('Accuracy in XGBoost classifier model = ', metrics.accuracy_score(y2, predictions)*100)\n",
    "print(\"Confusion Matrix =\", metrics.confusion_matrix(y2, predictions, labels=None, \n",
    "                                              sample_weight=None))\n",
    "print(\"Recall =\", metrics.recall_score(y2, predictions, labels=None, \n",
    "                                             pos_label=1, average='weighted', \n",
    "                                             sample_weight=None))\n",
    "print(\"Precision =\", metrics.precision_score(y2, predictions, labels=None, \n",
    "                                             pos_label=1, average='weighted', \n",
    "                                             sample_weight=None))\n",
    "print(\"Classification Report =\\n\", metrics.classification_report(y2, predictions, \n",
    "                                                                 labels=None, \n",
    "                                                                 target_names=None, \n",
    "                                                                 sample_weight=None, \n",
    "                                                                 digits=2, \n",
    "                                                                 output_dict=False))\n",
    "print(\"F1 Score = \",f1_score(y2, predictions, average='macro'))"
   ]
  },
  {
   "cell_type": "code",
   "execution_count": 35,
   "id": "306b096e",
   "metadata": {},
   "outputs": [
    {
     "data": {
      "text/plain": [
       "<AxesSubplot:>"
      ]
     },
     "execution_count": 35,
     "metadata": {},
     "output_type": "execute_result"
    },
    {
     "data": {
      "image/png": "[encoded data removed]",
      "text/plain": [
       "<Figure size 432x360 with 2 Axes>"
      ]
     },
     "metadata": {
      "needs_background": "light"
     },
     "output_type": "display_data"
    }
   ],
   "source": [
    "figsize(6, 5)\n",
    "cm_xgb = metrics.confusion_matrix(predictions, y2, labels=None, \n",
    "                                              sample_weight=None)\n",
    "import seaborn as sns\n",
    "sns.heatmap(cm_xgb, annot=True)"
   ]
  },
  {
   "cell_type": "code",
   "execution_count": 36,
   "id": "a2fac149",
   "metadata": {},
   "outputs": [
    {
     "data": {
      "text/plain": [
       "<AxesSubplot:>"
      ]
     },
     "execution_count": 36,
     "metadata": {},
     "output_type": "execute_result"
    },
    {
     "data": {
      "image/png": "[encoded data removed]",
      "text/plain": [
       "<Figure size 432x360 with 2 Axes>"
      ]
     },
     "metadata": {
      "needs_background": "light"
     },
     "output_type": "display_data"
    }
   ],
   "source": [
    "sns.heatmap(cm_xgb/np.sum(cm_xgb), annot=True, \n",
    "            fmt='.2%', cmap='Blues')"
   ]
  },
  {
   "cell_type": "code",
   "execution_count": 40,
   "id": "36107c1a",
   "metadata": {},
   "outputs": [
    {
     "name": "stdout",
     "output_type": "stream",
     "text": [
      "Model: \"sequential\"\n",
      "_________________________________________________________________\n",
      " Layer (type)                Output Shape              Param #   \n",
      "=================================================================\n",
      " dense (Dense)               (None, 4)                 20        \n",
      "                                                                 \n",
      " dense_1 (Dense)             (None, 8)                 40        \n",
      "                                                                 \n",
      " dropout (Dropout)           (None, 8)                 0         \n",
      "                                                                 \n",
      " dense_2 (Dense)             (None, 16)                144       \n",
      "                                                                 \n",
      " dropout_1 (Dropout)         (None, 16)                0         \n",
      "                                                                 \n",
      " dense_3 (Dense)             (None, 32)                544       \n",
      "                                                                 \n",
      " dense_4 (Dense)             (None, 64)                2112      \n",
      "                                                                 \n",
      " dense_5 (Dense)             (None, 2)                 130       \n",
      "                                                                 \n",
      "=================================================================\n",
      "Total params: 2,990\n",
      "Trainable params: 2,990\n",
      "Non-trainable params: 0\n",
      "_________________________________________________________________\n"
     ]
    }
   ],
   "source": [
    "# 3. DNN CLASSIFIER MODEL\n",
    "\n",
    "from tensorflow import keras\n",
    "model_DNN=keras.models.Sequential()\n",
    "model_DNN.add(keras.layers.Dense(units=4, activation = \"relu\",input_shape = select_X_train.shape[1:]))\n",
    "model_DNN.add(keras.layers.Dense(units=8,activation = \"relu\"))\n",
    "model_DNN.add(keras.layers.Dropout(0.25))\n",
    "model_DNN.add(keras.layers.Dense(units=16,activation = \"relu\" ))\n",
    "model_DNN.add(keras.layers.Dropout(0.25))\n",
    "model_DNN.add(keras.layers.Dense(units=32,activation = \"relu\" ))\n",
    "model_DNN.add(keras.layers.Dense(units=64,activation = \"relu\" ))\n",
    "model_DNN.add(keras.layers.Dense(units=2, activation = \"sigmoid\"))\n",
    "model_DNN.summary()"
   ]
  },
  {
   "cell_type": "code",
   "execution_count": 41,
   "id": "f8de6c10",
   "metadata": {},
   "outputs": [
    {
     "name": "stdout",
     "output_type": "stream",
     "text": [
      "Epoch 1/50\n",
      "8418/8418 [==============================] - 39s 4ms/step - loss: 0.2067 - accuracy: 0.9383 - val_loss: 0.4726 - val_accuracy: 0.7764\n",
      "Epoch 2/50\n",
      "8418/8418 [==============================] - 32s 4ms/step - loss: 0.1959 - accuracy: 0.9407 - val_loss: 0.5205 - val_accuracy: 0.7765\n",
      "Epoch 3/50\n",
      "8418/8418 [==============================] - 31s 4ms/step - loss: 0.1891 - accuracy: 0.9440 - val_loss: 0.5376 - val_accuracy: 0.7773\n",
      "Epoch 4/50\n",
      "8418/8418 [==============================] - 33s 4ms/step - loss: 0.1882 - accuracy: 0.9438 - val_loss: 0.5612 - val_accuracy: 0.7772\n",
      "Epoch 5/50\n",
      "8418/8418 [==============================] - 32s 4ms/step - loss: 0.1951 - accuracy: 0.9425 - val_loss: 0.5805 - val_accuracy: 0.8364\n",
      "Epoch 6/50\n",
      "8418/8418 [==============================] - 31s 4ms/step - loss: 0.1981 - accuracy: 0.9399 - val_loss: 0.5239 - val_accuracy: 0.7772\n",
      "Epoch 7/50\n",
      "8418/8418 [==============================] - 33s 4ms/step - loss: 0.1928 - accuracy: 0.9438 - val_loss: 0.5503 - val_accuracy: 0.7774\n",
      "Epoch 8/50\n",
      "8418/8418 [==============================] - 33s 4ms/step - loss: 0.1926 - accuracy: 0.9430 - val_loss: 0.5380 - val_accuracy: 0.7773\n",
      "Epoch 9/50\n",
      "8418/8418 [==============================] - 34s 4ms/step - loss: 0.1952 - accuracy: 0.9420 - val_loss: 0.3910 - val_accuracy: 0.8594\n",
      "Epoch 10/50\n",
      "8418/8418 [==============================] - 34s 4ms/step - loss: 0.1979 - accuracy: 0.9413 - val_loss: 0.5247 - val_accuracy: 0.8362\n",
      "Epoch 11/50\n",
      "8418/8418 [==============================] - 32s 4ms/step - loss: 0.1938 - accuracy: 0.9437 - val_loss: 0.5752 - val_accuracy: 0.7774\n",
      "Epoch 12/50\n",
      "8418/8418 [==============================] - 32s 4ms/step - loss: 0.1973 - accuracy: 0.9427 - val_loss: 0.5800 - val_accuracy: 0.7774\n",
      "Epoch 13/50\n",
      "8418/8418 [==============================] - 32s 4ms/step - loss: 0.2003 - accuracy: 0.9424 - val_loss: 0.5478 - val_accuracy: 0.7774\n",
      "Epoch 14/50\n",
      "8418/8418 [==============================] - 32s 4ms/step - loss: 0.2040 - accuracy: 0.9426 - val_loss: 0.7023 - val_accuracy: 0.7430\n",
      "705/705 [==============================] - 3s 4ms/step - loss: 0.5612 - accuracy: 0.7772\n",
      "Test loss =  0.5611533522605896\n",
      "Test accuracy =  0.7771912813186646\n"
     ]
    }
   ],
   "source": [
    "opt = keras.optimizers.Adam(learning_rate=0.01)\n",
    "model_DNN.compile(loss=\"sparse_categorical_crossentropy\",optimizer=opt,metrics=\"accuracy\")\n",
    "es=keras.callbacks.EarlyStopping(monitor='loss',patience=10,restore_best_weights=True)\n",
    "cp=keras.callbacks.ModelCheckpoint(\"SaranyaDNNNet_new.h5\",monitor='val_loss')\n",
    "history = model_DNN.fit(select_X_train, y1,epochs=50,batch_size=16,callbacks=[es,cp],validation_data = [select_X_test, y2])\n",
    "testloss,testaccuracy=model_DNN.evaluate(select_X_test,y2)\n",
    "print(\"Test loss = \",testloss)\n",
    "print(\"Test accuracy = \",testaccuracy)"
   ]
  },
  {
   "cell_type": "code",
   "execution_count": 42,
   "id": "55179ec1",
   "metadata": {},
   "outputs": [
    {
     "name": "stdout",
     "output_type": "stream",
     "text": [
      "[[0.05139625 0.93440366]\n",
      " [0.03437564 0.95492864]\n",
      " [0.79155624 0.28220722]\n",
      " ...\n",
      " [0.8686323  0.24734652]\n",
      " [0.9722246  0.16090205]\n",
      " [0.24131909 0.73100376]]\n",
      "[1 1 0 ... 0 0 1]\n",
      "Test Loss = 0.5611533522605896\n",
      "Test Accuracy = 0.7771912813186646\n"
     ]
    }
   ],
   "source": [
    "y_pred_DNN = model_DNN.predict(select_X_test)\n",
    "print(y_pred_DNN)\n",
    "y_pred_class_DNN=np.argmax(y_pred_DNN,axis=1)\n",
    "print(y_pred_class_DNN)\n",
    "print(\"Test Loss =\",testloss)\n",
    "print(\"Test Accuracy =\",testaccuracy)"
   ]
  },
  {
   "cell_type": "code",
   "execution_count": 43,
   "id": "f16aa9ee",
   "metadata": {},
   "outputs": [
    {
     "name": "stdout",
     "output_type": "stream",
     "text": [
      "ROC AUC: 0.792056\n"
     ]
    }
   ],
   "source": [
    "# ROC AUC\n",
    "from sklearn.metrics import roc_auc_score\n",
    "auc = roc_auc_score(y2, y_pred_class_DNN)\n",
    "print('ROC AUC: %f' % auc)"
   ]
  },
  {
   "cell_type": "code",
   "execution_count": 44,
   "id": "d5c55934",
   "metadata": {},
   "outputs": [
    {
     "data": {
      "image/png": "[encoded data removed]",
      "text/plain": [
       "<Figure size 432x360 with 1 Axes>"
      ]
     },
     "metadata": {
      "needs_background": "light"
     },
     "output_type": "display_data"
    }
   ],
   "source": [
    "from sklearn import metrics\n",
    "fpr, tpr, _ = metrics.roc_curve(y2,  y_pred_class_DNN)\n",
    "#create ROC curve\n",
    "plt.plot(fpr,tpr)\n",
    "plt.ylabel('True Positive Rate')\n",
    "plt.xlabel('False Positive Rate')\n",
    "plt.show()"
   ]
  },
  {
   "cell_type": "code",
   "execution_count": 45,
   "id": "df75c0d6",
   "metadata": {},
   "outputs": [
    {
     "name": "stdout",
     "output_type": "stream",
     "text": [
      "Accuracy in DNN classifier model =  77.71912704045423\n",
      "Confusion Matrix = [[8734 4046]\n",
      " [ 977 8787]]\n",
      "Recall = 0.7771912704045423\n",
      "Precision = 0.8064155666937596\n",
      "Classification Report =\n",
      "               precision    recall  f1-score   support\n",
      "\n",
      "           0       0.90      0.68      0.78     12780\n",
      "           1       0.68      0.90      0.78      9764\n",
      "\n",
      "    accuracy                           0.78     22544\n",
      "   macro avg       0.79      0.79      0.78     22544\n",
      "weighted avg       0.81      0.78      0.78     22544\n",
      "\n",
      "F1 Score =  0.7771900389329713\n"
     ]
    }
   ],
   "source": [
    "from sklearn import metrics\n",
    "from sklearn.metrics import f1_score\n",
    "print('Accuracy in DNN classifier model = ', metrics.accuracy_score(y_pred_class_DNN, y2)*100)\n",
    "print(\"Confusion Matrix =\", metrics.confusion_matrix(y_pred_class_DNN, y2, labels=None, \n",
    "                                              sample_weight=None))\n",
    "print(\"Recall =\", metrics.recall_score(y_pred_class_DNN, y2, labels=None, \n",
    "                                             pos_label=1, average='weighted', \n",
    "                                             sample_weight=None))\n",
    "print(\"Precision =\", metrics.precision_score(y_pred_class_DNN, y2, labels=None, \n",
    "                                             pos_label=1, average='weighted', \n",
    "                                             sample_weight=None))\n",
    "print(\"Classification Report =\\n\", metrics.classification_report(y_pred_class_DNN, y2, \n",
    "                                                                 labels=None, \n",
    "                                                                 target_names=None, \n",
    "                                                                 sample_weight=None, \n",
    "                                                                 digits=2, \n",
    "                                                                 output_dict=False))\n",
    "print(\"F1 Score = \",f1_score(y_pred_class_DNN, y2, average='macro'))"
   ]
  },
  {
   "cell_type": "code",
   "execution_count": 46,
   "id": "d4d0822f",
   "metadata": {},
   "outputs": [
    {
     "data": {
      "text/plain": [
       "<AxesSubplot:>"
      ]
     },
     "execution_count": 46,
     "metadata": {},
     "output_type": "execute_result"
    },
    {
     "data": {
      "image/png": "[encoded data removed]",
      "text/plain": [
       "<Figure size 432x360 with 2 Axes>"
      ]
     },
     "metadata": {
      "needs_background": "light"
     },
     "output_type": "display_data"
    }
   ],
   "source": [
    "cm_DNN = metrics.confusion_matrix(y_pred_class_DNN, y2, labels=None, \n",
    "                                              sample_weight=None)\n",
    "import seaborn as sns\n",
    "sns.heatmap(cm_DNN, annot=True)"
   ]
  },
  {
   "cell_type": "code",
   "execution_count": 47,
   "id": "cf561325",
   "metadata": {},
   "outputs": [
    {
     "data": {
      "text/plain": [
       "<AxesSubplot:>"
      ]
     },
     "execution_count": 47,
     "metadata": {},
     "output_type": "execute_result"
    },
    {
     "data": {
      "image/png": "[encoded data removed]",
      "text/plain": [
       "<Figure size 432x360 with 2 Axes>"
      ]
     },
     "metadata": {
      "needs_background": "light"
     },
     "output_type": "display_data"
    }
   ],
   "source": [
    "sns.heatmap(cm_DNN/np.sum(cm_DNN), annot=True, \n",
    "            fmt='.2%', cmap='Blues')"
   ]
  },
  {
   "cell_type": "code",
   "execution_count": 48,
   "id": "0db543ee",
   "metadata": {},
   "outputs": [],
   "source": [
    "# 4. CNN CLASSIFIER MODEL\n",
    "\n",
    "select_X_train_CNN = np.reshape(select_X_train, (select_X_train.shape[0],select_X_train.shape[1],1))\n",
    "select_X_test_CNN = np.reshape(select_X_test, (select_X_test.shape[0],select_X_test.shape[1],1))"
   ]
  },
  {
   "cell_type": "code",
   "execution_count": 49,
   "id": "b21b3986",
   "metadata": {},
   "outputs": [
    {
     "name": "stdout",
     "output_type": "stream",
     "text": [
      "Model: \"sequential_1\"\n",
      "_________________________________________________________________\n",
      " Layer (type)                Output Shape              Param #   \n",
      "=================================================================\n",
      " conv1d (Conv1D)             (None, 2, 4)              16        \n",
      "                                                                 \n",
      " batch_normalization (BatchN  (None, 2, 4)             16        \n",
      " ormalization)                                                   \n",
      "                                                                 \n",
      " max_pooling1d (MaxPooling1D  (None, 2, 4)             0         \n",
      " )                                                               \n",
      "                                                                 \n",
      " flatten (Flatten)           (None, 8)                 0         \n",
      "                                                                 \n",
      " dense_6 (Dense)             (None, 8)                 72        \n",
      "                                                                 \n",
      " dropout_2 (Dropout)         (None, 8)                 0         \n",
      "                                                                 \n",
      " dense_7 (Dense)             (None, 2)                 18        \n",
      "                                                                 \n",
      "=================================================================\n",
      "Total params: 122\n",
      "Trainable params: 114\n",
      "Non-trainable params: 8\n",
      "_________________________________________________________________\n"
     ]
    }
   ],
   "source": [
    "from tensorflow import keras\n",
    "from tensorflow.keras.layers import Input\n",
    "from keras.layers import Convolution1D, Dense, Dropout, MaxPooling1D, LSTM\n",
    "from keras.layers import Dense, Dropout, Activation, Lambda, Flatten\n",
    "convnet=keras.models.Sequential()\n",
    "convnet.add(keras.layers.Convolution1D(4,3,activation=\"relu\",input_shape=(4,1)))\n",
    "convnet.add(keras.layers.BatchNormalization())\n",
    "convnet.add(keras.layers.MaxPooling1D(1,1))\n",
    "convnet.add(keras.layers.Flatten())\n",
    "convnet.add(keras.layers.Dense(8,activation=\"relu\"))\n",
    "convnet.add(keras.layers.Dropout(0.25))\n",
    "convnet.add(keras.layers.Dense(2,activation=\"softmax\"))\n",
    "convnet.summary()"
   ]
  },
  {
   "cell_type": "code",
   "execution_count": 50,
   "id": "fe517a2b",
   "metadata": {},
   "outputs": [
    {
     "name": "stdout",
     "output_type": "stream",
     "text": [
      "Epoch 1/50\n",
      "8418/8418 [==============================] - 37s 4ms/step - loss: 0.2048 - accuracy: 0.9361 - val_loss: 0.5903 - val_accuracy: 0.8359\n",
      "Epoch 2/50\n",
      "8418/8418 [==============================] - 33s 4ms/step - loss: 0.2007 - accuracy: 0.9372 - val_loss: 0.4677 - val_accuracy: 0.8359\n",
      "Epoch 3/50\n",
      "8418/8418 [==============================] - 34s 4ms/step - loss: 0.1992 - accuracy: 0.9383 - val_loss: 0.4878 - val_accuracy: 0.8356\n",
      "Epoch 4/50\n",
      "8418/8418 [==============================] - 36s 4ms/step - loss: 0.1968 - accuracy: 0.9385 - val_loss: 0.4717 - val_accuracy: 0.8358\n",
      "Epoch 5/50\n",
      "8418/8418 [==============================] - 35s 4ms/step - loss: 0.1959 - accuracy: 0.9382 - val_loss: 0.5633 - val_accuracy: 0.8353\n",
      "Epoch 6/50\n",
      "8418/8418 [==============================] - 23s 3ms/step - loss: 0.1961 - accuracy: 0.9381 - val_loss: 0.5523 - val_accuracy: 0.8358\n",
      "Epoch 7/50\n",
      "8418/8418 [==============================] - 23s 3ms/step - loss: 0.1966 - accuracy: 0.9389 - val_loss: 0.5561 - val_accuracy: 0.8346\n",
      "Epoch 8/50\n",
      "8418/8418 [==============================] - 25s 3ms/step - loss: 0.1969 - accuracy: 0.9386 - val_loss: 0.5021 - val_accuracy: 0.8358\n",
      "Epoch 9/50\n",
      "8418/8418 [==============================] - 48s 6ms/step - loss: 0.1957 - accuracy: 0.9387 - val_loss: 0.5329 - val_accuracy: 0.8355\n",
      "Epoch 10/50\n",
      "8418/8418 [==============================] - 46s 5ms/step - loss: 0.1958 - accuracy: 0.9390 - val_loss: 0.5516 - val_accuracy: 0.8350\n",
      "Epoch 11/50\n",
      "8418/8418 [==============================] - 47s 6ms/step - loss: 0.1965 - accuracy: 0.9389 - val_loss: 0.5324 - val_accuracy: 0.8357\n",
      "Epoch 12/50\n",
      "8418/8418 [==============================] - 46s 5ms/step - loss: 0.1957 - accuracy: 0.9385 - val_loss: 0.5335 - val_accuracy: 0.7772\n",
      "Epoch 13/50\n",
      "8418/8418 [==============================] - 47s 6ms/step - loss: 0.1964 - accuracy: 0.9391 - val_loss: 0.5033 - val_accuracy: 0.8361\n",
      "Epoch 14/50\n",
      "8418/8418 [==============================] - 47s 6ms/step - loss: 0.1961 - accuracy: 0.9389 - val_loss: 0.5688 - val_accuracy: 0.7770\n",
      "Epoch 15/50\n",
      "8418/8418 [==============================] - 48s 6ms/step - loss: 0.1957 - accuracy: 0.9384 - val_loss: 0.4749 - val_accuracy: 0.8349\n",
      "Epoch 16/50\n",
      "8418/8418 [==============================] - 48s 6ms/step - loss: 0.1956 - accuracy: 0.9390 - val_loss: 0.5685 - val_accuracy: 0.7773\n",
      "Epoch 17/50\n",
      "8418/8418 [==============================] - 47s 6ms/step - loss: 0.1961 - accuracy: 0.9388 - val_loss: 0.4880 - val_accuracy: 0.8362\n",
      "Epoch 18/50\n",
      "8418/8418 [==============================] - 48s 6ms/step - loss: 0.1962 - accuracy: 0.9388 - val_loss: 0.5927 - val_accuracy: 0.8353\n",
      "Epoch 19/50\n",
      "8418/8418 [==============================] - 47s 6ms/step - loss: 0.1962 - accuracy: 0.9388 - val_loss: 0.5234 - val_accuracy: 0.7774\n",
      "Epoch 20/50\n",
      "8418/8418 [==============================] - 48s 6ms/step - loss: 0.1958 - accuracy: 0.9390 - val_loss: 0.4831 - val_accuracy: 0.8353\n",
      "Epoch 21/50\n",
      "8418/8418 [==============================] - 48s 6ms/step - loss: 0.1965 - accuracy: 0.9386 - val_loss: 0.5217 - val_accuracy: 0.7774\n",
      "Epoch 22/50\n",
      "8418/8418 [==============================] - 41s 5ms/step - loss: 0.1946 - accuracy: 0.9390 - val_loss: 0.4644 - val_accuracy: 0.8340\n",
      "Epoch 23/50\n",
      "8418/8418 [==============================] - 47s 6ms/step - loss: 0.1954 - accuracy: 0.9385 - val_loss: 0.4737 - val_accuracy: 0.7775\n",
      "Epoch 24/50\n",
      "8418/8418 [==============================] - 47s 6ms/step - loss: 0.1959 - accuracy: 0.9393 - val_loss: 0.5780 - val_accuracy: 0.8348\n",
      "Epoch 25/50\n",
      "8418/8418 [==============================] - 47s 6ms/step - loss: 0.1960 - accuracy: 0.9388 - val_loss: 0.5996 - val_accuracy: 0.8326\n",
      "Epoch 26/50\n",
      "8418/8418 [==============================] - 48s 6ms/step - loss: 0.1961 - accuracy: 0.9385 - val_loss: 0.4557 - val_accuracy: 0.8357\n",
      "Epoch 27/50\n",
      "8418/8418 [==============================] - 44s 5ms/step - loss: 0.1947 - accuracy: 0.9392 - val_loss: 0.6012 - val_accuracy: 0.7764\n",
      "Epoch 28/50\n",
      "8418/8418 [==============================] - 47s 6ms/step - loss: 0.1959 - accuracy: 0.9389 - val_loss: 0.5109 - val_accuracy: 0.8355\n",
      "Epoch 29/50\n",
      "8418/8418 [==============================] - 48s 6ms/step - loss: 0.1958 - accuracy: 0.9386 - val_loss: 0.4966 - val_accuracy: 0.8358\n",
      "Epoch 30/50\n",
      "8418/8418 [==============================] - 46s 5ms/step - loss: 0.1958 - accuracy: 0.9388 - val_loss: 0.5949 - val_accuracy: 0.7764\n",
      "Epoch 31/50\n",
      "8418/8418 [==============================] - 46s 5ms/step - loss: 0.1955 - accuracy: 0.9388 - val_loss: 0.5305 - val_accuracy: 0.8358\n",
      "Epoch 32/50\n",
      "8418/8418 [==============================] - 47s 6ms/step - loss: 0.1971 - accuracy: 0.9388 - val_loss: 0.5893 - val_accuracy: 0.7766\n",
      "705/705 [==============================] - 5s 6ms/step - loss: 0.4644 - accuracy: 0.8340: 1s - loss: - ETA: 1s - loss: 0.4656 - accuracy:  - E\n",
      "Test loss =  0.4644162952899933\n",
      "Test accuracy =  0.8340134620666504\n"
     ]
    }
   ],
   "source": [
    "opt = keras.optimizers.Adam(learning_rate=0.01)\n",
    "convnet.compile(loss=\"sparse_categorical_crossentropy\",optimizer=opt,metrics=\"accuracy\")\n",
    "es=keras.callbacks.EarlyStopping(monitor='loss',patience=10,restore_best_weights=True)\n",
    "cp=keras.callbacks.ModelCheckpoint(\"SaranyaConvNet_new.h5\",monitor='val_loss')\n",
    "history = convnet.fit(select_X_train_CNN,y1,epochs=50,batch_size=16,callbacks=[es,cp],validation_data = [select_X_test_CNN, y2])\n",
    "testloss,testaccuracy=convnet.evaluate(select_X_test_CNN,y2)\n",
    "print(\"Test loss = \",testloss)\n",
    "print(\"Test accuracy = \",testaccuracy)"
   ]
  },
  {
   "cell_type": "code",
   "execution_count": 51,
   "id": "f2c44d24",
   "metadata": {},
   "outputs": [
    {
     "name": "stdout",
     "output_type": "stream",
     "text": [
      "[[4.0454400e-04 9.9959546e-01]\n",
      " [1.4836749e-04 9.9985158e-01]\n",
      " [8.1149536e-01 1.8850458e-01]\n",
      " ...\n",
      " [9.6894485e-01 3.1055136e-02]\n",
      " [9.8216450e-01 1.7835563e-02]\n",
      " [2.8027805e-02 9.7197223e-01]]\n",
      "[1 1 0 ... 0 0 1]\n"
     ]
    }
   ],
   "source": [
    "y_pred_CNN = convnet.predict(select_X_test_CNN)\n",
    "print(y_pred_CNN)\n",
    "y_pred_class_CNN=np.argmax(y_pred_CNN,axis=1)\n",
    "print(y_pred_class_CNN)"
   ]
  },
  {
   "cell_type": "code",
   "execution_count": 52,
   "id": "1a92eec9",
   "metadata": {},
   "outputs": [
    {
     "name": "stdout",
     "output_type": "stream",
     "text": [
      "ROC AUC: 0.840501\n"
     ]
    }
   ],
   "source": [
    "# ROC AUC\n",
    "from sklearn.metrics import roc_auc_score\n",
    "auc = roc_auc_score(y2, y_pred_class_CNN)\n",
    "print('ROC AUC: %f' % auc)"
   ]
  },
  {
   "cell_type": "code",
   "execution_count": 53,
   "id": "7dbe8b34",
   "metadata": {},
   "outputs": [
    {
     "data": {
      "image/png": "[encoded data removed]",
      "text/plain": [
       "<Figure size 432x360 with 1 Axes>"
      ]
     },
     "metadata": {
      "needs_background": "light"
     },
     "output_type": "display_data"
    }
   ],
   "source": [
    "fpr, tpr, _ = metrics.roc_curve(y2,  y_pred_class_CNN)\n",
    "#create ROC curve\n",
    "plt.plot(fpr,tpr)\n",
    "plt.ylabel('True Positive Rate')\n",
    "plt.xlabel('False Positive Rate')\n",
    "plt.show()"
   ]
  },
  {
   "cell_type": "code",
   "execution_count": 54,
   "id": "59da0545",
   "metadata": {},
   "outputs": [
    {
     "name": "stdout",
     "output_type": "stream",
     "text": [
      "Accuracy in CNN classifier model =  83.4013484740951\n",
      "Confusion Matrix = [[ 8617  2648]\n",
      " [ 1094 10185]]\n",
      "Recall = 0.834013484740951\n",
      "Precision = 0.8404715231834253\n",
      "Classification Report =\n",
      "               precision    recall  f1-score   support\n",
      "\n",
      "           0       0.89      0.76      0.82     11265\n",
      "           1       0.79      0.90      0.84     11279\n",
      "\n",
      "    accuracy                           0.83     22544\n",
      "   macro avg       0.84      0.83      0.83     22544\n",
      "weighted avg       0.84      0.83      0.83     22544\n",
      "\n",
      "F1 Score =  0.8332066046221118\n"
     ]
    }
   ],
   "source": [
    "from sklearn import metrics\n",
    "from sklearn.metrics import f1_score\n",
    "print('Accuracy in CNN classifier model = ', metrics.accuracy_score(y_pred_class_CNN, y2)*100)\n",
    "print(\"Confusion Matrix =\", metrics.confusion_matrix(y_pred_class_CNN, y2, labels=None, \n",
    "                                              sample_weight=None))\n",
    "print(\"Recall =\", metrics.recall_score(y_pred_class_CNN, y2, labels=None, \n",
    "                                             pos_label=1, average='weighted', \n",
    "                                             sample_weight=None))\n",
    "print(\"Precision =\", metrics.precision_score(y_pred_class_CNN, y2, labels=None, \n",
    "                                             pos_label=1, average='weighted', \n",
    "                                             sample_weight=None))\n",
    "print(\"Classification Report =\\n\", metrics.classification_report(y_pred_class_CNN, y2, \n",
    "                                                                 labels=None, \n",
    "                                                                 target_names=None, \n",
    "                                                                 sample_weight=None, \n",
    "                                                                 digits=2, \n",
    "                                                                 output_dict=False))\n",
    "print(\"F1 Score = \",f1_score(y_pred_class_CNN, y2, average='macro'))"
   ]
  },
  {
   "cell_type": "code",
   "execution_count": 55,
   "id": "c0ce1791",
   "metadata": {},
   "outputs": [
    {
     "data": {
      "text/plain": [
       "<AxesSubplot:>"
      ]
     },
     "execution_count": 55,
     "metadata": {},
     "output_type": "execute_result"
    },
    {
     "data": {
      "image/png": "[encoded data removed]",
      "text/plain": [
       "<Figure size 432x360 with 2 Axes>"
      ]
     },
     "metadata": {
      "needs_background": "light"
     },
     "output_type": "display_data"
    }
   ],
   "source": [
    "cm_CNN = metrics.confusion_matrix(y_pred_class_CNN, y2, labels=None, \n",
    "                                              sample_weight=None)\n",
    "import seaborn as sns\n",
    "sns.heatmap(cm_CNN, annot=True)"
   ]
  },
  {
   "cell_type": "code",
   "execution_count": 56,
   "id": "fde8012f",
   "metadata": {},
   "outputs": [
    {
     "data": {
      "text/plain": [
       "<AxesSubplot:>"
      ]
     },
     "execution_count": 56,
     "metadata": {},
     "output_type": "execute_result"
    },
    {
     "data": {
      "image/png": "[encoded data removed]",
      "text/plain": [
       "<Figure size 432x360 with 2 Axes>"
      ]
     },
     "metadata": {
      "needs_background": "light"
     },
     "output_type": "display_data"
    }
   ],
   "source": [
    "sns.heatmap(cm_CNN/np.sum(cm_CNN), annot=True, \n",
    "            fmt='.2%', cmap='Blues')"
   ]
  },
  {
   "cell_type": "code",
   "execution_count": 57,
   "id": "71d3f407",
   "metadata": {},
   "outputs": [
    {
     "name": "stdout",
     "output_type": "stream",
     "text": [
      "134686\n",
      "22544\n"
     ]
    }
   ],
   "source": [
    "# 5. TCN CLASSIFIER MODEL\n",
    "\n",
    "print(select_X_train.shape[0])\n",
    "print(select_X_test.shape[0])"
   ]
  },
  {
   "cell_type": "code",
   "execution_count": 58,
   "id": "81f88423",
   "metadata": {},
   "outputs": [
    {
     "name": "stdout",
     "output_type": "stream",
     "text": [
      "(134686, 4) (134686,) (22544, 4) (22544,)\n",
      "(134686, 4, 1) (134686,) (22544, 4, 1) (22544,)\n"
     ]
    }
   ],
   "source": [
    "print(select_X_train.shape, y1.shape, select_X_test.shape, y2.shape)\n",
    "select_X_train_TCN = np.reshape(select_X_train, (select_X_train.shape[0],select_X_train.shape[1],1))\n",
    "select_X_test_TCN = np.reshape(select_X_test, (select_X_test.shape[0],select_X_test.shape[1],1))\n",
    "print(select_X_train_TCN.shape, y1.shape, select_X_test_TCN.shape, y2.shape)"
   ]
  },
  {
   "cell_type": "code",
   "execution_count": 59,
   "id": "66953a0a",
   "metadata": {},
   "outputs": [
    {
     "name": "stdout",
     "output_type": "stream",
     "text": [
      "(134686, 4, 1) (134686,) (22544, 4, 1) (22544,)\n"
     ]
    }
   ],
   "source": [
    "from tensorflow.keras.utils import to_categorical\n",
    "num_classes = 2\n",
    "y1_TCN = to_categorical(y1, num_classes)\n",
    "y2_TCN = to_categorical(y2, num_classes)\n",
    "print(select_X_train_TCN.shape, y1.shape, select_X_test_TCN.shape, y2.shape)"
   ]
  },
  {
   "cell_type": "code",
   "execution_count": 60,
   "id": "c65ba4b0",
   "metadata": {},
   "outputs": [
    {
     "name": "stdout",
     "output_type": "stream",
     "text": [
      "(134686, 4, 1) (134686,) (22544, 4, 1) (22544,)\n"
     ]
    }
   ],
   "source": [
    "y1_TCN = np.expand_dims(y1_TCN, axis=2)\n",
    "y2_TCN = np.expand_dims(y2_TCN, axis=2)\n",
    "print(select_X_train_TCN.shape, y1.shape, select_X_test_TCN.shape, y2.shape)"
   ]
  },
  {
   "cell_type": "code",
   "execution_count": 61,
   "id": "8d4ab798",
   "metadata": {},
   "outputs": [
    {
     "name": "stdout",
     "output_type": "stream",
     "text": [
      "Requirement already satisfied: keras-tcn in c:\\users\\admin\\anaconda3\\lib\\site-packages (3.4.2)\n",
      "Requirement already satisfied: tensorflow in c:\\users\\admin\\anaconda3\\lib\\site-packages (from keras-tcn) (2.7.0)\n",
      "Requirement already satisfied: numpy in c:\\users\\admin\\anaconda3\\lib\\site-packages (from keras-tcn) (1.20.1)\n",
      "Requirement already satisfied: tensorflow-addons in c:\\users\\admin\\anaconda3\\lib\\site-packages (from keras-tcn) (0.16.1)\n",
      "Requirement already satisfied: gast<0.5.0,>=0.2.1 in c:\\users\\admin\\anaconda3\\lib\\site-packages (from tensorflow->keras-tcn) (0.4.0)\n",
      "Requirement already satisfied: protobuf>=3.9.2 in c:\\users\\admin\\anaconda3\\lib\\site-packages (from tensorflow->keras-tcn) (3.19.1)\n",
      "Requirement already satisfied: tensorflow-estimator<2.8,~=2.7.0rc0 in c:\\users\\admin\\anaconda3\\lib\\site-packages (from tensorflow->keras-tcn) (2.7.0)\n",
      "Requirement already satisfied: wheel<1.0,>=0.32.0 in c:\\users\\admin\\anaconda3\\lib\\site-packages (from tensorflow->keras-tcn) (0.36.2)\n",
      "Requirement already satisfied: h5py>=2.9.0 in c:\\users\\admin\\anaconda3\\lib\\site-packages (from tensorflow->keras-tcn) (2.10.0)\n",
      "Requirement already satisfied: tensorboard~=2.6 in c:\\users\\admin\\anaconda3\\lib\\site-packages (from tensorflow->keras-tcn) (2.7.0)\n",
      "Requirement already satisfied: wrapt>=1.11.0 in c:\\users\\admin\\anaconda3\\lib\\site-packages (from tensorflow->keras-tcn) (1.12.1)\n",
      "Requirement already satisfied: opt-einsum>=2.3.2 in c:\\users\\admin\\anaconda3\\lib\\site-packages (from tensorflow->keras-tcn) (3.3.0)\n",
      "Requirement already satisfied: flatbuffers<3.0,>=1.12 in c:\\users\\admin\\anaconda3\\lib\\site-packages (from tensorflow->keras-tcn) (2.0)\n",
      "Requirement already satisfied: google-pasta>=0.1.1 in c:\\users\\admin\\anaconda3\\lib\\site-packages (from tensorflow->keras-tcn) (0.2.0)\n",
      "Requirement already satisfied: six>=1.12.0 in c:\\users\\admin\\anaconda3\\lib\\site-packages (from tensorflow->keras-tcn) (1.15.0)\n",
      "Requirement already satisfied: keras-preprocessing>=1.1.1 in c:\\users\\admin\\anaconda3\\lib\\site-packages (from tensorflow->keras-tcn) (1.1.2)\n",
      "Requirement already satisfied: keras<2.8,>=2.7.0rc0 in c:\\users\\admin\\anaconda3\\lib\\site-packages (from tensorflow->keras-tcn) (2.7.0)\n",
      "Requirement already satisfied: termcolor>=1.1.0 in c:\\users\\admin\\anaconda3\\lib\\site-packages (from tensorflow->keras-tcn) (1.1.0)\n",
      "Requirement already satisfied: absl-py>=0.4.0 in c:\\users\\admin\\anaconda3\\lib\\site-packages (from tensorflow->keras-tcn) (1.0.0)\n",
      "Requirement already satisfied: tensorflow-io-gcs-filesystem>=0.21.0 in c:\\users\\admin\\anaconda3\\lib\\site-packages (from tensorflow->keras-tcn) (0.23.1)\n",
      "Requirement already satisfied: grpcio<2.0,>=1.24.3 in c:\\users\\admin\\anaconda3\\lib\\site-packages (from tensorflow->keras-tcn) (1.43.0)\n",
      "Requirement already satisfied: astunparse>=1.6.0 in c:\\users\\admin\\anaconda3\\lib\\site-packages (from tensorflow->keras-tcn) (1.6.3)\n",
      "Requirement already satisfied: typing-extensions>=3.6.6 in c:\\users\\admin\\anaconda3\\lib\\site-packages (from tensorflow->keras-tcn) (3.7.4.3)\n",
      "Requirement already satisfied: libclang>=9.0.1 in c:\\users\\admin\\anaconda3\\lib\\site-packages (from tensorflow->keras-tcn) (12.0.0)\n",
      "Requirement already satisfied: google-auth-oauthlib<0.5,>=0.4.1 in c:\\users\\admin\\anaconda3\\lib\\site-packages (from tensorboard~=2.6->tensorflow->keras-tcn) (0.4.6)\n",
      "Requirement already satisfied: markdown>=2.6.8 in c:\\users\\admin\\anaconda3\\lib\\site-packages (from tensorboard~=2.6->tensorflow->keras-tcn) (3.3.6)\n",
      "Requirement already satisfied: tensorboard-plugin-wit>=1.6.0 in c:\\users\\admin\\anaconda3\\lib\\site-packages (from tensorboard~=2.6->tensorflow->keras-tcn) (1.8.0)\n",
      "Requirement already satisfied: setuptools>=41.0.0 in c:\\users\\admin\\anaconda3\\lib\\site-packages (from tensorboard~=2.6->tensorflow->keras-tcn) (52.0.0.post20210125)\n",
      "Requirement already satisfied: google-auth<3,>=1.6.3 in c:\\users\\admin\\anaconda3\\lib\\site-packages (from tensorboard~=2.6->tensorflow->keras-tcn) (2.3.3)\n",
      "Requirement already satisfied: werkzeug>=0.11.15 in c:\\users\\admin\\anaconda3\\lib\\site-packages (from tensorboard~=2.6->tensorflow->keras-tcn) (1.0.1)\n",
      "Requirement already satisfied: requests<3,>=2.21.0 in c:\\users\\admin\\anaconda3\\lib\\site-packages (from tensorboard~=2.6->tensorflow->keras-tcn) (2.25.1)\n",
      "Requirement already satisfied: tensorboard-data-server<0.7.0,>=0.6.0 in c:\\users\\admin\\anaconda3\\lib\\site-packages (from tensorboard~=2.6->tensorflow->keras-tcn) (0.6.1)\n",
      "Requirement already satisfied: rsa<5,>=3.1.4 in c:\\users\\admin\\anaconda3\\lib\\site-packages (from google-auth<3,>=1.6.3->tensorboard~=2.6->tensorflow->keras-tcn) (4.8)\n",
      "Requirement already satisfied: cachetools<5.0,>=2.0.0 in c:\\users\\admin\\anaconda3\\lib\\site-packages (from google-auth<3,>=1.6.3->tensorboard~=2.6->tensorflow->keras-tcn) (4.2.4)\n",
      "Requirement already satisfied: pyasn1-modules>=0.2.1 in c:\\users\\admin\\anaconda3\\lib\\site-packages (from google-auth<3,>=1.6.3->tensorboard~=2.6->tensorflow->keras-tcn) (0.2.8)\n",
      "Requirement already satisfied: requests-oauthlib>=0.7.0 in c:\\users\\admin\\anaconda3\\lib\\site-packages (from google-auth-oauthlib<0.5,>=0.4.1->tensorboard~=2.6->tensorflow->keras-tcn) (1.3.0)\n",
      "Requirement already satisfied: importlib-metadata>=4.4 in c:\\users\\admin\\anaconda3\\lib\\site-packages (from markdown>=2.6.8->tensorboard~=2.6->tensorflow->keras-tcn) (4.10.0)\n",
      "Requirement already satisfied: zipp>=0.5 in c:\\users\\admin\\anaconda3\\lib\\site-packages (from importlib-metadata>=4.4->markdown>=2.6.8->tensorboard~=2.6->tensorflow->keras-tcn) (3.4.1)\n",
      "Requirement already satisfied: pyasn1<0.5.0,>=0.4.6 in c:\\users\\admin\\anaconda3\\lib\\site-packages (from pyasn1-modules>=0.2.1->google-auth<3,>=1.6.3->tensorboard~=2.6->tensorflow->keras-tcn) (0.4.8)\n",
      "Requirement already satisfied: certifi>=2017.4.17 in c:\\users\\admin\\anaconda3\\lib\\site-packages (from requests<3,>=2.21.0->tensorboard~=2.6->tensorflow->keras-tcn) (2020.12.5)\n",
      "Requirement already satisfied: urllib3<1.27,>=1.21.1 in c:\\users\\admin\\anaconda3\\lib\\site-packages (from requests<3,>=2.21.0->tensorboard~=2.6->tensorflow->keras-tcn) (1.26.4)\n",
      "Requirement already satisfied: idna<3,>=2.5 in c:\\users\\admin\\anaconda3\\lib\\site-packages (from requests<3,>=2.21.0->tensorboard~=2.6->tensorflow->keras-tcn) (2.10)\n",
      "Requirement already satisfied: chardet<5,>=3.0.2 in c:\\users\\admin\\anaconda3\\lib\\site-packages (from requests<3,>=2.21.0->tensorboard~=2.6->tensorflow->keras-tcn) (4.0.0)\n",
      "Requirement already satisfied: oauthlib>=3.0.0 in c:\\users\\admin\\anaconda3\\lib\\site-packages (from requests-oauthlib>=0.7.0->google-auth-oauthlib<0.5,>=0.4.1->tensorboard~=2.6->tensorflow->keras-tcn) (3.1.1)\n",
      "Requirement already satisfied: typeguard>=2.7 in c:\\users\\admin\\anaconda3\\lib\\site-packages (from tensorflow-addons->keras-tcn) (2.13.3)\n"
     ]
    }
   ],
   "source": [
    "!pip install keras-tcn"
   ]
  },
  {
   "cell_type": "code",
   "execution_count": 62,
   "id": "90f61dfe",
   "metadata": {},
   "outputs": [],
   "source": [
    "import numpy as np\n",
    "from tensorflow.keras import Model, Input\n",
    "from tensorflow.keras.layers import Dense, Dropout, Embedding\n",
    "from tensorflow.keras.preprocessing import sequence\n",
    "from tcn import compiled_tcn"
   ]
  },
  {
   "cell_type": "code",
   "execution_count": 63,
   "id": "6c9469a8",
   "metadata": {},
   "outputs": [
    {
     "name": "stdout",
     "output_type": "stream",
     "text": [
      "x.shape= (None, 64)\n",
      "model.x = (None, 4, 1)\n",
      "model.y = (None, 2)\n"
     ]
    },
    {
     "name": "stderr",
     "output_type": "stream",
     "text": [
      "C:\\Users\\admin\\anaconda3\\lib\\site-packages\\keras\\optimizer_v2\\adam.py:105: UserWarning: The `lr` argument is deprecated, use `learning_rate` instead.\n",
      "  super(Adam, self).__init__(name, **kwargs)\n"
     ]
    }
   ],
   "source": [
    "model_TCN = compiled_tcn(return_sequences = False,num_feat = 1, num_classes = 2, nb_filters = 64,kernel_size=6,\n",
    "                    dilations=[1,2,4,8,16,32,64],nb_stacks=1, opt='adam',lr=0.002,activation = 'relu',kernel_initializer = \n",
    "                    'he_normal',use_batch_norm=True,use_layer_norm = False,use_weight_norm = False,\n",
    "                     max_len=select_X_train_TCN[0:1].shape[1],use_skip_connections=True) "
   ]
  },
  {
   "cell_type": "code",
   "execution_count": 64,
   "id": "138fc017",
   "metadata": {},
   "outputs": [
    {
     "name": "stdout",
     "output_type": "stream",
     "text": [
      "4\n"
     ]
    }
   ],
   "source": [
    "print(select_X_train_TCN[0:1].shape[1])"
   ]
  },
  {
   "cell_type": "code",
   "execution_count": 65,
   "id": "c4490ec4",
   "metadata": {},
   "outputs": [
    {
     "name": "stdout",
     "output_type": "stream",
     "text": [
      "x_train.shape = (134686, 4, 1)\n",
      "y_train.shape = (134686, 2, 1)\n",
      "x_test.shape = (22544, 4, 1)\n",
      "y_test.shape = (22544, 2, 1)\n"
     ]
    }
   ],
   "source": [
    "print(f'x_train.shape = {select_X_train_TCN.shape}')\n",
    "print(f'y_train.shape = {y1_TCN.shape}')\n",
    "print(f'x_test.shape = {select_X_test_TCN.shape}')\n",
    "print(f'y_test.shape = {y2_TCN.shape}')"
   ]
  },
  {
   "cell_type": "code",
   "execution_count": 66,
   "id": "d6021c8c",
   "metadata": {},
   "outputs": [
    {
     "name": "stdout",
     "output_type": "stream",
     "text": [
      "Model: \"model\"\n",
      "_________________________________________________________________\n",
      " Layer (type)                Output Shape              Param #   \n",
      "=================================================================\n",
      " input_1 (InputLayer)        [(None, 4, 1)]            0         \n",
      "                                                                 \n",
      " tcn (TCN)                   (None, 64)                324480    \n",
      "                                                                 \n",
      " dense_8 (Dense)             (None, 2)                 130       \n",
      "                                                                 \n",
      " activation (Activation)     (None, 2)                 0         \n",
      "                                                                 \n",
      "=================================================================\n",
      "Total params: 324,610\n",
      "Trainable params: 322,818\n",
      "Non-trainable params: 1,792\n",
      "_________________________________________________________________\n"
     ]
    }
   ],
   "source": [
    "model_TCN.summary()"
   ]
  },
  {
   "cell_type": "code",
   "execution_count": 67,
   "id": "4ecaa30b",
   "metadata": {},
   "outputs": [],
   "source": [
    "y1_TCN = y1_TCN.squeeze().argmax(axis=1)\n",
    "y2_TCN = y2_TCN.squeeze().argmax(axis=1)"
   ]
  },
  {
   "cell_type": "code",
   "execution_count": 68,
   "id": "3e7973ec",
   "metadata": {},
   "outputs": [
    {
     "name": "stdout",
     "output_type": "stream",
     "text": [
      "Epoch 1/10\n",
      "4209/4209 [==============================] - 657s 148ms/step - loss: 0.1776 - accuracy: 0.9460 - val_loss: 0.5804 - val_accuracy: 0.7759\n",
      "Epoch 2/10\n",
      "4209/4209 [==============================] - 619s 147ms/step - loss: 0.1600 - accuracy: 0.9513 - val_loss: 0.5476 - val_accuracy: 0.7750\n",
      "Epoch 3/10\n",
      "4209/4209 [==============================] - 618s 147ms/step - loss: 0.1565 - accuracy: 0.9517 - val_loss: 0.5962 - val_accuracy: 0.7745\n",
      "Epoch 4/10\n",
      "4209/4209 [==============================] - 617s 147ms/step - loss: 0.1540 - accuracy: 0.9517 - val_loss: 0.5279 - val_accuracy: 0.7760\n",
      "Epoch 5/10\n",
      "4209/4209 [==============================] - 632s 150ms/step - loss: 0.1520 - accuracy: 0.9521 - val_loss: 0.5970 - val_accuracy: 0.7626\n",
      "Epoch 6/10\n",
      "4209/4209 [==============================] - 631s 150ms/step - loss: 0.1506 - accuracy: 0.9525 - val_loss: 0.5602 - val_accuracy: 0.7385\n",
      "Epoch 7/10\n",
      "4209/4209 [==============================] - 638s 152ms/step - loss: 0.1499 - accuracy: 0.9530 - val_loss: 0.6341 - val_accuracy: 0.7325\n",
      "Epoch 8/10\n",
      "4209/4209 [==============================] - 699s 166ms/step - loss: 0.1490 - accuracy: 0.9533 - val_loss: 0.5832 - val_accuracy: 0.7626\n",
      "Epoch 9/10\n",
      "4209/4209 [==============================] - 692s 164ms/step - loss: 0.1487 - accuracy: 0.9534 - val_loss: 0.6277 - val_accuracy: 0.7390\n",
      "Epoch 10/10\n",
      "4209/4209 [==============================] - 519s 123ms/step - loss: 0.1483 - accuracy: 0.9535 - val_loss: 0.5613 - val_accuracy: 0.7678\n"
     ]
    }
   ],
   "source": [
    "history = model_TCN.fit(select_X_train_TCN, y1_TCN, epochs = 10, validation_data = [select_X_test_TCN, y2_TCN], \n",
    "                    workers=4, use_multiprocessing=True)"
   ]
  },
  {
   "cell_type": "code",
   "execution_count": 69,
   "id": "e810a8ef",
   "metadata": {},
   "outputs": [
    {
     "name": "stdout",
     "output_type": "stream",
     "text": [
      "705/705 [==============================] - 26s 36ms/step - loss: 0.5613 - accuracy: 0.76780s - loss: 0.5608 - ac\n",
      "Accuracy : 76.78 %\n",
      "Loss : 56.13 %\n"
     ]
    }
   ],
   "source": [
    "result = model_TCN.evaluate(select_X_test_TCN, y2_TCN)\n",
    "print(f\"Accuracy : {result[1] * 100:.2f} %\")\n",
    "print(f\"Loss : {result[0] * 100:.2f} %\")"
   ]
  },
  {
   "cell_type": "code",
   "execution_count": 70,
   "id": "110f70bf",
   "metadata": {},
   "outputs": [
    {
     "name": "stdout",
     "output_type": "stream",
     "text": [
      "[1 1 0 ... 0 0 1]\n",
      "[1 1 0 ... 0 0 1]\n"
     ]
    }
   ],
   "source": [
    "y_pred_TCN = model_TCN.predict(select_X_test_TCN, verbose=0)\n",
    "print(np.argmax(y_pred_TCN, axis=1))\n",
    "y_pred_class_TCN=np.argmax(y_pred_TCN,axis=1)\n",
    "print(y_pred_class_TCN)"
   ]
  },
  {
   "cell_type": "code",
   "execution_count": 71,
   "id": "3ee14824",
   "metadata": {},
   "outputs": [
    {
     "name": "stdout",
     "output_type": "stream",
     "text": [
      "ROC AUC: 0.783696\n"
     ]
    }
   ],
   "source": [
    "from sklearn.metrics import roc_auc_score\n",
    "auc = roc_auc_score(y2_TCN, y_pred_class_TCN)\n",
    "print('ROC AUC: %f' % auc)"
   ]
  },
  {
   "cell_type": "code",
   "execution_count": 72,
   "id": "573b5a5a",
   "metadata": {},
   "outputs": [
    {
     "data": {
      "image/png": "[encoded data removed]",
      "text/plain": [
       "<Figure size 432x360 with 1 Axes>"
      ]
     },
     "metadata": {
      "needs_background": "light"
     },
     "output_type": "display_data"
    }
   ],
   "source": [
    "fpr, tpr, _ = metrics.roc_curve(y2,  y_pred_class_TCN)\n",
    "#create ROC curve\n",
    "plt.plot(fpr,tpr)\n",
    "plt.ylabel('True Positive Rate')\n",
    "plt.xlabel('False Positive Rate')\n",
    "plt.show()"
   ]
  },
  {
   "cell_type": "code",
   "execution_count": 73,
   "id": "1a608c0c",
   "metadata": {},
   "outputs": [
    {
     "name": "stdout",
     "output_type": "stream",
     "text": [
      "Accuracy in TCN classifier model =  76.77874378992193\n",
      "Confusion Matrix = [[8726 4250]\n",
      " [ 985 8583]]\n",
      "Recall = 0.7677874378992193\n",
      "Precision = 0.8010610764610482\n",
      "Classification Report =\n",
      "               precision    recall  f1-score   support\n",
      "\n",
      "           0       0.90      0.67      0.77     12976\n",
      "           1       0.67      0.90      0.77      9568\n",
      "\n",
      "    accuracy                           0.77     22544\n",
      "   macro avg       0.78      0.78      0.77     22544\n",
      "weighted avg       0.80      0.77      0.77     22544\n",
      "\n",
      "F1 Score =  0.7677780943192258\n"
     ]
    }
   ],
   "source": [
    "from sklearn import metrics\n",
    "from sklearn.metrics import f1_score\n",
    "print('Accuracy in TCN classifier model = ', metrics.accuracy_score(y_pred_class_TCN, y2_TCN)*100)\n",
    "print(\"Confusion Matrix =\", metrics.confusion_matrix(y_pred_class_TCN, y2_TCN, labels=None, \n",
    "                                              sample_weight=None))\n",
    "print(\"Recall =\", metrics.recall_score(y_pred_class_TCN, y2_TCN, labels=None, \n",
    "                                             pos_label=1, average='weighted', \n",
    "                                             sample_weight=None))\n",
    "print(\"Precision =\", metrics.precision_score(y_pred_class_TCN, y2_TCN, labels=None, \n",
    "                                             pos_label=1, average='weighted', \n",
    "                                             sample_weight=None))\n",
    "print(\"Classification Report =\\n\", metrics.classification_report(y_pred_class_TCN, y2_TCN, \n",
    "                                                                 labels=None, \n",
    "                                                                 target_names=None, \n",
    "                                                                 sample_weight=None, \n",
    "                                                                 digits=2, \n",
    "                                                                 output_dict=False))\n",
    "print(\"F1 Score = \",f1_score(y_pred_class_TCN, y2_TCN, average='macro'))"
   ]
  },
  {
   "cell_type": "code",
   "execution_count": 74,
   "id": "294d484b",
   "metadata": {},
   "outputs": [
    {
     "data": {
      "text/plain": [
       "<AxesSubplot:>"
      ]
     },
     "execution_count": 74,
     "metadata": {},
     "output_type": "execute_result"
    },
    {
     "data": {
      "image/png": "[encoded data removed]",
      "text/plain": [
       "<Figure size 432x360 with 2 Axes>"
      ]
     },
     "metadata": {
      "needs_background": "light"
     },
     "output_type": "display_data"
    }
   ],
   "source": [
    "cm_TCN = metrics.confusion_matrix(y_pred_class_TCN, y2, labels=None, \n",
    "                                              sample_weight=None)\n",
    "import seaborn as sns\n",
    "sns.heatmap(cm_TCN, annot=True)"
   ]
  },
  {
   "cell_type": "code",
   "execution_count": 75,
   "id": "92752a93",
   "metadata": {},
   "outputs": [
    {
     "data": {
      "text/plain": [
       "<AxesSubplot:>"
      ]
     },
     "execution_count": 75,
     "metadata": {},
     "output_type": "execute_result"
    },
    {
     "data": {
      "image/png": "[encoded data removed]",
      "text/plain": [
       "<Figure size 432x360 with 2 Axes>"
      ]
     },
     "metadata": {
      "needs_background": "light"
     },
     "output_type": "display_data"
    }
   ],
   "source": [
    "sns.heatmap(cm_TCN/np.sum(cm_TCN), annot=True, \n",
    "            fmt='.2%', cmap='Blues')"
   ]
  },
  {
   "cell_type": "code",
   "execution_count": 76,
   "id": "15080ad0",
   "metadata": {},
   "outputs": [
    {
     "name": "stdout",
     "output_type": "stream",
     "text": [
      "X train shape:  (134686, 4)\n",
      "X test shape:  (22544, 4)\n",
      "Y train shape:  (134686,)\n",
      "Y test shape:  (22544,)\n"
     ]
    }
   ],
   "source": [
    "# 6. TabNet CLASSIFIER MODEL\n",
    "\n",
    "print(\"X train shape: \", select_X_train.shape)\n",
    "print(\"X test shape: \", select_X_test.shape)\n",
    "print(\"Y train shape: \", y1.shape)\n",
    "print(\"Y test shape: \", y2.shape)"
   ]
  },
  {
   "cell_type": "code",
   "execution_count": 77,
   "id": "3bc51348",
   "metadata": {},
   "outputs": [
    {
     "name": "stdout",
     "output_type": "stream",
     "text": [
      "Requirement already satisfied: pytorch-tabnet in c:\\users\\admin\\anaconda3\\lib\\site-packages (3.1.1)\n",
      "Requirement already satisfied: numpy<2.0,>=1.17 in c:\\users\\admin\\anaconda3\\lib\\site-packages (from pytorch-tabnet) (1.20.1)\n",
      "Requirement already satisfied: tqdm<5.0,>=4.36 in c:\\users\\admin\\anaconda3\\lib\\site-packages (from pytorch-tabnet) (4.59.0)\n",
      "Requirement already satisfied: scikit_learn>0.21 in c:\\users\\admin\\anaconda3\\lib\\site-packages (from pytorch-tabnet) (0.24.1)\n",
      "Requirement already satisfied: torch<2.0,>=1.2 in c:\\users\\admin\\anaconda3\\lib\\site-packages (from pytorch-tabnet) (1.11.0)\n",
      "Requirement already satisfied: scipy>1.4 in c:\\users\\admin\\anaconda3\\lib\\site-packages (from pytorch-tabnet) (1.6.2)\n",
      "Requirement already satisfied: threadpoolctl>=2.0.0 in c:\\users\\admin\\anaconda3\\lib\\site-packages (from scikit_learn>0.21->pytorch-tabnet) (2.1.0)\n",
      "Requirement already satisfied: joblib>=0.11 in c:\\users\\admin\\anaconda3\\lib\\site-packages (from scikit_learn>0.21->pytorch-tabnet) (1.0.1)\n",
      "Requirement already satisfied: typing-extensions in c:\\users\\admin\\anaconda3\\lib\\site-packages (from torch<2.0,>=1.2->pytorch-tabnet) (3.7.4.3)\n"
     ]
    }
   ],
   "source": [
    "!pip install pytorch-tabnet\n",
    "from pytorch_tabnet.tab_model import TabNetClassifier\n",
    "import torch"
   ]
  },
  {
   "cell_type": "code",
   "execution_count": 78,
   "id": "d731f7fd",
   "metadata": {},
   "outputs": [
    {
     "name": "stdout",
     "output_type": "stream",
     "text": [
      "Device used : cpu\n"
     ]
    }
   ],
   "source": [
    "# define the model\n",
    "model_TabNet = TabNetClassifier(optimizer_fn=torch.optim.Adam,\n",
    "                       optimizer_params=dict(lr=5e-2),\n",
    "                       scheduler_params={\"step_size\":10,\"gamma\":0.9},\n",
    "                       scheduler_fn=torch.optim.lr_scheduler.StepLR,\n",
    "                       mask_type='entmax')"
   ]
  },
  {
   "cell_type": "code",
   "execution_count": 79,
   "id": "944e3be9",
   "metadata": {},
   "outputs": [
    {
     "name": "stdout",
     "output_type": "stream",
     "text": [
      "epoch 0  | loss: 0.15148 | train_auc: 0.95562 | train_accuracy: 0.94248 | valid_auc: 0.82029 | valid_accuracy: 0.77147 |  0:00:46s\n",
      "epoch 1  | loss: 0.1397  | train_auc: 0.96293 | train_accuracy: 0.62523 | valid_auc: 0.76751 | valid_accuracy: 0.51229 |  0:01:32s\n",
      "epoch 2  | loss: 0.13175 | train_auc: 0.76386 | train_accuracy: 0.55356 | valid_auc: 0.52584 | valid_accuracy: 0.47392 |  0:02:21s\n",
      "epoch 3  | loss: 0.13162 | train_auc: 0.96285 | train_accuracy: 0.95752 | valid_auc: 0.77136 | valid_accuracy: 0.80762 |  0:03:08s\n",
      "epoch 4  | loss: 0.12624 | train_auc: 0.98906 | train_accuracy: 0.95969 | valid_auc: 0.92797 | valid_accuracy: 0.7716  |  0:03:57s\n",
      "epoch 5  | loss: 0.12304 | train_auc: 0.98233 | train_accuracy: 0.94443 | valid_auc: 0.91518 | valid_accuracy: 0.7248  |  0:04:42s\n",
      "epoch 6  | loss: 0.12521 | train_auc: 0.98306 | train_accuracy: 0.94278 | valid_auc: 0.92172 | valid_accuracy: 0.76238 |  0:05:27s\n",
      "epoch 7  | loss: 0.15216 | train_auc: 0.93957 | train_accuracy: 0.82304 | valid_auc: 0.88021 | valid_accuracy: 0.71287 |  0:06:13s\n",
      "epoch 8  | loss: 0.17662 | train_auc: 0.98287 | train_accuracy: 0.94656 | valid_auc: 0.9119  | valid_accuracy: 0.74108 |  0:06:57s\n",
      "epoch 9  | loss: 0.16515 | train_auc: 0.97861 | train_accuracy: 0.94821 | valid_auc: 0.89715 | valid_accuracy: 0.73767 |  0:07:40s\n",
      "epoch 10 | loss: 0.1612  | train_auc: 0.97979 | train_accuracy: 0.9484  | valid_auc: 0.89857 | valid_accuracy: 0.76836 |  0:08:24s\n",
      "epoch 11 | loss: 0.16703 | train_auc: 0.98086 | train_accuracy: 0.94903 | valid_auc: 0.90351 | valid_accuracy: 0.73368 |  0:09:07s\n",
      "epoch 12 | loss: 0.16123 | train_auc: 0.98059 | train_accuracy: 0.94962 | valid_auc: 0.90125 | valid_accuracy: 0.73408 |  0:09:50s\n",
      "epoch 13 | loss: 0.16129 | train_auc: 0.9794  | train_accuracy: 0.94556 | valid_auc: 0.90414 | valid_accuracy: 0.73607 |  0:10:33s\n",
      "epoch 14 | loss: 0.16722 | train_auc: 0.97474 | train_accuracy: 0.50026 | valid_auc: 0.86753 | valid_accuracy: 0.56924 |  0:11:15s\n",
      "epoch 15 | loss: 0.15448 | train_auc: 0.95803 | train_accuracy: 0.94433 | valid_auc: 0.79009 | valid_accuracy: 0.76899 |  0:11:58s\n",
      "epoch 16 | loss: 0.15416 | train_auc: 0.80774 | train_accuracy: 0.4834  | valid_auc: 0.60362 | valid_accuracy: 0.41479 |  0:12:32s\n",
      "epoch 17 | loss: 0.15351 | train_auc: 0.9647  | train_accuracy: 0.90275 | valid_auc: 0.89032 | valid_accuracy: 0.88352 |  0:13:00s\n",
      "epoch 18 | loss: 0.14905 | train_auc: 0.92851 | train_accuracy: 0.54358 | valid_auc: 0.62833 | valid_accuracy: 0.41266 |  0:13:27s\n",
      "epoch 19 | loss: 0.14869 | train_auc: 0.17316 | train_accuracy: 0.53299 | valid_auc: 0.12918 | valid_accuracy: 0.44016 |  0:13:54s\n",
      "Stop training because you reached max_epochs = 20 with best_epoch = 17 and best_valid_accuracy = 0.88352\n",
      "Best weights from best epoch are automatically used!\n"
     ]
    }
   ],
   "source": [
    "# fit the model \n",
    "model_TabNet.fit(select_X_train,y1, eval_set=[(select_X_train, y1), (select_X_test, y2)],eval_name=['train', 'valid'],\n",
    "                   eval_metric=['auc','accuracy'],max_epochs=20 , patience=50, batch_size=256, virtual_batch_size=128, \n",
    "                   num_workers=0, weights=1,drop_last=False)    "
   ]
  },
  {
   "cell_type": "code",
   "execution_count": 90,
   "id": "1c613d21",
   "metadata": {},
   "outputs": [
    {
     "data": {
      "text/plain": [
       "Text(0, 0.5, 'Feature index')"
      ]
     },
     "execution_count": 90,
     "metadata": {},
     "output_type": "execute_result"
    },
    {
     "data": {
      "image/png": "[encoded data removed]",
      "text/plain": [
       "<Figure size 432x432 with 1 Axes>"
      ]
     },
     "metadata": {
      "needs_background": "light"
     },
     "output_type": "display_data"
    }
   ],
   "source": [
    "# find and plot feature importance \n",
    "from IPython.core.pylabtools import figsize\n",
    "figsize(6, 6)\n",
    "model_TabNet.feature_importances_\n",
    "feat_importances = pd.Series(model_TabNet.feature_importances_)\n",
    "feat_importances.nlargest(10).plot(kind='barh')\n",
    "plt.title(\"Feature importance graph after XGBoost feature extraction (NSLKDD Dataset) - TabNet\")\n",
    "plt.xlabel(\"Feature score\")\n",
    "plt.ylabel(\"Feature index\")"
   ]
  },
  {
   "cell_type": "code",
   "execution_count": 81,
   "id": "f8d67fed",
   "metadata": {},
   "outputs": [
    {
     "name": "stdout",
     "output_type": "stream",
     "text": [
      "[1 1 1 ... 1 0 1]\n"
     ]
    }
   ],
   "source": [
    "y_pred_TabNet = model_TabNet.predict(select_X_test)\n",
    "print(y_pred_TabNet)"
   ]
  },
  {
   "cell_type": "code",
   "execution_count": 82,
   "id": "8fc33715",
   "metadata": {},
   "outputs": [
    {
     "name": "stdout",
     "output_type": "stream",
     "text": [
      "ROC AUC: 0.879009\n"
     ]
    }
   ],
   "source": [
    "# ROC AUC\n",
    "from sklearn.metrics import roc_auc_score\n",
    "auc = roc_auc_score(y2, y_pred_TabNet)\n",
    "print('ROC AUC: %f' % auc)"
   ]
  },
  {
   "cell_type": "code",
   "execution_count": 91,
   "id": "14710bb4",
   "metadata": {},
   "outputs": [
    {
     "data": {
      "image/png": "[encoded data removed]",
      "text/plain": [
       "<Figure size 432x360 with 1 Axes>"
      ]
     },
     "metadata": {
      "needs_background": "light"
     },
     "output_type": "display_data"
    }
   ],
   "source": [
    "figsize(6, 5)\n",
    "fpr, tpr, _ = metrics.roc_curve(y2,  y_pred_TabNet)\n",
    "#create ROC curve\n",
    "plt.plot(fpr,tpr)\n",
    "plt.ylabel('True Positive Rate')\n",
    "plt.xlabel('False Positive Rate')\n",
    "plt.show()"
   ]
  },
  {
   "cell_type": "code",
   "execution_count": 84,
   "id": "e27bbc6b",
   "metadata": {},
   "outputs": [
    {
     "name": "stdout",
     "output_type": "stream",
     "text": [
      "Accuracy in TabNet classifier model: 88.35166784953869\n",
      "Confusion Matrix = [[ 8220  1135]\n",
      " [ 1491 11698]]\n",
      "Recall = 0.8835166784953868\n",
      "Precision = 0.8845445901246668\n",
      "Classification Report =\n",
      "               precision    recall  f1-score   support\n",
      "\n",
      "           0       0.85      0.88      0.86      9355\n",
      "           1       0.91      0.89      0.90     13189\n",
      "\n",
      "    accuracy                           0.88     22544\n",
      "   macro avg       0.88      0.88      0.88     22544\n",
      "weighted avg       0.88      0.88      0.88     22544\n",
      "\n",
      "F1 Score =  0.8806766503757123\n"
     ]
    }
   ],
   "source": [
    "from sklearn.metrics import accuracy_score\n",
    "from sklearn import metrics\n",
    "from sklearn.metrics import f1_score\n",
    "test_acc = accuracy_score(y_pred_TabNet, y2)\n",
    "print(\"Accuracy in TabNet classifier model:\",test_acc*100)\n",
    "print(\"Confusion Matrix =\", metrics.confusion_matrix(y_pred_TabNet, y2, labels=None, \n",
    "                                              sample_weight=None))\n",
    "print(\"Recall =\", metrics.recall_score(y_pred_TabNet, y2, labels=None, \n",
    "                                             pos_label=1, average='weighted', \n",
    "                                             sample_weight=None))\n",
    "print(\"Precision =\", metrics.precision_score(y_pred_TabNet, y2, labels=None, \n",
    "                                             pos_label=1, average='weighted', \n",
    "                                             sample_weight=None))\n",
    "print(\"Classification Report =\\n\", metrics.classification_report(y_pred_TabNet, y2, \n",
    "                                                                 labels=None, \n",
    "                                                                 target_names=None, \n",
    "                                                                 sample_weight=None, \n",
    "                                                                 digits=2, \n",
    "                                                                 output_dict=False))\n",
    "print(\"F1 Score = \",f1_score(y_pred_TabNet, y2, average='macro'))"
   ]
  },
  {
   "cell_type": "code",
   "execution_count": 92,
   "id": "66e54fc2",
   "metadata": {},
   "outputs": [
    {
     "data": {
      "text/plain": [
       "<AxesSubplot:>"
      ]
     },
     "execution_count": 92,
     "metadata": {},
     "output_type": "execute_result"
    },
    {
     "data": {
      "image/png": "[encoded data removed]",
      "text/plain": [
       "<Figure size 432x360 with 2 Axes>"
      ]
     },
     "metadata": {
      "needs_background": "light"
     },
     "output_type": "display_data"
    }
   ],
   "source": [
    "figsize(6, 5)\n",
    "cm_TabNet = metrics.confusion_matrix(y_pred_TabNet, y2, labels=None, \n",
    "                                              sample_weight=None)\n",
    "import seaborn as sns\n",
    "sns.heatmap(cm_TabNet, annot=True)"
   ]
  },
  {
   "cell_type": "code",
   "execution_count": 93,
   "id": "e6a22015",
   "metadata": {},
   "outputs": [
    {
     "data": {
      "text/plain": [
       "<AxesSubplot:>"
      ]
     },
     "execution_count": 93,
     "metadata": {},
     "output_type": "execute_result"
    },
    {
     "data": {
      "image/png": "[encoded data removed]",
      "text/plain": [
       "<Figure size 432x360 with 2 Axes>"
      ]
     },
     "metadata": {
      "needs_background": "light"
     },
     "output_type": "display_data"
    }
   ],
   "source": [
    "sns.heatmap(cm_TabNet/np.sum(cm_TabNet), annot=True, \n",
    "            fmt='.2%', cmap='Blues')"
   ]
  },
  {
   "cell_type": "code",
   "execution_count": 87,
   "id": "3f6ffcee",
   "metadata": {},
   "outputs": [
    {
     "name": "stdout",
     "output_type": "stream",
     "text": [
      "Thresh=0.065, Number of selected features=4\n",
      "Accuracy result of all models:\n",
      "Accuracy in XGBoost classifier model =  82.10166784953869\n",
      "Accuracy in DNN classifier model =  77.71912704045423\n",
      "Accuracy in CNN classifier model =  83.4013484740951\n",
      "Accuracy in TCN classifier model =  76.77874378992193\n",
      "Accuracy in TabNet classifier model: 88.35166784953869\n"
     ]
    }
   ],
   "source": [
    "print(\"Thresh=%.3f, Number of selected features=%d\" % (obj_thresh, select_X_train.shape[1]))\n",
    "print('Accuracy result of all models:')\n",
    "print('Accuracy in XGBoost classifier model = ', metrics.accuracy_score(y2, predictions)*100)\n",
    "print('Accuracy in DNN classifier model = ', metrics.accuracy_score(y_pred_class_DNN, y2)*100)\n",
    "print('Accuracy in CNN classifier model = ', metrics.accuracy_score(y_pred_class_CNN, y2)*100)\n",
    "print('Accuracy in TCN classifier model = ', metrics.accuracy_score(y_pred_class_TCN, y2_TCN)*100)\n",
    "print(\"Accuracy in TabNet classifier model:\",test_acc*100)"
   ]
  },
  {
   "cell_type": "code",
   "execution_count": 94,
   "id": "791294c1",
   "metadata": {},
   "outputs": [
    {
     "data": {
      "image/png": "[encoded data removed]",
      "text/plain": [
       "<Figure size 432x432 with 1 Axes>"
      ]
     },
     "metadata": {
      "needs_background": "light"
     },
     "output_type": "display_data"
    }
   ],
   "source": [
    "data = {'XGBoost':82.10, 'DNN':77.72, 'CNN':83.40,\n",
    "        'TCN':76.78, 'TabNet':88.35}\n",
    "Classifier_model = list(data.keys())\n",
    "Classifier_accuracy = list(data.values())\n",
    "  \n",
    "fig = plt.figure(figsize = (6, 6))\n",
    " \n",
    "# creating the bar plot\n",
    "plt.bar(Classifier_model, Classifier_accuracy, color ='blue',\n",
    "        width = 0.3)\n",
    "plt.ylim(0, 100)\n",
    "plt.xlabel(\"Classifier\")\n",
    "plt.ylabel(\"Accuracy\")\n",
    "plt.title(\"Comparative analysis after XGBoost feature extraction (NSLKDD Dataset) \")\n",
    "plt.show()"
   ]
  },
  {
   "cell_type": "code",
   "execution_count": 88,
   "id": "dcf9db79",
   "metadata": {},
   "outputs": [
    {
     "data": {
      "text/plain": [
       "<matplotlib.legend.Legend at 0x1f918252d30>"
      ]
     },
     "execution_count": 88,
     "metadata": {},
     "output_type": "execute_result"
    },
    {
     "data": {
      "image/png": "[encoded data removed]",
      "text/plain": [
       "<Figure size 432x432 with 1 Axes>"
      ]
     },
     "metadata": {
      "needs_background": "light"
     },
     "output_type": "display_data"
    }
   ],
   "source": [
    "from IPython.core.pylabtools import figsize\n",
    "figsize(6, 6)\n",
    "#set up plotting area\n",
    "plt.figure(0).clf()\n",
    "\n",
    "fpr, tpr, _ = metrics.roc_curve(y2,  predictions)\n",
    "auc = roc_auc_score(y2, predictions)\n",
    "plt.plot(fpr,tpr,label=\"XGBoost, AUC=\"+str(auc))\n",
    "\n",
    "fpr, tpr, _ = metrics.roc_curve(y2,  y_pred_class_DNN)\n",
    "auc = roc_auc_score(y2, y_pred_class_DNN)\n",
    "plt.plot(fpr,tpr,label=\"DNN, AUC=\"+str(auc))\n",
    "\n",
    "fpr, tpr, _ = metrics.roc_curve(y2,  y_pred_class_CNN)\n",
    "auc = roc_auc_score(y2, y_pred_class_CNN)\n",
    "plt.plot(fpr,tpr,label=\"CNN, AUC=\"+str(auc))\n",
    "\n",
    "fpr, tpr, _ = metrics.roc_curve(y2,  y_pred_class_TCN)\n",
    "auc = roc_auc_score(y2, y_pred_class_TCN)\n",
    "plt.plot(fpr,tpr,label=\"TCN, AUC=\"+str(auc))\n",
    "\n",
    "#add legend\n",
    "plt.title(\"ROC curve after XGBoost feature extraction (NSLKDD Dataset)\")\n",
    "plt.legend()"
   ]
  },
  {
   "cell_type": "code",
   "execution_count": 89,
   "id": "3da97e45",
   "metadata": {},
   "outputs": [
    {
     "data": {
      "text/plain": [
       "<matplotlib.legend.Legend at 0x1f91b37b790>"
      ]
     },
     "execution_count": 89,
     "metadata": {},
     "output_type": "execute_result"
    },
    {
     "data": {
      "image/png": "[encoded data removed]",
      "text/plain": [
       "<Figure size 432x432 with 1 Axes>"
      ]
     },
     "metadata": {
      "needs_background": "light"
     },
     "output_type": "display_data"
    }
   ],
   "source": [
    "from IPython.core.pylabtools import figsize\n",
    "figsize(6, 6)\n",
    "fpr, tpr, _ = metrics.roc_curve(y2,  y_pred_TabNet)\n",
    "auc = roc_auc_score(y2, y_pred_TabNet)\n",
    "plt.plot(fpr,tpr,label=\"TabNet, AUC=\"+str(auc))\n",
    "#add legend\n",
    "plt.title(\"ROC curve of proposed model after XGBoost feature extraction (NSLKDD Dataset)\")\n",
    "plt.legend()"
   ]
  },
  {
   "cell_type": "code",
   "execution_count": 97,
   "id": "362f421c",
   "metadata": {},
   "outputs": [
    {
     "data": {
      "text/plain": [
       "<matplotlib.legend.Legend at 0x1f90ad362e0>"
      ]
     },
     "execution_count": 97,
     "metadata": {},
     "output_type": "execute_result"
    },
    {
     "data": {
      "image/png": "[encoded data removed]",
      "text/plain": [
       "<Figure size 432x432 with 1 Axes>"
      ]
     },
     "metadata": {
      "needs_background": "light"
     },
     "output_type": "display_data"
    }
   ],
   "source": [
    "from IPython.core.pylabtools import figsize\n",
    "figsize(6, 6)\n",
    "#set up plotting area\n",
    "plt.figure(0).clf()\n",
    "\n",
    "fpr, tpr, _ = metrics.roc_curve(y2,  predictions)\n",
    "auc = roc_auc_score(y2, predictions)\n",
    "plt.plot(fpr,tpr,label=\"XGBoost, AUC=\"+str(auc))\n",
    "\n",
    "fpr, tpr, _ = metrics.roc_curve(y2,  y_pred_class_DNN)\n",
    "auc = roc_auc_score(y2, y_pred_class_DNN)\n",
    "plt.plot(fpr,tpr,label=\"DNN, AUC=\"+str(auc))\n",
    "\n",
    "fpr, tpr, _ = metrics.roc_curve(y2,  y_pred_class_CNN)\n",
    "auc = roc_auc_score(y2, y_pred_class_CNN)\n",
    "plt.plot(fpr,tpr,label=\"CNN, AUC=\"+str(auc))\n",
    "\n",
    "fpr, tpr, _ = metrics.roc_curve(y2,  y_pred_class_TCN)\n",
    "auc = roc_auc_score(y2, y_pred_class_TCN)\n",
    "plt.plot(fpr,tpr,label=\"TCN, AUC=\"+str(auc))\n",
    "\n",
    "fpr, tpr, _ = metrics.roc_curve(y2,  y_pred_TabNet)\n",
    "auc = roc_auc_score(y2, y_pred_TabNet)\n",
    "plt.plot(fpr,tpr,label=\"TabNet, AUC=\"+str(auc))\n",
    "\n",
    "#add legend\n",
    "plt.title(\"ROC curve after XGBoost feature extraction (NSLKDD Dataset)\")\n",
    "plt.legend()"
   ]
  },
  {
   "cell_type": "code",
   "execution_count": 96,
   "id": "0daa3d59",
   "metadata": {},
   "outputs": [
    {
     "data": {
      "image/png": "[encoded data removed]",
      "text/plain": [
       "<Figure size 720x576 with 1 Axes>"
      ]
     },
     "metadata": {
      "needs_background": "light"
     },
     "output_type": "display_data"
    }
   ],
   "source": [
    "from IPython.core.pylabtools import figsize\n",
    "figsize(10, 8)\n",
    "# Import Library\n",
    "import numpy as np \n",
    "import matplotlib.pyplot as plt \n",
    "\n",
    "# Define Data\n",
    "data3 = ['Before feature extraction','XGBoost feature extraction','Autoencoder feature extraction']\n",
    "xvals = [79.79,82.10,75.94]\n",
    "yvals = [77.85,77.72,71.77]\n",
    "zvals = [74.16,83.40,78.67]\n",
    "avals = [78.42,76.77,77.44]\n",
    "bvals = [86.39,88.35,80.84]\n",
    "\n",
    "x_axis = np.arange(len(data3))\n",
    "\n",
    "# Multi bar Chart\n",
    "plt.bar(x_axis +0.1, xvals, width=0.1, label = 'XGBoost')\n",
    "plt.bar(x_axis +0.1*2, yvals, width=0.1, label = 'DNN')\n",
    "plt.bar(x_axis +0.1*3, zvals, width=0.1, label = 'CNN')\n",
    "plt.bar(x_axis +0.1*4, avals, width=0.1, label = 'TCN')\n",
    "plt.bar(x_axis +0.1*5, bvals, width=0.1, label = 'TabNet')\n",
    "\n",
    "# Xticks\n",
    "plt.xticks(x_axis,data3)\n",
    "plt.ylabel(\"Accuracy (%)\")\n",
    "plt.xlabel(\"Experiments on classification\")\n",
    "plt.title(\"Comparitive analysis of different experiments (NSLKDD Dataset)\")\n",
    "plt.legend()\n",
    "plt.show()"
   ]
  },
  {
   "cell_type": "code",
   "execution_count": null,
   "id": "c5361acd",
   "metadata": {},
   "outputs": [],
   "source": []
  }
 ],
 "metadata": {
  "kernelspec": {
   "display_name": "Python 3",
   "language": "python",
   "name": "python3"
  },
  "language_info": {
   "codemirror_mode": {
    "name": "ipython",
    "version": 3
   },
   "file_extension": ".py",
   "mimetype": "text/x-python",
   "name": "python",
   "nbconvert_exporter": "python",
   "pygments_lexer": "ipython3",
   "version": "3.8.8"
  }
 },
 "nbformat": 4,
 "nbformat_minor": 5
}
