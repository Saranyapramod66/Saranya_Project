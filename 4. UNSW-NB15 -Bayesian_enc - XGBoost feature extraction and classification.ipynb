{
 "cells": [
  {
   "cell_type": "code",
   "execution_count": 1,
   "id": "e3f692de",
   "metadata": {},
   "outputs": [],
   "source": [
    "import numpy as np\n",
    "import pandas as pd\n",
    "train = pd.read_csv('UNSW_NB15_bayesian_enc_training_set.csv')\n",
    "test = pd.read_csv('UNSW_NB15_bayesian_enc_testing_set.csv')"
   ]
  },
  {
   "cell_type": "code",
   "execution_count": 2,
   "id": "0acf0126",
   "metadata": {},
   "outputs": [
    {
     "name": "stdout",
     "output_type": "stream",
     "text": [
      "             dur  spkts  dpkts  sbytes  dbytes           rate  sttl  dttl  \\\n",
      "0       0.121478      6      4     258     172      74.087490   252   254   \n",
      "1       0.649902     14     38     734   42014      78.473372    62   252   \n",
      "2       1.623129      8     16     364   13186      14.170161    62   252   \n",
      "3       1.681642     12     12     628     770      13.677108    62   252   \n",
      "4       0.449454     10      6     534     268      33.373826   254   252   \n",
      "...          ...    ...    ...     ...     ...            ...   ...   ...   \n",
      "175336  0.000009      2      0     114       0  111111.107200   254     0   \n",
      "175337  0.505762     10      8     620     354      33.612649   254   252   \n",
      "175338  0.000009      2      0     114       0  111111.107200   254     0   \n",
      "175339  0.000009      2      0     114       0  111111.107200   254     0   \n",
      "175340  0.000009      2      0     114       0  111111.107200   254     0   \n",
      "\n",
      "               sload          dload  ...  ct_dst_src_ltm  is_ftp_login  \\\n",
      "0       1.415894e+04    8495.365234  ...               1             0   \n",
      "1       8.395112e+03  503571.312500  ...               2             0   \n",
      "2       1.572272e+03   60929.230470  ...               3             0   \n",
      "3       2.740179e+03    3358.622070  ...               3             1   \n",
      "4       8.561499e+03    3987.059814  ...              40             0   \n",
      "...              ...            ...  ...             ...           ...   \n",
      "175336  5.066666e+07       0.000000  ...              24             0   \n",
      "175337  8.826286e+03    4903.492188  ...               2             0   \n",
      "175338  5.066666e+07       0.000000  ...              13             0   \n",
      "175339  5.066666e+07       0.000000  ...              30             0   \n",
      "175340  5.066666e+07       0.000000  ...              30             0   \n",
      "\n",
      "        ct_ftp_cmd  ct_flw_http_mthd  ct_src_ltm  ct_srv_dst  is_sm_ips_ports  \\\n",
      "0                0                 0           1           1                0   \n",
      "1                0                 0           1           6                0   \n",
      "2                0                 0           2           6                0   \n",
      "3                1                 0           2           1                0   \n",
      "4                0                 0           2          39                0   \n",
      "...            ...               ...         ...         ...              ...   \n",
      "175336           0                 0          24          24                0   \n",
      "175337           0                 0           1           1                0   \n",
      "175338           0                 0           3          12                0   \n",
      "175339           0                 0          30          30                0   \n",
      "175340           0                 0          30          30                0   \n",
      "\n",
      "           proto   service     state  \n",
      "0       0.455718  0.547930  0.476401  \n",
      "1       0.455718  0.547930  0.476401  \n",
      "2       0.455718  0.547930  0.476401  \n",
      "3       0.455718  0.603213  0.476401  \n",
      "4       0.455718  0.547930  0.476401  \n",
      "...          ...       ...       ...  \n",
      "175336  0.762473  0.846186  0.912400  \n",
      "175337  0.455718  0.547930  0.476401  \n",
      "175338  0.762473  0.846186  0.912400  \n",
      "175339  0.762473  0.846186  0.912400  \n",
      "175340  0.762473  0.846186  0.912400  \n",
      "\n",
      "[175341 rows x 42 columns]\n",
      "0         0\n",
      "1         0\n",
      "2         0\n",
      "3         0\n",
      "4         0\n",
      "         ..\n",
      "175336    1\n",
      "175337    1\n",
      "175338    1\n",
      "175339    1\n",
      "175340    1\n",
      "Name: label, Length: 175341, dtype: int64\n"
     ]
    }
   ],
   "source": [
    "x1 = train.iloc[:,1:43]\n",
    "y1 = train['label']\n",
    "print(x1)\n",
    "print(y1)"
   ]
  },
  {
   "cell_type": "code",
   "execution_count": 3,
   "id": "270b8ebc",
   "metadata": {},
   "outputs": [
    {
     "name": "stdout",
     "output_type": "stream",
     "text": [
      "            dur  spkts  dpkts  sbytes  dbytes           rate  sttl  dttl  \\\n",
      "0      0.000011      2      0     496       0   90909.090200   254     0   \n",
      "1      0.000008      2      0    1762       0  125000.000300   254     0   \n",
      "2      0.000005      2      0    1068       0  200000.005100   254     0   \n",
      "3      0.000006      2      0     900       0  166666.660800   254     0   \n",
      "4      0.000010      2      0    2126       0  100000.002500   254     0   \n",
      "...         ...    ...    ...     ...     ...            ...   ...   ...   \n",
      "82327  0.000005      2      0     104       0  200000.005100   254     0   \n",
      "82328  1.106101     20      8   18062     354      24.410067   254   252   \n",
      "82329  0.000000      1      0      46       0       0.000000     0     0   \n",
      "82330  0.000000      1      0      46       0       0.000000     0     0   \n",
      "82331  0.000009      2      0     104       0  111111.107200   254     0   \n",
      "\n",
      "              sload        dload  ...  ct_dst_src_ltm  is_ftp_login  \\\n",
      "0      1.803636e+08     0.000000  ...               2             0   \n",
      "1      8.810000e+08     0.000000  ...               2             0   \n",
      "2      8.544000e+08     0.000000  ...               3             0   \n",
      "3      6.000000e+08     0.000000  ...               3             0   \n",
      "4      8.504000e+08     0.000000  ...               3             0   \n",
      "...             ...          ...  ...             ...           ...   \n",
      "82327  8.320000e+07     0.000000  ...               2             0   \n",
      "82328  1.241044e+05  2242.109863  ...               1             0   \n",
      "82329  0.000000e+00     0.000000  ...               1             0   \n",
      "82330  0.000000e+00     0.000000  ...               1             0   \n",
      "82331  4.622222e+07     0.000000  ...               1             0   \n",
      "\n",
      "       ct_ftp_cmd  ct_flw_http_mthd  ct_src_ltm  ct_srv_dst  is_sm_ips_ports  \\\n",
      "0               0                 0           1           2                0   \n",
      "1               0                 0           1           2                0   \n",
      "2               0                 0           1           3                0   \n",
      "3               0                 0           2           3                0   \n",
      "4               0                 0           2           3                0   \n",
      "...           ...               ...         ...         ...              ...   \n",
      "82327           0                 0           2           1                0   \n",
      "82328           0                 0           3           2                0   \n",
      "82329           0                 0           1           1                1   \n",
      "82330           0                 0           1           1                1   \n",
      "82331           0                 0           1           1                0   \n",
      "\n",
      "          proto  service     state  \n",
      "0      0.762473  0.54793  0.912400  \n",
      "1      0.762473  0.54793  0.912400  \n",
      "2      0.762473  0.54793  0.912400  \n",
      "3      0.762473  0.54793  0.912400  \n",
      "4      0.762473  0.54793  0.912400  \n",
      "...         ...      ...       ...  \n",
      "82327  0.762473  0.54793  0.912400  \n",
      "82328  0.455718  0.54793  0.476401  \n",
      "82329  0.000000  0.54793  0.912400  \n",
      "82330  0.000000  0.54793  0.912400  \n",
      "82331  0.762473  0.54793  0.912400  \n",
      "\n",
      "[82332 rows x 42 columns]\n",
      "0        0\n",
      "1        0\n",
      "2        0\n",
      "3        0\n",
      "4        0\n",
      "        ..\n",
      "82327    0\n",
      "82328    0\n",
      "82329    0\n",
      "82330    0\n",
      "82331    0\n",
      "Name: label, Length: 82332, dtype: int64\n"
     ]
    }
   ],
   "source": [
    "x2 = test.iloc[:,1:43]\n",
    "y2 = test['label']\n",
    "print(x2)\n",
    "print(y2)"
   ]
  },
  {
   "cell_type": "code",
   "execution_count": 4,
   "id": "c66225d5",
   "metadata": {},
   "outputs": [
    {
     "data": {
      "text/plain": [
       "1    119341\n",
       "0     56000\n",
       "Name: label, dtype: int64"
      ]
     },
     "execution_count": 4,
     "metadata": {},
     "output_type": "execute_result"
    }
   ],
   "source": [
    "train[\"label\"].value_counts()"
   ]
  },
  {
   "cell_type": "code",
   "execution_count": 147,
   "id": "ca332d55",
   "metadata": {},
   "outputs": [
    {
     "data": {
      "image/png": "[encoded data removed]",
      "text/plain": [
       "<Figure size 360x360 with 1 Axes>"
      ]
     },
     "metadata": {
      "needs_background": "light"
     },
     "output_type": "display_data"
    }
   ],
   "source": [
    "from matplotlib import pyplot as plt\n",
    "data1 = {'Intrusion':119341, 'Normal':56000}\n",
    "Class_label = list(data1.keys())\n",
    "Number_of_instances = list(data1.values())\n",
    "  \n",
    "fig = plt.figure(figsize = (5, 5))\n",
    " \n",
    "# creating the bar plot\n",
    "plt.bar(Class_label, Number_of_instances, color ='blue',\n",
    "        width = 0.3)\n",
    "plt.ylim(0, 130000)\n",
    "plt.xlabel(\"Class label\")\n",
    "plt.ylabel(\"Number of instances\")\n",
    "plt.title(\"Number of samples in each class before resampling (UNSW NB15 Dataset)\")\n",
    "plt.show()"
   ]
  },
  {
   "cell_type": "code",
   "execution_count": 8,
   "id": "d991ac22",
   "metadata": {},
   "outputs": [],
   "source": [
    "# RESAMPLING\n",
    "\n",
    "from imblearn import under_sampling, over_sampling\n",
    "from imblearn.over_sampling import SMOTE\n",
    "sm = SMOTE()\n",
    "x1, y1 = sm.fit_sample(x1, y1) "
   ]
  },
  {
   "cell_type": "code",
   "execution_count": 148,
   "id": "fcd83733",
   "metadata": {},
   "outputs": [
    {
     "data": {
      "image/png": "[encoded data removed]",
      "text/plain": [
       "<Figure size 360x360 with 1 Axes>"
      ]
     },
     "metadata": {
      "needs_background": "light"
     },
     "output_type": "display_data"
    }
   ],
   "source": [
    "data2 = {'Intrusion':119341, 'Normal':119341}\n",
    "Class_label = list(data2.keys())\n",
    "Number_of_instances = list(data2.values())\n",
    "  \n",
    "fig = plt.figure(figsize = (5, 5))\n",
    " \n",
    "# creating the bar plot\n",
    "plt.bar(Class_label, Number_of_instances, color ='blue',\n",
    "        width = 0.3)\n",
    "plt.ylim(0, 130000)\n",
    "plt.xlabel(\"Class label\")\n",
    "plt.ylabel(\"Number of instances\")\n",
    "plt.title(\"Number of samples in each class after resampling (UNSW NB15 Dataset)\")\n",
    "plt.show()"
   ]
  },
  {
   "cell_type": "code",
   "execution_count": 11,
   "id": "75d1b4df",
   "metadata": {},
   "outputs": [],
   "source": [
    "# NORMALIZATION\n",
    "\n",
    "from sklearn.preprocessing import MinMaxScaler\n",
    "model = MinMaxScaler()\n",
    "model.fit(x1)\n",
    "x1 = model.transform(x1)\n",
    "x2 = model.transform(x2)"
   ]
  },
  {
   "cell_type": "code",
   "execution_count": 12,
   "id": "95a511bc",
   "metadata": {},
   "outputs": [
    {
     "name": "stderr",
     "output_type": "stream",
     "text": [
      "C:\\Users\\admin\\anaconda3\\lib\\site-packages\\xgboost\\sklearn.py:1224: UserWarning: The use of label encoder in XGBClassifier is deprecated and will be removed in a future release. To remove this warning, do the following: 1) Pass option use_label_encoder=False when constructing XGBClassifier object; and 2) Encode your labels (y) as integers starting with 0, i.e. 0, 1, 2, ..., [num_class - 1].\n",
      "  warnings.warn(label_encoder_deprecation_msg, UserWarning)\n"
     ]
    },
    {
     "name": "stdout",
     "output_type": "stream",
     "text": [
      "[00:12:01] WARNING: C:/Users/Administrator/workspace/xgboost-win64_release_1.5.1/src/learner.cc:1115: Starting in XGBoost 1.3.0, the default evaluation metric used with the objective 'binary:logistic' was changed from 'error' to 'logloss'. Explicitly set eval_metric if you'd like to restore the old behavior.\n"
     ]
    },
    {
     "data": {
      "text/plain": [
       "XGBClassifier(alpha=0.05, base_score=0.5, booster='gbtree', colsample_bylevel=1,\n",
       "              colsample_bynode=1, colsample_bytree=0.6,\n",
       "              enable_categorical=False, gamma=0.3, gpu_id=-1,\n",
       "              importance_type=None, interaction_constraints='',\n",
       "              learning_rate=0.01, max_delta_step=0, max_depth=4,\n",
       "              min_child_weight=12, missing=nan, monotone_constraints='()',\n",
       "              n_estimators=1484, n_jobs=4, num_parallel_tree=1,\n",
       "              predictor='auto', random_state=27, reg_alpha=0.0500000007,\n",
       "              reg_lambda=1, scale_pos_weight=1, seed=27, subsample=0.6,\n",
       "              tree_method='exact', validate_parameters=1, verbosity=None)"
      ]
     },
     "execution_count": 12,
     "metadata": {},
     "output_type": "execute_result"
    }
   ],
   "source": [
    "# 1. XGBOOST FEATURE SELECTION\n",
    "\n",
    "from xgboost import XGBClassifier\n",
    "import xgboost as xgb\n",
    "params = {\n",
    "            'objective':'binary:logistic',\n",
    "            'max_depth': 4, 'min_child_weight': 12, 'gamma': 0.3, 'subsample': 0.6,\n",
    "            'colsample_bytree': 0.6, 'scale_pos_weight': 1,\n",
    "            'alpha': 0.05,\n",
    "            'learning_rate': 0.01,\n",
    "            'n_estimators':1484,'seed': 27\n",
    "         }\n",
    "xgb_clf = XGBClassifier(**params)\n",
    "xgb_clf.fit(x1, y1)"
   ]
  },
  {
   "cell_type": "code",
   "execution_count": 13,
   "id": "77e8e90f",
   "metadata": {},
   "outputs": [
    {
     "name": "stdout",
     "output_type": "stream",
     "text": [
      "[1 1 1 ... 0 0 1]\n"
     ]
    }
   ],
   "source": [
    "y_pred=xgb_clf.predict(x2)\n",
    "print(y_pred)"
   ]
  },
  {
   "cell_type": "code",
   "execution_count": 14,
   "id": "cb6bcc43",
   "metadata": {},
   "outputs": [
    {
     "name": "stdout",
     "output_type": "stream",
     "text": [
      "Accuracy in XGBoost classifier before FS =  90.19579264441529\n",
      "Confusion Matrix = [[30333  6667]\n",
      " [ 1405 43927]]\n",
      "Recall = 0.901957926444153\n",
      "Precision = 0.9075505953722935\n",
      "Classification Report =\n",
      "               precision    recall  f1-score   support\n",
      "\n",
      "           0       0.96      0.82      0.88     37000\n",
      "           1       0.87      0.97      0.92     45332\n",
      "\n",
      "    accuracy                           0.90     82332\n",
      "   macro avg       0.91      0.89      0.90     82332\n",
      "weighted avg       0.91      0.90      0.90     82332\n",
      "\n",
      "F1 Score =  0.8992101981109784\n"
     ]
    }
   ],
   "source": [
    "from sklearn import metrics\n",
    "from sklearn.metrics import f1_score\n",
    "\n",
    "print('Accuracy in XGBoost classifier before FS = ', metrics.accuracy_score(y2, y_pred)*100)\n",
    "print(\"Confusion Matrix =\", metrics.confusion_matrix(y2, y_pred, labels=None, \n",
    "                                              sample_weight=None))\n",
    "print(\"Recall =\", metrics.recall_score(y2, y_pred, labels=None, \n",
    "                                             pos_label=1, average='weighted', \n",
    "                                             sample_weight=None))\n",
    "print(\"Precision =\", metrics.precision_score(y2, y_pred, labels=None, \n",
    "                                             pos_label=1, average='weighted', \n",
    "                                             sample_weight=None))\n",
    "print(\"Classification Report =\\n\", metrics.classification_report(y2, y_pred, \n",
    "                                                                 labels=None, \n",
    "                                                                 target_names=None, \n",
    "                                                                 sample_weight=None, \n",
    "                                                                 digits=2, \n",
    "                                                                 output_dict=False))\n",
    "print(\"F1 Score = \",f1_score(y2, y_pred, average='macro'))"
   ]
  },
  {
   "cell_type": "code",
   "execution_count": 15,
   "id": "307cee62",
   "metadata": {},
   "outputs": [
    {
     "data": {
      "text/plain": [
       "['dur',\n",
       " 'spkts',\n",
       " 'dpkts',\n",
       " 'sbytes',\n",
       " 'dbytes',\n",
       " 'rate',\n",
       " 'sttl',\n",
       " 'dttl',\n",
       " 'sload',\n",
       " 'dload',\n",
       " 'sloss',\n",
       " 'dloss',\n",
       " 'sinpkt',\n",
       " 'dinpkt',\n",
       " 'sjit',\n",
       " 'djit',\n",
       " 'swin',\n",
       " 'stcpb',\n",
       " 'dtcpb',\n",
       " 'dwin',\n",
       " 'tcprtt',\n",
       " 'synack',\n",
       " 'ackdat',\n",
       " 'smean',\n",
       " 'dmean',\n",
       " 'trans_depth',\n",
       " 'response_body_len',\n",
       " 'ct_srv_src',\n",
       " 'ct_state_ttl',\n",
       " 'ct_dst_ltm',\n",
       " 'ct_src_dport_ltm',\n",
       " 'ct_dst_sport_ltm',\n",
       " 'ct_dst_src_ltm',\n",
       " 'is_ftp_login',\n",
       " 'ct_ftp_cmd',\n",
       " 'ct_flw_http_mthd',\n",
       " 'ct_src_ltm',\n",
       " 'ct_srv_dst',\n",
       " 'is_sm_ips_ports',\n",
       " 'proto',\n",
       " 'service',\n",
       " 'state']"
      ]
     },
     "execution_count": 15,
     "metadata": {},
     "output_type": "execute_result"
    }
   ],
   "source": [
    "abc = list(train.columns[1:43])\n",
    "abc"
   ]
  },
  {
   "cell_type": "code",
   "execution_count": 16,
   "id": "18faad06",
   "metadata": {},
   "outputs": [],
   "source": [
    "xgb_clf.get_booster().feature_names = abc"
   ]
  },
  {
   "cell_type": "code",
   "execution_count": 151,
   "id": "4b61150b",
   "metadata": {},
   "outputs": [
    {
     "ename": "ValueError",
     "evalue": "The number of FixedLocator locations (41), usually from a call to set_ticks, does not match the number of ticklabels (42).",
     "output_type": "error",
     "traceback": [
      "\u001b[1;31m---------------------------------------------------------------------------\u001b[0m",
      "\u001b[1;31mValueError\u001b[0m                                Traceback (most recent call last)",
      "\u001b[1;32m<ipython-input-151-58562d119973>\u001b[0m in \u001b[0;36m<module>\u001b[1;34m\u001b[0m\n\u001b[0;32m      2\u001b[0m \u001b[0mfigsize\u001b[0m\u001b[1;33m(\u001b[0m\u001b[1;36m14\u001b[0m\u001b[1;33m,\u001b[0m \u001b[1;36m9\u001b[0m\u001b[1;33m)\u001b[0m\u001b[1;33m\u001b[0m\u001b[1;33m\u001b[0m\u001b[0m\n\u001b[0;32m      3\u001b[0m \u001b[1;32mimport\u001b[0m \u001b[0mmatplotlib\u001b[0m\u001b[1;33m.\u001b[0m\u001b[0mpyplot\u001b[0m \u001b[1;32mas\u001b[0m \u001b[0mplt\u001b[0m\u001b[1;33m\u001b[0m\u001b[1;33m\u001b[0m\u001b[0m\n\u001b[1;32m----> 4\u001b[1;33m \u001b[0mxgb\u001b[0m\u001b[1;33m.\u001b[0m\u001b[0mplot_importance\u001b[0m\u001b[1;33m(\u001b[0m\u001b[0mxgb_clf\u001b[0m\u001b[1;33m)\u001b[0m\u001b[1;33m.\u001b[0m\u001b[0mset_yticklabels\u001b[0m\u001b[1;33m(\u001b[0m\u001b[0mabc\u001b[0m\u001b[1;33m)\u001b[0m\u001b[1;33m\u001b[0m\u001b[1;33m\u001b[0m\u001b[0m\n\u001b[0m",
      "\u001b[1;32m~\\anaconda3\\lib\\site-packages\\matplotlib\\axes\\_base.py\u001b[0m in \u001b[0;36mwrapper\u001b[1;34m(self, *args, **kwargs)\u001b[0m\n\u001b[0;32m     61\u001b[0m \u001b[1;33m\u001b[0m\u001b[0m\n\u001b[0;32m     62\u001b[0m         \u001b[1;32mdef\u001b[0m \u001b[0mwrapper\u001b[0m\u001b[1;33m(\u001b[0m\u001b[0mself\u001b[0m\u001b[1;33m,\u001b[0m \u001b[1;33m*\u001b[0m\u001b[0margs\u001b[0m\u001b[1;33m,\u001b[0m \u001b[1;33m**\u001b[0m\u001b[0mkwargs\u001b[0m\u001b[1;33m)\u001b[0m\u001b[1;33m:\u001b[0m\u001b[1;33m\u001b[0m\u001b[1;33m\u001b[0m\u001b[0m\n\u001b[1;32m---> 63\u001b[1;33m             \u001b[1;32mreturn\u001b[0m \u001b[0mget_method\u001b[0m\u001b[1;33m(\u001b[0m\u001b[0mself\u001b[0m\u001b[1;33m)\u001b[0m\u001b[1;33m(\u001b[0m\u001b[1;33m*\u001b[0m\u001b[0margs\u001b[0m\u001b[1;33m,\u001b[0m \u001b[1;33m**\u001b[0m\u001b[0mkwargs\u001b[0m\u001b[1;33m)\u001b[0m\u001b[1;33m\u001b[0m\u001b[1;33m\u001b[0m\u001b[0m\n\u001b[0m\u001b[0;32m     64\u001b[0m \u001b[1;33m\u001b[0m\u001b[0m\n\u001b[0;32m     65\u001b[0m         \u001b[0mwrapper\u001b[0m\u001b[1;33m.\u001b[0m\u001b[0m__module__\u001b[0m \u001b[1;33m=\u001b[0m \u001b[0mowner\u001b[0m\u001b[1;33m.\u001b[0m\u001b[0m__module__\u001b[0m\u001b[1;33m\u001b[0m\u001b[1;33m\u001b[0m\u001b[0m\n",
      "\u001b[1;32m~\\anaconda3\\lib\\site-packages\\matplotlib\\cbook\\deprecation.py\u001b[0m in \u001b[0;36mwrapper\u001b[1;34m(*args, **kwargs)\u001b[0m\n\u001b[0;32m    449\u001b[0m                 \u001b[1;34m\"parameter will become keyword-only %(removal)s.\"\u001b[0m\u001b[1;33m,\u001b[0m\u001b[1;33m\u001b[0m\u001b[1;33m\u001b[0m\u001b[0m\n\u001b[0;32m    450\u001b[0m                 name=name, obj_type=f\"parameter of {func.__name__}()\")\n\u001b[1;32m--> 451\u001b[1;33m         \u001b[1;32mreturn\u001b[0m \u001b[0mfunc\u001b[0m\u001b[1;33m(\u001b[0m\u001b[1;33m*\u001b[0m\u001b[0margs\u001b[0m\u001b[1;33m,\u001b[0m \u001b[1;33m**\u001b[0m\u001b[0mkwargs\u001b[0m\u001b[1;33m)\u001b[0m\u001b[1;33m\u001b[0m\u001b[1;33m\u001b[0m\u001b[0m\n\u001b[0m\u001b[0;32m    452\u001b[0m \u001b[1;33m\u001b[0m\u001b[0m\n\u001b[0;32m    453\u001b[0m     \u001b[1;32mreturn\u001b[0m \u001b[0mwrapper\u001b[0m\u001b[1;33m\u001b[0m\u001b[1;33m\u001b[0m\u001b[0m\n",
      "\u001b[1;32m~\\anaconda3\\lib\\site-packages\\matplotlib\\axis.py\u001b[0m in \u001b[0;36m_set_ticklabels\u001b[1;34m(self, labels, fontdict, minor, **kwargs)\u001b[0m\n\u001b[0;32m   1794\u001b[0m         \u001b[1;32mif\u001b[0m \u001b[0mfontdict\u001b[0m \u001b[1;32mis\u001b[0m \u001b[1;32mnot\u001b[0m \u001b[1;32mNone\u001b[0m\u001b[1;33m:\u001b[0m\u001b[1;33m\u001b[0m\u001b[1;33m\u001b[0m\u001b[0m\n\u001b[0;32m   1795\u001b[0m             \u001b[0mkwargs\u001b[0m\u001b[1;33m.\u001b[0m\u001b[0mupdate\u001b[0m\u001b[1;33m(\u001b[0m\u001b[0mfontdict\u001b[0m\u001b[1;33m)\u001b[0m\u001b[1;33m\u001b[0m\u001b[1;33m\u001b[0m\u001b[0m\n\u001b[1;32m-> 1796\u001b[1;33m         \u001b[1;32mreturn\u001b[0m \u001b[0mself\u001b[0m\u001b[1;33m.\u001b[0m\u001b[0mset_ticklabels\u001b[0m\u001b[1;33m(\u001b[0m\u001b[0mlabels\u001b[0m\u001b[1;33m,\u001b[0m \u001b[0mminor\u001b[0m\u001b[1;33m=\u001b[0m\u001b[0mminor\u001b[0m\u001b[1;33m,\u001b[0m \u001b[1;33m**\u001b[0m\u001b[0mkwargs\u001b[0m\u001b[1;33m)\u001b[0m\u001b[1;33m\u001b[0m\u001b[1;33m\u001b[0m\u001b[0m\n\u001b[0m\u001b[0;32m   1797\u001b[0m \u001b[1;33m\u001b[0m\u001b[0m\n\u001b[0;32m   1798\u001b[0m     \u001b[1;33m@\u001b[0m\u001b[0mcbook\u001b[0m\u001b[1;33m.\u001b[0m\u001b[0m_make_keyword_only\u001b[0m\u001b[1;33m(\u001b[0m\u001b[1;34m\"3.2\"\u001b[0m\u001b[1;33m,\u001b[0m \u001b[1;34m\"minor\"\u001b[0m\u001b[1;33m)\u001b[0m\u001b[1;33m\u001b[0m\u001b[1;33m\u001b[0m\u001b[0m\n",
      "\u001b[1;32m~\\anaconda3\\lib\\site-packages\\matplotlib\\axis.py\u001b[0m in \u001b[0;36mset_ticklabels\u001b[1;34m(self, ticklabels, minor, **kwargs)\u001b[0m\n\u001b[0;32m   1715\u001b[0m             \u001b[1;31m# remove all tick labels, so only error for > 0 ticklabels\u001b[0m\u001b[1;33m\u001b[0m\u001b[1;33m\u001b[0m\u001b[1;33m\u001b[0m\u001b[0m\n\u001b[0;32m   1716\u001b[0m             \u001b[1;32mif\u001b[0m \u001b[0mlen\u001b[0m\u001b[1;33m(\u001b[0m\u001b[0mlocator\u001b[0m\u001b[1;33m.\u001b[0m\u001b[0mlocs\u001b[0m\u001b[1;33m)\u001b[0m \u001b[1;33m!=\u001b[0m \u001b[0mlen\u001b[0m\u001b[1;33m(\u001b[0m\u001b[0mticklabels\u001b[0m\u001b[1;33m)\u001b[0m \u001b[1;32mand\u001b[0m \u001b[0mlen\u001b[0m\u001b[1;33m(\u001b[0m\u001b[0mticklabels\u001b[0m\u001b[1;33m)\u001b[0m \u001b[1;33m!=\u001b[0m \u001b[1;36m0\u001b[0m\u001b[1;33m:\u001b[0m\u001b[1;33m\u001b[0m\u001b[1;33m\u001b[0m\u001b[0m\n\u001b[1;32m-> 1717\u001b[1;33m                 raise ValueError(\n\u001b[0m\u001b[0;32m   1718\u001b[0m                     \u001b[1;34m\"The number of FixedLocator locations\"\u001b[0m\u001b[1;33m\u001b[0m\u001b[1;33m\u001b[0m\u001b[0m\n\u001b[0;32m   1719\u001b[0m                     \u001b[1;34mf\" ({len(locator.locs)}), usually from a call to\"\u001b[0m\u001b[1;33m\u001b[0m\u001b[1;33m\u001b[0m\u001b[0m\n",
      "\u001b[1;31mValueError\u001b[0m: The number of FixedLocator locations (41), usually from a call to set_ticks, does not match the number of ticklabels (42)."
     ]
    },
    {
     "data": {
      "image/png": "[encoded data removed]",
      "text/plain": [
       "<Figure size 1008x648 with 1 Axes>"
      ]
     },
     "metadata": {
      "needs_background": "light"
     },
     "output_type": "display_data"
    }
   ],
   "source": [
    "from IPython.core.pylabtools import figsize\n",
    "figsize(14, 9)\n",
    "import matplotlib.pyplot as plt\n",
    "xgb.plot_importance(xgb_clf).set_yticklabels(abc)"
   ]
  },
  {
   "cell_type": "code",
   "execution_count": 18,
   "id": "7484fd05",
   "metadata": {},
   "outputs": [
    {
     "data": {
      "text/plain": [
       "sbytes               1314.0\n",
       "smean                1308.0\n",
       "sttl                 1138.0\n",
       "proto                 918.0\n",
       "ct_srv_dst            780.0\n",
       "dbytes                738.0\n",
       "service               718.0\n",
       "dmean                 659.0\n",
       "ct_srv_src            622.0\n",
       "sload                 586.0\n",
       "ct_dst_src_ltm        497.0\n",
       "sinpkt                437.0\n",
       "ct_state_ttl          371.0\n",
       "dload                 338.0\n",
       "dur                   330.0\n",
       "dttl                  314.0\n",
       "ct_src_ltm            314.0\n",
       "ct_dst_ltm            308.0\n",
       "ct_dst_sport_ltm      300.0\n",
       "rate                  286.0\n",
       "dpkts                 282.0\n",
       "synack                274.0\n",
       "tcprtt                246.0\n",
       "state                 225.0\n",
       "dloss                 190.0\n",
       "spkts                 181.0\n",
       "ct_src_dport_ltm      171.0\n",
       "response_body_len     166.0\n",
       "dinpkt                154.0\n",
       "sjit                  151.0\n",
       "sloss                 142.0\n",
       "trans_depth           133.0\n",
       "stcpb                 114.0\n",
       "djit                  101.0\n",
       "ackdat                 92.0\n",
       "dtcpb                  85.0\n",
       "swin                   68.0\n",
       "ct_flw_http_mthd       33.0\n",
       "is_sm_ips_ports        13.0\n",
       "is_ftp_login           10.0\n",
       "ct_ftp_cmd              6.0\n",
       "dtype: float64"
      ]
     },
     "execution_count": 18,
     "metadata": {},
     "output_type": "execute_result"
    }
   ],
   "source": [
    "pd.Series(xgb_clf.get_booster().get_fscore()).sort_values(ascending=False)"
   ]
  },
  {
   "cell_type": "code",
   "execution_count": 19,
   "id": "25938980",
   "metadata": {},
   "outputs": [
    {
     "name": "stdout",
     "output_type": "stream",
     "text": [
      "[0.         0.00099017 0.0013981  0.00147036 0.00186453 0.00210151\n",
      " 0.00216204 0.00259694 0.00276687 0.00280384 0.00302189 0.00305254\n",
      " 0.00376175 0.00380013 0.00423597 0.00575661 0.0087861  0.00924131\n",
      " 0.00928142 0.00929924 0.01018487 0.01040456 0.0105014  0.01087367\n",
      " 0.01271875 0.0127267  0.01446236 0.01625599 0.01757275 0.01902718\n",
      " 0.01905347 0.02349709 0.02495558 0.03029837 0.03153918 0.03266563\n",
      " 0.03463912 0.03624013 0.04380761 0.08281151 0.18206108 0.24531169]\n"
     ]
    }
   ],
   "source": [
    "from numpy import sort\n",
    "from sklearn.feature_selection import SelectFromModel\n",
    "thresholds = sort(xgb_clf.feature_importances_)\n",
    "print(thresholds)"
   ]
  },
  {
   "cell_type": "code",
   "execution_count": 21,
   "id": "dde4d330",
   "metadata": {},
   "outputs": [
    {
     "name": "stderr",
     "output_type": "stream",
     "text": [
      "C:\\Users\\admin\\anaconda3\\lib\\site-packages\\xgboost\\sklearn.py:1224: UserWarning: The use of label encoder in XGBClassifier is deprecated and will be removed in a future release. To remove this warning, do the following: 1) Pass option use_label_encoder=False when constructing XGBClassifier object; and 2) Encode your labels (y) as integers starting with 0, i.e. 0, 1, 2, ..., [num_class - 1].\n",
      "  warnings.warn(label_encoder_deprecation_msg, UserWarning)\n"
     ]
    },
    {
     "name": "stdout",
     "output_type": "stream",
     "text": [
      "[00:59:13] WARNING: C:/Users/Administrator/workspace/xgboost-win64_release_1.5.1/src/learner.cc:1115: Starting in XGBoost 1.3.0, the default evaluation metric used with the objective 'binary:logistic' was changed from 'error' to 'logloss'. Explicitly set eval_metric if you'd like to restore the old behavior.\n",
      "Thresh=0.000, n=42, Accuracy: 90.20%\n"
     ]
    },
    {
     "name": "stderr",
     "output_type": "stream",
     "text": [
      "C:\\Users\\admin\\anaconda3\\lib\\site-packages\\xgboost\\sklearn.py:1224: UserWarning: The use of label encoder in XGBClassifier is deprecated and will be removed in a future release. To remove this warning, do the following: 1) Pass option use_label_encoder=False when constructing XGBClassifier object; and 2) Encode your labels (y) as integers starting with 0, i.e. 0, 1, 2, ..., [num_class - 1].\n",
      "  warnings.warn(label_encoder_deprecation_msg, UserWarning)\n"
     ]
    },
    {
     "name": "stdout",
     "output_type": "stream",
     "text": [
      "[01:12:13] WARNING: C:/Users/Administrator/workspace/xgboost-win64_release_1.5.1/src/learner.cc:1115: Starting in XGBoost 1.3.0, the default evaluation metric used with the objective 'binary:logistic' was changed from 'error' to 'logloss'. Explicitly set eval_metric if you'd like to restore the old behavior.\n",
      "Thresh=0.000, n=41, Accuracy: 90.23%\n"
     ]
    },
    {
     "name": "stderr",
     "output_type": "stream",
     "text": [
      "C:\\Users\\admin\\anaconda3\\lib\\site-packages\\xgboost\\sklearn.py:1224: UserWarning: The use of label encoder in XGBClassifier is deprecated and will be removed in a future release. To remove this warning, do the following: 1) Pass option use_label_encoder=False when constructing XGBClassifier object; and 2) Encode your labels (y) as integers starting with 0, i.e. 0, 1, 2, ..., [num_class - 1].\n",
      "  warnings.warn(label_encoder_deprecation_msg, UserWarning)\n"
     ]
    },
    {
     "name": "stdout",
     "output_type": "stream",
     "text": [
      "[01:25:28] WARNING: C:/Users/Administrator/workspace/xgboost-win64_release_1.5.1/src/learner.cc:1115: Starting in XGBoost 1.3.0, the default evaluation metric used with the objective 'binary:logistic' was changed from 'error' to 'logloss'. Explicitly set eval_metric if you'd like to restore the old behavior.\n",
      "Thresh=0.001, n=40, Accuracy: 90.22%\n"
     ]
    },
    {
     "name": "stderr",
     "output_type": "stream",
     "text": [
      "C:\\Users\\admin\\anaconda3\\lib\\site-packages\\xgboost\\sklearn.py:1224: UserWarning: The use of label encoder in XGBClassifier is deprecated and will be removed in a future release. To remove this warning, do the following: 1) Pass option use_label_encoder=False when constructing XGBClassifier object; and 2) Encode your labels (y) as integers starting with 0, i.e. 0, 1, 2, ..., [num_class - 1].\n",
      "  warnings.warn(label_encoder_deprecation_msg, UserWarning)\n"
     ]
    },
    {
     "name": "stdout",
     "output_type": "stream",
     "text": [
      "[01:38:16] WARNING: C:/Users/Administrator/workspace/xgboost-win64_release_1.5.1/src/learner.cc:1115: Starting in XGBoost 1.3.0, the default evaluation metric used with the objective 'binary:logistic' was changed from 'error' to 'logloss'. Explicitly set eval_metric if you'd like to restore the old behavior.\n",
      "Thresh=0.001, n=39, Accuracy: 90.27%\n"
     ]
    },
    {
     "name": "stderr",
     "output_type": "stream",
     "text": [
      "C:\\Users\\admin\\anaconda3\\lib\\site-packages\\xgboost\\sklearn.py:1224: UserWarning: The use of label encoder in XGBClassifier is deprecated and will be removed in a future release. To remove this warning, do the following: 1) Pass option use_label_encoder=False when constructing XGBClassifier object; and 2) Encode your labels (y) as integers starting with 0, i.e. 0, 1, 2, ..., [num_class - 1].\n",
      "  warnings.warn(label_encoder_deprecation_msg, UserWarning)\n"
     ]
    },
    {
     "name": "stdout",
     "output_type": "stream",
     "text": [
      "[01:44:44] WARNING: C:/Users/Administrator/workspace/xgboost-win64_release_1.5.1/src/learner.cc:1115: Starting in XGBoost 1.3.0, the default evaluation metric used with the objective 'binary:logistic' was changed from 'error' to 'logloss'. Explicitly set eval_metric if you'd like to restore the old behavior.\n",
      "Thresh=0.001, n=38, Accuracy: 90.20%\n"
     ]
    },
    {
     "name": "stderr",
     "output_type": "stream",
     "text": [
      "C:\\Users\\admin\\anaconda3\\lib\\site-packages\\xgboost\\sklearn.py:1224: UserWarning: The use of label encoder in XGBClassifier is deprecated and will be removed in a future release. To remove this warning, do the following: 1) Pass option use_label_encoder=False when constructing XGBClassifier object; and 2) Encode your labels (y) as integers starting with 0, i.e. 0, 1, 2, ..., [num_class - 1].\n",
      "  warnings.warn(label_encoder_deprecation_msg, UserWarning)\n"
     ]
    },
    {
     "name": "stdout",
     "output_type": "stream",
     "text": [
      "[01:50:49] WARNING: C:/Users/Administrator/workspace/xgboost-win64_release_1.5.1/src/learner.cc:1115: Starting in XGBoost 1.3.0, the default evaluation metric used with the objective 'binary:logistic' was changed from 'error' to 'logloss'. Explicitly set eval_metric if you'd like to restore the old behavior.\n",
      "Thresh=0.001, n=37, Accuracy: 90.28%\n"
     ]
    },
    {
     "name": "stderr",
     "output_type": "stream",
     "text": [
      "C:\\Users\\admin\\anaconda3\\lib\\site-packages\\xgboost\\sklearn.py:1224: UserWarning: The use of label encoder in XGBClassifier is deprecated and will be removed in a future release. To remove this warning, do the following: 1) Pass option use_label_encoder=False when constructing XGBClassifier object; and 2) Encode your labels (y) as integers starting with 0, i.e. 0, 1, 2, ..., [num_class - 1].\n",
      "  warnings.warn(label_encoder_deprecation_msg, UserWarning)\n"
     ]
    },
    {
     "name": "stdout",
     "output_type": "stream",
     "text": [
      "[01:56:55] WARNING: C:/Users/Administrator/workspace/xgboost-win64_release_1.5.1/src/learner.cc:1115: Starting in XGBoost 1.3.0, the default evaluation metric used with the objective 'binary:logistic' was changed from 'error' to 'logloss'. Explicitly set eval_metric if you'd like to restore the old behavior.\n",
      "Thresh=0.002, n=36, Accuracy: 90.17%\n"
     ]
    },
    {
     "name": "stderr",
     "output_type": "stream",
     "text": [
      "C:\\Users\\admin\\anaconda3\\lib\\site-packages\\xgboost\\sklearn.py:1224: UserWarning: The use of label encoder in XGBClassifier is deprecated and will be removed in a future release. To remove this warning, do the following: 1) Pass option use_label_encoder=False when constructing XGBClassifier object; and 2) Encode your labels (y) as integers starting with 0, i.e. 0, 1, 2, ..., [num_class - 1].\n",
      "  warnings.warn(label_encoder_deprecation_msg, UserWarning)\n"
     ]
    },
    {
     "name": "stdout",
     "output_type": "stream",
     "text": [
      "[02:02:46] WARNING: C:/Users/Administrator/workspace/xgboost-win64_release_1.5.1/src/learner.cc:1115: Starting in XGBoost 1.3.0, the default evaluation metric used with the objective 'binary:logistic' was changed from 'error' to 'logloss'. Explicitly set eval_metric if you'd like to restore the old behavior.\n",
      "Thresh=0.002, n=35, Accuracy: 90.39%\n"
     ]
    },
    {
     "name": "stderr",
     "output_type": "stream",
     "text": [
      "C:\\Users\\admin\\anaconda3\\lib\\site-packages\\xgboost\\sklearn.py:1224: UserWarning: The use of label encoder in XGBClassifier is deprecated and will be removed in a future release. To remove this warning, do the following: 1) Pass option use_label_encoder=False when constructing XGBClassifier object; and 2) Encode your labels (y) as integers starting with 0, i.e. 0, 1, 2, ..., [num_class - 1].\n",
      "  warnings.warn(label_encoder_deprecation_msg, UserWarning)\n"
     ]
    },
    {
     "name": "stdout",
     "output_type": "stream",
     "text": [
      "[02:08:39] WARNING: C:/Users/Administrator/workspace/xgboost-win64_release_1.5.1/src/learner.cc:1115: Starting in XGBoost 1.3.0, the default evaluation metric used with the objective 'binary:logistic' was changed from 'error' to 'logloss'. Explicitly set eval_metric if you'd like to restore the old behavior.\n",
      "Thresh=0.003, n=34, Accuracy: 90.40%\n"
     ]
    },
    {
     "name": "stderr",
     "output_type": "stream",
     "text": [
      "C:\\Users\\admin\\anaconda3\\lib\\site-packages\\xgboost\\sklearn.py:1224: UserWarning: The use of label encoder in XGBClassifier is deprecated and will be removed in a future release. To remove this warning, do the following: 1) Pass option use_label_encoder=False when constructing XGBClassifier object; and 2) Encode your labels (y) as integers starting with 0, i.e. 0, 1, 2, ..., [num_class - 1].\n",
      "  warnings.warn(label_encoder_deprecation_msg, UserWarning)\n"
     ]
    },
    {
     "name": "stdout",
     "output_type": "stream",
     "text": [
      "[02:14:15] WARNING: C:/Users/Administrator/workspace/xgboost-win64_release_1.5.1/src/learner.cc:1115: Starting in XGBoost 1.3.0, the default evaluation metric used with the objective 'binary:logistic' was changed from 'error' to 'logloss'. Explicitly set eval_metric if you'd like to restore the old behavior.\n",
      "Thresh=0.003, n=33, Accuracy: 90.39%\n"
     ]
    },
    {
     "name": "stderr",
     "output_type": "stream",
     "text": [
      "C:\\Users\\admin\\anaconda3\\lib\\site-packages\\xgboost\\sklearn.py:1224: UserWarning: The use of label encoder in XGBClassifier is deprecated and will be removed in a future release. To remove this warning, do the following: 1) Pass option use_label_encoder=False when constructing XGBClassifier object; and 2) Encode your labels (y) as integers starting with 0, i.e. 0, 1, 2, ..., [num_class - 1].\n",
      "  warnings.warn(label_encoder_deprecation_msg, UserWarning)\n"
     ]
    },
    {
     "name": "stdout",
     "output_type": "stream",
     "text": [
      "[02:19:33] WARNING: C:/Users/Administrator/workspace/xgboost-win64_release_1.5.1/src/learner.cc:1115: Starting in XGBoost 1.3.0, the default evaluation metric used with the objective 'binary:logistic' was changed from 'error' to 'logloss'. Explicitly set eval_metric if you'd like to restore the old behavior.\n",
      "Thresh=0.003, n=32, Accuracy: 90.34%\n"
     ]
    },
    {
     "name": "stderr",
     "output_type": "stream",
     "text": [
      "C:\\Users\\admin\\anaconda3\\lib\\site-packages\\xgboost\\sklearn.py:1224: UserWarning: The use of label encoder in XGBClassifier is deprecated and will be removed in a future release. To remove this warning, do the following: 1) Pass option use_label_encoder=False when constructing XGBClassifier object; and 2) Encode your labels (y) as integers starting with 0, i.e. 0, 1, 2, ..., [num_class - 1].\n",
      "  warnings.warn(label_encoder_deprecation_msg, UserWarning)\n"
     ]
    },
    {
     "name": "stdout",
     "output_type": "stream",
     "text": [
      "[02:24:55] WARNING: C:/Users/Administrator/workspace/xgboost-win64_release_1.5.1/src/learner.cc:1115: Starting in XGBoost 1.3.0, the default evaluation metric used with the objective 'binary:logistic' was changed from 'error' to 'logloss'. Explicitly set eval_metric if you'd like to restore the old behavior.\n",
      "Thresh=0.003, n=31, Accuracy: 90.48%\n"
     ]
    },
    {
     "name": "stderr",
     "output_type": "stream",
     "text": [
      "C:\\Users\\admin\\anaconda3\\lib\\site-packages\\xgboost\\sklearn.py:1224: UserWarning: The use of label encoder in XGBClassifier is deprecated and will be removed in a future release. To remove this warning, do the following: 1) Pass option use_label_encoder=False when constructing XGBClassifier object; and 2) Encode your labels (y) as integers starting with 0, i.e. 0, 1, 2, ..., [num_class - 1].\n",
      "  warnings.warn(label_encoder_deprecation_msg, UserWarning)\n"
     ]
    },
    {
     "name": "stdout",
     "output_type": "stream",
     "text": [
      "[02:30:08] WARNING: C:/Users/Administrator/workspace/xgboost-win64_release_1.5.1/src/learner.cc:1115: Starting in XGBoost 1.3.0, the default evaluation metric used with the objective 'binary:logistic' was changed from 'error' to 'logloss'. Explicitly set eval_metric if you'd like to restore the old behavior.\n",
      "Thresh=0.003, n=30, Accuracy: 90.52%\n"
     ]
    },
    {
     "name": "stderr",
     "output_type": "stream",
     "text": [
      "C:\\Users\\admin\\anaconda3\\lib\\site-packages\\xgboost\\sklearn.py:1224: UserWarning: The use of label encoder in XGBClassifier is deprecated and will be removed in a future release. To remove this warning, do the following: 1) Pass option use_label_encoder=False when constructing XGBClassifier object; and 2) Encode your labels (y) as integers starting with 0, i.e. 0, 1, 2, ..., [num_class - 1].\n",
      "  warnings.warn(label_encoder_deprecation_msg, UserWarning)\n"
     ]
    },
    {
     "name": "stdout",
     "output_type": "stream",
     "text": [
      "[02:35:19] WARNING: C:/Users/Administrator/workspace/xgboost-win64_release_1.5.1/src/learner.cc:1115: Starting in XGBoost 1.3.0, the default evaluation metric used with the objective 'binary:logistic' was changed from 'error' to 'logloss'. Explicitly set eval_metric if you'd like to restore the old behavior.\n",
      "Thresh=0.004, n=29, Accuracy: 90.42%\n"
     ]
    },
    {
     "name": "stderr",
     "output_type": "stream",
     "text": [
      "C:\\Users\\admin\\anaconda3\\lib\\site-packages\\xgboost\\sklearn.py:1224: UserWarning: The use of label encoder in XGBClassifier is deprecated and will be removed in a future release. To remove this warning, do the following: 1) Pass option use_label_encoder=False when constructing XGBClassifier object; and 2) Encode your labels (y) as integers starting with 0, i.e. 0, 1, 2, ..., [num_class - 1].\n",
      "  warnings.warn(label_encoder_deprecation_msg, UserWarning)\n"
     ]
    },
    {
     "name": "stdout",
     "output_type": "stream",
     "text": [
      "[02:40:17] WARNING: C:/Users/Administrator/workspace/xgboost-win64_release_1.5.1/src/learner.cc:1115: Starting in XGBoost 1.3.0, the default evaluation metric used with the objective 'binary:logistic' was changed from 'error' to 'logloss'. Explicitly set eval_metric if you'd like to restore the old behavior.\n",
      "Thresh=0.004, n=28, Accuracy: 90.41%\n"
     ]
    },
    {
     "name": "stderr",
     "output_type": "stream",
     "text": [
      "C:\\Users\\admin\\anaconda3\\lib\\site-packages\\xgboost\\sklearn.py:1224: UserWarning: The use of label encoder in XGBClassifier is deprecated and will be removed in a future release. To remove this warning, do the following: 1) Pass option use_label_encoder=False when constructing XGBClassifier object; and 2) Encode your labels (y) as integers starting with 0, i.e. 0, 1, 2, ..., [num_class - 1].\n",
      "  warnings.warn(label_encoder_deprecation_msg, UserWarning)\n"
     ]
    },
    {
     "name": "stdout",
     "output_type": "stream",
     "text": [
      "[02:45:06] WARNING: C:/Users/Administrator/workspace/xgboost-win64_release_1.5.1/src/learner.cc:1115: Starting in XGBoost 1.3.0, the default evaluation metric used with the objective 'binary:logistic' was changed from 'error' to 'logloss'. Explicitly set eval_metric if you'd like to restore the old behavior.\n",
      "Thresh=0.004, n=27, Accuracy: 90.48%\n"
     ]
    },
    {
     "name": "stderr",
     "output_type": "stream",
     "text": [
      "C:\\Users\\admin\\anaconda3\\lib\\site-packages\\xgboost\\sklearn.py:1224: UserWarning: The use of label encoder in XGBClassifier is deprecated and will be removed in a future release. To remove this warning, do the following: 1) Pass option use_label_encoder=False when constructing XGBClassifier object; and 2) Encode your labels (y) as integers starting with 0, i.e. 0, 1, 2, ..., [num_class - 1].\n",
      "  warnings.warn(label_encoder_deprecation_msg, UserWarning)\n"
     ]
    },
    {
     "name": "stdout",
     "output_type": "stream",
     "text": [
      "[02:49:54] WARNING: C:/Users/Administrator/workspace/xgboost-win64_release_1.5.1/src/learner.cc:1115: Starting in XGBoost 1.3.0, the default evaluation metric used with the objective 'binary:logistic' was changed from 'error' to 'logloss'. Explicitly set eval_metric if you'd like to restore the old behavior.\n",
      "Thresh=0.004, n=26, Accuracy: 90.48%\n"
     ]
    },
    {
     "name": "stderr",
     "output_type": "stream",
     "text": [
      "C:\\Users\\admin\\anaconda3\\lib\\site-packages\\xgboost\\sklearn.py:1224: UserWarning: The use of label encoder in XGBClassifier is deprecated and will be removed in a future release. To remove this warning, do the following: 1) Pass option use_label_encoder=False when constructing XGBClassifier object; and 2) Encode your labels (y) as integers starting with 0, i.e. 0, 1, 2, ..., [num_class - 1].\n",
      "  warnings.warn(label_encoder_deprecation_msg, UserWarning)\n"
     ]
    },
    {
     "name": "stdout",
     "output_type": "stream",
     "text": [
      "[02:54:33] WARNING: C:/Users/Administrator/workspace/xgboost-win64_release_1.5.1/src/learner.cc:1115: Starting in XGBoost 1.3.0, the default evaluation metric used with the objective 'binary:logistic' was changed from 'error' to 'logloss'. Explicitly set eval_metric if you'd like to restore the old behavior.\n",
      "Thresh=0.004, n=25, Accuracy: 90.47%\n"
     ]
    },
    {
     "name": "stderr",
     "output_type": "stream",
     "text": [
      "C:\\Users\\admin\\anaconda3\\lib\\site-packages\\xgboost\\sklearn.py:1224: UserWarning: The use of label encoder in XGBClassifier is deprecated and will be removed in a future release. To remove this warning, do the following: 1) Pass option use_label_encoder=False when constructing XGBClassifier object; and 2) Encode your labels (y) as integers starting with 0, i.e. 0, 1, 2, ..., [num_class - 1].\n",
      "  warnings.warn(label_encoder_deprecation_msg, UserWarning)\n"
     ]
    },
    {
     "name": "stdout",
     "output_type": "stream",
     "text": [
      "[02:59:13] WARNING: C:/Users/Administrator/workspace/xgboost-win64_release_1.5.1/src/learner.cc:1115: Starting in XGBoost 1.3.0, the default evaluation metric used with the objective 'binary:logistic' was changed from 'error' to 'logloss'. Explicitly set eval_metric if you'd like to restore the old behavior.\n",
      "Thresh=0.004, n=24, Accuracy: 90.34%\n"
     ]
    },
    {
     "name": "stderr",
     "output_type": "stream",
     "text": [
      "C:\\Users\\admin\\anaconda3\\lib\\site-packages\\xgboost\\sklearn.py:1224: UserWarning: The use of label encoder in XGBClassifier is deprecated and will be removed in a future release. To remove this warning, do the following: 1) Pass option use_label_encoder=False when constructing XGBClassifier object; and 2) Encode your labels (y) as integers starting with 0, i.e. 0, 1, 2, ..., [num_class - 1].\n",
      "  warnings.warn(label_encoder_deprecation_msg, UserWarning)\n"
     ]
    },
    {
     "name": "stdout",
     "output_type": "stream",
     "text": [
      "[03:03:44] WARNING: C:/Users/Administrator/workspace/xgboost-win64_release_1.5.1/src/learner.cc:1115: Starting in XGBoost 1.3.0, the default evaluation metric used with the objective 'binary:logistic' was changed from 'error' to 'logloss'. Explicitly set eval_metric if you'd like to restore the old behavior.\n",
      "Thresh=0.004, n=23, Accuracy: 90.37%\n"
     ]
    },
    {
     "name": "stderr",
     "output_type": "stream",
     "text": [
      "C:\\Users\\admin\\anaconda3\\lib\\site-packages\\xgboost\\sklearn.py:1224: UserWarning: The use of label encoder in XGBClassifier is deprecated and will be removed in a future release. To remove this warning, do the following: 1) Pass option use_label_encoder=False when constructing XGBClassifier object; and 2) Encode your labels (y) as integers starting with 0, i.e. 0, 1, 2, ..., [num_class - 1].\n",
      "  warnings.warn(label_encoder_deprecation_msg, UserWarning)\n"
     ]
    },
    {
     "name": "stdout",
     "output_type": "stream",
     "text": [
      "[03:08:03] WARNING: C:/Users/Administrator/workspace/xgboost-win64_release_1.5.1/src/learner.cc:1115: Starting in XGBoost 1.3.0, the default evaluation metric used with the objective 'binary:logistic' was changed from 'error' to 'logloss'. Explicitly set eval_metric if you'd like to restore the old behavior.\n",
      "Thresh=0.004, n=22, Accuracy: 90.28%\n"
     ]
    },
    {
     "name": "stderr",
     "output_type": "stream",
     "text": [
      "C:\\Users\\admin\\anaconda3\\lib\\site-packages\\xgboost\\sklearn.py:1224: UserWarning: The use of label encoder in XGBClassifier is deprecated and will be removed in a future release. To remove this warning, do the following: 1) Pass option use_label_encoder=False when constructing XGBClassifier object; and 2) Encode your labels (y) as integers starting with 0, i.e. 0, 1, 2, ..., [num_class - 1].\n",
      "  warnings.warn(label_encoder_deprecation_msg, UserWarning)\n"
     ]
    },
    {
     "name": "stdout",
     "output_type": "stream",
     "text": [
      "[03:12:18] WARNING: C:/Users/Administrator/workspace/xgboost-win64_release_1.5.1/src/learner.cc:1115: Starting in XGBoost 1.3.0, the default evaluation metric used with the objective 'binary:logistic' was changed from 'error' to 'logloss'. Explicitly set eval_metric if you'd like to restore the old behavior.\n",
      "Thresh=0.004, n=21, Accuracy: 90.19%\n"
     ]
    },
    {
     "name": "stderr",
     "output_type": "stream",
     "text": [
      "C:\\Users\\admin\\anaconda3\\lib\\site-packages\\xgboost\\sklearn.py:1224: UserWarning: The use of label encoder in XGBClassifier is deprecated and will be removed in a future release. To remove this warning, do the following: 1) Pass option use_label_encoder=False when constructing XGBClassifier object; and 2) Encode your labels (y) as integers starting with 0, i.e. 0, 1, 2, ..., [num_class - 1].\n",
      "  warnings.warn(label_encoder_deprecation_msg, UserWarning)\n"
     ]
    },
    {
     "name": "stdout",
     "output_type": "stream",
     "text": [
      "[03:16:23] WARNING: C:/Users/Administrator/workspace/xgboost-win64_release_1.5.1/src/learner.cc:1115: Starting in XGBoost 1.3.0, the default evaluation metric used with the objective 'binary:logistic' was changed from 'error' to 'logloss'. Explicitly set eval_metric if you'd like to restore the old behavior.\n",
      "Thresh=0.004, n=20, Accuracy: 90.18%\n"
     ]
    },
    {
     "name": "stderr",
     "output_type": "stream",
     "text": [
      "C:\\Users\\admin\\anaconda3\\lib\\site-packages\\xgboost\\sklearn.py:1224: UserWarning: The use of label encoder in XGBClassifier is deprecated and will be removed in a future release. To remove this warning, do the following: 1) Pass option use_label_encoder=False when constructing XGBClassifier object; and 2) Encode your labels (y) as integers starting with 0, i.e. 0, 1, 2, ..., [num_class - 1].\n",
      "  warnings.warn(label_encoder_deprecation_msg, UserWarning)\n"
     ]
    },
    {
     "name": "stdout",
     "output_type": "stream",
     "text": [
      "[03:20:35] WARNING: C:/Users/Administrator/workspace/xgboost-win64_release_1.5.1/src/learner.cc:1115: Starting in XGBoost 1.3.0, the default evaluation metric used with the objective 'binary:logistic' was changed from 'error' to 'logloss'. Explicitly set eval_metric if you'd like to restore the old behavior.\n",
      "Thresh=0.004, n=19, Accuracy: 89.94%\n"
     ]
    },
    {
     "name": "stderr",
     "output_type": "stream",
     "text": [
      "C:\\Users\\admin\\anaconda3\\lib\\site-packages\\xgboost\\sklearn.py:1224: UserWarning: The use of label encoder in XGBClassifier is deprecated and will be removed in a future release. To remove this warning, do the following: 1) Pass option use_label_encoder=False when constructing XGBClassifier object; and 2) Encode your labels (y) as integers starting with 0, i.e. 0, 1, 2, ..., [num_class - 1].\n",
      "  warnings.warn(label_encoder_deprecation_msg, UserWarning)\n"
     ]
    },
    {
     "name": "stdout",
     "output_type": "stream",
     "text": [
      "[03:24:39] WARNING: C:/Users/Administrator/workspace/xgboost-win64_release_1.5.1/src/learner.cc:1115: Starting in XGBoost 1.3.0, the default evaluation metric used with the objective 'binary:logistic' was changed from 'error' to 'logloss'. Explicitly set eval_metric if you'd like to restore the old behavior.\n",
      "Thresh=0.004, n=18, Accuracy: 90.05%\n"
     ]
    },
    {
     "name": "stderr",
     "output_type": "stream",
     "text": [
      "C:\\Users\\admin\\anaconda3\\lib\\site-packages\\xgboost\\sklearn.py:1224: UserWarning: The use of label encoder in XGBClassifier is deprecated and will be removed in a future release. To remove this warning, do the following: 1) Pass option use_label_encoder=False when constructing XGBClassifier object; and 2) Encode your labels (y) as integers starting with 0, i.e. 0, 1, 2, ..., [num_class - 1].\n",
      "  warnings.warn(label_encoder_deprecation_msg, UserWarning)\n"
     ]
    },
    {
     "name": "stdout",
     "output_type": "stream",
     "text": [
      "[03:28:30] WARNING: C:/Users/Administrator/workspace/xgboost-win64_release_1.5.1/src/learner.cc:1115: Starting in XGBoost 1.3.0, the default evaluation metric used with the objective 'binary:logistic' was changed from 'error' to 'logloss'. Explicitly set eval_metric if you'd like to restore the old behavior.\n",
      "Thresh=0.004, n=17, Accuracy: 90.11%\n"
     ]
    },
    {
     "name": "stderr",
     "output_type": "stream",
     "text": [
      "C:\\Users\\admin\\anaconda3\\lib\\site-packages\\xgboost\\sklearn.py:1224: UserWarning: The use of label encoder in XGBClassifier is deprecated and will be removed in a future release. To remove this warning, do the following: 1) Pass option use_label_encoder=False when constructing XGBClassifier object; and 2) Encode your labels (y) as integers starting with 0, i.e. 0, 1, 2, ..., [num_class - 1].\n",
      "  warnings.warn(label_encoder_deprecation_msg, UserWarning)\n"
     ]
    },
    {
     "name": "stdout",
     "output_type": "stream",
     "text": [
      "[03:32:22] WARNING: C:/Users/Administrator/workspace/xgboost-win64_release_1.5.1/src/learner.cc:1115: Starting in XGBoost 1.3.0, the default evaluation metric used with the objective 'binary:logistic' was changed from 'error' to 'logloss'. Explicitly set eval_metric if you'd like to restore the old behavior.\n",
      "Thresh=0.004, n=16, Accuracy: 90.33%\n"
     ]
    },
    {
     "name": "stderr",
     "output_type": "stream",
     "text": [
      "C:\\Users\\admin\\anaconda3\\lib\\site-packages\\xgboost\\sklearn.py:1224: UserWarning: The use of label encoder in XGBClassifier is deprecated and will be removed in a future release. To remove this warning, do the following: 1) Pass option use_label_encoder=False when constructing XGBClassifier object; and 2) Encode your labels (y) as integers starting with 0, i.e. 0, 1, 2, ..., [num_class - 1].\n",
      "  warnings.warn(label_encoder_deprecation_msg, UserWarning)\n"
     ]
    },
    {
     "name": "stdout",
     "output_type": "stream",
     "text": [
      "[03:36:02] WARNING: C:/Users/Administrator/workspace/xgboost-win64_release_1.5.1/src/learner.cc:1115: Starting in XGBoost 1.3.0, the default evaluation metric used with the objective 'binary:logistic' was changed from 'error' to 'logloss'. Explicitly set eval_metric if you'd like to restore the old behavior.\n",
      "Thresh=0.004, n=15, Accuracy: 90.53%\n"
     ]
    },
    {
     "name": "stderr",
     "output_type": "stream",
     "text": [
      "C:\\Users\\admin\\anaconda3\\lib\\site-packages\\xgboost\\sklearn.py:1224: UserWarning: The use of label encoder in XGBClassifier is deprecated and will be removed in a future release. To remove this warning, do the following: 1) Pass option use_label_encoder=False when constructing XGBClassifier object; and 2) Encode your labels (y) as integers starting with 0, i.e. 0, 1, 2, ..., [num_class - 1].\n",
      "  warnings.warn(label_encoder_deprecation_msg, UserWarning)\n"
     ]
    },
    {
     "name": "stdout",
     "output_type": "stream",
     "text": [
      "[03:39:44] WARNING: C:/Users/Administrator/workspace/xgboost-win64_release_1.5.1/src/learner.cc:1115: Starting in XGBoost 1.3.0, the default evaluation metric used with the objective 'binary:logistic' was changed from 'error' to 'logloss'. Explicitly set eval_metric if you'd like to restore the old behavior.\n",
      "Thresh=0.016, n=14, Accuracy: 90.44%\n"
     ]
    },
    {
     "name": "stderr",
     "output_type": "stream",
     "text": [
      "C:\\Users\\admin\\anaconda3\\lib\\site-packages\\xgboost\\sklearn.py:1224: UserWarning: The use of label encoder in XGBClassifier is deprecated and will be removed in a future release. To remove this warning, do the following: 1) Pass option use_label_encoder=False when constructing XGBClassifier object; and 2) Encode your labels (y) as integers starting with 0, i.e. 0, 1, 2, ..., [num_class - 1].\n",
      "  warnings.warn(label_encoder_deprecation_msg, UserWarning)\n"
     ]
    },
    {
     "name": "stdout",
     "output_type": "stream",
     "text": [
      "[03:43:17] WARNING: C:/Users/Administrator/workspace/xgboost-win64_release_1.5.1/src/learner.cc:1115: Starting in XGBoost 1.3.0, the default evaluation metric used with the objective 'binary:logistic' was changed from 'error' to 'logloss'. Explicitly set eval_metric if you'd like to restore the old behavior.\n",
      "Thresh=0.016, n=13, Accuracy: 90.41%\n"
     ]
    },
    {
     "name": "stderr",
     "output_type": "stream",
     "text": [
      "C:\\Users\\admin\\anaconda3\\lib\\site-packages\\xgboost\\sklearn.py:1224: UserWarning: The use of label encoder in XGBClassifier is deprecated and will be removed in a future release. To remove this warning, do the following: 1) Pass option use_label_encoder=False when constructing XGBClassifier object; and 2) Encode your labels (y) as integers starting with 0, i.e. 0, 1, 2, ..., [num_class - 1].\n",
      "  warnings.warn(label_encoder_deprecation_msg, UserWarning)\n"
     ]
    },
    {
     "name": "stdout",
     "output_type": "stream",
     "text": [
      "[03:46:44] WARNING: C:/Users/Administrator/workspace/xgboost-win64_release_1.5.1/src/learner.cc:1115: Starting in XGBoost 1.3.0, the default evaluation metric used with the objective 'binary:logistic' was changed from 'error' to 'logloss'. Explicitly set eval_metric if you'd like to restore the old behavior.\n",
      "Thresh=0.016, n=12, Accuracy: 89.97%\n"
     ]
    },
    {
     "name": "stderr",
     "output_type": "stream",
     "text": [
      "C:\\Users\\admin\\anaconda3\\lib\\site-packages\\xgboost\\sklearn.py:1224: UserWarning: The use of label encoder in XGBClassifier is deprecated and will be removed in a future release. To remove this warning, do the following: 1) Pass option use_label_encoder=False when constructing XGBClassifier object; and 2) Encode your labels (y) as integers starting with 0, i.e. 0, 1, 2, ..., [num_class - 1].\n",
      "  warnings.warn(label_encoder_deprecation_msg, UserWarning)\n"
     ]
    },
    {
     "name": "stdout",
     "output_type": "stream",
     "text": [
      "[03:50:09] WARNING: C:/Users/Administrator/workspace/xgboost-win64_release_1.5.1/src/learner.cc:1115: Starting in XGBoost 1.3.0, the default evaluation metric used with the objective 'binary:logistic' was changed from 'error' to 'logloss'. Explicitly set eval_metric if you'd like to restore the old behavior.\n",
      "Thresh=0.016, n=11, Accuracy: 86.91%\n"
     ]
    },
    {
     "name": "stderr",
     "output_type": "stream",
     "text": [
      "C:\\Users\\admin\\anaconda3\\lib\\site-packages\\xgboost\\sklearn.py:1224: UserWarning: The use of label encoder in XGBClassifier is deprecated and will be removed in a future release. To remove this warning, do the following: 1) Pass option use_label_encoder=False when constructing XGBClassifier object; and 2) Encode your labels (y) as integers starting with 0, i.e. 0, 1, 2, ..., [num_class - 1].\n",
      "  warnings.warn(label_encoder_deprecation_msg, UserWarning)\n"
     ]
    },
    {
     "name": "stdout",
     "output_type": "stream",
     "text": [
      "[03:53:30] WARNING: C:/Users/Administrator/workspace/xgboost-win64_release_1.5.1/src/learner.cc:1115: Starting in XGBoost 1.3.0, the default evaluation metric used with the objective 'binary:logistic' was changed from 'error' to 'logloss'. Explicitly set eval_metric if you'd like to restore the old behavior.\n",
      "Thresh=0.016, n=10, Accuracy: 86.69%\n"
     ]
    },
    {
     "name": "stderr",
     "output_type": "stream",
     "text": [
      "C:\\Users\\admin\\anaconda3\\lib\\site-packages\\xgboost\\sklearn.py:1224: UserWarning: The use of label encoder in XGBClassifier is deprecated and will be removed in a future release. To remove this warning, do the following: 1) Pass option use_label_encoder=False when constructing XGBClassifier object; and 2) Encode your labels (y) as integers starting with 0, i.e. 0, 1, 2, ..., [num_class - 1].\n",
      "  warnings.warn(label_encoder_deprecation_msg, UserWarning)\n"
     ]
    },
    {
     "name": "stdout",
     "output_type": "stream",
     "text": [
      "[03:56:42] WARNING: C:/Users/Administrator/workspace/xgboost-win64_release_1.5.1/src/learner.cc:1115: Starting in XGBoost 1.3.0, the default evaluation metric used with the objective 'binary:logistic' was changed from 'error' to 'logloss'. Explicitly set eval_metric if you'd like to restore the old behavior.\n",
      "Thresh=0.016, n=9, Accuracy: 86.82%\n"
     ]
    },
    {
     "name": "stderr",
     "output_type": "stream",
     "text": [
      "C:\\Users\\admin\\anaconda3\\lib\\site-packages\\xgboost\\sklearn.py:1224: UserWarning: The use of label encoder in XGBClassifier is deprecated and will be removed in a future release. To remove this warning, do the following: 1) Pass option use_label_encoder=False when constructing XGBClassifier object; and 2) Encode your labels (y) as integers starting with 0, i.e. 0, 1, 2, ..., [num_class - 1].\n",
      "  warnings.warn(label_encoder_deprecation_msg, UserWarning)\n"
     ]
    },
    {
     "name": "stdout",
     "output_type": "stream",
     "text": [
      "[03:59:52] WARNING: C:/Users/Administrator/workspace/xgboost-win64_release_1.5.1/src/learner.cc:1115: Starting in XGBoost 1.3.0, the default evaluation metric used with the objective 'binary:logistic' was changed from 'error' to 'logloss'. Explicitly set eval_metric if you'd like to restore the old behavior.\n",
      "Thresh=0.016, n=8, Accuracy: 85.32%\n"
     ]
    },
    {
     "name": "stderr",
     "output_type": "stream",
     "text": [
      "C:\\Users\\admin\\anaconda3\\lib\\site-packages\\xgboost\\sklearn.py:1224: UserWarning: The use of label encoder in XGBClassifier is deprecated and will be removed in a future release. To remove this warning, do the following: 1) Pass option use_label_encoder=False when constructing XGBClassifier object; and 2) Encode your labels (y) as integers starting with 0, i.e. 0, 1, 2, ..., [num_class - 1].\n",
      "  warnings.warn(label_encoder_deprecation_msg, UserWarning)\n"
     ]
    },
    {
     "name": "stdout",
     "output_type": "stream",
     "text": [
      "[04:02:55] WARNING: C:/Users/Administrator/workspace/xgboost-win64_release_1.5.1/src/learner.cc:1115: Starting in XGBoost 1.3.0, the default evaluation metric used with the objective 'binary:logistic' was changed from 'error' to 'logloss'. Explicitly set eval_metric if you'd like to restore the old behavior.\n",
      "Thresh=0.016, n=7, Accuracy: 81.03%\n"
     ]
    },
    {
     "name": "stderr",
     "output_type": "stream",
     "text": [
      "C:\\Users\\admin\\anaconda3\\lib\\site-packages\\xgboost\\sklearn.py:1224: UserWarning: The use of label encoder in XGBClassifier is deprecated and will be removed in a future release. To remove this warning, do the following: 1) Pass option use_label_encoder=False when constructing XGBClassifier object; and 2) Encode your labels (y) as integers starting with 0, i.e. 0, 1, 2, ..., [num_class - 1].\n",
      "  warnings.warn(label_encoder_deprecation_msg, UserWarning)\n"
     ]
    },
    {
     "name": "stdout",
     "output_type": "stream",
     "text": [
      "[04:05:58] WARNING: C:/Users/Administrator/workspace/xgboost-win64_release_1.5.1/src/learner.cc:1115: Starting in XGBoost 1.3.0, the default evaluation metric used with the objective 'binary:logistic' was changed from 'error' to 'logloss'. Explicitly set eval_metric if you'd like to restore the old behavior.\n",
      "Thresh=0.016, n=6, Accuracy: 81.03%\n"
     ]
    },
    {
     "name": "stderr",
     "output_type": "stream",
     "text": [
      "C:\\Users\\admin\\anaconda3\\lib\\site-packages\\xgboost\\sklearn.py:1224: UserWarning: The use of label encoder in XGBClassifier is deprecated and will be removed in a future release. To remove this warning, do the following: 1) Pass option use_label_encoder=False when constructing XGBClassifier object; and 2) Encode your labels (y) as integers starting with 0, i.e. 0, 1, 2, ..., [num_class - 1].\n",
      "  warnings.warn(label_encoder_deprecation_msg, UserWarning)\n"
     ]
    },
    {
     "name": "stdout",
     "output_type": "stream",
     "text": [
      "[04:08:49] WARNING: C:/Users/Administrator/workspace/xgboost-win64_release_1.5.1/src/learner.cc:1115: Starting in XGBoost 1.3.0, the default evaluation metric used with the objective 'binary:logistic' was changed from 'error' to 'logloss'. Explicitly set eval_metric if you'd like to restore the old behavior.\n",
      "Thresh=0.016, n=5, Accuracy: 80.92%\n"
     ]
    },
    {
     "name": "stderr",
     "output_type": "stream",
     "text": [
      "C:\\Users\\admin\\anaconda3\\lib\\site-packages\\xgboost\\sklearn.py:1224: UserWarning: The use of label encoder in XGBClassifier is deprecated and will be removed in a future release. To remove this warning, do the following: 1) Pass option use_label_encoder=False when constructing XGBClassifier object; and 2) Encode your labels (y) as integers starting with 0, i.e. 0, 1, 2, ..., [num_class - 1].\n",
      "  warnings.warn(label_encoder_deprecation_msg, UserWarning)\n"
     ]
    },
    {
     "name": "stdout",
     "output_type": "stream",
     "text": [
      "[04:11:43] WARNING: C:/Users/Administrator/workspace/xgboost-win64_release_1.5.1/src/learner.cc:1115: Starting in XGBoost 1.3.0, the default evaluation metric used with the objective 'binary:logistic' was changed from 'error' to 'logloss'. Explicitly set eval_metric if you'd like to restore the old behavior.\n",
      "Thresh=0.016, n=4, Accuracy: 80.72%\n"
     ]
    },
    {
     "name": "stderr",
     "output_type": "stream",
     "text": [
      "C:\\Users\\admin\\anaconda3\\lib\\site-packages\\xgboost\\sklearn.py:1224: UserWarning: The use of label encoder in XGBClassifier is deprecated and will be removed in a future release. To remove this warning, do the following: 1) Pass option use_label_encoder=False when constructing XGBClassifier object; and 2) Encode your labels (y) as integers starting with 0, i.e. 0, 1, 2, ..., [num_class - 1].\n",
      "  warnings.warn(label_encoder_deprecation_msg, UserWarning)\n"
     ]
    },
    {
     "name": "stdout",
     "output_type": "stream",
     "text": [
      "[04:14:25] WARNING: C:/Users/Administrator/workspace/xgboost-win64_release_1.5.1/src/learner.cc:1115: Starting in XGBoost 1.3.0, the default evaluation metric used with the objective 'binary:logistic' was changed from 'error' to 'logloss'. Explicitly set eval_metric if you'd like to restore the old behavior.\n",
      "Thresh=0.016, n=3, Accuracy: 80.45%\n",
      "[04:17:00] WARNING: C:/Users/Administrator/workspace/xgboost-win64_release_1.5.1/src/learner.cc:1115: Starting in XGBoost 1.3.0, the default evaluation metric used with the objective 'binary:logistic' was changed from 'error' to 'logloss'. Explicitly set eval_metric if you'd like to restore the old behavior.\n"
     ]
    },
    {
     "name": "stderr",
     "output_type": "stream",
     "text": [
      "C:\\Users\\admin\\anaconda3\\lib\\site-packages\\xgboost\\sklearn.py:1224: UserWarning: The use of label encoder in XGBClassifier is deprecated and will be removed in a future release. To remove this warning, do the following: 1) Pass option use_label_encoder=False when constructing XGBClassifier object; and 2) Encode your labels (y) as integers starting with 0, i.e. 0, 1, 2, ..., [num_class - 1].\n",
      "  warnings.warn(label_encoder_deprecation_msg, UserWarning)\n"
     ]
    },
    {
     "name": "stdout",
     "output_type": "stream",
     "text": [
      "Thresh=0.016, n=2, Accuracy: 80.57%\n",
      "[04:19:09] WARNING: C:/Users/Administrator/workspace/xgboost-win64_release_1.5.1/src/learner.cc:1115: Starting in XGBoost 1.3.0, the default evaluation metric used with the objective 'binary:logistic' was changed from 'error' to 'logloss'. Explicitly set eval_metric if you'd like to restore the old behavior.\n"
     ]
    },
    {
     "name": "stderr",
     "output_type": "stream",
     "text": [
      "C:\\Users\\admin\\anaconda3\\lib\\site-packages\\xgboost\\sklearn.py:1224: UserWarning: The use of label encoder in XGBClassifier is deprecated and will be removed in a future release. To remove this warning, do the following: 1) Pass option use_label_encoder=False when constructing XGBClassifier object; and 2) Encode your labels (y) as integers starting with 0, i.e. 0, 1, 2, ..., [num_class - 1].\n",
      "  warnings.warn(label_encoder_deprecation_msg, UserWarning)\n"
     ]
    },
    {
     "name": "stdout",
     "output_type": "stream",
     "text": [
      "Thresh=0.016, n=1, Accuracy: 79.34%\n"
     ]
    }
   ],
   "source": [
    "n_min = 42\n",
    "acc_max = 0\n",
    "thresholds = sort(xgb_clf.feature_importances_)\n",
    "obj_thresh = thresholds[0]\n",
    "for thresh in thresholds:\n",
    "    selection = SelectFromModel(xgb_clf, threshold=thresh, prefit=True)\n",
    "    select_X_train = selection.transform(x1)\n",
    "    selection_model = XGBClassifier(**params)\n",
    "    selection_model.fit(select_X_train, y1)\n",
    "    select_X_test = selection.transform(x2)\n",
    "    predictions = selection_model.predict(select_X_test)\n",
    "    accuracy = metrics.accuracy_score(y2, predictions)\n",
    "    print(\"Thresh=%.3f, n=%d, Accuracy: %.2f%%\" % (obj_thresh, select_X_train.shape[1], accuracy*100.0))\n",
    "    if(select_X_train.shape[1] < n_min) and (accuracy > acc_max):\n",
    "        n_min = select_X_train.shape[1]\n",
    "        acc_max = accuracy\n",
    "        obj_thresh = thresh"
   ]
  },
  {
   "cell_type": "code",
   "execution_count": 22,
   "id": "0b1f0b5b",
   "metadata": {},
   "outputs": [
    {
     "name": "stderr",
     "output_type": "stream",
     "text": [
      "C:\\Users\\admin\\anaconda3\\lib\\site-packages\\xgboost\\sklearn.py:1224: UserWarning: The use of label encoder in XGBClassifier is deprecated and will be removed in a future release. To remove this warning, do the following: 1) Pass option use_label_encoder=False when constructing XGBClassifier object; and 2) Encode your labels (y) as integers starting with 0, i.e. 0, 1, 2, ..., [num_class - 1].\n",
      "  warnings.warn(label_encoder_deprecation_msg, UserWarning)\n"
     ]
    },
    {
     "name": "stdout",
     "output_type": "stream",
     "text": [
      "[04:21:19] WARNING: C:/Users/Administrator/workspace/xgboost-win64_release_1.5.1/src/learner.cc:1115: Starting in XGBoost 1.3.0, the default evaluation metric used with the objective 'binary:logistic' was changed from 'error' to 'logloss'. Explicitly set eval_metric if you'd like to restore the old behavior.\n",
      "Thresh=0.016, n=15, Accuracy: 90.53%\n"
     ]
    }
   ],
   "source": [
    "selection = SelectFromModel(xgb_clf, threshold=obj_thresh, prefit=True)\n",
    "select_X_train = selection.transform(x1)\n",
    "selection_model = XGBClassifier(**params)\n",
    "selection_model.fit(select_X_train, y1)\n",
    "select_X_test = selection.transform(x2)\n",
    "predictions = selection_model.predict(select_X_test)\n",
    "accuracy = metrics.accuracy_score(y2, predictions)\n",
    "print(\"Thresh=%.3f, n=%d, Accuracy: %.2f%%\" % (obj_thresh, select_X_train.shape[1], accuracy*100.0))"
   ]
  },
  {
   "cell_type": "code",
   "execution_count": 23,
   "id": "5b021575",
   "metadata": {},
   "outputs": [
    {
     "data": {
      "text/plain": [
       "array([[1.77397889e-05, 9.88235294e-01, 1.00000000e+00, ...,\n",
       "        4.55718013e-01, 5.43381901e-01, 5.22134621e-01],\n",
       "       [5.44534390e-05, 2.43137255e-01, 9.92125984e-01, ...,\n",
       "        4.55718013e-01, 5.43381901e-01, 5.22134621e-01],\n",
       "       [2.59155177e-05, 2.43137255e-01, 9.92125984e-01, ...,\n",
       "        4.55718013e-01, 5.43381901e-01, 5.22134621e-01],\n",
       "       ...,\n",
       "       [4.16499392e-05, 1.21568627e-01, 1.14173228e-01, ...,\n",
       "        7.62472897e-01, 5.43381901e-01, 7.63081904e-02],\n",
       "       [4.04929964e-05, 9.96078431e-01, 9.92125984e-01, ...,\n",
       "        4.55718013e-01, 5.43381901e-01, 5.22134621e-01],\n",
       "       [5.86184330e-06, 9.96078431e-01, 0.00000000e+00, ...,\n",
       "        7.62472897e-01, 5.43381901e-01, 1.00000000e+00]])"
      ]
     },
     "execution_count": 23,
     "metadata": {},
     "output_type": "execute_result"
    }
   ],
   "source": [
    "select_X_train"
   ]
  },
  {
   "cell_type": "code",
   "execution_count": 24,
   "id": "9391939c",
   "metadata": {},
   "outputs": [
    {
     "data": {
      "text/plain": [
       "array([[3.60966140e-05, 9.96078431e-01, 0.00000000e+00, ...,\n",
       "        7.62472897e-01, 5.43381901e-01, 1.00000000e+00],\n",
       "       [1.33742583e-04, 9.96078431e-01, 0.00000000e+00, ...,\n",
       "        7.62472897e-01, 5.43381901e-01, 1.00000000e+00],\n",
       "       [8.02146977e-05, 9.96078431e-01, 0.00000000e+00, ...,\n",
       "        7.62472897e-01, 5.43381901e-01, 1.00000000e+00],\n",
       "       ...,\n",
       "       [1.38833131e-06, 0.00000000e+00, 0.00000000e+00, ...,\n",
       "        0.00000000e+00, 5.43381901e-01, 1.00000000e+00],\n",
       "       [1.38833131e-06, 0.00000000e+00, 0.00000000e+00, ...,\n",
       "        0.00000000e+00, 5.43381901e-01, 1.00000000e+00],\n",
       "       [5.86184330e-06, 9.96078431e-01, 0.00000000e+00, ...,\n",
       "        7.62472897e-01, 5.43381901e-01, 1.00000000e+00]])"
      ]
     },
     "execution_count": 24,
     "metadata": {},
     "output_type": "execute_result"
    }
   ],
   "source": [
    "select_X_test"
   ]
  },
  {
   "cell_type": "code",
   "execution_count": 25,
   "id": "7e474fee",
   "metadata": {},
   "outputs": [
    {
     "data": {
      "text/plain": [
       "(238682, 15)"
      ]
     },
     "execution_count": 25,
     "metadata": {},
     "output_type": "execute_result"
    }
   ],
   "source": [
    "select_X_train.shape"
   ]
  },
  {
   "cell_type": "code",
   "execution_count": 26,
   "id": "0e97bfc8",
   "metadata": {},
   "outputs": [
    {
     "data": {
      "text/plain": [
       "(82332, 15)"
      ]
     },
     "execution_count": 26,
     "metadata": {},
     "output_type": "execute_result"
    }
   ],
   "source": [
    "select_X_test.shape"
   ]
  },
  {
   "cell_type": "code",
   "execution_count": 61,
   "id": "30725863",
   "metadata": {},
   "outputs": [
    {
     "data": {
      "text/html": [
       "<div>\n",
       "<style scoped>\n",
       "    .dataframe tbody tr th:only-of-type {\n",
       "        vertical-align: middle;\n",
       "    }\n",
       "\n",
       "    .dataframe tbody tr th {\n",
       "        vertical-align: top;\n",
       "    }\n",
       "\n",
       "    .dataframe thead th {\n",
       "        text-align: right;\n",
       "    }\n",
       "</style>\n",
       "<table border=\"1\" class=\"dataframe\">\n",
       "  <thead>\n",
       "    <tr style=\"text-align: right;\">\n",
       "      <th></th>\n",
       "      <th>XGB_0</th>\n",
       "      <th>XGB_1</th>\n",
       "      <th>XGB_2</th>\n",
       "      <th>XGB_3</th>\n",
       "      <th>XGB_4</th>\n",
       "      <th>XGB_5</th>\n",
       "      <th>XGB_6</th>\n",
       "      <th>XGB_7</th>\n",
       "      <th>XGB_8</th>\n",
       "      <th>XGB_9</th>\n",
       "      <th>XGB_10</th>\n",
       "      <th>XGB_11</th>\n",
       "      <th>XGB_12</th>\n",
       "      <th>XGB_13</th>\n",
       "      <th>XGB_14</th>\n",
       "    </tr>\n",
       "  </thead>\n",
       "  <tbody>\n",
       "    <tr>\n",
       "      <th>0</th>\n",
       "      <td>0.000018</td>\n",
       "      <td>0.988235</td>\n",
       "      <td>1.000000</td>\n",
       "      <td>2.364553e-06</td>\n",
       "      <td>0.000379</td>\n",
       "      <td>1.0</td>\n",
       "      <td>0.000000</td>\n",
       "      <td>0.000000</td>\n",
       "      <td>0.0</td>\n",
       "      <td>0.000000</td>\n",
       "      <td>0.00</td>\n",
       "      <td>0.000000</td>\n",
       "      <td>0.455718</td>\n",
       "      <td>0.543382</td>\n",
       "      <td>0.522135</td>\n",
       "    </tr>\n",
       "    <tr>\n",
       "      <th>1</th>\n",
       "      <td>0.000054</td>\n",
       "      <td>0.243137</td>\n",
       "      <td>0.992126</td>\n",
       "      <td>1.401989e-06</td>\n",
       "      <td>0.022458</td>\n",
       "      <td>1.0</td>\n",
       "      <td>0.000000</td>\n",
       "      <td>0.166667</td>\n",
       "      <td>0.0</td>\n",
       "      <td>0.015625</td>\n",
       "      <td>0.00</td>\n",
       "      <td>0.081967</td>\n",
       "      <td>0.455718</td>\n",
       "      <td>0.543382</td>\n",
       "      <td>0.522135</td>\n",
       "    </tr>\n",
       "    <tr>\n",
       "      <th>2</th>\n",
       "      <td>0.000026</td>\n",
       "      <td>0.243137</td>\n",
       "      <td>0.992126</td>\n",
       "      <td>2.625704e-07</td>\n",
       "      <td>0.002717</td>\n",
       "      <td>1.0</td>\n",
       "      <td>0.033164</td>\n",
       "      <td>0.166667</td>\n",
       "      <td>0.0</td>\n",
       "      <td>0.031250</td>\n",
       "      <td>0.00</td>\n",
       "      <td>0.081967</td>\n",
       "      <td>0.455718</td>\n",
       "      <td>0.543382</td>\n",
       "      <td>0.522135</td>\n",
       "    </tr>\n",
       "    <tr>\n",
       "      <th>3</th>\n",
       "      <td>0.000046</td>\n",
       "      <td>0.243137</td>\n",
       "      <td>0.992126</td>\n",
       "      <td>4.576117e-07</td>\n",
       "      <td>0.000150</td>\n",
       "      <td>1.0</td>\n",
       "      <td>0.000000</td>\n",
       "      <td>0.166667</td>\n",
       "      <td>0.0</td>\n",
       "      <td>0.031250</td>\n",
       "      <td>0.25</td>\n",
       "      <td>0.000000</td>\n",
       "      <td>0.455718</td>\n",
       "      <td>0.599221</td>\n",
       "      <td>0.522135</td>\n",
       "    </tr>\n",
       "    <tr>\n",
       "      <th>4</th>\n",
       "      <td>0.000039</td>\n",
       "      <td>0.996078</td>\n",
       "      <td>0.992126</td>\n",
       "      <td>1.429776e-06</td>\n",
       "      <td>0.000178</td>\n",
       "      <td>1.0</td>\n",
       "      <td>0.037632</td>\n",
       "      <td>0.166667</td>\n",
       "      <td>0.0</td>\n",
       "      <td>0.609375</td>\n",
       "      <td>0.00</td>\n",
       "      <td>0.622951</td>\n",
       "      <td>0.455718</td>\n",
       "      <td>0.543382</td>\n",
       "      <td>0.522135</td>\n",
       "    </tr>\n",
       "    <tr>\n",
       "      <th>...</th>\n",
       "      <td>...</td>\n",
       "      <td>...</td>\n",
       "      <td>...</td>\n",
       "      <td>...</td>\n",
       "      <td>...</td>\n",
       "      <td>...</td>\n",
       "      <td>...</td>\n",
       "      <td>...</td>\n",
       "      <td>...</td>\n",
       "      <td>...</td>\n",
       "      <td>...</td>\n",
       "      <td>...</td>\n",
       "      <td>...</td>\n",
       "      <td>...</td>\n",
       "      <td>...</td>\n",
       "    </tr>\n",
       "    <tr>\n",
       "      <th>238677</th>\n",
       "      <td>0.002619</td>\n",
       "      <td>0.121569</td>\n",
       "      <td>0.114173</td>\n",
       "      <td>1.241383e-03</td>\n",
       "      <td>0.045658</td>\n",
       "      <td>1.0</td>\n",
       "      <td>0.000096</td>\n",
       "      <td>0.000000</td>\n",
       "      <td>0.0</td>\n",
       "      <td>0.000000</td>\n",
       "      <td>0.00</td>\n",
       "      <td>0.000000</td>\n",
       "      <td>0.455718</td>\n",
       "      <td>0.660945</td>\n",
       "      <td>0.522135</td>\n",
       "    </tr>\n",
       "    <tr>\n",
       "      <th>238678</th>\n",
       "      <td>0.000302</td>\n",
       "      <td>0.121569</td>\n",
       "      <td>0.114173</td>\n",
       "      <td>8.542544e-06</td>\n",
       "      <td>0.002429</td>\n",
       "      <td>1.0</td>\n",
       "      <td>0.000077</td>\n",
       "      <td>0.000000</td>\n",
       "      <td>0.0</td>\n",
       "      <td>0.000000</td>\n",
       "      <td>0.00</td>\n",
       "      <td>0.032787</td>\n",
       "      <td>0.455718</td>\n",
       "      <td>0.141451</td>\n",
       "      <td>0.522135</td>\n",
       "    </tr>\n",
       "    <tr>\n",
       "      <th>238679</th>\n",
       "      <td>0.000042</td>\n",
       "      <td>0.121569</td>\n",
       "      <td>0.114173</td>\n",
       "      <td>1.283621e-04</td>\n",
       "      <td>0.018829</td>\n",
       "      <td>0.0</td>\n",
       "      <td>0.000000</td>\n",
       "      <td>0.000000</td>\n",
       "      <td>0.0</td>\n",
       "      <td>0.031250</td>\n",
       "      <td>0.00</td>\n",
       "      <td>0.065574</td>\n",
       "      <td>0.762473</td>\n",
       "      <td>0.543382</td>\n",
       "      <td>0.076308</td>\n",
       "    </tr>\n",
       "    <tr>\n",
       "      <th>238680</th>\n",
       "      <td>0.000040</td>\n",
       "      <td>0.996078</td>\n",
       "      <td>0.992126</td>\n",
       "      <td>8.241986e-07</td>\n",
       "      <td>0.000099</td>\n",
       "      <td>1.0</td>\n",
       "      <td>0.042977</td>\n",
       "      <td>0.166667</td>\n",
       "      <td>0.0</td>\n",
       "      <td>0.046875</td>\n",
       "      <td>0.00</td>\n",
       "      <td>0.049180</td>\n",
       "      <td>0.455718</td>\n",
       "      <td>0.543382</td>\n",
       "      <td>0.522135</td>\n",
       "    </tr>\n",
       "    <tr>\n",
       "      <th>238681</th>\n",
       "      <td>0.000006</td>\n",
       "      <td>0.996078</td>\n",
       "      <td>0.000000</td>\n",
       "      <td>7.719141e-03</td>\n",
       "      <td>0.000000</td>\n",
       "      <td>0.0</td>\n",
       "      <td>0.000000</td>\n",
       "      <td>0.333333</td>\n",
       "      <td>0.0</td>\n",
       "      <td>0.015625</td>\n",
       "      <td>0.00</td>\n",
       "      <td>0.016393</td>\n",
       "      <td>0.762473</td>\n",
       "      <td>0.543382</td>\n",
       "      <td>1.000000</td>\n",
       "    </tr>\n",
       "  </tbody>\n",
       "</table>\n",
       "<p>238682 rows × 15 columns</p>\n",
       "</div>"
      ],
      "text/plain": [
       "           XGB_0     XGB_1     XGB_2         XGB_3     XGB_4  XGB_5     XGB_6  \\\n",
       "0       0.000018  0.988235  1.000000  2.364553e-06  0.000379    1.0  0.000000   \n",
       "1       0.000054  0.243137  0.992126  1.401989e-06  0.022458    1.0  0.000000   \n",
       "2       0.000026  0.243137  0.992126  2.625704e-07  0.002717    1.0  0.033164   \n",
       "3       0.000046  0.243137  0.992126  4.576117e-07  0.000150    1.0  0.000000   \n",
       "4       0.000039  0.996078  0.992126  1.429776e-06  0.000178    1.0  0.037632   \n",
       "...          ...       ...       ...           ...       ...    ...       ...   \n",
       "238677  0.002619  0.121569  0.114173  1.241383e-03  0.045658    1.0  0.000096   \n",
       "238678  0.000302  0.121569  0.114173  8.542544e-06  0.002429    1.0  0.000077   \n",
       "238679  0.000042  0.121569  0.114173  1.283621e-04  0.018829    0.0  0.000000   \n",
       "238680  0.000040  0.996078  0.992126  8.241986e-07  0.000099    1.0  0.042977   \n",
       "238681  0.000006  0.996078  0.000000  7.719141e-03  0.000000    0.0  0.000000   \n",
       "\n",
       "           XGB_7  XGB_8     XGB_9  XGB_10    XGB_11    XGB_12    XGB_13  \\\n",
       "0       0.000000    0.0  0.000000    0.00  0.000000  0.455718  0.543382   \n",
       "1       0.166667    0.0  0.015625    0.00  0.081967  0.455718  0.543382   \n",
       "2       0.166667    0.0  0.031250    0.00  0.081967  0.455718  0.543382   \n",
       "3       0.166667    0.0  0.031250    0.25  0.000000  0.455718  0.599221   \n",
       "4       0.166667    0.0  0.609375    0.00  0.622951  0.455718  0.543382   \n",
       "...          ...    ...       ...     ...       ...       ...       ...   \n",
       "238677  0.000000    0.0  0.000000    0.00  0.000000  0.455718  0.660945   \n",
       "238678  0.000000    0.0  0.000000    0.00  0.032787  0.455718  0.141451   \n",
       "238679  0.000000    0.0  0.031250    0.00  0.065574  0.762473  0.543382   \n",
       "238680  0.166667    0.0  0.046875    0.00  0.049180  0.455718  0.543382   \n",
       "238681  0.333333    0.0  0.015625    0.00  0.016393  0.762473  0.543382   \n",
       "\n",
       "          XGB_14  \n",
       "0       0.522135  \n",
       "1       0.522135  \n",
       "2       0.522135  \n",
       "3       0.522135  \n",
       "4       0.522135  \n",
       "...          ...  \n",
       "238677  0.522135  \n",
       "238678  0.522135  \n",
       "238679  0.076308  \n",
       "238680  0.522135  \n",
       "238681  1.000000  \n",
       "\n",
       "[238682 rows x 15 columns]"
      ]
     },
     "execution_count": 61,
     "metadata": {},
     "output_type": "execute_result"
    }
   ],
   "source": [
    "recon_feat_train = pd.DataFrame(select_X_train, columns =['XGB_0', 'XGB_1','XGB_2','XGB_3','XGB_4','XGB_5','XGB_6','XGB_7',\n",
    "                                                          'XGB_8','XGB_9','XGB_10','XGB_11','XGB_12','XGB_13','XGB_14'])\n",
    "recon_feat_train"
   ]
  },
  {
   "cell_type": "code",
   "execution_count": 62,
   "id": "fc3fc205",
   "metadata": {},
   "outputs": [
    {
     "data": {
      "text/html": [
       "<div>\n",
       "<style scoped>\n",
       "    .dataframe tbody tr th:only-of-type {\n",
       "        vertical-align: middle;\n",
       "    }\n",
       "\n",
       "    .dataframe tbody tr th {\n",
       "        vertical-align: top;\n",
       "    }\n",
       "\n",
       "    .dataframe thead th {\n",
       "        text-align: right;\n",
       "    }\n",
       "</style>\n",
       "<table border=\"1\" class=\"dataframe\">\n",
       "  <thead>\n",
       "    <tr style=\"text-align: right;\">\n",
       "      <th></th>\n",
       "      <th>XGB_0</th>\n",
       "      <th>XGB_1</th>\n",
       "      <th>XGB_2</th>\n",
       "      <th>XGB_3</th>\n",
       "      <th>XGB_4</th>\n",
       "      <th>XGB_5</th>\n",
       "      <th>XGB_6</th>\n",
       "      <th>XGB_7</th>\n",
       "      <th>XGB_8</th>\n",
       "      <th>XGB_9</th>\n",
       "      <th>XGB_10</th>\n",
       "      <th>XGB_11</th>\n",
       "      <th>XGB_12</th>\n",
       "      <th>XGB_13</th>\n",
       "      <th>XGB_14</th>\n",
       "    </tr>\n",
       "  </thead>\n",
       "  <tbody>\n",
       "    <tr>\n",
       "      <th>0</th>\n",
       "      <td>0.000036</td>\n",
       "      <td>0.996078</td>\n",
       "      <td>0.000000</td>\n",
       "      <td>0.030121</td>\n",
       "      <td>0.0000</td>\n",
       "      <td>0.0</td>\n",
       "      <td>0.00000</td>\n",
       "      <td>0.333333</td>\n",
       "      <td>0.0</td>\n",
       "      <td>0.015625</td>\n",
       "      <td>0.0</td>\n",
       "      <td>0.016393</td>\n",
       "      <td>0.762473</td>\n",
       "      <td>0.543382</td>\n",
       "      <td>1.000000</td>\n",
       "    </tr>\n",
       "    <tr>\n",
       "      <th>1</th>\n",
       "      <td>0.000134</td>\n",
       "      <td>0.996078</td>\n",
       "      <td>0.000000</td>\n",
       "      <td>0.147128</td>\n",
       "      <td>0.0000</td>\n",
       "      <td>0.0</td>\n",
       "      <td>0.00000</td>\n",
       "      <td>0.333333</td>\n",
       "      <td>0.0</td>\n",
       "      <td>0.015625</td>\n",
       "      <td>0.0</td>\n",
       "      <td>0.016393</td>\n",
       "      <td>0.762473</td>\n",
       "      <td>0.543382</td>\n",
       "      <td>1.000000</td>\n",
       "    </tr>\n",
       "    <tr>\n",
       "      <th>2</th>\n",
       "      <td>0.000080</td>\n",
       "      <td>0.996078</td>\n",
       "      <td>0.000000</td>\n",
       "      <td>0.142685</td>\n",
       "      <td>0.0000</td>\n",
       "      <td>0.0</td>\n",
       "      <td>0.00000</td>\n",
       "      <td>0.333333</td>\n",
       "      <td>0.0</td>\n",
       "      <td>0.031250</td>\n",
       "      <td>0.0</td>\n",
       "      <td>0.032787</td>\n",
       "      <td>0.762473</td>\n",
       "      <td>0.543382</td>\n",
       "      <td>1.000000</td>\n",
       "    </tr>\n",
       "    <tr>\n",
       "      <th>3</th>\n",
       "      <td>0.000067</td>\n",
       "      <td>0.996078</td>\n",
       "      <td>0.000000</td>\n",
       "      <td>0.100200</td>\n",
       "      <td>0.0000</td>\n",
       "      <td>0.0</td>\n",
       "      <td>0.00000</td>\n",
       "      <td>0.333333</td>\n",
       "      <td>0.0</td>\n",
       "      <td>0.031250</td>\n",
       "      <td>0.0</td>\n",
       "      <td>0.032787</td>\n",
       "      <td>0.762473</td>\n",
       "      <td>0.543382</td>\n",
       "      <td>1.000000</td>\n",
       "    </tr>\n",
       "    <tr>\n",
       "      <th>4</th>\n",
       "      <td>0.000162</td>\n",
       "      <td>0.996078</td>\n",
       "      <td>0.000000</td>\n",
       "      <td>0.142017</td>\n",
       "      <td>0.0000</td>\n",
       "      <td>0.0</td>\n",
       "      <td>0.00000</td>\n",
       "      <td>0.333333</td>\n",
       "      <td>0.0</td>\n",
       "      <td>0.031250</td>\n",
       "      <td>0.0</td>\n",
       "      <td>0.032787</td>\n",
       "      <td>0.762473</td>\n",
       "      <td>0.543382</td>\n",
       "      <td>1.000000</td>\n",
       "    </tr>\n",
       "    <tr>\n",
       "      <th>...</th>\n",
       "      <td>...</td>\n",
       "      <td>...</td>\n",
       "      <td>...</td>\n",
       "      <td>...</td>\n",
       "      <td>...</td>\n",
       "      <td>...</td>\n",
       "      <td>...</td>\n",
       "      <td>...</td>\n",
       "      <td>...</td>\n",
       "      <td>...</td>\n",
       "      <td>...</td>\n",
       "      <td>...</td>\n",
       "      <td>...</td>\n",
       "      <td>...</td>\n",
       "      <td>...</td>\n",
       "    </tr>\n",
       "    <tr>\n",
       "      <th>82327</th>\n",
       "      <td>0.000006</td>\n",
       "      <td>0.996078</td>\n",
       "      <td>0.000000</td>\n",
       "      <td>0.013894</td>\n",
       "      <td>0.0000</td>\n",
       "      <td>0.0</td>\n",
       "      <td>0.00000</td>\n",
       "      <td>0.333333</td>\n",
       "      <td>0.0</td>\n",
       "      <td>0.015625</td>\n",
       "      <td>0.0</td>\n",
       "      <td>0.000000</td>\n",
       "      <td>0.762473</td>\n",
       "      <td>0.543382</td>\n",
       "      <td>1.000000</td>\n",
       "    </tr>\n",
       "    <tr>\n",
       "      <th>82328</th>\n",
       "      <td>0.001391</td>\n",
       "      <td>0.996078</td>\n",
       "      <td>0.992126</td>\n",
       "      <td>0.000021</td>\n",
       "      <td>0.0001</td>\n",
       "      <td>1.0</td>\n",
       "      <td>0.04801</td>\n",
       "      <td>0.166667</td>\n",
       "      <td>0.0</td>\n",
       "      <td>0.000000</td>\n",
       "      <td>0.0</td>\n",
       "      <td>0.016393</td>\n",
       "      <td>0.455718</td>\n",
       "      <td>0.543382</td>\n",
       "      <td>0.522135</td>\n",
       "    </tr>\n",
       "    <tr>\n",
       "      <th>82329</th>\n",
       "      <td>0.000001</td>\n",
       "      <td>0.000000</td>\n",
       "      <td>0.000000</td>\n",
       "      <td>0.000000</td>\n",
       "      <td>0.0000</td>\n",
       "      <td>0.0</td>\n",
       "      <td>0.00000</td>\n",
       "      <td>0.333333</td>\n",
       "      <td>0.0</td>\n",
       "      <td>0.000000</td>\n",
       "      <td>0.0</td>\n",
       "      <td>0.000000</td>\n",
       "      <td>0.000000</td>\n",
       "      <td>0.543382</td>\n",
       "      <td>1.000000</td>\n",
       "    </tr>\n",
       "    <tr>\n",
       "      <th>82330</th>\n",
       "      <td>0.000001</td>\n",
       "      <td>0.000000</td>\n",
       "      <td>0.000000</td>\n",
       "      <td>0.000000</td>\n",
       "      <td>0.0000</td>\n",
       "      <td>0.0</td>\n",
       "      <td>0.00000</td>\n",
       "      <td>0.333333</td>\n",
       "      <td>0.0</td>\n",
       "      <td>0.000000</td>\n",
       "      <td>0.0</td>\n",
       "      <td>0.000000</td>\n",
       "      <td>0.000000</td>\n",
       "      <td>0.543382</td>\n",
       "      <td>1.000000</td>\n",
       "    </tr>\n",
       "    <tr>\n",
       "      <th>82331</th>\n",
       "      <td>0.000006</td>\n",
       "      <td>0.996078</td>\n",
       "      <td>0.000000</td>\n",
       "      <td>0.007719</td>\n",
       "      <td>0.0000</td>\n",
       "      <td>0.0</td>\n",
       "      <td>0.00000</td>\n",
       "      <td>0.333333</td>\n",
       "      <td>0.0</td>\n",
       "      <td>0.000000</td>\n",
       "      <td>0.0</td>\n",
       "      <td>0.000000</td>\n",
       "      <td>0.762473</td>\n",
       "      <td>0.543382</td>\n",
       "      <td>1.000000</td>\n",
       "    </tr>\n",
       "  </tbody>\n",
       "</table>\n",
       "<p>82332 rows × 15 columns</p>\n",
       "</div>"
      ],
      "text/plain": [
       "          XGB_0     XGB_1     XGB_2     XGB_3   XGB_4  XGB_5    XGB_6  \\\n",
       "0      0.000036  0.996078  0.000000  0.030121  0.0000    0.0  0.00000   \n",
       "1      0.000134  0.996078  0.000000  0.147128  0.0000    0.0  0.00000   \n",
       "2      0.000080  0.996078  0.000000  0.142685  0.0000    0.0  0.00000   \n",
       "3      0.000067  0.996078  0.000000  0.100200  0.0000    0.0  0.00000   \n",
       "4      0.000162  0.996078  0.000000  0.142017  0.0000    0.0  0.00000   \n",
       "...         ...       ...       ...       ...     ...    ...      ...   \n",
       "82327  0.000006  0.996078  0.000000  0.013894  0.0000    0.0  0.00000   \n",
       "82328  0.001391  0.996078  0.992126  0.000021  0.0001    1.0  0.04801   \n",
       "82329  0.000001  0.000000  0.000000  0.000000  0.0000    0.0  0.00000   \n",
       "82330  0.000001  0.000000  0.000000  0.000000  0.0000    0.0  0.00000   \n",
       "82331  0.000006  0.996078  0.000000  0.007719  0.0000    0.0  0.00000   \n",
       "\n",
       "          XGB_7  XGB_8     XGB_9  XGB_10    XGB_11    XGB_12    XGB_13  \\\n",
       "0      0.333333    0.0  0.015625     0.0  0.016393  0.762473  0.543382   \n",
       "1      0.333333    0.0  0.015625     0.0  0.016393  0.762473  0.543382   \n",
       "2      0.333333    0.0  0.031250     0.0  0.032787  0.762473  0.543382   \n",
       "3      0.333333    0.0  0.031250     0.0  0.032787  0.762473  0.543382   \n",
       "4      0.333333    0.0  0.031250     0.0  0.032787  0.762473  0.543382   \n",
       "...         ...    ...       ...     ...       ...       ...       ...   \n",
       "82327  0.333333    0.0  0.015625     0.0  0.000000  0.762473  0.543382   \n",
       "82328  0.166667    0.0  0.000000     0.0  0.016393  0.455718  0.543382   \n",
       "82329  0.333333    0.0  0.000000     0.0  0.000000  0.000000  0.543382   \n",
       "82330  0.333333    0.0  0.000000     0.0  0.000000  0.000000  0.543382   \n",
       "82331  0.333333    0.0  0.000000     0.0  0.000000  0.762473  0.543382   \n",
       "\n",
       "         XGB_14  \n",
       "0      1.000000  \n",
       "1      1.000000  \n",
       "2      1.000000  \n",
       "3      1.000000  \n",
       "4      1.000000  \n",
       "...         ...  \n",
       "82327  1.000000  \n",
       "82328  0.522135  \n",
       "82329  1.000000  \n",
       "82330  1.000000  \n",
       "82331  1.000000  \n",
       "\n",
       "[82332 rows x 15 columns]"
      ]
     },
     "execution_count": 62,
     "metadata": {},
     "output_type": "execute_result"
    }
   ],
   "source": [
    "recon_feat_test = pd.DataFrame(select_X_test, columns =['XGB_0', 'XGB_1','XGB_2','XGB_3','XGB_4','XGB_5','XGB_6','XGB_7',\n",
    "                                                          'XGB_8','XGB_9','XGB_10','XGB_11','XGB_12','XGB_13','XGB_14'])\n",
    "recon_feat_test"
   ]
  },
  {
   "cell_type": "code",
   "execution_count": 64,
   "id": "5e511bc1",
   "metadata": {},
   "outputs": [
    {
     "name": "stdout",
     "output_type": "stream",
     "text": [
      "           XGB_0     XGB_1     XGB_2         XGB_3     XGB_4  XGB_5     XGB_6  \\\n",
      "0       0.000018  0.988235  1.000000  2.364553e-06  0.000379    1.0  0.000000   \n",
      "1       0.000054  0.243137  0.992126  1.401989e-06  0.022458    1.0  0.000000   \n",
      "2       0.000026  0.243137  0.992126  2.625704e-07  0.002717    1.0  0.033164   \n",
      "3       0.000046  0.243137  0.992126  4.576117e-07  0.000150    1.0  0.000000   \n",
      "4       0.000039  0.996078  0.992126  1.429776e-06  0.000178    1.0  0.037632   \n",
      "...          ...       ...       ...           ...       ...    ...       ...   \n",
      "238677  0.002619  0.121569  0.114173  1.241383e-03  0.045658    1.0  0.000096   \n",
      "238678  0.000302  0.121569  0.114173  8.542544e-06  0.002429    1.0  0.000077   \n",
      "238679  0.000042  0.121569  0.114173  1.283621e-04  0.018829    0.0  0.000000   \n",
      "238680  0.000040  0.996078  0.992126  8.241986e-07  0.000099    1.0  0.042977   \n",
      "238681  0.000006  0.996078  0.000000  7.719141e-03  0.000000    0.0  0.000000   \n",
      "\n",
      "           XGB_7  XGB_8     XGB_9  XGB_10    XGB_11    XGB_12    XGB_13  \\\n",
      "0       0.000000    0.0  0.000000    0.00  0.000000  0.455718  0.543382   \n",
      "1       0.166667    0.0  0.015625    0.00  0.081967  0.455718  0.543382   \n",
      "2       0.166667    0.0  0.031250    0.00  0.081967  0.455718  0.543382   \n",
      "3       0.166667    0.0  0.031250    0.25  0.000000  0.455718  0.599221   \n",
      "4       0.166667    0.0  0.609375    0.00  0.622951  0.455718  0.543382   \n",
      "...          ...    ...       ...     ...       ...       ...       ...   \n",
      "238677  0.000000    0.0  0.000000    0.00  0.000000  0.455718  0.660945   \n",
      "238678  0.000000    0.0  0.000000    0.00  0.032787  0.455718  0.141451   \n",
      "238679  0.000000    0.0  0.031250    0.00  0.065574  0.762473  0.543382   \n",
      "238680  0.166667    0.0  0.046875    0.00  0.049180  0.455718  0.543382   \n",
      "238681  0.333333    0.0  0.015625    0.00  0.016393  0.762473  0.543382   \n",
      "\n",
      "          XGB_14  \n",
      "0       0.522135  \n",
      "1       0.522135  \n",
      "2       0.522135  \n",
      "3       0.522135  \n",
      "4       0.522135  \n",
      "...          ...  \n",
      "238677  0.522135  \n",
      "238678  0.522135  \n",
      "238679  0.076308  \n",
      "238680  0.522135  \n",
      "238681  1.000000  \n",
      "\n",
      "[238682 rows x 15 columns]\n",
      "          XGB_0     XGB_1     XGB_2     XGB_3   XGB_4  XGB_5    XGB_6  \\\n",
      "0      0.000036  0.996078  0.000000  0.030121  0.0000    0.0  0.00000   \n",
      "1      0.000134  0.996078  0.000000  0.147128  0.0000    0.0  0.00000   \n",
      "2      0.000080  0.996078  0.000000  0.142685  0.0000    0.0  0.00000   \n",
      "3      0.000067  0.996078  0.000000  0.100200  0.0000    0.0  0.00000   \n",
      "4      0.000162  0.996078  0.000000  0.142017  0.0000    0.0  0.00000   \n",
      "...         ...       ...       ...       ...     ...    ...      ...   \n",
      "82327  0.000006  0.996078  0.000000  0.013894  0.0000    0.0  0.00000   \n",
      "82328  0.001391  0.996078  0.992126  0.000021  0.0001    1.0  0.04801   \n",
      "82329  0.000001  0.000000  0.000000  0.000000  0.0000    0.0  0.00000   \n",
      "82330  0.000001  0.000000  0.000000  0.000000  0.0000    0.0  0.00000   \n",
      "82331  0.000006  0.996078  0.000000  0.007719  0.0000    0.0  0.00000   \n",
      "\n",
      "          XGB_7  XGB_8     XGB_9  XGB_10    XGB_11    XGB_12    XGB_13  \\\n",
      "0      0.333333    0.0  0.015625     0.0  0.016393  0.762473  0.543382   \n",
      "1      0.333333    0.0  0.015625     0.0  0.016393  0.762473  0.543382   \n",
      "2      0.333333    0.0  0.031250     0.0  0.032787  0.762473  0.543382   \n",
      "3      0.333333    0.0  0.031250     0.0  0.032787  0.762473  0.543382   \n",
      "4      0.333333    0.0  0.031250     0.0  0.032787  0.762473  0.543382   \n",
      "...         ...    ...       ...     ...       ...       ...       ...   \n",
      "82327  0.333333    0.0  0.015625     0.0  0.000000  0.762473  0.543382   \n",
      "82328  0.166667    0.0  0.000000     0.0  0.016393  0.455718  0.543382   \n",
      "82329  0.333333    0.0  0.000000     0.0  0.000000  0.000000  0.543382   \n",
      "82330  0.333333    0.0  0.000000     0.0  0.000000  0.000000  0.543382   \n",
      "82331  0.333333    0.0  0.000000     0.0  0.000000  0.762473  0.543382   \n",
      "\n",
      "         XGB_14  \n",
      "0      1.000000  \n",
      "1      1.000000  \n",
      "2      1.000000  \n",
      "3      1.000000  \n",
      "4      1.000000  \n",
      "...         ...  \n",
      "82327  1.000000  \n",
      "82328  0.522135  \n",
      "82329  1.000000  \n",
      "82330  1.000000  \n",
      "82331  1.000000  \n",
      "\n",
      "[82332 rows x 15 columns]\n"
     ]
    }
   ],
   "source": [
    "x1_recon = recon_feat_train.iloc[:,:]\n",
    "print(x1_recon)\n",
    "x2_recon = recon_feat_test.iloc[:,:]\n",
    "print(x2_recon)"
   ]
  },
  {
   "cell_type": "code",
   "execution_count": 65,
   "id": "a42cbf9d",
   "metadata": {},
   "outputs": [
    {
     "name": "stdout",
     "output_type": "stream",
     "text": [
      "ROC AUC: 0.897457\n"
     ]
    }
   ],
   "source": [
    "# 2. XGBoost CLASSIFIER MODEL\n",
    "\n",
    "# ROC AUC\n",
    "from sklearn.metrics import roc_auc_score\n",
    "auc = roc_auc_score(y2, predictions)\n",
    "print('ROC AUC: %f' % auc)"
   ]
  },
  {
   "cell_type": "code",
   "execution_count": 66,
   "id": "20ae7ad9",
   "metadata": {},
   "outputs": [
    {
     "data": {
      "image/png": "[encoded data removed]",
      "text/plain": [
       "<Figure size 432x288 with 1 Axes>"
      ]
     },
     "metadata": {
      "needs_background": "light"
     },
     "output_type": "display_data"
    }
   ],
   "source": [
    "from matplotlib import pyplot as plt\n",
    "from sklearn import metrics\n",
    "fpr, tpr, _ = metrics.roc_curve(y2,  predictions)\n",
    "#create ROC curve\n",
    "plt.plot(fpr,tpr)\n",
    "plt.ylabel('True Positive Rate')\n",
    "plt.xlabel('False Positive Rate')\n",
    "plt.show()"
   ]
  },
  {
   "cell_type": "code",
   "execution_count": 67,
   "id": "78053820",
   "metadata": {},
   "outputs": [
    {
     "name": "stdout",
     "output_type": "stream",
     "text": [
      "Accuracy in XGBoost classifier model =  90.52737696157023\n",
      "Confusion Matrix = [[30348  6652]\n",
      " [ 1147 44185]]\n",
      "Recall = 0.9052737696157023\n",
      "Precision = 0.9115877568826486\n",
      "Classification Report =\n",
      "               precision    recall  f1-score   support\n",
      "\n",
      "           0       0.96      0.82      0.89     37000\n",
      "           1       0.87      0.97      0.92     45332\n",
      "\n",
      "    accuracy                           0.91     82332\n",
      "   macro avg       0.92      0.90      0.90     82332\n",
      "weighted avg       0.91      0.91      0.90     82332\n",
      "\n",
      "F1 Score =  0.9025204275707456\n"
     ]
    }
   ],
   "source": [
    "from sklearn import metrics\n",
    "from sklearn.metrics import f1_score\n",
    "print('Accuracy in XGBoost classifier model = ', metrics.accuracy_score(y2, predictions)*100)\n",
    "print(\"Confusion Matrix =\", metrics.confusion_matrix(y2, predictions, labels=None, \n",
    "                                              sample_weight=None))\n",
    "print(\"Recall =\", metrics.recall_score(y2, predictions, labels=None, \n",
    "                                             pos_label=1, average='weighted', \n",
    "                                             sample_weight=None))\n",
    "print(\"Precision =\", metrics.precision_score(y2, predictions, labels=None, \n",
    "                                             pos_label=1, average='weighted', \n",
    "                                             sample_weight=None))\n",
    "print(\"Classification Report =\\n\", metrics.classification_report(y2, predictions, \n",
    "                                                                 labels=None, \n",
    "                                                                 target_names=None, \n",
    "                                                                 sample_weight=None, \n",
    "                                                                 digits=2, \n",
    "                                                                 output_dict=False))\n",
    "print(\"F1 Score = \",f1_score(y2, predictions, average='macro'))"
   ]
  },
  {
   "cell_type": "code",
   "execution_count": 68,
   "id": "778b4d78",
   "metadata": {},
   "outputs": [
    {
     "data": {
      "text/plain": [
       "<AxesSubplot:>"
      ]
     },
     "execution_count": 68,
     "metadata": {},
     "output_type": "execute_result"
    },
    {
     "data": {
      "image/png": "[encoded data removed]",
      "text/plain": [
       "<Figure size 432x288 with 2 Axes>"
      ]
     },
     "metadata": {
      "needs_background": "light"
     },
     "output_type": "display_data"
    }
   ],
   "source": [
    "cm_xgb = metrics.confusion_matrix(predictions, y2, labels=None, \n",
    "                                              sample_weight=None)\n",
    "import seaborn as sns\n",
    "sns.heatmap(cm_xgb, annot=True)"
   ]
  },
  {
   "cell_type": "code",
   "execution_count": 69,
   "id": "711c800a",
   "metadata": {},
   "outputs": [
    {
     "data": {
      "text/plain": [
       "<AxesSubplot:>"
      ]
     },
     "execution_count": 69,
     "metadata": {},
     "output_type": "execute_result"
    },
    {
     "data": {
      "image/png": "[encoded data removed]",
      "text/plain": [
       "<Figure size 432x288 with 2 Axes>"
      ]
     },
     "metadata": {
      "needs_background": "light"
     },
     "output_type": "display_data"
    }
   ],
   "source": [
    "sns.heatmap(cm_xgb/np.sum(cm_xgb), annot=True, \n",
    "            fmt='.2%', cmap='Blues')"
   ]
  },
  {
   "cell_type": "code",
   "execution_count": 70,
   "id": "36107c1a",
   "metadata": {},
   "outputs": [
    {
     "name": "stdout",
     "output_type": "stream",
     "text": [
      "Model: \"sequential\"\n",
      "_________________________________________________________________\n",
      " Layer (type)                Output Shape              Param #   \n",
      "=================================================================\n",
      " dense_1 (Dense)             (None, 15)                240       \n",
      "                                                                 \n",
      " dense_2 (Dense)             (None, 30)                480       \n",
      "                                                                 \n",
      " dropout (Dropout)           (None, 30)                0         \n",
      "                                                                 \n",
      " dense_3 (Dense)             (None, 60)                1860      \n",
      "                                                                 \n",
      " dropout_1 (Dropout)         (None, 60)                0         \n",
      "                                                                 \n",
      " dense_4 (Dense)             (None, 120)               7320      \n",
      "                                                                 \n",
      " dropout_2 (Dropout)         (None, 120)               0         \n",
      "                                                                 \n",
      " dense_5 (Dense)             (None, 240)               29040     \n",
      "                                                                 \n",
      " dense_6 (Dense)             (None, 2)                 482       \n",
      "                                                                 \n",
      "=================================================================\n",
      "Total params: 39,422\n",
      "Trainable params: 39,422\n",
      "Non-trainable params: 0\n",
      "_________________________________________________________________\n"
     ]
    }
   ],
   "source": [
    "# 3. DNN CLASSIFIER MODEL\n",
    "\n",
    "from tensorflow import keras\n",
    "model_DNN=keras.models.Sequential()\n",
    "model_DNN.add(keras.layers.Dense(units=15, activation = \"relu\",input_shape = select_X_train.shape[1:]))\n",
    "model_DNN.add(keras.layers.Dense(units=30,activation = \"relu\"))\n",
    "model_DNN.add(keras.layers.Dropout(0.25))\n",
    "model_DNN.add(keras.layers.Dense(units=60,activation = \"relu\" ))\n",
    "model_DNN.add(keras.layers.Dropout(0.25))\n",
    "model_DNN.add(keras.layers.Dense(units=120,activation = \"relu\" ))\n",
    "model_DNN.add(keras.layers.Dropout(0.25))\n",
    "model_DNN.add(keras.layers.Dense(units=240,activation = \"relu\" ))\n",
    "model_DNN.add(keras.layers.Dense(units=2, activation = \"sigmoid\"))\n",
    "model_DNN.summary()"
   ]
  },
  {
   "cell_type": "code",
   "execution_count": 71,
   "id": "2c484422",
   "metadata": {},
   "outputs": [
    {
     "name": "stdout",
     "output_type": "stream",
     "text": [
      "Epoch 1/50\n",
      "14918/14918 [==============================] - 54s 4ms/step - loss: 0.2846 - accuracy: 0.8726 - val_loss: 0.4632 - val_accuracy: 0.7875\n",
      "Epoch 2/50\n",
      "14918/14918 [==============================] - 56s 4ms/step - loss: 0.3209 - accuracy: 0.8784 - val_loss: 0.4925 - val_accuracy: 0.7671\n",
      "Epoch 3/50\n",
      "14918/14918 [==============================] - 52s 3ms/step - loss: 0.3371 - accuracy: 0.8773 - val_loss: 0.5516 - val_accuracy: 0.7865\n",
      "Epoch 4/50\n",
      "14918/14918 [==============================] - 45s 3ms/step - loss: 0.3405 - accuracy: 0.8823 - val_loss: 0.4709 - val_accuracy: 0.7865\n",
      "Epoch 5/50\n",
      "14918/14918 [==============================] - 44s 3ms/step - loss: 0.3320 - accuracy: 0.8789 - val_loss: 0.4726 - val_accuracy: 0.7873\n",
      "Epoch 6/50\n",
      "14918/14918 [==============================] - 44s 3ms/step - loss: 0.3729 - accuracy: 0.8672 - val_loss: 0.4698 - val_accuracy: 0.7875\n",
      "Epoch 7/50\n",
      "14918/14918 [==============================] - 44s 3ms/step - loss: 0.3677 - accuracy: 0.8809 - val_loss: 0.4830 - val_accuracy: 0.7872\n",
      "Epoch 8/50\n",
      "14918/14918 [==============================] - 45s 3ms/step - loss: 0.3564 - accuracy: 0.8749 - val_loss: 0.4752 - val_accuracy: 0.7862\n",
      "Epoch 9/50\n",
      "14918/14918 [==============================] - 46s 3ms/step - loss: 0.3230 - accuracy: 0.8793 - val_loss: 0.4691 - val_accuracy: 0.7872\n",
      "Epoch 10/50\n",
      "14918/14918 [==============================] - 44s 3ms/step - loss: 0.3141 - accuracy: 0.8876 - val_loss: 0.4709 - val_accuracy: 0.7873\n",
      "Epoch 11/50\n",
      "14918/14918 [==============================] - 46s 3ms/step - loss: 0.3030 - accuracy: 0.8888 - val_loss: 0.6927 - val_accuracy: 0.7879\n",
      "2573/2573 [==============================] - 5s 2ms/step - loss: 0.4632 - accuracy: 0.7875\n",
      "Test loss =  0.46321776509284973\n",
      "Test accuracy =  0.7875066995620728\n"
     ]
    }
   ],
   "source": [
    "opt = keras.optimizers.Adam(learning_rate=0.01)\n",
    "model_DNN.compile(loss=\"sparse_categorical_crossentropy\",optimizer=opt,metrics=\"accuracy\")\n",
    "es=keras.callbacks.EarlyStopping(monitor='loss',patience=10,restore_best_weights=True)\n",
    "cp=keras.callbacks.ModelCheckpoint(\"SaranyaDNNNet_new.h5\",monitor='val_loss')\n",
    "history = model_DNN.fit(select_X_train, y1,epochs=50,batch_size=16,callbacks=[es,cp],validation_data = [select_X_test, y2])\n",
    "testloss,testaccuracy=model_DNN.evaluate(select_X_test,y2)\n",
    "print(\"Test loss = \",testloss)\n",
    "print(\"Test accuracy = \",testaccuracy)"
   ]
  },
  {
   "cell_type": "code",
   "execution_count": 74,
   "id": "08fa7ff5",
   "metadata": {},
   "outputs": [
    {
     "name": "stdout",
     "output_type": "stream",
     "text": [
      "[[3.4596896e-01 6.7292333e-01]\n",
      " [3.4596896e-01 6.7292333e-01]\n",
      " [3.4596896e-01 6.7292333e-01]\n",
      " ...\n",
      " [1.0000000e+00 4.0190206e-35]\n",
      " [1.0000000e+00 4.0190206e-35]\n",
      " [3.4596896e-01 6.7292333e-01]]\n",
      "[1 1 1 ... 0 0 1]\n",
      "Test Loss = 0.46321776509284973\n",
      "Test Accuracy = 0.7875066995620728\n"
     ]
    }
   ],
   "source": [
    "y_pred_DNN = model_DNN.predict(select_X_test)\n",
    "print(y_pred_DNN)\n",
    "y_pred_class_DNN=np.argmax(y_pred_DNN,axis=1)\n",
    "print(y_pred_class_DNN)\n",
    "print(\"Test Loss =\",testloss)\n",
    "print(\"Test Accuracy =\",testaccuracy)"
   ]
  },
  {
   "cell_type": "code",
   "execution_count": 75,
   "id": "eb7b2fee",
   "metadata": {},
   "outputs": [
    {
     "name": "stdout",
     "output_type": "stream",
     "text": [
      "ROC AUC: 0.763581\n"
     ]
    }
   ],
   "source": [
    "# ROC AUC\n",
    "from sklearn.metrics import roc_auc_score\n",
    "auc = roc_auc_score(y2, y_pred_class_DNN)\n",
    "print('ROC AUC: %f' % auc)"
   ]
  },
  {
   "cell_type": "code",
   "execution_count": 76,
   "id": "2307824a",
   "metadata": {},
   "outputs": [
    {
     "data": {
      "image/png": "[encoded data removed]",
      "text/plain": [
       "<Figure size 432x288 with 1 Axes>"
      ]
     },
     "metadata": {
      "needs_background": "light"
     },
     "output_type": "display_data"
    }
   ],
   "source": [
    "from sklearn import metrics\n",
    "fpr, tpr, _ = metrics.roc_curve(y2,  y_pred_class_DNN)\n",
    "#create ROC curve\n",
    "plt.plot(fpr,tpr)\n",
    "plt.ylabel('True Positive Rate')\n",
    "plt.xlabel('False Positive Rate')\n",
    "plt.show()"
   ]
  },
  {
   "cell_type": "code",
   "execution_count": 77,
   "id": "a09812e5",
   "metadata": {},
   "outputs": [
    {
     "name": "stdout",
     "output_type": "stream",
     "text": [
      "Accuracy in DNN classifier model =  78.75066802701258\n",
      "Confusion Matrix = [[19505     0]\n",
      " [17495 45332]]\n",
      "Recall = 0.7875066802701258\n",
      "Precision = 0.8879815621261838\n",
      "Classification Report =\n",
      "               precision    recall  f1-score   support\n",
      "\n",
      "           0       0.53      1.00      0.69     19505\n",
      "           1       1.00      0.72      0.84     62827\n",
      "\n",
      "    accuracy                           0.79     82332\n",
      "   macro avg       0.76      0.86      0.76     82332\n",
      "weighted avg       0.89      0.79      0.80     82332\n",
      "\n",
      "F1 Score =  0.764314388608677\n"
     ]
    }
   ],
   "source": [
    "from sklearn import metrics\n",
    "from sklearn.metrics import f1_score\n",
    "print('Accuracy in DNN classifier model = ', metrics.accuracy_score(y_pred_class_DNN, y2)*100)\n",
    "print(\"Confusion Matrix =\", metrics.confusion_matrix(y_pred_class_DNN, y2, labels=None, \n",
    "                                              sample_weight=None))\n",
    "print(\"Recall =\", metrics.recall_score(y_pred_class_DNN, y2, labels=None, \n",
    "                                             pos_label=1, average='weighted', \n",
    "                                             sample_weight=None))\n",
    "print(\"Precision =\", metrics.precision_score(y_pred_class_DNN, y2, labels=None, \n",
    "                                             pos_label=1, average='weighted', \n",
    "                                             sample_weight=None))\n",
    "print(\"Classification Report =\\n\", metrics.classification_report(y_pred_class_DNN, y2, \n",
    "                                                                 labels=None, \n",
    "                                                                 target_names=None, \n",
    "                                                                 sample_weight=None, \n",
    "                                                                 digits=2, \n",
    "                                                                 output_dict=False))\n",
    "print(\"F1 Score = \",f1_score(y_pred_class_DNN, y2, average='macro'))"
   ]
  },
  {
   "cell_type": "code",
   "execution_count": 78,
   "id": "6abd8f0c",
   "metadata": {},
   "outputs": [
    {
     "data": {
      "text/plain": [
       "<AxesSubplot:>"
      ]
     },
     "execution_count": 78,
     "metadata": {},
     "output_type": "execute_result"
    },
    {
     "data": {
      "image/png": "[encoded data removed]",
      "text/plain": [
       "<Figure size 432x288 with 2 Axes>"
      ]
     },
     "metadata": {
      "needs_background": "light"
     },
     "output_type": "display_data"
    }
   ],
   "source": [
    "cm_DNN = metrics.confusion_matrix(y_pred_class_DNN, y2, labels=None, \n",
    "                                              sample_weight=None)\n",
    "import seaborn as sns\n",
    "sns.heatmap(cm_DNN, annot=True)"
   ]
  },
  {
   "cell_type": "code",
   "execution_count": 79,
   "id": "ff3a9124",
   "metadata": {},
   "outputs": [
    {
     "data": {
      "text/plain": [
       "<AxesSubplot:>"
      ]
     },
     "execution_count": 79,
     "metadata": {},
     "output_type": "execute_result"
    },
    {
     "data": {
      "image/png": "[encoded data removed]",
      "text/plain": [
       "<Figure size 432x288 with 2 Axes>"
      ]
     },
     "metadata": {
      "needs_background": "light"
     },
     "output_type": "display_data"
    }
   ],
   "source": [
    "sns.heatmap(cm_DNN/np.sum(cm_DNN), annot=True, \n",
    "            fmt='.2%', cmap='Blues')"
   ]
  },
  {
   "cell_type": "code",
   "execution_count": 80,
   "id": "747e5c1d",
   "metadata": {},
   "outputs": [],
   "source": [
    "# 4. CNN CLASSIFIER MODEL\n",
    "\n",
    "select_X_train_CNN = np.reshape(select_X_train, (select_X_train.shape[0],select_X_train.shape[1],1))\n",
    "select_X_test_CNN = np.reshape(select_X_test, (select_X_test.shape[0],select_X_test.shape[1],1))"
   ]
  },
  {
   "cell_type": "code",
   "execution_count": 81,
   "id": "2c70898d",
   "metadata": {},
   "outputs": [
    {
     "name": "stdout",
     "output_type": "stream",
     "text": [
      "Model: \"sequential_1\"\n",
      "_________________________________________________________________\n",
      " Layer (type)                Output Shape              Param #   \n",
      "=================================================================\n",
      " conv1d (Conv1D)             (None, 13, 15)            60        \n",
      "                                                                 \n",
      " conv1d_1 (Conv1D)           (None, 11, 30)            1380      \n",
      "                                                                 \n",
      " batch_normalization (BatchN  (None, 11, 30)           120       \n",
      " ormalization)                                                   \n",
      "                                                                 \n",
      " max_pooling1d (MaxPooling1D  (None, 5, 30)            0         \n",
      " )                                                               \n",
      "                                                                 \n",
      " dropout_3 (Dropout)         (None, 5, 30)             0         \n",
      "                                                                 \n",
      " flatten (Flatten)           (None, 150)               0         \n",
      "                                                                 \n",
      " dense_7 (Dense)             (None, 60)                9060      \n",
      "                                                                 \n",
      " dropout_4 (Dropout)         (None, 60)                0         \n",
      "                                                                 \n",
      " dense_8 (Dense)             (None, 2)                 122       \n",
      "                                                                 \n",
      "=================================================================\n",
      "Total params: 10,742\n",
      "Trainable params: 10,682\n",
      "Non-trainable params: 60\n",
      "_________________________________________________________________\n"
     ]
    }
   ],
   "source": [
    "from tensorflow import keras\n",
    "from tensorflow.keras.layers import Input\n",
    "from keras.layers import Convolution1D, Dense, Dropout, MaxPooling1D, LSTM\n",
    "from keras.layers import Dense, Dropout, Activation, Lambda, Flatten\n",
    "convnet=keras.models.Sequential()\n",
    "convnet.add(keras.layers.Convolution1D(15,3,activation=\"relu\",input_shape=(15,1)))\n",
    "convnet.add(keras.layers.Convolution1D(30,3,activation=\"relu\"))\n",
    "convnet.add(keras.layers.BatchNormalization())\n",
    "convnet.add(keras.layers.MaxPooling1D(2,2))\n",
    "convnet.add(keras.layers.Dropout(0.25))\n",
    "convnet.add(keras.layers.Flatten())\n",
    "convnet.add(keras.layers.Dense(60,activation=\"relu\"))\n",
    "convnet.add(keras.layers.Dropout(0.25))\n",
    "convnet.add(keras.layers.Dense(2,activation=\"softmax\"))\n",
    "convnet.summary()"
   ]
  },
  {
   "cell_type": "code",
   "execution_count": 82,
   "id": "9d13f413",
   "metadata": {},
   "outputs": [
    {
     "name": "stdout",
     "output_type": "stream",
     "text": [
      "Epoch 1/50\n",
      "14918/14918 [==============================] - 56s 4ms/step - loss: 0.1732 - accuracy: 0.9121 - val_loss: 0.2810 - val_accuracy: 0.8129\n",
      "Epoch 2/50\n",
      "14918/14918 [==============================] - 54s 4ms/step - loss: 0.1584 - accuracy: 0.9167 - val_loss: 0.2337 - val_accuracy: 0.9134\n",
      "Epoch 3/50\n",
      "14918/14918 [==============================] - 56s 4ms/step - loss: 0.1530 - accuracy: 0.9192 - val_loss: 0.2762 - val_accuracy: 0.8938\n",
      "Epoch 4/50\n",
      "14918/14918 [==============================] - 56s 4ms/step - loss: 0.1531 - accuracy: 0.9184 - val_loss: 0.2442 - val_accuracy: 0.9281\n",
      "Epoch 5/50\n",
      "14918/14918 [==============================] - 55s 4ms/step - loss: 0.1508 - accuracy: 0.9189 - val_loss: 0.2643 - val_accuracy: 0.9162\n",
      "Epoch 6/50\n",
      "14918/14918 [==============================] - 57s 4ms/step - loss: 0.1516 - accuracy: 0.9186 - val_loss: 0.2492 - val_accuracy: 0.8847\n",
      "Epoch 7/50\n",
      "14918/14918 [==============================] - 55s 4ms/step - loss: 0.1498 - accuracy: 0.9191 - val_loss: 0.2304 - val_accuracy: 0.9205\n",
      "Epoch 8/50\n",
      "14918/14918 [==============================] - 58s 4ms/step - loss: 0.1502 - accuracy: 0.9186 - val_loss: 0.2835 - val_accuracy: 0.9100\n",
      "Epoch 9/50\n",
      "14918/14918 [==============================] - 56s 4ms/step - loss: 0.1502 - accuracy: 0.9195 - val_loss: 0.2173 - val_accuracy: 0.9250\n",
      "Epoch 10/50\n",
      "14918/14918 [==============================] - 58s 4ms/step - loss: 0.1495 - accuracy: 0.9194 - val_loss: 0.2417 - val_accuracy: 0.9172\n",
      "Epoch 11/50\n",
      "14918/14918 [==============================] - 56s 4ms/step - loss: 0.1501 - accuracy: 0.9186 - val_loss: 0.2554 - val_accuracy: 0.8100\n",
      "Epoch 12/50\n",
      "14918/14918 [==============================] - 57s 4ms/step - loss: 0.1497 - accuracy: 0.9194 - val_loss: 0.2395 - val_accuracy: 0.8102\n",
      "Epoch 13/50\n",
      "14918/14918 [==============================] - 56s 4ms/step - loss: 0.1502 - accuracy: 0.9185 - val_loss: 0.2470 - val_accuracy: 0.8200\n",
      "Epoch 14/50\n",
      "14918/14918 [==============================] - 56s 4ms/step - loss: 0.1503 - accuracy: 0.9207 - val_loss: 0.2183 - val_accuracy: 0.9181\n",
      "Epoch 15/50\n",
      "14918/14918 [==============================] - 57s 4ms/step - loss: 0.1484 - accuracy: 0.9199 - val_loss: 0.2115 - val_accuracy: 0.9252\n",
      "Epoch 16/50\n",
      "14918/14918 [==============================] - 57s 4ms/step - loss: 0.1510 - accuracy: 0.9185 - val_loss: 0.2337 - val_accuracy: 0.9013\n",
      "Epoch 17/50\n",
      "14918/14918 [==============================] - 56s 4ms/step - loss: 0.1484 - accuracy: 0.9199 - val_loss: 0.2260 - val_accuracy: 0.9267\n",
      "Epoch 18/50\n",
      "14918/14918 [==============================] - 56s 4ms/step - loss: 0.1505 - accuracy: 0.9189 - val_loss: 0.2340 - val_accuracy: 0.8099\n",
      "Epoch 19/50\n",
      "14918/14918 [==============================] - 57s 4ms/step - loss: 0.1508 - accuracy: 0.9188 - val_loss: 0.2374 - val_accuracy: 0.9134\n",
      "Epoch 20/50\n",
      "14918/14918 [==============================] - 56s 4ms/step - loss: 0.1509 - accuracy: 0.9193 - val_loss: 0.2658 - val_accuracy: 0.8774\n",
      "Epoch 21/50\n",
      "14918/14918 [==============================] - 56s 4ms/step - loss: 0.1481 - accuracy: 0.9190 - val_loss: 0.2673 - val_accuracy: 0.8094\n",
      "Epoch 22/50\n",
      "14918/14918 [==============================] - 56s 4ms/step - loss: 0.1489 - accuracy: 0.9197 - val_loss: 0.2540 - val_accuracy: 0.8096\n",
      "Epoch 23/50\n",
      "14918/14918 [==============================] - 56s 4ms/step - loss: 0.1505 - accuracy: 0.9191 - val_loss: 0.2385 - val_accuracy: 0.9175\n",
      "Epoch 24/50\n",
      "14918/14918 [==============================] - 56s 4ms/step - loss: 0.1498 - accuracy: 0.9193 - val_loss: 0.2192 - val_accuracy: 0.9290\n",
      "Epoch 25/50\n",
      "14918/14918 [==============================] - 55s 4ms/step - loss: 0.1507 - accuracy: 0.9195 - val_loss: 0.2261 - val_accuracy: 0.9209\n",
      "Epoch 26/50\n",
      "14918/14918 [==============================] - 55s 4ms/step - loss: 0.1507 - accuracy: 0.9189 - val_loss: 0.2233 - val_accuracy: 0.9281\n",
      "Epoch 27/50\n",
      "14918/14918 [==============================] - 55s 4ms/step - loss: 0.1512 - accuracy: 0.9194 - val_loss: 0.2395 - val_accuracy: 0.9200\n",
      "Epoch 28/50\n",
      "14918/14918 [==============================] - 57s 4ms/step - loss: 0.1488 - accuracy: 0.9208 - val_loss: 0.2305 - val_accuracy: 0.9204\n",
      "Epoch 29/50\n",
      "14918/14918 [==============================] - 56s 4ms/step - loss: 0.1513 - accuracy: 0.9199 - val_loss: 0.2291 - val_accuracy: 0.9249\n",
      "Epoch 30/50\n",
      "14918/14918 [==============================] - 57s 4ms/step - loss: 0.1515 - accuracy: 0.9194 - val_loss: 0.2196 - val_accuracy: 0.9199\n",
      "Epoch 31/50\n",
      "14918/14918 [==============================] - 55s 4ms/step - loss: 0.1511 - accuracy: 0.9186 - val_loss: 0.2329 - val_accuracy: 0.9196\n",
      "2573/2573 [==============================] - 5s 2ms/step - loss: 0.2673 - accuracy: 0.8094\n",
      "Test loss =  0.26725059747695923\n",
      "Test accuracy =  0.8093937039375305\n"
     ]
    }
   ],
   "source": [
    "opt = keras.optimizers.Adam(learning_rate=0.01)\n",
    "convnet.compile(loss=\"sparse_categorical_crossentropy\",optimizer=opt,metrics=\"accuracy\")\n",
    "es=keras.callbacks.EarlyStopping(monitor='loss',patience=10,restore_best_weights=True)\n",
    "cp=keras.callbacks.ModelCheckpoint(\"SaranyaConvNet_new.h5\",monitor='val_loss')\n",
    "history = convnet.fit(select_X_train_CNN,y1,epochs=50,batch_size=16,callbacks=[es,cp],validation_data = [select_X_test_CNN, y2])\n",
    "testloss,testaccuracy=convnet.evaluate(select_X_test_CNN,y2)\n",
    "print(\"Test loss = \",testloss)\n",
    "print(\"Test accuracy = \",testaccuracy)"
   ]
  },
  {
   "cell_type": "code",
   "execution_count": 85,
   "id": "71b5a570",
   "metadata": {},
   "outputs": [
    {
     "name": "stdout",
     "output_type": "stream",
     "text": [
      "[[0.30220604 0.69779396]\n",
      " [0.3898829  0.6101171 ]\n",
      " [0.4798804  0.52011955]\n",
      " ...\n",
      " [1.         0.        ]\n",
      " [1.         0.        ]\n",
      " [0.0035486  0.9964514 ]]\n",
      "[1 1 1 ... 0 0 1]\n"
     ]
    }
   ],
   "source": [
    "y_pred_CNN = convnet.predict(select_X_test_CNN)\n",
    "print(y_pred_CNN)\n",
    "y_pred_class_CNN=np.argmax(y_pred_CNN,axis=1)\n",
    "print(y_pred_class_CNN)"
   ]
  },
  {
   "cell_type": "code",
   "execution_count": 86,
   "id": "d02b27a8",
   "metadata": {},
   "outputs": [
    {
     "name": "stdout",
     "output_type": "stream",
     "text": [
      "ROC AUC: 0.788004\n"
     ]
    }
   ],
   "source": [
    "# ROC AUC\n",
    "from sklearn.metrics import roc_auc_score\n",
    "auc = roc_auc_score(y2, y_pred_class_CNN)\n",
    "print('ROC AUC: %f' % auc)"
   ]
  },
  {
   "cell_type": "code",
   "execution_count": 87,
   "id": "22321de4",
   "metadata": {},
   "outputs": [
    {
     "data": {
      "image/png": "[encoded data removed]",
      "text/plain": [
       "<Figure size 432x288 with 1 Axes>"
      ]
     },
     "metadata": {
      "needs_background": "light"
     },
     "output_type": "display_data"
    }
   ],
   "source": [
    "fpr, tpr, _ = metrics.roc_curve(y2,  y_pred_class_CNN)\n",
    "#create ROC curve\n",
    "plt.plot(fpr,tpr)\n",
    "plt.ylabel('True Positive Rate')\n",
    "plt.xlabel('False Positive Rate')\n",
    "plt.show()"
   ]
  },
  {
   "cell_type": "code",
   "execution_count": 88,
   "id": "0bbd4c1f",
   "metadata": {},
   "outputs": [
    {
     "name": "stdout",
     "output_type": "stream",
     "text": [
      "Accuracy in CNN classifier model =  80.93936743914881\n",
      "Confusion Matrix = [[21336    29]\n",
      " [15664 45303]]\n",
      "Recall = 0.8093936743914881\n",
      "Precision = 0.8896673988574126\n",
      "Classification Report =\n",
      "               precision    recall  f1-score   support\n",
      "\n",
      "           0       0.58      1.00      0.73     21365\n",
      "           1       1.00      0.74      0.85     60967\n",
      "\n",
      "    accuracy                           0.81     82332\n",
      "   macro avg       0.79      0.87      0.79     82332\n",
      "weighted avg       0.89      0.81      0.82     82332\n",
      "\n",
      "F1 Score =  0.7917461824472181\n"
     ]
    }
   ],
   "source": [
    "from sklearn import metrics\n",
    "from sklearn.metrics import f1_score\n",
    "print('Accuracy in CNN classifier model = ', metrics.accuracy_score(y_pred_class_CNN, y2)*100)\n",
    "print(\"Confusion Matrix =\", metrics.confusion_matrix(y_pred_class_CNN, y2, labels=None, \n",
    "                                              sample_weight=None))\n",
    "print(\"Recall =\", metrics.recall_score(y_pred_class_CNN, y2, labels=None, \n",
    "                                             pos_label=1, average='weighted', \n",
    "                                             sample_weight=None))\n",
    "print(\"Precision =\", metrics.precision_score(y_pred_class_CNN, y2, labels=None, \n",
    "                                             pos_label=1, average='weighted', \n",
    "                                             sample_weight=None))\n",
    "print(\"Classification Report =\\n\", metrics.classification_report(y_pred_class_CNN, y2, \n",
    "                                                                 labels=None, \n",
    "                                                                 target_names=None, \n",
    "                                                                 sample_weight=None, \n",
    "                                                                 digits=2, \n",
    "                                                                 output_dict=False))\n",
    "print(\"F1 Score = \",f1_score(y_pred_class_CNN, y2, average='macro'))"
   ]
  },
  {
   "cell_type": "code",
   "execution_count": 89,
   "id": "b6d88a8a",
   "metadata": {},
   "outputs": [
    {
     "data": {
      "text/plain": [
       "<AxesSubplot:>"
      ]
     },
     "execution_count": 89,
     "metadata": {},
     "output_type": "execute_result"
    },
    {
     "data": {
      "image/png": "[encoded data removed]",
      "text/plain": [
       "<Figure size 432x288 with 2 Axes>"
      ]
     },
     "metadata": {
      "needs_background": "light"
     },
     "output_type": "display_data"
    }
   ],
   "source": [
    "cm_CNN = metrics.confusion_matrix(y_pred_class_CNN, y2, labels=None, \n",
    "                                              sample_weight=None)\n",
    "import seaborn as sns\n",
    "sns.heatmap(cm_CNN, annot=True)"
   ]
  },
  {
   "cell_type": "code",
   "execution_count": 90,
   "id": "12a480d8",
   "metadata": {},
   "outputs": [
    {
     "data": {
      "text/plain": [
       "<AxesSubplot:>"
      ]
     },
     "execution_count": 90,
     "metadata": {},
     "output_type": "execute_result"
    },
    {
     "data": {
      "image/png": "[encoded data removed]",
      "text/plain": [
       "<Figure size 432x288 with 2 Axes>"
      ]
     },
     "metadata": {
      "needs_background": "light"
     },
     "output_type": "display_data"
    }
   ],
   "source": [
    "sns.heatmap(cm_CNN/np.sum(cm_CNN), annot=True, \n",
    "            fmt='.2%', cmap='Blues')"
   ]
  },
  {
   "cell_type": "code",
   "execution_count": 27,
   "id": "945fe610",
   "metadata": {},
   "outputs": [
    {
     "name": "stdout",
     "output_type": "stream",
     "text": [
      "238682\n",
      "82332\n"
     ]
    }
   ],
   "source": [
    "# 5. TCN CLASSIFIER MODEL\n",
    "\n",
    "print(select_X_train.shape[0])\n",
    "print(select_X_test.shape[0])"
   ]
  },
  {
   "cell_type": "code",
   "execution_count": 28,
   "id": "2a27fb3d",
   "metadata": {},
   "outputs": [
    {
     "name": "stdout",
     "output_type": "stream",
     "text": [
      "(238682, 15) (238682,) (82332, 15) (82332,)\n",
      "(238682, 15, 1) (238682,) (82332, 15, 1) (82332,)\n"
     ]
    }
   ],
   "source": [
    "print(select_X_train.shape, y1.shape, select_X_test.shape, y2.shape)\n",
    "select_X_train_TCN = np.reshape(select_X_train, (select_X_train.shape[0],select_X_train.shape[1],1))\n",
    "select_X_test_TCN = np.reshape(select_X_test, (select_X_test.shape[0],select_X_test.shape[1],1))\n",
    "print(select_X_train_TCN.shape, y1.shape, select_X_test_TCN.shape, y2.shape)"
   ]
  },
  {
   "cell_type": "code",
   "execution_count": 29,
   "id": "1963e773",
   "metadata": {},
   "outputs": [
    {
     "name": "stdout",
     "output_type": "stream",
     "text": [
      "(238682, 15, 1) (238682,) (82332, 15, 1) (82332,)\n"
     ]
    }
   ],
   "source": [
    "from tensorflow.keras.utils import to_categorical\n",
    "num_classes = 2\n",
    "y1_TCN = to_categorical(y1, num_classes)\n",
    "y2_TCN = to_categorical(y2, num_classes)\n",
    "print(select_X_train_TCN.shape, y1.shape, select_X_test_TCN.shape, y2.shape)"
   ]
  },
  {
   "cell_type": "code",
   "execution_count": 30,
   "id": "5f5f6b6e",
   "metadata": {},
   "outputs": [
    {
     "name": "stdout",
     "output_type": "stream",
     "text": [
      "(238682, 15, 1) (238682,) (82332, 15, 1) (82332,)\n"
     ]
    }
   ],
   "source": [
    "y1_TCN = np.expand_dims(y1_TCN, axis=2)\n",
    "y2_TCN = np.expand_dims(y2_TCN, axis=2)\n",
    "print(select_X_train_TCN.shape, y1.shape, select_X_test_TCN.shape, y2.shape)"
   ]
  },
  {
   "cell_type": "code",
   "execution_count": 31,
   "id": "8e6bd010",
   "metadata": {},
   "outputs": [
    {
     "name": "stdout",
     "output_type": "stream",
     "text": [
      "Requirement already satisfied: keras-tcn in c:\\users\\admin\\anaconda3\\lib\\site-packages (3.4.2)\n",
      "Requirement already satisfied: tensorflow in c:\\users\\admin\\anaconda3\\lib\\site-packages (from keras-tcn) (2.7.0)\n",
      "Requirement already satisfied: tensorflow-addons in c:\\users\\admin\\anaconda3\\lib\\site-packages (from keras-tcn) (0.16.1)\n",
      "Requirement already satisfied: numpy in c:\\users\\admin\\anaconda3\\lib\\site-packages (from keras-tcn) (1.20.1)\n",
      "Requirement already satisfied: google-pasta>=0.1.1 in c:\\users\\admin\\anaconda3\\lib\\site-packages (from tensorflow->keras-tcn) (0.2.0)\n",
      "Requirement already satisfied: termcolor>=1.1.0 in c:\\users\\admin\\anaconda3\\lib\\site-packages (from tensorflow->keras-tcn) (1.1.0)\n",
      "Requirement already satisfied: opt-einsum>=2.3.2 in c:\\users\\admin\\anaconda3\\lib\\site-packages (from tensorflow->keras-tcn) (3.3.0)\n",
      "Requirement already satisfied: tensorboard~=2.6 in c:\\users\\admin\\anaconda3\\lib\\site-packages (from tensorflow->keras-tcn) (2.7.0)\n",
      "Requirement already satisfied: flatbuffers<3.0,>=1.12 in c:\\users\\admin\\anaconda3\\lib\\site-packages (from tensorflow->keras-tcn) (2.0)\n",
      "Requirement already satisfied: absl-py>=0.4.0 in c:\\users\\admin\\anaconda3\\lib\\site-packages (from tensorflow->keras-tcn) (1.0.0)\n",
      "Requirement already satisfied: tensorflow-estimator<2.8,~=2.7.0rc0 in c:\\users\\admin\\anaconda3\\lib\\site-packages (from tensorflow->keras-tcn) (2.7.0)\n",
      "Requirement already satisfied: astunparse>=1.6.0 in c:\\users\\admin\\anaconda3\\lib\\site-packages (from tensorflow->keras-tcn) (1.6.3)\n",
      "Requirement already satisfied: gast<0.5.0,>=0.2.1 in c:\\users\\admin\\anaconda3\\lib\\site-packages (from tensorflow->keras-tcn) (0.4.0)\n",
      "Requirement already satisfied: wheel<1.0,>=0.32.0 in c:\\users\\admin\\anaconda3\\lib\\site-packages (from tensorflow->keras-tcn) (0.36.2)\n",
      "Requirement already satisfied: keras<2.8,>=2.7.0rc0 in c:\\users\\admin\\anaconda3\\lib\\site-packages (from tensorflow->keras-tcn) (2.7.0)\n",
      "Requirement already satisfied: tensorflow-io-gcs-filesystem>=0.21.0 in c:\\users\\admin\\anaconda3\\lib\\site-packages (from tensorflow->keras-tcn) (0.23.1)\n",
      "Requirement already satisfied: wrapt>=1.11.0 in c:\\users\\admin\\anaconda3\\lib\\site-packages (from tensorflow->keras-tcn) (1.12.1)\n",
      "Requirement already satisfied: protobuf>=3.9.2 in c:\\users\\admin\\anaconda3\\lib\\site-packages (from tensorflow->keras-tcn) (3.19.1)\n",
      "Requirement already satisfied: six>=1.12.0 in c:\\users\\admin\\anaconda3\\lib\\site-packages (from tensorflow->keras-tcn) (1.15.0)\n",
      "Requirement already satisfied: h5py>=2.9.0 in c:\\users\\admin\\anaconda3\\lib\\site-packages (from tensorflow->keras-tcn) (2.10.0)\n",
      "Requirement already satisfied: libclang>=9.0.1 in c:\\users\\admin\\anaconda3\\lib\\site-packages (from tensorflow->keras-tcn) (12.0.0)\n",
      "Requirement already satisfied: grpcio<2.0,>=1.24.3 in c:\\users\\admin\\anaconda3\\lib\\site-packages (from tensorflow->keras-tcn) (1.43.0)\n",
      "Requirement already satisfied: typing-extensions>=3.6.6 in c:\\users\\admin\\anaconda3\\lib\\site-packages (from tensorflow->keras-tcn) (3.7.4.3)\n",
      "Requirement already satisfied: keras-preprocessing>=1.1.1 in c:\\users\\admin\\anaconda3\\lib\\site-packages (from tensorflow->keras-tcn) (1.1.2)\n",
      "Requirement already satisfied: google-auth-oauthlib<0.5,>=0.4.1 in c:\\users\\admin\\anaconda3\\lib\\site-packages (from tensorboard~=2.6->tensorflow->keras-tcn) (0.4.6)\n",
      "Requirement already satisfied: werkzeug>=0.11.15 in c:\\users\\admin\\anaconda3\\lib\\site-packages (from tensorboard~=2.6->tensorflow->keras-tcn) (1.0.1)\n",
      "Requirement already satisfied: tensorboard-data-server<0.7.0,>=0.6.0 in c:\\users\\admin\\anaconda3\\lib\\site-packages (from tensorboard~=2.6->tensorflow->keras-tcn) (0.6.1)\n",
      "Requirement already satisfied: markdown>=2.6.8 in c:\\users\\admin\\anaconda3\\lib\\site-packages (from tensorboard~=2.6->tensorflow->keras-tcn) (3.3.6)\n",
      "Requirement already satisfied: requests<3,>=2.21.0 in c:\\users\\admin\\anaconda3\\lib\\site-packages (from tensorboard~=2.6->tensorflow->keras-tcn) (2.25.1)\n",
      "Requirement already satisfied: tensorboard-plugin-wit>=1.6.0 in c:\\users\\admin\\anaconda3\\lib\\site-packages (from tensorboard~=2.6->tensorflow->keras-tcn) (1.8.0)\n",
      "Requirement already satisfied: google-auth<3,>=1.6.3 in c:\\users\\admin\\anaconda3\\lib\\site-packages (from tensorboard~=2.6->tensorflow->keras-tcn) (2.3.3)\n",
      "Requirement already satisfied: setuptools>=41.0.0 in c:\\users\\admin\\anaconda3\\lib\\site-packages (from tensorboard~=2.6->tensorflow->keras-tcn) (52.0.0.post20210125)\n",
      "Requirement already satisfied: cachetools<5.0,>=2.0.0 in c:\\users\\admin\\anaconda3\\lib\\site-packages (from google-auth<3,>=1.6.3->tensorboard~=2.6->tensorflow->keras-tcn) (4.2.4)\n",
      "Requirement already satisfied: pyasn1-modules>=0.2.1 in c:\\users\\admin\\anaconda3\\lib\\site-packages (from google-auth<3,>=1.6.3->tensorboard~=2.6->tensorflow->keras-tcn) (0.2.8)\n",
      "Requirement already satisfied: rsa<5,>=3.1.4 in c:\\users\\admin\\anaconda3\\lib\\site-packages (from google-auth<3,>=1.6.3->tensorboard~=2.6->tensorflow->keras-tcn) (4.8)\n",
      "Requirement already satisfied: requests-oauthlib>=0.7.0 in c:\\users\\admin\\anaconda3\\lib\\site-packages (from google-auth-oauthlib<0.5,>=0.4.1->tensorboard~=2.6->tensorflow->keras-tcn) (1.3.0)\n",
      "Requirement already satisfied: importlib-metadata>=4.4 in c:\\users\\admin\\anaconda3\\lib\\site-packages (from markdown>=2.6.8->tensorboard~=2.6->tensorflow->keras-tcn) (4.10.0)\n",
      "Requirement already satisfied: zipp>=0.5 in c:\\users\\admin\\anaconda3\\lib\\site-packages (from importlib-metadata>=4.4->markdown>=2.6.8->tensorboard~=2.6->tensorflow->keras-tcn) (3.4.1)\n",
      "Requirement already satisfied: pyasn1<0.5.0,>=0.4.6 in c:\\users\\admin\\anaconda3\\lib\\site-packages (from pyasn1-modules>=0.2.1->google-auth<3,>=1.6.3->tensorboard~=2.6->tensorflow->keras-tcn) (0.4.8)\n",
      "Requirement already satisfied: idna<3,>=2.5 in c:\\users\\admin\\anaconda3\\lib\\site-packages (from requests<3,>=2.21.0->tensorboard~=2.6->tensorflow->keras-tcn) (2.10)\n",
      "Requirement already satisfied: urllib3<1.27,>=1.21.1 in c:\\users\\admin\\anaconda3\\lib\\site-packages (from requests<3,>=2.21.0->tensorboard~=2.6->tensorflow->keras-tcn) (1.26.4)\n",
      "Requirement already satisfied: certifi>=2017.4.17 in c:\\users\\admin\\anaconda3\\lib\\site-packages (from requests<3,>=2.21.0->tensorboard~=2.6->tensorflow->keras-tcn) (2020.12.5)\n",
      "Requirement already satisfied: chardet<5,>=3.0.2 in c:\\users\\admin\\anaconda3\\lib\\site-packages (from requests<3,>=2.21.0->tensorboard~=2.6->tensorflow->keras-tcn) (4.0.0)\n",
      "Requirement already satisfied: oauthlib>=3.0.0 in c:\\users\\admin\\anaconda3\\lib\\site-packages (from requests-oauthlib>=0.7.0->google-auth-oauthlib<0.5,>=0.4.1->tensorboard~=2.6->tensorflow->keras-tcn) (3.1.1)\n",
      "Requirement already satisfied: typeguard>=2.7 in c:\\users\\admin\\anaconda3\\lib\\site-packages (from tensorflow-addons->keras-tcn) (2.13.3)\n"
     ]
    }
   ],
   "source": [
    "!pip install keras-tcn"
   ]
  },
  {
   "cell_type": "code",
   "execution_count": 32,
   "id": "84afe8e0",
   "metadata": {},
   "outputs": [],
   "source": [
    "import numpy as np\n",
    "from tensorflow.keras import Model, Input\n",
    "from tensorflow.keras.layers import Dense, Dropout, Embedding\n",
    "from tensorflow.keras.preprocessing import sequence\n",
    "from tcn import compiled_tcn"
   ]
  },
  {
   "cell_type": "code",
   "execution_count": 33,
   "id": "1f23f8fb",
   "metadata": {},
   "outputs": [
    {
     "name": "stdout",
     "output_type": "stream",
     "text": [
      "x.shape= (None, 64)\n",
      "model.x = (None, 15, 1)\n",
      "model.y = (None, 2)\n"
     ]
    },
    {
     "name": "stderr",
     "output_type": "stream",
     "text": [
      "C:\\Users\\admin\\anaconda3\\lib\\site-packages\\keras\\optimizer_v2\\adam.py:105: UserWarning: The `lr` argument is deprecated, use `learning_rate` instead.\n",
      "  super(Adam, self).__init__(name, **kwargs)\n"
     ]
    }
   ],
   "source": [
    "model_TCN = compiled_tcn(return_sequences = False,num_feat = 1, num_classes = 2, nb_filters = 64,kernel_size=6,\n",
    "                    dilations=[1,2,4,8,16,32,64],nb_stacks=1, opt='adam',lr=0.002,activation = 'relu',kernel_initializer = \n",
    "                    'he_normal',use_batch_norm=True,use_layer_norm = False,use_weight_norm = False,\n",
    "                     max_len=select_X_train_TCN[0:1].shape[1],use_skip_connections=True) "
   ]
  },
  {
   "cell_type": "code",
   "execution_count": 34,
   "id": "bd623a5e",
   "metadata": {},
   "outputs": [
    {
     "name": "stdout",
     "output_type": "stream",
     "text": [
      "15\n"
     ]
    }
   ],
   "source": [
    "print(select_X_train_TCN[0:1].shape[1])"
   ]
  },
  {
   "cell_type": "code",
   "execution_count": 35,
   "id": "bc0dc8e6",
   "metadata": {},
   "outputs": [
    {
     "name": "stdout",
     "output_type": "stream",
     "text": [
      "x_train.shape = (238682, 15, 1)\n",
      "y_train.shape = (238682, 2, 1)\n",
      "x_test.shape = (82332, 15, 1)\n",
      "y_test.shape = (82332, 2, 1)\n"
     ]
    }
   ],
   "source": [
    "print(f'x_train.shape = {select_X_train_TCN.shape}')\n",
    "print(f'y_train.shape = {y1_TCN.shape}')\n",
    "print(f'x_test.shape = {select_X_test_TCN.shape}')\n",
    "print(f'y_test.shape = {y2_TCN.shape}')"
   ]
  },
  {
   "cell_type": "code",
   "execution_count": 36,
   "id": "89ebacf4",
   "metadata": {},
   "outputs": [
    {
     "name": "stdout",
     "output_type": "stream",
     "text": [
      "Model: \"model\"\n",
      "_________________________________________________________________\n",
      " Layer (type)                Output Shape              Param #   \n",
      "=================================================================\n",
      " input_1 (InputLayer)        [(None, 15, 1)]           0         \n",
      "                                                                 \n",
      " tcn (TCN)                   (None, 64)                324480    \n",
      "                                                                 \n",
      " dense (Dense)               (None, 2)                 130       \n",
      "                                                                 \n",
      " activation (Activation)     (None, 2)                 0         \n",
      "                                                                 \n",
      "=================================================================\n",
      "Total params: 324,610\n",
      "Trainable params: 322,818\n",
      "Non-trainable params: 1,792\n",
      "_________________________________________________________________\n"
     ]
    }
   ],
   "source": [
    "model_TCN.summary()"
   ]
  },
  {
   "cell_type": "code",
   "execution_count": 37,
   "id": "4bf481bf",
   "metadata": {},
   "outputs": [],
   "source": [
    "y1_TCN = y1_TCN.squeeze().argmax(axis=1)\n",
    "y2_TCN = y2_TCN.squeeze().argmax(axis=1)"
   ]
  },
  {
   "cell_type": "code",
   "execution_count": 38,
   "id": "384c72be",
   "metadata": {},
   "outputs": [
    {
     "name": "stdout",
     "output_type": "stream",
     "text": [
      "Epoch 1/10\n",
      "7459/7459 [==============================] - 809s 107ms/step - loss: 0.1522 - accuracy: 0.9256 - val_loss: 0.2673 - val_accuracy: 0.8701\n",
      "Epoch 2/10\n",
      "7459/7459 [==============================] - 796s 107ms/step - loss: 0.1331 - accuracy: 0.9316 - val_loss: 0.2228 - val_accuracy: 0.8854\n",
      "Epoch 3/10\n",
      "7459/7459 [==============================] - 795s 107ms/step - loss: 0.1293 - accuracy: 0.9331 - val_loss: 0.2296 - val_accuracy: 0.8872\n",
      "Epoch 4/10\n",
      "7459/7459 [==============================] - 795s 107ms/step - loss: 0.1274 - accuracy: 0.9337 - val_loss: 0.2368 - val_accuracy: 0.8851\n",
      "Epoch 5/10\n",
      "7459/7459 [==============================] - 797s 107ms/step - loss: 0.1260 - accuracy: 0.9343 - val_loss: 0.2161 - val_accuracy: 0.8957\n",
      "Epoch 6/10\n",
      "7459/7459 [==============================] - 795s 107ms/step - loss: 0.1251 - accuracy: 0.9350 - val_loss: 0.2255 - val_accuracy: 0.8943\n",
      "Epoch 7/10\n",
      "7459/7459 [==============================] - 794s 107ms/step - loss: 0.1249 - accuracy: 0.9347 - val_loss: 0.2193 - val_accuracy: 0.8889\n",
      "Epoch 8/10\n",
      "7459/7459 [==============================] - 795s 107ms/step - loss: 0.1245 - accuracy: 0.9346 - val_loss: 0.2356 - val_accuracy: 0.8896\n",
      "Epoch 9/10\n",
      "7459/7459 [==============================] - 796s 107ms/step - loss: 0.1239 - accuracy: 0.9349 - val_loss: 0.2113 - val_accuracy: 0.8961\n",
      "Epoch 10/10\n",
      "7459/7459 [==============================] - 795s 107ms/step - loss: 0.1239 - accuracy: 0.9348 - val_loss: 0.2239 - val_accuracy: 0.8975\n"
     ]
    }
   ],
   "source": [
    "history = model_TCN.fit(select_X_train_TCN, y1_TCN, epochs = 10, validation_data = [select_X_test_TCN, y2_TCN], \n",
    "                    workers=4, use_multiprocessing=True)"
   ]
  },
  {
   "cell_type": "code",
   "execution_count": 39,
   "id": "f15fec69",
   "metadata": {},
   "outputs": [
    {
     "name": "stdout",
     "output_type": "stream",
     "text": [
      "2573/2573 [==============================] - 75s 29ms/step - loss: 0.2239 - accuracy: 0.8975\n",
      "Accuracy : 89.75 %\n",
      "Loss : 22.39 %\n"
     ]
    }
   ],
   "source": [
    "result = model_TCN.evaluate(select_X_test_TCN, y2_TCN)\n",
    "print(f\"Accuracy : {result[1] * 100:.2f} %\")\n",
    "print(f\"Loss : {result[0] * 100:.2f} %\")"
   ]
  },
  {
   "cell_type": "code",
   "execution_count": 42,
   "id": "267aaf14",
   "metadata": {},
   "outputs": [
    {
     "name": "stdout",
     "output_type": "stream",
     "text": [
      "[1 1 1 ... 0 0 1]\n",
      "[1 1 1 ... 0 0 1]\n"
     ]
    }
   ],
   "source": [
    "y_pred_TCN = model_TCN.predict(select_X_test_TCN, verbose=0)\n",
    "print(np.argmax(y_pred_TCN, axis=1))\n",
    "y_pred_class_TCN=np.argmax(y_pred_TCN,axis=1)\n",
    "print(y_pred_class_TCN)"
   ]
  },
  {
   "cell_type": "code",
   "execution_count": 43,
   "id": "6fcc77fb",
   "metadata": {},
   "outputs": [
    {
     "name": "stdout",
     "output_type": "stream",
     "text": [
      "ROC AUC: 0.888620\n"
     ]
    }
   ],
   "source": [
    "from sklearn.metrics import roc_auc_score\n",
    "auc = roc_auc_score(y2_TCN, y_pred_class_TCN)\n",
    "print('ROC AUC: %f' % auc)"
   ]
  },
  {
   "cell_type": "code",
   "execution_count": 44,
   "id": "0e832499",
   "metadata": {},
   "outputs": [
    {
     "data": {
      "image/png": "[encoded data removed]",
      "text/plain": [
       "<Figure size 432x288 with 1 Axes>"
      ]
     },
     "metadata": {
      "needs_background": "light"
     },
     "output_type": "display_data"
    }
   ],
   "source": [
    "fpr, tpr, _ = metrics.roc_curve(y2,  y_pred_class_TCN)\n",
    "#create ROC curve\n",
    "plt.plot(fpr,tpr)\n",
    "plt.ylabel('True Positive Rate')\n",
    "plt.xlabel('False Positive Rate')\n",
    "plt.show()"
   ]
  },
  {
   "cell_type": "code",
   "execution_count": 45,
   "id": "ac3e47d2",
   "metadata": {},
   "outputs": [
    {
     "name": "stdout",
     "output_type": "stream",
     "text": [
      "Accuracy in TCN classifier model =  89.74760724870038\n",
      "Confusion Matrix = [[29641  1082]\n",
      " [ 7359 44250]]\n",
      "Recall = 0.8974760724870038\n",
      "Precision = 0.91081988507869\n",
      "Classification Report =\n",
      "               precision    recall  f1-score   support\n",
      "\n",
      "           0       0.80      0.96      0.88     30723\n",
      "           1       0.98      0.86      0.91     51609\n",
      "\n",
      "    accuracy                           0.90     82332\n",
      "   macro avg       0.89      0.91      0.89     82332\n",
      "weighted avg       0.91      0.90      0.90     82332\n",
      "\n",
      "F1 Score =  0.8941431705987604\n"
     ]
    }
   ],
   "source": [
    "from sklearn import metrics\n",
    "from sklearn.metrics import f1_score\n",
    "print('Accuracy in TCN classifier model = ', metrics.accuracy_score(y_pred_class_TCN, y2_TCN)*100)\n",
    "print(\"Confusion Matrix =\", metrics.confusion_matrix(y_pred_class_TCN, y2_TCN, labels=None, \n",
    "                                              sample_weight=None))\n",
    "print(\"Recall =\", metrics.recall_score(y_pred_class_TCN, y2_TCN, labels=None, \n",
    "                                             pos_label=1, average='weighted', \n",
    "                                             sample_weight=None))\n",
    "print(\"Precision =\", metrics.precision_score(y_pred_class_TCN, y2_TCN, labels=None, \n",
    "                                             pos_label=1, average='weighted', \n",
    "                                             sample_weight=None))\n",
    "print(\"Classification Report =\\n\", metrics.classification_report(y_pred_class_TCN, y2_TCN, \n",
    "                                                                 labels=None, \n",
    "                                                                 target_names=None, \n",
    "                                                                 sample_weight=None, \n",
    "                                                                 digits=2, \n",
    "                                                                 output_dict=False))\n",
    "print(\"F1 Score = \",f1_score(y_pred_class_TCN, y2_TCN, average='macro'))"
   ]
  },
  {
   "cell_type": "code",
   "execution_count": 46,
   "id": "3e4734ab",
   "metadata": {},
   "outputs": [
    {
     "data": {
      "text/plain": [
       "<AxesSubplot:>"
      ]
     },
     "execution_count": 46,
     "metadata": {},
     "output_type": "execute_result"
    },
    {
     "data": {
      "image/png": "[encoded data removed]",
      "text/plain": [
       "<Figure size 432x288 with 2 Axes>"
      ]
     },
     "metadata": {
      "needs_background": "light"
     },
     "output_type": "display_data"
    }
   ],
   "source": [
    "cm_TCN = metrics.confusion_matrix(y_pred_class_TCN, y2, labels=None, \n",
    "                                              sample_weight=None)\n",
    "import seaborn as sns\n",
    "sns.heatmap(cm_TCN, annot=True)"
   ]
  },
  {
   "cell_type": "code",
   "execution_count": 47,
   "id": "e6739b49",
   "metadata": {},
   "outputs": [
    {
     "data": {
      "text/plain": [
       "<AxesSubplot:>"
      ]
     },
     "execution_count": 47,
     "metadata": {},
     "output_type": "execute_result"
    },
    {
     "data": {
      "image/png": "[encoded data removed]",
      "text/plain": [
       "<Figure size 432x288 with 2 Axes>"
      ]
     },
     "metadata": {
      "needs_background": "light"
     },
     "output_type": "display_data"
    }
   ],
   "source": [
    "sns.heatmap(cm_TCN/np.sum(cm_TCN), annot=True, \n",
    "            fmt='.2%', cmap='Blues')"
   ]
  },
  {
   "cell_type": "code",
   "execution_count": 48,
   "id": "5027d870",
   "metadata": {},
   "outputs": [
    {
     "name": "stdout",
     "output_type": "stream",
     "text": [
      "X train shape:  (238682, 15)\n",
      "X test shape:  (82332, 15)\n",
      "Y train shape:  (238682,)\n",
      "Y test shape:  (82332,)\n"
     ]
    }
   ],
   "source": [
    "# 6. TabNet CLASSIFIER MODEL\n",
    "\n",
    "print(\"X train shape: \", select_X_train.shape)\n",
    "print(\"X test shape: \", select_X_test.shape)\n",
    "print(\"Y train shape: \", y1.shape)\n",
    "print(\"Y test shape: \", y2.shape)"
   ]
  },
  {
   "cell_type": "code",
   "execution_count": 49,
   "id": "9f0bfeb5",
   "metadata": {},
   "outputs": [
    {
     "name": "stdout",
     "output_type": "stream",
     "text": [
      "Requirement already satisfied: pytorch-tabnet in c:\\users\\admin\\anaconda3\\lib\\site-packages (3.1.1)\n",
      "Requirement already satisfied: numpy<2.0,>=1.17 in c:\\users\\admin\\anaconda3\\lib\\site-packages (from pytorch-tabnet) (1.20.1)\n",
      "Requirement already satisfied: scipy>1.4 in c:\\users\\admin\\anaconda3\\lib\\site-packages (from pytorch-tabnet) (1.6.2)\n",
      "Requirement already satisfied: tqdm<5.0,>=4.36 in c:\\users\\admin\\anaconda3\\lib\\site-packages (from pytorch-tabnet) (4.59.0)\n",
      "Requirement already satisfied: torch<2.0,>=1.2 in c:\\users\\admin\\anaconda3\\lib\\site-packages (from pytorch-tabnet) (1.11.0)\n",
      "Requirement already satisfied: scikit_learn>0.21 in c:\\users\\admin\\anaconda3\\lib\\site-packages (from pytorch-tabnet) (0.24.1)\n",
      "Requirement already satisfied: threadpoolctl>=2.0.0 in c:\\users\\admin\\anaconda3\\lib\\site-packages (from scikit_learn>0.21->pytorch-tabnet) (2.1.0)\n",
      "Requirement already satisfied: joblib>=0.11 in c:\\users\\admin\\anaconda3\\lib\\site-packages (from scikit_learn>0.21->pytorch-tabnet) (1.0.1)\n",
      "Requirement already satisfied: typing-extensions in c:\\users\\admin\\anaconda3\\lib\\site-packages (from torch<2.0,>=1.2->pytorch-tabnet) (3.7.4.3)\n"
     ]
    }
   ],
   "source": [
    "!pip install pytorch-tabnet\n",
    "from pytorch_tabnet.tab_model import TabNetClassifier\n",
    "import torch"
   ]
  },
  {
   "cell_type": "code",
   "execution_count": 50,
   "id": "8d5ffc28",
   "metadata": {},
   "outputs": [
    {
     "name": "stdout",
     "output_type": "stream",
     "text": [
      "Device used : cpu\n"
     ]
    }
   ],
   "source": [
    "# define the model\n",
    "model_TabNet = TabNetClassifier(optimizer_fn=torch.optim.Adam,\n",
    "                       optimizer_params=dict(lr=5e-2),\n",
    "                       scheduler_params={\"step_size\":10,\"gamma\":0.9},\n",
    "                       scheduler_fn=torch.optim.lr_scheduler.StepLR,\n",
    "                       mask_type='entmax')"
   ]
  },
  {
   "cell_type": "code",
   "execution_count": 51,
   "id": "8fa7252c",
   "metadata": {},
   "outputs": [
    {
     "name": "stdout",
     "output_type": "stream",
     "text": [
      "epoch 0  | loss: 0.16112 | train_auc: 0.98547 | train_accuracy: 0.9176  | valid_auc: 0.96793 | valid_accuracy: 0.89575 |  0:00:54s\n",
      "epoch 1  | loss: 0.14283 | train_auc: 0.98674 | train_accuracy: 0.92131 | valid_auc: 0.97134 | valid_accuracy: 0.83033 |  0:01:47s\n",
      "epoch 2  | loss: 0.14063 | train_auc: 0.98774 | train_accuracy: 0.93069 | valid_auc: 0.97424 | valid_accuracy: 0.8691  |  0:02:41s\n",
      "epoch 3  | loss: 0.13433 | train_auc: 0.98857 | train_accuracy: 0.93215 | valid_auc: 0.97644 | valid_accuracy: 0.89757 |  0:03:35s\n",
      "epoch 4  | loss: 0.13347 | train_auc: 0.98838 | train_accuracy: 0.93176 | valid_auc: 0.97844 | valid_accuracy: 0.90657 |  0:04:29s\n",
      "epoch 5  | loss: 0.13568 | train_auc: 0.98778 | train_accuracy: 0.92651 | valid_auc: 0.97489 | valid_accuracy: 0.91457 |  0:05:23s\n",
      "epoch 6  | loss: 0.13143 | train_auc: 0.98842 | train_accuracy: 0.93312 | valid_auc: 0.98003 | valid_accuracy: 0.898   |  0:06:17s\n",
      "epoch 7  | loss: 0.13237 | train_auc: 0.98865 | train_accuracy: 0.92434 | valid_auc: 0.97941 | valid_accuracy: 0.9229  |  0:07:11s\n",
      "epoch 8  | loss: 0.1294  | train_auc: 0.98842 | train_accuracy: 0.92844 | valid_auc: 0.97721 | valid_accuracy: 0.84631 |  0:08:05s\n",
      "epoch 9  | loss: 0.12953 | train_auc: 0.98213 | train_accuracy: 0.90687 | valid_auc: 0.96063 | valid_accuracy: 0.86666 |  0:08:58s\n",
      "epoch 10 | loss: 0.12649 | train_auc: 0.98866 | train_accuracy: 0.93444 | valid_auc: 0.97916 | valid_accuracy: 0.89514 |  0:09:51s\n",
      "epoch 11 | loss: 0.12814 | train_auc: 0.98847 | train_accuracy: 0.92852 | valid_auc: 0.9781  | valid_accuracy: 0.9202  |  0:10:45s\n",
      "epoch 12 | loss: 0.12351 | train_auc: 0.98954 | train_accuracy: 0.93204 | valid_auc: 0.98141 | valid_accuracy: 0.93012 |  0:11:40s\n",
      "epoch 13 | loss: 0.12702 | train_auc: 0.98921 | train_accuracy: 0.92784 | valid_auc: 0.98169 | valid_accuracy: 0.93025 |  0:12:33s\n",
      "epoch 14 | loss: 0.12546 | train_auc: 0.98839 | train_accuracy: 0.93109 | valid_auc: 0.97651 | valid_accuracy: 0.91897 |  0:13:27s\n",
      "epoch 15 | loss: 0.12477 | train_auc: 0.98917 | train_accuracy: 0.93586 | valid_auc: 0.98038 | valid_accuracy: 0.89416 |  0:14:21s\n",
      "epoch 16 | loss: 0.12513 | train_auc: 0.98882 | train_accuracy: 0.93407 | valid_auc: 0.97757 | valid_accuracy: 0.87412 |  0:15:15s\n",
      "epoch 17 | loss: 0.12392 | train_auc: 0.98978 | train_accuracy: 0.93606 | valid_auc: 0.97971 | valid_accuracy: 0.87932 |  0:16:09s\n",
      "epoch 18 | loss: 0.12368 | train_auc: 0.98961 | train_accuracy: 0.92009 | valid_auc: 0.97917 | valid_accuracy: 0.81502 |  0:17:03s\n",
      "epoch 19 | loss: 0.12431 | train_auc: 0.98972 | train_accuracy: 0.92304 | valid_auc: 0.98032 | valid_accuracy: 0.81703 |  0:17:57s\n",
      "Stop training because you reached max_epochs = 20 with best_epoch = 13 and best_valid_accuracy = 0.93025\n",
      "Best weights from best epoch are automatically used!\n"
     ]
    }
   ],
   "source": [
    "# fit the model \n",
    "model_TabNet.fit(select_X_train,y1, eval_set=[(select_X_train, y1), (select_X_test, y2)],eval_name=['train', 'valid'],\n",
    "                   eval_metric=['auc','accuracy'],max_epochs=20 , patience=50, batch_size=256, virtual_batch_size=128, \n",
    "                   num_workers=0, weights=1,drop_last=False)    "
   ]
  },
  {
   "cell_type": "code",
   "execution_count": 153,
   "id": "aa3a0c8f",
   "metadata": {},
   "outputs": [
    {
     "data": {
      "text/plain": [
       "Text(0, 0.5, 'Feature index')"
      ]
     },
     "execution_count": 153,
     "metadata": {},
     "output_type": "execute_result"
    },
    {
     "data": {
      "image/png": "[encoded data removed]",
      "text/plain": [
       "<Figure size 576x576 with 1 Axes>"
      ]
     },
     "metadata": {
      "needs_background": "light"
     },
     "output_type": "display_data"
    }
   ],
   "source": [
    "# find and plot feature importance \n",
    "from IPython.core.pylabtools import figsize\n",
    "figsize(8, 8)\n",
    "model_TabNet.feature_importances_\n",
    "feat_importances = pd.Series(model_TabNet.feature_importances_)\n",
    "feat_importances.nlargest(10).plot(kind='barh')\n",
    "plt.title(\"Feature importance graph after XGBoost feature extraction (UNSW NB15 Dataset) - TabNet\")\n",
    "plt.xlabel(\"Feature score\")\n",
    "plt.ylabel(\"Feature index\")"
   ]
  },
  {
   "cell_type": "code",
   "execution_count": 55,
   "id": "62614d83",
   "metadata": {},
   "outputs": [
    {
     "name": "stdout",
     "output_type": "stream",
     "text": [
      "[1 0 0 ... 0 0 1]\n"
     ]
    }
   ],
   "source": [
    "y_pred_TabNet = model_TabNet.predict(select_X_test)\n",
    "print(y_pred_TabNet)"
   ]
  },
  {
   "cell_type": "code",
   "execution_count": 56,
   "id": "c7ccb43a",
   "metadata": {},
   "outputs": [
    {
     "name": "stdout",
     "output_type": "stream",
     "text": [
      "ROC AUC: 0.927993\n"
     ]
    }
   ],
   "source": [
    "# ROC AUC\n",
    "from sklearn.metrics import roc_auc_score\n",
    "auc = roc_auc_score(y2, y_pred_TabNet)\n",
    "print('ROC AUC: %f' % auc)"
   ]
  },
  {
   "cell_type": "code",
   "execution_count": 57,
   "id": "b8d4d2b7",
   "metadata": {},
   "outputs": [
    {
     "data": {
      "image/png": "[encoded data removed]",
      "text/plain": [
       "<Figure size 432x288 with 1 Axes>"
      ]
     },
     "metadata": {
      "needs_background": "light"
     },
     "output_type": "display_data"
    }
   ],
   "source": [
    "fpr, tpr, _ = metrics.roc_curve(y2,  y_pred_TabNet)\n",
    "#create ROC curve\n",
    "plt.plot(fpr,tpr)\n",
    "plt.ylabel('True Positive Rate')\n",
    "plt.xlabel('False Positive Rate')\n",
    "plt.show()"
   ]
  },
  {
   "cell_type": "code",
   "execution_count": 58,
   "id": "ca6b60c6",
   "metadata": {},
   "outputs": [
    {
     "name": "stdout",
     "output_type": "stream",
     "text": [
      "Accuracy in TabNet classifier model: 93.02458339406307\n",
      "Confusion Matrix = [[33512  2255]\n",
      " [ 3488 43077]]\n",
      "Recall = 0.9302458339406307\n",
      "Precision = 0.9309126555344724\n",
      "Classification Report =\n",
      "               precision    recall  f1-score   support\n",
      "\n",
      "           0       0.91      0.94      0.92     35767\n",
      "           1       0.95      0.93      0.94     46565\n",
      "\n",
      "    accuracy                           0.93     82332\n",
      "   macro avg       0.93      0.93      0.93     82332\n",
      "weighted avg       0.93      0.93      0.93     82332\n",
      "\n",
      "F1 Score =  0.929291491373768\n"
     ]
    }
   ],
   "source": [
    "from sklearn.metrics import accuracy_score\n",
    "from sklearn import metrics\n",
    "from sklearn.metrics import f1_score\n",
    "test_acc = accuracy_score(y_pred_TabNet, y2)\n",
    "print(\"Accuracy in TabNet classifier model:\",test_acc*100)\n",
    "print(\"Confusion Matrix =\", metrics.confusion_matrix(y_pred_TabNet, y2, labels=None, \n",
    "                                              sample_weight=None))\n",
    "print(\"Recall =\", metrics.recall_score(y_pred_TabNet, y2, labels=None, \n",
    "                                             pos_label=1, average='weighted', \n",
    "                                             sample_weight=None))\n",
    "print(\"Precision =\", metrics.precision_score(y_pred_TabNet, y2, labels=None, \n",
    "                                             pos_label=1, average='weighted', \n",
    "                                             sample_weight=None))\n",
    "print(\"Classification Report =\\n\", metrics.classification_report(y_pred_TabNet, y2, \n",
    "                                                                 labels=None, \n",
    "                                                                 target_names=None, \n",
    "                                                                 sample_weight=None, \n",
    "                                                                 digits=2, \n",
    "                                                                 output_dict=False))\n",
    "print(\"F1 Score = \",f1_score(y_pred_TabNet, y2, average='macro'))"
   ]
  },
  {
   "cell_type": "code",
   "execution_count": 59,
   "id": "651ae650",
   "metadata": {},
   "outputs": [
    {
     "data": {
      "text/plain": [
       "<AxesSubplot:>"
      ]
     },
     "execution_count": 59,
     "metadata": {},
     "output_type": "execute_result"
    },
    {
     "data": {
      "image/png": "[encoded data removed]",
      "text/plain": [
       "<Figure size 432x288 with 2 Axes>"
      ]
     },
     "metadata": {
      "needs_background": "light"
     },
     "output_type": "display_data"
    }
   ],
   "source": [
    "cm_TabNet = metrics.confusion_matrix(y_pred_TabNet, y2, labels=None, \n",
    "                                              sample_weight=None)\n",
    "import seaborn as sns\n",
    "sns.heatmap(cm_TabNet, annot=True)"
   ]
  },
  {
   "cell_type": "code",
   "execution_count": 60,
   "id": "bc23c688",
   "metadata": {},
   "outputs": [
    {
     "data": {
      "text/plain": [
       "<AxesSubplot:>"
      ]
     },
     "execution_count": 60,
     "metadata": {},
     "output_type": "execute_result"
    },
    {
     "data": {
      "image/png": "[encoded data removed]",
      "text/plain": [
       "<Figure size 432x288 with 2 Axes>"
      ]
     },
     "metadata": {
      "needs_background": "light"
     },
     "output_type": "display_data"
    }
   ],
   "source": [
    "sns.heatmap(cm_TabNet/np.sum(cm_TabNet), annot=True, \n",
    "            fmt='.2%', cmap='Blues')"
   ]
  },
  {
   "cell_type": "code",
   "execution_count": 91,
   "id": "8992a632",
   "metadata": {},
   "outputs": [
    {
     "name": "stdout",
     "output_type": "stream",
     "text": [
      "Thresh=0.016, Number of selected features=15\n",
      "Accuracy result of all models:\n",
      "Accuracy in XGBoost classifier model =  90.52737696157023\n",
      "Accuracy in DNN classifier model =  78.75066802701258\n",
      "Accuracy in CNN classifier model =  80.93936743914881\n",
      "Accuracy in TCN classifier model =  89.74760724870038\n",
      "Accuracy in TabNet classifier model: 93.02458339406307\n"
     ]
    }
   ],
   "source": [
    "print(\"Thresh=%.3f, Number of selected features=%d\" % (obj_thresh, select_X_train.shape[1]))\n",
    "print('Accuracy result of all models:')\n",
    "print('Accuracy in XGBoost classifier model = ', metrics.accuracy_score(y2, predictions)*100)\n",
    "print('Accuracy in DNN classifier model = ', metrics.accuracy_score(y_pred_class_DNN, y2)*100)\n",
    "print('Accuracy in CNN classifier model = ', metrics.accuracy_score(y_pred_class_CNN, y2)*100)\n",
    "print('Accuracy in TCN classifier model = ', metrics.accuracy_score(y_pred_class_TCN, y2_TCN)*100)\n",
    "print(\"Accuracy in TabNet classifier model:\",test_acc*100)"
   ]
  },
  {
   "cell_type": "code",
   "execution_count": 172,
   "id": "d0e49640",
   "metadata": {},
   "outputs": [
    {
     "data": {
      "image/png": "[encoded data removed]",
      "text/plain": [
       "<Figure size 432x432 with 1 Axes>"
      ]
     },
     "metadata": {
      "needs_background": "light"
     },
     "output_type": "display_data"
    }
   ],
   "source": [
    "data = {'XGBoost':90.5, 'DNN':78.7, 'CNN':80.9,\n",
    "        'TCN':89.7, 'TabNet':93.02}\n",
    "Classifier_model = list(data.keys())\n",
    "Classifier_accuracy = list(data.values())\n",
    "  \n",
    "fig = plt.figure(figsize = (6, 6))\n",
    " \n",
    "# creating the bar plot\n",
    "plt.bar(Classifier_model, Classifier_accuracy, color ='blue',\n",
    "        width = 0.3)\n",
    "plt.ylim(0, 100)\n",
    "plt.xlabel(\"Classifier\")\n",
    "plt.ylabel(\"Accuracy (%)\")\n",
    "plt.title(\"Comparative analysis after XGBoost feature extraction (UNSW NB15 Dataset) \")\n",
    "plt.show()"
   ]
  },
  {
   "cell_type": "code",
   "execution_count": 157,
   "id": "b714d4da",
   "metadata": {},
   "outputs": [
    {
     "data": {
      "text/plain": [
       "<matplotlib.legend.Legend at 0x20e9e4de190>"
      ]
     },
     "execution_count": 157,
     "metadata": {},
     "output_type": "execute_result"
    },
    {
     "data": {
      "image/png": "[encoded data removed]",
      "text/plain": [
       "<Figure size 432x432 with 1 Axes>"
      ]
     },
     "metadata": {
      "needs_background": "light"
     },
     "output_type": "display_data"
    }
   ],
   "source": [
    "from IPython.core.pylabtools import figsize\n",
    "figsize(6, 6)\n",
    "#set up plotting area\n",
    "plt.figure(0).clf()\n",
    "\n",
    "fpr, tpr, _ = metrics.roc_curve(y2,  predictions)\n",
    "auc = roc_auc_score(y2, predictions)\n",
    "plt.plot(fpr,tpr,label=\"XGBoost, AUC=\"+str(auc))\n",
    "\n",
    "fpr, tpr, _ = metrics.roc_curve(y2,  y_pred_class_DNN)\n",
    "auc = roc_auc_score(y2, y_pred_class_DNN)\n",
    "plt.plot(fpr,tpr,label=\"DNN, AUC=\"+str(auc))\n",
    "\n",
    "fpr, tpr, _ = metrics.roc_curve(y2,  y_pred_class_CNN)\n",
    "auc = roc_auc_score(y2, y_pred_class_CNN)\n",
    "plt.plot(fpr,tpr,label=\"CNN, AUC=\"+str(auc))\n",
    "\n",
    "fpr, tpr, _ = metrics.roc_curve(y2,  y_pred_class_TCN)\n",
    "auc = roc_auc_score(y2, y_pred_class_TCN)\n",
    "plt.plot(fpr,tpr,label=\"TCN, AUC=\"+str(auc))\n",
    "\n",
    "#add legend\n",
    "plt.title(\"ROC curve (UNSW NB15 Dataset)\")\n",
    "plt.legend()"
   ]
  },
  {
   "cell_type": "code",
   "execution_count": 159,
   "id": "659575fd",
   "metadata": {},
   "outputs": [
    {
     "data": {
      "text/plain": [
       "<matplotlib.legend.Legend at 0x20e9e796be0>"
      ]
     },
     "execution_count": 159,
     "metadata": {},
     "output_type": "execute_result"
    },
    {
     "data": {
      "image/png": "[encoded data removed]",
      "text/plain": [
       "<Figure size 432x432 with 1 Axes>"
      ]
     },
     "metadata": {
      "needs_background": "light"
     },
     "output_type": "display_data"
    }
   ],
   "source": [
    "from IPython.core.pylabtools import figsize\n",
    "figsize(6, 6)\n",
    "fpr, tpr, _ = metrics.roc_curve(y2,  y_pred_TabNet)\n",
    "auc = roc_auc_score(y2, y_pred_TabNet)\n",
    "plt.plot(fpr,tpr,label=\"TabNet, AUC=\"+str(auc))\n",
    "#add legend\n",
    "plt.title(\"ROC curve of proposed model (UNSW NB15 Dataset)\")\n",
    "plt.legend()"
   ]
  },
  {
   "cell_type": "code",
   "execution_count": 175,
   "id": "3060c5a6",
   "metadata": {},
   "outputs": [
    {
     "data": {
      "text/plain": [
       "<matplotlib.legend.Legend at 0x20e9f928790>"
      ]
     },
     "execution_count": 175,
     "metadata": {},
     "output_type": "execute_result"
    },
    {
     "data": {
      "image/png": "[encoded data removed]",
      "text/plain": [
       "<Figure size 432x360 with 1 Axes>"
      ]
     },
     "metadata": {
      "needs_background": "light"
     },
     "output_type": "display_data"
    }
   ],
   "source": [
    "from IPython.core.pylabtools import figsize\n",
    "figsize(6, 5)\n",
    "#set up plotting area\n",
    "plt.figure(0).clf()\n",
    "\n",
    "fpr, tpr, _ = metrics.roc_curve(y2,  predictions)\n",
    "auc = roc_auc_score(y2, predictions)\n",
    "plt.plot(fpr,tpr,label=\"XGBoost, AUC=\"+str(auc))\n",
    "\n",
    "fpr, tpr, _ = metrics.roc_curve(y2,  y_pred_class_DNN)\n",
    "auc = roc_auc_score(y2, y_pred_class_DNN)\n",
    "plt.plot(fpr,tpr,label=\"DNN, AUC=\"+str(auc))\n",
    "\n",
    "fpr, tpr, _ = metrics.roc_curve(y2,  y_pred_class_CNN)\n",
    "auc = roc_auc_score(y2, y_pred_class_CNN)\n",
    "plt.plot(fpr,tpr,label=\"CNN, AUC=\"+str(auc))\n",
    "\n",
    "fpr, tpr, _ = metrics.roc_curve(y2,  y_pred_class_TCN)\n",
    "auc = roc_auc_score(y2, y_pred_class_TCN)\n",
    "plt.plot(fpr,tpr,label=\"TCN, AUC=\"+str(auc))\n",
    "\n",
    "fpr, tpr, _ = metrics.roc_curve(y2,  y_pred_TabNet)\n",
    "auc = roc_auc_score(y2, y_pred_TabNet)\n",
    "plt.plot(fpr,tpr,label=\"TabNet, AUC=\"+str(auc))\n",
    "\n",
    "#add legend\n",
    "plt.title(\"ROC curve after XGBoost feature extraction (UNSW NB15 Dataset)\")\n",
    "plt.legend()"
   ]
  },
  {
   "cell_type": "code",
   "execution_count": 173,
   "id": "4ca52139",
   "metadata": {},
   "outputs": [
    {
     "data": {
      "image/png": "[encoded data removed]",
      "text/plain": [
       "<Figure size 720x576 with 1 Axes>"
      ]
     },
     "metadata": {
      "needs_background": "light"
     },
     "output_type": "display_data"
    }
   ],
   "source": [
    "from IPython.core.pylabtools import figsize\n",
    "fig = plt.figure(figsize = (10, 8))\n",
    "# Import Library\n",
    "import numpy as np \n",
    "import matplotlib.pyplot as plt \n",
    "\n",
    "# Define Data\n",
    "data3 = ['Before feature extraction','XGBoost feature extraction','Autoencoder feature extraction']\n",
    "xvals = [90.1,90.5,85.32]\n",
    "yvals = [75.1,78.7,81.03]\n",
    "zvals = [78.7,80.9,85.10]\n",
    "avals = [90.9,89.7,89.06]\n",
    "bvals = [92.1,93.2,89.25]\n",
    "\n",
    "x_axis = np.arange(len(data3))\n",
    "\n",
    "# Multi bar Chart\n",
    "plt.bar(x_axis +0.1, xvals, width=0.1, label = 'XGBoost')\n",
    "plt.bar(x_axis +0.1*2, yvals, width=0.1, label = 'DNN')\n",
    "plt.bar(x_axis +0.1*3, zvals, width=0.1, label = 'CNN')\n",
    "plt.bar(x_axis +0.1*4, avals, width=0.1, label = 'TCN')\n",
    "plt.bar(x_axis +0.1*5, bvals, width=0.1, label = 'TabNet')\n",
    "\n",
    "# Xticks\n",
    "plt.xticks(x_axis,data3)\n",
    "plt.ylabel(\"Accuracy (%)\")\n",
    "plt.xlabel(\"Experiments on classification\")\n",
    "plt.title(\"Comparitive analysis of different experiments (UNSW NB15 Dataset)\")\n",
    "plt.legend()\n",
    "plt.show()"
   ]
  },
  {
   "cell_type": "code",
   "execution_count": null,
   "id": "85383e2c",
   "metadata": {},
   "outputs": [],
   "source": []
  }
 ],
 "metadata": {
  "kernelspec": {
   "display_name": "Python 3",
   "language": "python",
   "name": "python3"
  },
  "language_info": {
   "codemirror_mode": {
    "name": "ipython",
    "version": 3
   },
   "file_extension": ".py",
   "mimetype": "text/x-python",
   "name": "python",
   "nbconvert_exporter": "python",
   "pygments_lexer": "ipython3",
   "version": "3.8.8"
  }
 },
 "nbformat": 4,
 "nbformat_minor": 5
}
