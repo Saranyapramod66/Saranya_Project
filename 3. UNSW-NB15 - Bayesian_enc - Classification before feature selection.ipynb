{
 "cells": [
  {
   "cell_type": "code",
   "execution_count": 1,
   "id": "3de84f4c",
   "metadata": {},
   "outputs": [],
   "source": [
    "import numpy as np\n",
    "import pandas as pd\n",
    "train = pd.read_csv('UNSW_NB15_bayesian_enc_training_set.csv')\n",
    "test = pd.read_csv('UNSW_NB15_bayesian_enc_testing_set.csv')"
   ]
  },
  {
   "cell_type": "code",
   "execution_count": 2,
   "id": "63dbb67f",
   "metadata": {},
   "outputs": [
    {
     "name": "stdout",
     "output_type": "stream",
     "text": [
      "             dur  spkts  dpkts  sbytes  dbytes           rate  sttl  dttl  \\\n",
      "0       0.121478      6      4     258     172      74.087490   252   254   \n",
      "1       0.649902     14     38     734   42014      78.473372    62   252   \n",
      "2       1.623129      8     16     364   13186      14.170161    62   252   \n",
      "3       1.681642     12     12     628     770      13.677108    62   252   \n",
      "4       0.449454     10      6     534     268      33.373826   254   252   \n",
      "...          ...    ...    ...     ...     ...            ...   ...   ...   \n",
      "175336  0.000009      2      0     114       0  111111.107200   254     0   \n",
      "175337  0.505762     10      8     620     354      33.612649   254   252   \n",
      "175338  0.000009      2      0     114       0  111111.107200   254     0   \n",
      "175339  0.000009      2      0     114       0  111111.107200   254     0   \n",
      "175340  0.000009      2      0     114       0  111111.107200   254     0   \n",
      "\n",
      "               sload          dload  ...  ct_dst_src_ltm  is_ftp_login  \\\n",
      "0       1.415894e+04    8495.365234  ...               1             0   \n",
      "1       8.395112e+03  503571.312500  ...               2             0   \n",
      "2       1.572272e+03   60929.230470  ...               3             0   \n",
      "3       2.740179e+03    3358.622070  ...               3             1   \n",
      "4       8.561499e+03    3987.059814  ...              40             0   \n",
      "...              ...            ...  ...             ...           ...   \n",
      "175336  5.066666e+07       0.000000  ...              24             0   \n",
      "175337  8.826286e+03    4903.492188  ...               2             0   \n",
      "175338  5.066666e+07       0.000000  ...              13             0   \n",
      "175339  5.066666e+07       0.000000  ...              30             0   \n",
      "175340  5.066666e+07       0.000000  ...              30             0   \n",
      "\n",
      "        ct_ftp_cmd  ct_flw_http_mthd  ct_src_ltm  ct_srv_dst  is_sm_ips_ports  \\\n",
      "0                0                 0           1           1                0   \n",
      "1                0                 0           1           6                0   \n",
      "2                0                 0           2           6                0   \n",
      "3                1                 0           2           1                0   \n",
      "4                0                 0           2          39                0   \n",
      "...            ...               ...         ...         ...              ...   \n",
      "175336           0                 0          24          24                0   \n",
      "175337           0                 0           1           1                0   \n",
      "175338           0                 0           3          12                0   \n",
      "175339           0                 0          30          30                0   \n",
      "175340           0                 0          30          30                0   \n",
      "\n",
      "           proto   service     state  \n",
      "0       0.455718  0.547930  0.476401  \n",
      "1       0.455718  0.547930  0.476401  \n",
      "2       0.455718  0.547930  0.476401  \n",
      "3       0.455718  0.603213  0.476401  \n",
      "4       0.455718  0.547930  0.476401  \n",
      "...          ...       ...       ...  \n",
      "175336  0.762473  0.846186  0.912400  \n",
      "175337  0.455718  0.547930  0.476401  \n",
      "175338  0.762473  0.846186  0.912400  \n",
      "175339  0.762473  0.846186  0.912400  \n",
      "175340  0.762473  0.846186  0.912400  \n",
      "\n",
      "[175341 rows x 42 columns]\n",
      "0         0\n",
      "1         0\n",
      "2         0\n",
      "3         0\n",
      "4         0\n",
      "         ..\n",
      "175336    1\n",
      "175337    1\n",
      "175338    1\n",
      "175339    1\n",
      "175340    1\n",
      "Name: label, Length: 175341, dtype: int64\n"
     ]
    }
   ],
   "source": [
    "x1 = train.iloc[:,1:43]\n",
    "y1 = train['label']\n",
    "print(x1)\n",
    "print(y1)"
   ]
  },
  {
   "cell_type": "code",
   "execution_count": 3,
   "id": "d8a38484",
   "metadata": {},
   "outputs": [
    {
     "name": "stdout",
     "output_type": "stream",
     "text": [
      "            dur  spkts  dpkts  sbytes  dbytes           rate  sttl  dttl  \\\n",
      "0      0.000011      2      0     496       0   90909.090200   254     0   \n",
      "1      0.000008      2      0    1762       0  125000.000300   254     0   \n",
      "2      0.000005      2      0    1068       0  200000.005100   254     0   \n",
      "3      0.000006      2      0     900       0  166666.660800   254     0   \n",
      "4      0.000010      2      0    2126       0  100000.002500   254     0   \n",
      "...         ...    ...    ...     ...     ...            ...   ...   ...   \n",
      "82327  0.000005      2      0     104       0  200000.005100   254     0   \n",
      "82328  1.106101     20      8   18062     354      24.410067   254   252   \n",
      "82329  0.000000      1      0      46       0       0.000000     0     0   \n",
      "82330  0.000000      1      0      46       0       0.000000     0     0   \n",
      "82331  0.000009      2      0     104       0  111111.107200   254     0   \n",
      "\n",
      "              sload        dload  ...  ct_dst_src_ltm  is_ftp_login  \\\n",
      "0      1.803636e+08     0.000000  ...               2             0   \n",
      "1      8.810000e+08     0.000000  ...               2             0   \n",
      "2      8.544000e+08     0.000000  ...               3             0   \n",
      "3      6.000000e+08     0.000000  ...               3             0   \n",
      "4      8.504000e+08     0.000000  ...               3             0   \n",
      "...             ...          ...  ...             ...           ...   \n",
      "82327  8.320000e+07     0.000000  ...               2             0   \n",
      "82328  1.241044e+05  2242.109863  ...               1             0   \n",
      "82329  0.000000e+00     0.000000  ...               1             0   \n",
      "82330  0.000000e+00     0.000000  ...               1             0   \n",
      "82331  4.622222e+07     0.000000  ...               1             0   \n",
      "\n",
      "       ct_ftp_cmd  ct_flw_http_mthd  ct_src_ltm  ct_srv_dst  is_sm_ips_ports  \\\n",
      "0               0                 0           1           2                0   \n",
      "1               0                 0           1           2                0   \n",
      "2               0                 0           1           3                0   \n",
      "3               0                 0           2           3                0   \n",
      "4               0                 0           2           3                0   \n",
      "...           ...               ...         ...         ...              ...   \n",
      "82327           0                 0           2           1                0   \n",
      "82328           0                 0           3           2                0   \n",
      "82329           0                 0           1           1                1   \n",
      "82330           0                 0           1           1                1   \n",
      "82331           0                 0           1           1                0   \n",
      "\n",
      "          proto  service     state  \n",
      "0      0.762473  0.54793  0.912400  \n",
      "1      0.762473  0.54793  0.912400  \n",
      "2      0.762473  0.54793  0.912400  \n",
      "3      0.762473  0.54793  0.912400  \n",
      "4      0.762473  0.54793  0.912400  \n",
      "...         ...      ...       ...  \n",
      "82327  0.762473  0.54793  0.912400  \n",
      "82328  0.455718  0.54793  0.476401  \n",
      "82329  0.000000  0.54793  0.912400  \n",
      "82330  0.000000  0.54793  0.912400  \n",
      "82331  0.762473  0.54793  0.912400  \n",
      "\n",
      "[82332 rows x 42 columns]\n",
      "0        0\n",
      "1        0\n",
      "2        0\n",
      "3        0\n",
      "4        0\n",
      "        ..\n",
      "82327    0\n",
      "82328    0\n",
      "82329    0\n",
      "82330    0\n",
      "82331    0\n",
      "Name: label, Length: 82332, dtype: int64\n"
     ]
    }
   ],
   "source": [
    "x2 = test.iloc[:,1:43]\n",
    "y2 = test['label']\n",
    "print(x2)\n",
    "print(y2)"
   ]
  },
  {
   "cell_type": "code",
   "execution_count": 4,
   "id": "fd392215",
   "metadata": {},
   "outputs": [
    {
     "data": {
      "text/plain": [
       "1    119341\n",
       "0     56000\n",
       "Name: label, dtype: int64"
      ]
     },
     "execution_count": 4,
     "metadata": {},
     "output_type": "execute_result"
    }
   ],
   "source": [
    "train[\"label\"].value_counts()"
   ]
  },
  {
   "cell_type": "code",
   "execution_count": 258,
   "id": "fd42c621",
   "metadata": {},
   "outputs": [
    {
     "data": {
      "image/png": "[encoded data removed]",
      "text/plain": [
       "<Figure size 360x360 with 1 Axes>"
      ]
     },
     "metadata": {
      "needs_background": "light"
     },
     "output_type": "display_data"
    }
   ],
   "source": [
    "data1 = {'Intrusion':119341, 'Normal':56000}\n",
    "Class_label = list(data1.keys())\n",
    "Number_of_instances = list(data1.values())\n",
    "  \n",
    "fig = plt.figure(figsize = (5, 5))\n",
    " \n",
    "# creating the bar plot\n",
    "plt.bar(Class_label, Number_of_instances, color ='blue',\n",
    "        width = 0.3)\n",
    "plt.ylim(0, 130000)\n",
    "plt.xlabel(\"Class label\")\n",
    "plt.ylabel(\"Number of instances\")\n",
    "plt.title(\"Number of samples in each class before resampling (UNSW NB15 Dataset)\")\n",
    "plt.show()"
   ]
  },
  {
   "cell_type": "code",
   "execution_count": 5,
   "id": "d6051b4b",
   "metadata": {},
   "outputs": [],
   "source": [
    "# RESAMPLING\n",
    "\n",
    "from imblearn import under_sampling, over_sampling\n",
    "from imblearn.over_sampling import SMOTE\n",
    "sm = SMOTE()\n",
    "x1, y1 = sm.fit_sample(x1, y1) "
   ]
  },
  {
   "cell_type": "code",
   "execution_count": 102,
   "id": "61267d8e",
   "metadata": {},
   "outputs": [
    {
     "data": {
      "text/plain": [
       "(238682, 42)"
      ]
     },
     "execution_count": 102,
     "metadata": {},
     "output_type": "execute_result"
    }
   ],
   "source": [
    "x1.shape"
   ]
  },
  {
   "cell_type": "code",
   "execution_count": 259,
   "id": "7c5abea0",
   "metadata": {},
   "outputs": [
    {
     "data": {
      "image/png": "[encoded data removed]",
      "text/plain": [
       "<Figure size 360x360 with 1 Axes>"
      ]
     },
     "metadata": {
      "needs_background": "light"
     },
     "output_type": "display_data"
    }
   ],
   "source": [
    "data2 = {'Intrusion':119341, 'Normal':119341}\n",
    "Class_label = list(data2.keys())\n",
    "Number_of_instances = list(data2.values())\n",
    "  \n",
    "fig = plt.figure(figsize = (5, 5))\n",
    " \n",
    "# creating the bar plot\n",
    "plt.bar(Class_label, Number_of_instances, color ='blue',\n",
    "        width = 0.3)\n",
    "plt.ylim(0, 130000)\n",
    "plt.xlabel(\"Class label\")\n",
    "plt.ylabel(\"Number of instances\")\n",
    "plt.title(\"Number of samples in each class after resampling (UNSW NB15 Dataset)\")\n",
    "plt.show()"
   ]
  },
  {
   "cell_type": "code",
   "execution_count": 6,
   "id": "66865894",
   "metadata": {},
   "outputs": [],
   "source": [
    "# NORMALIZATION\n",
    "\n",
    "from sklearn.preprocessing import MinMaxScaler\n",
    "model = MinMaxScaler()\n",
    "model.fit(x1)\n",
    "x1 = model.transform(x1)\n",
    "x2 = model.transform(x2)"
   ]
  },
  {
   "cell_type": "code",
   "execution_count": 7,
   "id": "1b18843b",
   "metadata": {},
   "outputs": [
    {
     "name": "stderr",
     "output_type": "stream",
     "text": [
      "C:\\Users\\admin\\anaconda3\\lib\\site-packages\\xgboost\\sklearn.py:1224: UserWarning: The use of label encoder in XGBClassifier is deprecated and will be removed in a future release. To remove this warning, do the following: 1) Pass option use_label_encoder=False when constructing XGBClassifier object; and 2) Encode your labels (y) as integers starting with 0, i.e. 0, 1, 2, ..., [num_class - 1].\n",
      "  warnings.warn(label_encoder_deprecation_msg, UserWarning)\n"
     ]
    },
    {
     "name": "stdout",
     "output_type": "stream",
     "text": [
      "[13:39:26] WARNING: C:/Users/Administrator/workspace/xgboost-win64_release_1.5.1/src/learner.cc:1115: Starting in XGBoost 1.3.0, the default evaluation metric used with the objective 'binary:logistic' was changed from 'error' to 'logloss'. Explicitly set eval_metric if you'd like to restore the old behavior.\n"
     ]
    },
    {
     "data": {
      "text/plain": [
       "XGBClassifier(alpha=0.05, base_score=0.5, booster='gbtree', colsample_bylevel=1,\n",
       "              colsample_bynode=1, colsample_bytree=0.6,\n",
       "              enable_categorical=False, gamma=0.3, gpu_id=-1,\n",
       "              importance_type=None, interaction_constraints='',\n",
       "              learning_rate=0.01, max_delta_step=0, max_depth=4,\n",
       "              min_child_weight=12, missing=nan, monotone_constraints='()',\n",
       "              n_estimators=1484, n_jobs=4, num_parallel_tree=1,\n",
       "              predictor='auto', random_state=27, reg_alpha=0.0500000007,\n",
       "              reg_lambda=1, scale_pos_weight=1, seed=27, subsample=0.6,\n",
       "              tree_method='exact', validate_parameters=1, verbosity=None)"
      ]
     },
     "execution_count": 7,
     "metadata": {},
     "output_type": "execute_result"
    }
   ],
   "source": [
    "# 1. XGBOOST CLASSIFIER MODEL\n",
    "\n",
    "from xgboost import XGBClassifier\n",
    "import xgboost as xgb\n",
    "params = {\n",
    "            'objective':'binary:logistic',\n",
    "            'max_depth': 4, 'min_child_weight': 12, 'gamma': 0.3, 'subsample': 0.6,\n",
    "            'colsample_bytree': 0.6, 'scale_pos_weight': 1,\n",
    "            'alpha': 0.05,\n",
    "            'learning_rate': 0.01,\n",
    "            'n_estimators':1484,'seed': 27\n",
    "         }\n",
    "xgb_clf = XGBClassifier(**params)\n",
    "xgb_clf.fit(x1, y1)"
   ]
  },
  {
   "cell_type": "code",
   "execution_count": 8,
   "id": "faadf962",
   "metadata": {},
   "outputs": [
    {
     "name": "stdout",
     "output_type": "stream",
     "text": [
      "[1 1 1 ... 0 0 1]\n"
     ]
    }
   ],
   "source": [
    "y_pred_xgb=xgb_clf.predict(x2)\n",
    "print(y_pred_xgb)"
   ]
  },
  {
   "cell_type": "code",
   "execution_count": 9,
   "id": "38558965",
   "metadata": {},
   "outputs": [
    {
     "name": "stdout",
     "output_type": "stream",
     "text": [
      "ROC AUC: 0.893511\n"
     ]
    }
   ],
   "source": [
    "# ROC AUC\n",
    "from sklearn.metrics import roc_auc_score\n",
    "auc = roc_auc_score(y2, y_pred_xgb)\n",
    "print('ROC AUC: %f' % auc)"
   ]
  },
  {
   "cell_type": "code",
   "execution_count": 11,
   "id": "8e3bb34d",
   "metadata": {},
   "outputs": [
    {
     "data": {
      "image/png": "[encoded data removed]",
      "text/plain": [
       "<Figure size 432x288 with 1 Axes>"
      ]
     },
     "metadata": {
      "needs_background": "light"
     },
     "output_type": "display_data"
    }
   ],
   "source": [
    "from matplotlib import pyplot as plt\n",
    "from sklearn import metrics\n",
    "fpr, tpr, _ = metrics.roc_curve(y2,  y_pred_xgb)\n",
    "#create ROC curve\n",
    "plt.plot(fpr,tpr)\n",
    "plt.ylabel('True Positive Rate')\n",
    "plt.xlabel('False Positive Rate')\n",
    "plt.show()"
   ]
  },
  {
   "cell_type": "code",
   "execution_count": 12,
   "id": "1a6d64ee",
   "metadata": {},
   "outputs": [
    {
     "name": "stdout",
     "output_type": "stream",
     "text": [
      "Accuracy in XGBoost classifier model =  90.1229169703153\n",
      "Confusion Matrix = [[30238  6762]\n",
      " [ 1370 43962]]\n",
      "Recall = 0.901229169703153\n",
      "Precision = 0.9071211418448522\n",
      "Classification Report =\n",
      "               precision    recall  f1-score   support\n",
      "\n",
      "           0       0.96      0.82      0.88     37000\n",
      "           1       0.87      0.97      0.92     45332\n",
      "\n",
      "    accuracy                           0.90     82332\n",
      "   macro avg       0.91      0.89      0.90     82332\n",
      "weighted avg       0.91      0.90      0.90     82332\n",
      "\n",
      "F1 Score =  0.8984062997805073\n"
     ]
    }
   ],
   "source": [
    "from sklearn import metrics\n",
    "from sklearn.metrics import f1_score\n",
    "\n",
    "print('Accuracy in XGBoost classifier model = ', metrics.accuracy_score(y2, y_pred_xgb)*100)\n",
    "print(\"Confusion Matrix =\", metrics.confusion_matrix(y2, y_pred_xgb, labels=None, \n",
    "                                              sample_weight=None))\n",
    "print(\"Recall =\", metrics.recall_score(y2, y_pred_xgb, labels=None, \n",
    "                                             pos_label=1, average='weighted', \n",
    "                                             sample_weight=None))\n",
    "print(\"Precision =\", metrics.precision_score(y2, y_pred_xgb, labels=None, \n",
    "                                             pos_label=1, average='weighted', \n",
    "                                             sample_weight=None))\n",
    "print(\"Classification Report =\\n\", metrics.classification_report(y2, y_pred_xgb, \n",
    "                                                                 labels=None, \n",
    "                                                                 target_names=None, \n",
    "                                                                 sample_weight=None, \n",
    "                                                                 digits=2, \n",
    "                                                                 output_dict=False))\n",
    "print(\"F1 Score = \",f1_score(y2, y_pred_xgb, average='macro'))"
   ]
  },
  {
   "cell_type": "code",
   "execution_count": 13,
   "id": "11ced96a",
   "metadata": {},
   "outputs": [
    {
     "data": {
      "text/plain": [
       "<AxesSubplot:>"
      ]
     },
     "execution_count": 13,
     "metadata": {},
     "output_type": "execute_result"
    },
    {
     "data": {
      "image/png": "[encoded data removed]",
      "text/plain": [
       "<Figure size 432x288 with 2 Axes>"
      ]
     },
     "metadata": {
      "needs_background": "light"
     },
     "output_type": "display_data"
    }
   ],
   "source": [
    "cm_xgb = metrics.confusion_matrix(y_pred_xgb, y2, labels=None, \n",
    "                                              sample_weight=None)\n",
    "import seaborn as sns\n",
    "sns.heatmap(cm_xgb, annot=True)"
   ]
  },
  {
   "cell_type": "code",
   "execution_count": 14,
   "id": "56251b63",
   "metadata": {},
   "outputs": [
    {
     "data": {
      "text/plain": [
       "<AxesSubplot:>"
      ]
     },
     "execution_count": 14,
     "metadata": {},
     "output_type": "execute_result"
    },
    {
     "data": {
      "image/png": "[encoded data removed]",
      "text/plain": [
       "<Figure size 432x288 with 2 Axes>"
      ]
     },
     "metadata": {
      "needs_background": "light"
     },
     "output_type": "display_data"
    }
   ],
   "source": [
    "sns.heatmap(cm_xgb/np.sum(cm_xgb), annot=True, \n",
    "            fmt='.2%', cmap='Blues')"
   ]
  },
  {
   "cell_type": "code",
   "execution_count": 220,
   "id": "d53a70af",
   "metadata": {},
   "outputs": [
    {
     "name": "stdout",
     "output_type": "stream",
     "text": [
      "Model: \"sequential_16\"\n",
      "_________________________________________________________________\n",
      " Layer (type)                Output Shape              Param #   \n",
      "=================================================================\n",
      " dense_58 (Dense)            (None, 42)                1806      \n",
      "                                                                 \n",
      " dense_59 (Dense)            (None, 84)                3612      \n",
      "                                                                 \n",
      " dropout_21 (Dropout)        (None, 84)                0         \n",
      "                                                                 \n",
      " dense_60 (Dense)            (None, 168)               14280     \n",
      "                                                                 \n",
      " dropout_22 (Dropout)        (None, 168)               0         \n",
      "                                                                 \n",
      " dense_61 (Dense)            (None, 336)               56784     \n",
      "                                                                 \n",
      " dropout_23 (Dropout)        (None, 336)               0         \n",
      "                                                                 \n",
      " dense_62 (Dense)            (None, 672)               226464    \n",
      "                                                                 \n",
      " dense_63 (Dense)            (None, 2)                 1346      \n",
      "                                                                 \n",
      "=================================================================\n",
      "Total params: 304,292\n",
      "Trainable params: 304,292\n",
      "Non-trainable params: 0\n",
      "_________________________________________________________________\n"
     ]
    }
   ],
   "source": [
    "# 2. DNN CLASSIFIER MODEL\n",
    "\n",
    "from tensorflow import keras\n",
    "model_DNN=keras.models.Sequential()\n",
    "model_DNN.add(keras.layers.Dense(units=42, activation = \"relu\",input_shape = x1.shape[1:]))\n",
    "model_DNN.add(keras.layers.Dense(units=84,activation = \"relu\"))\n",
    "model_DNN.add(keras.layers.Dropout(0.25))\n",
    "model_DNN.add(keras.layers.Dense(units=168,activation = \"relu\" ))\n",
    "model_DNN.add(keras.layers.Dropout(0.25))\n",
    "model_DNN.add(keras.layers.Dense(units=336,activation = \"relu\" ))\n",
    "model_DNN.add(keras.layers.Dropout(0.25))\n",
    "model_DNN.add(keras.layers.Dense(units=672,activation = \"relu\" ))\n",
    "model_DNN.add(keras.layers.Dense(units=2, activation = \"sigmoid\"))\n",
    "model_DNN.summary()"
   ]
  },
  {
   "cell_type": "code",
   "execution_count": 221,
   "id": "0d7eae25",
   "metadata": {},
   "outputs": [
    {
     "name": "stdout",
     "output_type": "stream",
     "text": [
      "Epoch 1/50\n",
      "14918/14918 [==============================] - 99s 6ms/step - loss: 0.3200 - accuracy: 0.8697 - val_loss: 0.4966 - val_accuracy: 0.7508\n",
      "Epoch 2/50\n",
      "14918/14918 [==============================] - 202s 14ms/step - loss: 0.3817 - accuracy: 0.8650 - val_loss: 0.5064 - val_accuracy: 0.7662\n",
      "Epoch 3/50\n",
      "14918/14918 [==============================] - 139s 8ms/step - loss: 0.5603 - accuracy: 0.8078 - val_loss: 0.6688 - val_accuracy: 0.7660\n",
      "Epoch 4/50\n",
      "14918/14918 [==============================] - 134s 9ms/step - loss: 0.3492 - accuracy: 0.8681 - val_loss: 0.4878 - val_accuracy: 0.7664\n",
      "Epoch 5/50\n",
      "14918/14918 [==============================] - 115s 8ms/step - loss: 0.5747 - accuracy: 0.8607 - val_loss: 0.4933 - val_accuracy: 0.7664\n",
      "Epoch 6/50\n",
      "14918/14918 [==============================] - 90s 6ms/step - loss: 0.4583 - accuracy: 0.8450 - val_loss: 0.4979 - val_accuracy: 0.7664\n",
      "Epoch 7/50\n",
      "14918/14918 [==============================] - 186s 12ms/step - loss: 0.3853 - accuracy: 0.8729 - val_loss: 0.5023 - val_accuracy: 0.7665\n",
      "Epoch 8/50\n",
      "14918/14918 [==============================] - 118s 8ms/step - loss: 0.3683 - accuracy: 0.8729 - val_loss: 0.4884 - val_accuracy: 0.7669\n",
      "Epoch 9/50\n",
      "14918/14918 [==============================] - 115s 8ms/step - loss: 0.3981 - accuracy: 0.8581 - val_loss: 0.5011 - val_accuracy: 0.7666\n",
      "Epoch 10/50\n",
      "14918/14918 [==============================] - 127s 9ms/step - loss: 0.4028 - accuracy: 0.8738 - val_loss: 0.5113 - val_accuracy: 0.7665\n",
      "Epoch 11/50\n",
      "14918/14918 [==============================] - 124s 8ms/step - loss: 0.3715 - accuracy: 0.8758 - val_loss: 0.5086 - val_accuracy: 0.7665\n",
      "2573/2573 [==============================] - 13s 5ms/step - loss: 0.4966 - accuracy: 0.7508\n",
      "Test loss =  0.49659720063209534\n",
      "Test accuracy =  0.7508016228675842\n"
     ]
    }
   ],
   "source": [
    "opt = keras.optimizers.Adam(learning_rate=0.01)\n",
    "model_DNN.compile(loss=\"sparse_categorical_crossentropy\",optimizer=opt,metrics=\"accuracy\")\n",
    "es=keras.callbacks.EarlyStopping(monitor='loss',patience=10,restore_best_weights=True)\n",
    "cp=keras.callbacks.ModelCheckpoint(\"SaranyaDNNNet.h5\",monitor='val_loss')\n",
    "history = model_DNN.fit(x1,y1,epochs=50,batch_size=16,callbacks=[es,cp],validation_data = [x2, y2])\n",
    "testloss,testaccuracy=model_DNN.evaluate(x2,y2)\n",
    "print(\"Test loss = \",testloss)\n",
    "print(\"Test accuracy = \",testaccuracy)"
   ]
  },
  {
   "cell_type": "code",
   "execution_count": 222,
   "id": "cf406e54",
   "metadata": {},
   "outputs": [
    {
     "name": "stdout",
     "output_type": "stream",
     "text": [
      "[1 1 1 ... 0 0 1]\n",
      "Test Loss = 0.49659720063209534\n",
      "Test Accuracy = 0.7508016228675842\n"
     ]
    }
   ],
   "source": [
    "y_predicted_DNN = model_DNN.predict(x2)\n",
    "y_predicted_class_DNN=np.argmax(y_predicted_DNN,axis=1)\n",
    "print(y_predicted_class_DNN)\n",
    "print(\"Test Loss =\",testloss)\n",
    "print(\"Test Accuracy =\",testaccuracy)"
   ]
  },
  {
   "cell_type": "code",
   "execution_count": 223,
   "id": "43797400",
   "metadata": {},
   "outputs": [
    {
     "name": "stdout",
     "output_type": "stream",
     "text": [
      "ROC AUC: 0.722756\n"
     ]
    }
   ],
   "source": [
    "# ROC AUC\n",
    "from sklearn.metrics import roc_auc_score\n",
    "auc = roc_auc_score(y2, y_predicted_class_DNN)\n",
    "print('ROC AUC: %f' % auc)"
   ]
  },
  {
   "cell_type": "code",
   "execution_count": 224,
   "id": "34920626",
   "metadata": {},
   "outputs": [
    {
     "data": {
      "image/png": "[encoded data removed]",
      "text/plain": [
       "<Figure size 432x288 with 1 Axes>"
      ]
     },
     "metadata": {
      "needs_background": "light"
     },
     "output_type": "display_data"
    }
   ],
   "source": [
    "from sklearn import metrics\n",
    "fpr, tpr, _ = metrics.roc_curve(y2,  y_predicted_class_DNN)\n",
    "#create ROC curve\n",
    "plt.plot(fpr,tpr)\n",
    "plt.ylabel('True Positive Rate')\n",
    "plt.xlabel('False Positive Rate')\n",
    "plt.show()"
   ]
  },
  {
   "cell_type": "code",
   "execution_count": 225,
   "id": "ad828970",
   "metadata": {},
   "outputs": [
    {
     "name": "stdout",
     "output_type": "stream",
     "text": [
      "Accuracy with DNN classifier model =  75.08016324150998\n",
      "Confusion Matrix = [[16488     5]\n",
      " [20512 45327]]\n",
      "Recall = 0.7508016324150998\n",
      "Precision = 0.8888570123088142\n",
      "Classification Report =\n",
      "               precision    recall  f1-score   support\n",
      "\n",
      "           0       0.45      1.00      0.62     16493\n",
      "           1       1.00      0.69      0.82     65839\n",
      "\n",
      "    accuracy                           0.75     82332\n",
      "   macro avg       0.72      0.84      0.72     82332\n",
      "weighted avg       0.89      0.75      0.78     82332\n",
      "\n",
      "F1 Score =  0.7159504818613832\n"
     ]
    }
   ],
   "source": [
    "from sklearn import metrics\n",
    "from sklearn.metrics import f1_score\n",
    "print('Accuracy with DNN classifier model = ', metrics.accuracy_score(y_predicted_class_DNN, y2)*100)\n",
    "print(\"Confusion Matrix =\", metrics.confusion_matrix(y_predicted_class_DNN, y2, labels=None, \n",
    "                                              sample_weight=None))\n",
    "print(\"Recall =\", metrics.recall_score(y_predicted_class_DNN, y2, labels=None, \n",
    "                                             pos_label=1, average='weighted', \n",
    "                                             sample_weight=None))\n",
    "print(\"Precision =\", metrics.precision_score(y_predicted_class_DNN, y2, labels=None, \n",
    "                                             pos_label=1, average='weighted', \n",
    "                                             sample_weight=None))\n",
    "print(\"Classification Report =\\n\", metrics.classification_report(y_predicted_class_DNN, y2, \n",
    "                                                                 labels=None, \n",
    "                                                                 target_names=None, \n",
    "                                                                 sample_weight=None, \n",
    "                                                                 digits=2, \n",
    "                                                                 output_dict=False))\n",
    "print(\"F1 Score = \",f1_score(y_predicted_class_DNN, y2, average='macro'))"
   ]
  },
  {
   "cell_type": "code",
   "execution_count": 226,
   "id": "496355f8",
   "metadata": {},
   "outputs": [
    {
     "data": {
      "text/plain": [
       "<AxesSubplot:>"
      ]
     },
     "execution_count": 226,
     "metadata": {},
     "output_type": "execute_result"
    },
    {
     "data": {
      "image/png": "[encoded data removed]",
      "text/plain": [
       "<Figure size 432x288 with 2 Axes>"
      ]
     },
     "metadata": {
      "needs_background": "light"
     },
     "output_type": "display_data"
    }
   ],
   "source": [
    "cm_DNN = metrics.confusion_matrix(y_predicted_class_DNN, y2, labels=None, \n",
    "                                              sample_weight=None)\n",
    "import seaborn as sns\n",
    "sns.heatmap(cm_DNN, annot=True)"
   ]
  },
  {
   "cell_type": "code",
   "execution_count": 227,
   "id": "6bf538d9",
   "metadata": {},
   "outputs": [
    {
     "data": {
      "text/plain": [
       "<AxesSubplot:>"
      ]
     },
     "execution_count": 227,
     "metadata": {},
     "output_type": "execute_result"
    },
    {
     "data": {
      "image/png": "[encoded data removed]",
      "text/plain": [
       "<Figure size 432x288 with 2 Axes>"
      ]
     },
     "metadata": {
      "needs_background": "light"
     },
     "output_type": "display_data"
    }
   ],
   "source": [
    "sns.heatmap(cm_DNN/np.sum(cm_DNN), annot=True, \n",
    "            fmt='.2%', cmap='Blues')"
   ]
  },
  {
   "cell_type": "code",
   "execution_count": 208,
   "id": "bd3df090",
   "metadata": {},
   "outputs": [],
   "source": [
    "# 3. CNN CLASSIFIER MODEL\n",
    "\n",
    "x1_CNN = np.reshape(x1, (x1.shape[0],x1.shape[1],1))\n",
    "x2_CNN = np.reshape(x2, (x2.shape[0],x2.shape[1],1))"
   ]
  },
  {
   "cell_type": "code",
   "execution_count": 209,
   "id": "08328a4d",
   "metadata": {},
   "outputs": [
    {
     "name": "stdout",
     "output_type": "stream",
     "text": [
      "Model: \"sequential_14\"\n",
      "_________________________________________________________________\n",
      " Layer (type)                Output Shape              Param #   \n",
      "=================================================================\n",
      " conv1d_8 (Conv1D)           (None, 40, 42)            168       \n",
      "                                                                 \n",
      " conv1d_9 (Conv1D)           (None, 38, 84)            10668     \n",
      "                                                                 \n",
      " batch_normalization_4 (Batc  (None, 38, 84)           336       \n",
      " hNormalization)                                                 \n",
      "                                                                 \n",
      " max_pooling1d_4 (MaxPooling  (None, 19, 84)           0         \n",
      " 1D)                                                             \n",
      "                                                                 \n",
      " dropout_19 (Dropout)        (None, 19, 84)            0         \n",
      "                                                                 \n",
      " flatten_4 (Flatten)         (None, 1596)              0         \n",
      "                                                                 \n",
      " dense_56 (Dense)            (None, 168)               268296    \n",
      "                                                                 \n",
      " dropout_20 (Dropout)        (None, 168)               0         \n",
      "                                                                 \n",
      " dense_57 (Dense)            (None, 2)                 338       \n",
      "                                                                 \n",
      "=================================================================\n",
      "Total params: 279,806\n",
      "Trainable params: 279,638\n",
      "Non-trainable params: 168\n",
      "_________________________________________________________________\n"
     ]
    }
   ],
   "source": [
    "from tensorflow import keras\n",
    "from tensorflow.keras.layers import Input\n",
    "from keras.layers import Convolution1D, Dense, Dropout, MaxPooling1D, LSTM\n",
    "from keras.layers import Dense, Dropout, Activation, Lambda, Flatten\n",
    "convnet=keras.models.Sequential()\n",
    "convnet.add(keras.layers.Convolution1D(42,3,activation=\"relu\",input_shape=(42,1)))\n",
    "convnet.add(keras.layers.Convolution1D(84,3,activation=\"relu\"))\n",
    "convnet.add(keras.layers.BatchNormalization())\n",
    "convnet.add(keras.layers.MaxPooling1D(2,2))\n",
    "convnet.add(keras.layers.Dropout(0.25))\n",
    "convnet.add(keras.layers.Flatten())\n",
    "convnet.add(keras.layers.Dense(168,activation=\"relu\"))\n",
    "convnet.add(keras.layers.Dropout(0.25))\n",
    "convnet.add(keras.layers.Dense(2,activation=\"softmax\"))\n",
    "convnet.summary()"
   ]
  },
  {
   "cell_type": "code",
   "execution_count": 210,
   "id": "cc0367a5",
   "metadata": {},
   "outputs": [
    {
     "name": "stdout",
     "output_type": "stream",
     "text": [
      "Epoch 1/50\n",
      "14918/14918 [==============================] - 194s 12ms/step - loss: 0.1959 - accuracy: 0.8984 - val_loss: 0.3032 - val_accuracy: 0.7868\n",
      "Epoch 2/50\n",
      "14918/14918 [==============================] - 166s 11ms/step - loss: 0.2076 - accuracy: 0.8942 - val_loss: 0.3294 - val_accuracy: 0.7870\n",
      "Epoch 3/50\n",
      "14918/14918 [==============================] - 172s 12ms/step - loss: 0.2197 - accuracy: 0.8925 - val_loss: 0.3516 - val_accuracy: 0.7869\n",
      "Epoch 4/50\n",
      "14918/14918 [==============================] - 167s 11ms/step - loss: 0.2218 - accuracy: 0.8949 - val_loss: 0.3518 - val_accuracy: 0.7871\n",
      "Epoch 5/50\n",
      "14918/14918 [==============================] - 168s 11ms/step - loss: 0.2342 - accuracy: 0.8947 - val_loss: 0.3294 - val_accuracy: 0.7871\n",
      "Epoch 6/50\n",
      "14918/14918 [==============================] - 164s 11ms/step - loss: 0.2230 - accuracy: 0.8949 - val_loss: 0.3655 - val_accuracy: 0.7869\n",
      "Epoch 7/50\n",
      "14918/14918 [==============================] - 162s 11ms/step - loss: 0.2299 - accuracy: 0.8944 - val_loss: 0.3454 - val_accuracy: 0.7870\n",
      "Epoch 8/50\n",
      "14918/14918 [==============================] - 147s 10ms/step - loss: 0.2208 - accuracy: 0.8952 - val_loss: 0.3742 - val_accuracy: 0.7865\n",
      "Epoch 9/50\n",
      "14918/14918 [==============================] - 148s 10ms/step - loss: 0.2239 - accuracy: 0.8951 - val_loss: 0.3485 - val_accuracy: 0.7869\n",
      "Epoch 10/50\n",
      "14918/14918 [==============================] - 156s 10ms/step - loss: 0.2229 - accuracy: 0.8950 - val_loss: 0.3590 - val_accuracy: 0.7871\n",
      "Epoch 11/50\n",
      "14918/14918 [==============================] - 166s 11ms/step - loss: 0.2292 - accuracy: 0.8950 - val_loss: 0.3516 - val_accuracy: 0.7868\n",
      "2573/2573 [==============================] - 10s 4ms/step - loss: 0.3032 - accuracy: 0.7868\n",
      "Test Loss = 0.3032172620296478\n",
      "Test Accuracy = 0.7867657542228699\n"
     ]
    }
   ],
   "source": [
    "opt = keras.optimizers.Adam(learning_rate=0.01)\n",
    "convnet.compile(loss=\"sparse_categorical_crossentropy\",optimizer=opt,metrics=\"accuracy\")\n",
    "es=keras.callbacks.EarlyStopping(monitor='loss',patience=10,restore_best_weights=True)\n",
    "cp=keras.callbacks.ModelCheckpoint(\"SaranyaConvNet.h5\",monitor='val_loss')\n",
    "history = convnet.fit(x1_CNN,y1,epochs=50,batch_size=16,callbacks=[es,cp],validation_data = [x2_CNN, y2])\n",
    "testloss,testaccuracy=convnet.evaluate(x2_CNN,y2)\n",
    "print(\"Test Loss =\",testloss)\n",
    "print(\"Test Accuracy =\",testaccuracy)"
   ]
  },
  {
   "cell_type": "code",
   "execution_count": 211,
   "id": "59edbb3a",
   "metadata": {},
   "outputs": [
    {
     "name": "stdout",
     "output_type": "stream",
     "text": [
      "[1 1 1 ... 0 0 1]\n"
     ]
    }
   ],
   "source": [
    "y_predicted_CNN = convnet.predict(x2_CNN)\n",
    "y_predicted_class_CNN=np.argmax(y_predicted_CNN,axis=1)\n",
    "print(y_predicted_class_CNN)"
   ]
  },
  {
   "cell_type": "code",
   "execution_count": 212,
   "id": "ecbed5d4",
   "metadata": {},
   "outputs": [
    {
     "name": "stdout",
     "output_type": "stream",
     "text": [
      "ROC AUC: 0.762829\n"
     ]
    }
   ],
   "source": [
    "# ROC AUC\n",
    "from sklearn.metrics import roc_auc_score\n",
    "auc = roc_auc_score(y2, y_predicted_class_CNN)\n",
    "print('ROC AUC: %f' % auc)"
   ]
  },
  {
   "cell_type": "code",
   "execution_count": 213,
   "id": "0fe4f03b",
   "metadata": {},
   "outputs": [
    {
     "data": {
      "image/png": "[encoded data removed]",
      "text/plain": [
       "<Figure size 432x288 with 1 Axes>"
      ]
     },
     "metadata": {
      "needs_background": "light"
     },
     "output_type": "display_data"
    }
   ],
   "source": [
    "fpr, tpr, _ = metrics.roc_curve(y2,  y_predicted_class_CNN)\n",
    "#create ROC curve\n",
    "plt.plot(fpr,tpr)\n",
    "plt.ylabel('True Positive Rate')\n",
    "plt.xlabel('False Positive Rate')\n",
    "plt.show()"
   ]
  },
  {
   "cell_type": "code",
   "execution_count": 214,
   "id": "a7c37ebb",
   "metadata": {},
   "outputs": [
    {
     "name": "stdout",
     "output_type": "stream",
     "text": [
      "Accuracy with CNN classifier model =  78.67657775834427\n",
      "Confusion Matrix = [[19473    29]\n",
      " [17527 45303]]\n",
      "Recall = 0.7867657775834427\n",
      "Precision = 0.8873057376127149\n",
      "Classification Report =\n",
      "               precision    recall  f1-score   support\n",
      "\n",
      "           0       0.53      1.00      0.69     19502\n",
      "           1       1.00      0.72      0.84     62830\n",
      "\n",
      "    accuracy                           0.79     82332\n",
      "   macro avg       0.76      0.86      0.76     82332\n",
      "weighted avg       0.89      0.79      0.80     82332\n",
      "\n",
      "F1 Score =  0.7634866238039846\n"
     ]
    }
   ],
   "source": [
    "from sklearn import metrics\n",
    "from sklearn.metrics import f1_score\n",
    "print('Accuracy with CNN classifier model = ', metrics.accuracy_score(y_predicted_class_CNN, y2)*100)\n",
    "print(\"Confusion Matrix =\", metrics.confusion_matrix(y_predicted_class_CNN, y2, labels=None, \n",
    "                                              sample_weight=None))\n",
    "print(\"Recall =\", metrics.recall_score(y_predicted_class_CNN, y2, labels=None, \n",
    "                                             pos_label=1, average='weighted', \n",
    "                                             sample_weight=None))\n",
    "print(\"Precision =\", metrics.precision_score(y_predicted_class_CNN, y2, labels=None, \n",
    "                                             pos_label=1, average='weighted', \n",
    "                                             sample_weight=None))\n",
    "print(\"Classification Report =\\n\", metrics.classification_report(y_predicted_class_CNN, y2, \n",
    "                                                                 labels=None, \n",
    "                                                                 target_names=None, \n",
    "                                                                 sample_weight=None, \n",
    "                                                                 digits=2, \n",
    "                                                                 output_dict=False))\n",
    "print(\"F1 Score = \",f1_score(y_predicted_class_CNN, y2, average='macro'))"
   ]
  },
  {
   "cell_type": "code",
   "execution_count": 215,
   "id": "9e04ed77",
   "metadata": {},
   "outputs": [
    {
     "data": {
      "text/plain": [
       "<AxesSubplot:>"
      ]
     },
     "execution_count": 215,
     "metadata": {},
     "output_type": "execute_result"
    },
    {
     "data": {
      "image/png": "[encoded data removed]",
      "text/plain": [
       "<Figure size 432x288 with 2 Axes>"
      ]
     },
     "metadata": {
      "needs_background": "light"
     },
     "output_type": "display_data"
    }
   ],
   "source": [
    "cm_CNN = metrics.confusion_matrix(y_predicted_class_CNN, y2, labels=None, \n",
    "                                              sample_weight=None)\n",
    "import seaborn as sns\n",
    "sns.heatmap(cm_CNN, annot=True)"
   ]
  },
  {
   "cell_type": "code",
   "execution_count": 216,
   "id": "e26bdfdf",
   "metadata": {},
   "outputs": [
    {
     "data": {
      "text/plain": [
       "<AxesSubplot:>"
      ]
     },
     "execution_count": 216,
     "metadata": {},
     "output_type": "execute_result"
    },
    {
     "data": {
      "image/png": "[encoded data removed]",
      "text/plain": [
       "<Figure size 432x288 with 2 Axes>"
      ]
     },
     "metadata": {
      "needs_background": "light"
     },
     "output_type": "display_data"
    }
   ],
   "source": [
    "sns.heatmap(cm_CNN/np.sum(cm_CNN), annot=True, \n",
    "            fmt='.2%', cmap='Blues')"
   ]
  },
  {
   "cell_type": "code",
   "execution_count": 36,
   "id": "5c074ce2",
   "metadata": {},
   "outputs": [
    {
     "name": "stdout",
     "output_type": "stream",
     "text": [
      "238682\n",
      "82332\n"
     ]
    }
   ],
   "source": [
    "# 4. TCN CLASSIFIER MODEL\n",
    "\n",
    "print(x1.shape[0])\n",
    "print(x2.shape[0])"
   ]
  },
  {
   "cell_type": "code",
   "execution_count": 37,
   "id": "c2bb9864",
   "metadata": {},
   "outputs": [
    {
     "name": "stdout",
     "output_type": "stream",
     "text": [
      "(238682, 42) (238682,) (82332, 42) (82332,)\n",
      "(238682, 42, 1) (238682,) (82332, 42, 1) (82332,)\n"
     ]
    }
   ],
   "source": [
    "print(x1.shape, y1.shape, x2.shape, y2.shape)\n",
    "x1_TCN = np.reshape(x1, (x1.shape[0],x1.shape[1],1))\n",
    "x2_TCN = np.reshape(x2, (x2.shape[0],x2.shape[1],1))\n",
    "print(x1_TCN.shape, y1.shape, x2_TCN.shape, y2.shape)"
   ]
  },
  {
   "cell_type": "code",
   "execution_count": 38,
   "id": "7c221b21",
   "metadata": {},
   "outputs": [
    {
     "name": "stdout",
     "output_type": "stream",
     "text": [
      "(238682, 42, 1) (238682, 2) (82332, 42, 1) (82332, 2)\n"
     ]
    }
   ],
   "source": [
    "from tensorflow.keras.utils import to_categorical\n",
    "num_classes = 2\n",
    "y1_TCN = to_categorical(y1, num_classes)\n",
    "y2_TCN = to_categorical(y2, num_classes)\n",
    "print(x1_TCN.shape, y1_TCN.shape, x2_TCN.shape, y2_TCN.shape)"
   ]
  },
  {
   "cell_type": "code",
   "execution_count": 39,
   "id": "523678f3",
   "metadata": {},
   "outputs": [
    {
     "name": "stdout",
     "output_type": "stream",
     "text": [
      "(238682, 42, 1) (238682, 2, 1) (82332, 42, 1) (82332, 2, 1)\n"
     ]
    }
   ],
   "source": [
    "y1_TCN = np.expand_dims(y1_TCN, axis=2)\n",
    "y2_TCN = np.expand_dims(y2_TCN, axis=2)\n",
    "print(x1_TCN.shape, y1_TCN.shape, x2_TCN.shape, y2_TCN.shape)"
   ]
  },
  {
   "cell_type": "code",
   "execution_count": 40,
   "id": "c7f85482",
   "metadata": {},
   "outputs": [
    {
     "name": "stdout",
     "output_type": "stream",
     "text": [
      "Requirement already satisfied: keras-tcn in c:\\users\\admin\\anaconda3\\lib\\site-packages (3.4.2)\n",
      "Requirement already satisfied: tensorflow-addons in c:\\users\\admin\\anaconda3\\lib\\site-packages (from keras-tcn) (0.16.1)\n",
      "Requirement already satisfied: tensorflow in c:\\users\\admin\\anaconda3\\lib\\site-packages (from keras-tcn) (2.7.0)\n",
      "Requirement already satisfied: numpy in c:\\users\\admin\\anaconda3\\lib\\site-packages (from keras-tcn) (1.20.1)\n",
      "Requirement already satisfied: absl-py>=0.4.0 in c:\\users\\admin\\anaconda3\\lib\\site-packages (from tensorflow->keras-tcn) (1.0.0)\n",
      "Requirement already satisfied: termcolor>=1.1.0 in c:\\users\\admin\\anaconda3\\lib\\site-packages (from tensorflow->keras-tcn) (1.1.0)\n",
      "Requirement already satisfied: typing-extensions>=3.6.6 in c:\\users\\admin\\anaconda3\\lib\\site-packages (from tensorflow->keras-tcn) (3.7.4.3)\n",
      "Requirement already satisfied: tensorflow-estimator<2.8,~=2.7.0rc0 in c:\\users\\admin\\anaconda3\\lib\\site-packages (from tensorflow->keras-tcn) (2.7.0)\n",
      "Requirement already satisfied: tensorflow-io-gcs-filesystem>=0.21.0 in c:\\users\\admin\\anaconda3\\lib\\site-packages (from tensorflow->keras-tcn) (0.23.1)\n",
      "Requirement already satisfied: wrapt>=1.11.0 in c:\\users\\admin\\anaconda3\\lib\\site-packages (from tensorflow->keras-tcn) (1.12.1)\n",
      "Requirement already satisfied: keras-preprocessing>=1.1.1 in c:\\users\\admin\\anaconda3\\lib\\site-packages (from tensorflow->keras-tcn) (1.1.2)\n",
      "Requirement already satisfied: protobuf>=3.9.2 in c:\\users\\admin\\anaconda3\\lib\\site-packages (from tensorflow->keras-tcn) (3.19.1)\n",
      "Requirement already satisfied: astunparse>=1.6.0 in c:\\users\\admin\\anaconda3\\lib\\site-packages (from tensorflow->keras-tcn) (1.6.3)\n",
      "Requirement already satisfied: h5py>=2.9.0 in c:\\users\\admin\\anaconda3\\lib\\site-packages (from tensorflow->keras-tcn) (2.10.0)\n",
      "Requirement already satisfied: wheel<1.0,>=0.32.0 in c:\\users\\admin\\anaconda3\\lib\\site-packages (from tensorflow->keras-tcn) (0.36.2)\n",
      "Requirement already satisfied: google-pasta>=0.1.1 in c:\\users\\admin\\anaconda3\\lib\\site-packages (from tensorflow->keras-tcn) (0.2.0)\n",
      "Requirement already satisfied: gast<0.5.0,>=0.2.1 in c:\\users\\admin\\anaconda3\\lib\\site-packages (from tensorflow->keras-tcn) (0.4.0)\n",
      "Requirement already satisfied: opt-einsum>=2.3.2 in c:\\users\\admin\\anaconda3\\lib\\site-packages (from tensorflow->keras-tcn) (3.3.0)\n",
      "Requirement already satisfied: six>=1.12.0 in c:\\users\\admin\\anaconda3\\lib\\site-packages (from tensorflow->keras-tcn) (1.15.0)\n",
      "Requirement already satisfied: grpcio<2.0,>=1.24.3 in c:\\users\\admin\\anaconda3\\lib\\site-packages (from tensorflow->keras-tcn) (1.43.0)\n",
      "Requirement already satisfied: flatbuffers<3.0,>=1.12 in c:\\users\\admin\\anaconda3\\lib\\site-packages (from tensorflow->keras-tcn) (2.0)\n",
      "Requirement already satisfied: libclang>=9.0.1 in c:\\users\\admin\\anaconda3\\lib\\site-packages (from tensorflow->keras-tcn) (12.0.0)\n",
      "Requirement already satisfied: tensorboard~=2.6 in c:\\users\\admin\\anaconda3\\lib\\site-packages (from tensorflow->keras-tcn) (2.7.0)\n",
      "Requirement already satisfied: keras<2.8,>=2.7.0rc0 in c:\\users\\admin\\anaconda3\\lib\\site-packages (from tensorflow->keras-tcn) (2.7.0)\n",
      "Requirement already satisfied: google-auth-oauthlib<0.5,>=0.4.1 in c:\\users\\admin\\anaconda3\\lib\\site-packages (from tensorboard~=2.6->tensorflow->keras-tcn) (0.4.6)\n",
      "Requirement already satisfied: google-auth<3,>=1.6.3 in c:\\users\\admin\\anaconda3\\lib\\site-packages (from tensorboard~=2.6->tensorflow->keras-tcn) (2.3.3)\n",
      "Requirement already satisfied: tensorboard-data-server<0.7.0,>=0.6.0 in c:\\users\\admin\\anaconda3\\lib\\site-packages (from tensorboard~=2.6->tensorflow->keras-tcn) (0.6.1)\n",
      "Requirement already satisfied: tensorboard-plugin-wit>=1.6.0 in c:\\users\\admin\\anaconda3\\lib\\site-packages (from tensorboard~=2.6->tensorflow->keras-tcn) (1.8.0)\n",
      "Requirement already satisfied: werkzeug>=0.11.15 in c:\\users\\admin\\anaconda3\\lib\\site-packages (from tensorboard~=2.6->tensorflow->keras-tcn) (1.0.1)\n",
      "Requirement already satisfied: setuptools>=41.0.0 in c:\\users\\admin\\anaconda3\\lib\\site-packages (from tensorboard~=2.6->tensorflow->keras-tcn) (52.0.0.post20210125)\n",
      "Requirement already satisfied: requests<3,>=2.21.0 in c:\\users\\admin\\anaconda3\\lib\\site-packages (from tensorboard~=2.6->tensorflow->keras-tcn) (2.25.1)\n",
      "Requirement already satisfied: markdown>=2.6.8 in c:\\users\\admin\\anaconda3\\lib\\site-packages (from tensorboard~=2.6->tensorflow->keras-tcn) (3.3.6)\n",
      "Requirement already satisfied: pyasn1-modules>=0.2.1 in c:\\users\\admin\\anaconda3\\lib\\site-packages (from google-auth<3,>=1.6.3->tensorboard~=2.6->tensorflow->keras-tcn) (0.2.8)\n",
      "Requirement already satisfied: cachetools<5.0,>=2.0.0 in c:\\users\\admin\\anaconda3\\lib\\site-packages (from google-auth<3,>=1.6.3->tensorboard~=2.6->tensorflow->keras-tcn) (4.2.4)\n",
      "Requirement already satisfied: rsa<5,>=3.1.4 in c:\\users\\admin\\anaconda3\\lib\\site-packages (from google-auth<3,>=1.6.3->tensorboard~=2.6->tensorflow->keras-tcn) (4.8)\n",
      "Requirement already satisfied: requests-oauthlib>=0.7.0 in c:\\users\\admin\\anaconda3\\lib\\site-packages (from google-auth-oauthlib<0.5,>=0.4.1->tensorboard~=2.6->tensorflow->keras-tcn) (1.3.0)\n",
      "Requirement already satisfied: importlib-metadata>=4.4 in c:\\users\\admin\\anaconda3\\lib\\site-packages (from markdown>=2.6.8->tensorboard~=2.6->tensorflow->keras-tcn) (4.10.0)\n",
      "Requirement already satisfied: zipp>=0.5 in c:\\users\\admin\\anaconda3\\lib\\site-packages (from importlib-metadata>=4.4->markdown>=2.6.8->tensorboard~=2.6->tensorflow->keras-tcn) (3.4.1)\n",
      "Requirement already satisfied: pyasn1<0.5.0,>=0.4.6 in c:\\users\\admin\\anaconda3\\lib\\site-packages (from pyasn1-modules>=0.2.1->google-auth<3,>=1.6.3->tensorboard~=2.6->tensorflow->keras-tcn) (0.4.8)\n",
      "Requirement already satisfied: certifi>=2017.4.17 in c:\\users\\admin\\anaconda3\\lib\\site-packages (from requests<3,>=2.21.0->tensorboard~=2.6->tensorflow->keras-tcn) (2020.12.5)\n",
      "Requirement already satisfied: urllib3<1.27,>=1.21.1 in c:\\users\\admin\\anaconda3\\lib\\site-packages (from requests<3,>=2.21.0->tensorboard~=2.6->tensorflow->keras-tcn) (1.26.4)\n",
      "Requirement already satisfied: idna<3,>=2.5 in c:\\users\\admin\\anaconda3\\lib\\site-packages (from requests<3,>=2.21.0->tensorboard~=2.6->tensorflow->keras-tcn) (2.10)\n",
      "Requirement already satisfied: chardet<5,>=3.0.2 in c:\\users\\admin\\anaconda3\\lib\\site-packages (from requests<3,>=2.21.0->tensorboard~=2.6->tensorflow->keras-tcn) (4.0.0)\n",
      "Requirement already satisfied: oauthlib>=3.0.0 in c:\\users\\admin\\anaconda3\\lib\\site-packages (from requests-oauthlib>=0.7.0->google-auth-oauthlib<0.5,>=0.4.1->tensorboard~=2.6->tensorflow->keras-tcn) (3.1.1)\n",
      "Requirement already satisfied: typeguard>=2.7 in c:\\users\\admin\\anaconda3\\lib\\site-packages (from tensorflow-addons->keras-tcn) (2.13.3)\n"
     ]
    }
   ],
   "source": [
    "!pip install keras-tcn"
   ]
  },
  {
   "cell_type": "code",
   "execution_count": 41,
   "id": "9c3317e6",
   "metadata": {},
   "outputs": [],
   "source": [
    "import numpy as np\n",
    "from tensorflow.keras import Model, Input\n",
    "from tensorflow.keras.layers import Dense, Dropout, Embedding\n",
    "from tensorflow.keras.preprocessing import sequence\n",
    "from tcn import compiled_tcn"
   ]
  },
  {
   "cell_type": "code",
   "execution_count": 42,
   "id": "c9a06ff2",
   "metadata": {},
   "outputs": [
    {
     "name": "stdout",
     "output_type": "stream",
     "text": [
      "x.shape= (None, 64)\n",
      "model.x = (None, 42, 1)\n",
      "model.y = (None, 2)\n"
     ]
    },
    {
     "name": "stderr",
     "output_type": "stream",
     "text": [
      "C:\\Users\\admin\\anaconda3\\lib\\site-packages\\keras\\optimizer_v2\\adam.py:105: UserWarning: The `lr` argument is deprecated, use `learning_rate` instead.\n",
      "  super(Adam, self).__init__(name, **kwargs)\n"
     ]
    }
   ],
   "source": [
    "model_TCN = compiled_tcn(return_sequences = False,num_feat = 1, num_classes = 2, nb_filters = 64,kernel_size=6,\n",
    "                    dilations=[1,2,4,8,16,32,64],nb_stacks=1, opt='adam',lr=0.002,activation = 'relu',kernel_initializer = \n",
    "                    'he_normal',use_batch_norm=True,use_layer_norm = False,use_weight_norm = False,max_len=x1_TCN[0:1].shape[1],\n",
    "                     use_skip_connections=True) "
   ]
  },
  {
   "cell_type": "code",
   "execution_count": 43,
   "id": "b522934f",
   "metadata": {},
   "outputs": [
    {
     "name": "stdout",
     "output_type": "stream",
     "text": [
      "42\n"
     ]
    }
   ],
   "source": [
    "print(x1_TCN[0:1].shape[1])"
   ]
  },
  {
   "cell_type": "code",
   "execution_count": 44,
   "id": "2f285c44",
   "metadata": {},
   "outputs": [
    {
     "name": "stdout",
     "output_type": "stream",
     "text": [
      "x_train.shape = (238682, 42, 1)\n",
      "y_train.shape = (238682, 2, 1)\n",
      "x_test.shape = (82332, 42, 1)\n",
      "y_test.shape = (82332, 2, 1)\n"
     ]
    }
   ],
   "source": [
    "print(f'x_train.shape = {x1_TCN.shape}')\n",
    "print(f'y_train.shape = {y1_TCN.shape}')\n",
    "print(f'x_test.shape = {x2_TCN.shape}')\n",
    "print(f'y_test.shape = {y2_TCN.shape}')"
   ]
  },
  {
   "cell_type": "code",
   "execution_count": 45,
   "id": "5b0cd3be",
   "metadata": {},
   "outputs": [
    {
     "name": "stdout",
     "output_type": "stream",
     "text": [
      "Model: \"model\"\n",
      "_________________________________________________________________\n",
      " Layer (type)                Output Shape              Param #   \n",
      "=================================================================\n",
      " input_1 (InputLayer)        [(None, 42, 1)]           0         \n",
      "                                                                 \n",
      " tcn (TCN)                   (None, 64)                324480    \n",
      "                                                                 \n",
      " dense_8 (Dense)             (None, 2)                 130       \n",
      "                                                                 \n",
      " activation (Activation)     (None, 2)                 0         \n",
      "                                                                 \n",
      "=================================================================\n",
      "Total params: 324,610\n",
      "Trainable params: 322,818\n",
      "Non-trainable params: 1,792\n",
      "_________________________________________________________________\n"
     ]
    }
   ],
   "source": [
    "model_TCN.summary()"
   ]
  },
  {
   "cell_type": "code",
   "execution_count": 46,
   "id": "921693aa",
   "metadata": {},
   "outputs": [],
   "source": [
    "y1_TCN = y1_TCN.squeeze().argmax(axis=1)\n",
    "y2_TCN = y2_TCN.squeeze().argmax(axis=1)"
   ]
  },
  {
   "cell_type": "code",
   "execution_count": 47,
   "id": "3f2b4124",
   "metadata": {},
   "outputs": [
    {
     "name": "stdout",
     "output_type": "stream",
     "text": [
      "Epoch 1/10\n",
      "7459/7459 [==============================] - 1536s 205ms/step - loss: 0.1380 - accuracy: 0.9333 - val_loss: 0.2139 - val_accuracy: 0.9071\n",
      "Epoch 2/10\n",
      "7459/7459 [==============================] - 1536s 206ms/step - loss: 0.1156 - accuracy: 0.9428 - val_loss: 0.2201 - val_accuracy: 0.8992\n",
      "Epoch 3/10\n",
      "7459/7459 [==============================] - 1536s 206ms/step - loss: 0.1109 - accuracy: 0.9450 - val_loss: 0.1951 - val_accuracy: 0.9099\n",
      "Epoch 4/10\n",
      "7459/7459 [==============================] - 4071s 546ms/step - loss: 0.1086 - accuracy: 0.9463 - val_loss: 0.2296 - val_accuracy: 0.8901\n",
      "Epoch 5/10\n",
      "7459/7459 [==============================] - 1601s 215ms/step - loss: 0.1069 - accuracy: 0.9471 - val_loss: 0.1824 - val_accuracy: 0.9147\n",
      "Epoch 6/10\n",
      "7459/7459 [==============================] - 1565s 210ms/step - loss: 0.1055 - accuracy: 0.9478 - val_loss: 0.2024 - val_accuracy: 0.9071\n",
      "Epoch 7/10\n",
      "7459/7459 [==============================] - 1615s 217ms/step - loss: 0.1041 - accuracy: 0.9482 - val_loss: 0.2090 - val_accuracy: 0.9055\n",
      "Epoch 8/10\n",
      "7459/7459 [==============================] - 1542s 207ms/step - loss: 0.1032 - accuracy: 0.9489 - val_loss: 0.2064 - val_accuracy: 0.9107\n",
      "Epoch 9/10\n",
      "7459/7459 [==============================] - 1699s 228ms/step - loss: 0.1028 - accuracy: 0.9493 - val_loss: 0.2082 - val_accuracy: 0.9077\n",
      "Epoch 10/10\n",
      "7459/7459 [==============================] - 1671s 224ms/step - loss: 0.1019 - accuracy: 0.9497 - val_loss: 0.1948 - val_accuracy: 0.9094\n"
     ]
    }
   ],
   "source": [
    "history = model_TCN.fit(x1_TCN, y1_TCN, epochs = 10, validation_data = [x2_TCN, y2_TCN], workers=4, use_multiprocessing=True)"
   ]
  },
  {
   "cell_type": "code",
   "execution_count": 48,
   "id": "81bc2ee4",
   "metadata": {},
   "outputs": [
    {
     "name": "stdout",
     "output_type": "stream",
     "text": [
      "2573/2573 [==============================] - 123s 48ms/step - loss: 0.1948 - accuracy: 0.9094\n",
      "Accuracy : 90.94 %\n",
      "Loss : 19.48 %\n"
     ]
    }
   ],
   "source": [
    "result = model_TCN.evaluate(x2_TCN, y2_TCN)\n",
    "print(f\"Accuracy : {result[1] * 100:.2f} %\")\n",
    "print(f\"Loss : {result[0] * 100:.2f} %\")"
   ]
  },
  {
   "cell_type": "code",
   "execution_count": 50,
   "id": "66dcfa46",
   "metadata": {},
   "outputs": [
    {
     "name": "stdout",
     "output_type": "stream",
     "text": [
      "[1 1 1 ... 0 0 0]\n",
      "[1 1 1 ... 0 0 0]\n"
     ]
    }
   ],
   "source": [
    "y_pred_TCN = model_TCN.predict(x2_TCN, verbose=0)\n",
    "print(np.argmax(y_pred_TCN, axis=1))\n",
    "y_pred_class_TCN=np.argmax(y_pred_TCN,axis=1)\n",
    "print(y_pred_class_TCN)"
   ]
  },
  {
   "cell_type": "code",
   "execution_count": 51,
   "id": "1d1e5dd4",
   "metadata": {},
   "outputs": [
    {
     "name": "stdout",
     "output_type": "stream",
     "text": [
      "ROC AUC: 0.903312\n"
     ]
    }
   ],
   "source": [
    "# ROC AUC\n",
    "from sklearn.metrics import roc_auc_score\n",
    "auc = roc_auc_score(y2_TCN, y_pred_class_TCN)\n",
    "print('ROC AUC: %f' % auc)"
   ]
  },
  {
   "cell_type": "code",
   "execution_count": 52,
   "id": "93109700",
   "metadata": {},
   "outputs": [
    {
     "data": {
      "image/png": "[encoded data removed]",
      "text/plain": [
       "<Figure size 432x288 with 1 Axes>"
      ]
     },
     "metadata": {
      "needs_background": "light"
     },
     "output_type": "display_data"
    }
   ],
   "source": [
    "fpr, tpr, _ = metrics.roc_curve(y2,  y_pred_class_TCN)\n",
    "#create ROC curve\n",
    "plt.plot(fpr,tpr)\n",
    "plt.ylabel('True Positive Rate')\n",
    "plt.xlabel('False Positive Rate')\n",
    "plt.show()"
   ]
  },
  {
   "cell_type": "code",
   "execution_count": 53,
   "id": "3013c1b3",
   "metadata": {},
   "outputs": [
    {
     "name": "stdout",
     "output_type": "stream",
     "text": [
      "Accuracy with TCN classifier model =  90.93912452023515\n",
      "Confusion Matrix = [[31200  1660]\n",
      " [ 5800 43672]]\n",
      "Recall = 0.9093912452023515\n",
      "Precision = 0.9154322918826371\n",
      "Classification Report =\n",
      "               precision    recall  f1-score   support\n",
      "\n",
      "           0       0.84      0.95      0.89     32860\n",
      "           1       0.96      0.88      0.92     49472\n",
      "\n",
      "    accuracy                           0.91     82332\n",
      "   macro avg       0.90      0.92      0.91     82332\n",
      "weighted avg       0.92      0.91      0.91     82332\n",
      "\n",
      "F1 Score =  0.9072631692529096\n"
     ]
    }
   ],
   "source": [
    "from sklearn import metrics\n",
    "from sklearn.metrics import f1_score\n",
    "print('Accuracy with TCN classifier model = ', metrics.accuracy_score(y_pred_class_TCN, y2_TCN)*100)\n",
    "print(\"Confusion Matrix =\", metrics.confusion_matrix(y_pred_class_TCN, y2_TCN, labels=None, \n",
    "                                              sample_weight=None))\n",
    "print(\"Recall =\", metrics.recall_score(y_pred_class_TCN, y2_TCN, labels=None, \n",
    "                                             pos_label=1, average='weighted', \n",
    "                                             sample_weight=None))\n",
    "print(\"Precision =\", metrics.precision_score(y_pred_class_TCN, y2_TCN, labels=None, \n",
    "                                             pos_label=1, average='weighted', \n",
    "                                             sample_weight=None))\n",
    "print(\"Classification Report =\\n\", metrics.classification_report(y_pred_class_TCN, y2_TCN, \n",
    "                                                                 labels=None, \n",
    "                                                                 target_names=None, \n",
    "                                                                 sample_weight=None, \n",
    "                                                                 digits=2, \n",
    "                                                                 output_dict=False))\n",
    "print(\"F1 Score = \",f1_score(y_pred_class_TCN, y2_TCN, average='macro'))"
   ]
  },
  {
   "cell_type": "code",
   "execution_count": 54,
   "id": "4b7d0788",
   "metadata": {},
   "outputs": [
    {
     "data": {
      "text/plain": [
       "<AxesSubplot:>"
      ]
     },
     "execution_count": 54,
     "metadata": {},
     "output_type": "execute_result"
    },
    {
     "data": {
      "image/png": "[encoded data removed]",
      "text/plain": [
       "<Figure size 432x288 with 2 Axes>"
      ]
     },
     "metadata": {
      "needs_background": "light"
     },
     "output_type": "display_data"
    }
   ],
   "source": [
    "cm_TCN = metrics.confusion_matrix(y_pred_class_TCN, y2, labels=None, \n",
    "                                              sample_weight=None)\n",
    "import seaborn as sns\n",
    "sns.heatmap(cm_TCN, annot=True)"
   ]
  },
  {
   "cell_type": "code",
   "execution_count": 55,
   "id": "da1148da",
   "metadata": {},
   "outputs": [
    {
     "data": {
      "text/plain": [
       "<AxesSubplot:>"
      ]
     },
     "execution_count": 55,
     "metadata": {},
     "output_type": "execute_result"
    },
    {
     "data": {
      "image/png": "[encoded data removed]",
      "text/plain": [
       "<Figure size 432x288 with 2 Axes>"
      ]
     },
     "metadata": {
      "needs_background": "light"
     },
     "output_type": "display_data"
    }
   ],
   "source": [
    "sns.heatmap(cm_TCN/np.sum(cm_TCN), annot=True, \n",
    "            fmt='.2%', cmap='Blues')"
   ]
  },
  {
   "cell_type": "code",
   "execution_count": 191,
   "id": "d83b86d1",
   "metadata": {},
   "outputs": [
    {
     "name": "stdout",
     "output_type": "stream",
     "text": [
      "X train shape:  (238682, 42)\n",
      "X test shape:  (82332, 42)\n",
      "Y train shape:  (238682,)\n",
      "Y test shape:  (82332,)\n"
     ]
    }
   ],
   "source": [
    "# 5. TabNet CLASSIFIER MODEL\n",
    "\n",
    "print(\"X train shape: \", x1.shape)\n",
    "print(\"X test shape: \", x2.shape)\n",
    "print(\"Y train shape: \", y1.shape)\n",
    "print(\"Y test shape: \", y2.shape)"
   ]
  },
  {
   "cell_type": "code",
   "execution_count": 192,
   "id": "30fe631d",
   "metadata": {},
   "outputs": [
    {
     "name": "stdout",
     "output_type": "stream",
     "text": [
      "Requirement already satisfied: pytorch-tabnet in c:\\users\\admin\\anaconda3\\lib\\site-packages (3.1.1)\n",
      "Requirement already satisfied: torch<2.0,>=1.2 in c:\\users\\admin\\anaconda3\\lib\\site-packages (from pytorch-tabnet) (1.11.0)\n",
      "Requirement already satisfied: tqdm<5.0,>=4.36 in c:\\users\\admin\\anaconda3\\lib\\site-packages (from pytorch-tabnet) (4.59.0)\n",
      "Requirement already satisfied: scipy>1.4 in c:\\users\\admin\\anaconda3\\lib\\site-packages (from pytorch-tabnet) (1.6.2)\n",
      "Requirement already satisfied: scikit_learn>0.21 in c:\\users\\admin\\anaconda3\\lib\\site-packages (from pytorch-tabnet) (0.24.1)\n",
      "Requirement already satisfied: numpy<2.0,>=1.17 in c:\\users\\admin\\anaconda3\\lib\\site-packages (from pytorch-tabnet) (1.20.1)\n",
      "Requirement already satisfied: joblib>=0.11 in c:\\users\\admin\\anaconda3\\lib\\site-packages (from scikit_learn>0.21->pytorch-tabnet) (1.0.1)\n",
      "Requirement already satisfied: threadpoolctl>=2.0.0 in c:\\users\\admin\\anaconda3\\lib\\site-packages (from scikit_learn>0.21->pytorch-tabnet) (2.1.0)\n",
      "Requirement already satisfied: typing-extensions in c:\\users\\admin\\anaconda3\\lib\\site-packages (from torch<2.0,>=1.2->pytorch-tabnet) (3.7.4.3)\n"
     ]
    }
   ],
   "source": [
    "!pip install pytorch-tabnet\n",
    "from pytorch_tabnet.tab_model import TabNetClassifier\n",
    "import torch"
   ]
  },
  {
   "cell_type": "code",
   "execution_count": 228,
   "id": "1f7edea4",
   "metadata": {},
   "outputs": [
    {
     "name": "stdout",
     "output_type": "stream",
     "text": [
      "Device used : cpu\n"
     ]
    }
   ],
   "source": [
    "# define the model\n",
    "model_tabnet = TabNetClassifier(optimizer_fn=torch.optim.Adam,\n",
    "                       optimizer_params=dict(lr=5e-2),\n",
    "                       scheduler_params={\"step_size\":10,\"gamma\":0.9},\n",
    "                       scheduler_fn=torch.optim.lr_scheduler.StepLR,\n",
    "                       mask_type='entmax')"
   ]
  },
  {
   "cell_type": "code",
   "execution_count": 229,
   "id": "00e9dad4",
   "metadata": {},
   "outputs": [
    {
     "name": "stdout",
     "output_type": "stream",
     "text": [
      "epoch 0  | loss: 0.16036 | train_auc: 0.9888  | train_accuracy: 0.93356 | valid_auc: 0.9623  | valid_accuracy: 0.87897 |  0:02:58s\n",
      "epoch 1  | loss: 0.13573 | train_auc: 0.98917 | train_accuracy: 0.93264 | valid_auc: 0.96544 | valid_accuracy: 0.88091 |  0:04:51s\n",
      "epoch 2  | loss: 0.12792 | train_auc: 0.9899  | train_accuracy: 0.93757 | valid_auc: 0.96531 | valid_accuracy: 0.85935 |  0:06:42s\n",
      "epoch 3  | loss: 0.12862 | train_auc: 0.98928 | train_accuracy: 0.93625 | valid_auc: 0.96534 | valid_accuracy: 0.85933 |  0:08:33s\n",
      "epoch 4  | loss: 0.12427 | train_auc: 0.99069 | train_accuracy: 0.93735 | valid_auc: 0.96856 | valid_accuracy: 0.88695 |  0:10:22s\n",
      "epoch 5  | loss: 0.12147 | train_auc: 0.99058 | train_accuracy: 0.94044 | valid_auc: 0.97514 | valid_accuracy: 0.88801 |  0:12:14s\n",
      "epoch 6  | loss: 0.11984 | train_auc: 0.99145 | train_accuracy: 0.93995 | valid_auc: 0.97858 | valid_accuracy: 0.90799 |  0:14:05s\n",
      "epoch 7  | loss: 0.11932 | train_auc: 0.99144 | train_accuracy: 0.94424 | valid_auc: 0.97962 | valid_accuracy: 0.90368 |  0:15:57s\n",
      "epoch 8  | loss: 0.11659 | train_auc: 0.99142 | train_accuracy: 0.94384 | valid_auc: 0.9787  | valid_accuracy: 0.8979  |  0:17:48s\n",
      "epoch 9  | loss: 0.1155  | train_auc: 0.99183 | train_accuracy: 0.94397 | valid_auc: 0.98398 | valid_accuracy: 0.89134 |  0:19:40s\n",
      "epoch 10 | loss: 0.11377 | train_auc: 0.99213 | train_accuracy: 0.94671 | valid_auc: 0.98268 | valid_accuracy: 0.90317 |  0:21:31s\n",
      "epoch 11 | loss: 0.12047 | train_auc: 0.99197 | train_accuracy: 0.94593 | valid_auc: 0.98167 | valid_accuracy: 0.90652 |  0:27:37s\n",
      "epoch 12 | loss: 0.11336 | train_auc: 0.9922  | train_accuracy: 0.94738 | valid_auc: 0.98266 | valid_accuracy: 0.90088 |  0:29:42s\n",
      "epoch 13 | loss: 0.11337 | train_auc: 0.99208 | train_accuracy: 0.94621 | valid_auc: 0.98443 | valid_accuracy: 0.89174 |  0:31:40s\n",
      "epoch 14 | loss: 0.11307 | train_auc: 0.99225 | train_accuracy: 0.94651 | valid_auc: 0.98409 | valid_accuracy: 0.90662 |  0:33:39s\n",
      "epoch 15 | loss: 0.11229 | train_auc: 0.99221 | train_accuracy: 0.94597 | valid_auc: 0.9842  | valid_accuracy: 0.90881 |  0:35:32s\n",
      "epoch 16 | loss: 0.1155  | train_auc: 0.99234 | train_accuracy: 0.94735 | valid_auc: 0.98285 | valid_accuracy: 0.91067 |  0:37:26s\n",
      "epoch 17 | loss: 0.11032 | train_auc: 0.99225 | train_accuracy: 0.94624 | valid_auc: 0.98327 | valid_accuracy: 0.90785 |  0:39:20s\n",
      "epoch 18 | loss: 0.11228 | train_auc: 0.99223 | train_accuracy: 0.94476 | valid_auc: 0.9834  | valid_accuracy: 0.92092 |  0:41:11s\n",
      "epoch 19 | loss: 0.11049 | train_auc: 0.99243 | train_accuracy: 0.94593 | valid_auc: 0.9821  | valid_accuracy: 0.91761 |  0:43:02s\n",
      "Stop training because you reached max_epochs = 20 with best_epoch = 18 and best_valid_accuracy = 0.92092\n",
      "Best weights from best epoch are automatically used!\n"
     ]
    }
   ],
   "source": [
    "# fit the model \n",
    "model_tabnet.fit(x1,y1, eval_set=[(x1, y1), (x2, y2)],eval_name=['train', 'valid'],\n",
    "                   eval_metric=['auc','accuracy'],\n",
    "                   max_epochs=20 , patience=50, batch_size=256, virtual_batch_size=128, num_workers=0, weights=1,\n",
    "                   drop_last=False)   "
   ]
  },
  {
   "cell_type": "code",
   "execution_count": 256,
   "id": "de1d55a3",
   "metadata": {},
   "outputs": [
    {
     "data": {
      "text/plain": [
       "Text(0, 0.5, 'Feature index')"
      ]
     },
     "execution_count": 256,
     "metadata": {},
     "output_type": "execute_result"
    },
    {
     "data": {
      "image/png": "[encoded data removed]",
      "text/plain": [
       "<Figure size 576x576 with 1 Axes>"
      ]
     },
     "metadata": {
      "needs_background": "light"
     },
     "output_type": "display_data"
    }
   ],
   "source": [
    "# find and plot feature importance\n",
    "from IPython.core.pylabtools import figsize\n",
    "figsize(8, 8)\n",
    "model_tabnet.feature_importances_\n",
    "feat_importances = pd.Series(model_tabnet.feature_importances_)\n",
    "feat_importances.nlargest(10).plot(kind='barh')\n",
    "plt.title(\"Feature importance graph (UNSW NB15 Dataset) - TabNet\")\n",
    "plt.xlabel(\"Feature score\")\n",
    "plt.ylabel(\"Feature index\")"
   ]
  },
  {
   "cell_type": "code",
   "execution_count": 231,
   "id": "29c34133",
   "metadata": {},
   "outputs": [
    {
     "name": "stdout",
     "output_type": "stream",
     "text": [
      "[1 1 0 ... 0 0 1]\n"
     ]
    }
   ],
   "source": [
    "y_pred_TabNet = model_tabnet.predict(x2)\n",
    "print(y_pred_TabNet)"
   ]
  },
  {
   "cell_type": "code",
   "execution_count": 232,
   "id": "1fbfb9a4",
   "metadata": {},
   "outputs": [
    {
     "name": "stdout",
     "output_type": "stream",
     "text": [
      "ROC AUC: 0.916144\n"
     ]
    }
   ],
   "source": [
    "# ROC AUC\n",
    "from sklearn.metrics import roc_auc_score\n",
    "auc = roc_auc_score(y2, y_pred_TabNet)\n",
    "print('ROC AUC: %f' % auc)"
   ]
  },
  {
   "cell_type": "code",
   "execution_count": 270,
   "id": "c716e6d6",
   "metadata": {},
   "outputs": [
    {
     "data": {
      "image/png": "[encoded data removed]",
      "text/plain": [
       "<Figure size 432x360 with 1 Axes>"
      ]
     },
     "metadata": {
      "needs_background": "light"
     },
     "output_type": "display_data"
    }
   ],
   "source": [
    "figsize(6, 5)\n",
    "fpr, tpr, _ = metrics.roc_curve(y2,  y_pred_TabNet)\n",
    "#create ROC curve\n",
    "plt.plot(fpr,tpr)\n",
    "plt.ylabel('True Positive Rate')\n",
    "plt.xlabel('False Positive Rate')\n",
    "plt.show()"
   ]
  },
  {
   "cell_type": "code",
   "execution_count": 234,
   "id": "497cb009",
   "metadata": {},
   "outputs": [
    {
     "name": "stdout",
     "output_type": "stream",
     "text": [
      "Accuracy in TabNet classifier model: 92.09177476558324\n",
      "Confusion Matrix = [[32152  1663]\n",
      " [ 4848 43669]]\n",
      "Recall = 0.9209177476558325\n",
      "Precision = 0.924567357365638\n",
      "Classification Report =\n",
      "               precision    recall  f1-score   support\n",
      "\n",
      "           0       0.87      0.95      0.91     33815\n",
      "           1       0.96      0.90      0.93     48517\n",
      "\n",
      "    accuracy                           0.92     82332\n",
      "   macro avg       0.92      0.93      0.92     82332\n",
      "weighted avg       0.92      0.92      0.92     82332\n",
      "\n",
      "F1 Score =  0.9193393993269945\n"
     ]
    }
   ],
   "source": [
    "from sklearn.metrics import accuracy_score\n",
    "from sklearn import metrics\n",
    "from sklearn.metrics import f1_score\n",
    "test_acc = accuracy_score(y_pred_TabNet, y2)\n",
    "print(\"Accuracy in TabNet classifier model:\",test_acc*100)\n",
    "print(\"Confusion Matrix =\", metrics.confusion_matrix(y_pred_TabNet, y2, labels=None, \n",
    "                                              sample_weight=None))\n",
    "print(\"Recall =\", metrics.recall_score(y_pred_TabNet, y2, labels=None, \n",
    "                                             pos_label=1, average='weighted', \n",
    "                                             sample_weight=None))\n",
    "print(\"Precision =\", metrics.precision_score(y_pred_TabNet, y2, labels=None, \n",
    "                                             pos_label=1, average='weighted', \n",
    "                                             sample_weight=None))\n",
    "print(\"Classification Report =\\n\", metrics.classification_report(y_pred_TabNet, y2, \n",
    "                                                                 labels=None, \n",
    "                                                                 target_names=None, \n",
    "                                                                 sample_weight=None, \n",
    "                                                                 digits=2, \n",
    "                                                                 output_dict=False))\n",
    "print(\"F1 Score = \",f1_score(y_pred_TabNet, y2, average='macro'))"
   ]
  },
  {
   "cell_type": "code",
   "execution_count": 251,
   "id": "915afa7c",
   "metadata": {},
   "outputs": [
    {
     "data": {
      "text/plain": [
       "<AxesSubplot:>"
      ]
     },
     "execution_count": 251,
     "metadata": {},
     "output_type": "execute_result"
    },
    {
     "data": {
      "image/png": "[encoded data removed]",
      "text/plain": [
       "<Figure size 432x360 with 2 Axes>"
      ]
     },
     "metadata": {
      "needs_background": "light"
     },
     "output_type": "display_data"
    }
   ],
   "source": [
    "figsize(6, 5)\n",
    "cm_TabNet = metrics.confusion_matrix(y_pred_TabNet, y2, labels=None, \n",
    "                                              sample_weight=None)\n",
    "import seaborn as sns\n",
    "sns.heatmap(cm_TabNet, annot=True)"
   ]
  },
  {
   "cell_type": "code",
   "execution_count": 252,
   "id": "49f744b1",
   "metadata": {},
   "outputs": [
    {
     "data": {
      "text/plain": [
       "<AxesSubplot:>"
      ]
     },
     "execution_count": 252,
     "metadata": {},
     "output_type": "execute_result"
    },
    {
     "data": {
      "image/png": "[encoded data removed]",
      "text/plain": [
       "<Figure size 432x360 with 2 Axes>"
      ]
     },
     "metadata": {
      "needs_background": "light"
     },
     "output_type": "display_data"
    }
   ],
   "source": [
    "figsize(6, 5)\n",
    "sns.heatmap(cm_TabNet/np.sum(cm_TabNet), annot=True, \n",
    "            fmt='.2%', cmap='Blues')"
   ]
  },
  {
   "cell_type": "code",
   "execution_count": 237,
   "id": "bd0b5296",
   "metadata": {},
   "outputs": [
    {
     "name": "stdout",
     "output_type": "stream",
     "text": [
      "Number of selected features=42\n",
      "Accuracy result of all models:\n",
      "Accuracy in XGBoost classifier model =  90.1229169703153\n",
      "Accuracy in DNN classifier model =  75.08016324150998\n",
      "Accuracy in CNN classifier model =  78.67657775834427\n",
      "Accuracy in TCN classifier model =  90.93912452023515\n",
      "Accuracy in TabNet classifier model: 92.09177476558324\n"
     ]
    }
   ],
   "source": [
    "print(\"Number of selected features=%d\" % (x1.shape[1]))\n",
    "print('Accuracy result of all models:')\n",
    "print('Accuracy in XGBoost classifier model = ', metrics.accuracy_score(y2, y_pred_xgb)*100)\n",
    "print('Accuracy in DNN classifier model = ', metrics.accuracy_score(y_predicted_class_DNN, y2)*100)\n",
    "print('Accuracy in CNN classifier model = ', metrics.accuracy_score(y_predicted_class_CNN, y2)*100)\n",
    "print('Accuracy in TCN classifier model = ', metrics.accuracy_score(y_pred_class_TCN, y2_TCN)*100)\n",
    "print(\"Accuracy in TabNet classifier model:\",test_acc*100)"
   ]
  },
  {
   "cell_type": "code",
   "execution_count": 272,
   "id": "54804e19",
   "metadata": {},
   "outputs": [
    {
     "data": {
      "image/png": "[encoded data removed]",
      "text/plain": [
       "<Figure size 360x360 with 1 Axes>"
      ]
     },
     "metadata": {
      "needs_background": "light"
     },
     "output_type": "display_data"
    }
   ],
   "source": [
    "data = {'XGBoost':90.1, 'DNN':75.1, 'CNN':78.7,\n",
    "        'TCN':90.9, 'TabNet':92.1}\n",
    "Classifier_model = list(data.keys())\n",
    "Classifier_accuracy = list(data.values())\n",
    "  \n",
    "fig = plt.figure(figsize = (5, 5))\n",
    " \n",
    "# creating the bar plot\n",
    "plt.bar(Classifier_model, Classifier_accuracy, color ='blue',\n",
    "        width = 0.3)\n",
    "plt.ylim(0, 100)\n",
    "plt.xlabel(\"Classifier\")\n",
    "plt.ylabel(\"Accuracy (%)\")\n",
    "plt.title(\"Comparative analysis before feature selection (UNSW NB15 Dataset)\")\n",
    "plt.show()"
   ]
  },
  {
   "cell_type": "code",
   "execution_count": 274,
   "id": "2c0486e1",
   "metadata": {},
   "outputs": [
    {
     "data": {
      "text/plain": [
       "<matplotlib.legend.Legend at 0x1c1210661f0>"
      ]
     },
     "execution_count": 274,
     "metadata": {},
     "output_type": "execute_result"
    },
    {
     "data": {
      "image/png": "[encoded data removed]",
      "text/plain": [
       "<Figure size 432x432 with 1 Axes>"
      ]
     },
     "metadata": {
      "needs_background": "light"
     },
     "output_type": "display_data"
    }
   ],
   "source": [
    "figsize(6, 6)\n",
    "#set up plotting area\n",
    "plt.figure(0).clf()\n",
    "\n",
    "fpr, tpr, _ = metrics.roc_curve(y2,  y_pred_xgb)\n",
    "auc = roc_auc_score(y2, y_pred_xgb)\n",
    "plt.plot(fpr,tpr,label=\"XGBoost, AUC=\"+str(auc))\n",
    "\n",
    "fpr, tpr, _ = metrics.roc_curve(y2,  y_predicted_class_DNN)\n",
    "auc = roc_auc_score(y2, y_predicted_class_DNN)\n",
    "plt.plot(fpr,tpr,label=\"DNN, AUC=\"+str(auc))\n",
    "\n",
    "fpr, tpr, _ = metrics.roc_curve(y2,  y_predicted_class_CNN)\n",
    "auc = roc_auc_score(y2, y_predicted_class_CNN)\n",
    "plt.plot(fpr,tpr,label=\"CNN, AUC=\"+str(auc))\n",
    "\n",
    "fpr, tpr, _ = metrics.roc_curve(y2,  y_pred_class_TCN)\n",
    "auc = roc_auc_score(y2, y_pred_class_TCN)\n",
    "plt.plot(fpr,tpr,label=\"TCN, AUC=\"+str(auc))\n",
    "\n",
    "#add legend\n",
    "plt.title(\"ROC curve (UNSW NB15 Dataset)\")\n",
    "plt.legend()"
   ]
  },
  {
   "cell_type": "code",
   "execution_count": 266,
   "id": "0f5976e7",
   "metadata": {},
   "outputs": [
    {
     "data": {
      "text/plain": [
       "<matplotlib.legend.Legend at 0x1c120b1c640>"
      ]
     },
     "execution_count": 266,
     "metadata": {},
     "output_type": "execute_result"
    },
    {
     "data": {
      "image/png": "[encoded data removed]",
      "text/plain": [
       "<Figure size 432x432 with 1 Axes>"
      ]
     },
     "metadata": {
      "needs_background": "light"
     },
     "output_type": "display_data"
    }
   ],
   "source": [
    "fpr, tpr, _ = metrics.roc_curve(y2,  y_pred_TabNet)\n",
    "auc = roc_auc_score(y2, y_pred_TabNet)\n",
    "plt.plot(fpr,tpr,label=\"TabNet, AUC=\"+str(auc))\n",
    "#add legend\n",
    "plt.title(\"ROC curve of proposed model (UNSW NB15 Dataset)\")\n",
    "plt.legend()"
   ]
  },
  {
   "cell_type": "code",
   "execution_count": 275,
   "id": "6cab62db",
   "metadata": {},
   "outputs": [
    {
     "data": {
      "text/plain": [
       "<matplotlib.legend.Legend at 0x1c120f23df0>"
      ]
     },
     "execution_count": 275,
     "metadata": {},
     "output_type": "execute_result"
    },
    {
     "data": {
      "image/png": "[encoded data removed]",
      "text/plain": [
       "<Figure size 432x360 with 1 Axes>"
      ]
     },
     "metadata": {
      "needs_background": "light"
     },
     "output_type": "display_data"
    }
   ],
   "source": [
    "figsize(6, 5)\n",
    "#set up plotting area\n",
    "plt.figure(0).clf()\n",
    "\n",
    "fpr, tpr, _ = metrics.roc_curve(y2,  y_pred_xgb)\n",
    "auc = roc_auc_score(y2, y_pred_xgb)\n",
    "plt.plot(fpr,tpr,label=\"XGBoost, AUC=\"+str(auc))\n",
    "\n",
    "fpr, tpr, _ = metrics.roc_curve(y2,  y_predicted_class_DNN)\n",
    "auc = roc_auc_score(y2, y_predicted_class_DNN)\n",
    "plt.plot(fpr,tpr,label=\"DNN, AUC=\"+str(auc))\n",
    "\n",
    "fpr, tpr, _ = metrics.roc_curve(y2,  y_predicted_class_CNN)\n",
    "auc = roc_auc_score(y2, y_predicted_class_CNN)\n",
    "plt.plot(fpr,tpr,label=\"CNN, AUC=\"+str(auc))\n",
    "\n",
    "fpr, tpr, _ = metrics.roc_curve(y2,  y_pred_class_TCN)\n",
    "auc = roc_auc_score(y2, y_pred_class_TCN)\n",
    "plt.plot(fpr,tpr,label=\"TCN, AUC=\"+str(auc))\n",
    "\n",
    "fpr, tpr, _ = metrics.roc_curve(y2,  y_pred_TabNet)\n",
    "auc = roc_auc_score(y2, y_pred_TabNet)\n",
    "plt.plot(fpr,tpr,label=\"TabNet, AUC=\"+str(auc))\n",
    "\n",
    "#add legend\n",
    "plt.title(\"ROC curve (UNSW NB15 Dataset)\")\n",
    "plt.legend()"
   ]
  },
  {
   "cell_type": "code",
   "execution_count": 273,
   "id": "ffe7ecd1",
   "metadata": {},
   "outputs": [
    {
     "data": {
      "image/png": "[encoded data removed]",
      "text/plain": [
       "<Figure size 720x576 with 1 Axes>"
      ]
     },
     "metadata": {
      "needs_background": "light"
     },
     "output_type": "display_data"
    }
   ],
   "source": [
    "from IPython.core.pylabtools import figsize\n",
    "figsize(10, 8)\n",
    "# Import Library\n",
    "import numpy as np \n",
    "import matplotlib.pyplot as plt \n",
    "\n",
    "# Define Data\n",
    "data3 = ['Before feature extraction','XGBoost feature extraction','Autoencoder feature extraction']\n",
    "xvals = [90.1,90.5,85.32]\n",
    "yvals = [75.1,78.7,81.03]\n",
    "zvals = [78.7,80.9,85.10]\n",
    "avals = [90.9,89.7,89.00]\n",
    "bvals = [92.1,93.2,89.30]\n",
    "\n",
    "x_axis = np.arange(len(data3))\n",
    "\n",
    "# Multi bar Chart\n",
    "plt.bar(x_axis +0.1, xvals, width=0.1, label = 'XGBoost')\n",
    "plt.bar(x_axis +0.1*2, yvals, width=0.1, label = 'DNN')\n",
    "plt.bar(x_axis +0.1*3, zvals, width=0.1, label = 'CNN')\n",
    "plt.bar(x_axis +0.1*4, avals, width=0.1, label = 'TCN')\n",
    "plt.bar(x_axis +0.1*5, bvals, width=0.1, label = 'TabNet')\n",
    "\n",
    "# Xticks\n",
    "plt.xticks(x_axis,data3)\n",
    "plt.ylabel(\"Accuracy (%)\")\n",
    "plt.xlabel(\"Experiments on classification\")\n",
    "plt.title(\"Comparitive analysis of different experiments (UNSW NB15 Dataset)\")\n",
    "plt.legend()\n",
    "plt.show()"
   ]
  },
  {
   "cell_type": "code",
   "execution_count": null,
   "id": "a0cad762",
   "metadata": {},
   "outputs": [],
   "source": []
  }
 ],
 "metadata": {
  "kernelspec": {
   "display_name": "Python 3",
   "language": "python",
   "name": "python3"
  },
  "language_info": {
   "codemirror_mode": {
    "name": "ipython",
    "version": 3
   },
   "file_extension": ".py",
   "mimetype": "text/x-python",
   "name": "python",
   "nbconvert_exporter": "python",
   "pygments_lexer": "ipython3",
   "version": "3.8.8"
  }
 },
 "nbformat": 4,
 "nbformat_minor": 5
}
