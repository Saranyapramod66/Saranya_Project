{
 "cells": [
  {
   "cell_type": "code",
   "execution_count": 1,
   "id": "3de84f4c",
   "metadata": {},
   "outputs": [],
   "source": [
    "import numpy as np\n",
    "import pandas as pd\n",
    "train = pd.read_csv('NSL_KDD_bayesian_enc_training_set.csv')\n",
    "test = pd.read_csv('NSL_KDD_bayesian_enc_testing_set.csv')"
   ]
  },
  {
   "cell_type": "code",
   "execution_count": 2,
   "id": "63dbb67f",
   "metadata": {},
   "outputs": [
    {
     "name": "stdout",
     "output_type": "stream",
     "text": [
      "        src_bytes  dst_bytes  land  wrong_fragment  urgent  hot  \\\n",
      "0             491          0     0               0       0    0   \n",
      "1             146          0     0               0       0    0   \n",
      "2               0          0     0               0       0    0   \n",
      "3             232       8153     0               0       0    0   \n",
      "4             199        420     0               0       0    0   \n",
      "...           ...        ...   ...             ...     ...  ...   \n",
      "125968          0          0     0               0       0    0   \n",
      "125969        105        145     0               0       0    0   \n",
      "125970       2231        384     0               0       0    0   \n",
      "125971          0          0     0               0       0    0   \n",
      "125972        151          0     0               0       0    0   \n",
      "\n",
      "        num_failed_logins  logged_in  num_compromised  root_shell  ...  \\\n",
      "0                       0          0                0           0  ...   \n",
      "1                       0          0                0           0  ...   \n",
      "2                       0          0                0           0  ...   \n",
      "3                       0          1                0           0  ...   \n",
      "4                       0          1                0           0  ...   \n",
      "...                   ...        ...              ...         ...  ...   \n",
      "125968                  0          0                0           0  ...   \n",
      "125969                  0          0                0           0  ...   \n",
      "125970                  0          1                0           0  ...   \n",
      "125971                  0          0                0           0  ...   \n",
      "125972                  0          1                0           0  ...   \n",
      "\n",
      "        dst_host_diff_srv_rate  dst_host_same_src_port_rate  \\\n",
      "0                         0.03                         0.17   \n",
      "1                         0.60                         0.88   \n",
      "2                         0.05                         0.00   \n",
      "3                         0.00                         0.03   \n",
      "4                         0.00                         0.00   \n",
      "...                        ...                          ...   \n",
      "125968                    0.06                         0.00   \n",
      "125969                    0.01                         0.01   \n",
      "125970                    0.06                         0.00   \n",
      "125971                    0.05                         0.00   \n",
      "125972                    0.03                         0.30   \n",
      "\n",
      "        dst_host_srv_diff_host_rate  dst_host_serror_rate  \\\n",
      "0                              0.00                  0.00   \n",
      "1                              0.00                  0.00   \n",
      "2                              0.00                  1.00   \n",
      "3                              0.04                  0.03   \n",
      "4                              0.00                  0.00   \n",
      "...                             ...                   ...   \n",
      "125968                         0.00                  1.00   \n",
      "125969                         0.00                  0.00   \n",
      "125970                         0.00                  0.72   \n",
      "125971                         0.00                  1.00   \n",
      "125972                         0.00                  0.00   \n",
      "\n",
      "        dst_host_srv_serror_rate  dst_host_rerror_rate  \\\n",
      "0                           0.00                  0.05   \n",
      "1                           0.00                  0.00   \n",
      "2                           1.00                  0.00   \n",
      "3                           0.01                  0.00   \n",
      "4                           0.00                  0.00   \n",
      "...                          ...                   ...   \n",
      "125968                      1.00                  0.00   \n",
      "125969                      0.00                  0.00   \n",
      "125970                      0.00                  0.01   \n",
      "125971                      1.00                  0.00   \n",
      "125972                      0.00                  0.00   \n",
      "\n",
      "        dst_host_srv_rerror_rate  protocol_type   service      flag  \n",
      "0                           0.00       0.494592  0.312151  0.187263  \n",
      "1                           0.00       0.193255  0.486434  0.187263  \n",
      "2                           0.00       0.494592  0.931123  0.990397  \n",
      "3                           0.01       0.494592  0.071984  0.187263  \n",
      "4                           0.00       0.494592  0.071984  0.187263  \n",
      "...                          ...            ...       ...       ...  \n",
      "125968                      0.00       0.494592  0.931123  0.990397  \n",
      "125969                      0.00       0.193255  0.931123  0.187263  \n",
      "125970                      0.00       0.494592  0.072754  0.187263  \n",
      "125971                      0.00       0.494592  1.000000  0.990397  \n",
      "125972                      0.00       0.494592  0.312151  0.187263  \n",
      "\n",
      "[125973 rows x 40 columns]\n",
      "0         0\n",
      "1         0\n",
      "2         1\n",
      "3         0\n",
      "4         0\n",
      "         ..\n",
      "125968    1\n",
      "125969    0\n",
      "125970    0\n",
      "125971    1\n",
      "125972    0\n",
      "Name: label, Length: 125973, dtype: int64\n"
     ]
    }
   ],
   "source": [
    "x1 = train.iloc[:,1:41]\n",
    "y1 = train['label']\n",
    "print(x1)\n",
    "print(y1)"
   ]
  },
  {
   "cell_type": "code",
   "execution_count": 3,
   "id": "d8a38484",
   "metadata": {},
   "outputs": [
    {
     "name": "stdout",
     "output_type": "stream",
     "text": [
      "       src_bytes  dst_bytes  land  wrong_fragment  urgent  hot  \\\n",
      "0              0          0     0               0       0    0   \n",
      "1              0          0     0               0       0    0   \n",
      "2          12983          0     0               0       0    0   \n",
      "3             20          0     0               0       0    0   \n",
      "4              0         15     0               0       0    0   \n",
      "...          ...        ...   ...             ...     ...  ...   \n",
      "22539        794        333     0               0       0    0   \n",
      "22540        317        938     0               0       0    0   \n",
      "22541      54540       8314     0               0       0    2   \n",
      "22542         42         42     0               0       0    0   \n",
      "22543          0          0     0               0       0    0   \n",
      "\n",
      "       num_failed_logins  logged_in  num_compromised  root_shell  ...  \\\n",
      "0                      0          0                0           0  ...   \n",
      "1                      0          0                0           0  ...   \n",
      "2                      0          0                0           0  ...   \n",
      "3                      0          0                0           0  ...   \n",
      "4                      0          0                0           0  ...   \n",
      "...                  ...        ...              ...         ...  ...   \n",
      "22539                  0          1                0           0  ...   \n",
      "22540                  0          1                0           0  ...   \n",
      "22541                  0          1                1           0  ...   \n",
      "22542                  0          0                0           0  ...   \n",
      "22543                  0          0                0           0  ...   \n",
      "\n",
      "       dst_host_diff_srv_rate  dst_host_same_src_port_rate  \\\n",
      "0                        0.06                         0.00   \n",
      "1                        0.06                         0.00   \n",
      "2                        0.04                         0.61   \n",
      "3                        0.00                         1.00   \n",
      "4                        0.17                         0.03   \n",
      "...                       ...                          ...   \n",
      "22539                    0.06                         0.01   \n",
      "22540                    0.00                         0.01   \n",
      "22541                    0.00                         0.00   \n",
      "22542                    0.01                         0.00   \n",
      "22543                    0.03                         0.00   \n",
      "\n",
      "       dst_host_srv_diff_host_rate  dst_host_serror_rate  \\\n",
      "0                             0.00                  0.00   \n",
      "1                             0.00                  0.00   \n",
      "2                             0.02                  0.00   \n",
      "3                             0.28                  0.00   \n",
      "4                             0.02                  0.00   \n",
      "...                            ...                   ...   \n",
      "22539                         0.01                  0.01   \n",
      "22540                         0.01                  0.01   \n",
      "22541                         0.00                  0.00   \n",
      "22542                         0.00                  0.00   \n",
      "22543                         0.00                  0.00   \n",
      "\n",
      "       dst_host_srv_serror_rate  dst_host_rerror_rate  \\\n",
      "0                           0.0                  1.00   \n",
      "1                           0.0                  1.00   \n",
      "2                           0.0                  0.00   \n",
      "3                           0.0                  0.00   \n",
      "4                           0.0                  0.83   \n",
      "...                         ...                   ...   \n",
      "22539                       0.0                  0.00   \n",
      "22540                       0.0                  0.00   \n",
      "22541                       0.0                  0.07   \n",
      "22542                       0.0                  0.00   \n",
      "22543                       0.0                  0.44   \n",
      "\n",
      "       dst_host_srv_rerror_rate  protocol_type   service      flag  \n",
      "0                          1.00       0.494592  0.931123  0.819200  \n",
      "1                          1.00       0.494592  0.931123  0.819200  \n",
      "2                          0.00       0.494592  0.312151  0.187263  \n",
      "3                          0.00       0.849796  0.892120  0.187263  \n",
      "4                          0.71       0.494592  0.758482  0.905353  \n",
      "...                         ...            ...       ...       ...  \n",
      "22539                      0.00       0.494592  0.072754  0.187263  \n",
      "22540                      0.00       0.494592  0.071984  0.187263  \n",
      "22541                      0.07       0.494592  0.071984  0.187263  \n",
      "22542                      0.00       0.193255  0.001107  0.187263  \n",
      "22543                      1.00       0.494592  1.000000  0.819200  \n",
      "\n",
      "[22544 rows x 40 columns]\n",
      "0        1\n",
      "1        1\n",
      "2        0\n",
      "3        1\n",
      "4        1\n",
      "        ..\n",
      "22539    0\n",
      "22540    0\n",
      "22541    1\n",
      "22542    0\n",
      "22543    1\n",
      "Name: label, Length: 22544, dtype: int64\n"
     ]
    }
   ],
   "source": [
    "x2 = test.iloc[:,1:41]\n",
    "y2 = test['label']\n",
    "print(x2)\n",
    "print(y2)"
   ]
  },
  {
   "cell_type": "code",
   "execution_count": 4,
   "id": "fd392215",
   "metadata": {},
   "outputs": [
    {
     "data": {
      "text/plain": [
       "0    67343\n",
       "1    58630\n",
       "Name: label, dtype: int64"
      ]
     },
     "execution_count": 4,
     "metadata": {},
     "output_type": "execute_result"
    }
   ],
   "source": [
    "train[\"label\"].value_counts()"
   ]
  },
  {
   "cell_type": "code",
   "execution_count": 5,
   "id": "3369c9ac",
   "metadata": {},
   "outputs": [
    {
     "data": {
      "image/png": "[encoded data removed]",
      "text/plain": [
       "<Figure size 360x360 with 1 Axes>"
      ]
     },
     "metadata": {
      "needs_background": "light"
     },
     "output_type": "display_data"
    }
   ],
   "source": [
    "from matplotlib import pyplot as plt\n",
    "data1 = {'Intrusion':58630, 'Normal':67343}\n",
    "Class_label = list(data1.keys())\n",
    "Number_of_instances = list(data1.values())\n",
    "  \n",
    "fig = plt.figure(figsize = (5, 5))\n",
    " \n",
    "# creating the bar plot\n",
    "plt.bar(Class_label, Number_of_instances, color ='blue',\n",
    "        width = 0.3)\n",
    "plt.ylim(0, 70000)\n",
    "plt.xlabel(\"Class label\")\n",
    "plt.ylabel(\"Number of instances\")\n",
    "plt.title(\"Number of samples in each class before resampling (NSLKDD Dataset)\")\n",
    "plt.show()"
   ]
  },
  {
   "cell_type": "code",
   "execution_count": 6,
   "id": "d6051b4b",
   "metadata": {},
   "outputs": [],
   "source": [
    "# RESAMPLING\n",
    "\n",
    "from imblearn import under_sampling, over_sampling\n",
    "from imblearn.over_sampling import SMOTE\n",
    "sm = SMOTE()\n",
    "x1, y1 = sm.fit_sample(x1, y1) "
   ]
  },
  {
   "cell_type": "code",
   "execution_count": 73,
   "id": "7b5d0fd7",
   "metadata": {},
   "outputs": [
    {
     "data": {
      "image/png": "[encoded data removed]",
      "text/plain": [
       "<Figure size 360x360 with 1 Axes>"
      ]
     },
     "metadata": {
      "needs_background": "light"
     },
     "output_type": "display_data"
    }
   ],
   "source": [
    "data2 = {'Intrusion':67343, 'Normal':67343}\n",
    "Class_label = list(data2.keys())\n",
    "Number_of_instances = list(data2.values())\n",
    "  \n",
    "fig = plt.figure(figsize = (5, 5))\n",
    " \n",
    "# creating the bar plot\n",
    "plt.bar(Class_label, Number_of_instances, color ='blue',\n",
    "        width = 0.3)\n",
    "plt.ylim(0, 70000)\n",
    "plt.xlabel(\"Class label\")\n",
    "plt.ylabel(\"Number of instances\")\n",
    "plt.title(\"Number of samples in each class after resampling (NSLKDD Dataset)\")\n",
    "plt.show()"
   ]
  },
  {
   "cell_type": "code",
   "execution_count": 8,
   "id": "66865894",
   "metadata": {},
   "outputs": [],
   "source": [
    "# NORMALIZATION\n",
    "\n",
    "from sklearn.preprocessing import MinMaxScaler\n",
    "model = MinMaxScaler()\n",
    "model.fit(x1)\n",
    "x1 = model.transform(x1)\n",
    "x2 = model.transform(x2)"
   ]
  },
  {
   "cell_type": "code",
   "execution_count": 9,
   "id": "1b18843b",
   "metadata": {},
   "outputs": [
    {
     "name": "stderr",
     "output_type": "stream",
     "text": [
      "C:\\Users\\admin\\anaconda3\\lib\\site-packages\\xgboost\\sklearn.py:1224: UserWarning: The use of label encoder in XGBClassifier is deprecated and will be removed in a future release. To remove this warning, do the following: 1) Pass option use_label_encoder=False when constructing XGBClassifier object; and 2) Encode your labels (y) as integers starting with 0, i.e. 0, 1, 2, ..., [num_class - 1].\n",
      "  warnings.warn(label_encoder_deprecation_msg, UserWarning)\n"
     ]
    },
    {
     "name": "stdout",
     "output_type": "stream",
     "text": [
      "[15:35:21] WARNING: C:/Users/Administrator/workspace/xgboost-win64_release_1.5.1/src/learner.cc:1115: Starting in XGBoost 1.3.0, the default evaluation metric used with the objective 'binary:logistic' was changed from 'error' to 'logloss'. Explicitly set eval_metric if you'd like to restore the old behavior.\n"
     ]
    },
    {
     "data": {
      "text/plain": [
       "XGBClassifier(base_score=0.5, booster='gbtree', colsample_bylevel=1,\n",
       "              colsample_bynode=1, colsample_bytree=0.6,\n",
       "              enable_categorical=False, gamma=0.0, gpu_id=-1,\n",
       "              importance_type=None, interaction_constraints='',\n",
       "              learning_rate=0.1, max_delta_step=0, max_depth=5,\n",
       "              min_child_weight=8, missing=nan, monotone_constraints='()',\n",
       "              n_estimators=381, n_jobs=4, nthread=4, num_parallel_tree=1,\n",
       "              predictor='auto', random_state=27, reg_alpha=0.005, reg_lambda=1,\n",
       "              scale_pos_weight=1, seed=27, subsample=0.9, tree_method='exact',\n",
       "              validate_parameters=1, verbosity=None)"
      ]
     },
     "execution_count": 9,
     "metadata": {},
     "output_type": "execute_result"
    }
   ],
   "source": [
    "# 1. XGBOOST CLASSIFIER MODEL\n",
    "\n",
    "from xgboost import XGBClassifier\n",
    "import xgboost as xgb\n",
    "params = {\n",
    "           'learning_rate': 0.1,\n",
    "        'n_estimators':381,\n",
    "        'max_depth':5,\n",
    "        'min_child_weight':8,\n",
    "        'gamma':0.0,\n",
    "        'reg_alpha' : 0.005,\n",
    "        'subsample':0.9,\n",
    "        'colsample_bytree':0.6,\n",
    "        'objective': 'binary:logistic',\n",
    "        'nthread':4,\n",
    "        'scale_pos_weight':1,\n",
    "        'seed':27\n",
    "         }\n",
    "xgb_clf = XGBClassifier(**params)\n",
    "xgb_clf.fit(x1, y1)"
   ]
  },
  {
   "cell_type": "code",
   "execution_count": 10,
   "id": "faadf962",
   "metadata": {},
   "outputs": [
    {
     "name": "stdout",
     "output_type": "stream",
     "text": [
      "[1 1 0 ... 1 0 1]\n"
     ]
    }
   ],
   "source": [
    "y_pred_xgb=xgb_clf.predict(x2)\n",
    "print(y_pred_xgb)"
   ]
  },
  {
   "cell_type": "code",
   "execution_count": 11,
   "id": "ed679cbf",
   "metadata": {},
   "outputs": [
    {
     "name": "stdout",
     "output_type": "stream",
     "text": [
      "ROC AUC: 0.819107\n"
     ]
    }
   ],
   "source": [
    "# ROC AUC\n",
    "from sklearn.metrics import roc_auc_score\n",
    "auc = roc_auc_score(y2, y_pred_xgb)\n",
    "print('ROC AUC: %f' % auc)"
   ]
  },
  {
   "cell_type": "code",
   "execution_count": 12,
   "id": "ea4a176e",
   "metadata": {},
   "outputs": [
    {
     "data": {
      "image/png": "[encoded data removed]",
      "text/plain": [
       "<Figure size 432x288 with 1 Axes>"
      ]
     },
     "metadata": {
      "needs_background": "light"
     },
     "output_type": "display_data"
    }
   ],
   "source": [
    "from matplotlib import pyplot as plt\n",
    "from sklearn import metrics\n",
    "fpr, tpr, _ = metrics.roc_curve(y2,  y_pred_xgb)\n",
    "#create ROC curve\n",
    "plt.plot(fpr,tpr)\n",
    "plt.ylabel('True Positive Rate')\n",
    "plt.xlabel('False Positive Rate')\n",
    "plt.show()"
   ]
  },
  {
   "cell_type": "code",
   "execution_count": 13,
   "id": "1a6d64ee",
   "metadata": {},
   "outputs": [
    {
     "name": "stdout",
     "output_type": "stream",
     "text": [
      "Accuracy in XGBoost classifier model =  79.79063165365507\n",
      "Confusion Matrix = [[9441  270]\n",
      " [4286 8547]]\n",
      "Recall = 0.7979063165365508\n",
      "Precision = 0.8480722396909933\n",
      "Classification Report =\n",
      "               precision    recall  f1-score   support\n",
      "\n",
      "           0       0.69      0.97      0.81      9711\n",
      "           1       0.97      0.67      0.79     12833\n",
      "\n",
      "    accuracy                           0.80     22544\n",
      "   macro avg       0.83      0.82      0.80     22544\n",
      "weighted avg       0.85      0.80      0.80     22544\n",
      "\n",
      "F1 Score =  0.7975880072372159\n"
     ]
    }
   ],
   "source": [
    "from sklearn import metrics\n",
    "from sklearn.metrics import f1_score\n",
    "\n",
    "print('Accuracy in XGBoost classifier model = ', metrics.accuracy_score(y2, y_pred_xgb)*100)\n",
    "print(\"Confusion Matrix =\", metrics.confusion_matrix(y2, y_pred_xgb, labels=None, \n",
    "                                              sample_weight=None))\n",
    "print(\"Recall =\", metrics.recall_score(y2, y_pred_xgb, labels=None, \n",
    "                                             pos_label=1, average='weighted', \n",
    "                                             sample_weight=None))\n",
    "print(\"Precision =\", metrics.precision_score(y2, y_pred_xgb, labels=None, \n",
    "                                             pos_label=1, average='weighted', \n",
    "                                             sample_weight=None))\n",
    "print(\"Classification Report =\\n\", metrics.classification_report(y2, y_pred_xgb, \n",
    "                                                                 labels=None, \n",
    "                                                                 target_names=None, \n",
    "                                                                 sample_weight=None, \n",
    "                                                                 digits=2, \n",
    "                                                                 output_dict=False))\n",
    "print(\"F1 Score = \",f1_score(y2, y_pred_xgb, average='macro'))"
   ]
  },
  {
   "cell_type": "code",
   "execution_count": 14,
   "id": "6c30267e",
   "metadata": {},
   "outputs": [
    {
     "data": {
      "text/plain": [
       "<AxesSubplot:>"
      ]
     },
     "execution_count": 14,
     "metadata": {},
     "output_type": "execute_result"
    },
    {
     "data": {
      "image/png": "[encoded data removed]",
      "text/plain": [
       "<Figure size 432x288 with 2 Axes>"
      ]
     },
     "metadata": {
      "needs_background": "light"
     },
     "output_type": "display_data"
    }
   ],
   "source": [
    "cm_xgb = metrics.confusion_matrix(y_pred_xgb, y2, labels=None, \n",
    "                                              sample_weight=None)\n",
    "import seaborn as sns\n",
    "sns.heatmap(cm_xgb, annot=True)"
   ]
  },
  {
   "cell_type": "code",
   "execution_count": 15,
   "id": "ca8bedf8",
   "metadata": {},
   "outputs": [
    {
     "data": {
      "text/plain": [
       "<AxesSubplot:>"
      ]
     },
     "execution_count": 15,
     "metadata": {},
     "output_type": "execute_result"
    },
    {
     "data": {
      "image/png": "[encoded data removed]",
      "text/plain": [
       "<Figure size 432x288 with 2 Axes>"
      ]
     },
     "metadata": {
      "needs_background": "light"
     },
     "output_type": "display_data"
    }
   ],
   "source": [
    "sns.heatmap(cm_xgb/np.sum(cm_xgb), annot=True, \n",
    "            fmt='.2%', cmap='Blues')"
   ]
  },
  {
   "cell_type": "code",
   "execution_count": 16,
   "id": "d53a70af",
   "metadata": {},
   "outputs": [
    {
     "name": "stdout",
     "output_type": "stream",
     "text": [
      "Model: \"sequential\"\n",
      "_________________________________________________________________\n",
      " Layer (type)                Output Shape              Param #   \n",
      "=================================================================\n",
      " dense (Dense)               (None, 40)                1640      \n",
      "                                                                 \n",
      " dense_1 (Dense)             (None, 80)                3280      \n",
      "                                                                 \n",
      " dropout (Dropout)           (None, 80)                0         \n",
      "                                                                 \n",
      " dense_2 (Dense)             (None, 160)               12960     \n",
      "                                                                 \n",
      " dropout_1 (Dropout)         (None, 160)               0         \n",
      "                                                                 \n",
      " dense_3 (Dense)             (None, 160)               25760     \n",
      "                                                                 \n",
      " dropout_2 (Dropout)         (None, 160)               0         \n",
      "                                                                 \n",
      " dense_4 (Dense)             (None, 320)               51520     \n",
      "                                                                 \n",
      " dense_5 (Dense)             (None, 2)                 642       \n",
      "                                                                 \n",
      "=================================================================\n",
      "Total params: 95,802\n",
      "Trainable params: 95,802\n",
      "Non-trainable params: 0\n",
      "_________________________________________________________________\n"
     ]
    }
   ],
   "source": [
    "# 2. DNN CLASSIFIER MODEL\n",
    "\n",
    "from tensorflow import keras\n",
    "model_DNN=keras.models.Sequential()\n",
    "model_DNN.add(keras.layers.Dense(units=40, activation = \"relu\",input_shape = x1.shape[1:]))\n",
    "model_DNN.add(keras.layers.Dense(units=80,activation = \"relu\"))\n",
    "model_DNN.add(keras.layers.Dropout(0.25))\n",
    "model_DNN.add(keras.layers.Dense(units=160,activation = \"relu\" ))\n",
    "model_DNN.add(keras.layers.Dropout(0.25))\n",
    "model_DNN.add(keras.layers.Dense(units=160,activation = \"relu\" ))\n",
    "model_DNN.add(keras.layers.Dropout(0.25))\n",
    "model_DNN.add(keras.layers.Dense(units=320,activation = \"relu\" ))\n",
    "model_DNN.add(keras.layers.Dense(units=2, activation = \"sigmoid\"))\n",
    "model_DNN.summary()"
   ]
  },
  {
   "cell_type": "code",
   "execution_count": 18,
   "id": "0d7eae25",
   "metadata": {},
   "outputs": [
    {
     "name": "stdout",
     "output_type": "stream",
     "text": [
      "Epoch 1/50\n",
      "8418/8418 [==============================] - 42s 5ms/step - loss: 0.1603 - accuracy: 0.9698 - val_loss: 0.9659 - val_accuracy: 0.7408\n",
      "Epoch 2/50\n",
      "8418/8418 [==============================] - 36s 4ms/step - loss: 0.1233 - accuracy: 0.9663 - val_loss: 12.6745 - val_accuracy: 0.7577\n",
      "Epoch 3/50\n",
      "8418/8418 [==============================] - 34s 4ms/step - loss: 0.1111 - accuracy: 0.9679 - val_loss: 1.3624 - val_accuracy: 0.7638\n",
      "Epoch 4/50\n",
      "8418/8418 [==============================] - 34s 4ms/step - loss: 0.1150 - accuracy: 0.9713 - val_loss: 3.4994 - val_accuracy: 0.8058\n",
      "Epoch 5/50\n",
      "8418/8418 [==============================] - 34s 4ms/step - loss: 0.1079 - accuracy: 0.9717 - val_loss: 1.3353 - val_accuracy: 0.7785\n",
      "Epoch 6/50\n",
      "8418/8418 [==============================] - 33s 4ms/step - loss: 0.1205 - accuracy: 0.9717 - val_loss: 1.2546 - val_accuracy: 0.7486\n",
      "Epoch 7/50\n",
      "8418/8418 [==============================] - 34s 4ms/step - loss: 0.1497 - accuracy: 0.9712 - val_loss: 4.6941 - val_accuracy: 0.6948\n",
      "Epoch 8/50\n",
      "8418/8418 [==============================] - 34s 4ms/step - loss: 0.1438 - accuracy: 0.9697 - val_loss: 37.7974 - val_accuracy: 0.7285\n",
      "Epoch 9/50\n",
      "8418/8418 [==============================] - 39s 5ms/step - loss: 0.1310 - accuracy: 0.9693 - val_loss: 112.4033 - val_accuracy: 0.7444\n",
      "Epoch 10/50\n",
      "8418/8418 [==============================] - 34s 4ms/step - loss: 0.1426 - accuracy: 0.9715 - val_loss: 62.8272 - val_accuracy: 0.7335\n",
      "Epoch 11/50\n",
      "8418/8418 [==============================] - 34s 4ms/step - loss: 0.1232 - accuracy: 0.9718 - val_loss: 12.4533 - val_accuracy: 0.7494\n",
      "Epoch 12/50\n",
      "8418/8418 [==============================] - 35s 4ms/step - loss: 0.1356 - accuracy: 0.9737 - val_loss: 78.8267 - val_accuracy: 0.7417\n",
      "Epoch 13/50\n",
      "8418/8418 [==============================] - 35s 4ms/step - loss: 0.1561 - accuracy: 0.9672 - val_loss: 15.2495 - val_accuracy: 0.7439\n",
      "Epoch 14/50\n",
      "8418/8418 [==============================] - 34s 4ms/step - loss: 0.1288 - accuracy: 0.9705 - val_loss: 23.7396 - val_accuracy: 0.7434\n",
      "Epoch 15/50\n",
      "8418/8418 [==============================] - 34s 4ms/step - loss: 0.1352 - accuracy: 0.9690 - val_loss: 79.7807 - val_accuracy: 0.7325\n",
      "705/705 [==============================] - 3s 4ms/step - loss: 1.3353 - accuracy: 0.7785\n",
      "Test loss =  1.335290789604187\n",
      "Test accuracy =  0.7785220146179199\n"
     ]
    }
   ],
   "source": [
    "opt = keras.optimizers.Adam(learning_rate=0.01)\n",
    "model_DNN.compile(loss=\"sparse_categorical_crossentropy\",optimizer=opt,metrics=\"accuracy\")\n",
    "es=keras.callbacks.EarlyStopping(monitor='loss',patience=10,restore_best_weights=True)\n",
    "cp=keras.callbacks.ModelCheckpoint(\"SaranyaDNNNet.h5\",monitor='val_loss')\n",
    "history = model_DNN.fit(x1,y1,epochs=50,batch_size=16,callbacks=[es,cp],validation_data = [x2, y2])\n",
    "testloss,testaccuracy=model_DNN.evaluate(x2,y2)\n",
    "print(\"Test loss = \",testloss)\n",
    "print(\"Test accuracy = \",testaccuracy)"
   ]
  },
  {
   "cell_type": "code",
   "execution_count": 19,
   "id": "cf406e54",
   "metadata": {},
   "outputs": [
    {
     "name": "stdout",
     "output_type": "stream",
     "text": [
      "[1 1 0 ... 0 0 1]\n",
      "Test Loss = 1.335290789604187\n",
      "Test Accuracy = 0.7785220146179199\n"
     ]
    }
   ],
   "source": [
    "y_predicted_DNN = model_DNN.predict(x2)\n",
    "y_predicted_class_DNN=np.argmax(y_predicted_DNN,axis=1)\n",
    "print(y_predicted_class_DNN)\n",
    "print(\"Test Loss =\",testloss)\n",
    "print(\"Test Accuracy =\",testaccuracy)"
   ]
  },
  {
   "cell_type": "code",
   "execution_count": 20,
   "id": "1d5b07f3",
   "metadata": {},
   "outputs": [
    {
     "name": "stdout",
     "output_type": "stream",
     "text": [
      "ROC AUC: 0.799112\n"
     ]
    }
   ],
   "source": [
    "# ROC AUC\n",
    "from sklearn.metrics import roc_auc_score\n",
    "auc = roc_auc_score(y2, y_predicted_class_DNN)\n",
    "print('ROC AUC: %f' % auc)"
   ]
  },
  {
   "cell_type": "code",
   "execution_count": 21,
   "id": "4f42280a",
   "metadata": {},
   "outputs": [
    {
     "data": {
      "image/png": "[encoded data removed]",
      "text/plain": [
       "<Figure size 432x288 with 1 Axes>"
      ]
     },
     "metadata": {
      "needs_background": "light"
     },
     "output_type": "display_data"
    }
   ],
   "source": [
    "from sklearn import metrics\n",
    "fpr, tpr, _ = metrics.roc_curve(y2,  y_predicted_class_DNN)\n",
    "#create ROC curve\n",
    "plt.plot(fpr,tpr)\n",
    "plt.ylabel('True Positive Rate')\n",
    "plt.xlabel('False Positive Rate')\n",
    "plt.show()"
   ]
  },
  {
   "cell_type": "code",
   "execution_count": 22,
   "id": "a2eb79d4",
   "metadata": {},
   "outputs": [
    {
     "name": "stdout",
     "output_type": "stream",
     "text": [
      "Accuracy with DNN classifier model =  77.85220014194464\n",
      "Confusion Matrix = [[9204 4486]\n",
      " [ 507 8347]]\n",
      "Recall = 0.7785220014194464\n",
      "Precision = 0.831005598437192\n",
      "Classification Report =\n",
      "               precision    recall  f1-score   support\n",
      "\n",
      "           0       0.95      0.67      0.79     13690\n",
      "           1       0.65      0.94      0.77      8854\n",
      "\n",
      "    accuracy                           0.78     22544\n",
      "   macro avg       0.80      0.81      0.78     22544\n",
      "weighted avg       0.83      0.78      0.78     22544\n",
      "\n",
      "F1 Score =  0.7782014790548115\n"
     ]
    }
   ],
   "source": [
    "from sklearn import metrics\n",
    "from sklearn.metrics import f1_score\n",
    "print('Accuracy with DNN classifier model = ', metrics.accuracy_score(y_predicted_class_DNN, y2)*100)\n",
    "print(\"Confusion Matrix =\", metrics.confusion_matrix(y_predicted_class_DNN, y2, labels=None, \n",
    "                                              sample_weight=None))\n",
    "print(\"Recall =\", metrics.recall_score(y_predicted_class_DNN, y2, labels=None, \n",
    "                                             pos_label=1, average='weighted', \n",
    "                                             sample_weight=None))\n",
    "print(\"Precision =\", metrics.precision_score(y_predicted_class_DNN, y2, labels=None, \n",
    "                                             pos_label=1, average='weighted', \n",
    "                                             sample_weight=None))\n",
    "print(\"Classification Report =\\n\", metrics.classification_report(y_predicted_class_DNN, y2, \n",
    "                                                                 labels=None, \n",
    "                                                                 target_names=None, \n",
    "                                                                 sample_weight=None, \n",
    "                                                                 digits=2, \n",
    "                                                                 output_dict=False))\n",
    "print(\"F1 Score = \",f1_score(y_predicted_class_DNN, y2, average='macro'))"
   ]
  },
  {
   "cell_type": "code",
   "execution_count": 23,
   "id": "1b1cf6af",
   "metadata": {},
   "outputs": [
    {
     "data": {
      "text/plain": [
       "<AxesSubplot:>"
      ]
     },
     "execution_count": 23,
     "metadata": {},
     "output_type": "execute_result"
    },
    {
     "data": {
      "image/png": "[encoded data removed]",
      "text/plain": [
       "<Figure size 432x288 with 2 Axes>"
      ]
     },
     "metadata": {
      "needs_background": "light"
     },
     "output_type": "display_data"
    }
   ],
   "source": [
    "cm_DNN = metrics.confusion_matrix(y_predicted_class_DNN, y2, labels=None, \n",
    "                                              sample_weight=None)\n",
    "import seaborn as sns\n",
    "sns.heatmap(cm_DNN, annot=True)"
   ]
  },
  {
   "cell_type": "code",
   "execution_count": 24,
   "id": "87f8cabb",
   "metadata": {},
   "outputs": [
    {
     "data": {
      "text/plain": [
       "<AxesSubplot:>"
      ]
     },
     "execution_count": 24,
     "metadata": {},
     "output_type": "execute_result"
    },
    {
     "data": {
      "image/png": "[encoded data removed]",
      "text/plain": [
       "<Figure size 432x288 with 2 Axes>"
      ]
     },
     "metadata": {
      "needs_background": "light"
     },
     "output_type": "display_data"
    }
   ],
   "source": [
    "sns.heatmap(cm_DNN/np.sum(cm_DNN), annot=True, \n",
    "            fmt='.2%', cmap='Blues')"
   ]
  },
  {
   "cell_type": "code",
   "execution_count": 25,
   "id": "bd3df090",
   "metadata": {},
   "outputs": [],
   "source": [
    "# 3. CNN CLASSIFIER MODEL\n",
    "\n",
    "x1_CNN = np.reshape(x1, (x1.shape[0],x1.shape[1],1))\n",
    "x2_CNN = np.reshape(x2, (x2.shape[0],x2.shape[1],1))"
   ]
  },
  {
   "cell_type": "code",
   "execution_count": 26,
   "id": "08328a4d",
   "metadata": {},
   "outputs": [
    {
     "name": "stdout",
     "output_type": "stream",
     "text": [
      "Model: \"sequential_1\"\n",
      "_________________________________________________________________\n",
      " Layer (type)                Output Shape              Param #   \n",
      "=================================================================\n",
      " conv1d (Conv1D)             (None, 38, 40)            160       \n",
      "                                                                 \n",
      " conv1d_1 (Conv1D)           (None, 36, 80)            9680      \n",
      "                                                                 \n",
      " batch_normalization (BatchN  (None, 36, 80)           320       \n",
      " ormalization)                                                   \n",
      "                                                                 \n",
      " max_pooling1d (MaxPooling1D  (None, 18, 80)           0         \n",
      " )                                                               \n",
      "                                                                 \n",
      " dropout_3 (Dropout)         (None, 18, 80)            0         \n",
      "                                                                 \n",
      " flatten (Flatten)           (None, 1440)              0         \n",
      "                                                                 \n",
      " dense_6 (Dense)             (None, 160)               230560    \n",
      "                                                                 \n",
      " dropout_4 (Dropout)         (None, 160)               0         \n",
      "                                                                 \n",
      " dense_7 (Dense)             (None, 2)                 322       \n",
      "                                                                 \n",
      "=================================================================\n",
      "Total params: 241,042\n",
      "Trainable params: 240,882\n",
      "Non-trainable params: 160\n",
      "_________________________________________________________________\n"
     ]
    }
   ],
   "source": [
    "from tensorflow import keras\n",
    "from tensorflow.keras.layers import Input\n",
    "from keras.layers import Convolution1D, Dense, Dropout, MaxPooling1D, LSTM\n",
    "from keras.layers import Dense, Dropout, Activation, Lambda, Flatten\n",
    "convnet=keras.models.Sequential()\n",
    "convnet.add(keras.layers.Convolution1D(40,3,activation=\"relu\",input_shape=(40,1)))\n",
    "convnet.add(keras.layers.Convolution1D(80,3,activation=\"relu\"))\n",
    "convnet.add(keras.layers.BatchNormalization())\n",
    "convnet.add(keras.layers.MaxPooling1D(2,2))\n",
    "convnet.add(keras.layers.Dropout(0.25))\n",
    "convnet.add(keras.layers.Flatten())\n",
    "convnet.add(keras.layers.Dense(160,activation=\"relu\"))\n",
    "convnet.add(keras.layers.Dropout(0.25))\n",
    "convnet.add(keras.layers.Dense(2,activation=\"softmax\"))\n",
    "convnet.summary()"
   ]
  },
  {
   "cell_type": "code",
   "execution_count": 27,
   "id": "cc0367a5",
   "metadata": {},
   "outputs": [
    {
     "name": "stdout",
     "output_type": "stream",
     "text": [
      "Epoch 1/50\n",
      "8418/8418 [==============================] - 75s 9ms/step - loss: 0.0944 - accuracy: 0.9665 - val_loss: 1.3284 - val_accuracy: 0.7516\n",
      "Epoch 2/50\n",
      "8418/8418 [==============================] - 72s 9ms/step - loss: 0.0820 - accuracy: 0.9662 - val_loss: 0.9655 - val_accuracy: 0.7416\n",
      "Epoch 3/50\n",
      "8418/8418 [==============================] - 72s 9ms/step - loss: 0.0832 - accuracy: 0.9644 - val_loss: 4.1639 - val_accuracy: 0.7467\n",
      "Epoch 4/50\n",
      "8418/8418 [==============================] - 74s 9ms/step - loss: 0.0821 - accuracy: 0.9640 - val_loss: 2.1452 - val_accuracy: 0.7226\n",
      "Epoch 5/50\n",
      "8418/8418 [==============================] - 72s 9ms/step - loss: 0.0891 - accuracy: 0.9623 - val_loss: 2.2223 - val_accuracy: 0.7311\n",
      "Epoch 6/50\n",
      "8418/8418 [==============================] - 73s 9ms/step - loss: 0.0862 - accuracy: 0.9650 - val_loss: 3.3273 - val_accuracy: 0.7420\n",
      "Epoch 7/50\n",
      "8418/8418 [==============================] - 77s 9ms/step - loss: 0.0938 - accuracy: 0.9641 - val_loss: 2.7896 - val_accuracy: 0.7256\n",
      "Epoch 8/50\n",
      "8418/8418 [==============================] - 70s 8ms/step - loss: 0.0953 - accuracy: 0.9619 - val_loss: 4.2243 - val_accuracy: 0.8543\n",
      "Epoch 9/50\n",
      "8418/8418 [==============================] - 75s 9ms/step - loss: 0.0970 - accuracy: 0.9666 - val_loss: 3.1840 - val_accuracy: 0.7388\n",
      "Epoch 10/50\n",
      "8418/8418 [==============================] - 73s 9ms/step - loss: 0.1030 - accuracy: 0.9624 - val_loss: 1.8120 - val_accuracy: 0.7052\n",
      "Epoch 11/50\n",
      "8418/8418 [==============================] - 73s 9ms/step - loss: 0.1019 - accuracy: 0.9664 - val_loss: 8.4943 - val_accuracy: 0.7278\n",
      "Epoch 12/50\n",
      "8418/8418 [==============================] - 70s 8ms/step - loss: 0.0961 - accuracy: 0.9631 - val_loss: 3.4141 - val_accuracy: 0.7170\n",
      "705/705 [==============================] - 4s 5ms/step - loss: 0.9655 - accuracy: 0.7416\n",
      "Test Loss = 0.9654703736305237\n",
      "Test Accuracy = 0.7416163682937622\n"
     ]
    }
   ],
   "source": [
    "opt = keras.optimizers.Adam(learning_rate=0.01)\n",
    "convnet.compile(loss=\"sparse_categorical_crossentropy\",optimizer=opt,metrics=\"accuracy\")\n",
    "es=keras.callbacks.EarlyStopping(monitor='loss',patience=10,restore_best_weights=True)\n",
    "cp=keras.callbacks.ModelCheckpoint(\"SaranyaConvNet.h5\",monitor='val_loss')\n",
    "history = convnet.fit(x1_CNN,y1,epochs=50,batch_size=16,callbacks=[es,cp],validation_data = [x2_CNN, y2])\n",
    "testloss,testaccuracy=convnet.evaluate(x2_CNN,y2)\n",
    "print(\"Test Loss =\",testloss)\n",
    "print(\"Test Accuracy =\",testaccuracy)"
   ]
  },
  {
   "cell_type": "code",
   "execution_count": 28,
   "id": "59edbb3a",
   "metadata": {},
   "outputs": [
    {
     "name": "stdout",
     "output_type": "stream",
     "text": [
      "[[0.0000000e+00 1.0000000e+00]\n",
      " [0.0000000e+00 1.0000000e+00]\n",
      " [7.9246795e-01 2.0753203e-01]\n",
      " ...\n",
      " [5.1274061e-01 4.8725936e-01]\n",
      " [1.0000000e+00 1.9560933e-20]\n",
      " [2.0840893e-17 1.0000000e+00]]\n",
      "[1 1 0 ... 0 0 1]\n"
     ]
    }
   ],
   "source": [
    "y_predicted_CNN = convnet.predict(x2_CNN)\n",
    "print(y_predicted_CNN)\n",
    "y_predicted_class_CNN=np.argmax(y_predicted_CNN,axis=1)\n",
    "print(y_predicted_class_CNN)"
   ]
  },
  {
   "cell_type": "code",
   "execution_count": 29,
   "id": "38f571e0",
   "metadata": {},
   "outputs": [
    {
     "name": "stdout",
     "output_type": "stream",
     "text": [
      "ROC AUC: 0.765618\n"
     ]
    }
   ],
   "source": [
    "# ROC AUC\n",
    "from sklearn.metrics import roc_auc_score\n",
    "auc = roc_auc_score(y2, y_predicted_class_CNN)\n",
    "print('ROC AUC: %f' % auc)"
   ]
  },
  {
   "cell_type": "code",
   "execution_count": 30,
   "id": "477c0484",
   "metadata": {},
   "outputs": [
    {
     "data": {
      "image/png": "[encoded data removed]",
      "text/plain": [
       "<Figure size 432x288 with 1 Axes>"
      ]
     },
     "metadata": {
      "needs_background": "light"
     },
     "output_type": "display_data"
    }
   ],
   "source": [
    "fpr, tpr, _ = metrics.roc_curve(y2,  y_predicted_class_CNN)\n",
    "#create ROC curve\n",
    "plt.plot(fpr,tpr)\n",
    "plt.ylabel('True Positive Rate')\n",
    "plt.xlabel('False Positive Rate')\n",
    "plt.show()"
   ]
  },
  {
   "cell_type": "code",
   "execution_count": 31,
   "id": "2c659d69",
   "metadata": {},
   "outputs": [
    {
     "name": "stdout",
     "output_type": "stream",
     "text": [
      "Accuracy with CNN classifier model =  74.16163946061036\n",
      "Confusion Matrix = [[9118 5232]\n",
      " [ 593 7601]]\n",
      "Recall = 0.7416163946061036\n",
      "Precision = 0.8129451617330731\n",
      "Classification Report =\n",
      "               precision    recall  f1-score   support\n",
      "\n",
      "           0       0.94      0.64      0.76     14350\n",
      "           1       0.59      0.93      0.72      8194\n",
      "\n",
      "    accuracy                           0.74     22544\n",
      "   macro avg       0.77      0.78      0.74     22544\n",
      "weighted avg       0.81      0.74      0.75     22544\n",
      "\n",
      "F1 Score =  0.7404411043713666\n"
     ]
    }
   ],
   "source": [
    "from sklearn import metrics\n",
    "from sklearn.metrics import f1_score\n",
    "print('Accuracy with CNN classifier model = ', metrics.accuracy_score(y_predicted_class_CNN, y2)*100)\n",
    "print(\"Confusion Matrix =\", metrics.confusion_matrix(y_predicted_class_CNN, y2, labels=None, \n",
    "                                              sample_weight=None))\n",
    "print(\"Recall =\", metrics.recall_score(y_predicted_class_CNN, y2, labels=None, \n",
    "                                             pos_label=1, average='weighted', \n",
    "                                             sample_weight=None))\n",
    "print(\"Precision =\", metrics.precision_score(y_predicted_class_CNN, y2, labels=None, \n",
    "                                             pos_label=1, average='weighted', \n",
    "                                             sample_weight=None))\n",
    "print(\"Classification Report =\\n\", metrics.classification_report(y_predicted_class_CNN, y2, \n",
    "                                                                 labels=None, \n",
    "                                                                 target_names=None, \n",
    "                                                                 sample_weight=None, \n",
    "                                                                 digits=2, \n",
    "                                                                 output_dict=False))\n",
    "print(\"F1 Score = \",f1_score(y_predicted_class_CNN, y2, average='macro'))"
   ]
  },
  {
   "cell_type": "code",
   "execution_count": 32,
   "id": "5d5876e5",
   "metadata": {},
   "outputs": [
    {
     "data": {
      "text/plain": [
       "<AxesSubplot:>"
      ]
     },
     "execution_count": 32,
     "metadata": {},
     "output_type": "execute_result"
    },
    {
     "data": {
      "image/png": "[encoded data removed]",
      "text/plain": [
       "<Figure size 432x288 with 2 Axes>"
      ]
     },
     "metadata": {
      "needs_background": "light"
     },
     "output_type": "display_data"
    }
   ],
   "source": [
    "cm_CNN = metrics.confusion_matrix(y_predicted_class_CNN, y2, labels=None, \n",
    "                                              sample_weight=None)\n",
    "import seaborn as sns\n",
    "sns.heatmap(cm_CNN, annot=True)"
   ]
  },
  {
   "cell_type": "code",
   "execution_count": 33,
   "id": "1157ea88",
   "metadata": {},
   "outputs": [
    {
     "data": {
      "text/plain": [
       "<AxesSubplot:>"
      ]
     },
     "execution_count": 33,
     "metadata": {},
     "output_type": "execute_result"
    },
    {
     "data": {
      "image/png": "[encoded data removed]",
      "text/plain": [
       "<Figure size 432x288 with 2 Axes>"
      ]
     },
     "metadata": {
      "needs_background": "light"
     },
     "output_type": "display_data"
    }
   ],
   "source": [
    "sns.heatmap(cm_CNN/np.sum(cm_CNN), annot=True, \n",
    "            fmt='.2%', cmap='Blues')"
   ]
  },
  {
   "cell_type": "code",
   "execution_count": 34,
   "id": "5c074ce2",
   "metadata": {},
   "outputs": [
    {
     "name": "stdout",
     "output_type": "stream",
     "text": [
      "134686\n",
      "22544\n"
     ]
    }
   ],
   "source": [
    "# 4. TCN CLASSIFIER MODEL\n",
    "\n",
    "print(x1.shape[0])\n",
    "print(x2.shape[0])"
   ]
  },
  {
   "cell_type": "code",
   "execution_count": 35,
   "id": "c2bb9864",
   "metadata": {},
   "outputs": [
    {
     "name": "stdout",
     "output_type": "stream",
     "text": [
      "(134686, 40) (134686,) (22544, 40) (22544,)\n",
      "(134686, 40, 1) (134686,) (22544, 40, 1) (22544,)\n"
     ]
    }
   ],
   "source": [
    "print(x1.shape, y1.shape, x2.shape, y2.shape)\n",
    "x1_TCN = np.reshape(x1, (x1.shape[0],x1.shape[1],1))\n",
    "x2_TCN = np.reshape(x2, (x2.shape[0],x2.shape[1],1))\n",
    "print(x1_TCN.shape, y1.shape, x2_TCN.shape, y2.shape)"
   ]
  },
  {
   "cell_type": "code",
   "execution_count": 36,
   "id": "0f65fe1f",
   "metadata": {},
   "outputs": [
    {
     "name": "stdout",
     "output_type": "stream",
     "text": [
      "(134686, 40, 1) (134686, 2) (22544, 40, 1) (22544, 2)\n"
     ]
    }
   ],
   "source": [
    "from tensorflow.keras.utils import to_categorical\n",
    "num_classes = 2\n",
    "y1_TCN = to_categorical(y1, num_classes)\n",
    "y2_TCN = to_categorical(y2, num_classes)\n",
    "print(x1_TCN.shape, y1_TCN.shape, x2_TCN.shape, y2_TCN.shape)"
   ]
  },
  {
   "cell_type": "code",
   "execution_count": 37,
   "id": "8a0979c3",
   "metadata": {},
   "outputs": [
    {
     "name": "stdout",
     "output_type": "stream",
     "text": [
      "(134686, 40, 1) (134686, 2, 1) (22544, 40, 1) (22544, 2, 1)\n"
     ]
    }
   ],
   "source": [
    "y1_TCN = np.expand_dims(y1_TCN, axis=2)\n",
    "y2_TCN = np.expand_dims(y2_TCN, axis=2)\n",
    "print(x1_TCN.shape, y1_TCN.shape, x2_TCN.shape, y2_TCN.shape)"
   ]
  },
  {
   "cell_type": "code",
   "execution_count": 38,
   "id": "f7cb3662",
   "metadata": {},
   "outputs": [
    {
     "name": "stdout",
     "output_type": "stream",
     "text": [
      "Requirement already satisfied: keras-tcn in c:\\users\\admin\\anaconda3\\lib\\site-packages (3.4.2)\n",
      "Requirement already satisfied: tensorflow in c:\\users\\admin\\anaconda3\\lib\\site-packages (from keras-tcn) (2.7.0)\n",
      "Requirement already satisfied: tensorflow-addons in c:\\users\\admin\\anaconda3\\lib\\site-packages (from keras-tcn) (0.16.1)\n",
      "Requirement already satisfied: numpy in c:\\users\\admin\\anaconda3\\lib\\site-packages (from keras-tcn) (1.20.1)\n",
      "Requirement already satisfied: grpcio<2.0,>=1.24.3 in c:\\users\\admin\\anaconda3\\lib\\site-packages (from tensorflow->keras-tcn) (1.43.0)\n",
      "Requirement already satisfied: tensorflow-estimator<2.8,~=2.7.0rc0 in c:\\users\\admin\\anaconda3\\lib\\site-packages (from tensorflow->keras-tcn) (2.7.0)\n",
      "Requirement already satisfied: opt-einsum>=2.3.2 in c:\\users\\admin\\anaconda3\\lib\\site-packages (from tensorflow->keras-tcn) (3.3.0)\n",
      "Requirement already satisfied: astunparse>=1.6.0 in c:\\users\\admin\\anaconda3\\lib\\site-packages (from tensorflow->keras-tcn) (1.6.3)\n",
      "Requirement already satisfied: wheel<1.0,>=0.32.0 in c:\\users\\admin\\anaconda3\\lib\\site-packages (from tensorflow->keras-tcn) (0.36.2)\n",
      "Requirement already satisfied: wrapt>=1.11.0 in c:\\users\\admin\\anaconda3\\lib\\site-packages (from tensorflow->keras-tcn) (1.12.1)\n",
      "Requirement already satisfied: gast<0.5.0,>=0.2.1 in c:\\users\\admin\\anaconda3\\lib\\site-packages (from tensorflow->keras-tcn) (0.4.0)\n",
      "Requirement already satisfied: flatbuffers<3.0,>=1.12 in c:\\users\\admin\\anaconda3\\lib\\site-packages (from tensorflow->keras-tcn) (2.0)\n",
      "Requirement already satisfied: tensorboard~=2.6 in c:\\users\\admin\\anaconda3\\lib\\site-packages (from tensorflow->keras-tcn) (2.7.0)\n",
      "Requirement already satisfied: typing-extensions>=3.6.6 in c:\\users\\admin\\anaconda3\\lib\\site-packages (from tensorflow->keras-tcn) (3.7.4.3)\n",
      "Requirement already satisfied: termcolor>=1.1.0 in c:\\users\\admin\\anaconda3\\lib\\site-packages (from tensorflow->keras-tcn) (1.1.0)\n",
      "Requirement already satisfied: libclang>=9.0.1 in c:\\users\\admin\\anaconda3\\lib\\site-packages (from tensorflow->keras-tcn) (12.0.0)\n",
      "Requirement already satisfied: h5py>=2.9.0 in c:\\users\\admin\\anaconda3\\lib\\site-packages (from tensorflow->keras-tcn) (2.10.0)\n",
      "Requirement already satisfied: keras-preprocessing>=1.1.1 in c:\\users\\admin\\anaconda3\\lib\\site-packages (from tensorflow->keras-tcn) (1.1.2)\n",
      "Requirement already satisfied: six>=1.12.0 in c:\\users\\admin\\anaconda3\\lib\\site-packages (from tensorflow->keras-tcn) (1.15.0)\n",
      "Requirement already satisfied: google-pasta>=0.1.1 in c:\\users\\admin\\anaconda3\\lib\\site-packages (from tensorflow->keras-tcn) (0.2.0)\n",
      "Requirement already satisfied: absl-py>=0.4.0 in c:\\users\\admin\\anaconda3\\lib\\site-packages (from tensorflow->keras-tcn) (1.0.0)\n",
      "Requirement already satisfied: tensorflow-io-gcs-filesystem>=0.21.0 in c:\\users\\admin\\anaconda3\\lib\\site-packages (from tensorflow->keras-tcn) (0.23.1)\n",
      "Requirement already satisfied: keras<2.8,>=2.7.0rc0 in c:\\users\\admin\\anaconda3\\lib\\site-packages (from tensorflow->keras-tcn) (2.7.0)\n",
      "Requirement already satisfied: protobuf>=3.9.2 in c:\\users\\admin\\anaconda3\\lib\\site-packages (from tensorflow->keras-tcn) (3.19.1)\n",
      "Requirement already satisfied: requests<3,>=2.21.0 in c:\\users\\admin\\anaconda3\\lib\\site-packages (from tensorboard~=2.6->tensorflow->keras-tcn) (2.25.1)\n",
      "Requirement already satisfied: setuptools>=41.0.0 in c:\\users\\admin\\anaconda3\\lib\\site-packages (from tensorboard~=2.6->tensorflow->keras-tcn) (52.0.0.post20210125)\n",
      "Requirement already satisfied: tensorboard-plugin-wit>=1.6.0 in c:\\users\\admin\\anaconda3\\lib\\site-packages (from tensorboard~=2.6->tensorflow->keras-tcn) (1.8.0)\n",
      "Requirement already satisfied: markdown>=2.6.8 in c:\\users\\admin\\anaconda3\\lib\\site-packages (from tensorboard~=2.6->tensorflow->keras-tcn) (3.3.6)\n",
      "Requirement already satisfied: google-auth<3,>=1.6.3 in c:\\users\\admin\\anaconda3\\lib\\site-packages (from tensorboard~=2.6->tensorflow->keras-tcn) (2.3.3)\n",
      "Requirement already satisfied: tensorboard-data-server<0.7.0,>=0.6.0 in c:\\users\\admin\\anaconda3\\lib\\site-packages (from tensorboard~=2.6->tensorflow->keras-tcn) (0.6.1)\n",
      "Requirement already satisfied: google-auth-oauthlib<0.5,>=0.4.1 in c:\\users\\admin\\anaconda3\\lib\\site-packages (from tensorboard~=2.6->tensorflow->keras-tcn) (0.4.6)\n",
      "Requirement already satisfied: werkzeug>=0.11.15 in c:\\users\\admin\\anaconda3\\lib\\site-packages (from tensorboard~=2.6->tensorflow->keras-tcn) (1.0.1)\n",
      "Requirement already satisfied: rsa<5,>=3.1.4 in c:\\users\\admin\\anaconda3\\lib\\site-packages (from google-auth<3,>=1.6.3->tensorboard~=2.6->tensorflow->keras-tcn) (4.8)\n",
      "Requirement already satisfied: pyasn1-modules>=0.2.1 in c:\\users\\admin\\anaconda3\\lib\\site-packages (from google-auth<3,>=1.6.3->tensorboard~=2.6->tensorflow->keras-tcn) (0.2.8)\n",
      "Requirement already satisfied: cachetools<5.0,>=2.0.0 in c:\\users\\admin\\anaconda3\\lib\\site-packages (from google-auth<3,>=1.6.3->tensorboard~=2.6->tensorflow->keras-tcn) (4.2.4)\n",
      "Requirement already satisfied: requests-oauthlib>=0.7.0 in c:\\users\\admin\\anaconda3\\lib\\site-packages (from google-auth-oauthlib<0.5,>=0.4.1->tensorboard~=2.6->tensorflow->keras-tcn) (1.3.0)\n",
      "Requirement already satisfied: importlib-metadata>=4.4 in c:\\users\\admin\\anaconda3\\lib\\site-packages (from markdown>=2.6.8->tensorboard~=2.6->tensorflow->keras-tcn) (4.10.0)\n",
      "Requirement already satisfied: zipp>=0.5 in c:\\users\\admin\\anaconda3\\lib\\site-packages (from importlib-metadata>=4.4->markdown>=2.6.8->tensorboard~=2.6->tensorflow->keras-tcn) (3.4.1)\n",
      "Requirement already satisfied: pyasn1<0.5.0,>=0.4.6 in c:\\users\\admin\\anaconda3\\lib\\site-packages (from pyasn1-modules>=0.2.1->google-auth<3,>=1.6.3->tensorboard~=2.6->tensorflow->keras-tcn) (0.4.8)\n",
      "Requirement already satisfied: certifi>=2017.4.17 in c:\\users\\admin\\anaconda3\\lib\\site-packages (from requests<3,>=2.21.0->tensorboard~=2.6->tensorflow->keras-tcn) (2020.12.5)\n",
      "Requirement already satisfied: idna<3,>=2.5 in c:\\users\\admin\\anaconda3\\lib\\site-packages (from requests<3,>=2.21.0->tensorboard~=2.6->tensorflow->keras-tcn) (2.10)\n",
      "Requirement already satisfied: urllib3<1.27,>=1.21.1 in c:\\users\\admin\\anaconda3\\lib\\site-packages (from requests<3,>=2.21.0->tensorboard~=2.6->tensorflow->keras-tcn) (1.26.4)\n",
      "Requirement already satisfied: chardet<5,>=3.0.2 in c:\\users\\admin\\anaconda3\\lib\\site-packages (from requests<3,>=2.21.0->tensorboard~=2.6->tensorflow->keras-tcn) (4.0.0)\n",
      "Requirement already satisfied: oauthlib>=3.0.0 in c:\\users\\admin\\anaconda3\\lib\\site-packages (from requests-oauthlib>=0.7.0->google-auth-oauthlib<0.5,>=0.4.1->tensorboard~=2.6->tensorflow->keras-tcn) (3.1.1)\n",
      "Requirement already satisfied: typeguard>=2.7 in c:\\users\\admin\\anaconda3\\lib\\site-packages (from tensorflow-addons->keras-tcn) (2.13.3)\n"
     ]
    }
   ],
   "source": [
    "!pip install keras-tcn"
   ]
  },
  {
   "cell_type": "code",
   "execution_count": 39,
   "id": "e87c3380",
   "metadata": {},
   "outputs": [],
   "source": [
    "import numpy as np\n",
    "from tensorflow.keras import Model, Input\n",
    "from tensorflow.keras.layers import Dense, Dropout, Embedding\n",
    "from tensorflow.keras.preprocessing import sequence\n",
    "from tcn import compiled_tcn"
   ]
  },
  {
   "cell_type": "code",
   "execution_count": 40,
   "id": "4c687b00",
   "metadata": {},
   "outputs": [
    {
     "name": "stdout",
     "output_type": "stream",
     "text": [
      "x.shape= (None, 64)\n",
      "model.x = (None, 40, 1)\n",
      "model.y = (None, 2)\n"
     ]
    },
    {
     "name": "stderr",
     "output_type": "stream",
     "text": [
      "C:\\Users\\admin\\anaconda3\\lib\\site-packages\\keras\\optimizer_v2\\adam.py:105: UserWarning: The `lr` argument is deprecated, use `learning_rate` instead.\n",
      "  super(Adam, self).__init__(name, **kwargs)\n"
     ]
    }
   ],
   "source": [
    "model_TCN = compiled_tcn(return_sequences = False,num_feat = 1, num_classes = 2, nb_filters = 64,kernel_size=6,\n",
    "                    dilations=[1,2,4,8,16,32,64],nb_stacks=1, opt='adam',lr=0.002,activation = 'relu',kernel_initializer = \n",
    "                    'he_normal',use_batch_norm=True,use_layer_norm = False,use_weight_norm = False,max_len=x1_TCN[0:1].shape[1],\n",
    "                     use_skip_connections=True) "
   ]
  },
  {
   "cell_type": "code",
   "execution_count": 41,
   "id": "2a7acc80",
   "metadata": {},
   "outputs": [
    {
     "name": "stdout",
     "output_type": "stream",
     "text": [
      "40\n"
     ]
    }
   ],
   "source": [
    "print(x1_TCN[0:1].shape[1])"
   ]
  },
  {
   "cell_type": "code",
   "execution_count": 42,
   "id": "d457fd7e",
   "metadata": {},
   "outputs": [
    {
     "name": "stdout",
     "output_type": "stream",
     "text": [
      "x_train.shape = (134686, 40, 1)\n",
      "y_train.shape = (134686, 2, 1)\n",
      "x_test.shape = (22544, 40, 1)\n",
      "y_test.shape = (22544, 2, 1)\n"
     ]
    }
   ],
   "source": [
    "print(f'x_train.shape = {x1_TCN.shape}')\n",
    "print(f'y_train.shape = {y1_TCN.shape}')\n",
    "print(f'x_test.shape = {x2_TCN.shape}')\n",
    "print(f'y_test.shape = {y2_TCN.shape}')"
   ]
  },
  {
   "cell_type": "code",
   "execution_count": 43,
   "id": "dd2f4300",
   "metadata": {},
   "outputs": [
    {
     "name": "stdout",
     "output_type": "stream",
     "text": [
      "Model: \"model\"\n",
      "_________________________________________________________________\n",
      " Layer (type)                Output Shape              Param #   \n",
      "=================================================================\n",
      " input_1 (InputLayer)        [(None, 40, 1)]           0         \n",
      "                                                                 \n",
      " tcn (TCN)                   (None, 64)                324480    \n",
      "                                                                 \n",
      " dense_8 (Dense)             (None, 2)                 130       \n",
      "                                                                 \n",
      " activation (Activation)     (None, 2)                 0         \n",
      "                                                                 \n",
      "=================================================================\n",
      "Total params: 324,610\n",
      "Trainable params: 322,818\n",
      "Non-trainable params: 1,792\n",
      "_________________________________________________________________\n"
     ]
    }
   ],
   "source": [
    "model_TCN.summary()"
   ]
  },
  {
   "cell_type": "code",
   "execution_count": 44,
   "id": "3a414cef",
   "metadata": {},
   "outputs": [],
   "source": [
    "y1_TCN = y1_TCN.squeeze().argmax(axis=1)\n",
    "y2_TCN = y2_TCN.squeeze().argmax(axis=1)"
   ]
  },
  {
   "cell_type": "code",
   "execution_count": 45,
   "id": "647902ae",
   "metadata": {},
   "outputs": [
    {
     "name": "stdout",
     "output_type": "stream",
     "text": [
      "Epoch 1/10\n",
      "4209/4209 [==============================] - 926s 216ms/step - loss: 0.0535 - accuracy: 0.9818 - val_loss: 0.8318 - val_accuracy: 0.7693\n",
      "Epoch 2/10\n",
      "4209/4209 [==============================] - 844s 201ms/step - loss: 0.0276 - accuracy: 0.9900 - val_loss: 1.0510 - val_accuracy: 0.7645\n",
      "Epoch 3/10\n",
      "4209/4209 [==============================] - 863s 205ms/step - loss: 0.0185 - accuracy: 0.9937 - val_loss: 1.1269 - val_accuracy: 0.8028\n",
      "Epoch 4/10\n",
      "4209/4209 [==============================] - 846s 201ms/step - loss: 0.0154 - accuracy: 0.9946 - val_loss: 1.0741 - val_accuracy: 0.7780\n",
      "Epoch 5/10\n",
      "4209/4209 [==============================] - 861s 204ms/step - loss: 0.0134 - accuracy: 0.9952 - val_loss: 1.4774 - val_accuracy: 0.7733\n",
      "Epoch 6/10\n",
      "4209/4209 [==============================] - 822s 195ms/step - loss: 0.0123 - accuracy: 0.9956 - val_loss: 1.3878 - val_accuracy: 0.7800\n",
      "Epoch 7/10\n",
      "4209/4209 [==============================] - 824s 196ms/step - loss: 0.0113 - accuracy: 0.9959 - val_loss: 1.9237 - val_accuracy: 0.7677\n",
      "Epoch 8/10\n",
      "4209/4209 [==============================] - 822s 195ms/step - loss: 0.0111 - accuracy: 0.9960 - val_loss: 1.4500 - val_accuracy: 0.7842\n",
      "Epoch 9/10\n",
      "4209/4209 [==============================] - 819s 195ms/step - loss: 0.0100 - accuracy: 0.9966 - val_loss: 1.5082 - val_accuracy: 0.7689\n",
      "Epoch 10/10\n",
      "4209/4209 [==============================] - 824s 196ms/step - loss: 0.0096 - accuracy: 0.9966 - val_loss: 1.4137 - val_accuracy: 0.7842\n"
     ]
    }
   ],
   "source": [
    "history = model_TCN.fit(x1_TCN, y1_TCN, epochs = 10, validation_data = [x2_TCN, y2_TCN], workers=4, use_multiprocessing=True)"
   ]
  },
  {
   "cell_type": "code",
   "execution_count": 46,
   "id": "4ddaee8b",
   "metadata": {},
   "outputs": [
    {
     "name": "stdout",
     "output_type": "stream",
     "text": [
      "705/705 [==============================] - 42s 60ms/step - loss: 1.4137 - accuracy: 0.7842\n",
      "Accuracy : 78.42 %\n",
      "Loss : 141.37 %\n"
     ]
    }
   ],
   "source": [
    "result = model_TCN.evaluate(x2_TCN, y2_TCN)\n",
    "print(f\"Accuracy : {result[1] * 100:.2f} %\")\n",
    "print(f\"Loss : {result[0] * 100:.2f} %\")"
   ]
  },
  {
   "cell_type": "code",
   "execution_count": 47,
   "id": "c3d286d2",
   "metadata": {},
   "outputs": [
    {
     "name": "stdout",
     "output_type": "stream",
     "text": [
      "[1 1 0 ... 1 0 1]\n",
      "[1 1 0 ... 1 0 1]\n"
     ]
    }
   ],
   "source": [
    "y_pred_TCN = model_TCN.predict(x2_TCN, verbose=0)\n",
    "print(np.argmax(y_pred_TCN, axis=1))\n",
    "y_pred_class_TCN=np.argmax(y_pred_TCN,axis=1)\n",
    "print(y_pred_class_TCN)"
   ]
  },
  {
   "cell_type": "code",
   "execution_count": 48,
   "id": "2e0d5de1",
   "metadata": {},
   "outputs": [
    {
     "name": "stdout",
     "output_type": "stream",
     "text": [
      "ROC AUC: 0.801982\n"
     ]
    }
   ],
   "source": [
    "# ROC AUC\n",
    "from sklearn.metrics import roc_auc_score\n",
    "auc = roc_auc_score(y2_TCN, y_pred_class_TCN)\n",
    "print('ROC AUC: %f' % auc)"
   ]
  },
  {
   "cell_type": "code",
   "execution_count": 49,
   "id": "3503225c",
   "metadata": {},
   "outputs": [
    {
     "data": {
      "image/png": "[encoded data removed]",
      "text/plain": [
       "<Figure size 432x288 with 1 Axes>"
      ]
     },
     "metadata": {
      "needs_background": "light"
     },
     "output_type": "display_data"
    }
   ],
   "source": [
    "fpr, tpr, _ = metrics.roc_curve(y2,  y_pred_class_TCN)\n",
    "#create ROC curve\n",
    "plt.plot(fpr,tpr)\n",
    "plt.ylabel('True Positive Rate')\n",
    "plt.xlabel('False Positive Rate')\n",
    "plt.show()"
   ]
  },
  {
   "cell_type": "code",
   "execution_count": 50,
   "id": "69044227",
   "metadata": {},
   "outputs": [
    {
     "name": "stdout",
     "output_type": "stream",
     "text": [
      "Accuracy with TCN classifier model =  78.41997870830376\n",
      "Confusion Matrix = [[9035 4189]\n",
      " [ 676 8644]]\n",
      "Recall = 0.7841997870830376\n",
      "Precision = 0.8242184860028797\n",
      "Classification Report =\n",
      "               precision    recall  f1-score   support\n",
      "\n",
      "           0       0.93      0.68      0.79     13224\n",
      "           1       0.67      0.93      0.78      9320\n",
      "\n",
      "    accuracy                           0.78     22544\n",
      "   macro avg       0.80      0.81      0.78     22544\n",
      "weighted avg       0.82      0.78      0.78     22544\n",
      "\n",
      "F1 Score =  0.7841348527937252\n"
     ]
    }
   ],
   "source": [
    "from sklearn import metrics\n",
    "from sklearn.metrics import f1_score\n",
    "print('Accuracy with TCN classifier model = ', metrics.accuracy_score(y_pred_class_TCN, y2_TCN)*100)\n",
    "print(\"Confusion Matrix =\", metrics.confusion_matrix(y_pred_class_TCN, y2_TCN, labels=None, \n",
    "                                              sample_weight=None))\n",
    "print(\"Recall =\", metrics.recall_score(y_pred_class_TCN, y2_TCN, labels=None, \n",
    "                                             pos_label=1, average='weighted', \n",
    "                                             sample_weight=None))\n",
    "print(\"Precision =\", metrics.precision_score(y_pred_class_TCN, y2_TCN, labels=None, \n",
    "                                             pos_label=1, average='weighted', \n",
    "                                             sample_weight=None))\n",
    "print(\"Classification Report =\\n\", metrics.classification_report(y_pred_class_TCN, y2_TCN, \n",
    "                                                                 labels=None, \n",
    "                                                                 target_names=None, \n",
    "                                                                 sample_weight=None, \n",
    "                                                                 digits=2, \n",
    "                                                                 output_dict=False))\n",
    "print(\"F1 Score = \",f1_score(y_pred_class_TCN, y2_TCN, average='macro'))"
   ]
  },
  {
   "cell_type": "code",
   "execution_count": 51,
   "id": "348e74e1",
   "metadata": {},
   "outputs": [
    {
     "data": {
      "text/plain": [
       "<AxesSubplot:>"
      ]
     },
     "execution_count": 51,
     "metadata": {},
     "output_type": "execute_result"
    },
    {
     "data": {
      "image/png": "[encoded data removed]",
      "text/plain": [
       "<Figure size 432x288 with 2 Axes>"
      ]
     },
     "metadata": {
      "needs_background": "light"
     },
     "output_type": "display_data"
    }
   ],
   "source": [
    "cm_TCN = metrics.confusion_matrix(y_pred_class_TCN, y2, labels=None, \n",
    "                                              sample_weight=None)\n",
    "import seaborn as sns\n",
    "sns.heatmap(cm_TCN, annot=True)"
   ]
  },
  {
   "cell_type": "code",
   "execution_count": 52,
   "id": "8ba36305",
   "metadata": {},
   "outputs": [
    {
     "data": {
      "text/plain": [
       "<AxesSubplot:>"
      ]
     },
     "execution_count": 52,
     "metadata": {},
     "output_type": "execute_result"
    },
    {
     "data": {
      "image/png": "[encoded data removed]",
      "text/plain": [
       "<Figure size 432x288 with 2 Axes>"
      ]
     },
     "metadata": {
      "needs_background": "light"
     },
     "output_type": "display_data"
    }
   ],
   "source": [
    "sns.heatmap(cm_TCN/np.sum(cm_TCN), annot=True, \n",
    "            fmt='.2%', cmap='Blues')"
   ]
  },
  {
   "cell_type": "code",
   "execution_count": 53,
   "id": "1f8cf5b3",
   "metadata": {},
   "outputs": [
    {
     "name": "stdout",
     "output_type": "stream",
     "text": [
      "X train shape:  (134686, 40)\n",
      "X test shape:  (22544, 40)\n",
      "Y train shape:  (134686,)\n",
      "Y test shape:  (22544,)\n"
     ]
    }
   ],
   "source": [
    "# 5. TabNet CLASSIFIER MODEL\n",
    "\n",
    "print(\"X train shape: \", x1.shape)\n",
    "print(\"X test shape: \", x2.shape)\n",
    "print(\"Y train shape: \", y1.shape)\n",
    "print(\"Y test shape: \", y2.shape)"
   ]
  },
  {
   "cell_type": "code",
   "execution_count": 54,
   "id": "838fbe3c",
   "metadata": {},
   "outputs": [
    {
     "name": "stdout",
     "output_type": "stream",
     "text": [
      "Requirement already satisfied: pytorch-tabnet in c:\\users\\admin\\anaconda3\\lib\\site-packages (3.1.1)\n",
      "Requirement already satisfied: torch<2.0,>=1.2 in c:\\users\\admin\\anaconda3\\lib\\site-packages (from pytorch-tabnet) (1.11.0)\n",
      "Requirement already satisfied: tqdm<5.0,>=4.36 in c:\\users\\admin\\anaconda3\\lib\\site-packages (from pytorch-tabnet) (4.59.0)\n",
      "Requirement already satisfied: scikit_learn>0.21 in c:\\users\\admin\\anaconda3\\lib\\site-packages (from pytorch-tabnet) (0.24.1)\n",
      "Requirement already satisfied: numpy<2.0,>=1.17 in c:\\users\\admin\\anaconda3\\lib\\site-packages (from pytorch-tabnet) (1.20.1)\n",
      "Requirement already satisfied: scipy>1.4 in c:\\users\\admin\\anaconda3\\lib\\site-packages (from pytorch-tabnet) (1.6.2)\n",
      "Requirement already satisfied: threadpoolctl>=2.0.0 in c:\\users\\admin\\anaconda3\\lib\\site-packages (from scikit_learn>0.21->pytorch-tabnet) (2.1.0)\n",
      "Requirement already satisfied: joblib>=0.11 in c:\\users\\admin\\anaconda3\\lib\\site-packages (from scikit_learn>0.21->pytorch-tabnet) (1.0.1)\n",
      "Requirement already satisfied: typing-extensions in c:\\users\\admin\\anaconda3\\lib\\site-packages (from torch<2.0,>=1.2->pytorch-tabnet) (3.7.4.3)\n"
     ]
    }
   ],
   "source": [
    "!pip install pytorch-tabnet\n",
    "from pytorch_tabnet.tab_model import TabNetClassifier\n",
    "import torch"
   ]
  },
  {
   "cell_type": "code",
   "execution_count": 55,
   "id": "1f19cebd",
   "metadata": {},
   "outputs": [
    {
     "name": "stdout",
     "output_type": "stream",
     "text": [
      "Device used : cpu\n"
     ]
    }
   ],
   "source": [
    "# define the model\n",
    "model_tabnet = TabNetClassifier(optimizer_fn=torch.optim.Adam,\n",
    "                       optimizer_params=dict(lr=5e-2),\n",
    "                       scheduler_params={\"step_size\":10,\"gamma\":0.9},\n",
    "                       scheduler_fn=torch.optim.lr_scheduler.StepLR,\n",
    "                       mask_type='entmax')"
   ]
  },
  {
   "cell_type": "code",
   "execution_count": 56,
   "id": "fe896f50",
   "metadata": {},
   "outputs": [
    {
     "name": "stdout",
     "output_type": "stream",
     "text": [
      "epoch 0  | loss: 0.0745  | train_auc: 0.99788 | train_accuracy: 0.98113 | valid_auc: 0.81597 | valid_accuracy: 0.7913  |  0:00:48s\n",
      "epoch 1  | loss: 0.04557 | train_auc: 0.99895 | train_accuracy: 0.98748 | valid_auc: 0.91102 | valid_accuracy: 0.7885  |  0:01:35s\n",
      "epoch 2  | loss: 0.03655 | train_auc: 0.98791 | train_accuracy: 0.96522 | valid_auc: 0.78378 | valid_accuracy: 0.75169 |  0:02:24s\n",
      "epoch 3  | loss: 0.04077 | train_auc: 0.99808 | train_accuracy: 0.95648 | valid_auc: 0.89344 | valid_accuracy: 0.85242 |  0:03:11s\n",
      "epoch 4  | loss: 0.0386  | train_auc: 0.999   | train_accuracy: 0.98997 | valid_auc: 0.89828 | valid_accuracy: 0.77249 |  0:03:59s\n",
      "epoch 5  | loss: 0.04025 | train_auc: 0.99929 | train_accuracy: 0.98961 | valid_auc: 0.95934 | valid_accuracy: 0.79879 |  0:04:47s\n",
      "epoch 6  | loss: 0.03155 | train_auc: 0.99952 | train_accuracy: 0.99061 | valid_auc: 0.96228 | valid_accuracy: 0.81002 |  0:05:35s\n",
      "epoch 7  | loss: 0.03247 | train_auc: 0.99957 | train_accuracy: 0.99158 | valid_auc: 0.95949 | valid_accuracy: 0.78353 |  0:06:22s\n",
      "epoch 8  | loss: 0.02888 | train_auc: 0.99955 | train_accuracy: 0.99145 | valid_auc: 0.94122 | valid_accuracy: 0.80168 |  0:07:11s\n",
      "epoch 9  | loss: 0.02518 | train_auc: 0.9997  | train_accuracy: 0.9935  | valid_auc: 0.92869 | valid_accuracy: 0.79161 |  0:07:59s\n",
      "epoch 10 | loss: 0.0246  | train_auc: 0.99966 | train_accuracy: 0.9929  | valid_auc: 0.96371 | valid_accuracy: 0.78464 |  0:08:47s\n",
      "epoch 11 | loss: 0.02441 | train_auc: 0.99966 | train_accuracy: 0.99238 | valid_auc: 0.94841 | valid_accuracy: 0.79241 |  0:09:34s\n",
      "epoch 12 | loss: 0.02276 | train_auc: 0.99976 | train_accuracy: 0.99286 | valid_auc: 0.95624 | valid_accuracy: 0.8015  |  0:10:22s\n",
      "epoch 13 | loss: 0.02371 | train_auc: 0.99976 | train_accuracy: 0.99266 | valid_auc: 0.94983 | valid_accuracy: 0.78784 |  0:11:10s\n",
      "epoch 14 | loss: 0.02124 | train_auc: 0.99976 | train_accuracy: 0.99277 | valid_auc: 0.94802 | valid_accuracy: 0.79467 |  0:11:57s\n",
      "epoch 15 | loss: 0.02057 | train_auc: 0.99974 | train_accuracy: 0.99321 | valid_auc: 0.94696 | valid_accuracy: 0.77622 |  0:12:50s\n",
      "epoch 16 | loss: 0.02088 | train_auc: 0.99967 | train_accuracy: 0.98861 | valid_auc: 0.95822 | valid_accuracy: 0.77675 |  0:13:41s\n",
      "epoch 17 | loss: 0.01902 | train_auc: 0.99986 | train_accuracy: 0.9945  | valid_auc: 0.92597 | valid_accuracy: 0.77999 |  0:14:31s\n",
      "epoch 18 | loss: 0.01922 | train_auc: 0.99957 | train_accuracy: 0.98689 | valid_auc: 0.89965 | valid_accuracy: 0.864   |  0:15:21s\n",
      "epoch 19 | loss: 0.02005 | train_auc: 0.99968 | train_accuracy: 0.99353 | valid_auc: 0.91663 | valid_accuracy: 0.82053 |  0:16:12s\n",
      "Stop training because you reached max_epochs = 20 with best_epoch = 18 and best_valid_accuracy = 0.864\n",
      "Best weights from best epoch are automatically used!\n"
     ]
    }
   ],
   "source": [
    "# fit the model \n",
    "model_tabnet.fit(x1,y1, eval_set=[(x1, y1), (x2, y2)],eval_name=['train', 'valid'],\n",
    "                   eval_metric=['auc','accuracy'],\n",
    "                   max_epochs=20 , patience=50, batch_size=256, virtual_batch_size=128, num_workers=0, weights=1,\n",
    "                   drop_last=False)    "
   ]
  },
  {
   "cell_type": "code",
   "execution_count": 66,
   "id": "dbc4c502",
   "metadata": {},
   "outputs": [
    {
     "data": {
      "text/plain": [
       "Text(0, 0.5, 'Feature index')"
      ]
     },
     "execution_count": 66,
     "metadata": {},
     "output_type": "execute_result"
    },
    {
     "data": {
      "image/png": "[encoded data removed]",
      "text/plain": [
       "<Figure size 576x576 with 1 Axes>"
      ]
     },
     "metadata": {
      "needs_background": "light"
     },
     "output_type": "display_data"
    }
   ],
   "source": [
    "# find and plot feature importance\n",
    "from IPython.core.pylabtools import figsize\n",
    "figsize(8, 8)\n",
    "model_tabnet.feature_importances_\n",
    "feat_importances = pd.Series(model_tabnet.feature_importances_)\n",
    "feat_importances.nlargest(10).plot(kind='barh')\n",
    "plt.title(\"Feature importance graph (NSLKDD Dataset) - TabNet\")\n",
    "plt.xlabel(\"Feature score\")\n",
    "plt.ylabel(\"Feature index\")"
   ]
  },
  {
   "cell_type": "code",
   "execution_count": 58,
   "id": "1d5fd4e5",
   "metadata": {},
   "outputs": [
    {
     "name": "stdout",
     "output_type": "stream",
     "text": [
      "[1 1 0 ... 1 0 1]\n"
     ]
    }
   ],
   "source": [
    "y_pred_TabNet = model_tabnet.predict(x2)\n",
    "print(y_pred_TabNet)"
   ]
  },
  {
   "cell_type": "code",
   "execution_count": 59,
   "id": "212b45bd",
   "metadata": {},
   "outputs": [
    {
     "name": "stdout",
     "output_type": "stream",
     "text": [
      "ROC AUC: 0.876008\n"
     ]
    }
   ],
   "source": [
    "# ROC AUC\n",
    "from sklearn.metrics import roc_auc_score\n",
    "auc = roc_auc_score(y2, y_pred_TabNet)\n",
    "print('ROC AUC: %f' % auc)"
   ]
  },
  {
   "cell_type": "code",
   "execution_count": 67,
   "id": "e21e9852",
   "metadata": {},
   "outputs": [
    {
     "data": {
      "image/png": "[encoded data removed]",
      "text/plain": [
       "<Figure size 432x360 with 1 Axes>"
      ]
     },
     "metadata": {
      "needs_background": "light"
     },
     "output_type": "display_data"
    }
   ],
   "source": [
    "from IPython.core.pylabtools import figsize\n",
    "figsize(6, 5)\n",
    "fpr, tpr, _ = metrics.roc_curve(y2,  y_pred_TabNet)\n",
    "#create ROC curve\n",
    "plt.plot(fpr,tpr)\n",
    "plt.ylabel('True Positive Rate')\n",
    "plt.xlabel('False Positive Rate')\n",
    "plt.show()"
   ]
  },
  {
   "cell_type": "code",
   "execution_count": 61,
   "id": "3275cc41",
   "metadata": {},
   "outputs": [
    {
     "name": "stdout",
     "output_type": "stream",
     "text": [
      "Accuracy in TabNet classifier model: 86.3999290276792\n",
      "Confusion Matrix = [[ 9349  2704]\n",
      " [  362 10129]]\n",
      "Recall = 0.863999290276792\n",
      "Precision = 0.8820161368349104\n",
      "Classification Report =\n",
      "               precision    recall  f1-score   support\n",
      "\n",
      "           0       0.96      0.78      0.86     12053\n",
      "           1       0.79      0.97      0.87     10491\n",
      "\n",
      "    accuracy                           0.86     22544\n",
      "   macro avg       0.88      0.87      0.86     22544\n",
      "weighted avg       0.88      0.86      0.86     22544\n",
      "\n",
      "F1 Score =  0.8638362898918068\n"
     ]
    }
   ],
   "source": [
    "from sklearn.metrics import accuracy_score\n",
    "from sklearn import metrics\n",
    "from sklearn.metrics import f1_score\n",
    "test_acc = accuracy_score(y_pred_TabNet, y2)\n",
    "print(\"Accuracy in TabNet classifier model:\",test_acc*100)\n",
    "print(\"Confusion Matrix =\", metrics.confusion_matrix(y_pred_TabNet, y2, labels=None, \n",
    "                                              sample_weight=None))\n",
    "print(\"Recall =\", metrics.recall_score(y_pred_TabNet, y2, labels=None, \n",
    "                                             pos_label=1, average='weighted', \n",
    "                                             sample_weight=None))\n",
    "print(\"Precision =\", metrics.precision_score(y_pred_TabNet, y2, labels=None, \n",
    "                                             pos_label=1, average='weighted', \n",
    "                                             sample_weight=None))\n",
    "print(\"Classification Report =\\n\", metrics.classification_report(y_pred_TabNet, y2, \n",
    "                                                                 labels=None, \n",
    "                                                                 target_names=None, \n",
    "                                                                 sample_weight=None, \n",
    "                                                                 digits=2, \n",
    "                                                                 output_dict=False))\n",
    "print(\"F1 Score = \",f1_score(y_pred_TabNet, y2, average='macro'))"
   ]
  },
  {
   "cell_type": "code",
   "execution_count": 68,
   "id": "e327f433",
   "metadata": {},
   "outputs": [
    {
     "data": {
      "text/plain": [
       "<AxesSubplot:>"
      ]
     },
     "execution_count": 68,
     "metadata": {},
     "output_type": "execute_result"
    },
    {
     "data": {
      "image/png": "[encoded data removed]",
      "text/plain": [
       "<Figure size 432x360 with 2 Axes>"
      ]
     },
     "metadata": {
      "needs_background": "light"
     },
     "output_type": "display_data"
    }
   ],
   "source": [
    "cm_TabNet = metrics.confusion_matrix(y_pred_TabNet, y2, labels=None, \n",
    "                                              sample_weight=None)\n",
    "import seaborn as sns\n",
    "sns.heatmap(cm_TabNet, annot=True)"
   ]
  },
  {
   "cell_type": "code",
   "execution_count": 69,
   "id": "99a76f25",
   "metadata": {},
   "outputs": [
    {
     "data": {
      "text/plain": [
       "<AxesSubplot:>"
      ]
     },
     "execution_count": 69,
     "metadata": {},
     "output_type": "execute_result"
    },
    {
     "data": {
      "image/png": "[encoded data removed]",
      "text/plain": [
       "<Figure size 432x360 with 2 Axes>"
      ]
     },
     "metadata": {
      "needs_background": "light"
     },
     "output_type": "display_data"
    }
   ],
   "source": [
    "sns.heatmap(cm_TabNet/np.sum(cm_TabNet), annot=True, \n",
    "            fmt='.2%', cmap='Blues')"
   ]
  },
  {
   "cell_type": "code",
   "execution_count": 64,
   "id": "01c9800a",
   "metadata": {},
   "outputs": [
    {
     "name": "stdout",
     "output_type": "stream",
     "text": [
      "Number of selected features=40\n",
      "Accuracy result of all models:\n",
      "Accuracy in XGBoost classifier model =  79.79063165365507\n",
      "Accuracy in DNN classifier model =  77.85220014194464\n",
      "Accuracy in CNN classifier model =  74.16163946061036\n",
      "Accuracy in TCN classifier model =  78.41997870830376\n",
      "Accuracy in TabNet classifier model: 86.3999290276792\n"
     ]
    }
   ],
   "source": [
    "print(\"Number of selected features=%d\" % (x1.shape[1]))\n",
    "print('Accuracy result of all models:')\n",
    "print('Accuracy in XGBoost classifier model = ', metrics.accuracy_score(y2, y_pred_xgb)*100)\n",
    "print('Accuracy in DNN classifier model = ', metrics.accuracy_score(y_predicted_class_DNN, y2)*100)\n",
    "print('Accuracy in CNN classifier model = ', metrics.accuracy_score(y_predicted_class_CNN, y2)*100)\n",
    "print('Accuracy in TCN classifier model = ', metrics.accuracy_score(y_pred_class_TCN, y2_TCN)*100)\n",
    "print(\"Accuracy in TabNet classifier model:\",test_acc*100)"
   ]
  },
  {
   "cell_type": "code",
   "execution_count": 70,
   "id": "414fe9ff",
   "metadata": {},
   "outputs": [
    {
     "data": {
      "image/png": "[encoded data removed]",
      "text/plain": [
       "<Figure size 360x360 with 1 Axes>"
      ]
     },
     "metadata": {
      "needs_background": "light"
     },
     "output_type": "display_data"
    }
   ],
   "source": [
    "data = {'XGBoost':79.79, 'DNN':77.85, 'CNN':74.16,\n",
    "        'TCN':78.42, 'TabNet':86.39}\n",
    "Classifier_model = list(data.keys())\n",
    "Classifier_accuracy = list(data.values())\n",
    "  \n",
    "fig = plt.figure(figsize = (5, 5))\n",
    " \n",
    "# creating the bar plot\n",
    "plt.bar(Classifier_model, Classifier_accuracy, color ='blue',\n",
    "        width = 0.3)\n",
    "plt.ylim(0, 100)\n",
    "plt.xlabel(\"Classifier\")\n",
    "plt.ylabel(\"Accuracy\")\n",
    "plt.title(\"Comparative analysis before feature selection (NSLKDD Dataset)\")\n",
    "plt.show()"
   ]
  },
  {
   "cell_type": "code",
   "execution_count": 71,
   "id": "2da84ebc",
   "metadata": {},
   "outputs": [
    {
     "data": {
      "text/plain": [
       "<matplotlib.legend.Legend at 0x1e25c3d8d00>"
      ]
     },
     "execution_count": 71,
     "metadata": {},
     "output_type": "execute_result"
    },
    {
     "data": {
      "image/png": "[encoded data removed]",
      "text/plain": [
       "<Figure size 432x360 with 1 Axes>"
      ]
     },
     "metadata": {
      "needs_background": "light"
     },
     "output_type": "display_data"
    }
   ],
   "source": [
    "#set up plotting area\n",
    "plt.figure(0).clf()\n",
    "\n",
    "fpr, tpr, _ = metrics.roc_curve(y2,  y_pred_xgb)\n",
    "auc = roc_auc_score(y2, y_pred_xgb)\n",
    "plt.plot(fpr,tpr,label=\"XGBoost, AUC=\"+str(auc))\n",
    "\n",
    "fpr, tpr, _ = metrics.roc_curve(y2,  y_predicted_class_DNN)\n",
    "auc = roc_auc_score(y2, y_predicted_class_DNN)\n",
    "plt.plot(fpr,tpr,label=\"DNN, AUC=\"+str(auc))\n",
    "\n",
    "fpr, tpr, _ = metrics.roc_curve(y2,  y_predicted_class_CNN)\n",
    "auc = roc_auc_score(y2, y_predicted_class_CNN)\n",
    "plt.plot(fpr,tpr,label=\"CNN, AUC=\"+str(auc))\n",
    "\n",
    "fpr, tpr, _ = metrics.roc_curve(y2,  y_pred_class_TCN)\n",
    "auc = roc_auc_score(y2, y_pred_class_TCN)\n",
    "plt.plot(fpr,tpr,label=\"TCN, AUC=\"+str(auc))\n",
    "\n",
    "#add legend\n",
    "plt.title(\"ROC curve (NSLKDD Dataset)\")\n",
    "plt.legend()"
   ]
  },
  {
   "cell_type": "code",
   "execution_count": 72,
   "id": "4b8b7d4e",
   "metadata": {},
   "outputs": [
    {
     "data": {
      "text/plain": [
       "<matplotlib.legend.Legend at 0x1e25c560310>"
      ]
     },
     "execution_count": 72,
     "metadata": {},
     "output_type": "execute_result"
    },
    {
     "data": {
      "image/png": "[encoded data removed]",
      "text/plain": [
       "<Figure size 432x360 with 1 Axes>"
      ]
     },
     "metadata": {
      "needs_background": "light"
     },
     "output_type": "display_data"
    }
   ],
   "source": [
    "fpr, tpr, _ = metrics.roc_curve(y2,  y_pred_TabNet)\n",
    "auc = roc_auc_score(y2, y_pred_TabNet)\n",
    "plt.plot(fpr,tpr,label=\"TabNet, AUC=\"+str(auc))\n",
    "#add legend\n",
    "plt.title(\"ROC curve of proposed model (NSLKDD Dataset)\")\n",
    "plt.legend()"
   ]
  },
  {
   "cell_type": "code",
   "execution_count": 78,
   "id": "e91a4673",
   "metadata": {},
   "outputs": [
    {
     "data": {
      "text/plain": [
       "<matplotlib.legend.Legend at 0x1e25ec71940>"
      ]
     },
     "execution_count": 78,
     "metadata": {},
     "output_type": "execute_result"
    },
    {
     "data": {
      "image/png": "[encoded data removed]",
      "text/plain": [
       "<Figure size 432x432 with 1 Axes>"
      ]
     },
     "metadata": {
      "needs_background": "light"
     },
     "output_type": "display_data"
    }
   ],
   "source": [
    "#set up plotting area\n",
    "from IPython.core.pylabtools import figsize\n",
    "figsize(6, 6)\n",
    "plt.figure(0).clf()\n",
    "\n",
    "fpr, tpr, _ = metrics.roc_curve(y2,  y_pred_xgb)\n",
    "auc = roc_auc_score(y2, y_pred_xgb)\n",
    "plt.plot(fpr,tpr,label=\"XGBoost, AUC=\"+str(auc))\n",
    "\n",
    "fpr, tpr, _ = metrics.roc_curve(y2,  y_predicted_class_DNN)\n",
    "auc = roc_auc_score(y2, y_predicted_class_DNN)\n",
    "plt.plot(fpr,tpr,label=\"DNN, AUC=\"+str(auc))\n",
    "\n",
    "fpr, tpr, _ = metrics.roc_curve(y2,  y_predicted_class_CNN)\n",
    "auc = roc_auc_score(y2, y_predicted_class_CNN)\n",
    "plt.plot(fpr,tpr,label=\"CNN, AUC=\"+str(auc))\n",
    "\n",
    "fpr, tpr, _ = metrics.roc_curve(y2,  y_pred_class_TCN)\n",
    "auc = roc_auc_score(y2, y_pred_class_TCN)\n",
    "plt.plot(fpr,tpr,label=\"TCN, AUC=\"+str(auc))\n",
    "\n",
    "fpr, tpr, _ = metrics.roc_curve(y2,  y_pred_TabNet)\n",
    "auc = roc_auc_score(y2, y_pred_TabNet)\n",
    "plt.plot(fpr,tpr,label=\"TabNet, AUC=\"+str(auc))\n",
    "\n",
    "#add legend\n",
    "plt.title(\"ROC curve (NSLKDD Dataset)\")\n",
    "plt.legend()"
   ]
  },
  {
   "cell_type": "code",
   "execution_count": 74,
   "id": "f37461d3",
   "metadata": {},
   "outputs": [
    {
     "data": {
      "image/png": "[encoded data removed]",
      "text/plain": [
       "<Figure size 720x576 with 1 Axes>"
      ]
     },
     "metadata": {
      "needs_background": "light"
     },
     "output_type": "display_data"
    }
   ],
   "source": [
    "from IPython.core.pylabtools import figsize\n",
    "figsize(10, 8)\n",
    "# Import Library\n",
    "import numpy as np \n",
    "import matplotlib.pyplot as plt \n",
    "\n",
    "# Define Data\n",
    "data3 = ['Before feature extraction','XGBoost feature extraction','Autoencoder feature extraction']\n",
    "xvals = [79.79,82.10,75.94]\n",
    "yvals = [77.85,77.72,71.77]\n",
    "zvals = [74.16,83.40,78.67]\n",
    "avals = [78.42,76.77,77.44]\n",
    "bvals = [86.39,88.35,80.84]\n",
    "\n",
    "x_axis = np.arange(len(data3))\n",
    "\n",
    "# Multi bar Chart\n",
    "plt.bar(x_axis +0.1, xvals, width=0.1, label = 'XGBoost')\n",
    "plt.bar(x_axis +0.1*2, yvals, width=0.1, label = 'DNN')\n",
    "plt.bar(x_axis +0.1*3, zvals, width=0.1, label = 'CNN')\n",
    "plt.bar(x_axis +0.1*4, avals, width=0.1, label = 'TCN')\n",
    "plt.bar(x_axis +0.1*5, bvals, width=0.1, label = 'TabNet')\n",
    "\n",
    "# Xticks\n",
    "plt.xticks(x_axis,data3)\n",
    "plt.ylabel(\"Accuracy (%)\")\n",
    "plt.xlabel(\"Experiments on classification\")\n",
    "plt.title(\"Comparitive analysis of different experiments (NSLKDD Dataset)\")\n",
    "plt.legend()\n",
    "plt.show()"
   ]
  },
  {
   "cell_type": "code",
   "execution_count": null,
   "id": "880b2776",
   "metadata": {},
   "outputs": [],
   "source": []
  }
 ],
 "metadata": {
  "kernelspec": {
   "display_name": "Python 3",
   "language": "python",
   "name": "python3"
  },
  "language_info": {
   "codemirror_mode": {
    "name": "ipython",
    "version": 3
   },
   "file_extension": ".py",
   "mimetype": "text/x-python",
   "name": "python",
   "nbconvert_exporter": "python",
   "pygments_lexer": "ipython3",
   "version": "3.8.8"
  }
 },
 "nbformat": 4,
 "nbformat_minor": 5
}
