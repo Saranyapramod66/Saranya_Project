{
 "cells": [
  {
   "cell_type": "code",
   "execution_count": 1,
   "id": "1cd95d01",
   "metadata": {},
   "outputs": [],
   "source": [
    "from sklearn.preprocessing import MinMaxScaler\n",
    "from tensorflow.keras.models import Model\n",
    "from tensorflow.keras.layers import Input\n",
    "from tensorflow.keras.layers import Dense\n",
    "from tensorflow.keras.layers import LeakyReLU\n",
    "from tensorflow.keras.layers import BatchNormalization\n",
    "from tensorflow.keras.models import load_model"
   ]
  },
  {
   "cell_type": "code",
   "execution_count": 2,
   "id": "e21e5961",
   "metadata": {},
   "outputs": [],
   "source": [
    "import numpy as np\n",
    "import pandas as pd\n",
    "train = pd.read_csv('UNSW_NB15_bayesian_enc_training_set.csv')\n",
    "test = pd.read_csv('UNSW_NB15_bayesian_enc_testing_set.csv')"
   ]
  },
  {
   "cell_type": "code",
   "execution_count": 3,
   "id": "2762cd4e",
   "metadata": {},
   "outputs": [
    {
     "data": {
      "text/html": [
       "<div>\n",
       "<style scoped>\n",
       "    .dataframe tbody tr th:only-of-type {\n",
       "        vertical-align: middle;\n",
       "    }\n",
       "\n",
       "    .dataframe tbody tr th {\n",
       "        vertical-align: top;\n",
       "    }\n",
       "\n",
       "    .dataframe thead th {\n",
       "        text-align: right;\n",
       "    }\n",
       "</style>\n",
       "<table border=\"1\" class=\"dataframe\">\n",
       "  <thead>\n",
       "    <tr style=\"text-align: right;\">\n",
       "      <th></th>\n",
       "      <th>id</th>\n",
       "      <th>dur</th>\n",
       "      <th>spkts</th>\n",
       "      <th>dpkts</th>\n",
       "      <th>sbytes</th>\n",
       "      <th>dbytes</th>\n",
       "      <th>rate</th>\n",
       "      <th>sttl</th>\n",
       "      <th>dttl</th>\n",
       "      <th>sload</th>\n",
       "      <th>...</th>\n",
       "      <th>is_ftp_login</th>\n",
       "      <th>ct_ftp_cmd</th>\n",
       "      <th>ct_flw_http_mthd</th>\n",
       "      <th>ct_src_ltm</th>\n",
       "      <th>ct_srv_dst</th>\n",
       "      <th>is_sm_ips_ports</th>\n",
       "      <th>proto</th>\n",
       "      <th>service</th>\n",
       "      <th>state</th>\n",
       "      <th>label</th>\n",
       "    </tr>\n",
       "  </thead>\n",
       "  <tbody>\n",
       "    <tr>\n",
       "      <th>0</th>\n",
       "      <td>1</td>\n",
       "      <td>0.121478</td>\n",
       "      <td>6</td>\n",
       "      <td>4</td>\n",
       "      <td>258</td>\n",
       "      <td>172</td>\n",
       "      <td>74.087490</td>\n",
       "      <td>252</td>\n",
       "      <td>254</td>\n",
       "      <td>1.415894e+04</td>\n",
       "      <td>...</td>\n",
       "      <td>0</td>\n",
       "      <td>0</td>\n",
       "      <td>0</td>\n",
       "      <td>1</td>\n",
       "      <td>1</td>\n",
       "      <td>0</td>\n",
       "      <td>0.455718</td>\n",
       "      <td>0.547930</td>\n",
       "      <td>0.476401</td>\n",
       "      <td>0</td>\n",
       "    </tr>\n",
       "    <tr>\n",
       "      <th>1</th>\n",
       "      <td>2</td>\n",
       "      <td>0.649902</td>\n",
       "      <td>14</td>\n",
       "      <td>38</td>\n",
       "      <td>734</td>\n",
       "      <td>42014</td>\n",
       "      <td>78.473372</td>\n",
       "      <td>62</td>\n",
       "      <td>252</td>\n",
       "      <td>8.395112e+03</td>\n",
       "      <td>...</td>\n",
       "      <td>0</td>\n",
       "      <td>0</td>\n",
       "      <td>0</td>\n",
       "      <td>1</td>\n",
       "      <td>6</td>\n",
       "      <td>0</td>\n",
       "      <td>0.455718</td>\n",
       "      <td>0.547930</td>\n",
       "      <td>0.476401</td>\n",
       "      <td>0</td>\n",
       "    </tr>\n",
       "    <tr>\n",
       "      <th>2</th>\n",
       "      <td>3</td>\n",
       "      <td>1.623129</td>\n",
       "      <td>8</td>\n",
       "      <td>16</td>\n",
       "      <td>364</td>\n",
       "      <td>13186</td>\n",
       "      <td>14.170161</td>\n",
       "      <td>62</td>\n",
       "      <td>252</td>\n",
       "      <td>1.572272e+03</td>\n",
       "      <td>...</td>\n",
       "      <td>0</td>\n",
       "      <td>0</td>\n",
       "      <td>0</td>\n",
       "      <td>2</td>\n",
       "      <td>6</td>\n",
       "      <td>0</td>\n",
       "      <td>0.455718</td>\n",
       "      <td>0.547930</td>\n",
       "      <td>0.476401</td>\n",
       "      <td>0</td>\n",
       "    </tr>\n",
       "    <tr>\n",
       "      <th>3</th>\n",
       "      <td>4</td>\n",
       "      <td>1.681642</td>\n",
       "      <td>12</td>\n",
       "      <td>12</td>\n",
       "      <td>628</td>\n",
       "      <td>770</td>\n",
       "      <td>13.677108</td>\n",
       "      <td>62</td>\n",
       "      <td>252</td>\n",
       "      <td>2.740179e+03</td>\n",
       "      <td>...</td>\n",
       "      <td>1</td>\n",
       "      <td>1</td>\n",
       "      <td>0</td>\n",
       "      <td>2</td>\n",
       "      <td>1</td>\n",
       "      <td>0</td>\n",
       "      <td>0.455718</td>\n",
       "      <td>0.603213</td>\n",
       "      <td>0.476401</td>\n",
       "      <td>0</td>\n",
       "    </tr>\n",
       "    <tr>\n",
       "      <th>4</th>\n",
       "      <td>5</td>\n",
       "      <td>0.449454</td>\n",
       "      <td>10</td>\n",
       "      <td>6</td>\n",
       "      <td>534</td>\n",
       "      <td>268</td>\n",
       "      <td>33.373826</td>\n",
       "      <td>254</td>\n",
       "      <td>252</td>\n",
       "      <td>8.561499e+03</td>\n",
       "      <td>...</td>\n",
       "      <td>0</td>\n",
       "      <td>0</td>\n",
       "      <td>0</td>\n",
       "      <td>2</td>\n",
       "      <td>39</td>\n",
       "      <td>0</td>\n",
       "      <td>0.455718</td>\n",
       "      <td>0.547930</td>\n",
       "      <td>0.476401</td>\n",
       "      <td>0</td>\n",
       "    </tr>\n",
       "    <tr>\n",
       "      <th>...</th>\n",
       "      <td>...</td>\n",
       "      <td>...</td>\n",
       "      <td>...</td>\n",
       "      <td>...</td>\n",
       "      <td>...</td>\n",
       "      <td>...</td>\n",
       "      <td>...</td>\n",
       "      <td>...</td>\n",
       "      <td>...</td>\n",
       "      <td>...</td>\n",
       "      <td>...</td>\n",
       "      <td>...</td>\n",
       "      <td>...</td>\n",
       "      <td>...</td>\n",
       "      <td>...</td>\n",
       "      <td>...</td>\n",
       "      <td>...</td>\n",
       "      <td>...</td>\n",
       "      <td>...</td>\n",
       "      <td>...</td>\n",
       "      <td>...</td>\n",
       "    </tr>\n",
       "    <tr>\n",
       "      <th>175336</th>\n",
       "      <td>175337</td>\n",
       "      <td>0.000009</td>\n",
       "      <td>2</td>\n",
       "      <td>0</td>\n",
       "      <td>114</td>\n",
       "      <td>0</td>\n",
       "      <td>111111.107200</td>\n",
       "      <td>254</td>\n",
       "      <td>0</td>\n",
       "      <td>5.066666e+07</td>\n",
       "      <td>...</td>\n",
       "      <td>0</td>\n",
       "      <td>0</td>\n",
       "      <td>0</td>\n",
       "      <td>24</td>\n",
       "      <td>24</td>\n",
       "      <td>0</td>\n",
       "      <td>0.762473</td>\n",
       "      <td>0.846186</td>\n",
       "      <td>0.912400</td>\n",
       "      <td>1</td>\n",
       "    </tr>\n",
       "    <tr>\n",
       "      <th>175337</th>\n",
       "      <td>175338</td>\n",
       "      <td>0.505762</td>\n",
       "      <td>10</td>\n",
       "      <td>8</td>\n",
       "      <td>620</td>\n",
       "      <td>354</td>\n",
       "      <td>33.612649</td>\n",
       "      <td>254</td>\n",
       "      <td>252</td>\n",
       "      <td>8.826286e+03</td>\n",
       "      <td>...</td>\n",
       "      <td>0</td>\n",
       "      <td>0</td>\n",
       "      <td>0</td>\n",
       "      <td>1</td>\n",
       "      <td>1</td>\n",
       "      <td>0</td>\n",
       "      <td>0.455718</td>\n",
       "      <td>0.547930</td>\n",
       "      <td>0.476401</td>\n",
       "      <td>1</td>\n",
       "    </tr>\n",
       "    <tr>\n",
       "      <th>175338</th>\n",
       "      <td>175339</td>\n",
       "      <td>0.000009</td>\n",
       "      <td>2</td>\n",
       "      <td>0</td>\n",
       "      <td>114</td>\n",
       "      <td>0</td>\n",
       "      <td>111111.107200</td>\n",
       "      <td>254</td>\n",
       "      <td>0</td>\n",
       "      <td>5.066666e+07</td>\n",
       "      <td>...</td>\n",
       "      <td>0</td>\n",
       "      <td>0</td>\n",
       "      <td>0</td>\n",
       "      <td>3</td>\n",
       "      <td>12</td>\n",
       "      <td>0</td>\n",
       "      <td>0.762473</td>\n",
       "      <td>0.846186</td>\n",
       "      <td>0.912400</td>\n",
       "      <td>1</td>\n",
       "    </tr>\n",
       "    <tr>\n",
       "      <th>175339</th>\n",
       "      <td>175340</td>\n",
       "      <td>0.000009</td>\n",
       "      <td>2</td>\n",
       "      <td>0</td>\n",
       "      <td>114</td>\n",
       "      <td>0</td>\n",
       "      <td>111111.107200</td>\n",
       "      <td>254</td>\n",
       "      <td>0</td>\n",
       "      <td>5.066666e+07</td>\n",
       "      <td>...</td>\n",
       "      <td>0</td>\n",
       "      <td>0</td>\n",
       "      <td>0</td>\n",
       "      <td>30</td>\n",
       "      <td>30</td>\n",
       "      <td>0</td>\n",
       "      <td>0.762473</td>\n",
       "      <td>0.846186</td>\n",
       "      <td>0.912400</td>\n",
       "      <td>1</td>\n",
       "    </tr>\n",
       "    <tr>\n",
       "      <th>175340</th>\n",
       "      <td>175341</td>\n",
       "      <td>0.000009</td>\n",
       "      <td>2</td>\n",
       "      <td>0</td>\n",
       "      <td>114</td>\n",
       "      <td>0</td>\n",
       "      <td>111111.107200</td>\n",
       "      <td>254</td>\n",
       "      <td>0</td>\n",
       "      <td>5.066666e+07</td>\n",
       "      <td>...</td>\n",
       "      <td>0</td>\n",
       "      <td>0</td>\n",
       "      <td>0</td>\n",
       "      <td>30</td>\n",
       "      <td>30</td>\n",
       "      <td>0</td>\n",
       "      <td>0.762473</td>\n",
       "      <td>0.846186</td>\n",
       "      <td>0.912400</td>\n",
       "      <td>1</td>\n",
       "    </tr>\n",
       "  </tbody>\n",
       "</table>\n",
       "<p>175341 rows × 44 columns</p>\n",
       "</div>"
      ],
      "text/plain": [
       "            id       dur  spkts  dpkts  sbytes  dbytes           rate  sttl  \\\n",
       "0            1  0.121478      6      4     258     172      74.087490   252   \n",
       "1            2  0.649902     14     38     734   42014      78.473372    62   \n",
       "2            3  1.623129      8     16     364   13186      14.170161    62   \n",
       "3            4  1.681642     12     12     628     770      13.677108    62   \n",
       "4            5  0.449454     10      6     534     268      33.373826   254   \n",
       "...        ...       ...    ...    ...     ...     ...            ...   ...   \n",
       "175336  175337  0.000009      2      0     114       0  111111.107200   254   \n",
       "175337  175338  0.505762     10      8     620     354      33.612649   254   \n",
       "175338  175339  0.000009      2      0     114       0  111111.107200   254   \n",
       "175339  175340  0.000009      2      0     114       0  111111.107200   254   \n",
       "175340  175341  0.000009      2      0     114       0  111111.107200   254   \n",
       "\n",
       "        dttl         sload  ...  is_ftp_login  ct_ftp_cmd  ct_flw_http_mthd  \\\n",
       "0        254  1.415894e+04  ...             0           0                 0   \n",
       "1        252  8.395112e+03  ...             0           0                 0   \n",
       "2        252  1.572272e+03  ...             0           0                 0   \n",
       "3        252  2.740179e+03  ...             1           1                 0   \n",
       "4        252  8.561499e+03  ...             0           0                 0   \n",
       "...      ...           ...  ...           ...         ...               ...   \n",
       "175336     0  5.066666e+07  ...             0           0                 0   \n",
       "175337   252  8.826286e+03  ...             0           0                 0   \n",
       "175338     0  5.066666e+07  ...             0           0                 0   \n",
       "175339     0  5.066666e+07  ...             0           0                 0   \n",
       "175340     0  5.066666e+07  ...             0           0                 0   \n",
       "\n",
       "        ct_src_ltm  ct_srv_dst  is_sm_ips_ports     proto   service     state  \\\n",
       "0                1           1                0  0.455718  0.547930  0.476401   \n",
       "1                1           6                0  0.455718  0.547930  0.476401   \n",
       "2                2           6                0  0.455718  0.547930  0.476401   \n",
       "3                2           1                0  0.455718  0.603213  0.476401   \n",
       "4                2          39                0  0.455718  0.547930  0.476401   \n",
       "...            ...         ...              ...       ...       ...       ...   \n",
       "175336          24          24                0  0.762473  0.846186  0.912400   \n",
       "175337           1           1                0  0.455718  0.547930  0.476401   \n",
       "175338           3          12                0  0.762473  0.846186  0.912400   \n",
       "175339          30          30                0  0.762473  0.846186  0.912400   \n",
       "175340          30          30                0  0.762473  0.846186  0.912400   \n",
       "\n",
       "        label  \n",
       "0           0  \n",
       "1           0  \n",
       "2           0  \n",
       "3           0  \n",
       "4           0  \n",
       "...       ...  \n",
       "175336      1  \n",
       "175337      1  \n",
       "175338      1  \n",
       "175339      1  \n",
       "175340      1  \n",
       "\n",
       "[175341 rows x 44 columns]"
      ]
     },
     "execution_count": 3,
     "metadata": {},
     "output_type": "execute_result"
    }
   ],
   "source": [
    "train"
   ]
  },
  {
   "cell_type": "code",
   "execution_count": 4,
   "id": "bbc9b646",
   "metadata": {},
   "outputs": [
    {
     "name": "stdout",
     "output_type": "stream",
     "text": [
      "             dur  spkts  dpkts  sbytes  dbytes           rate  sttl  dttl  \\\n",
      "0       0.121478      6      4     258     172      74.087490   252   254   \n",
      "1       0.649902     14     38     734   42014      78.473372    62   252   \n",
      "2       1.623129      8     16     364   13186      14.170161    62   252   \n",
      "3       1.681642     12     12     628     770      13.677108    62   252   \n",
      "4       0.449454     10      6     534     268      33.373826   254   252   \n",
      "...          ...    ...    ...     ...     ...            ...   ...   ...   \n",
      "175336  0.000009      2      0     114       0  111111.107200   254     0   \n",
      "175337  0.505762     10      8     620     354      33.612649   254   252   \n",
      "175338  0.000009      2      0     114       0  111111.107200   254     0   \n",
      "175339  0.000009      2      0     114       0  111111.107200   254     0   \n",
      "175340  0.000009      2      0     114       0  111111.107200   254     0   \n",
      "\n",
      "               sload          dload  ...  ct_dst_src_ltm  is_ftp_login  \\\n",
      "0       1.415894e+04    8495.365234  ...               1             0   \n",
      "1       8.395112e+03  503571.312500  ...               2             0   \n",
      "2       1.572272e+03   60929.230470  ...               3             0   \n",
      "3       2.740179e+03    3358.622070  ...               3             1   \n",
      "4       8.561499e+03    3987.059814  ...              40             0   \n",
      "...              ...            ...  ...             ...           ...   \n",
      "175336  5.066666e+07       0.000000  ...              24             0   \n",
      "175337  8.826286e+03    4903.492188  ...               2             0   \n",
      "175338  5.066666e+07       0.000000  ...              13             0   \n",
      "175339  5.066666e+07       0.000000  ...              30             0   \n",
      "175340  5.066666e+07       0.000000  ...              30             0   \n",
      "\n",
      "        ct_ftp_cmd  ct_flw_http_mthd  ct_src_ltm  ct_srv_dst  is_sm_ips_ports  \\\n",
      "0                0                 0           1           1                0   \n",
      "1                0                 0           1           6                0   \n",
      "2                0                 0           2           6                0   \n",
      "3                1                 0           2           1                0   \n",
      "4                0                 0           2          39                0   \n",
      "...            ...               ...         ...         ...              ...   \n",
      "175336           0                 0          24          24                0   \n",
      "175337           0                 0           1           1                0   \n",
      "175338           0                 0           3          12                0   \n",
      "175339           0                 0          30          30                0   \n",
      "175340           0                 0          30          30                0   \n",
      "\n",
      "           proto   service     state  \n",
      "0       0.455718  0.547930  0.476401  \n",
      "1       0.455718  0.547930  0.476401  \n",
      "2       0.455718  0.547930  0.476401  \n",
      "3       0.455718  0.603213  0.476401  \n",
      "4       0.455718  0.547930  0.476401  \n",
      "...          ...       ...       ...  \n",
      "175336  0.762473  0.846186  0.912400  \n",
      "175337  0.455718  0.547930  0.476401  \n",
      "175338  0.762473  0.846186  0.912400  \n",
      "175339  0.762473  0.846186  0.912400  \n",
      "175340  0.762473  0.846186  0.912400  \n",
      "\n",
      "[175341 rows x 42 columns]\n",
      "0         0\n",
      "1         0\n",
      "2         0\n",
      "3         0\n",
      "4         0\n",
      "         ..\n",
      "175336    1\n",
      "175337    1\n",
      "175338    1\n",
      "175339    1\n",
      "175340    1\n",
      "Name: label, Length: 175341, dtype: int64\n"
     ]
    }
   ],
   "source": [
    "x1 = train.iloc[:,1:43]\n",
    "y1 = train['label']\n",
    "print(x1)\n",
    "print(y1)"
   ]
  },
  {
   "cell_type": "code",
   "execution_count": 5,
   "id": "0d0140a1",
   "metadata": {},
   "outputs": [
    {
     "name": "stdout",
     "output_type": "stream",
     "text": [
      "            dur  spkts  dpkts  sbytes  dbytes           rate  sttl  dttl  \\\n",
      "0      0.000011      2      0     496       0   90909.090200   254     0   \n",
      "1      0.000008      2      0    1762       0  125000.000300   254     0   \n",
      "2      0.000005      2      0    1068       0  200000.005100   254     0   \n",
      "3      0.000006      2      0     900       0  166666.660800   254     0   \n",
      "4      0.000010      2      0    2126       0  100000.002500   254     0   \n",
      "...         ...    ...    ...     ...     ...            ...   ...   ...   \n",
      "82327  0.000005      2      0     104       0  200000.005100   254     0   \n",
      "82328  1.106101     20      8   18062     354      24.410067   254   252   \n",
      "82329  0.000000      1      0      46       0       0.000000     0     0   \n",
      "82330  0.000000      1      0      46       0       0.000000     0     0   \n",
      "82331  0.000009      2      0     104       0  111111.107200   254     0   \n",
      "\n",
      "              sload        dload  ...  ct_dst_src_ltm  is_ftp_login  \\\n",
      "0      1.803636e+08     0.000000  ...               2             0   \n",
      "1      8.810000e+08     0.000000  ...               2             0   \n",
      "2      8.544000e+08     0.000000  ...               3             0   \n",
      "3      6.000000e+08     0.000000  ...               3             0   \n",
      "4      8.504000e+08     0.000000  ...               3             0   \n",
      "...             ...          ...  ...             ...           ...   \n",
      "82327  8.320000e+07     0.000000  ...               2             0   \n",
      "82328  1.241044e+05  2242.109863  ...               1             0   \n",
      "82329  0.000000e+00     0.000000  ...               1             0   \n",
      "82330  0.000000e+00     0.000000  ...               1             0   \n",
      "82331  4.622222e+07     0.000000  ...               1             0   \n",
      "\n",
      "       ct_ftp_cmd  ct_flw_http_mthd  ct_src_ltm  ct_srv_dst  is_sm_ips_ports  \\\n",
      "0               0                 0           1           2                0   \n",
      "1               0                 0           1           2                0   \n",
      "2               0                 0           1           3                0   \n",
      "3               0                 0           2           3                0   \n",
      "4               0                 0           2           3                0   \n",
      "...           ...               ...         ...         ...              ...   \n",
      "82327           0                 0           2           1                0   \n",
      "82328           0                 0           3           2                0   \n",
      "82329           0                 0           1           1                1   \n",
      "82330           0                 0           1           1                1   \n",
      "82331           0                 0           1           1                0   \n",
      "\n",
      "          proto  service     state  \n",
      "0      0.762473  0.54793  0.912400  \n",
      "1      0.762473  0.54793  0.912400  \n",
      "2      0.762473  0.54793  0.912400  \n",
      "3      0.762473  0.54793  0.912400  \n",
      "4      0.762473  0.54793  0.912400  \n",
      "...         ...      ...       ...  \n",
      "82327  0.762473  0.54793  0.912400  \n",
      "82328  0.455718  0.54793  0.476401  \n",
      "82329  0.000000  0.54793  0.912400  \n",
      "82330  0.000000  0.54793  0.912400  \n",
      "82331  0.762473  0.54793  0.912400  \n",
      "\n",
      "[82332 rows x 42 columns]\n",
      "0        0\n",
      "1        0\n",
      "2        0\n",
      "3        0\n",
      "4        0\n",
      "        ..\n",
      "82327    0\n",
      "82328    0\n",
      "82329    0\n",
      "82330    0\n",
      "82331    0\n",
      "Name: label, Length: 82332, dtype: int64\n"
     ]
    }
   ],
   "source": [
    "x2 = test.iloc[:,1:43]\n",
    "y2 = test['label']\n",
    "print(x2)\n",
    "print(y2)"
   ]
  },
  {
   "cell_type": "code",
   "execution_count": 69,
   "id": "8c8c7461",
   "metadata": {},
   "outputs": [
    {
     "data": {
      "image/png": "[encoded data removed]",
      "text/plain": [
       "<Figure size 360x360 with 1 Axes>"
      ]
     },
     "metadata": {
      "needs_background": "light"
     },
     "output_type": "display_data"
    }
   ],
   "source": [
    "from matplotlib import pyplot as plt\n",
    "data1 = {'Intrusion':119341, 'Normal':56000}\n",
    "Class_label = list(data1.keys())\n",
    "Number_of_instances = list(data1.values())\n",
    "  \n",
    "fig = plt.figure(figsize = (5, 5))\n",
    " \n",
    "# creating the bar plot\n",
    "plt.bar(Class_label, Number_of_instances, color ='blue',\n",
    "        width = 0.3)\n",
    "plt.ylim(0, 130000)\n",
    "plt.xlabel(\"Class label\")\n",
    "plt.ylabel(\"Number of instances\")\n",
    "plt.title(\"Number of samples in each class before resampling (UNSW NB15 Dataset)\")\n",
    "plt.show()"
   ]
  },
  {
   "cell_type": "code",
   "execution_count": 7,
   "id": "c1cd61ee",
   "metadata": {},
   "outputs": [],
   "source": [
    "# RESAMPLING\n",
    "\n",
    "from imblearn import under_sampling, over_sampling\n",
    "from imblearn.over_sampling import SMOTE\n",
    "sm = SMOTE()\n",
    "x1, y1 = sm.fit_sample(x1, y1) "
   ]
  },
  {
   "cell_type": "code",
   "execution_count": 70,
   "id": "c8c9b56b",
   "metadata": {},
   "outputs": [
    {
     "data": {
      "image/png": "[encoded data removed]",
      "text/plain": [
       "<Figure size 360x360 with 1 Axes>"
      ]
     },
     "metadata": {
      "needs_background": "light"
     },
     "output_type": "display_data"
    }
   ],
   "source": [
    "data2 = {'Intrusion':119341, 'Normal':119341}\n",
    "Class_label = list(data2.keys())\n",
    "Number_of_instances = list(data2.values())\n",
    "  \n",
    "fig = plt.figure(figsize = (5, 5))\n",
    " \n",
    "# creating the bar plot\n",
    "plt.bar(Class_label, Number_of_instances, color ='blue',\n",
    "        width = 0.3)\n",
    "plt.ylim(0, 130000)\n",
    "plt.xlabel(\"Class label\")\n",
    "plt.ylabel(\"Number of instances\")\n",
    "plt.title(\"Number of samples in each class after resampling (UNSW NB15 Dataset)\")\n",
    "plt.show()"
   ]
  },
  {
   "cell_type": "code",
   "execution_count": 9,
   "id": "4147703c",
   "metadata": {},
   "outputs": [],
   "source": [
    "# NORMALIZATION\n",
    "\n",
    "from sklearn.preprocessing import MinMaxScaler\n",
    "model = MinMaxScaler()\n",
    "model.fit(x1)\n",
    "x1 = model.transform(x1)\n",
    "x2 = model.transform(x2)"
   ]
  },
  {
   "cell_type": "code",
   "execution_count": 10,
   "id": "478655f6",
   "metadata": {},
   "outputs": [],
   "source": [
    "# 1. AUTOENCODER BASED FEATURE EXTRACTION\n",
    "\n",
    "n_inputs = x1.shape[1]\n",
    "n_inputs = x2.shape[1]"
   ]
  },
  {
   "cell_type": "code",
   "execution_count": 11,
   "id": "97cf436f",
   "metadata": {},
   "outputs": [],
   "source": [
    "input_data_shape = Input(shape=(n_inputs,))\n",
    "encoder = Dense(n_inputs*3)(input_data_shape)\n",
    "encoder = BatchNormalization()(encoder)\n",
    "encoder = LeakyReLU()(encoder)\n",
    "encoder = Dense(n_inputs)(encoder)\n",
    "encoder = BatchNormalization()(encoder)\n",
    "encoder = LeakyReLU()(encoder)\n",
    "n_bottleneck = round(float(n_inputs)/3.0)\n",
    "bottleneck = Dense(n_bottleneck)(encoder)\n",
    "decoder = Dense(n_inputs)(bottleneck)\n",
    "decoder = BatchNormalization()(decoder)\n",
    "decoder = LeakyReLU()(decoder)\n",
    "decoder = Dense(n_inputs*3)(bottleneck)\n",
    "decoder = BatchNormalization()(decoder)\n",
    "decoder = LeakyReLU()(decoder)"
   ]
  },
  {
   "cell_type": "code",
   "execution_count": 12,
   "id": "3ec18287",
   "metadata": {},
   "outputs": [
    {
     "name": "stdout",
     "output_type": "stream",
     "text": [
      "Model: \"model\"\n",
      "_________________________________________________________________\n",
      " Layer (type)                Output Shape              Param #   \n",
      "=================================================================\n",
      " input_1 (InputLayer)        [(None, 42)]              0         \n",
      "                                                                 \n",
      " dense (Dense)               (None, 126)               5418      \n",
      "                                                                 \n",
      " batch_normalization (BatchN  (None, 126)              504       \n",
      " ormalization)                                                   \n",
      "                                                                 \n",
      " leaky_re_lu (LeakyReLU)     (None, 126)               0         \n",
      "                                                                 \n",
      " dense_1 (Dense)             (None, 42)                5334      \n",
      "                                                                 \n",
      " batch_normalization_1 (Batc  (None, 42)               168       \n",
      " hNormalization)                                                 \n",
      "                                                                 \n",
      " leaky_re_lu_1 (LeakyReLU)   (None, 42)                0         \n",
      "                                                                 \n",
      " dense_2 (Dense)             (None, 14)                602       \n",
      "                                                                 \n",
      " dense_4 (Dense)             (None, 126)               1890      \n",
      "                                                                 \n",
      " batch_normalization_3 (Batc  (None, 126)              504       \n",
      " hNormalization)                                                 \n",
      "                                                                 \n",
      " leaky_re_lu_3 (LeakyReLU)   (None, 126)               0         \n",
      "                                                                 \n",
      " dense_5 (Dense)             (None, 42)                5334      \n",
      "                                                                 \n",
      "=================================================================\n",
      "Total params: 19,754\n",
      "Trainable params: 19,166\n",
      "Non-trainable params: 588\n",
      "_________________________________________________________________\n"
     ]
    }
   ],
   "source": [
    "output = Dense(n_inputs,activation = 'relu')(decoder)\n",
    "model_AE = Model(inputs = input_data_shape,outputs = output)\n",
    "model_AE.compile(optimizer = 'adam',loss='mse')\n",
    "model_AE.summary()"
   ]
  },
  {
   "cell_type": "code",
   "execution_count": 13,
   "id": "bc75b4f8",
   "metadata": {},
   "outputs": [
    {
     "name": "stdout",
     "output_type": "stream",
     "text": [
      "Epoch 1/20\n",
      "933/933 - 25s - loss: 0.0076 - val_loss: 0.0022 - 25s/epoch - 26ms/step\n",
      "Epoch 2/20\n",
      "933/933 - 10s - loss: 0.0020 - val_loss: 0.0017 - 10s/epoch - 11ms/step\n",
      "Epoch 3/20\n",
      "933/933 - 10s - loss: 0.0017 - val_loss: 0.0016 - 10s/epoch - 10ms/step\n",
      "Epoch 4/20\n",
      "933/933 - 10s - loss: 0.0015 - val_loss: 0.0013 - 10s/epoch - 10ms/step\n",
      "Epoch 5/20\n",
      "933/933 - 10s - loss: 0.0015 - val_loss: 0.0014 - 10s/epoch - 10ms/step\n",
      "Epoch 6/20\n",
      "933/933 - 8s - loss: 0.0014 - val_loss: 0.0013 - 8s/epoch - 9ms/step\n",
      "Epoch 7/20\n",
      "933/933 - 9s - loss: 0.0014 - val_loss: 0.0012 - 9s/epoch - 9ms/step\n",
      "Epoch 8/20\n",
      "933/933 - 6s - loss: 0.0013 - val_loss: 0.0013 - 6s/epoch - 7ms/step\n",
      "Epoch 9/20\n",
      "933/933 - 6s - loss: 0.0013 - val_loss: 0.0012 - 6s/epoch - 7ms/step\n",
      "Epoch 10/20\n",
      "933/933 - 10s - loss: 0.0013 - val_loss: 0.0012 - 10s/epoch - 10ms/step\n",
      "Epoch 11/20\n",
      "933/933 - 10s - loss: 0.0013 - val_loss: 0.0011 - 10s/epoch - 10ms/step\n",
      "Epoch 12/20\n",
      "933/933 - 10s - loss: 0.0013 - val_loss: 0.0012 - 10s/epoch - 10ms/step\n",
      "Epoch 13/20\n",
      "933/933 - 10s - loss: 0.0013 - val_loss: 0.0012 - 10s/epoch - 10ms/step\n",
      "Epoch 14/20\n",
      "933/933 - 10s - loss: 0.0013 - val_loss: 0.0011 - 10s/epoch - 10ms/step\n",
      "Epoch 15/20\n",
      "933/933 - 10s - loss: 0.0013 - val_loss: 0.0012 - 10s/epoch - 11ms/step\n",
      "Epoch 16/20\n",
      "933/933 - 10s - loss: 0.0013 - val_loss: 0.0012 - 10s/epoch - 10ms/step\n",
      "Epoch 17/20\n",
      "933/933 - 10s - loss: 0.0012 - val_loss: 0.0012 - 10s/epoch - 10ms/step\n",
      "Epoch 18/20\n",
      "933/933 - 10s - loss: 0.0012 - val_loss: 0.0012 - 10s/epoch - 10ms/step\n",
      "Epoch 19/20\n",
      "933/933 - 10s - loss: 0.0012 - val_loss: 0.0012 - 10s/epoch - 10ms/step\n",
      "Epoch 20/20\n",
      "933/933 - 10s - loss: 0.0012 - val_loss: 0.0011 - 10s/epoch - 10ms/step\n"
     ]
    }
   ],
   "source": [
    "history = model_AE.fit(x1,x1,epochs = 20,batch_size = 256,shuffle=True,verbose = 2,validation_data = (x2,x2))"
   ]
  },
  {
   "cell_type": "code",
   "execution_count": 14,
   "id": "8a6aaf1c",
   "metadata": {},
   "outputs": [
    {
     "name": "stdout",
     "output_type": "stream",
     "text": [
      "WARNING:tensorflow:Compiled the loaded model, but the compiled metrics have yet to be built. `model.compile_metrics` will be empty until you train or evaluate the model.\n"
     ]
    }
   ],
   "source": [
    "encoder = Model(inputs = input_data_shape,outputs = bottleneck)\n",
    "encoder.save('AE_encoder.h5')"
   ]
  },
  {
   "cell_type": "code",
   "execution_count": 15,
   "id": "bdc64b32",
   "metadata": {},
   "outputs": [
    {
     "name": "stdout",
     "output_type": "stream",
     "text": [
      "WARNING:tensorflow:No training configuration found in the save file, so the model was *not* compiled. Compile it manually.\n"
     ]
    }
   ],
   "source": [
    "encoder = load_model('AE_encoder.h5')\n",
    "x1_encode = encoder.predict(x1)\n",
    "x2_encode = encoder.predict(x2)"
   ]
  },
  {
   "cell_type": "code",
   "execution_count": 16,
   "id": "c5ae7f9f",
   "metadata": {},
   "outputs": [
    {
     "data": {
      "text/plain": [
       "array([[-1.05251122e+00,  4.66294497e-01, -1.22382104e+00, ...,\n",
       "        -6.68272153e-02, -2.66582775e-03,  9.05818343e-02],\n",
       "       [-1.22553873e+00,  3.02166414e+00,  1.57597661e-01, ...,\n",
       "         1.01078525e-01,  1.95059329e-01,  1.16426384e+00],\n",
       "       [-1.05528378e+00,  2.43076682e+00, -4.60718274e-01, ...,\n",
       "         4.72090185e-01,  7.35385299e-01,  9.06608403e-01],\n",
       "       ...,\n",
       "       [ 3.27062756e-02,  1.73174763e+00, -1.67808700e+00, ...,\n",
       "         1.11605322e+00, -1.83916032e-01,  1.87233377e+00],\n",
       "       [-1.14613450e+00,  6.97476745e-01, -8.07948172e-01, ...,\n",
       "        -4.96879891e-02, -1.95819545e+00,  2.16370559e+00],\n",
       "       [-7.30830312e-01,  9.85149562e-01, -8.15093100e-01, ...,\n",
       "         2.42853671e-01,  8.45102608e-01,  7.07902014e-01]], dtype=float32)"
      ]
     },
     "execution_count": 16,
     "metadata": {},
     "output_type": "execute_result"
    }
   ],
   "source": [
    "x1_encode"
   ]
  },
  {
   "cell_type": "code",
   "execution_count": 17,
   "id": "4e5844d1",
   "metadata": {},
   "outputs": [
    {
     "data": {
      "text/plain": [
       "array([[-0.48629427,  0.46468872,  2.2175033 , ..., -2.737243  ,\n",
       "        -0.31181723,  0.6340338 ],\n",
       "       [-0.5230595 ,  0.28203452,  1.9879415 , ..., -3.6750865 ,\n",
       "        -0.9308832 ,  0.5222928 ],\n",
       "       [-0.5065994 ,  0.36955866,  2.1150897 , ..., -3.169413  ,\n",
       "        -0.5511364 ,  0.5824991 ],\n",
       "       ...,\n",
       "       [ 3.389453  , 10.263091  , -1.1149046 , ...,  3.921506  ,\n",
       "         1.9418211 ,  3.018292  ],\n",
       "       [ 3.3894556 , 10.263092  , -1.1149067 , ...,  3.9215064 ,\n",
       "         1.9418195 ,  3.0182931 ],\n",
       "       [-0.4791587 ,  0.51487154,  2.310147  , ..., -2.437339  ,\n",
       "        -0.14164008,  0.64842534]], dtype=float32)"
      ]
     },
     "execution_count": 17,
     "metadata": {},
     "output_type": "execute_result"
    }
   ],
   "source": [
    "x2_encode"
   ]
  },
  {
   "cell_type": "code",
   "execution_count": 18,
   "id": "f6a80ce2",
   "metadata": {},
   "outputs": [
    {
     "data": {
      "text/plain": [
       "(238682, 14)"
      ]
     },
     "execution_count": 18,
     "metadata": {},
     "output_type": "execute_result"
    }
   ],
   "source": [
    "x1_encode.shape"
   ]
  },
  {
   "cell_type": "code",
   "execution_count": 19,
   "id": "8dd57f22",
   "metadata": {},
   "outputs": [
    {
     "data": {
      "text/plain": [
       "(82332, 14)"
      ]
     },
     "execution_count": 19,
     "metadata": {},
     "output_type": "execute_result"
    }
   ],
   "source": [
    "x2_encode.shape"
   ]
  },
  {
   "cell_type": "code",
   "execution_count": 20,
   "id": "68c67224",
   "metadata": {},
   "outputs": [
    {
     "data": {
      "text/html": [
       "<div>\n",
       "<style scoped>\n",
       "    .dataframe tbody tr th:only-of-type {\n",
       "        vertical-align: middle;\n",
       "    }\n",
       "\n",
       "    .dataframe tbody tr th {\n",
       "        vertical-align: top;\n",
       "    }\n",
       "\n",
       "    .dataframe thead th {\n",
       "        text-align: right;\n",
       "    }\n",
       "</style>\n",
       "<table border=\"1\" class=\"dataframe\">\n",
       "  <thead>\n",
       "    <tr style=\"text-align: right;\">\n",
       "      <th></th>\n",
       "      <th>AE_0</th>\n",
       "      <th>AE_1</th>\n",
       "      <th>AE_2</th>\n",
       "      <th>AE_3</th>\n",
       "      <th>AE_4</th>\n",
       "      <th>AE_5</th>\n",
       "      <th>AE_6</th>\n",
       "      <th>AE_7</th>\n",
       "      <th>AE_8</th>\n",
       "      <th>AE_9</th>\n",
       "      <th>AE_10</th>\n",
       "      <th>AE_11</th>\n",
       "      <th>AE_12</th>\n",
       "      <th>AE_13</th>\n",
       "    </tr>\n",
       "  </thead>\n",
       "  <tbody>\n",
       "    <tr>\n",
       "      <th>0</th>\n",
       "      <td>-1.052511</td>\n",
       "      <td>0.466294</td>\n",
       "      <td>-1.223821</td>\n",
       "      <td>-1.387317</td>\n",
       "      <td>-0.397027</td>\n",
       "      <td>-2.004721</td>\n",
       "      <td>-0.444896</td>\n",
       "      <td>-1.105148</td>\n",
       "      <td>-0.595322</td>\n",
       "      <td>0.077704</td>\n",
       "      <td>-2.837607</td>\n",
       "      <td>-0.066827</td>\n",
       "      <td>-0.002666</td>\n",
       "      <td>0.090582</td>\n",
       "    </tr>\n",
       "    <tr>\n",
       "      <th>1</th>\n",
       "      <td>-1.225539</td>\n",
       "      <td>3.021664</td>\n",
       "      <td>0.157598</td>\n",
       "      <td>-0.378443</td>\n",
       "      <td>-1.160110</td>\n",
       "      <td>-1.863075</td>\n",
       "      <td>-0.489220</td>\n",
       "      <td>-2.451426</td>\n",
       "      <td>0.752282</td>\n",
       "      <td>-0.574933</td>\n",
       "      <td>-3.349719</td>\n",
       "      <td>0.101079</td>\n",
       "      <td>0.195059</td>\n",
       "      <td>1.164264</td>\n",
       "    </tr>\n",
       "    <tr>\n",
       "      <th>2</th>\n",
       "      <td>-1.055284</td>\n",
       "      <td>2.430767</td>\n",
       "      <td>-0.460718</td>\n",
       "      <td>-0.549432</td>\n",
       "      <td>-0.733250</td>\n",
       "      <td>-2.863697</td>\n",
       "      <td>-1.064098</td>\n",
       "      <td>-1.135437</td>\n",
       "      <td>0.738227</td>\n",
       "      <td>-0.501624</td>\n",
       "      <td>-3.243936</td>\n",
       "      <td>0.472090</td>\n",
       "      <td>0.735385</td>\n",
       "      <td>0.906608</td>\n",
       "    </tr>\n",
       "    <tr>\n",
       "      <th>3</th>\n",
       "      <td>-1.203059</td>\n",
       "      <td>1.354329</td>\n",
       "      <td>-0.759333</td>\n",
       "      <td>0.046270</td>\n",
       "      <td>-0.051222</td>\n",
       "      <td>-2.548516</td>\n",
       "      <td>-0.247424</td>\n",
       "      <td>-0.284332</td>\n",
       "      <td>0.348046</td>\n",
       "      <td>-0.756196</td>\n",
       "      <td>-2.371345</td>\n",
       "      <td>0.533712</td>\n",
       "      <td>0.710682</td>\n",
       "      <td>1.099651</td>\n",
       "    </tr>\n",
       "    <tr>\n",
       "      <th>4</th>\n",
       "      <td>-0.288074</td>\n",
       "      <td>0.613755</td>\n",
       "      <td>-0.737952</td>\n",
       "      <td>0.472382</td>\n",
       "      <td>-0.160398</td>\n",
       "      <td>-0.982402</td>\n",
       "      <td>-0.479971</td>\n",
       "      <td>-1.776617</td>\n",
       "      <td>0.939421</td>\n",
       "      <td>0.456160</td>\n",
       "      <td>-2.398485</td>\n",
       "      <td>-0.640333</td>\n",
       "      <td>1.599061</td>\n",
       "      <td>0.941346</td>\n",
       "    </tr>\n",
       "    <tr>\n",
       "      <th>...</th>\n",
       "      <td>...</td>\n",
       "      <td>...</td>\n",
       "      <td>...</td>\n",
       "      <td>...</td>\n",
       "      <td>...</td>\n",
       "      <td>...</td>\n",
       "      <td>...</td>\n",
       "      <td>...</td>\n",
       "      <td>...</td>\n",
       "      <td>...</td>\n",
       "      <td>...</td>\n",
       "      <td>...</td>\n",
       "      <td>...</td>\n",
       "      <td>...</td>\n",
       "    </tr>\n",
       "    <tr>\n",
       "      <th>238677</th>\n",
       "      <td>0.033348</td>\n",
       "      <td>2.059657</td>\n",
       "      <td>-1.418875</td>\n",
       "      <td>-1.251489</td>\n",
       "      <td>-0.537602</td>\n",
       "      <td>-2.064733</td>\n",
       "      <td>0.633260</td>\n",
       "      <td>0.162490</td>\n",
       "      <td>1.363486</td>\n",
       "      <td>0.915128</td>\n",
       "      <td>-2.178612</td>\n",
       "      <td>1.122589</td>\n",
       "      <td>-0.122969</td>\n",
       "      <td>1.447913</td>\n",
       "    </tr>\n",
       "    <tr>\n",
       "      <th>238678</th>\n",
       "      <td>-0.361637</td>\n",
       "      <td>2.163950</td>\n",
       "      <td>-1.757837</td>\n",
       "      <td>-1.235829</td>\n",
       "      <td>-0.072748</td>\n",
       "      <td>-1.522996</td>\n",
       "      <td>0.385133</td>\n",
       "      <td>0.385289</td>\n",
       "      <td>0.255396</td>\n",
       "      <td>0.585104</td>\n",
       "      <td>-3.889794</td>\n",
       "      <td>0.984024</td>\n",
       "      <td>-0.757660</td>\n",
       "      <td>1.781219</td>\n",
       "    </tr>\n",
       "    <tr>\n",
       "      <th>238679</th>\n",
       "      <td>0.032706</td>\n",
       "      <td>1.731748</td>\n",
       "      <td>-1.678087</td>\n",
       "      <td>-0.975371</td>\n",
       "      <td>-0.027420</td>\n",
       "      <td>-1.784032</td>\n",
       "      <td>0.809675</td>\n",
       "      <td>0.402301</td>\n",
       "      <td>0.661577</td>\n",
       "      <td>0.423551</td>\n",
       "      <td>-2.597864</td>\n",
       "      <td>1.116053</td>\n",
       "      <td>-0.183916</td>\n",
       "      <td>1.872334</td>\n",
       "    </tr>\n",
       "    <tr>\n",
       "      <th>238680</th>\n",
       "      <td>-1.146134</td>\n",
       "      <td>0.697477</td>\n",
       "      <td>-0.807948</td>\n",
       "      <td>-0.853448</td>\n",
       "      <td>-0.219640</td>\n",
       "      <td>-0.788358</td>\n",
       "      <td>-0.343273</td>\n",
       "      <td>0.150535</td>\n",
       "      <td>-0.133050</td>\n",
       "      <td>0.363441</td>\n",
       "      <td>0.475277</td>\n",
       "      <td>-0.049688</td>\n",
       "      <td>-1.958195</td>\n",
       "      <td>2.163706</td>\n",
       "    </tr>\n",
       "    <tr>\n",
       "      <th>238681</th>\n",
       "      <td>-0.730830</td>\n",
       "      <td>0.985150</td>\n",
       "      <td>-0.815093</td>\n",
       "      <td>-0.678269</td>\n",
       "      <td>-0.314293</td>\n",
       "      <td>-2.341517</td>\n",
       "      <td>-0.368177</td>\n",
       "      <td>-0.524307</td>\n",
       "      <td>0.287598</td>\n",
       "      <td>-0.382058</td>\n",
       "      <td>-2.540414</td>\n",
       "      <td>0.242854</td>\n",
       "      <td>0.845103</td>\n",
       "      <td>0.707902</td>\n",
       "    </tr>\n",
       "  </tbody>\n",
       "</table>\n",
       "<p>238682 rows × 14 columns</p>\n",
       "</div>"
      ],
      "text/plain": [
       "            AE_0      AE_1      AE_2      AE_3      AE_4      AE_5      AE_6  \\\n",
       "0      -1.052511  0.466294 -1.223821 -1.387317 -0.397027 -2.004721 -0.444896   \n",
       "1      -1.225539  3.021664  0.157598 -0.378443 -1.160110 -1.863075 -0.489220   \n",
       "2      -1.055284  2.430767 -0.460718 -0.549432 -0.733250 -2.863697 -1.064098   \n",
       "3      -1.203059  1.354329 -0.759333  0.046270 -0.051222 -2.548516 -0.247424   \n",
       "4      -0.288074  0.613755 -0.737952  0.472382 -0.160398 -0.982402 -0.479971   \n",
       "...          ...       ...       ...       ...       ...       ...       ...   \n",
       "238677  0.033348  2.059657 -1.418875 -1.251489 -0.537602 -2.064733  0.633260   \n",
       "238678 -0.361637  2.163950 -1.757837 -1.235829 -0.072748 -1.522996  0.385133   \n",
       "238679  0.032706  1.731748 -1.678087 -0.975371 -0.027420 -1.784032  0.809675   \n",
       "238680 -1.146134  0.697477 -0.807948 -0.853448 -0.219640 -0.788358 -0.343273   \n",
       "238681 -0.730830  0.985150 -0.815093 -0.678269 -0.314293 -2.341517 -0.368177   \n",
       "\n",
       "            AE_7      AE_8      AE_9     AE_10     AE_11     AE_12     AE_13  \n",
       "0      -1.105148 -0.595322  0.077704 -2.837607 -0.066827 -0.002666  0.090582  \n",
       "1      -2.451426  0.752282 -0.574933 -3.349719  0.101079  0.195059  1.164264  \n",
       "2      -1.135437  0.738227 -0.501624 -3.243936  0.472090  0.735385  0.906608  \n",
       "3      -0.284332  0.348046 -0.756196 -2.371345  0.533712  0.710682  1.099651  \n",
       "4      -1.776617  0.939421  0.456160 -2.398485 -0.640333  1.599061  0.941346  \n",
       "...          ...       ...       ...       ...       ...       ...       ...  \n",
       "238677  0.162490  1.363486  0.915128 -2.178612  1.122589 -0.122969  1.447913  \n",
       "238678  0.385289  0.255396  0.585104 -3.889794  0.984024 -0.757660  1.781219  \n",
       "238679  0.402301  0.661577  0.423551 -2.597864  1.116053 -0.183916  1.872334  \n",
       "238680  0.150535 -0.133050  0.363441  0.475277 -0.049688 -1.958195  2.163706  \n",
       "238681 -0.524307  0.287598 -0.382058 -2.540414  0.242854  0.845103  0.707902  \n",
       "\n",
       "[238682 rows x 14 columns]"
      ]
     },
     "execution_count": 20,
     "metadata": {},
     "output_type": "execute_result"
    }
   ],
   "source": [
    "recon_feat_train = pd.DataFrame(x1_encode, columns =['AE_0', 'AE_1','AE_2','AE_3','AE_4','AE_5','AE_6','AE_7','AE_8','AE_9',\n",
    "                                       'AE_10','AE_11','AE_12','AE_13'])\n",
    "recon_feat_train"
   ]
  },
  {
   "cell_type": "code",
   "execution_count": 21,
   "id": "d7aee0d9",
   "metadata": {},
   "outputs": [
    {
     "data": {
      "text/html": [
       "<div>\n",
       "<style scoped>\n",
       "    .dataframe tbody tr th:only-of-type {\n",
       "        vertical-align: middle;\n",
       "    }\n",
       "\n",
       "    .dataframe tbody tr th {\n",
       "        vertical-align: top;\n",
       "    }\n",
       "\n",
       "    .dataframe thead th {\n",
       "        text-align: right;\n",
       "    }\n",
       "</style>\n",
       "<table border=\"1\" class=\"dataframe\">\n",
       "  <thead>\n",
       "    <tr style=\"text-align: right;\">\n",
       "      <th></th>\n",
       "      <th>AE_0</th>\n",
       "      <th>AE_1</th>\n",
       "      <th>AE_2</th>\n",
       "      <th>AE_3</th>\n",
       "      <th>AE_4</th>\n",
       "      <th>AE_5</th>\n",
       "      <th>AE_6</th>\n",
       "      <th>AE_7</th>\n",
       "      <th>AE_8</th>\n",
       "      <th>AE_9</th>\n",
       "      <th>AE_10</th>\n",
       "      <th>AE_11</th>\n",
       "      <th>AE_12</th>\n",
       "      <th>AE_13</th>\n",
       "    </tr>\n",
       "  </thead>\n",
       "  <tbody>\n",
       "    <tr>\n",
       "      <th>0</th>\n",
       "      <td>-0.486294</td>\n",
       "      <td>0.464689</td>\n",
       "      <td>2.217503</td>\n",
       "      <td>-1.426615</td>\n",
       "      <td>-0.907634</td>\n",
       "      <td>0.388177</td>\n",
       "      <td>-0.429568</td>\n",
       "      <td>3.040187</td>\n",
       "      <td>-2.122316</td>\n",
       "      <td>1.241834</td>\n",
       "      <td>2.785593</td>\n",
       "      <td>-2.737243</td>\n",
       "      <td>-0.311817</td>\n",
       "      <td>0.634034</td>\n",
       "    </tr>\n",
       "    <tr>\n",
       "      <th>1</th>\n",
       "      <td>-0.523059</td>\n",
       "      <td>0.282035</td>\n",
       "      <td>1.987942</td>\n",
       "      <td>-1.444279</td>\n",
       "      <td>-0.928810</td>\n",
       "      <td>0.562707</td>\n",
       "      <td>-0.198910</td>\n",
       "      <td>3.213951</td>\n",
       "      <td>-1.773638</td>\n",
       "      <td>0.847240</td>\n",
       "      <td>2.319764</td>\n",
       "      <td>-3.675086</td>\n",
       "      <td>-0.930883</td>\n",
       "      <td>0.522293</td>\n",
       "    </tr>\n",
       "    <tr>\n",
       "      <th>2</th>\n",
       "      <td>-0.506599</td>\n",
       "      <td>0.369559</td>\n",
       "      <td>2.115090</td>\n",
       "      <td>-1.386224</td>\n",
       "      <td>-0.892751</td>\n",
       "      <td>0.489176</td>\n",
       "      <td>-0.315955</td>\n",
       "      <td>3.064881</td>\n",
       "      <td>-1.930388</td>\n",
       "      <td>1.069295</td>\n",
       "      <td>2.532985</td>\n",
       "      <td>-3.169413</td>\n",
       "      <td>-0.551136</td>\n",
       "      <td>0.582499</td>\n",
       "    </tr>\n",
       "    <tr>\n",
       "      <th>3</th>\n",
       "      <td>-0.438891</td>\n",
       "      <td>0.381318</td>\n",
       "      <td>2.154788</td>\n",
       "      <td>-1.398052</td>\n",
       "      <td>-0.891704</td>\n",
       "      <td>0.472763</td>\n",
       "      <td>-0.386183</td>\n",
       "      <td>3.053762</td>\n",
       "      <td>-1.955987</td>\n",
       "      <td>1.134957</td>\n",
       "      <td>2.579842</td>\n",
       "      <td>-3.037872</td>\n",
       "      <td>-0.508429</td>\n",
       "      <td>0.579314</td>\n",
       "    </tr>\n",
       "    <tr>\n",
       "      <th>4</th>\n",
       "      <td>-0.461998</td>\n",
       "      <td>0.201788</td>\n",
       "      <td>1.901662</td>\n",
       "      <td>-1.418206</td>\n",
       "      <td>-0.898399</td>\n",
       "      <td>0.641906</td>\n",
       "      <td>-0.151884</td>\n",
       "      <td>3.244070</td>\n",
       "      <td>-1.629740</td>\n",
       "      <td>0.748581</td>\n",
       "      <td>2.130332</td>\n",
       "      <td>-3.917210</td>\n",
       "      <td>-1.129762</td>\n",
       "      <td>0.485175</td>\n",
       "    </tr>\n",
       "    <tr>\n",
       "      <th>...</th>\n",
       "      <td>...</td>\n",
       "      <td>...</td>\n",
       "      <td>...</td>\n",
       "      <td>...</td>\n",
       "      <td>...</td>\n",
       "      <td>...</td>\n",
       "      <td>...</td>\n",
       "      <td>...</td>\n",
       "      <td>...</td>\n",
       "      <td>...</td>\n",
       "      <td>...</td>\n",
       "      <td>...</td>\n",
       "      <td>...</td>\n",
       "      <td>...</td>\n",
       "    </tr>\n",
       "    <tr>\n",
       "      <th>82327</th>\n",
       "      <td>-0.461397</td>\n",
       "      <td>0.459201</td>\n",
       "      <td>2.291028</td>\n",
       "      <td>-1.448246</td>\n",
       "      <td>-0.918821</td>\n",
       "      <td>0.304475</td>\n",
       "      <td>-0.524860</td>\n",
       "      <td>3.022112</td>\n",
       "      <td>-2.205353</td>\n",
       "      <td>1.389943</td>\n",
       "      <td>2.979818</td>\n",
       "      <td>-2.438741</td>\n",
       "      <td>-0.209967</td>\n",
       "      <td>0.625641</td>\n",
       "    </tr>\n",
       "    <tr>\n",
       "      <th>82328</th>\n",
       "      <td>-0.902345</td>\n",
       "      <td>1.022571</td>\n",
       "      <td>-1.494427</td>\n",
       "      <td>-1.052209</td>\n",
       "      <td>-0.693140</td>\n",
       "      <td>-2.277253</td>\n",
       "      <td>-0.337430</td>\n",
       "      <td>-0.441306</td>\n",
       "      <td>0.209212</td>\n",
       "      <td>0.058632</td>\n",
       "      <td>-3.300391</td>\n",
       "      <td>-1.274152</td>\n",
       "      <td>0.239817</td>\n",
       "      <td>-0.661283</td>\n",
       "    </tr>\n",
       "    <tr>\n",
       "      <th>82329</th>\n",
       "      <td>3.389453</td>\n",
       "      <td>10.263091</td>\n",
       "      <td>-1.114905</td>\n",
       "      <td>-3.464572</td>\n",
       "      <td>0.039777</td>\n",
       "      <td>-0.991940</td>\n",
       "      <td>3.466724</td>\n",
       "      <td>6.223500</td>\n",
       "      <td>0.208930</td>\n",
       "      <td>3.707958</td>\n",
       "      <td>-7.517637</td>\n",
       "      <td>3.921506</td>\n",
       "      <td>1.941821</td>\n",
       "      <td>3.018292</td>\n",
       "    </tr>\n",
       "    <tr>\n",
       "      <th>82330</th>\n",
       "      <td>3.389456</td>\n",
       "      <td>10.263092</td>\n",
       "      <td>-1.114907</td>\n",
       "      <td>-3.464572</td>\n",
       "      <td>0.039777</td>\n",
       "      <td>-0.991942</td>\n",
       "      <td>3.466723</td>\n",
       "      <td>6.223501</td>\n",
       "      <td>0.208930</td>\n",
       "      <td>3.707958</td>\n",
       "      <td>-7.517638</td>\n",
       "      <td>3.921506</td>\n",
       "      <td>1.941820</td>\n",
       "      <td>3.018293</td>\n",
       "    </tr>\n",
       "    <tr>\n",
       "      <th>82331</th>\n",
       "      <td>-0.479159</td>\n",
       "      <td>0.514872</td>\n",
       "      <td>2.310147</td>\n",
       "      <td>-1.474681</td>\n",
       "      <td>-0.923490</td>\n",
       "      <td>0.309956</td>\n",
       "      <td>-0.499941</td>\n",
       "      <td>3.008986</td>\n",
       "      <td>-2.242626</td>\n",
       "      <td>1.352995</td>\n",
       "      <td>2.973486</td>\n",
       "      <td>-2.437339</td>\n",
       "      <td>-0.141640</td>\n",
       "      <td>0.648425</td>\n",
       "    </tr>\n",
       "  </tbody>\n",
       "</table>\n",
       "<p>82332 rows × 14 columns</p>\n",
       "</div>"
      ],
      "text/plain": [
       "           AE_0       AE_1      AE_2      AE_3      AE_4      AE_5      AE_6  \\\n",
       "0     -0.486294   0.464689  2.217503 -1.426615 -0.907634  0.388177 -0.429568   \n",
       "1     -0.523059   0.282035  1.987942 -1.444279 -0.928810  0.562707 -0.198910   \n",
       "2     -0.506599   0.369559  2.115090 -1.386224 -0.892751  0.489176 -0.315955   \n",
       "3     -0.438891   0.381318  2.154788 -1.398052 -0.891704  0.472763 -0.386183   \n",
       "4     -0.461998   0.201788  1.901662 -1.418206 -0.898399  0.641906 -0.151884   \n",
       "...         ...        ...       ...       ...       ...       ...       ...   \n",
       "82327 -0.461397   0.459201  2.291028 -1.448246 -0.918821  0.304475 -0.524860   \n",
       "82328 -0.902345   1.022571 -1.494427 -1.052209 -0.693140 -2.277253 -0.337430   \n",
       "82329  3.389453  10.263091 -1.114905 -3.464572  0.039777 -0.991940  3.466724   \n",
       "82330  3.389456  10.263092 -1.114907 -3.464572  0.039777 -0.991942  3.466723   \n",
       "82331 -0.479159   0.514872  2.310147 -1.474681 -0.923490  0.309956 -0.499941   \n",
       "\n",
       "           AE_7      AE_8      AE_9     AE_10     AE_11     AE_12     AE_13  \n",
       "0      3.040187 -2.122316  1.241834  2.785593 -2.737243 -0.311817  0.634034  \n",
       "1      3.213951 -1.773638  0.847240  2.319764 -3.675086 -0.930883  0.522293  \n",
       "2      3.064881 -1.930388  1.069295  2.532985 -3.169413 -0.551136  0.582499  \n",
       "3      3.053762 -1.955987  1.134957  2.579842 -3.037872 -0.508429  0.579314  \n",
       "4      3.244070 -1.629740  0.748581  2.130332 -3.917210 -1.129762  0.485175  \n",
       "...         ...       ...       ...       ...       ...       ...       ...  \n",
       "82327  3.022112 -2.205353  1.389943  2.979818 -2.438741 -0.209967  0.625641  \n",
       "82328 -0.441306  0.209212  0.058632 -3.300391 -1.274152  0.239817 -0.661283  \n",
       "82329  6.223500  0.208930  3.707958 -7.517637  3.921506  1.941821  3.018292  \n",
       "82330  6.223501  0.208930  3.707958 -7.517638  3.921506  1.941820  3.018293  \n",
       "82331  3.008986 -2.242626  1.352995  2.973486 -2.437339 -0.141640  0.648425  \n",
       "\n",
       "[82332 rows x 14 columns]"
      ]
     },
     "execution_count": 21,
     "metadata": {},
     "output_type": "execute_result"
    }
   ],
   "source": [
    "recon_feat_test = pd.DataFrame(x2_encode, columns =['AE_0', 'AE_1','AE_2','AE_3','AE_4','AE_5','AE_6','AE_7','AE_8','AE_9',\n",
    "                                       'AE_10','AE_11','AE_12','AE_13'])\n",
    "recon_feat_test"
   ]
  },
  {
   "cell_type": "code",
   "execution_count": 22,
   "id": "ebdec407",
   "metadata": {},
   "outputs": [
    {
     "name": "stdout",
     "output_type": "stream",
     "text": [
      "            AE_0      AE_1      AE_2      AE_3      AE_4      AE_5      AE_6  \\\n",
      "0      -1.052511  0.466294 -1.223821 -1.387317 -0.397027 -2.004721 -0.444896   \n",
      "1      -1.225539  3.021664  0.157598 -0.378443 -1.160110 -1.863075 -0.489220   \n",
      "2      -1.055284  2.430767 -0.460718 -0.549432 -0.733250 -2.863697 -1.064098   \n",
      "3      -1.203059  1.354329 -0.759333  0.046270 -0.051222 -2.548516 -0.247424   \n",
      "4      -0.288074  0.613755 -0.737952  0.472382 -0.160398 -0.982402 -0.479971   \n",
      "...          ...       ...       ...       ...       ...       ...       ...   \n",
      "238677  0.033348  2.059657 -1.418875 -1.251489 -0.537602 -2.064733  0.633260   \n",
      "238678 -0.361637  2.163950 -1.757837 -1.235829 -0.072748 -1.522996  0.385133   \n",
      "238679  0.032706  1.731748 -1.678087 -0.975371 -0.027420 -1.784032  0.809675   \n",
      "238680 -1.146134  0.697477 -0.807948 -0.853448 -0.219640 -0.788358 -0.343273   \n",
      "238681 -0.730830  0.985150 -0.815093 -0.678269 -0.314293 -2.341517 -0.368177   \n",
      "\n",
      "            AE_7      AE_8      AE_9     AE_10     AE_11     AE_12     AE_13  \n",
      "0      -1.105148 -0.595322  0.077704 -2.837607 -0.066827 -0.002666  0.090582  \n",
      "1      -2.451426  0.752282 -0.574933 -3.349719  0.101079  0.195059  1.164264  \n",
      "2      -1.135437  0.738227 -0.501624 -3.243936  0.472090  0.735385  0.906608  \n",
      "3      -0.284332  0.348046 -0.756196 -2.371345  0.533712  0.710682  1.099651  \n",
      "4      -1.776617  0.939421  0.456160 -2.398485 -0.640333  1.599061  0.941346  \n",
      "...          ...       ...       ...       ...       ...       ...       ...  \n",
      "238677  0.162490  1.363486  0.915128 -2.178612  1.122589 -0.122969  1.447913  \n",
      "238678  0.385289  0.255396  0.585104 -3.889794  0.984024 -0.757660  1.781219  \n",
      "238679  0.402301  0.661577  0.423551 -2.597864  1.116053 -0.183916  1.872334  \n",
      "238680  0.150535 -0.133050  0.363441  0.475277 -0.049688 -1.958195  2.163706  \n",
      "238681 -0.524307  0.287598 -0.382058 -2.540414  0.242854  0.845103  0.707902  \n",
      "\n",
      "[238682 rows x 14 columns]\n",
      "           AE_0       AE_1      AE_2      AE_3      AE_4      AE_5      AE_6  \\\n",
      "0     -0.486294   0.464689  2.217503 -1.426615 -0.907634  0.388177 -0.429568   \n",
      "1     -0.523059   0.282035  1.987942 -1.444279 -0.928810  0.562707 -0.198910   \n",
      "2     -0.506599   0.369559  2.115090 -1.386224 -0.892751  0.489176 -0.315955   \n",
      "3     -0.438891   0.381318  2.154788 -1.398052 -0.891704  0.472763 -0.386183   \n",
      "4     -0.461998   0.201788  1.901662 -1.418206 -0.898399  0.641906 -0.151884   \n",
      "...         ...        ...       ...       ...       ...       ...       ...   \n",
      "82327 -0.461397   0.459201  2.291028 -1.448246 -0.918821  0.304475 -0.524860   \n",
      "82328 -0.902345   1.022571 -1.494427 -1.052209 -0.693140 -2.277253 -0.337430   \n",
      "82329  3.389453  10.263091 -1.114905 -3.464572  0.039777 -0.991940  3.466724   \n",
      "82330  3.389456  10.263092 -1.114907 -3.464572  0.039777 -0.991942  3.466723   \n",
      "82331 -0.479159   0.514872  2.310147 -1.474681 -0.923490  0.309956 -0.499941   \n",
      "\n",
      "           AE_7      AE_8      AE_9     AE_10     AE_11     AE_12     AE_13  \n",
      "0      3.040187 -2.122316  1.241834  2.785593 -2.737243 -0.311817  0.634034  \n",
      "1      3.213951 -1.773638  0.847240  2.319764 -3.675086 -0.930883  0.522293  \n",
      "2      3.064881 -1.930388  1.069295  2.532985 -3.169413 -0.551136  0.582499  \n",
      "3      3.053762 -1.955987  1.134957  2.579842 -3.037872 -0.508429  0.579314  \n",
      "4      3.244070 -1.629740  0.748581  2.130332 -3.917210 -1.129762  0.485175  \n",
      "...         ...       ...       ...       ...       ...       ...       ...  \n",
      "82327  3.022112 -2.205353  1.389943  2.979818 -2.438741 -0.209967  0.625641  \n",
      "82328 -0.441306  0.209212  0.058632 -3.300391 -1.274152  0.239817 -0.661283  \n",
      "82329  6.223500  0.208930  3.707958 -7.517637  3.921506  1.941821  3.018292  \n",
      "82330  6.223501  0.208930  3.707958 -7.517638  3.921506  1.941820  3.018293  \n",
      "82331  3.008986 -2.242626  1.352995  2.973486 -2.437339 -0.141640  0.648425  \n",
      "\n",
      "[82332 rows x 14 columns]\n"
     ]
    }
   ],
   "source": [
    "x1_recon = recon_feat_train.iloc[:,:]\n",
    "print(x1_recon)\n",
    "x2_recon = recon_feat_test.iloc[:,:]\n",
    "print(x2_recon)"
   ]
  },
  {
   "cell_type": "code",
   "execution_count": 23,
   "id": "e129ee16",
   "metadata": {},
   "outputs": [
    {
     "name": "stderr",
     "output_type": "stream",
     "text": [
      "C:\\Users\\admin\\anaconda3\\lib\\site-packages\\xgboost\\sklearn.py:1224: UserWarning: The use of label encoder in XGBClassifier is deprecated and will be removed in a future release. To remove this warning, do the following: 1) Pass option use_label_encoder=False when constructing XGBClassifier object; and 2) Encode your labels (y) as integers starting with 0, i.e. 0, 1, 2, ..., [num_class - 1].\n",
      "  warnings.warn(label_encoder_deprecation_msg, UserWarning)\n"
     ]
    },
    {
     "name": "stdout",
     "output_type": "stream",
     "text": [
      "[11:43:55] WARNING: C:/Users/Administrator/workspace/xgboost-win64_release_1.5.1/src/learner.cc:1115: Starting in XGBoost 1.3.0, the default evaluation metric used with the objective 'binary:logistic' was changed from 'error' to 'logloss'. Explicitly set eval_metric if you'd like to restore the old behavior.\n"
     ]
    },
    {
     "data": {
      "text/plain": [
       "XGBClassifier(alpha=0.05, base_score=0.5, booster='gbtree', colsample_bylevel=1,\n",
       "              colsample_bynode=1, colsample_bytree=0.6,\n",
       "              enable_categorical=False, gamma=0.3, gpu_id=-1,\n",
       "              importance_type=None, interaction_constraints='',\n",
       "              learning_rate=0.01, max_delta_step=0, max_depth=4,\n",
       "              min_child_weight=12, missing=nan, monotone_constraints='()',\n",
       "              n_estimators=1484, n_jobs=4, num_parallel_tree=1,\n",
       "              predictor='auto', random_state=27, reg_alpha=0.0500000007,\n",
       "              reg_lambda=1, scale_pos_weight=1, seed=27, subsample=0.6,\n",
       "              tree_method='exact', validate_parameters=1, verbosity=None)"
      ]
     },
     "execution_count": 23,
     "metadata": {},
     "output_type": "execute_result"
    }
   ],
   "source": [
    "# 2. XGBoost CLASSIFIER MODEL\n",
    "\n",
    "from xgboost import XGBClassifier\n",
    "import xgboost as xgb\n",
    "params = {\n",
    "             'objective':'binary:logistic',\n",
    "            'max_depth': 4, 'min_child_weight': 12, 'gamma': 0.3, 'subsample': 0.6,\n",
    "            'colsample_bytree': 0.6, 'scale_pos_weight': 1,\n",
    "            'alpha': 0.05,\n",
    "            'learning_rate': 0.01,\n",
    "            'n_estimators':1484,'seed': 27\n",
    "         }\n",
    "model_xgb = XGBClassifier(**params)\n",
    "model_xgb.fit(x1_recon, y1)"
   ]
  },
  {
   "cell_type": "code",
   "execution_count": 24,
   "id": "84aeeb9a",
   "metadata": {},
   "outputs": [
    {
     "name": "stdout",
     "output_type": "stream",
     "text": [
      "[1 1 1 ... 0 0 1]\n",
      "ROC AUC: 0.842729\n"
     ]
    }
   ],
   "source": [
    "# ROC AUC\n",
    "\n",
    "y_pred_new = model_xgb.predict(x2_recon)\n",
    "print(y_pred_new)\n",
    "from sklearn.metrics import roc_auc_score\n",
    "auc = roc_auc_score(y2, y_pred_new)\n",
    "print('ROC AUC: %f' % auc)"
   ]
  },
  {
   "cell_type": "code",
   "execution_count": 25,
   "id": "4a47535f",
   "metadata": {},
   "outputs": [
    {
     "data": {
      "image/png": "[encoded data removed]",
      "text/plain": [
       "<Figure size 432x288 with 1 Axes>"
      ]
     },
     "metadata": {
      "needs_background": "light"
     },
     "output_type": "display_data"
    }
   ],
   "source": [
    "from matplotlib import pyplot as plt\n",
    "from sklearn import metrics\n",
    "fpr, tpr, _ = metrics.roc_curve(y2,  y_pred_new)\n",
    "#create ROC curve\n",
    "plt.plot(fpr,tpr)\n",
    "plt.ylabel('True Positive Rate')\n",
    "plt.xlabel('False Positive Rate')\n",
    "plt.show()"
   ]
  },
  {
   "cell_type": "code",
   "execution_count": 26,
   "id": "46989200",
   "metadata": {},
   "outputs": [
    {
     "name": "stdout",
     "output_type": "stream",
     "text": [
      "Accuracy in XGBoost classifier model:- 85.31798085798961\n",
      "Confusion Matrix = [[27360  9640]\n",
      " [ 2448 42884]]\n",
      "Recall = 0.8531798085798961\n",
      "Precision = 0.8620383013393625\n",
      "Classification Report =\n",
      "               precision    recall  f1-score   support\n",
      "\n",
      "           0       0.92      0.74      0.82     37000\n",
      "           1       0.82      0.95      0.88     45332\n",
      "\n",
      "    accuracy                           0.85     82332\n",
      "   macro avg       0.87      0.84      0.85     82332\n",
      "weighted avg       0.86      0.85      0.85     82332\n",
      "\n",
      "F1 Score =  0.8477675676160392\n"
     ]
    }
   ],
   "source": [
    "from sklearn.metrics import accuracy_score\n",
    "from sklearn.metrics import f1_score\n",
    "from sklearn import metrics\n",
    "accuracy = accuracy_score(y2, y_pred_new)*100\n",
    "print(\"Accuracy in XGBoost classifier model:-\", accuracy)\n",
    "print(\"Confusion Matrix =\", metrics.confusion_matrix(y2, y_pred_new, labels=None, \n",
    "                                              sample_weight=None))\n",
    "print(\"Recall =\", metrics.recall_score(y2, y_pred_new, labels=None, \n",
    "                                             pos_label=1, average='weighted', \n",
    "                                             sample_weight=None))\n",
    "print(\"Precision =\", metrics.precision_score(y2, y_pred_new, labels=None, \n",
    "                                             pos_label=1, average='weighted', \n",
    "                                             sample_weight=None))\n",
    "print(\"Classification Report =\\n\", metrics.classification_report(y2, y_pred_new, \n",
    "                                                                 labels=None, \n",
    "                                                                 target_names=None, \n",
    "                                                                 sample_weight=None, \n",
    "                                                                 digits=2, \n",
    "                                                                 output_dict=False))\n",
    "\n",
    "print(\"F1 Score = \",f1_score(y2, y_pred_new, average='macro'))"
   ]
  },
  {
   "cell_type": "code",
   "execution_count": 27,
   "id": "c7dc08c1",
   "metadata": {},
   "outputs": [
    {
     "data": {
      "text/plain": [
       "<AxesSubplot:>"
      ]
     },
     "execution_count": 27,
     "metadata": {},
     "output_type": "execute_result"
    },
    {
     "data": {
      "image/png": "[encoded data removed]",
      "text/plain": [
       "<Figure size 432x288 with 2 Axes>"
      ]
     },
     "metadata": {
      "needs_background": "light"
     },
     "output_type": "display_data"
    }
   ],
   "source": [
    "cm_xgb = metrics.confusion_matrix(y_pred_new, y2, labels=None, \n",
    "                                              sample_weight=None)\n",
    "import seaborn as sns\n",
    "sns.heatmap(cm_xgb, annot=True)"
   ]
  },
  {
   "cell_type": "code",
   "execution_count": 28,
   "id": "7d19a308",
   "metadata": {},
   "outputs": [
    {
     "data": {
      "text/plain": [
       "<AxesSubplot:>"
      ]
     },
     "execution_count": 28,
     "metadata": {},
     "output_type": "execute_result"
    },
    {
     "data": {
      "image/png": "[encoded data removed]",
      "text/plain": [
       "<Figure size 432x288 with 2 Axes>"
      ]
     },
     "metadata": {
      "needs_background": "light"
     },
     "output_type": "display_data"
    }
   ],
   "source": [
    "sns.heatmap(cm_xgb/np.sum(cm_xgb), annot=True, \n",
    "            fmt='.2%', cmap='Blues')"
   ]
  },
  {
   "cell_type": "code",
   "execution_count": 29,
   "id": "7b9f7d02",
   "metadata": {},
   "outputs": [
    {
     "name": "stdout",
     "output_type": "stream",
     "text": [
      "Model: \"sequential\"\n",
      "_________________________________________________________________\n",
      " Layer (type)                Output Shape              Param #   \n",
      "=================================================================\n",
      " dense_6 (Dense)             (None, 14)                210       \n",
      "                                                                 \n",
      " dense_7 (Dense)             (None, 28)                420       \n",
      "                                                                 \n",
      " dropout (Dropout)           (None, 28)                0         \n",
      "                                                                 \n",
      " dense_8 (Dense)             (None, 56)                1624      \n",
      "                                                                 \n",
      " dropout_1 (Dropout)         (None, 56)                0         \n",
      "                                                                 \n",
      " dense_9 (Dense)             (None, 112)               6384      \n",
      "                                                                 \n",
      " dropout_2 (Dropout)         (None, 112)               0         \n",
      "                                                                 \n",
      " dense_10 (Dense)            (None, 224)               25312     \n",
      "                                                                 \n",
      " dense_11 (Dense)            (None, 2)                 450       \n",
      "                                                                 \n",
      "=================================================================\n",
      "Total params: 34,400\n",
      "Trainable params: 34,400\n",
      "Non-trainable params: 0\n",
      "_________________________________________________________________\n"
     ]
    }
   ],
   "source": [
    "# 3. DNN CLASSIFIER MODEL\n",
    "\n",
    "from tensorflow import keras\n",
    "model_DNN=keras.models.Sequential()\n",
    "model_DNN.add(keras.layers.Dense(units=14, activation = \"relu\",input_shape = x1_encode.shape[1:]))\n",
    "model_DNN.add(keras.layers.Dense(units=28,activation = \"relu\"))\n",
    "model_DNN.add(keras.layers.Dropout(0.25))\n",
    "model_DNN.add(keras.layers.Dense(units=56,activation = \"relu\" ))\n",
    "model_DNN.add(keras.layers.Dropout(0.25))\n",
    "model_DNN.add(keras.layers.Dense(units=112,activation = \"relu\" ))\n",
    "model_DNN.add(keras.layers.Dropout(0.25))\n",
    "model_DNN.add(keras.layers.Dense(units=224,activation = \"relu\" ))\n",
    "model_DNN.add(keras.layers.Dense(units=2, activation = \"sigmoid\"))\n",
    "model_DNN.summary()"
   ]
  },
  {
   "cell_type": "code",
   "execution_count": 30,
   "id": "64545d64",
   "metadata": {},
   "outputs": [
    {
     "name": "stdout",
     "output_type": "stream",
     "text": [
      "Epoch 1/50\n",
      "14918/14918 [==============================] - 60s 4ms/step - loss: 0.2805 - accuracy: 0.8910 - val_loss: 0.4683 - val_accuracy: 0.7927\n",
      "Epoch 2/50\n",
      "14918/14918 [==============================] - 56s 4ms/step - loss: 0.3235 - accuracy: 0.8894 - val_loss: 0.4645 - val_accuracy: 0.7978\n",
      "Epoch 3/50\n",
      "14918/14918 [==============================] - 54s 4ms/step - loss: 0.3328 - accuracy: 0.8875 - val_loss: 0.4755 - val_accuracy: 0.7871\n",
      "Epoch 4/50\n",
      "14918/14918 [==============================] - 55s 4ms/step - loss: 0.3049 - accuracy: 0.8917 - val_loss: 0.4724 - val_accuracy: 0.7866\n",
      "Epoch 5/50\n",
      "14918/14918 [==============================] - 55s 4ms/step - loss: 0.2846 - accuracy: 0.8975 - val_loss: 0.4497 - val_accuracy: 0.8097\n",
      "Epoch 6/50\n",
      "14918/14918 [==============================] - 56s 4ms/step - loss: 0.2797 - accuracy: 0.9028 - val_loss: 0.4914 - val_accuracy: 0.7866\n",
      "Epoch 7/50\n",
      "14918/14918 [==============================] - 56s 4ms/step - loss: 0.2974 - accuracy: 0.9003 - val_loss: 0.4441 - val_accuracy: 0.8094\n",
      "Epoch 8/50\n",
      "14918/14918 [==============================] - 56s 4ms/step - loss: 0.2690 - accuracy: 0.9078 - val_loss: 0.4345 - val_accuracy: 0.8103\n",
      "Epoch 9/50\n",
      "14918/14918 [==============================] - 55s 4ms/step - loss: 0.2438 - accuracy: 0.9096 - val_loss: 0.3953 - val_accuracy: 0.8106\n",
      "Epoch 10/50\n",
      "14918/14918 [==============================] - 56s 4ms/step - loss: 0.2706 - accuracy: 0.9106 - val_loss: 0.4166 - val_accuracy: 0.8105\n",
      "Epoch 11/50\n",
      "14918/14918 [==============================] - 56s 4ms/step - loss: 0.2413 - accuracy: 0.9112 - val_loss: 0.4161 - val_accuracy: 0.8105\n",
      "Epoch 12/50\n",
      "14918/14918 [==============================] - 55s 4ms/step - loss: 0.2407 - accuracy: 0.9121 - val_loss: 0.4330 - val_accuracy: 0.8106\n",
      "Epoch 13/50\n",
      "14918/14918 [==============================] - 56s 4ms/step - loss: 0.2334 - accuracy: 0.9133 - val_loss: 0.3774 - val_accuracy: 0.8217\n",
      "Epoch 14/50\n",
      "14918/14918 [==============================] - 56s 4ms/step - loss: 0.2375 - accuracy: 0.9142 - val_loss: 0.4072 - val_accuracy: 0.7877\n",
      "Epoch 15/50\n",
      "14918/14918 [==============================] - 56s 4ms/step - loss: 0.2277 - accuracy: 0.9150 - val_loss: 0.4705 - val_accuracy: 0.7873\n",
      "Epoch 16/50\n",
      "14918/14918 [==============================] - 56s 4ms/step - loss: 0.2288 - accuracy: 0.9147 - val_loss: 0.3943 - val_accuracy: 0.7879\n",
      "Epoch 17/50\n",
      "14918/14918 [==============================] - 57s 4ms/step - loss: 0.2231 - accuracy: 0.9149 - val_loss: 0.3934 - val_accuracy: 0.7877\n",
      "Epoch 18/50\n",
      "14918/14918 [==============================] - 56s 4ms/step - loss: 0.2421 - accuracy: 0.9154 - val_loss: 0.4732 - val_accuracy: 0.7878\n",
      "Epoch 19/50\n",
      "14918/14918 [==============================] - 56s 4ms/step - loss: 0.2236 - accuracy: 0.9153 - val_loss: 0.4436 - val_accuracy: 0.7880\n",
      "Epoch 20/50\n",
      "14918/14918 [==============================] - 56s 4ms/step - loss: 0.2243 - accuracy: 0.9148 - val_loss: 0.3986 - val_accuracy: 0.7890\n",
      "Epoch 21/50\n",
      "14918/14918 [==============================] - 58s 4ms/step - loss: 0.2212 - accuracy: 0.9148 - val_loss: 0.3964 - val_accuracy: 0.8102\n",
      "Epoch 22/50\n",
      "14918/14918 [==============================] - 326s 22ms/step - loss: 0.2219 - accuracy: 0.9149 - val_loss: 0.4491 - val_accuracy: 0.7891\n",
      "Epoch 23/50\n",
      "14918/14918 [==============================] - 56s 4ms/step - loss: 0.2342 - accuracy: 0.9147 - val_loss: 0.4652 - val_accuracy: 0.8102\n",
      "Epoch 24/50\n",
      "14918/14918 [==============================] - 57s 4ms/step - loss: 0.2293 - accuracy: 0.9130 - val_loss: 0.4175 - val_accuracy: 0.7897\n",
      "Epoch 25/50\n",
      "14918/14918 [==============================] - 64s 4ms/step - loss: 0.2244 - accuracy: 0.9148 - val_loss: 0.4455 - val_accuracy: 0.7887\n",
      "Epoch 26/50\n",
      "14918/14918 [==============================] - 58s 4ms/step - loss: 0.2242 - accuracy: 0.9144 - val_loss: 0.4619 - val_accuracy: 0.8079\n",
      "Epoch 27/50\n",
      "14918/14918 [==============================] - 58s 4ms/step - loss: 0.2168 - accuracy: 0.9138 - val_loss: 0.4215 - val_accuracy: 0.8103\n",
      "Epoch 28/50\n",
      "14918/14918 [==============================] - 58s 4ms/step - loss: 0.2326 - accuracy: 0.9139 - val_loss: 0.4232 - val_accuracy: 0.8093\n",
      "Epoch 29/50\n",
      "14918/14918 [==============================] - 57s 4ms/step - loss: 0.2302 - accuracy: 0.9148 - val_loss: 0.4258 - val_accuracy: 0.8102\n",
      "Epoch 30/50\n",
      "14918/14918 [==============================] - 57s 4ms/step - loss: 0.2187 - accuracy: 0.9149 - val_loss: 0.4794 - val_accuracy: 0.8062\n",
      "Epoch 31/50\n",
      "14918/14918 [==============================] - 56s 4ms/step - loss: 0.2175 - accuracy: 0.9149 - val_loss: 0.4422 - val_accuracy: 0.8044\n",
      "Epoch 32/50\n",
      "14918/14918 [==============================] - 56s 4ms/step - loss: 0.2389 - accuracy: 0.9146 - val_loss: 0.4272 - val_accuracy: 0.8100\n",
      "Epoch 33/50\n",
      "14918/14918 [==============================] - 57s 4ms/step - loss: 0.2213 - accuracy: 0.9127 - val_loss: 0.4264 - val_accuracy: 0.8100\n",
      "Epoch 34/50\n",
      "14918/14918 [==============================] - 57s 4ms/step - loss: 0.2203 - accuracy: 0.9147 - val_loss: 0.4226 - val_accuracy: 0.8099\n",
      "Epoch 35/50\n",
      "14918/14918 [==============================] - 57s 4ms/step - loss: 0.2185 - accuracy: 0.9156 - val_loss: 0.4052 - val_accuracy: 0.8102\n",
      "Epoch 36/50\n",
      "14918/14918 [==============================] - 55s 4ms/step - loss: 0.2184 - accuracy: 0.9150 - val_loss: 0.4531 - val_accuracy: 0.8102\n",
      "Epoch 37/50\n",
      "14918/14918 [==============================] - 55s 4ms/step - loss: 0.2218 - accuracy: 0.9154 - val_loss: 0.4501 - val_accuracy: 0.8050\n",
      "2573/2573 [==============================] - 6s 2ms/step - loss: 0.4215 - accuracy: 0.8103\n",
      "Test loss =  0.4214584231376648\n",
      "Test accuracy =  0.8103410601615906\n"
     ]
    }
   ],
   "source": [
    "opt = keras.optimizers.Adam(learning_rate=0.01)\n",
    "model_DNN.compile(loss=\"sparse_categorical_crossentropy\",optimizer=opt,metrics=\"accuracy\")\n",
    "es=keras.callbacks.EarlyStopping(monitor='loss',patience=10,restore_best_weights=True)\n",
    "cp=keras.callbacks.ModelCheckpoint(\"SaranyaDNNNetAE_new.h5\",monitor='val_loss')\n",
    "history = model_DNN.fit(x1_encode, y1,epochs=50,batch_size=16,callbacks=[es,cp],validation_data = [x2_encode, y2])\n",
    "testloss,testaccuracy=model_DNN.evaluate(x2_encode,y2)\n",
    "print(\"Test loss = \",testloss)\n",
    "print(\"Test accuracy = \",testaccuracy)"
   ]
  },
  {
   "cell_type": "code",
   "execution_count": 31,
   "id": "f9d6489d",
   "metadata": {},
   "outputs": [
    {
     "name": "stdout",
     "output_type": "stream",
     "text": [
      "[[0.23396629 0.7658018 ]\n",
      " [0.23396629 0.7658018 ]\n",
      " [0.23396629 0.7658018 ]\n",
      " ...\n",
      " [1.         0.        ]\n",
      " [1.         0.        ]\n",
      " [0.23396629 0.7658018 ]]\n",
      "[1 1 1 ... 0 0 1]\n",
      "Test Loss = 0.4214584231376648\n",
      "Test Accuracy = 0.8103410601615906\n"
     ]
    }
   ],
   "source": [
    "y_pred_DNN = model_DNN.predict(x2_encode)\n",
    "print(y_pred_DNN)\n",
    "y_pred_class_DNN=np.argmax(y_pred_DNN,axis=1)\n",
    "print(y_pred_class_DNN)\n",
    "print(\"Test Loss =\",testloss)\n",
    "print(\"Test Accuracy =\",testaccuracy)"
   ]
  },
  {
   "cell_type": "code",
   "execution_count": 32,
   "id": "5cf2aa34",
   "metadata": {},
   "outputs": [
    {
     "name": "stdout",
     "output_type": "stream",
     "text": [
      "ROC AUC: 0.789014\n"
     ]
    }
   ],
   "source": [
    "# ROC AUC\n",
    "from sklearn.metrics import roc_auc_score\n",
    "auc = roc_auc_score(y2, y_pred_class_DNN)\n",
    "print('ROC AUC: %f' % auc)"
   ]
  },
  {
   "cell_type": "code",
   "execution_count": 33,
   "id": "50528518",
   "metadata": {},
   "outputs": [
    {
     "data": {
      "image/png": "[encoded data removed]",
      "text/plain": [
       "<Figure size 432x288 with 1 Axes>"
      ]
     },
     "metadata": {
      "needs_background": "light"
     },
     "output_type": "display_data"
    }
   ],
   "source": [
    "from sklearn import metrics\n",
    "fpr, tpr, _ = metrics.roc_curve(y2,  y_pred_class_DNN)\n",
    "#create ROC curve\n",
    "plt.plot(fpr,tpr)\n",
    "plt.ylabel('True Positive Rate')\n",
    "plt.xlabel('False Positive Rate')\n",
    "plt.show()"
   ]
  },
  {
   "cell_type": "code",
   "execution_count": 34,
   "id": "ffdb5c24",
   "metadata": {},
   "outputs": [
    {
     "name": "stdout",
     "output_type": "stream",
     "text": [
      "Accuracy in DNN classifier model =  81.0341058154788\n",
      "Confusion Matrix = [[21396    11]\n",
      " [15604 45321]]\n",
      "Recall = 0.810341058154788\n",
      "Precision = 0.8901672250012381\n",
      "Classification Report =\n",
      "               precision    recall  f1-score   support\n",
      "\n",
      "           0       0.58      1.00      0.73     21407\n",
      "           1       1.00      0.74      0.85     60925\n",
      "\n",
      "    accuracy                           0.81     82332\n",
      "   macro avg       0.79      0.87      0.79     82332\n",
      "weighted avg       0.89      0.81      0.82     82332\n",
      "\n",
      "F1 Score =  0.7928484420110534\n"
     ]
    }
   ],
   "source": [
    "from sklearn import metrics\n",
    "from sklearn.metrics import f1_score\n",
    "print('Accuracy in DNN classifier model = ', metrics.accuracy_score(y_pred_class_DNN, y2)*100)\n",
    "print(\"Confusion Matrix =\", metrics.confusion_matrix(y_pred_class_DNN, y2, labels=None, \n",
    "                                              sample_weight=None))\n",
    "print(\"Recall =\", metrics.recall_score(y_pred_class_DNN, y2, labels=None, \n",
    "                                             pos_label=1, average='weighted', \n",
    "                                             sample_weight=None))\n",
    "print(\"Precision =\", metrics.precision_score(y_pred_class_DNN, y2, labels=None, \n",
    "                                             pos_label=1, average='weighted', \n",
    "                                             sample_weight=None))\n",
    "print(\"Classification Report =\\n\", metrics.classification_report(y_pred_class_DNN, y2, \n",
    "                                                                 labels=None, \n",
    "                                                                 target_names=None, \n",
    "                                                                 sample_weight=None, \n",
    "                                                                 digits=2, \n",
    "                                                                 output_dict=False))\n",
    "print(\"F1 Score = \",f1_score(y_pred_class_DNN, y2, average='macro'))"
   ]
  },
  {
   "cell_type": "code",
   "execution_count": 35,
   "id": "935308ee",
   "metadata": {},
   "outputs": [
    {
     "data": {
      "text/plain": [
       "<AxesSubplot:>"
      ]
     },
     "execution_count": 35,
     "metadata": {},
     "output_type": "execute_result"
    },
    {
     "data": {
      "image/png": "[encoded data removed]",
      "text/plain": [
       "<Figure size 432x288 with 2 Axes>"
      ]
     },
     "metadata": {
      "needs_background": "light"
     },
     "output_type": "display_data"
    }
   ],
   "source": [
    "cm_DNN = metrics.confusion_matrix(y_pred_class_DNN, y2, labels=None, \n",
    "                                              sample_weight=None)\n",
    "import seaborn as sns\n",
    "sns.heatmap(cm_DNN, annot=True)"
   ]
  },
  {
   "cell_type": "code",
   "execution_count": 36,
   "id": "e186141b",
   "metadata": {},
   "outputs": [
    {
     "data": {
      "text/plain": [
       "<AxesSubplot:>"
      ]
     },
     "execution_count": 36,
     "metadata": {},
     "output_type": "execute_result"
    },
    {
     "data": {
      "image/png": "[encoded data removed]",
      "text/plain": [
       "<Figure size 432x288 with 2 Axes>"
      ]
     },
     "metadata": {
      "needs_background": "light"
     },
     "output_type": "display_data"
    }
   ],
   "source": [
    "sns.heatmap(cm_DNN/np.sum(cm_DNN), annot=True, \n",
    "            fmt='.2%', cmap='Blues')"
   ]
  },
  {
   "cell_type": "code",
   "execution_count": 37,
   "id": "3ff501c1",
   "metadata": {},
   "outputs": [],
   "source": [
    "# 4. CNN CLASSIFIER MODEL\n",
    "\n",
    "x1_encode_CNN = np.reshape(x1_encode, (x1_encode.shape[0],x1_encode.shape[1],1))\n",
    "x2_encode_CNN = np.reshape(x2_encode, (x2_encode.shape[0],x2_encode.shape[1],1))"
   ]
  },
  {
   "cell_type": "code",
   "execution_count": 38,
   "id": "4ba9f8ef",
   "metadata": {},
   "outputs": [
    {
     "name": "stdout",
     "output_type": "stream",
     "text": [
      "Model: \"sequential_1\"\n",
      "_________________________________________________________________\n",
      " Layer (type)                Output Shape              Param #   \n",
      "=================================================================\n",
      " conv1d (Conv1D)             (None, 12, 14)            56        \n",
      "                                                                 \n",
      " conv1d_1 (Conv1D)           (None, 10, 28)            1204      \n",
      "                                                                 \n",
      " batch_normalization_4 (Batc  (None, 10, 28)           112       \n",
      " hNormalization)                                                 \n",
      "                                                                 \n",
      " max_pooling1d (MaxPooling1D  (None, 5, 28)            0         \n",
      " )                                                               \n",
      "                                                                 \n",
      " dropout_3 (Dropout)         (None, 5, 28)             0         \n",
      "                                                                 \n",
      " flatten (Flatten)           (None, 140)               0         \n",
      "                                                                 \n",
      " dense_12 (Dense)            (None, 56)                7896      \n",
      "                                                                 \n",
      " dropout_4 (Dropout)         (None, 56)                0         \n",
      "                                                                 \n",
      " dense_13 (Dense)            (None, 2)                 114       \n",
      "                                                                 \n",
      "=================================================================\n",
      "Total params: 9,382\n",
      "Trainable params: 9,326\n",
      "Non-trainable params: 56\n",
      "_________________________________________________________________\n"
     ]
    }
   ],
   "source": [
    "from tensorflow import keras\n",
    "from tensorflow.keras.layers import Input\n",
    "from keras.layers import Convolution1D, Dense, Dropout, MaxPooling1D, LSTM\n",
    "from keras.layers import Dense, Dropout, Activation, Lambda, Flatten\n",
    "convnet=keras.models.Sequential()\n",
    "convnet.add(keras.layers.Convolution1D(14,3,activation=\"relu\",input_shape=(14,1)))\n",
    "convnet.add(keras.layers.Convolution1D(28,3,activation=\"relu\"))\n",
    "convnet.add(keras.layers.BatchNormalization())\n",
    "convnet.add(keras.layers.MaxPooling1D(2,2))\n",
    "convnet.add(keras.layers.Dropout(0.25))\n",
    "convnet.add(keras.layers.Flatten())\n",
    "convnet.add(keras.layers.Dense(56,activation=\"relu\"))\n",
    "convnet.add(keras.layers.Dropout(0.25))\n",
    "convnet.add(keras.layers.Dense(2,activation=\"softmax\"))\n",
    "convnet.summary()"
   ]
  },
  {
   "cell_type": "code",
   "execution_count": 39,
   "id": "7a8fa438",
   "metadata": {},
   "outputs": [
    {
     "name": "stdout",
     "output_type": "stream",
     "text": [
      "Epoch 1/50\n",
      "14918/14918 [==============================] - 66s 4ms/step - loss: 0.1871 - accuracy: 0.9069 - val_loss: 0.2652 - val_accuracy: 0.8208\n",
      "Epoch 2/50\n",
      "14918/14918 [==============================] - 64s 4ms/step - loss: 0.1748 - accuracy: 0.9132 - val_loss: 0.2641 - val_accuracy: 0.8432\n",
      "Epoch 3/50\n",
      "14918/14918 [==============================] - 55s 4ms/step - loss: 0.1711 - accuracy: 0.9136 - val_loss: 0.3471 - val_accuracy: 0.8099\n",
      "Epoch 4/50\n",
      "14918/14918 [==============================] - 52s 3ms/step - loss: 0.1708 - accuracy: 0.9139 - val_loss: 0.2823 - val_accuracy: 0.8285\n",
      "Epoch 5/50\n",
      "14918/14918 [==============================] - 52s 3ms/step - loss: 0.1705 - accuracy: 0.9137 - val_loss: 0.2562 - val_accuracy: 0.8231\n",
      "Epoch 6/50\n",
      "14918/14918 [==============================] - 51s 3ms/step - loss: 0.1697 - accuracy: 0.9148 - val_loss: 0.2636 - val_accuracy: 0.8160\n",
      "Epoch 7/50\n",
      "14918/14918 [==============================] - 51s 3ms/step - loss: 0.1690 - accuracy: 0.9152 - val_loss: 0.2915 - val_accuracy: 0.8196\n",
      "Epoch 8/50\n",
      "14918/14918 [==============================] - 52s 3ms/step - loss: 0.1662 - accuracy: 0.9165 - val_loss: 0.2443 - val_accuracy: 0.8510\n",
      "Epoch 9/50\n",
      "14918/14918 [==============================] - 51s 3ms/step - loss: 0.1692 - accuracy: 0.9140 - val_loss: 0.2579 - val_accuracy: 0.8213\n",
      "Epoch 10/50\n",
      "14918/14918 [==============================] - 57s 4ms/step - loss: 0.1674 - accuracy: 0.9157 - val_loss: 0.2862 - val_accuracy: 0.8143\n",
      "Epoch 11/50\n",
      "14918/14918 [==============================] - 57s 4ms/step - loss: 0.1686 - accuracy: 0.9154 - val_loss: 0.2845 - val_accuracy: 0.8186\n",
      "Epoch 12/50\n",
      "14918/14918 [==============================] - 56s 4ms/step - loss: 0.1666 - accuracy: 0.9165 - val_loss: 0.2704 - val_accuracy: 0.8181\n",
      "Epoch 13/50\n",
      "14918/14918 [==============================] - 56s 4ms/step - loss: 0.1666 - accuracy: 0.9162 - val_loss: 0.2836 - val_accuracy: 0.8485\n",
      "Epoch 14/50\n",
      "14918/14918 [==============================] - 58s 4ms/step - loss: 0.1681 - accuracy: 0.9149 - val_loss: 0.2771 - val_accuracy: 0.8193\n",
      "Epoch 15/50\n",
      "14918/14918 [==============================] - 58s 4ms/step - loss: 0.1686 - accuracy: 0.9157 - val_loss: 0.2912 - val_accuracy: 0.8234\n",
      "Epoch 16/50\n",
      "14918/14918 [==============================] - 67s 4ms/step - loss: 0.1686 - accuracy: 0.9154 - val_loss: 0.2706 - val_accuracy: 0.8260\n",
      "Epoch 17/50\n",
      "14918/14918 [==============================] - 63s 4ms/step - loss: 0.1695 - accuracy: 0.9150 - val_loss: 0.2389 - val_accuracy: 0.8589\n",
      "Epoch 18/50\n",
      "14918/14918 [==============================] - 60s 4ms/step - loss: 0.1700 - accuracy: 0.9159 - val_loss: 0.3032 - val_accuracy: 0.8059\n",
      "2573/2573 [==============================] - 5s 2ms/step - loss: 0.2443 - accuracy: 0.8510\n",
      "Test loss =  0.24430611729621887\n",
      "Test accuracy =  0.8510299921035767\n"
     ]
    }
   ],
   "source": [
    "opt = keras.optimizers.Adam(learning_rate=0.01)\n",
    "convnet.compile(loss=\"sparse_categorical_crossentropy\",optimizer=opt,metrics=\"accuracy\")\n",
    "es=keras.callbacks.EarlyStopping(monitor='loss',patience=10,restore_best_weights=True)\n",
    "cp=keras.callbacks.ModelCheckpoint(\"SaranyaConvNetAE_new.h5\",monitor='val_loss')\n",
    "history = convnet.fit(x1_encode_CNN,y1,epochs=50,batch_size=16,callbacks=[es,cp],validation_data = [x2_encode_CNN, y2])\n",
    "testloss,testaccuracy=convnet.evaluate(x2_encode_CNN,y2)\n",
    "print(\"Test loss = \",testloss)\n",
    "print(\"Test accuracy = \",testaccuracy)"
   ]
  },
  {
   "cell_type": "code",
   "execution_count": 40,
   "id": "eb680bbd",
   "metadata": {},
   "outputs": [
    {
     "name": "stdout",
     "output_type": "stream",
     "text": [
      "[[0.3622153  0.6377847 ]\n",
      " [0.42888045 0.5711196 ]\n",
      " [0.42888045 0.5711196 ]\n",
      " ...\n",
      " [1.         0.        ]\n",
      " [1.         0.        ]\n",
      " [0.26760307 0.73239696]]\n",
      "[1 1 1 ... 0 0 1]\n"
     ]
    }
   ],
   "source": [
    "y_pred_CNN = convnet.predict(x2_encode_CNN)\n",
    "print(y_pred_CNN)\n",
    "y_pred_class_CNN=np.argmax(y_pred_CNN,axis=1)\n",
    "print(y_pred_class_CNN)"
   ]
  },
  {
   "cell_type": "code",
   "execution_count": 41,
   "id": "d1ce8ccf",
   "metadata": {},
   "outputs": [
    {
     "name": "stdout",
     "output_type": "stream",
     "text": [
      "ROC AUC: 0.839229\n"
     ]
    }
   ],
   "source": [
    "# ROC AUC\n",
    "from sklearn.metrics import roc_auc_score\n",
    "auc = roc_auc_score(y2, y_pred_class_CNN)\n",
    "print('ROC AUC: %f' % auc)"
   ]
  },
  {
   "cell_type": "code",
   "execution_count": 42,
   "id": "57fb4106",
   "metadata": {},
   "outputs": [
    {
     "data": {
      "image/png": "[encoded data removed]",
      "text/plain": [
       "<Figure size 432x288 with 1 Axes>"
      ]
     },
     "metadata": {
      "needs_background": "light"
     },
     "output_type": "display_data"
    }
   ],
   "source": [
    "fpr, tpr, _ = metrics.roc_curve(y2,  y_pred_class_CNN)\n",
    "#create ROC curve\n",
    "plt.plot(fpr,tpr)\n",
    "plt.ylabel('True Positive Rate')\n",
    "plt.xlabel('False Positive Rate')\n",
    "plt.show()"
   ]
  },
  {
   "cell_type": "code",
   "execution_count": 43,
   "id": "097b0152",
   "metadata": {},
   "outputs": [
    {
     "name": "stdout",
     "output_type": "stream",
     "text": [
      "Accuracy in CNN classifier model =  85.10299761939464\n",
      "Confusion Matrix = [[26737  2002]\n",
      " [10263 43330]]\n",
      "Recall = 0.8510299761939465\n",
      "Precision = 0.8744302545209995\n",
      "Classification Report =\n",
      "               precision    recall  f1-score   support\n",
      "\n",
      "           0       0.72      0.93      0.81     28739\n",
      "           1       0.96      0.81      0.88     53593\n",
      "\n",
      "    accuracy                           0.85     82332\n",
      "   macro avg       0.84      0.87      0.84     82332\n",
      "weighted avg       0.87      0.85      0.85     82332\n",
      "\n",
      "F1 Score =  0.8447230236796579\n"
     ]
    }
   ],
   "source": [
    "from sklearn import metrics\n",
    "from sklearn.metrics import f1_score\n",
    "print('Accuracy in CNN classifier model = ', metrics.accuracy_score(y_pred_class_CNN, y2)*100)\n",
    "print(\"Confusion Matrix =\", metrics.confusion_matrix(y_pred_class_CNN, y2, labels=None, \n",
    "                                              sample_weight=None))\n",
    "print(\"Recall =\", metrics.recall_score(y_pred_class_CNN, y2, labels=None, \n",
    "                                             pos_label=1, average='weighted', \n",
    "                                             sample_weight=None))\n",
    "print(\"Precision =\", metrics.precision_score(y_pred_class_CNN, y2, labels=None, \n",
    "                                             pos_label=1, average='weighted', \n",
    "                                             sample_weight=None))\n",
    "print(\"Classification Report =\\n\", metrics.classification_report(y_pred_class_CNN, y2, \n",
    "                                                                 labels=None, \n",
    "                                                                 target_names=None, \n",
    "                                                                 sample_weight=None, \n",
    "                                                                 digits=2, \n",
    "                                                                 output_dict=False))\n",
    "print(\"F1 Score = \",f1_score(y_pred_class_CNN, y2, average='macro'))"
   ]
  },
  {
   "cell_type": "code",
   "execution_count": 44,
   "id": "ff20f9b6",
   "metadata": {},
   "outputs": [
    {
     "data": {
      "text/plain": [
       "<AxesSubplot:>"
      ]
     },
     "execution_count": 44,
     "metadata": {},
     "output_type": "execute_result"
    },
    {
     "data": {
      "image/png": "[encoded data removed]",
      "text/plain": [
       "<Figure size 432x288 with 2 Axes>"
      ]
     },
     "metadata": {
      "needs_background": "light"
     },
     "output_type": "display_data"
    }
   ],
   "source": [
    "cm_CNN = metrics.confusion_matrix(y_pred_class_CNN, y2, labels=None, \n",
    "                                              sample_weight=None)\n",
    "import seaborn as sns\n",
    "sns.heatmap(cm_CNN, annot=True)"
   ]
  },
  {
   "cell_type": "code",
   "execution_count": 45,
   "id": "25d510f5",
   "metadata": {},
   "outputs": [
    {
     "data": {
      "text/plain": [
       "<AxesSubplot:>"
      ]
     },
     "execution_count": 45,
     "metadata": {},
     "output_type": "execute_result"
    },
    {
     "data": {
      "image/png": "[encoded data removed]",
      "text/plain": [
       "<Figure size 432x288 with 2 Axes>"
      ]
     },
     "metadata": {
      "needs_background": "light"
     },
     "output_type": "display_data"
    }
   ],
   "source": [
    "sns.heatmap(cm_CNN/np.sum(cm_CNN), annot=True, \n",
    "            fmt='.2%', cmap='Blues')"
   ]
  },
  {
   "cell_type": "code",
   "execution_count": 46,
   "id": "cb43d4e1",
   "metadata": {},
   "outputs": [
    {
     "name": "stdout",
     "output_type": "stream",
     "text": [
      "238682\n",
      "82332\n"
     ]
    }
   ],
   "source": [
    "# 5. TCN CLASSIFIER MODEL\n",
    "\n",
    "print(x1_encode.shape[0])\n",
    "print(x2_encode.shape[0])"
   ]
  },
  {
   "cell_type": "code",
   "execution_count": 47,
   "id": "809a1815",
   "metadata": {},
   "outputs": [
    {
     "name": "stdout",
     "output_type": "stream",
     "text": [
      "(238682, 14) (238682,) (82332, 14) (82332,)\n",
      "(238682, 14, 1) (238682,) (82332, 14, 1) (82332,)\n"
     ]
    }
   ],
   "source": [
    "print(x1_encode.shape, y1.shape, x2_encode.shape, y2.shape)\n",
    "x1_encode_TCN = np.reshape(x1_encode, (x1_encode.shape[0],x1_encode.shape[1],1))\n",
    "x2_encode_TCN = np.reshape(x2_encode, (x2_encode.shape[0],x2_encode.shape[1],1))\n",
    "print(x1_encode_TCN.shape, y1.shape, x2_encode_TCN.shape, y2.shape)"
   ]
  },
  {
   "cell_type": "code",
   "execution_count": 48,
   "id": "b04c129e",
   "metadata": {},
   "outputs": [
    {
     "name": "stdout",
     "output_type": "stream",
     "text": [
      "(238682, 14, 1) (238682, 2) (82332, 14, 1) (82332, 2)\n"
     ]
    }
   ],
   "source": [
    "from tensorflow.keras.utils import to_categorical\n",
    "num_classes = 2\n",
    "y1_TCN = to_categorical(y1, num_classes)\n",
    "y2_TCN = to_categorical(y2, num_classes)\n",
    "print(x1_encode_TCN.shape, y1_TCN.shape, x2_encode_TCN.shape, y2_TCN.shape)"
   ]
  },
  {
   "cell_type": "code",
   "execution_count": 49,
   "id": "d12341ec",
   "metadata": {},
   "outputs": [
    {
     "name": "stdout",
     "output_type": "stream",
     "text": [
      "(238682, 14, 1) (238682, 2, 1) (82332, 14, 1) (82332, 2, 1)\n"
     ]
    }
   ],
   "source": [
    "y1_TCN = np.expand_dims(y1_TCN, axis=2)\n",
    "y2_TCN = np.expand_dims(y2_TCN, axis=2)\n",
    "print(x1_encode_TCN.shape, y1_TCN.shape, x2_encode_TCN.shape, y2_TCN.shape)"
   ]
  },
  {
   "cell_type": "code",
   "execution_count": 50,
   "id": "898ac709",
   "metadata": {},
   "outputs": [
    {
     "name": "stdout",
     "output_type": "stream",
     "text": [
      "Requirement already satisfied: keras-tcn in c:\\users\\admin\\anaconda3\\lib\\site-packages (3.4.2)\n",
      "Requirement already satisfied: tensorflow in c:\\users\\admin\\anaconda3\\lib\\site-packages (from keras-tcn) (2.7.0)\n",
      "Requirement already satisfied: tensorflow-addons in c:\\users\\admin\\anaconda3\\lib\\site-packages (from keras-tcn) (0.16.1)\n",
      "Requirement already satisfied: numpy in c:\\users\\admin\\anaconda3\\lib\\site-packages (from keras-tcn) (1.20.1)\n",
      "Requirement already satisfied: h5py>=2.9.0 in c:\\users\\admin\\anaconda3\\lib\\site-packages (from tensorflow->keras-tcn) (2.10.0)\n",
      "Requirement already satisfied: grpcio<2.0,>=1.24.3 in c:\\users\\admin\\anaconda3\\lib\\site-packages (from tensorflow->keras-tcn) (1.43.0)\n",
      "Requirement already satisfied: wheel<1.0,>=0.32.0 in c:\\users\\admin\\anaconda3\\lib\\site-packages (from tensorflow->keras-tcn) (0.36.2)\n",
      "Requirement already satisfied: tensorflow-io-gcs-filesystem>=0.21.0 in c:\\users\\admin\\anaconda3\\lib\\site-packages (from tensorflow->keras-tcn) (0.23.1)\n",
      "Requirement already satisfied: absl-py>=0.4.0 in c:\\users\\admin\\anaconda3\\lib\\site-packages (from tensorflow->keras-tcn) (1.0.0)\n",
      "Requirement already satisfied: flatbuffers<3.0,>=1.12 in c:\\users\\admin\\anaconda3\\lib\\site-packages (from tensorflow->keras-tcn) (2.0)\n",
      "Requirement already satisfied: tensorboard~=2.6 in c:\\users\\admin\\anaconda3\\lib\\site-packages (from tensorflow->keras-tcn) (2.7.0)\n",
      "Requirement already satisfied: wrapt>=1.11.0 in c:\\users\\admin\\anaconda3\\lib\\site-packages (from tensorflow->keras-tcn) (1.12.1)\n",
      "Requirement already satisfied: typing-extensions>=3.6.6 in c:\\users\\admin\\anaconda3\\lib\\site-packages (from tensorflow->keras-tcn) (3.7.4.3)\n",
      "Requirement already satisfied: google-pasta>=0.1.1 in c:\\users\\admin\\anaconda3\\lib\\site-packages (from tensorflow->keras-tcn) (0.2.0)\n",
      "Requirement already satisfied: termcolor>=1.1.0 in c:\\users\\admin\\anaconda3\\lib\\site-packages (from tensorflow->keras-tcn) (1.1.0)\n",
      "Requirement already satisfied: libclang>=9.0.1 in c:\\users\\admin\\anaconda3\\lib\\site-packages (from tensorflow->keras-tcn) (12.0.0)\n",
      "Requirement already satisfied: protobuf>=3.9.2 in c:\\users\\admin\\anaconda3\\lib\\site-packages (from tensorflow->keras-tcn) (3.19.1)\n",
      "Requirement already satisfied: astunparse>=1.6.0 in c:\\users\\admin\\anaconda3\\lib\\site-packages (from tensorflow->keras-tcn) (1.6.3)\n",
      "Requirement already satisfied: keras-preprocessing>=1.1.1 in c:\\users\\admin\\anaconda3\\lib\\site-packages (from tensorflow->keras-tcn) (1.1.2)\n",
      "Requirement already satisfied: opt-einsum>=2.3.2 in c:\\users\\admin\\anaconda3\\lib\\site-packages (from tensorflow->keras-tcn) (3.3.0)\n",
      "Requirement already satisfied: keras<2.8,>=2.7.0rc0 in c:\\users\\admin\\anaconda3\\lib\\site-packages (from tensorflow->keras-tcn) (2.7.0)\n",
      "Requirement already satisfied: six>=1.12.0 in c:\\users\\admin\\anaconda3\\lib\\site-packages (from tensorflow->keras-tcn) (1.15.0)\n",
      "Requirement already satisfied: gast<0.5.0,>=0.2.1 in c:\\users\\admin\\anaconda3\\lib\\site-packages (from tensorflow->keras-tcn) (0.4.0)\n",
      "Requirement already satisfied: tensorflow-estimator<2.8,~=2.7.0rc0 in c:\\users\\admin\\anaconda3\\lib\\site-packages (from tensorflow->keras-tcn) (2.7.0)\n",
      "Requirement already satisfied: google-auth-oauthlib<0.5,>=0.4.1 in c:\\users\\admin\\anaconda3\\lib\\site-packages (from tensorboard~=2.6->tensorflow->keras-tcn) (0.4.6)\n",
      "Requirement already satisfied: google-auth<3,>=1.6.3 in c:\\users\\admin\\anaconda3\\lib\\site-packages (from tensorboard~=2.6->tensorflow->keras-tcn) (2.3.3)\n",
      "Requirement already satisfied: tensorboard-data-server<0.7.0,>=0.6.0 in c:\\users\\admin\\anaconda3\\lib\\site-packages (from tensorboard~=2.6->tensorflow->keras-tcn) (0.6.1)\n",
      "Requirement already satisfied: markdown>=2.6.8 in c:\\users\\admin\\anaconda3\\lib\\site-packages (from tensorboard~=2.6->tensorflow->keras-tcn) (3.3.6)\n",
      "Requirement already satisfied: setuptools>=41.0.0 in c:\\users\\admin\\anaconda3\\lib\\site-packages (from tensorboard~=2.6->tensorflow->keras-tcn) (52.0.0.post20210125)\n",
      "Requirement already satisfied: tensorboard-plugin-wit>=1.6.0 in c:\\users\\admin\\anaconda3\\lib\\site-packages (from tensorboard~=2.6->tensorflow->keras-tcn) (1.8.0)\n",
      "Requirement already satisfied: requests<3,>=2.21.0 in c:\\users\\admin\\anaconda3\\lib\\site-packages (from tensorboard~=2.6->tensorflow->keras-tcn) (2.25.1)\n",
      "Requirement already satisfied: werkzeug>=0.11.15 in c:\\users\\admin\\anaconda3\\lib\\site-packages (from tensorboard~=2.6->tensorflow->keras-tcn) (1.0.1)\n",
      "Requirement already satisfied: cachetools<5.0,>=2.0.0 in c:\\users\\admin\\anaconda3\\lib\\site-packages (from google-auth<3,>=1.6.3->tensorboard~=2.6->tensorflow->keras-tcn) (4.2.4)\n",
      "Requirement already satisfied: rsa<5,>=3.1.4 in c:\\users\\admin\\anaconda3\\lib\\site-packages (from google-auth<3,>=1.6.3->tensorboard~=2.6->tensorflow->keras-tcn) (4.8)\n",
      "Requirement already satisfied: pyasn1-modules>=0.2.1 in c:\\users\\admin\\anaconda3\\lib\\site-packages (from google-auth<3,>=1.6.3->tensorboard~=2.6->tensorflow->keras-tcn) (0.2.8)\n",
      "Requirement already satisfied: requests-oauthlib>=0.7.0 in c:\\users\\admin\\anaconda3\\lib\\site-packages (from google-auth-oauthlib<0.5,>=0.4.1->tensorboard~=2.6->tensorflow->keras-tcn) (1.3.0)\n",
      "Requirement already satisfied: importlib-metadata>=4.4 in c:\\users\\admin\\anaconda3\\lib\\site-packages (from markdown>=2.6.8->tensorboard~=2.6->tensorflow->keras-tcn) (4.10.0)\n",
      "Requirement already satisfied: zipp>=0.5 in c:\\users\\admin\\anaconda3\\lib\\site-packages (from importlib-metadata>=4.4->markdown>=2.6.8->tensorboard~=2.6->tensorflow->keras-tcn) (3.4.1)\n",
      "Requirement already satisfied: pyasn1<0.5.0,>=0.4.6 in c:\\users\\admin\\anaconda3\\lib\\site-packages (from pyasn1-modules>=0.2.1->google-auth<3,>=1.6.3->tensorboard~=2.6->tensorflow->keras-tcn) (0.4.8)\n",
      "Requirement already satisfied: certifi>=2017.4.17 in c:\\users\\admin\\anaconda3\\lib\\site-packages (from requests<3,>=2.21.0->tensorboard~=2.6->tensorflow->keras-tcn) (2020.12.5)\n",
      "Requirement already satisfied: idna<3,>=2.5 in c:\\users\\admin\\anaconda3\\lib\\site-packages (from requests<3,>=2.21.0->tensorboard~=2.6->tensorflow->keras-tcn) (2.10)\n",
      "Requirement already satisfied: urllib3<1.27,>=1.21.1 in c:\\users\\admin\\anaconda3\\lib\\site-packages (from requests<3,>=2.21.0->tensorboard~=2.6->tensorflow->keras-tcn) (1.26.4)\n",
      "Requirement already satisfied: chardet<5,>=3.0.2 in c:\\users\\admin\\anaconda3\\lib\\site-packages (from requests<3,>=2.21.0->tensorboard~=2.6->tensorflow->keras-tcn) (4.0.0)\n",
      "Requirement already satisfied: oauthlib>=3.0.0 in c:\\users\\admin\\anaconda3\\lib\\site-packages (from requests-oauthlib>=0.7.0->google-auth-oauthlib<0.5,>=0.4.1->tensorboard~=2.6->tensorflow->keras-tcn) (3.1.1)\n",
      "Requirement already satisfied: typeguard>=2.7 in c:\\users\\admin\\anaconda3\\lib\\site-packages (from tensorflow-addons->keras-tcn) (2.13.3)\n"
     ]
    }
   ],
   "source": [
    "!pip install keras-tcn"
   ]
  },
  {
   "cell_type": "code",
   "execution_count": 51,
   "id": "598f3802",
   "metadata": {},
   "outputs": [],
   "source": [
    "import numpy as np\n",
    "from tensorflow.keras import Model, Input\n",
    "from tensorflow.keras.layers import Dense, Dropout, Embedding\n",
    "from tensorflow.keras.preprocessing import sequence\n",
    "from tcn import compiled_tcn"
   ]
  },
  {
   "cell_type": "code",
   "execution_count": 52,
   "id": "1600c55c",
   "metadata": {},
   "outputs": [
    {
     "name": "stdout",
     "output_type": "stream",
     "text": [
      "x.shape= (None, 64)\n",
      "model.x = (None, 14, 1)\n",
      "model.y = (None, 2)\n"
     ]
    },
    {
     "name": "stderr",
     "output_type": "stream",
     "text": [
      "C:\\Users\\admin\\anaconda3\\lib\\site-packages\\keras\\optimizer_v2\\adam.py:105: UserWarning: The `lr` argument is deprecated, use `learning_rate` instead.\n",
      "  super(Adam, self).__init__(name, **kwargs)\n"
     ]
    }
   ],
   "source": [
    "model_TCN = compiled_tcn(return_sequences = False,num_feat = 1, num_classes = 2, nb_filters = 64,kernel_size=6,\n",
    "                    dilations=[1,2,4,8,16,32,64],nb_stacks=1, opt='adam',lr=0.002,activation = 'relu',kernel_initializer = \n",
    "                    'he_normal',use_batch_norm=True,use_layer_norm = False,use_weight_norm = False,\n",
    "                     max_len=x1_encode_TCN[0:1].shape[1],use_skip_connections=True) "
   ]
  },
  {
   "cell_type": "code",
   "execution_count": 53,
   "id": "d41fcf2d",
   "metadata": {},
   "outputs": [
    {
     "name": "stdout",
     "output_type": "stream",
     "text": [
      "14\n"
     ]
    }
   ],
   "source": [
    "print(x1_encode_TCN[0:1].shape[1])"
   ]
  },
  {
   "cell_type": "code",
   "execution_count": 54,
   "id": "9eca217f",
   "metadata": {},
   "outputs": [
    {
     "name": "stdout",
     "output_type": "stream",
     "text": [
      "x_train.shape = (238682, 14, 1)\n",
      "y_train.shape = (238682, 2, 1)\n",
      "x_test.shape = (82332, 14, 1)\n",
      "y_test.shape = (82332, 2, 1)\n"
     ]
    }
   ],
   "source": [
    "print(f'x_train.shape = {x1_encode_TCN.shape}')\n",
    "print(f'y_train.shape = {y1_TCN.shape}')\n",
    "print(f'x_test.shape = {x2_encode_TCN.shape}')\n",
    "print(f'y_test.shape = {y2_TCN.shape}')"
   ]
  },
  {
   "cell_type": "code",
   "execution_count": 55,
   "id": "e065ab73",
   "metadata": {},
   "outputs": [
    {
     "name": "stdout",
     "output_type": "stream",
     "text": [
      "Model: \"model_2\"\n",
      "_________________________________________________________________\n",
      " Layer (type)                Output Shape              Param #   \n",
      "=================================================================\n",
      " input_2 (InputLayer)        [(None, 14, 1)]           0         \n",
      "                                                                 \n",
      " tcn (TCN)                   (None, 64)                324480    \n",
      "                                                                 \n",
      " dense_14 (Dense)            (None, 2)                 130       \n",
      "                                                                 \n",
      " activation (Activation)     (None, 2)                 0         \n",
      "                                                                 \n",
      "=================================================================\n",
      "Total params: 324,610\n",
      "Trainable params: 322,818\n",
      "Non-trainable params: 1,792\n",
      "_________________________________________________________________\n"
     ]
    }
   ],
   "source": [
    "model_TCN.summary()"
   ]
  },
  {
   "cell_type": "code",
   "execution_count": 56,
   "id": "01e205d6",
   "metadata": {},
   "outputs": [],
   "source": [
    "y1_TCN = y1_TCN.squeeze().argmax(axis=1)\n",
    "y2_TCN = y2_TCN.squeeze().argmax(axis=1)"
   ]
  },
  {
   "cell_type": "code",
   "execution_count": 57,
   "id": "ae22565b",
   "metadata": {},
   "outputs": [
    {
     "name": "stdout",
     "output_type": "stream",
     "text": [
      "Epoch 1/10\n",
      "7459/7459 [==============================] - 939s 123ms/step - loss: 0.1538 - accuracy: 0.9240 - val_loss: 0.2679 - val_accuracy: 0.8583\n",
      "Epoch 2/10\n",
      "7459/7459 [==============================] - 854s 114ms/step - loss: 0.1366 - accuracy: 0.9311 - val_loss: 0.2561 - val_accuracy: 0.8674\n",
      "Epoch 3/10\n",
      "7459/7459 [==============================] - 892s 120ms/step - loss: 0.1320 - accuracy: 0.9334 - val_loss: 0.2680 - val_accuracy: 0.8610\n",
      "Epoch 4/10\n",
      "7459/7459 [==============================] - 796s 107ms/step - loss: 0.1298 - accuracy: 0.9340 - val_loss: 0.2926 - val_accuracy: 0.8488\n",
      "Epoch 5/10\n",
      "7459/7459 [==============================] - 882s 118ms/step - loss: 0.1279 - accuracy: 0.9356 - val_loss: 0.2470 - val_accuracy: 0.8737\n",
      "Epoch 6/10\n",
      "7459/7459 [==============================] - 891s 119ms/step - loss: 0.1269 - accuracy: 0.9360 - val_loss: 0.2445 - val_accuracy: 0.8782\n",
      "Epoch 7/10\n",
      "7459/7459 [==============================] - 863s 116ms/step - loss: 0.1255 - accuracy: 0.9366 - val_loss: 0.2317 - val_accuracy: 0.8828\n",
      "Epoch 8/10\n",
      "7459/7459 [==============================] - 914s 123ms/step - loss: 0.1243 - accuracy: 0.9373 - val_loss: 0.2340 - val_accuracy: 0.8833\n",
      "Epoch 9/10\n",
      "7459/7459 [==============================] - 925s 124ms/step - loss: 0.1234 - accuracy: 0.9376 - val_loss: 0.2549 - val_accuracy: 0.8816\n",
      "Epoch 10/10\n",
      "7459/7459 [==============================] - 861s 115ms/step - loss: 0.1228 - accuracy: 0.9380 - val_loss: 0.2310 - val_accuracy: 0.8906\n"
     ]
    }
   ],
   "source": [
    "history = model_TCN.fit(x1_encode_TCN, y1_TCN, epochs = 10, validation_data = [x2_encode_TCN, y2_TCN], \n",
    "                    workers=4, use_multiprocessing=True)"
   ]
  },
  {
   "cell_type": "code",
   "execution_count": 58,
   "id": "e6792d6e",
   "metadata": {},
   "outputs": [
    {
     "name": "stdout",
     "output_type": "stream",
     "text": [
      "2573/2573 [==============================] - 84s 33ms/step - loss: 0.2310 - accuracy: 0.8906\n",
      "Accuracy : 89.06 %\n",
      "Loss : 23.10 %\n"
     ]
    }
   ],
   "source": [
    "result = model_TCN.evaluate(x2_encode_TCN, y2_TCN)\n",
    "print(f\"Accuracy : {result[1] * 100:.2f} %\")\n",
    "print(f\"Loss : {result[0] * 100:.2f} %\")"
   ]
  },
  {
   "cell_type": "code",
   "execution_count": 59,
   "id": "5b75b960",
   "metadata": {},
   "outputs": [
    {
     "name": "stdout",
     "output_type": "stream",
     "text": [
      "[1 1 1 ... 0 0 1]\n",
      "[1 1 1 ... 0 0 1]\n"
     ]
    }
   ],
   "source": [
    "y_pred_TCN = model_TCN.predict(x2_encode_TCN, verbose=0)\n",
    "print(np.argmax(y_pred_TCN, axis=1))\n",
    "y_pred_class_TCN=np.argmax(y_pred_TCN,axis=1)\n",
    "print(y_pred_class_TCN)"
   ]
  },
  {
   "cell_type": "code",
   "execution_count": 60,
   "id": "a6f523e3",
   "metadata": {},
   "outputs": [
    {
     "name": "stdout",
     "output_type": "stream",
     "text": [
      "ROC AUC: 0.884809\n"
     ]
    }
   ],
   "source": [
    "from sklearn.metrics import roc_auc_score\n",
    "auc = roc_auc_score(y2_TCN, y_pred_class_TCN)\n",
    "print('ROC AUC: %f' % auc)"
   ]
  },
  {
   "cell_type": "code",
   "execution_count": 61,
   "id": "39990598",
   "metadata": {},
   "outputs": [
    {
     "data": {
      "image/png": "[encoded data removed]",
      "text/plain": [
       "<Figure size 432x288 with 1 Axes>"
      ]
     },
     "metadata": {
      "needs_background": "light"
     },
     "output_type": "display_data"
    }
   ],
   "source": [
    "fpr, tpr, _ = metrics.roc_curve(y2,  y_pred_class_TCN)\n",
    "#create ROC curve\n",
    "plt.plot(fpr,tpr)\n",
    "plt.ylabel('True Positive Rate')\n",
    "plt.xlabel('False Positive Rate')\n",
    "plt.show()"
   ]
  },
  {
   "cell_type": "code",
   "execution_count": 62,
   "id": "21862946",
   "metadata": {},
   "outputs": [
    {
     "name": "stdout",
     "output_type": "stream",
     "text": [
      "Accuracy in TCN classifier model =  89.06014672302386\n",
      "Confusion Matrix = [[30620  2627]\n",
      " [ 6380 42705]]\n",
      "Recall = 0.8906014672302386\n",
      "Precision = 0.8958199933361682\n",
      "Classification Report =\n",
      "               precision    recall  f1-score   support\n",
      "\n",
      "           0       0.83      0.92      0.87     33247\n",
      "           1       0.94      0.87      0.90     49085\n",
      "\n",
      "    accuracy                           0.89     82332\n",
      "   macro avg       0.88      0.90      0.89     82332\n",
      "weighted avg       0.90      0.89      0.89     82332\n",
      "\n",
      "F1 Score =  0.8881925225436026\n"
     ]
    }
   ],
   "source": [
    "from sklearn import metrics\n",
    "from sklearn.metrics import f1_score\n",
    "print('Accuracy in TCN classifier model = ', metrics.accuracy_score(y_pred_class_TCN, y2_TCN)*100)\n",
    "print(\"Confusion Matrix =\", metrics.confusion_matrix(y_pred_class_TCN, y2_TCN, labels=None, \n",
    "                                              sample_weight=None))\n",
    "print(\"Recall =\", metrics.recall_score(y_pred_class_TCN, y2_TCN, labels=None, \n",
    "                                             pos_label=1, average='weighted', \n",
    "                                             sample_weight=None))\n",
    "print(\"Precision =\", metrics.precision_score(y_pred_class_TCN, y2_TCN, labels=None, \n",
    "                                             pos_label=1, average='weighted', \n",
    "                                             sample_weight=None))\n",
    "print(\"Classification Report =\\n\", metrics.classification_report(y_pred_class_TCN, y2_TCN, \n",
    "                                                                 labels=None, \n",
    "                                                                 target_names=None, \n",
    "                                                                 sample_weight=None, \n",
    "                                                                 digits=2, \n",
    "                                                                 output_dict=False))\n",
    "print(\"F1 Score = \",f1_score(y_pred_class_TCN, y2_TCN, average='macro'))"
   ]
  },
  {
   "cell_type": "code",
   "execution_count": 63,
   "id": "42f3328c",
   "metadata": {},
   "outputs": [
    {
     "data": {
      "text/plain": [
       "<AxesSubplot:>"
      ]
     },
     "execution_count": 63,
     "metadata": {},
     "output_type": "execute_result"
    },
    {
     "data": {
      "image/png": "[encoded data removed]",
      "text/plain": [
       "<Figure size 432x288 with 2 Axes>"
      ]
     },
     "metadata": {
      "needs_background": "light"
     },
     "output_type": "display_data"
    }
   ],
   "source": [
    "cm_TCN = metrics.confusion_matrix(y_pred_class_TCN, y2, labels=None, \n",
    "                                              sample_weight=None)\n",
    "import seaborn as sns\n",
    "sns.heatmap(cm_TCN, annot=True)"
   ]
  },
  {
   "cell_type": "code",
   "execution_count": 64,
   "id": "e2141071",
   "metadata": {},
   "outputs": [
    {
     "data": {
      "text/plain": [
       "<AxesSubplot:>"
      ]
     },
     "execution_count": 64,
     "metadata": {},
     "output_type": "execute_result"
    },
    {
     "data": {
      "image/png": "[encoded data removed]",
      "text/plain": [
       "<Figure size 432x288 with 2 Axes>"
      ]
     },
     "metadata": {
      "needs_background": "light"
     },
     "output_type": "display_data"
    }
   ],
   "source": [
    "sns.heatmap(cm_TCN/np.sum(cm_TCN), annot=True, \n",
    "            fmt='.2%', cmap='Blues')"
   ]
  },
  {
   "cell_type": "code",
   "execution_count": 65,
   "id": "efa1ecdb",
   "metadata": {},
   "outputs": [
    {
     "name": "stdout",
     "output_type": "stream",
     "text": [
      "X train shape:  (238682, 14)\n",
      "X test shape:  (82332, 14)\n",
      "Y train shape:  (238682,)\n",
      "Y test shape:  (82332,)\n"
     ]
    }
   ],
   "source": [
    "# 6. TabNet CLASSIFIER MODEL\n",
    "\n",
    "print(\"X train shape: \", x1_recon.shape)\n",
    "print(\"X test shape: \", x2_recon.shape)\n",
    "print(\"Y train shape: \", y1.shape)\n",
    "print(\"Y test shape: \", y2.shape)"
   ]
  },
  {
   "cell_type": "code",
   "execution_count": 66,
   "id": "b8668de6",
   "metadata": {},
   "outputs": [
    {
     "name": "stdout",
     "output_type": "stream",
     "text": [
      "Requirement already satisfied: pytorch-tabnet in c:\\users\\admin\\anaconda3\\lib\\site-packages (3.1.1)\n",
      "Requirement already satisfied: numpy<2.0,>=1.17 in c:\\users\\admin\\anaconda3\\lib\\site-packages (from pytorch-tabnet) (1.20.1)\n",
      "Requirement already satisfied: tqdm<5.0,>=4.36 in c:\\users\\admin\\anaconda3\\lib\\site-packages (from pytorch-tabnet) (4.59.0)\n",
      "Requirement already satisfied: torch<2.0,>=1.2 in c:\\users\\admin\\anaconda3\\lib\\site-packages (from pytorch-tabnet) (1.11.0)\n",
      "Requirement already satisfied: scikit_learn>0.21 in c:\\users\\admin\\anaconda3\\lib\\site-packages (from pytorch-tabnet) (0.24.1)\n",
      "Requirement already satisfied: scipy>1.4 in c:\\users\\admin\\anaconda3\\lib\\site-packages (from pytorch-tabnet) (1.6.2)\n",
      "Requirement already satisfied: threadpoolctl>=2.0.0 in c:\\users\\admin\\anaconda3\\lib\\site-packages (from scikit_learn>0.21->pytorch-tabnet) (2.1.0)\n",
      "Requirement already satisfied: joblib>=0.11 in c:\\users\\admin\\anaconda3\\lib\\site-packages (from scikit_learn>0.21->pytorch-tabnet) (1.0.1)\n",
      "Requirement already satisfied: typing-extensions in c:\\users\\admin\\anaconda3\\lib\\site-packages (from torch<2.0,>=1.2->pytorch-tabnet) (3.7.4.3)\n"
     ]
    }
   ],
   "source": [
    "!pip install pytorch-tabnet\n",
    "from pytorch_tabnet.tab_model import TabNetClassifier\n",
    "import torch"
   ]
  },
  {
   "cell_type": "code",
   "execution_count": 95,
   "id": "a34e228a",
   "metadata": {},
   "outputs": [
    {
     "name": "stdout",
     "output_type": "stream",
     "text": [
      "Device used : cpu\n"
     ]
    }
   ],
   "source": [
    "# define the model\n",
    "model_TabNet = TabNetClassifier(optimizer_fn=torch.optim.Adam,\n",
    "                       optimizer_params=dict(lr=2e-2),\n",
    "                       scheduler_params={\"step_size\":10,\"gamma\":0.9},\n",
    "                       scheduler_fn=torch.optim.lr_scheduler.StepLR,\n",
    "                       mask_type='entmax')"
   ]
  },
  {
   "cell_type": "code",
   "execution_count": 77,
   "id": "749e0f71",
   "metadata": {},
   "outputs": [
    {
     "name": "stdout",
     "output_type": "stream",
     "text": [
      "epoch 0  | loss: 0.16583 | train_auc: 0.98655 | train_accuracy: 0.92806 | valid_auc: 0.95736 | valid_accuracy: 0.84289 |  0:01:04s\n",
      "epoch 1  | loss: 0.14436 | train_auc: 0.98769 | train_accuracy: 0.93183 | valid_auc: 0.93235 | valid_accuracy: 0.81983 |  0:03:08s\n",
      "epoch 2  | loss: 0.13923 | train_auc: 0.9879  | train_accuracy: 0.93139 | valid_auc: 0.9548  | valid_accuracy: 0.84894 |  0:04:59s\n",
      "epoch 3  | loss: 0.13799 | train_auc: 0.9886  | train_accuracy: 0.93028 | valid_auc: 0.9619  | valid_accuracy: 0.88003 |  0:06:57s\n",
      "epoch 4  | loss: 0.13527 | train_auc: 0.9889  | train_accuracy: 0.9334  | valid_auc: 0.96291 | valid_accuracy: 0.88005 |  0:08:52s\n",
      "epoch 5  | loss: 0.13463 | train_auc: 0.98472 | train_accuracy: 0.93129 | valid_auc: 0.95587 | valid_accuracy: 0.85172 |  0:11:03s\n",
      "epoch 6  | loss: 0.1335  | train_auc: 0.98911 | train_accuracy: 0.93641 | valid_auc: 0.96106 | valid_accuracy: 0.8676  |  0:13:42s\n",
      "epoch 7  | loss: 0.13233 | train_auc: 0.98906 | train_accuracy: 0.93029 | valid_auc: 0.96677 | valid_accuracy: 0.89251 |  0:16:32s\n",
      "epoch 8  | loss: 0.12931 | train_auc: 0.98735 | train_accuracy: 0.92206 | valid_auc: 0.95512 | valid_accuracy: 0.8701  |  0:19:22s\n",
      "epoch 9  | loss: 0.12945 | train_auc: 0.98956 | train_accuracy: 0.93671 | valid_auc: 0.96234 | valid_accuracy: 0.87159 |  0:22:09s\n",
      "epoch 10 | loss: 0.12839 | train_auc: 0.98981 | train_accuracy: 0.93517 | valid_auc: 0.96156 | valid_accuracy: 0.84541 |  0:24:37s\n",
      "epoch 11 | loss: 0.12808 | train_auc: 0.98856 | train_accuracy: 0.93629 | valid_auc: 0.94541 | valid_accuracy: 0.84073 |  0:26:53s\n",
      "epoch 12 | loss: 0.12675 | train_auc: 0.98978 | train_accuracy: 0.93761 | valid_auc: 0.967   | valid_accuracy: 0.8595  |  0:31:14s\n",
      "epoch 13 | loss: 0.12795 | train_auc: 0.98943 | train_accuracy: 0.93721 | valid_auc: 0.95332 | valid_accuracy: 0.84939 |  0:36:21s\n",
      "epoch 14 | loss: 0.12743 | train_auc: 0.98897 | train_accuracy: 0.9351  | valid_auc: 0.95799 | valid_accuracy: 0.85082 |  0:40:09s\n",
      "epoch 15 | loss: 0.12659 | train_auc: 0.9891  | train_accuracy: 0.93522 | valid_auc: 0.95789 | valid_accuracy: 0.86885 |  0:44:15s\n",
      "epoch 16 | loss: 0.12646 | train_auc: 0.98996 | train_accuracy: 0.9384  | valid_auc: 0.96552 | valid_accuracy: 0.87442 |  0:48:34s\n",
      "epoch 17 | loss: 0.12567 | train_auc: 0.98741 | train_accuracy: 0.92985 | valid_auc: 0.9526  | valid_accuracy: 0.85837 |  0:52:29s\n",
      "epoch 18 | loss: 0.12554 | train_auc: 0.98985 | train_accuracy: 0.93773 | valid_auc: 0.96226 | valid_accuracy: 0.87099 |  0:55:57s\n",
      "epoch 19 | loss: 0.12614 | train_auc: 0.98951 | train_accuracy: 0.93526 | valid_auc: 0.95526 | valid_accuracy: 0.86043 |  1:00:23s\n",
      "Stop training because you reached max_epochs = 20 with best_epoch = 7 and best_valid_accuracy = 0.89251\n",
      "Best weights from best epoch are automatically used!\n"
     ]
    }
   ],
   "source": [
    "# fit the model \n",
    "model_TabNet.fit(x1_encode,y1, eval_set=[(x1_encode, y1), (x2_encode, y2)],eval_name=['train', 'valid'],\n",
    "                   eval_metric=['auc','accuracy'],max_epochs=20 , patience=50, batch_size=256, virtual_batch_size=128, \n",
    "                   num_workers=0, weights=1,drop_last=False)   "
   ]
  },
  {
   "cell_type": "code",
   "execution_count": 78,
   "id": "92072d3f",
   "metadata": {},
   "outputs": [
    {
     "data": {
      "text/plain": [
       "Text(0, 0.5, 'Feature index')"
      ]
     },
     "execution_count": 78,
     "metadata": {},
     "output_type": "execute_result"
    },
    {
     "data": {
      "image/png": "[encoded data removed]",
      "text/plain": [
       "<Figure size 576x576 with 1 Axes>"
      ]
     },
     "metadata": {
      "needs_background": "light"
     },
     "output_type": "display_data"
    }
   ],
   "source": [
    "# find and plot feature importance \n",
    "from IPython.core.pylabtools import figsize\n",
    "figsize(8, 8)\n",
    "model_TabNet.feature_importances_\n",
    "feat_importances = pd.Series(model_TabNet.feature_importances_)\n",
    "feat_importances.nlargest(14).plot(kind='barh')\n",
    "plt.title(\"Feature importance graph after Autoencoder feature extraction - TabNet (UNSW NB15 Dataset)\")\n",
    "plt.xlabel(\"Feature score\")\n",
    "plt.ylabel(\"Feature index\")"
   ]
  },
  {
   "cell_type": "code",
   "execution_count": 79,
   "id": "e2c96d28",
   "metadata": {},
   "outputs": [
    {
     "name": "stdout",
     "output_type": "stream",
     "text": [
      "[1 1 0 ... 0 0 1]\n"
     ]
    }
   ],
   "source": [
    "y_pred_TabNet = model_TabNet.predict(x2_encode)\n",
    "print(y_pred_TabNet)"
   ]
  },
  {
   "cell_type": "code",
   "execution_count": 80,
   "id": "3ba1940d",
   "metadata": {},
   "outputs": [
    {
     "name": "stdout",
     "output_type": "stream",
     "text": [
      "ROC AUC: 0.890947\n"
     ]
    }
   ],
   "source": [
    "# ROC AUC\n",
    "from sklearn.metrics import roc_auc_score\n",
    "auc = roc_auc_score(y2, y_pred_TabNet)\n",
    "print('ROC AUC: %f' % auc)"
   ]
  },
  {
   "cell_type": "code",
   "execution_count": 87,
   "id": "1915a31a",
   "metadata": {},
   "outputs": [
    {
     "data": {
      "image/png": "[encoded data removed]",
      "text/plain": [
       "<Figure size 432x432 with 1 Axes>"
      ]
     },
     "metadata": {
      "needs_background": "light"
     },
     "output_type": "display_data"
    }
   ],
   "source": [
    "from IPython.core.pylabtools import figsize\n",
    "figsize(6, 6)\n",
    "fpr, tpr, _ = metrics.roc_curve(y2,  y_pred_TabNet)\n",
    "#create ROC curve\n",
    "plt.plot(fpr,tpr)\n",
    "plt.ylabel('True Positive Rate')\n",
    "plt.xlabel('False Positive Rate')\n",
    "plt.show()"
   ]
  },
  {
   "cell_type": "code",
   "execution_count": 82,
   "id": "fc08ae0f",
   "metadata": {},
   "outputs": [
    {
     "name": "stdout",
     "output_type": "stream",
     "text": [
      "Accuracy in TabNet classifier model: 89.25083807025214\n",
      "Confusion Matrix = [[32394  4244]\n",
      " [ 4606 41088]]\n",
      "Recall = 0.8925083807025215\n",
      "Precision = 0.892644093707075\n",
      "Classification Report =\n",
      "               precision    recall  f1-score   support\n",
      "\n",
      "           0       0.88      0.88      0.88     36638\n",
      "           1       0.91      0.90      0.90     45694\n",
      "\n",
      "    accuracy                           0.89     82332\n",
      "   macro avg       0.89      0.89      0.89     82332\n",
      "weighted avg       0.89      0.89      0.89     82332\n",
      "\n",
      "F1 Score =  0.8912962584235471\n"
     ]
    }
   ],
   "source": [
    "from sklearn.metrics import accuracy_score\n",
    "from sklearn import metrics\n",
    "from sklearn.metrics import f1_score\n",
    "test_acc = accuracy_score(y_pred_TabNet, y2)\n",
    "print(\"Accuracy in TabNet classifier model:\",test_acc*100)\n",
    "print(\"Confusion Matrix =\", metrics.confusion_matrix(y_pred_TabNet, y2, labels=None, \n",
    "                                              sample_weight=None))\n",
    "print(\"Recall =\", metrics.recall_score(y_pred_TabNet, y2, labels=None, \n",
    "                                             pos_label=1, average='weighted', \n",
    "                                             sample_weight=None))\n",
    "print(\"Precision =\", metrics.precision_score(y_pred_TabNet, y2, labels=None, \n",
    "                                             pos_label=1, average='weighted', \n",
    "                                             sample_weight=None))\n",
    "print(\"Classification Report =\\n\", metrics.classification_report(y_pred_TabNet, y2, \n",
    "                                                                 labels=None, \n",
    "                                                                 target_names=None, \n",
    "                                                                 sample_weight=None, \n",
    "                                                                 digits=2, \n",
    "                                                                 output_dict=False))\n",
    "print(\"F1 Score = \",f1_score(y_pred_TabNet, y2, average='macro'))"
   ]
  },
  {
   "cell_type": "code",
   "execution_count": 89,
   "id": "163cc0b4",
   "metadata": {},
   "outputs": [
    {
     "data": {
      "text/plain": [
       "<AxesSubplot:>"
      ]
     },
     "execution_count": 89,
     "metadata": {},
     "output_type": "execute_result"
    },
    {
     "data": {
      "image/png": "[encoded data removed]",
      "text/plain": [
       "<Figure size 432x360 with 2 Axes>"
      ]
     },
     "metadata": {
      "needs_background": "light"
     },
     "output_type": "display_data"
    }
   ],
   "source": [
    "from IPython.core.pylabtools import figsize\n",
    "figsize(6, 5)\n",
    "cm_TabNet = metrics.confusion_matrix(y_pred_TabNet, y2, labels=None, \n",
    "                                              sample_weight=None)\n",
    "import seaborn as sns\n",
    "sns.heatmap(cm_TabNet, annot=True)"
   ]
  },
  {
   "cell_type": "code",
   "execution_count": 90,
   "id": "b0b4c89f",
   "metadata": {},
   "outputs": [
    {
     "data": {
      "text/plain": [
       "<AxesSubplot:>"
      ]
     },
     "execution_count": 90,
     "metadata": {},
     "output_type": "execute_result"
    },
    {
     "data": {
      "image/png": "[encoded data removed]",
      "text/plain": [
       "<Figure size 432x360 with 2 Axes>"
      ]
     },
     "metadata": {
      "needs_background": "light"
     },
     "output_type": "display_data"
    }
   ],
   "source": [
    "from IPython.core.pylabtools import figsize\n",
    "figsize(6, 5)\n",
    "sns.heatmap(cm_TabNet/np.sum(cm_TabNet), annot=True, \n",
    "            fmt='.2%', cmap='Blues')"
   ]
  },
  {
   "cell_type": "code",
   "execution_count": 85,
   "id": "7fc2df61",
   "metadata": {},
   "outputs": [
    {
     "name": "stdout",
     "output_type": "stream",
     "text": [
      "Number of selected features=14\n",
      "Accuracy result of all models:\n",
      "Accuracy in XGBoost classifier model:- 85.31798085798961\n",
      "Accuracy in DNN classifier model =  81.0341058154788\n",
      "Accuracy in CNN classifier model =  85.10299761939464\n",
      "Accuracy in TCN classifier model =  89.06014672302386\n",
      "Accuracy in TabNet classifier model: 89.25083807025214\n"
     ]
    }
   ],
   "source": [
    "print(\"Number of selected features=%d\" % (x1_encode[0:1].shape[1]))\n",
    "print('Accuracy result of all models:')\n",
    "print(\"Accuracy in XGBoost classifier model:-\", accuracy)\n",
    "print('Accuracy in DNN classifier model = ', metrics.accuracy_score(y_pred_class_DNN, y2)*100)\n",
    "print('Accuracy in CNN classifier model = ', metrics.accuracy_score(y_pred_class_CNN, y2)*100)\n",
    "print('Accuracy in TCN classifier model = ', metrics.accuracy_score(y_pred_class_TCN, y2_TCN)*100)\n",
    "print(\"Accuracy in TabNet classifier model:\",test_acc*100)"
   ]
  },
  {
   "cell_type": "code",
   "execution_count": 110,
   "id": "10c34a71",
   "metadata": {},
   "outputs": [
    {
     "data": {
      "image/png": "[encoded data removed]",
      "text/plain": [
       "<Figure size 360x360 with 1 Axes>"
      ]
     },
     "metadata": {
      "needs_background": "light"
     },
     "output_type": "display_data"
    }
   ],
   "source": [
    "data = {'XGBoost':85.32, 'DNN':81.03, 'CNN':85.10,\n",
    "        'TCN':89.06, 'TabNet':89.25}\n",
    "Classifier_model = list(data.keys())\n",
    "Classifier_accuracy = list(data.values())\n",
    "  \n",
    "fig = plt.figure(figsize = (5, 5))\n",
    " \n",
    "# creating the bar plot\n",
    "plt.bar(Classifier_model, Classifier_accuracy, color ='blue',\n",
    "        width = 0.3)\n",
    "plt.ylim(0, 100)\n",
    "plt.xlabel(\"Classifier\")\n",
    "plt.ylabel(\"Accuracy (%)\")\n",
    "plt.title(\"Comparative analysis after Autoencoder feature extraction (UNSW NB15 Dataset)\")\n",
    "plt.show()"
   ]
  },
  {
   "cell_type": "code",
   "execution_count": 93,
   "id": "d9e7ea2f",
   "metadata": {},
   "outputs": [
    {
     "data": {
      "text/plain": [
       "<matplotlib.legend.Legend at 0x1ce4a79ddf0>"
      ]
     },
     "execution_count": 93,
     "metadata": {},
     "output_type": "execute_result"
    },
    {
     "data": {
      "image/png": "[encoded data removed]",
      "text/plain": [
       "<Figure size 432x360 with 1 Axes>"
      ]
     },
     "metadata": {
      "needs_background": "light"
     },
     "output_type": "display_data"
    }
   ],
   "source": [
    "#set up plotting area\n",
    "plt.figure(0).clf()\n",
    "\n",
    "fpr, tpr, _ = metrics.roc_curve(y2,  y_pred_new)\n",
    "auc = roc_auc_score(y2, y_pred_new)\n",
    "plt.plot(fpr,tpr,label=\"XGBoost, AUC=\"+str(auc))\n",
    "\n",
    "fpr, tpr, _ = metrics.roc_curve(y2,  y_pred_class_DNN)\n",
    "auc = roc_auc_score(y2, y_pred_class_DNN)\n",
    "plt.plot(fpr,tpr,label=\"DNN, AUC=\"+str(auc))\n",
    "\n",
    "fpr, tpr, _ = metrics.roc_curve(y2,  y_pred_class_CNN)\n",
    "auc = roc_auc_score(y2, y_pred_class_CNN)\n",
    "plt.plot(fpr,tpr,label=\"CNN, AUC=\"+str(auc))\n",
    "\n",
    "fpr, tpr, _ = metrics.roc_curve(y2,  y_pred_class_TCN)\n",
    "auc = roc_auc_score(y2, y_pred_class_TCN)\n",
    "plt.plot(fpr,tpr,label=\"TCN, AUC=\"+str(auc))\n",
    "\n",
    "#add legend\n",
    "plt.title(\"ROC curve after Autoencoder feature extraction (UNSW NB15 Dataset)\")\n",
    "plt.legend()"
   ]
  },
  {
   "cell_type": "code",
   "execution_count": 94,
   "id": "faba9441",
   "metadata": {},
   "outputs": [
    {
     "data": {
      "text/plain": [
       "<matplotlib.legend.Legend at 0x1ce4b95da00>"
      ]
     },
     "execution_count": 94,
     "metadata": {},
     "output_type": "execute_result"
    },
    {
     "data": {
      "image/png": "[encoded data removed]",
      "text/plain": [
       "<Figure size 432x360 with 1 Axes>"
      ]
     },
     "metadata": {
      "needs_background": "light"
     },
     "output_type": "display_data"
    }
   ],
   "source": [
    "fpr, tpr, _ = metrics.roc_curve(y2,  y_pred_TabNet)\n",
    "auc = roc_auc_score(y2, y_pred_TabNet)\n",
    "plt.plot(fpr,tpr,label=\"TabNet, AUC=\"+str(auc))\n",
    "#add legend\n",
    "plt.title(\"ROC curve of proposed model after Autoencoder feature extraction (UNSW NB15 Dataset)\")\n",
    "plt.legend()"
   ]
  },
  {
   "cell_type": "code",
   "execution_count": 114,
   "id": "f2ecba07",
   "metadata": {},
   "outputs": [
    {
     "data": {
      "text/plain": [
       "<matplotlib.legend.Legend at 0x1ce47d4a880>"
      ]
     },
     "execution_count": 114,
     "metadata": {},
     "output_type": "execute_result"
    },
    {
     "data": {
      "image/png": "[encoded data removed]",
      "text/plain": [
       "<Figure size 432x360 with 1 Axes>"
      ]
     },
     "metadata": {
      "needs_background": "light"
     },
     "output_type": "display_data"
    }
   ],
   "source": [
    "#set up plotting area\n",
    "plt.figure(0).clf()\n",
    "figsize(5, 4)\n",
    "\n",
    "fpr, tpr, _ = metrics.roc_curve(y2,  y_pred_new)\n",
    "auc = roc_auc_score(y2, y_pred_new)\n",
    "plt.plot(fpr,tpr,label=\"XGBoost, AUC=\"+str(auc))\n",
    "\n",
    "fpr, tpr, _ = metrics.roc_curve(y2,  y_pred_class_DNN)\n",
    "auc = roc_auc_score(y2, y_pred_class_DNN)\n",
    "plt.plot(fpr,tpr,label=\"DNN, AUC=\"+str(auc))\n",
    "\n",
    "fpr, tpr, _ = metrics.roc_curve(y2,  y_pred_class_CNN)\n",
    "auc = roc_auc_score(y2, y_pred_class_CNN)\n",
    "plt.plot(fpr,tpr,label=\"CNN, AUC=\"+str(auc))\n",
    "\n",
    "fpr, tpr, _ = metrics.roc_curve(y2,  y_pred_class_TCN)\n",
    "auc = roc_auc_score(y2, y_pred_class_TCN)\n",
    "plt.plot(fpr,tpr,label=\"TCN, AUC=\"+str(auc))\n",
    "\n",
    "fpr, tpr, _ = metrics.roc_curve(y2,  y_pred_TabNet)\n",
    "auc = roc_auc_score(y2, y_pred_TabNet)\n",
    "plt.plot(fpr,tpr,label=\"TabNet, AUC=\"+str(auc))\n",
    "\n",
    "#add legend\n",
    "plt.title(\"ROC curve after Autoencoder feature extraction (UNSW NB15 Dataset)\")\n",
    "plt.legend()"
   ]
  },
  {
   "cell_type": "code",
   "execution_count": 111,
   "id": "b7bbbeb4",
   "metadata": {},
   "outputs": [
    {
     "data": {
      "image/png": "[encoded data removed]",
      "text/plain": [
       "<Figure size 720x576 with 1 Axes>"
      ]
     },
     "metadata": {
      "needs_background": "light"
     },
     "output_type": "display_data"
    }
   ],
   "source": [
    "from IPython.core.pylabtools import figsize\n",
    "figsize(10, 8)\n",
    "# Import Library\n",
    "import numpy as np \n",
    "import matplotlib.pyplot as plt \n",
    "\n",
    "# Define Data\n",
    "data3 = ['Before feature extraction','XGBoost feature extraction','Autoencoder feature extraction']\n",
    "xvals = [90.1,90.5,85.32]\n",
    "yvals = [75.1,78.7,81.03]\n",
    "zvals = [78.7,80.9,85.10]\n",
    "avals = [90.9,89.7,89.06]\n",
    "bvals = [92.1,93.2,89.25]\n",
    "\n",
    "x_axis = np.arange(len(data3))\n",
    "\n",
    "# Multi bar Chart\n",
    "plt.bar(x_axis +0.1, xvals, width=0.1, label = 'XGBoost')\n",
    "plt.bar(x_axis +0.1*2, yvals, width=0.1, label = 'DNN')\n",
    "plt.bar(x_axis +0.1*3, zvals, width=0.1, label = 'CNN')\n",
    "plt.bar(x_axis +0.1*4, avals, width=0.1, label = 'TCN')\n",
    "plt.bar(x_axis +0.1*5, bvals, width=0.1, label = 'TabNet')\n",
    "\n",
    "# Xticks\n",
    "plt.xticks(x_axis,data3)\n",
    "plt.ylabel(\"Accuracy (%)\")\n",
    "plt.xlabel(\"Experiments on classification\")\n",
    "plt.title(\"Comparitive analysis of different experiments (UNSW NB15 Dataset)\")\n",
    "plt.legend()\n",
    "plt.show()"
   ]
  },
  {
   "cell_type": "code",
   "execution_count": null,
   "id": "0162097a",
   "metadata": {},
   "outputs": [],
   "source": []
  }
 ],
 "metadata": {
  "kernelspec": {
   "display_name": "Python 3",
   "language": "python",
   "name": "python3"
  },
  "language_info": {
   "codemirror_mode": {
    "name": "ipython",
    "version": 3
   },
   "file_extension": ".py",
   "mimetype": "text/x-python",
   "name": "python",
   "nbconvert_exporter": "python",
   "pygments_lexer": "ipython3",
   "version": "3.8.8"
  }
 },
 "nbformat": 4,
 "nbformat_minor": 5
}
