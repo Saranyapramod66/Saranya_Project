{
 "cells": [
  {
   "cell_type": "code",
   "execution_count": 1,
   "id": "1cd95d01",
   "metadata": {},
   "outputs": [],
   "source": [
    "from sklearn.preprocessing import MinMaxScaler\n",
    "from tensorflow.keras.models import Model\n",
    "from tensorflow.keras.layers import Input\n",
    "from tensorflow.keras.layers import Dense\n",
    "from tensorflow.keras.layers import LeakyReLU\n",
    "from tensorflow.keras.layers import BatchNormalization\n",
    "from tensorflow.keras.models import load_model"
   ]
  },
  {
   "cell_type": "code",
   "execution_count": 2,
   "id": "e21e5961",
   "metadata": {},
   "outputs": [],
   "source": [
    "import numpy as np\n",
    "import pandas as pd\n",
    "train = pd.read_csv('NSL_KDD_bayesian_enc_training_set.csv')\n",
    "test = pd.read_csv('NSL_KDD_bayesian_enc_testing_set.csv')"
   ]
  },
  {
   "cell_type": "code",
   "execution_count": 3,
   "id": "2762cd4e",
   "metadata": {},
   "outputs": [
    {
     "data": {
      "text/html": [
       "<div>\n",
       "<style scoped>\n",
       "    .dataframe tbody tr th:only-of-type {\n",
       "        vertical-align: middle;\n",
       "    }\n",
       "\n",
       "    .dataframe tbody tr th {\n",
       "        vertical-align: top;\n",
       "    }\n",
       "\n",
       "    .dataframe thead th {\n",
       "        text-align: right;\n",
       "    }\n",
       "</style>\n",
       "<table border=\"1\" class=\"dataframe\">\n",
       "  <thead>\n",
       "    <tr style=\"text-align: right;\">\n",
       "      <th></th>\n",
       "      <th>duration</th>\n",
       "      <th>src_bytes</th>\n",
       "      <th>dst_bytes</th>\n",
       "      <th>land</th>\n",
       "      <th>wrong_fragment</th>\n",
       "      <th>urgent</th>\n",
       "      <th>hot</th>\n",
       "      <th>num_failed_logins</th>\n",
       "      <th>logged_in</th>\n",
       "      <th>num_compromised</th>\n",
       "      <th>...</th>\n",
       "      <th>dst_host_same_src_port_rate</th>\n",
       "      <th>dst_host_srv_diff_host_rate</th>\n",
       "      <th>dst_host_serror_rate</th>\n",
       "      <th>dst_host_srv_serror_rate</th>\n",
       "      <th>dst_host_rerror_rate</th>\n",
       "      <th>dst_host_srv_rerror_rate</th>\n",
       "      <th>protocol_type</th>\n",
       "      <th>service</th>\n",
       "      <th>flag</th>\n",
       "      <th>label</th>\n",
       "    </tr>\n",
       "  </thead>\n",
       "  <tbody>\n",
       "    <tr>\n",
       "      <th>0</th>\n",
       "      <td>0</td>\n",
       "      <td>491</td>\n",
       "      <td>0</td>\n",
       "      <td>0</td>\n",
       "      <td>0</td>\n",
       "      <td>0</td>\n",
       "      <td>0</td>\n",
       "      <td>0</td>\n",
       "      <td>0</td>\n",
       "      <td>0</td>\n",
       "      <td>...</td>\n",
       "      <td>0.17</td>\n",
       "      <td>0.00</td>\n",
       "      <td>0.00</td>\n",
       "      <td>0.00</td>\n",
       "      <td>0.05</td>\n",
       "      <td>0.00</td>\n",
       "      <td>0.494592</td>\n",
       "      <td>0.312151</td>\n",
       "      <td>0.187263</td>\n",
       "      <td>0</td>\n",
       "    </tr>\n",
       "    <tr>\n",
       "      <th>1</th>\n",
       "      <td>0</td>\n",
       "      <td>146</td>\n",
       "      <td>0</td>\n",
       "      <td>0</td>\n",
       "      <td>0</td>\n",
       "      <td>0</td>\n",
       "      <td>0</td>\n",
       "      <td>0</td>\n",
       "      <td>0</td>\n",
       "      <td>0</td>\n",
       "      <td>...</td>\n",
       "      <td>0.88</td>\n",
       "      <td>0.00</td>\n",
       "      <td>0.00</td>\n",
       "      <td>0.00</td>\n",
       "      <td>0.00</td>\n",
       "      <td>0.00</td>\n",
       "      <td>0.193255</td>\n",
       "      <td>0.486434</td>\n",
       "      <td>0.187263</td>\n",
       "      <td>0</td>\n",
       "    </tr>\n",
       "    <tr>\n",
       "      <th>2</th>\n",
       "      <td>0</td>\n",
       "      <td>0</td>\n",
       "      <td>0</td>\n",
       "      <td>0</td>\n",
       "      <td>0</td>\n",
       "      <td>0</td>\n",
       "      <td>0</td>\n",
       "      <td>0</td>\n",
       "      <td>0</td>\n",
       "      <td>0</td>\n",
       "      <td>...</td>\n",
       "      <td>0.00</td>\n",
       "      <td>0.00</td>\n",
       "      <td>1.00</td>\n",
       "      <td>1.00</td>\n",
       "      <td>0.00</td>\n",
       "      <td>0.00</td>\n",
       "      <td>0.494592</td>\n",
       "      <td>0.931123</td>\n",
       "      <td>0.990397</td>\n",
       "      <td>1</td>\n",
       "    </tr>\n",
       "    <tr>\n",
       "      <th>3</th>\n",
       "      <td>0</td>\n",
       "      <td>232</td>\n",
       "      <td>8153</td>\n",
       "      <td>0</td>\n",
       "      <td>0</td>\n",
       "      <td>0</td>\n",
       "      <td>0</td>\n",
       "      <td>0</td>\n",
       "      <td>1</td>\n",
       "      <td>0</td>\n",
       "      <td>...</td>\n",
       "      <td>0.03</td>\n",
       "      <td>0.04</td>\n",
       "      <td>0.03</td>\n",
       "      <td>0.01</td>\n",
       "      <td>0.00</td>\n",
       "      <td>0.01</td>\n",
       "      <td>0.494592</td>\n",
       "      <td>0.071984</td>\n",
       "      <td>0.187263</td>\n",
       "      <td>0</td>\n",
       "    </tr>\n",
       "    <tr>\n",
       "      <th>4</th>\n",
       "      <td>0</td>\n",
       "      <td>199</td>\n",
       "      <td>420</td>\n",
       "      <td>0</td>\n",
       "      <td>0</td>\n",
       "      <td>0</td>\n",
       "      <td>0</td>\n",
       "      <td>0</td>\n",
       "      <td>1</td>\n",
       "      <td>0</td>\n",
       "      <td>...</td>\n",
       "      <td>0.00</td>\n",
       "      <td>0.00</td>\n",
       "      <td>0.00</td>\n",
       "      <td>0.00</td>\n",
       "      <td>0.00</td>\n",
       "      <td>0.00</td>\n",
       "      <td>0.494592</td>\n",
       "      <td>0.071984</td>\n",
       "      <td>0.187263</td>\n",
       "      <td>0</td>\n",
       "    </tr>\n",
       "    <tr>\n",
       "      <th>...</th>\n",
       "      <td>...</td>\n",
       "      <td>...</td>\n",
       "      <td>...</td>\n",
       "      <td>...</td>\n",
       "      <td>...</td>\n",
       "      <td>...</td>\n",
       "      <td>...</td>\n",
       "      <td>...</td>\n",
       "      <td>...</td>\n",
       "      <td>...</td>\n",
       "      <td>...</td>\n",
       "      <td>...</td>\n",
       "      <td>...</td>\n",
       "      <td>...</td>\n",
       "      <td>...</td>\n",
       "      <td>...</td>\n",
       "      <td>...</td>\n",
       "      <td>...</td>\n",
       "      <td>...</td>\n",
       "      <td>...</td>\n",
       "      <td>...</td>\n",
       "    </tr>\n",
       "    <tr>\n",
       "      <th>125968</th>\n",
       "      <td>0</td>\n",
       "      <td>0</td>\n",
       "      <td>0</td>\n",
       "      <td>0</td>\n",
       "      <td>0</td>\n",
       "      <td>0</td>\n",
       "      <td>0</td>\n",
       "      <td>0</td>\n",
       "      <td>0</td>\n",
       "      <td>0</td>\n",
       "      <td>...</td>\n",
       "      <td>0.00</td>\n",
       "      <td>0.00</td>\n",
       "      <td>1.00</td>\n",
       "      <td>1.00</td>\n",
       "      <td>0.00</td>\n",
       "      <td>0.00</td>\n",
       "      <td>0.494592</td>\n",
       "      <td>0.931123</td>\n",
       "      <td>0.990397</td>\n",
       "      <td>1</td>\n",
       "    </tr>\n",
       "    <tr>\n",
       "      <th>125969</th>\n",
       "      <td>8</td>\n",
       "      <td>105</td>\n",
       "      <td>145</td>\n",
       "      <td>0</td>\n",
       "      <td>0</td>\n",
       "      <td>0</td>\n",
       "      <td>0</td>\n",
       "      <td>0</td>\n",
       "      <td>0</td>\n",
       "      <td>0</td>\n",
       "      <td>...</td>\n",
       "      <td>0.01</td>\n",
       "      <td>0.00</td>\n",
       "      <td>0.00</td>\n",
       "      <td>0.00</td>\n",
       "      <td>0.00</td>\n",
       "      <td>0.00</td>\n",
       "      <td>0.193255</td>\n",
       "      <td>0.931123</td>\n",
       "      <td>0.187263</td>\n",
       "      <td>0</td>\n",
       "    </tr>\n",
       "    <tr>\n",
       "      <th>125970</th>\n",
       "      <td>0</td>\n",
       "      <td>2231</td>\n",
       "      <td>384</td>\n",
       "      <td>0</td>\n",
       "      <td>0</td>\n",
       "      <td>0</td>\n",
       "      <td>0</td>\n",
       "      <td>0</td>\n",
       "      <td>1</td>\n",
       "      <td>0</td>\n",
       "      <td>...</td>\n",
       "      <td>0.00</td>\n",
       "      <td>0.00</td>\n",
       "      <td>0.72</td>\n",
       "      <td>0.00</td>\n",
       "      <td>0.01</td>\n",
       "      <td>0.00</td>\n",
       "      <td>0.494592</td>\n",
       "      <td>0.072754</td>\n",
       "      <td>0.187263</td>\n",
       "      <td>0</td>\n",
       "    </tr>\n",
       "    <tr>\n",
       "      <th>125971</th>\n",
       "      <td>0</td>\n",
       "      <td>0</td>\n",
       "      <td>0</td>\n",
       "      <td>0</td>\n",
       "      <td>0</td>\n",
       "      <td>0</td>\n",
       "      <td>0</td>\n",
       "      <td>0</td>\n",
       "      <td>0</td>\n",
       "      <td>0</td>\n",
       "      <td>...</td>\n",
       "      <td>0.00</td>\n",
       "      <td>0.00</td>\n",
       "      <td>1.00</td>\n",
       "      <td>1.00</td>\n",
       "      <td>0.00</td>\n",
       "      <td>0.00</td>\n",
       "      <td>0.494592</td>\n",
       "      <td>1.000000</td>\n",
       "      <td>0.990397</td>\n",
       "      <td>1</td>\n",
       "    </tr>\n",
       "    <tr>\n",
       "      <th>125972</th>\n",
       "      <td>0</td>\n",
       "      <td>151</td>\n",
       "      <td>0</td>\n",
       "      <td>0</td>\n",
       "      <td>0</td>\n",
       "      <td>0</td>\n",
       "      <td>0</td>\n",
       "      <td>0</td>\n",
       "      <td>1</td>\n",
       "      <td>0</td>\n",
       "      <td>...</td>\n",
       "      <td>0.30</td>\n",
       "      <td>0.00</td>\n",
       "      <td>0.00</td>\n",
       "      <td>0.00</td>\n",
       "      <td>0.00</td>\n",
       "      <td>0.00</td>\n",
       "      <td>0.494592</td>\n",
       "      <td>0.312151</td>\n",
       "      <td>0.187263</td>\n",
       "      <td>0</td>\n",
       "    </tr>\n",
       "  </tbody>\n",
       "</table>\n",
       "<p>125973 rows × 42 columns</p>\n",
       "</div>"
      ],
      "text/plain": [
       "        duration  src_bytes  dst_bytes  land  wrong_fragment  urgent  hot  \\\n",
       "0              0        491          0     0               0       0    0   \n",
       "1              0        146          0     0               0       0    0   \n",
       "2              0          0          0     0               0       0    0   \n",
       "3              0        232       8153     0               0       0    0   \n",
       "4              0        199        420     0               0       0    0   \n",
       "...          ...        ...        ...   ...             ...     ...  ...   \n",
       "125968         0          0          0     0               0       0    0   \n",
       "125969         8        105        145     0               0       0    0   \n",
       "125970         0       2231        384     0               0       0    0   \n",
       "125971         0          0          0     0               0       0    0   \n",
       "125972         0        151          0     0               0       0    0   \n",
       "\n",
       "        num_failed_logins  logged_in  num_compromised  ...  \\\n",
       "0                       0          0                0  ...   \n",
       "1                       0          0                0  ...   \n",
       "2                       0          0                0  ...   \n",
       "3                       0          1                0  ...   \n",
       "4                       0          1                0  ...   \n",
       "...                   ...        ...              ...  ...   \n",
       "125968                  0          0                0  ...   \n",
       "125969                  0          0                0  ...   \n",
       "125970                  0          1                0  ...   \n",
       "125971                  0          0                0  ...   \n",
       "125972                  0          1                0  ...   \n",
       "\n",
       "        dst_host_same_src_port_rate  dst_host_srv_diff_host_rate  \\\n",
       "0                              0.17                         0.00   \n",
       "1                              0.88                         0.00   \n",
       "2                              0.00                         0.00   \n",
       "3                              0.03                         0.04   \n",
       "4                              0.00                         0.00   \n",
       "...                             ...                          ...   \n",
       "125968                         0.00                         0.00   \n",
       "125969                         0.01                         0.00   \n",
       "125970                         0.00                         0.00   \n",
       "125971                         0.00                         0.00   \n",
       "125972                         0.30                         0.00   \n",
       "\n",
       "        dst_host_serror_rate  dst_host_srv_serror_rate  dst_host_rerror_rate  \\\n",
       "0                       0.00                      0.00                  0.05   \n",
       "1                       0.00                      0.00                  0.00   \n",
       "2                       1.00                      1.00                  0.00   \n",
       "3                       0.03                      0.01                  0.00   \n",
       "4                       0.00                      0.00                  0.00   \n",
       "...                      ...                       ...                   ...   \n",
       "125968                  1.00                      1.00                  0.00   \n",
       "125969                  0.00                      0.00                  0.00   \n",
       "125970                  0.72                      0.00                  0.01   \n",
       "125971                  1.00                      1.00                  0.00   \n",
       "125972                  0.00                      0.00                  0.00   \n",
       "\n",
       "        dst_host_srv_rerror_rate  protocol_type   service      flag  label  \n",
       "0                           0.00       0.494592  0.312151  0.187263      0  \n",
       "1                           0.00       0.193255  0.486434  0.187263      0  \n",
       "2                           0.00       0.494592  0.931123  0.990397      1  \n",
       "3                           0.01       0.494592  0.071984  0.187263      0  \n",
       "4                           0.00       0.494592  0.071984  0.187263      0  \n",
       "...                          ...            ...       ...       ...    ...  \n",
       "125968                      0.00       0.494592  0.931123  0.990397      1  \n",
       "125969                      0.00       0.193255  0.931123  0.187263      0  \n",
       "125970                      0.00       0.494592  0.072754  0.187263      0  \n",
       "125971                      0.00       0.494592  1.000000  0.990397      1  \n",
       "125972                      0.00       0.494592  0.312151  0.187263      0  \n",
       "\n",
       "[125973 rows x 42 columns]"
      ]
     },
     "execution_count": 3,
     "metadata": {},
     "output_type": "execute_result"
    }
   ],
   "source": [
    "train"
   ]
  },
  {
   "cell_type": "code",
   "execution_count": 4,
   "id": "bbc9b646",
   "metadata": {},
   "outputs": [
    {
     "name": "stdout",
     "output_type": "stream",
     "text": [
      "        src_bytes  dst_bytes  land  wrong_fragment  urgent  hot  \\\n",
      "0             491          0     0               0       0    0   \n",
      "1             146          0     0               0       0    0   \n",
      "2               0          0     0               0       0    0   \n",
      "3             232       8153     0               0       0    0   \n",
      "4             199        420     0               0       0    0   \n",
      "...           ...        ...   ...             ...     ...  ...   \n",
      "125968          0          0     0               0       0    0   \n",
      "125969        105        145     0               0       0    0   \n",
      "125970       2231        384     0               0       0    0   \n",
      "125971          0          0     0               0       0    0   \n",
      "125972        151          0     0               0       0    0   \n",
      "\n",
      "        num_failed_logins  logged_in  num_compromised  root_shell  ...  \\\n",
      "0                       0          0                0           0  ...   \n",
      "1                       0          0                0           0  ...   \n",
      "2                       0          0                0           0  ...   \n",
      "3                       0          1                0           0  ...   \n",
      "4                       0          1                0           0  ...   \n",
      "...                   ...        ...              ...         ...  ...   \n",
      "125968                  0          0                0           0  ...   \n",
      "125969                  0          0                0           0  ...   \n",
      "125970                  0          1                0           0  ...   \n",
      "125971                  0          0                0           0  ...   \n",
      "125972                  0          1                0           0  ...   \n",
      "\n",
      "        dst_host_diff_srv_rate  dst_host_same_src_port_rate  \\\n",
      "0                         0.03                         0.17   \n",
      "1                         0.60                         0.88   \n",
      "2                         0.05                         0.00   \n",
      "3                         0.00                         0.03   \n",
      "4                         0.00                         0.00   \n",
      "...                        ...                          ...   \n",
      "125968                    0.06                         0.00   \n",
      "125969                    0.01                         0.01   \n",
      "125970                    0.06                         0.00   \n",
      "125971                    0.05                         0.00   \n",
      "125972                    0.03                         0.30   \n",
      "\n",
      "        dst_host_srv_diff_host_rate  dst_host_serror_rate  \\\n",
      "0                              0.00                  0.00   \n",
      "1                              0.00                  0.00   \n",
      "2                              0.00                  1.00   \n",
      "3                              0.04                  0.03   \n",
      "4                              0.00                  0.00   \n",
      "...                             ...                   ...   \n",
      "125968                         0.00                  1.00   \n",
      "125969                         0.00                  0.00   \n",
      "125970                         0.00                  0.72   \n",
      "125971                         0.00                  1.00   \n",
      "125972                         0.00                  0.00   \n",
      "\n",
      "        dst_host_srv_serror_rate  dst_host_rerror_rate  \\\n",
      "0                           0.00                  0.05   \n",
      "1                           0.00                  0.00   \n",
      "2                           1.00                  0.00   \n",
      "3                           0.01                  0.00   \n",
      "4                           0.00                  0.00   \n",
      "...                          ...                   ...   \n",
      "125968                      1.00                  0.00   \n",
      "125969                      0.00                  0.00   \n",
      "125970                      0.00                  0.01   \n",
      "125971                      1.00                  0.00   \n",
      "125972                      0.00                  0.00   \n",
      "\n",
      "        dst_host_srv_rerror_rate  protocol_type   service      flag  \n",
      "0                           0.00       0.494592  0.312151  0.187263  \n",
      "1                           0.00       0.193255  0.486434  0.187263  \n",
      "2                           0.00       0.494592  0.931123  0.990397  \n",
      "3                           0.01       0.494592  0.071984  0.187263  \n",
      "4                           0.00       0.494592  0.071984  0.187263  \n",
      "...                          ...            ...       ...       ...  \n",
      "125968                      0.00       0.494592  0.931123  0.990397  \n",
      "125969                      0.00       0.193255  0.931123  0.187263  \n",
      "125970                      0.00       0.494592  0.072754  0.187263  \n",
      "125971                      0.00       0.494592  1.000000  0.990397  \n",
      "125972                      0.00       0.494592  0.312151  0.187263  \n",
      "\n",
      "[125973 rows x 40 columns]\n",
      "0         0\n",
      "1         0\n",
      "2         1\n",
      "3         0\n",
      "4         0\n",
      "         ..\n",
      "125968    1\n",
      "125969    0\n",
      "125970    0\n",
      "125971    1\n",
      "125972    0\n",
      "Name: label, Length: 125973, dtype: int64\n"
     ]
    }
   ],
   "source": [
    "x1 = train.iloc[:,1:41]\n",
    "y1 = train['label']\n",
    "print(x1)\n",
    "print(y1)"
   ]
  },
  {
   "cell_type": "code",
   "execution_count": 5,
   "id": "0d0140a1",
   "metadata": {},
   "outputs": [
    {
     "name": "stdout",
     "output_type": "stream",
     "text": [
      "       src_bytes  dst_bytes  land  wrong_fragment  urgent  hot  \\\n",
      "0              0          0     0               0       0    0   \n",
      "1              0          0     0               0       0    0   \n",
      "2          12983          0     0               0       0    0   \n",
      "3             20          0     0               0       0    0   \n",
      "4              0         15     0               0       0    0   \n",
      "...          ...        ...   ...             ...     ...  ...   \n",
      "22539        794        333     0               0       0    0   \n",
      "22540        317        938     0               0       0    0   \n",
      "22541      54540       8314     0               0       0    2   \n",
      "22542         42         42     0               0       0    0   \n",
      "22543          0          0     0               0       0    0   \n",
      "\n",
      "       num_failed_logins  logged_in  num_compromised  root_shell  ...  \\\n",
      "0                      0          0                0           0  ...   \n",
      "1                      0          0                0           0  ...   \n",
      "2                      0          0                0           0  ...   \n",
      "3                      0          0                0           0  ...   \n",
      "4                      0          0                0           0  ...   \n",
      "...                  ...        ...              ...         ...  ...   \n",
      "22539                  0          1                0           0  ...   \n",
      "22540                  0          1                0           0  ...   \n",
      "22541                  0          1                1           0  ...   \n",
      "22542                  0          0                0           0  ...   \n",
      "22543                  0          0                0           0  ...   \n",
      "\n",
      "       dst_host_diff_srv_rate  dst_host_same_src_port_rate  \\\n",
      "0                        0.06                         0.00   \n",
      "1                        0.06                         0.00   \n",
      "2                        0.04                         0.61   \n",
      "3                        0.00                         1.00   \n",
      "4                        0.17                         0.03   \n",
      "...                       ...                          ...   \n",
      "22539                    0.06                         0.01   \n",
      "22540                    0.00                         0.01   \n",
      "22541                    0.00                         0.00   \n",
      "22542                    0.01                         0.00   \n",
      "22543                    0.03                         0.00   \n",
      "\n",
      "       dst_host_srv_diff_host_rate  dst_host_serror_rate  \\\n",
      "0                             0.00                  0.00   \n",
      "1                             0.00                  0.00   \n",
      "2                             0.02                  0.00   \n",
      "3                             0.28                  0.00   \n",
      "4                             0.02                  0.00   \n",
      "...                            ...                   ...   \n",
      "22539                         0.01                  0.01   \n",
      "22540                         0.01                  0.01   \n",
      "22541                         0.00                  0.00   \n",
      "22542                         0.00                  0.00   \n",
      "22543                         0.00                  0.00   \n",
      "\n",
      "       dst_host_srv_serror_rate  dst_host_rerror_rate  \\\n",
      "0                           0.0                  1.00   \n",
      "1                           0.0                  1.00   \n",
      "2                           0.0                  0.00   \n",
      "3                           0.0                  0.00   \n",
      "4                           0.0                  0.83   \n",
      "...                         ...                   ...   \n",
      "22539                       0.0                  0.00   \n",
      "22540                       0.0                  0.00   \n",
      "22541                       0.0                  0.07   \n",
      "22542                       0.0                  0.00   \n",
      "22543                       0.0                  0.44   \n",
      "\n",
      "       dst_host_srv_rerror_rate  protocol_type   service      flag  \n",
      "0                          1.00       0.494592  0.931123  0.819200  \n",
      "1                          1.00       0.494592  0.931123  0.819200  \n",
      "2                          0.00       0.494592  0.312151  0.187263  \n",
      "3                          0.00       0.849796  0.892120  0.187263  \n",
      "4                          0.71       0.494592  0.758482  0.905353  \n",
      "...                         ...            ...       ...       ...  \n",
      "22539                      0.00       0.494592  0.072754  0.187263  \n",
      "22540                      0.00       0.494592  0.071984  0.187263  \n",
      "22541                      0.07       0.494592  0.071984  0.187263  \n",
      "22542                      0.00       0.193255  0.001107  0.187263  \n",
      "22543                      1.00       0.494592  1.000000  0.819200  \n",
      "\n",
      "[22544 rows x 40 columns]\n",
      "0        1\n",
      "1        1\n",
      "2        0\n",
      "3        1\n",
      "4        1\n",
      "        ..\n",
      "22539    0\n",
      "22540    0\n",
      "22541    1\n",
      "22542    0\n",
      "22543    1\n",
      "Name: label, Length: 22544, dtype: int64\n"
     ]
    }
   ],
   "source": [
    "x2 = test.iloc[:,1:41]\n",
    "y2 = test['label']\n",
    "print(x2)\n",
    "print(y2)"
   ]
  },
  {
   "cell_type": "code",
   "execution_count": 6,
   "id": "ac31d7cd",
   "metadata": {},
   "outputs": [
    {
     "data": {
      "image/png": "[encoded data removed]",
      "text/plain": [
       "<Figure size 360x360 with 1 Axes>"
      ]
     },
     "metadata": {
      "needs_background": "light"
     },
     "output_type": "display_data"
    }
   ],
   "source": [
    "from matplotlib import pyplot as plt\n",
    "data1 = {'Intrusion':58630, 'Normal':67343}\n",
    "Class_label = list(data1.keys())\n",
    "Number_of_instances = list(data1.values())\n",
    "  \n",
    "fig = plt.figure(figsize = (5, 5))\n",
    " \n",
    "# creating the bar plot\n",
    "plt.bar(Class_label, Number_of_instances, color ='blue',\n",
    "        width = 0.3)\n",
    "plt.ylim(0, 70000)\n",
    "plt.xlabel(\"Class label\")\n",
    "plt.ylabel(\"Number of instances\")\n",
    "plt.title(\"Number of samples in each class before resampling (NSLKDD Dataset)\")\n",
    "plt.show()"
   ]
  },
  {
   "cell_type": "code",
   "execution_count": 7,
   "id": "c1cd61ee",
   "metadata": {},
   "outputs": [],
   "source": [
    "# RESAMPLING\n",
    "\n",
    "from imblearn import under_sampling, over_sampling\n",
    "from imblearn.over_sampling import SMOTE\n",
    "sm = SMOTE()\n",
    "x1, y1 = sm.fit_sample(x1, y1) "
   ]
  },
  {
   "cell_type": "code",
   "execution_count": 8,
   "id": "a6e2e38a",
   "metadata": {},
   "outputs": [
    {
     "data": {
      "image/png": "[encoded data removed]",
      "text/plain": [
       "<Figure size 360x360 with 1 Axes>"
      ]
     },
     "metadata": {
      "needs_background": "light"
     },
     "output_type": "display_data"
    }
   ],
   "source": [
    "data2 = {'Intrusion':67343, 'Normal':67343}\n",
    "Class_label = list(data2.keys())\n",
    "Number_of_instances = list(data2.values())\n",
    "  \n",
    "fig = plt.figure(figsize = (5, 5))\n",
    " \n",
    "# creating the bar plot\n",
    "plt.bar(Class_label, Number_of_instances, color ='blue',\n",
    "        width = 0.3)\n",
    "plt.ylim(0, 70000)\n",
    "plt.xlabel(\"Class label\")\n",
    "plt.ylabel(\"Number of instances\")\n",
    "plt.title(\"Number of samples in each class after resampling (NSLKDD Dataset)\")\n",
    "plt.show()"
   ]
  },
  {
   "cell_type": "code",
   "execution_count": 9,
   "id": "4147703c",
   "metadata": {},
   "outputs": [],
   "source": [
    "# NORMALIZATION\n",
    "\n",
    "from sklearn.preprocessing import MinMaxScaler\n",
    "model = MinMaxScaler()\n",
    "model.fit(x1)\n",
    "x1 = model.transform(x1)\n",
    "x2 = model.transform(x2)"
   ]
  },
  {
   "cell_type": "code",
   "execution_count": 10,
   "id": "478655f6",
   "metadata": {},
   "outputs": [],
   "source": [
    "# 1. AUTOENCODER BASED FEATURE EXTRACTION\n",
    "\n",
    "n_inputs = x1.shape[1]\n",
    "n_inputs = x2.shape[1]"
   ]
  },
  {
   "cell_type": "code",
   "execution_count": 11,
   "id": "97cf436f",
   "metadata": {},
   "outputs": [],
   "source": [
    "input_data_shape = Input(shape=(n_inputs,))\n",
    "encoder = Dense(n_inputs*3)(input_data_shape)\n",
    "encoder = BatchNormalization()(encoder)\n",
    "encoder = LeakyReLU()(encoder)\n",
    "encoder = Dense(n_inputs)(encoder)\n",
    "encoder = BatchNormalization()(encoder)\n",
    "encoder = LeakyReLU()(encoder)\n",
    "n_bottleneck = round(float(n_inputs)/3.0)\n",
    "bottleneck = Dense(n_bottleneck)(encoder)\n",
    "decoder = Dense(n_inputs)(bottleneck)\n",
    "decoder = BatchNormalization()(decoder)\n",
    "decoder = LeakyReLU()(decoder)\n",
    "decoder = Dense(n_inputs*3)(bottleneck)\n",
    "decoder = BatchNormalization()(decoder)\n",
    "decoder = LeakyReLU()(decoder)"
   ]
  },
  {
   "cell_type": "code",
   "execution_count": 12,
   "id": "3ec18287",
   "metadata": {},
   "outputs": [
    {
     "name": "stdout",
     "output_type": "stream",
     "text": [
      "Model: \"model\"\n",
      "_________________________________________________________________\n",
      " Layer (type)                Output Shape              Param #   \n",
      "=================================================================\n",
      " input_1 (InputLayer)        [(None, 40)]              0         \n",
      "                                                                 \n",
      " dense (Dense)               (None, 120)               4920      \n",
      "                                                                 \n",
      " batch_normalization (BatchN  (None, 120)              480       \n",
      " ormalization)                                                   \n",
      "                                                                 \n",
      " leaky_re_lu (LeakyReLU)     (None, 120)               0         \n",
      "                                                                 \n",
      " dense_1 (Dense)             (None, 40)                4840      \n",
      "                                                                 \n",
      " batch_normalization_1 (Batc  (None, 40)               160       \n",
      " hNormalization)                                                 \n",
      "                                                                 \n",
      " leaky_re_lu_1 (LeakyReLU)   (None, 40)                0         \n",
      "                                                                 \n",
      " dense_2 (Dense)             (None, 13)                533       \n",
      "                                                                 \n",
      " dense_4 (Dense)             (None, 120)               1680      \n",
      "                                                                 \n",
      " batch_normalization_3 (Batc  (None, 120)              480       \n",
      " hNormalization)                                                 \n",
      "                                                                 \n",
      " leaky_re_lu_3 (LeakyReLU)   (None, 120)               0         \n",
      "                                                                 \n",
      " dense_5 (Dense)             (None, 40)                4840      \n",
      "                                                                 \n",
      "=================================================================\n",
      "Total params: 17,933\n",
      "Trainable params: 17,373\n",
      "Non-trainable params: 560\n",
      "_________________________________________________________________\n"
     ]
    }
   ],
   "source": [
    "output = Dense(n_inputs,activation = 'relu')(decoder)\n",
    "model_AE = Model(inputs = input_data_shape,outputs = output)\n",
    "model_AE.compile(optimizer = 'adam',loss='mse')\n",
    "model_AE.summary()"
   ]
  },
  {
   "cell_type": "code",
   "execution_count": 13,
   "id": "bc75b4f8",
   "metadata": {},
   "outputs": [
    {
     "name": "stdout",
     "output_type": "stream",
     "text": [
      "Epoch 1/20\n",
      "527/527 - 15s - loss: 0.0215 - val_loss: 0.0105 - 15s/epoch - 29ms/step\n",
      "Epoch 2/20\n",
      "527/527 - 3s - loss: 0.0106 - val_loss: 0.0083 - 3s/epoch - 6ms/step\n",
      "Epoch 3/20\n",
      "527/527 - 3s - loss: 0.0099 - val_loss: 0.0069 - 3s/epoch - 6ms/step\n",
      "Epoch 4/20\n",
      "527/527 - 3s - loss: 0.0089 - val_loss: 0.0050 - 3s/epoch - 6ms/step\n",
      "Epoch 5/20\n",
      "527/527 - 3s - loss: 0.0086 - val_loss: 0.0048 - 3s/epoch - 6ms/step\n",
      "Epoch 6/20\n",
      "527/527 - 3s - loss: 0.0050 - val_loss: 0.0026 - 3s/epoch - 6ms/step\n",
      "Epoch 7/20\n",
      "527/527 - 3s - loss: 0.0011 - val_loss: 0.0025 - 3s/epoch - 6ms/step\n",
      "Epoch 8/20\n",
      "527/527 - 3s - loss: 0.0010 - val_loss: 0.0025 - 3s/epoch - 6ms/step\n",
      "Epoch 9/20\n",
      "527/527 - 3s - loss: 9.8612e-04 - val_loss: 0.0023 - 3s/epoch - 6ms/step\n",
      "Epoch 10/20\n",
      "527/527 - 3s - loss: 9.5197e-04 - val_loss: 0.0023 - 3s/epoch - 6ms/step\n",
      "Epoch 11/20\n",
      "527/527 - 3s - loss: 9.0473e-04 - val_loss: 0.0026 - 3s/epoch - 6ms/step\n",
      "Epoch 12/20\n",
      "527/527 - 3s - loss: 8.9451e-04 - val_loss: 0.0025 - 3s/epoch - 6ms/step\n",
      "Epoch 13/20\n",
      "527/527 - 3s - loss: 6.5888e-04 - val_loss: 0.0022 - 3s/epoch - 6ms/step\n",
      "Epoch 14/20\n",
      "527/527 - 3s - loss: 5.1625e-04 - val_loss: 0.0022 - 3s/epoch - 6ms/step\n",
      "Epoch 15/20\n",
      "527/527 - 3s - loss: 4.9628e-04 - val_loss: 0.0023 - 3s/epoch - 6ms/step\n",
      "Epoch 16/20\n",
      "527/527 - 3s - loss: 4.6685e-04 - val_loss: 0.0023 - 3s/epoch - 6ms/step\n",
      "Epoch 17/20\n",
      "527/527 - 3s - loss: 4.5195e-04 - val_loss: 0.0021 - 3s/epoch - 6ms/step\n",
      "Epoch 18/20\n",
      "527/527 - 3s - loss: 4.2633e-04 - val_loss: 0.0021 - 3s/epoch - 6ms/step\n",
      "Epoch 19/20\n",
      "527/527 - 3s - loss: 4.1536e-04 - val_loss: 0.0021 - 3s/epoch - 6ms/step\n",
      "Epoch 20/20\n",
      "527/527 - 3s - loss: 4.0695e-04 - val_loss: 0.0020 - 3s/epoch - 6ms/step\n"
     ]
    }
   ],
   "source": [
    "history = model_AE.fit(x1,x1,epochs = 20,batch_size = 256,shuffle=True,verbose = 2,validation_data = (x2,x2))"
   ]
  },
  {
   "cell_type": "code",
   "execution_count": 14,
   "id": "8a6aaf1c",
   "metadata": {},
   "outputs": [
    {
     "name": "stdout",
     "output_type": "stream",
     "text": [
      "WARNING:tensorflow:Compiled the loaded model, but the compiled metrics have yet to be built. `model.compile_metrics` will be empty until you train or evaluate the model.\n"
     ]
    }
   ],
   "source": [
    "encoder = Model(inputs = input_data_shape,outputs = bottleneck)\n",
    "encoder.save('AE_encoder_NSLKDD.h5')"
   ]
  },
  {
   "cell_type": "code",
   "execution_count": 15,
   "id": "bdc64b32",
   "metadata": {},
   "outputs": [
    {
     "name": "stdout",
     "output_type": "stream",
     "text": [
      "WARNING:tensorflow:No training configuration found in the save file, so the model was *not* compiled. Compile it manually.\n"
     ]
    }
   ],
   "source": [
    "encoder = load_model('AE_encoder_NSLKDD.h5')\n",
    "x1_encode = encoder.predict(x1)\n",
    "x2_encode = encoder.predict(x2)"
   ]
  },
  {
   "cell_type": "code",
   "execution_count": 16,
   "id": "c5ae7f9f",
   "metadata": {},
   "outputs": [
    {
     "data": {
      "text/plain": [
       "array([[-1.5548723 ,  1.5362965 , -0.7627607 , ..., -0.5106836 ,\n",
       "        -0.10679884, -0.9799878 ],\n",
       "       [-0.80648875,  2.2410462 , -1.2976668 , ...,  0.56567657,\n",
       "         0.6531742 ,  0.42097822],\n",
       "       [ 1.6589222 ,  0.97140384, -0.38595054, ...,  0.17130145,\n",
       "        -0.6077372 ,  1.0049777 ],\n",
       "       ...,\n",
       "       [ 1.5589899 ,  1.4730134 , -0.5943333 , ...,  0.2212636 ,\n",
       "        -0.92220616,  1.1168474 ],\n",
       "       [-0.58657396,  4.90947   ,  2.6329892 , ...,  1.5101887 ,\n",
       "        -3.3694575 ,  4.3705683 ],\n",
       "       [ 1.5418314 ,  1.0181034 , -0.30032307, ...,  0.14645712,\n",
       "        -0.74999356,  1.0831069 ]], dtype=float32)"
      ]
     },
     "execution_count": 16,
     "metadata": {},
     "output_type": "execute_result"
    }
   ],
   "source": [
    "x1_encode"
   ]
  },
  {
   "cell_type": "code",
   "execution_count": 17,
   "id": "4e5844d1",
   "metadata": {},
   "outputs": [
    {
     "data": {
      "text/plain": [
       "array([[-0.71840256,  5.1541433 ,  2.7547393 , ...,  1.4155235 ,\n",
       "        -3.471224  ,  4.4804416 ],\n",
       "       [-0.6189715 ,  5.0468116 ,  2.6241183 , ...,  1.5344408 ,\n",
       "        -3.4920402 ,  4.459587  ],\n",
       "       [-1.2335113 ,  1.2587199 , -0.72262114, ..., -0.048758  ,\n",
       "         0.26648554, -0.86943114],\n",
       "       ...,\n",
       "       [-0.6393793 ,  0.9361442 , -1.6817654 , ...,  0.31789228,\n",
       "         1.0604064 , -0.6702227 ],\n",
       "       [ 0.09264144,  1.7906547 , -1.676525  , ...,  0.26340795,\n",
       "         1.4130322 , -0.15997863],\n",
       "       [-1.371     ,  3.3122654 ,  1.2861615 , ...,  0.91148734,\n",
       "        -0.50297534,  4.1787405 ]], dtype=float32)"
      ]
     },
     "execution_count": 17,
     "metadata": {},
     "output_type": "execute_result"
    }
   ],
   "source": [
    "x2_encode"
   ]
  },
  {
   "cell_type": "code",
   "execution_count": 18,
   "id": "f6a80ce2",
   "metadata": {},
   "outputs": [
    {
     "data": {
      "text/plain": [
       "(134686, 13)"
      ]
     },
     "execution_count": 18,
     "metadata": {},
     "output_type": "execute_result"
    }
   ],
   "source": [
    "x1_encode.shape"
   ]
  },
  {
   "cell_type": "code",
   "execution_count": 19,
   "id": "8dd57f22",
   "metadata": {},
   "outputs": [
    {
     "data": {
      "text/plain": [
       "(22544, 13)"
      ]
     },
     "execution_count": 19,
     "metadata": {},
     "output_type": "execute_result"
    }
   ],
   "source": [
    "x2_encode.shape"
   ]
  },
  {
   "cell_type": "code",
   "execution_count": 20,
   "id": "68c67224",
   "metadata": {},
   "outputs": [
    {
     "data": {
      "text/html": [
       "<div>\n",
       "<style scoped>\n",
       "    .dataframe tbody tr th:only-of-type {\n",
       "        vertical-align: middle;\n",
       "    }\n",
       "\n",
       "    .dataframe tbody tr th {\n",
       "        vertical-align: top;\n",
       "    }\n",
       "\n",
       "    .dataframe thead th {\n",
       "        text-align: right;\n",
       "    }\n",
       "</style>\n",
       "<table border=\"1\" class=\"dataframe\">\n",
       "  <thead>\n",
       "    <tr style=\"text-align: right;\">\n",
       "      <th></th>\n",
       "      <th>AE_0</th>\n",
       "      <th>AE_1</th>\n",
       "      <th>AE_2</th>\n",
       "      <th>AE_3</th>\n",
       "      <th>AE_4</th>\n",
       "      <th>AE_5</th>\n",
       "      <th>AE_6</th>\n",
       "      <th>AE_7</th>\n",
       "      <th>AE_8</th>\n",
       "      <th>AE_9</th>\n",
       "      <th>AE_10</th>\n",
       "      <th>AE_11</th>\n",
       "      <th>AE_12</th>\n",
       "    </tr>\n",
       "  </thead>\n",
       "  <tbody>\n",
       "    <tr>\n",
       "      <th>0</th>\n",
       "      <td>-1.554872</td>\n",
       "      <td>1.536296</td>\n",
       "      <td>-0.762761</td>\n",
       "      <td>-1.110261</td>\n",
       "      <td>-0.202225</td>\n",
       "      <td>-0.058364</td>\n",
       "      <td>0.619533</td>\n",
       "      <td>1.306817</td>\n",
       "      <td>-1.511555</td>\n",
       "      <td>0.377354</td>\n",
       "      <td>-0.510684</td>\n",
       "      <td>-0.106799</td>\n",
       "      <td>-0.979988</td>\n",
       "    </tr>\n",
       "    <tr>\n",
       "      <th>1</th>\n",
       "      <td>-0.806489</td>\n",
       "      <td>2.241046</td>\n",
       "      <td>-1.297667</td>\n",
       "      <td>-2.473897</td>\n",
       "      <td>-0.947008</td>\n",
       "      <td>-0.711981</td>\n",
       "      <td>-0.763693</td>\n",
       "      <td>2.787829</td>\n",
       "      <td>-0.453681</td>\n",
       "      <td>-1.265213</td>\n",
       "      <td>0.565677</td>\n",
       "      <td>0.653174</td>\n",
       "      <td>0.420978</td>\n",
       "    </tr>\n",
       "    <tr>\n",
       "      <th>2</th>\n",
       "      <td>1.658922</td>\n",
       "      <td>0.971404</td>\n",
       "      <td>-0.385951</td>\n",
       "      <td>-0.323164</td>\n",
       "      <td>-1.519015</td>\n",
       "      <td>0.248093</td>\n",
       "      <td>-4.687656</td>\n",
       "      <td>-0.292421</td>\n",
       "      <td>-0.058314</td>\n",
       "      <td>-1.608291</td>\n",
       "      <td>0.171301</td>\n",
       "      <td>-0.607737</td>\n",
       "      <td>1.004978</td>\n",
       "    </tr>\n",
       "    <tr>\n",
       "      <th>3</th>\n",
       "      <td>-0.494285</td>\n",
       "      <td>-0.033656</td>\n",
       "      <td>-1.056131</td>\n",
       "      <td>0.526770</td>\n",
       "      <td>-0.529084</td>\n",
       "      <td>-0.258704</td>\n",
       "      <td>1.000635</td>\n",
       "      <td>-0.255153</td>\n",
       "      <td>0.380750</td>\n",
       "      <td>1.760963</td>\n",
       "      <td>1.262354</td>\n",
       "      <td>0.595796</td>\n",
       "      <td>-1.023822</td>\n",
       "    </tr>\n",
       "    <tr>\n",
       "      <th>4</th>\n",
       "      <td>-0.765602</td>\n",
       "      <td>0.774770</td>\n",
       "      <td>-1.598891</td>\n",
       "      <td>0.752531</td>\n",
       "      <td>-0.676651</td>\n",
       "      <td>-1.251208</td>\n",
       "      <td>1.166610</td>\n",
       "      <td>0.318992</td>\n",
       "      <td>0.146592</td>\n",
       "      <td>1.499208</td>\n",
       "      <td>0.183984</td>\n",
       "      <td>0.924630</td>\n",
       "      <td>-0.587340</td>\n",
       "    </tr>\n",
       "    <tr>\n",
       "      <th>...</th>\n",
       "      <td>...</td>\n",
       "      <td>...</td>\n",
       "      <td>...</td>\n",
       "      <td>...</td>\n",
       "      <td>...</td>\n",
       "      <td>...</td>\n",
       "      <td>...</td>\n",
       "      <td>...</td>\n",
       "      <td>...</td>\n",
       "      <td>...</td>\n",
       "      <td>...</td>\n",
       "      <td>...</td>\n",
       "      <td>...</td>\n",
       "    </tr>\n",
       "    <tr>\n",
       "      <th>134681</th>\n",
       "      <td>-0.889857</td>\n",
       "      <td>5.268679</td>\n",
       "      <td>2.268876</td>\n",
       "      <td>0.101190</td>\n",
       "      <td>-4.431375</td>\n",
       "      <td>1.724127</td>\n",
       "      <td>2.293243</td>\n",
       "      <td>0.986607</td>\n",
       "      <td>0.333991</td>\n",
       "      <td>-1.469306</td>\n",
       "      <td>0.789211</td>\n",
       "      <td>-2.631502</td>\n",
       "      <td>4.779145</td>\n",
       "    </tr>\n",
       "    <tr>\n",
       "      <th>134682</th>\n",
       "      <td>-0.535681</td>\n",
       "      <td>4.878915</td>\n",
       "      <td>2.687951</td>\n",
       "      <td>-0.316678</td>\n",
       "      <td>-4.439333</td>\n",
       "      <td>2.801513</td>\n",
       "      <td>2.473078</td>\n",
       "      <td>1.098050</td>\n",
       "      <td>1.012745</td>\n",
       "      <td>1.823800</td>\n",
       "      <td>1.515573</td>\n",
       "      <td>-3.458547</td>\n",
       "      <td>4.450511</td>\n",
       "    </tr>\n",
       "    <tr>\n",
       "      <th>134683</th>\n",
       "      <td>1.558990</td>\n",
       "      <td>1.473013</td>\n",
       "      <td>-0.594333</td>\n",
       "      <td>-0.223422</td>\n",
       "      <td>-1.772642</td>\n",
       "      <td>-0.222255</td>\n",
       "      <td>-4.770901</td>\n",
       "      <td>-0.774039</td>\n",
       "      <td>-0.214186</td>\n",
       "      <td>-1.963127</td>\n",
       "      <td>0.221264</td>\n",
       "      <td>-0.922206</td>\n",
       "      <td>1.116847</td>\n",
       "    </tr>\n",
       "    <tr>\n",
       "      <th>134684</th>\n",
       "      <td>-0.586574</td>\n",
       "      <td>4.909470</td>\n",
       "      <td>2.632989</td>\n",
       "      <td>-0.359542</td>\n",
       "      <td>-4.415063</td>\n",
       "      <td>2.809284</td>\n",
       "      <td>2.497044</td>\n",
       "      <td>1.124880</td>\n",
       "      <td>1.012143</td>\n",
       "      <td>1.881009</td>\n",
       "      <td>1.510189</td>\n",
       "      <td>-3.369457</td>\n",
       "      <td>4.370568</td>\n",
       "    </tr>\n",
       "    <tr>\n",
       "      <th>134685</th>\n",
       "      <td>1.541831</td>\n",
       "      <td>1.018103</td>\n",
       "      <td>-0.300323</td>\n",
       "      <td>-0.441402</td>\n",
       "      <td>-1.541450</td>\n",
       "      <td>0.236198</td>\n",
       "      <td>-4.548999</td>\n",
       "      <td>-0.366046</td>\n",
       "      <td>0.019055</td>\n",
       "      <td>-1.663230</td>\n",
       "      <td>0.146457</td>\n",
       "      <td>-0.749994</td>\n",
       "      <td>1.083107</td>\n",
       "    </tr>\n",
       "  </tbody>\n",
       "</table>\n",
       "<p>134686 rows × 13 columns</p>\n",
       "</div>"
      ],
      "text/plain": [
       "            AE_0      AE_1      AE_2      AE_3      AE_4      AE_5      AE_6  \\\n",
       "0      -1.554872  1.536296 -0.762761 -1.110261 -0.202225 -0.058364  0.619533   \n",
       "1      -0.806489  2.241046 -1.297667 -2.473897 -0.947008 -0.711981 -0.763693   \n",
       "2       1.658922  0.971404 -0.385951 -0.323164 -1.519015  0.248093 -4.687656   \n",
       "3      -0.494285 -0.033656 -1.056131  0.526770 -0.529084 -0.258704  1.000635   \n",
       "4      -0.765602  0.774770 -1.598891  0.752531 -0.676651 -1.251208  1.166610   \n",
       "...          ...       ...       ...       ...       ...       ...       ...   \n",
       "134681 -0.889857  5.268679  2.268876  0.101190 -4.431375  1.724127  2.293243   \n",
       "134682 -0.535681  4.878915  2.687951 -0.316678 -4.439333  2.801513  2.473078   \n",
       "134683  1.558990  1.473013 -0.594333 -0.223422 -1.772642 -0.222255 -4.770901   \n",
       "134684 -0.586574  4.909470  2.632989 -0.359542 -4.415063  2.809284  2.497044   \n",
       "134685  1.541831  1.018103 -0.300323 -0.441402 -1.541450  0.236198 -4.548999   \n",
       "\n",
       "            AE_7      AE_8      AE_9     AE_10     AE_11     AE_12  \n",
       "0       1.306817 -1.511555  0.377354 -0.510684 -0.106799 -0.979988  \n",
       "1       2.787829 -0.453681 -1.265213  0.565677  0.653174  0.420978  \n",
       "2      -0.292421 -0.058314 -1.608291  0.171301 -0.607737  1.004978  \n",
       "3      -0.255153  0.380750  1.760963  1.262354  0.595796 -1.023822  \n",
       "4       0.318992  0.146592  1.499208  0.183984  0.924630 -0.587340  \n",
       "...          ...       ...       ...       ...       ...       ...  \n",
       "134681  0.986607  0.333991 -1.469306  0.789211 -2.631502  4.779145  \n",
       "134682  1.098050  1.012745  1.823800  1.515573 -3.458547  4.450511  \n",
       "134683 -0.774039 -0.214186 -1.963127  0.221264 -0.922206  1.116847  \n",
       "134684  1.124880  1.012143  1.881009  1.510189 -3.369457  4.370568  \n",
       "134685 -0.366046  0.019055 -1.663230  0.146457 -0.749994  1.083107  \n",
       "\n",
       "[134686 rows x 13 columns]"
      ]
     },
     "execution_count": 20,
     "metadata": {},
     "output_type": "execute_result"
    }
   ],
   "source": [
    "recon_feat_train = pd.DataFrame(x1_encode, columns =['AE_0', 'AE_1','AE_2','AE_3','AE_4','AE_5','AE_6','AE_7','AE_8','AE_9',\n",
    "                                       'AE_10','AE_11','AE_12'])\n",
    "recon_feat_train"
   ]
  },
  {
   "cell_type": "code",
   "execution_count": 21,
   "id": "d7aee0d9",
   "metadata": {},
   "outputs": [
    {
     "data": {
      "text/html": [
       "<div>\n",
       "<style scoped>\n",
       "    .dataframe tbody tr th:only-of-type {\n",
       "        vertical-align: middle;\n",
       "    }\n",
       "\n",
       "    .dataframe tbody tr th {\n",
       "        vertical-align: top;\n",
       "    }\n",
       "\n",
       "    .dataframe thead th {\n",
       "        text-align: right;\n",
       "    }\n",
       "</style>\n",
       "<table border=\"1\" class=\"dataframe\">\n",
       "  <thead>\n",
       "    <tr style=\"text-align: right;\">\n",
       "      <th></th>\n",
       "      <th>AE_0</th>\n",
       "      <th>AE_1</th>\n",
       "      <th>AE_2</th>\n",
       "      <th>AE_3</th>\n",
       "      <th>AE_4</th>\n",
       "      <th>AE_5</th>\n",
       "      <th>AE_6</th>\n",
       "      <th>AE_7</th>\n",
       "      <th>AE_8</th>\n",
       "      <th>AE_9</th>\n",
       "      <th>AE_10</th>\n",
       "      <th>AE_11</th>\n",
       "      <th>AE_12</th>\n",
       "    </tr>\n",
       "  </thead>\n",
       "  <tbody>\n",
       "    <tr>\n",
       "      <th>0</th>\n",
       "      <td>-0.718403</td>\n",
       "      <td>5.154143</td>\n",
       "      <td>2.754739</td>\n",
       "      <td>-0.184856</td>\n",
       "      <td>-4.202846</td>\n",
       "      <td>2.883865</td>\n",
       "      <td>2.103139</td>\n",
       "      <td>1.070096</td>\n",
       "      <td>0.707712</td>\n",
       "      <td>1.582345</td>\n",
       "      <td>1.415524</td>\n",
       "      <td>-3.471224</td>\n",
       "      <td>4.480442</td>\n",
       "    </tr>\n",
       "    <tr>\n",
       "      <th>1</th>\n",
       "      <td>-0.618972</td>\n",
       "      <td>5.046812</td>\n",
       "      <td>2.624118</td>\n",
       "      <td>-0.358072</td>\n",
       "      <td>-4.480897</td>\n",
       "      <td>2.810802</td>\n",
       "      <td>2.378828</td>\n",
       "      <td>1.118542</td>\n",
       "      <td>0.943333</td>\n",
       "      <td>1.717173</td>\n",
       "      <td>1.534441</td>\n",
       "      <td>-3.492040</td>\n",
       "      <td>4.459587</td>\n",
       "    </tr>\n",
       "    <tr>\n",
       "      <th>2</th>\n",
       "      <td>-1.233511</td>\n",
       "      <td>1.258720</td>\n",
       "      <td>-0.722621</td>\n",
       "      <td>-0.749187</td>\n",
       "      <td>0.276110</td>\n",
       "      <td>-0.149647</td>\n",
       "      <td>0.211717</td>\n",
       "      <td>1.506193</td>\n",
       "      <td>-1.755917</td>\n",
       "      <td>0.296378</td>\n",
       "      <td>-0.048758</td>\n",
       "      <td>0.266486</td>\n",
       "      <td>-0.869431</td>\n",
       "    </tr>\n",
       "    <tr>\n",
       "      <th>3</th>\n",
       "      <td>-2.513957</td>\n",
       "      <td>0.699530</td>\n",
       "      <td>0.036805</td>\n",
       "      <td>-0.264590</td>\n",
       "      <td>0.753720</td>\n",
       "      <td>-0.241110</td>\n",
       "      <td>0.096025</td>\n",
       "      <td>1.989973</td>\n",
       "      <td>-1.565037</td>\n",
       "      <td>-0.663958</td>\n",
       "      <td>0.527925</td>\n",
       "      <td>1.053021</td>\n",
       "      <td>-2.636520</td>\n",
       "    </tr>\n",
       "    <tr>\n",
       "      <th>4</th>\n",
       "      <td>-0.843639</td>\n",
       "      <td>2.704245</td>\n",
       "      <td>1.382450</td>\n",
       "      <td>0.049197</td>\n",
       "      <td>-0.395254</td>\n",
       "      <td>1.025230</td>\n",
       "      <td>1.957782</td>\n",
       "      <td>-1.305655</td>\n",
       "      <td>0.761562</td>\n",
       "      <td>1.325055</td>\n",
       "      <td>1.800350</td>\n",
       "      <td>-1.069800</td>\n",
       "      <td>1.537035</td>\n",
       "    </tr>\n",
       "    <tr>\n",
       "      <th>...</th>\n",
       "      <td>...</td>\n",
       "      <td>...</td>\n",
       "      <td>...</td>\n",
       "      <td>...</td>\n",
       "      <td>...</td>\n",
       "      <td>...</td>\n",
       "      <td>...</td>\n",
       "      <td>...</td>\n",
       "      <td>...</td>\n",
       "      <td>...</td>\n",
       "      <td>...</td>\n",
       "      <td>...</td>\n",
       "      <td>...</td>\n",
       "    </tr>\n",
       "    <tr>\n",
       "      <th>22539</th>\n",
       "      <td>-1.107598</td>\n",
       "      <td>0.444459</td>\n",
       "      <td>-1.013846</td>\n",
       "      <td>0.056863</td>\n",
       "      <td>-0.935853</td>\n",
       "      <td>-0.770587</td>\n",
       "      <td>1.864091</td>\n",
       "      <td>0.365988</td>\n",
       "      <td>-0.232720</td>\n",
       "      <td>1.420960</td>\n",
       "      <td>0.486134</td>\n",
       "      <td>0.290721</td>\n",
       "      <td>-1.137936</td>\n",
       "    </tr>\n",
       "    <tr>\n",
       "      <th>22540</th>\n",
       "      <td>-0.785348</td>\n",
       "      <td>0.654932</td>\n",
       "      <td>-1.491843</td>\n",
       "      <td>0.607295</td>\n",
       "      <td>-0.691836</td>\n",
       "      <td>-0.994327</td>\n",
       "      <td>1.203778</td>\n",
       "      <td>0.175806</td>\n",
       "      <td>0.138470</td>\n",
       "      <td>1.490486</td>\n",
       "      <td>0.467490</td>\n",
       "      <td>1.015944</td>\n",
       "      <td>-0.773792</td>\n",
       "    </tr>\n",
       "    <tr>\n",
       "      <th>22541</th>\n",
       "      <td>-0.639379</td>\n",
       "      <td>0.936144</td>\n",
       "      <td>-1.681765</td>\n",
       "      <td>0.639363</td>\n",
       "      <td>-0.692394</td>\n",
       "      <td>-1.144625</td>\n",
       "      <td>1.277333</td>\n",
       "      <td>0.220232</td>\n",
       "      <td>0.197822</td>\n",
       "      <td>1.547522</td>\n",
       "      <td>0.317892</td>\n",
       "      <td>1.060406</td>\n",
       "      <td>-0.670223</td>\n",
       "    </tr>\n",
       "    <tr>\n",
       "      <th>22542</th>\n",
       "      <td>0.092641</td>\n",
       "      <td>1.790655</td>\n",
       "      <td>-1.676525</td>\n",
       "      <td>-0.239714</td>\n",
       "      <td>-0.015518</td>\n",
       "      <td>-0.551438</td>\n",
       "      <td>-0.796520</td>\n",
       "      <td>0.202866</td>\n",
       "      <td>-0.783639</td>\n",
       "      <td>0.884244</td>\n",
       "      <td>0.263408</td>\n",
       "      <td>1.413032</td>\n",
       "      <td>-0.159979</td>\n",
       "    </tr>\n",
       "    <tr>\n",
       "      <th>22543</th>\n",
       "      <td>-1.371000</td>\n",
       "      <td>3.312265</td>\n",
       "      <td>1.286162</td>\n",
       "      <td>0.128404</td>\n",
       "      <td>-4.030053</td>\n",
       "      <td>1.465129</td>\n",
       "      <td>1.978896</td>\n",
       "      <td>0.591516</td>\n",
       "      <td>0.995709</td>\n",
       "      <td>0.192596</td>\n",
       "      <td>0.911487</td>\n",
       "      <td>-0.502975</td>\n",
       "      <td>4.178741</td>\n",
       "    </tr>\n",
       "  </tbody>\n",
       "</table>\n",
       "<p>22544 rows × 13 columns</p>\n",
       "</div>"
      ],
      "text/plain": [
       "           AE_0      AE_1      AE_2      AE_3      AE_4      AE_5      AE_6  \\\n",
       "0     -0.718403  5.154143  2.754739 -0.184856 -4.202846  2.883865  2.103139   \n",
       "1     -0.618972  5.046812  2.624118 -0.358072 -4.480897  2.810802  2.378828   \n",
       "2     -1.233511  1.258720 -0.722621 -0.749187  0.276110 -0.149647  0.211717   \n",
       "3     -2.513957  0.699530  0.036805 -0.264590  0.753720 -0.241110  0.096025   \n",
       "4     -0.843639  2.704245  1.382450  0.049197 -0.395254  1.025230  1.957782   \n",
       "...         ...       ...       ...       ...       ...       ...       ...   \n",
       "22539 -1.107598  0.444459 -1.013846  0.056863 -0.935853 -0.770587  1.864091   \n",
       "22540 -0.785348  0.654932 -1.491843  0.607295 -0.691836 -0.994327  1.203778   \n",
       "22541 -0.639379  0.936144 -1.681765  0.639363 -0.692394 -1.144625  1.277333   \n",
       "22542  0.092641  1.790655 -1.676525 -0.239714 -0.015518 -0.551438 -0.796520   \n",
       "22543 -1.371000  3.312265  1.286162  0.128404 -4.030053  1.465129  1.978896   \n",
       "\n",
       "           AE_7      AE_8      AE_9     AE_10     AE_11     AE_12  \n",
       "0      1.070096  0.707712  1.582345  1.415524 -3.471224  4.480442  \n",
       "1      1.118542  0.943333  1.717173  1.534441 -3.492040  4.459587  \n",
       "2      1.506193 -1.755917  0.296378 -0.048758  0.266486 -0.869431  \n",
       "3      1.989973 -1.565037 -0.663958  0.527925  1.053021 -2.636520  \n",
       "4     -1.305655  0.761562  1.325055  1.800350 -1.069800  1.537035  \n",
       "...         ...       ...       ...       ...       ...       ...  \n",
       "22539  0.365988 -0.232720  1.420960  0.486134  0.290721 -1.137936  \n",
       "22540  0.175806  0.138470  1.490486  0.467490  1.015944 -0.773792  \n",
       "22541  0.220232  0.197822  1.547522  0.317892  1.060406 -0.670223  \n",
       "22542  0.202866 -0.783639  0.884244  0.263408  1.413032 -0.159979  \n",
       "22543  0.591516  0.995709  0.192596  0.911487 -0.502975  4.178741  \n",
       "\n",
       "[22544 rows x 13 columns]"
      ]
     },
     "execution_count": 21,
     "metadata": {},
     "output_type": "execute_result"
    }
   ],
   "source": [
    "recon_feat_test = pd.DataFrame(x2_encode, columns =['AE_0', 'AE_1','AE_2','AE_3','AE_4','AE_5','AE_6','AE_7','AE_8','AE_9',\n",
    "                                       'AE_10','AE_11','AE_12'])\n",
    "recon_feat_test"
   ]
  },
  {
   "cell_type": "code",
   "execution_count": 22,
   "id": "ebdec407",
   "metadata": {},
   "outputs": [
    {
     "name": "stdout",
     "output_type": "stream",
     "text": [
      "            AE_0      AE_1      AE_2      AE_3      AE_4      AE_5      AE_6  \\\n",
      "0      -1.554872  1.536296 -0.762761 -1.110261 -0.202225 -0.058364  0.619533   \n",
      "1      -0.806489  2.241046 -1.297667 -2.473897 -0.947008 -0.711981 -0.763693   \n",
      "2       1.658922  0.971404 -0.385951 -0.323164 -1.519015  0.248093 -4.687656   \n",
      "3      -0.494285 -0.033656 -1.056131  0.526770 -0.529084 -0.258704  1.000635   \n",
      "4      -0.765602  0.774770 -1.598891  0.752531 -0.676651 -1.251208  1.166610   \n",
      "...          ...       ...       ...       ...       ...       ...       ...   \n",
      "134681 -0.889857  5.268679  2.268876  0.101190 -4.431375  1.724127  2.293243   \n",
      "134682 -0.535681  4.878915  2.687951 -0.316678 -4.439333  2.801513  2.473078   \n",
      "134683  1.558990  1.473013 -0.594333 -0.223422 -1.772642 -0.222255 -4.770901   \n",
      "134684 -0.586574  4.909470  2.632989 -0.359542 -4.415063  2.809284  2.497044   \n",
      "134685  1.541831  1.018103 -0.300323 -0.441402 -1.541450  0.236198 -4.548999   \n",
      "\n",
      "            AE_7      AE_8      AE_9     AE_10     AE_11     AE_12  \n",
      "0       1.306817 -1.511555  0.377354 -0.510684 -0.106799 -0.979988  \n",
      "1       2.787829 -0.453681 -1.265213  0.565677  0.653174  0.420978  \n",
      "2      -0.292421 -0.058314 -1.608291  0.171301 -0.607737  1.004978  \n",
      "3      -0.255153  0.380750  1.760963  1.262354  0.595796 -1.023822  \n",
      "4       0.318992  0.146592  1.499208  0.183984  0.924630 -0.587340  \n",
      "...          ...       ...       ...       ...       ...       ...  \n",
      "134681  0.986607  0.333991 -1.469306  0.789211 -2.631502  4.779145  \n",
      "134682  1.098050  1.012745  1.823800  1.515573 -3.458547  4.450511  \n",
      "134683 -0.774039 -0.214186 -1.963127  0.221264 -0.922206  1.116847  \n",
      "134684  1.124880  1.012143  1.881009  1.510189 -3.369457  4.370568  \n",
      "134685 -0.366046  0.019055 -1.663230  0.146457 -0.749994  1.083107  \n",
      "\n",
      "[134686 rows x 13 columns]\n",
      "           AE_0      AE_1      AE_2      AE_3      AE_4      AE_5      AE_6  \\\n",
      "0     -0.718403  5.154143  2.754739 -0.184856 -4.202846  2.883865  2.103139   \n",
      "1     -0.618972  5.046812  2.624118 -0.358072 -4.480897  2.810802  2.378828   \n",
      "2     -1.233511  1.258720 -0.722621 -0.749187  0.276110 -0.149647  0.211717   \n",
      "3     -2.513957  0.699530  0.036805 -0.264590  0.753720 -0.241110  0.096025   \n",
      "4     -0.843639  2.704245  1.382450  0.049197 -0.395254  1.025230  1.957782   \n",
      "...         ...       ...       ...       ...       ...       ...       ...   \n",
      "22539 -1.107598  0.444459 -1.013846  0.056863 -0.935853 -0.770587  1.864091   \n",
      "22540 -0.785348  0.654932 -1.491843  0.607295 -0.691836 -0.994327  1.203778   \n",
      "22541 -0.639379  0.936144 -1.681765  0.639363 -0.692394 -1.144625  1.277333   \n",
      "22542  0.092641  1.790655 -1.676525 -0.239714 -0.015518 -0.551438 -0.796520   \n",
      "22543 -1.371000  3.312265  1.286162  0.128404 -4.030053  1.465129  1.978896   \n",
      "\n",
      "           AE_7      AE_8      AE_9     AE_10     AE_11     AE_12  \n",
      "0      1.070096  0.707712  1.582345  1.415524 -3.471224  4.480442  \n",
      "1      1.118542  0.943333  1.717173  1.534441 -3.492040  4.459587  \n",
      "2      1.506193 -1.755917  0.296378 -0.048758  0.266486 -0.869431  \n",
      "3      1.989973 -1.565037 -0.663958  0.527925  1.053021 -2.636520  \n",
      "4     -1.305655  0.761562  1.325055  1.800350 -1.069800  1.537035  \n",
      "...         ...       ...       ...       ...       ...       ...  \n",
      "22539  0.365988 -0.232720  1.420960  0.486134  0.290721 -1.137936  \n",
      "22540  0.175806  0.138470  1.490486  0.467490  1.015944 -0.773792  \n",
      "22541  0.220232  0.197822  1.547522  0.317892  1.060406 -0.670223  \n",
      "22542  0.202866 -0.783639  0.884244  0.263408  1.413032 -0.159979  \n",
      "22543  0.591516  0.995709  0.192596  0.911487 -0.502975  4.178741  \n",
      "\n",
      "[22544 rows x 13 columns]\n"
     ]
    }
   ],
   "source": [
    "x1_recon = recon_feat_train.iloc[:,:]\n",
    "print(x1_recon)\n",
    "x2_recon = recon_feat_test.iloc[:,:]\n",
    "print(x2_recon)"
   ]
  },
  {
   "cell_type": "code",
   "execution_count": 23,
   "id": "e129ee16",
   "metadata": {},
   "outputs": [
    {
     "name": "stderr",
     "output_type": "stream",
     "text": [
      "C:\\Users\\admin\\anaconda3\\lib\\site-packages\\xgboost\\sklearn.py:1224: UserWarning: The use of label encoder in XGBClassifier is deprecated and will be removed in a future release. To remove this warning, do the following: 1) Pass option use_label_encoder=False when constructing XGBClassifier object; and 2) Encode your labels (y) as integers starting with 0, i.e. 0, 1, 2, ..., [num_class - 1].\n",
      "  warnings.warn(label_encoder_deprecation_msg, UserWarning)\n"
     ]
    },
    {
     "name": "stdout",
     "output_type": "stream",
     "text": [
      "[20:36:06] WARNING: C:/Users/Administrator/workspace/xgboost-win64_release_1.5.1/src/learner.cc:1115: Starting in XGBoost 1.3.0, the default evaluation metric used with the objective 'binary:logistic' was changed from 'error' to 'logloss'. Explicitly set eval_metric if you'd like to restore the old behavior.\n"
     ]
    },
    {
     "data": {
      "text/plain": [
       "XGBClassifier(base_score=0.5, booster='gbtree', colsample_bylevel=1,\n",
       "              colsample_bynode=1, colsample_bytree=0.6,\n",
       "              enable_categorical=False, gamma=0.0, gpu_id=-1,\n",
       "              importance_type=None, interaction_constraints='',\n",
       "              learning_rate=0.03, max_delta_step=0, max_depth=5,\n",
       "              min_child_weight=8, missing=nan, monotone_constraints='()',\n",
       "              n_estimators=381, n_jobs=4, nthread=4, num_parallel_tree=1,\n",
       "              predictor='auto', random_state=27, reg_alpha=0.005, reg_lambda=1,\n",
       "              scale_pos_weight=1, seed=27, subsample=0.9, tree_method='exact',\n",
       "              validate_parameters=1, verbosity=None)"
      ]
     },
     "execution_count": 23,
     "metadata": {},
     "output_type": "execute_result"
    }
   ],
   "source": [
    "# 2. XGBoost CLASSIFIER MODEL\n",
    "\n",
    "from xgboost import XGBClassifier\n",
    "import xgboost as xgb\n",
    "params = {\n",
    "             'learning_rate': 0.03,\n",
    "        'n_estimators':381,\n",
    "        'max_depth':5,\n",
    "        'min_child_weight':8,\n",
    "        'gamma':0.0,\n",
    "        'reg_alpha' : 0.005,\n",
    "        'subsample':0.9,\n",
    "        'colsample_bytree':0.6,\n",
    "        'objective': 'binary:logistic',\n",
    "        'nthread':4,\n",
    "        'scale_pos_weight':1,\n",
    "        'seed':27\n",
    "         }\n",
    "model_xgb = XGBClassifier(**params)\n",
    "model_xgb.fit(x1_recon, y1)"
   ]
  },
  {
   "cell_type": "code",
   "execution_count": 24,
   "id": "84aeeb9a",
   "metadata": {},
   "outputs": [
    {
     "name": "stdout",
     "output_type": "stream",
     "text": [
      "[1 1 0 ... 0 0 1]\n",
      "ROC AUC: 0.780277\n"
     ]
    }
   ],
   "source": [
    "# ROC AUC\n",
    "\n",
    "y_pred_new = model_xgb.predict(x2_recon)\n",
    "print(y_pred_new)\n",
    "from sklearn.metrics import roc_auc_score\n",
    "auc = roc_auc_score(y2, y_pred_new)\n",
    "print('ROC AUC: %f' % auc)"
   ]
  },
  {
   "cell_type": "code",
   "execution_count": 25,
   "id": "52babd99",
   "metadata": {},
   "outputs": [
    {
     "data": {
      "image/png": "[encoded data removed]",
      "text/plain": [
       "<Figure size 432x288 with 1 Axes>"
      ]
     },
     "metadata": {
      "needs_background": "light"
     },
     "output_type": "display_data"
    }
   ],
   "source": [
    "from matplotlib import pyplot as plt\n",
    "from sklearn import metrics\n",
    "fpr, tpr, _ = metrics.roc_curve(y2,  y_pred_new)\n",
    "#create ROC curve\n",
    "plt.plot(fpr,tpr)\n",
    "plt.ylabel('True Positive Rate')\n",
    "plt.xlabel('False Positive Rate')\n",
    "plt.show()"
   ]
  },
  {
   "cell_type": "code",
   "execution_count": 26,
   "id": "46989200",
   "metadata": {},
   "outputs": [
    {
     "name": "stdout",
     "output_type": "stream",
     "text": [
      "Accuracy in XGBoost classifier model:- 75.94038325053229\n",
      "Confusion Matrix = [[9041  670]\n",
      " [4754 8079]]\n",
      "Recall = 0.759403832505323\n",
      "Precision = 0.8079606495049791\n",
      "Classification Report =\n",
      "               precision    recall  f1-score   support\n",
      "\n",
      "           0       0.66      0.93      0.77      9711\n",
      "           1       0.92      0.63      0.75     12833\n",
      "\n",
      "    accuracy                           0.76     22544\n",
      "   macro avg       0.79      0.78      0.76     22544\n",
      "weighted avg       0.81      0.76      0.76     22544\n",
      "\n",
      "F1 Score =  0.7589649296268024\n"
     ]
    }
   ],
   "source": [
    "from sklearn.metrics import accuracy_score\n",
    "from sklearn.metrics import f1_score\n",
    "from sklearn import metrics\n",
    "accuracy = accuracy_score(y2, y_pred_new)*100\n",
    "print(\"Accuracy in XGBoost classifier model:-\", accuracy)\n",
    "print(\"Confusion Matrix =\", metrics.confusion_matrix(y2, y_pred_new, labels=None, \n",
    "                                              sample_weight=None))\n",
    "print(\"Recall =\", metrics.recall_score(y2, y_pred_new, labels=None, \n",
    "                                             pos_label=1, average='weighted', \n",
    "                                             sample_weight=None))\n",
    "print(\"Precision =\", metrics.precision_score(y2, y_pred_new, labels=None, \n",
    "                                             pos_label=1, average='weighted', \n",
    "                                             sample_weight=None))\n",
    "print(\"Classification Report =\\n\", metrics.classification_report(y2, y_pred_new, \n",
    "                                                                 labels=None, \n",
    "                                                                 target_names=None, \n",
    "                                                                 sample_weight=None, \n",
    "                                                                 digits=2, \n",
    "                                                                 output_dict=False))\n",
    "\n",
    "print(\"F1 Score = \",f1_score(y2, y_pred_new, average='macro'))"
   ]
  },
  {
   "cell_type": "code",
   "execution_count": 27,
   "id": "497e03db",
   "metadata": {},
   "outputs": [
    {
     "data": {
      "text/plain": [
       "<AxesSubplot:>"
      ]
     },
     "execution_count": 27,
     "metadata": {},
     "output_type": "execute_result"
    },
    {
     "data": {
      "image/png": "[encoded data removed]",
      "text/plain": [
       "<Figure size 432x288 with 2 Axes>"
      ]
     },
     "metadata": {
      "needs_background": "light"
     },
     "output_type": "display_data"
    }
   ],
   "source": [
    "cm_xgb = metrics.confusion_matrix(y_pred_new, y2, labels=None, \n",
    "                                              sample_weight=None)\n",
    "import seaborn as sns\n",
    "sns.heatmap(cm_xgb, annot=True)"
   ]
  },
  {
   "cell_type": "code",
   "execution_count": 28,
   "id": "109feb4a",
   "metadata": {},
   "outputs": [
    {
     "data": {
      "text/plain": [
       "<AxesSubplot:>"
      ]
     },
     "execution_count": 28,
     "metadata": {},
     "output_type": "execute_result"
    },
    {
     "data": {
      "image/png": "[encoded data removed]",
      "text/plain": [
       "<Figure size 432x288 with 2 Axes>"
      ]
     },
     "metadata": {
      "needs_background": "light"
     },
     "output_type": "display_data"
    }
   ],
   "source": [
    "sns.heatmap(cm_xgb/np.sum(cm_xgb), annot=True, \n",
    "            fmt='.2%', cmap='Blues')"
   ]
  },
  {
   "cell_type": "code",
   "execution_count": 29,
   "id": "7b9f7d02",
   "metadata": {},
   "outputs": [
    {
     "name": "stdout",
     "output_type": "stream",
     "text": [
      "Model: \"sequential\"\n",
      "_________________________________________________________________\n",
      " Layer (type)                Output Shape              Param #   \n",
      "=================================================================\n",
      " dense_6 (Dense)             (None, 13)                182       \n",
      "                                                                 \n",
      " dense_7 (Dense)             (None, 26)                364       \n",
      "                                                                 \n",
      " dropout (Dropout)           (None, 26)                0         \n",
      "                                                                 \n",
      " dense_8 (Dense)             (None, 52)                1404      \n",
      "                                                                 \n",
      " dropout_1 (Dropout)         (None, 52)                0         \n",
      "                                                                 \n",
      " dense_9 (Dense)             (None, 104)               5512      \n",
      "                                                                 \n",
      " dropout_2 (Dropout)         (None, 104)               0         \n",
      "                                                                 \n",
      " dense_10 (Dense)            (None, 208)               21840     \n",
      "                                                                 \n",
      " dense_11 (Dense)            (None, 2)                 418       \n",
      "                                                                 \n",
      "=================================================================\n",
      "Total params: 29,720\n",
      "Trainable params: 29,720\n",
      "Non-trainable params: 0\n",
      "_________________________________________________________________\n"
     ]
    }
   ],
   "source": [
    "# 3. DNN CLASSIFIER MODEL\n",
    "\n",
    "from tensorflow import keras\n",
    "model_DNN=keras.models.Sequential()\n",
    "model_DNN.add(keras.layers.Dense(units=13, activation = \"relu\",input_shape = x1_encode.shape[1:]))\n",
    "model_DNN.add(keras.layers.Dense(units=26,activation = \"relu\"))\n",
    "model_DNN.add(keras.layers.Dropout(0.25))\n",
    "model_DNN.add(keras.layers.Dense(units=52,activation = \"relu\" ))\n",
    "model_DNN.add(keras.layers.Dropout(0.25))\n",
    "model_DNN.add(keras.layers.Dense(units=104,activation = \"relu\" ))\n",
    "model_DNN.add(keras.layers.Dropout(0.25))\n",
    "model_DNN.add(keras.layers.Dense(units=208,activation = \"relu\" ))\n",
    "model_DNN.add(keras.layers.Dense(units=2, activation = \"sigmoid\"))\n",
    "model_DNN.summary()"
   ]
  },
  {
   "cell_type": "code",
   "execution_count": 30,
   "id": "64545d64",
   "metadata": {},
   "outputs": [
    {
     "name": "stdout",
     "output_type": "stream",
     "text": [
      "Epoch 1/50\n",
      "8418/8418 [==============================] - 29s 3ms/step - loss: 0.1246 - accuracy: 0.9602 - val_loss: 1.0697 - val_accuracy: 0.7177\n",
      "Epoch 2/50\n",
      "8418/8418 [==============================] - 27s 3ms/step - loss: 0.1342 - accuracy: 0.9619 - val_loss: 2.5269 - val_accuracy: 0.7079\n",
      "Epoch 3/50\n",
      "8418/8418 [==============================] - 28s 3ms/step - loss: 0.1569 - accuracy: 0.9578 - val_loss: 3.6984 - val_accuracy: 0.7283\n",
      "Epoch 4/50\n",
      "8418/8418 [==============================] - 25s 3ms/step - loss: 0.1800 - accuracy: 0.9591 - val_loss: 1.0989 - val_accuracy: 0.7317\n",
      "Epoch 5/50\n",
      "8418/8418 [==============================] - 27s 3ms/step - loss: 0.1780 - accuracy: 0.9640 - val_loss: 3.9187 - val_accuracy: 0.7377\n",
      "Epoch 6/50\n",
      "8418/8418 [==============================] - 25s 3ms/step - loss: 0.2023 - accuracy: 0.9536 - val_loss: 5.6848 - val_accuracy: 0.7323\n",
      "Epoch 7/50\n",
      "8418/8418 [==============================] - 25s 3ms/step - loss: 0.1918 - accuracy: 0.9542 - val_loss: 5.6233 - val_accuracy: 0.7410\n",
      "Epoch 8/50\n",
      "8418/8418 [==============================] - 24s 3ms/step - loss: 0.2333 - accuracy: 0.9522 - val_loss: 39.1577 - val_accuracy: 0.5642\n",
      "Epoch 9/50\n",
      "8418/8418 [==============================] - 25s 3ms/step - loss: 0.2619 - accuracy: 0.9408 - val_loss: 4.7242 - val_accuracy: 0.7081\n",
      "Epoch 10/50\n",
      "8418/8418 [==============================] - 24s 3ms/step - loss: 0.2919 - accuracy: 0.9365 - val_loss: 3.0514 - val_accuracy: 0.7216\n",
      "Epoch 11/50\n",
      "8418/8418 [==============================] - 27s 3ms/step - loss: 0.2087 - accuracy: 0.9629 - val_loss: 1.9082 - val_accuracy: 0.7087\n",
      "705/705 [==============================] - 2s 3ms/step - loss: 1.0697 - accuracy: 0.7177\n",
      "Test loss =  1.0697178840637207\n",
      "Test accuracy =  0.7177075743675232\n"
     ]
    }
   ],
   "source": [
    "opt = keras.optimizers.Adam(learning_rate=0.01)\n",
    "model_DNN.compile(loss=\"sparse_categorical_crossentropy\",optimizer=opt,metrics=\"accuracy\")\n",
    "es=keras.callbacks.EarlyStopping(monitor='loss',patience=10,restore_best_weights=True)\n",
    "cp=keras.callbacks.ModelCheckpoint(\"SaranyaDNNNetAE_new.h5\",monitor='val_loss')\n",
    "history = model_DNN.fit(x1_encode, y1,epochs=50,batch_size=16,callbacks=[es,cp],validation_data = [x2_encode, y2])\n",
    "testloss,testaccuracy=model_DNN.evaluate(x2_encode,y2)\n",
    "print(\"Test loss = \",testloss)\n",
    "print(\"Test accuracy = \",testaccuracy)"
   ]
  },
  {
   "cell_type": "code",
   "execution_count": 31,
   "id": "f9d6489d",
   "metadata": {},
   "outputs": [
    {
     "name": "stdout",
     "output_type": "stream",
     "text": [
      "[[1.1968955e-08 1.0000000e+00]\n",
      " [3.9878831e-08 1.0000000e+00]\n",
      " [9.2504394e-01 7.2777808e-02]\n",
      " ...\n",
      " [9.2618328e-01 7.1268380e-02]\n",
      " [9.5928091e-01 3.0822188e-02]\n",
      " [2.5004208e-02 9.9890971e-01]]\n",
      "[1 1 0 ... 0 0 1]\n",
      "Test Loss = 1.0697178840637207\n",
      "Test Accuracy = 0.7177075743675232\n"
     ]
    }
   ],
   "source": [
    "y_pred_DNN = model_DNN.predict(x2_encode)\n",
    "print(y_pred_DNN)\n",
    "y_pred_class_DNN=np.argmax(y_pred_DNN,axis=1)\n",
    "print(y_pred_class_DNN)\n",
    "print(\"Test Loss =\",testloss)\n",
    "print(\"Test Accuracy =\",testaccuracy)"
   ]
  },
  {
   "cell_type": "code",
   "execution_count": 32,
   "id": "5cf2aa34",
   "metadata": {},
   "outputs": [
    {
     "name": "stdout",
     "output_type": "stream",
     "text": [
      "ROC AUC: 0.744693\n"
     ]
    }
   ],
   "source": [
    "# ROC AUC\n",
    "from sklearn.metrics import roc_auc_score\n",
    "auc = roc_auc_score(y2, y_pred_class_DNN)\n",
    "print('ROC AUC: %f' % auc)"
   ]
  },
  {
   "cell_type": "code",
   "execution_count": 33,
   "id": "2c4b24a0",
   "metadata": {},
   "outputs": [
    {
     "data": {
      "image/png": "[encoded data removed]",
      "text/plain": [
       "<Figure size 432x288 with 1 Axes>"
      ]
     },
     "metadata": {
      "needs_background": "light"
     },
     "output_type": "display_data"
    }
   ],
   "source": [
    "from sklearn import metrics\n",
    "fpr, tpr, _ = metrics.roc_curve(y2,  y_pred_class_DNN)\n",
    "#create ROC curve\n",
    "plt.plot(fpr,tpr)\n",
    "plt.ylabel('True Positive Rate')\n",
    "plt.xlabel('False Positive Rate')\n",
    "plt.show()"
   ]
  },
  {
   "cell_type": "code",
   "execution_count": 34,
   "id": "ffdb5c24",
   "metadata": {},
   "outputs": [
    {
     "name": "stdout",
     "output_type": "stream",
     "text": [
      "Accuracy in DNN classifier model =  71.7707594038325\n",
      "Confusion Matrix = [[9124 5777]\n",
      " [ 587 7056]]\n",
      "Recall = 0.7177075940383251\n",
      "Precision = 0.8074276979565862\n",
      "Classification Report =\n",
      "               precision    recall  f1-score   support\n",
      "\n",
      "           0       0.94      0.61      0.74     14901\n",
      "           1       0.55      0.92      0.69      7643\n",
      "\n",
      "    accuracy                           0.72     22544\n",
      "   macro avg       0.74      0.77      0.72     22544\n",
      "weighted avg       0.81      0.72      0.72     22544\n",
      "\n",
      "F1 Score =  0.715312027507709\n"
     ]
    }
   ],
   "source": [
    "from sklearn import metrics\n",
    "from sklearn.metrics import f1_score\n",
    "print('Accuracy in DNN classifier model = ', metrics.accuracy_score(y_pred_class_DNN, y2)*100)\n",
    "print(\"Confusion Matrix =\", metrics.confusion_matrix(y_pred_class_DNN, y2, labels=None, \n",
    "                                              sample_weight=None))\n",
    "print(\"Recall =\", metrics.recall_score(y_pred_class_DNN, y2, labels=None, \n",
    "                                             pos_label=1, average='weighted', \n",
    "                                             sample_weight=None))\n",
    "print(\"Precision =\", metrics.precision_score(y_pred_class_DNN, y2, labels=None, \n",
    "                                             pos_label=1, average='weighted', \n",
    "                                             sample_weight=None))\n",
    "print(\"Classification Report =\\n\", metrics.classification_report(y_pred_class_DNN, y2, \n",
    "                                                                 labels=None, \n",
    "                                                                 target_names=None, \n",
    "                                                                 sample_weight=None, \n",
    "                                                                 digits=2, \n",
    "                                                                 output_dict=False))\n",
    "print(\"F1 Score = \",f1_score(y_pred_class_DNN, y2, average='macro'))"
   ]
  },
  {
   "cell_type": "code",
   "execution_count": 35,
   "id": "b004d422",
   "metadata": {},
   "outputs": [
    {
     "data": {
      "text/plain": [
       "<AxesSubplot:>"
      ]
     },
     "execution_count": 35,
     "metadata": {},
     "output_type": "execute_result"
    },
    {
     "data": {
      "image/png": "[encoded data removed]",
      "text/plain": [
       "<Figure size 432x288 with 2 Axes>"
      ]
     },
     "metadata": {
      "needs_background": "light"
     },
     "output_type": "display_data"
    }
   ],
   "source": [
    "cm_DNN = metrics.confusion_matrix(y_pred_class_DNN, y2, labels=None, \n",
    "                                              sample_weight=None)\n",
    "import seaborn as sns\n",
    "sns.heatmap(cm_DNN, annot=True)"
   ]
  },
  {
   "cell_type": "code",
   "execution_count": 36,
   "id": "cfee23a6",
   "metadata": {},
   "outputs": [
    {
     "data": {
      "text/plain": [
       "<AxesSubplot:>"
      ]
     },
     "execution_count": 36,
     "metadata": {},
     "output_type": "execute_result"
    },
    {
     "data": {
      "image/png": "[encoded data removed]",
      "text/plain": [
       "<Figure size 432x288 with 2 Axes>"
      ]
     },
     "metadata": {
      "needs_background": "light"
     },
     "output_type": "display_data"
    }
   ],
   "source": [
    "sns.heatmap(cm_DNN/np.sum(cm_DNN), annot=True, \n",
    "            fmt='.2%', cmap='Blues')"
   ]
  },
  {
   "cell_type": "code",
   "execution_count": 38,
   "id": "3ff501c1",
   "metadata": {},
   "outputs": [],
   "source": [
    "# 4. CNN CLASSIFIER MODEL\n",
    "\n",
    "x1_encode_CNN = np.reshape(x1_encode, (x1_encode.shape[0],x1_encode.shape[1],1))\n",
    "x2_encode_CNN = np.reshape(x2_encode, (x2_encode.shape[0],x2_encode.shape[1],1))"
   ]
  },
  {
   "cell_type": "code",
   "execution_count": 39,
   "id": "4ba9f8ef",
   "metadata": {},
   "outputs": [
    {
     "name": "stdout",
     "output_type": "stream",
     "text": [
      "Model: \"sequential_1\"\n",
      "_________________________________________________________________\n",
      " Layer (type)                Output Shape              Param #   \n",
      "=================================================================\n",
      " conv1d (Conv1D)             (None, 11, 13)            52        \n",
      "                                                                 \n",
      " batch_normalization_4 (Batc  (None, 11, 13)           52        \n",
      " hNormalization)                                                 \n",
      "                                                                 \n",
      " max_pooling1d (MaxPooling1D  (None, 5, 13)            0         \n",
      " )                                                               \n",
      "                                                                 \n",
      " dropout_3 (Dropout)         (None, 5, 13)             0         \n",
      "                                                                 \n",
      " flatten (Flatten)           (None, 65)                0         \n",
      "                                                                 \n",
      " dense_12 (Dense)            (None, 26)                1716      \n",
      "                                                                 \n",
      " dense_13 (Dense)            (None, 2)                 54        \n",
      "                                                                 \n",
      "=================================================================\n",
      "Total params: 1,874\n",
      "Trainable params: 1,848\n",
      "Non-trainable params: 26\n",
      "_________________________________________________________________\n"
     ]
    }
   ],
   "source": [
    "from tensorflow import keras\n",
    "from tensorflow.keras.layers import Input\n",
    "from keras.layers import Convolution1D, Dense, Dropout, MaxPooling1D, LSTM\n",
    "from keras.layers import Dense, Dropout, Activation, Lambda, Flatten\n",
    "convnet=keras.models.Sequential()\n",
    "convnet.add(keras.layers.Convolution1D(13,3,activation=\"relu\",input_shape=(13,1)))\n",
    "convnet.add(keras.layers.BatchNormalization())\n",
    "convnet.add(keras.layers.MaxPooling1D(2,2))\n",
    "convnet.add(keras.layers.Dropout(0.25))\n",
    "convnet.add(keras.layers.Flatten())\n",
    "convnet.add(keras.layers.Dense(26,activation=\"relu\"))\n",
    "convnet.add(keras.layers.Dense(2,activation=\"softmax\"))\n",
    "convnet.summary()"
   ]
  },
  {
   "cell_type": "code",
   "execution_count": 40,
   "id": "7a8fa438",
   "metadata": {},
   "outputs": [
    {
     "name": "stdout",
     "output_type": "stream",
     "text": [
      "Epoch 1/50\n",
      "8418/8418 [==============================] - 27s 3ms/step - loss: 0.0839 - accuracy: 0.9694 - val_loss: 0.8764 - val_accuracy: 0.7601\n",
      "Epoch 2/50\n",
      "8418/8418 [==============================] - 25s 3ms/step - loss: 0.0719 - accuracy: 0.9731 - val_loss: 1.0882 - val_accuracy: 0.7657\n",
      "Epoch 3/50\n",
      "8418/8418 [==============================] - 24s 3ms/step - loss: 0.0705 - accuracy: 0.9733 - val_loss: 0.8798 - val_accuracy: 0.7749\n",
      "Epoch 4/50\n",
      "8418/8418 [==============================] - 23s 3ms/step - loss: 0.0681 - accuracy: 0.9736 - val_loss: 1.2527 - val_accuracy: 0.7639\n",
      "Epoch 5/50\n",
      "8418/8418 [==============================] - 23s 3ms/step - loss: 0.0671 - accuracy: 0.9743 - val_loss: 0.9159 - val_accuracy: 0.7701\n",
      "Epoch 6/50\n",
      "8418/8418 [==============================] - 24s 3ms/step - loss: 0.0666 - accuracy: 0.9749 - val_loss: 1.0946 - val_accuracy: 0.7533\n",
      "Epoch 7/50\n",
      "8418/8418 [==============================] - 25s 3ms/step - loss: 0.0664 - accuracy: 0.9744 - val_loss: 0.9273 - val_accuracy: 0.7623\n",
      "Epoch 8/50\n",
      "8418/8418 [==============================] - 25s 3ms/step - loss: 0.0642 - accuracy: 0.9751 - val_loss: 1.0255 - val_accuracy: 0.7626\n",
      "Epoch 9/50\n",
      "8418/8418 [==============================] - 23s 3ms/step - loss: 0.0654 - accuracy: 0.9748 - val_loss: 0.7980 - val_accuracy: 0.7672\n",
      "Epoch 10/50\n",
      "8418/8418 [==============================] - 24s 3ms/step - loss: 0.0640 - accuracy: 0.9747 - val_loss: 1.2951 - val_accuracy: 0.7864\n",
      "Epoch 11/50\n",
      "8418/8418 [==============================] - 33s 4ms/step - loss: 0.0638 - accuracy: 0.9753 - val_loss: 1.2041 - val_accuracy: 0.7559\n",
      "Epoch 12/50\n",
      "8418/8418 [==============================] - 37s 4ms/step - loss: 0.0645 - accuracy: 0.9749 - val_loss: 0.6715 - val_accuracy: 0.7593\n",
      "Epoch 13/50\n",
      "8418/8418 [==============================] - 34s 4ms/step - loss: 0.0628 - accuracy: 0.9753 - val_loss: 0.9610 - val_accuracy: 0.7615\n",
      "Epoch 14/50\n",
      "8418/8418 [==============================] - 34s 4ms/step - loss: 0.0641 - accuracy: 0.9748 - val_loss: 0.9699 - val_accuracy: 0.7657\n",
      "Epoch 15/50\n",
      "8418/8418 [==============================] - 36s 4ms/step - loss: 0.0640 - accuracy: 0.9752 - val_loss: 0.9866 - val_accuracy: 0.7952\n",
      "Epoch 16/50\n",
      "8418/8418 [==============================] - 33s 4ms/step - loss: 0.0630 - accuracy: 0.9761 - val_loss: 1.0201 - val_accuracy: 0.7613\n",
      "Epoch 17/50\n",
      "8418/8418 [==============================] - 35s 4ms/step - loss: 0.0634 - accuracy: 0.9756 - val_loss: 1.0509 - val_accuracy: 0.7961\n",
      "Epoch 18/50\n",
      "8418/8418 [==============================] - 35s 4ms/step - loss: 0.0629 - accuracy: 0.9758 - val_loss: 0.6317 - val_accuracy: 0.7594\n",
      "Epoch 19/50\n",
      "8418/8418 [==============================] - 37s 4ms/step - loss: 0.0630 - accuracy: 0.9758 - val_loss: 0.8177 - val_accuracy: 0.7689\n",
      "Epoch 20/50\n",
      "8418/8418 [==============================] - 36s 4ms/step - loss: 0.0624 - accuracy: 0.9765 - val_loss: 0.6520 - val_accuracy: 0.7867\n",
      "Epoch 21/50\n",
      "8418/8418 [==============================] - 35s 4ms/step - loss: 0.0628 - accuracy: 0.9751 - val_loss: 0.8360 - val_accuracy: 0.7918\n",
      "Epoch 22/50\n",
      "8418/8418 [==============================] - 35s 4ms/step - loss: 0.0627 - accuracy: 0.9759 - val_loss: 0.9135 - val_accuracy: 0.7644\n",
      "Epoch 23/50\n",
      "8418/8418 [==============================] - 34s 4ms/step - loss: 0.0633 - accuracy: 0.9752 - val_loss: 1.0137 - val_accuracy: 0.7887\n",
      "Epoch 24/50\n",
      "8418/8418 [==============================] - 30s 4ms/step - loss: 0.0634 - accuracy: 0.9751 - val_loss: 1.4512 - val_accuracy: 0.8007\n",
      "Epoch 25/50\n",
      "8418/8418 [==============================] - 25s 3ms/step - loss: 0.0626 - accuracy: 0.9755 - val_loss: 0.8791 - val_accuracy: 0.7838\n",
      "Epoch 26/50\n",
      "8418/8418 [==============================] - 31s 4ms/step - loss: 0.0628 - accuracy: 0.9759 - val_loss: 0.8993 - val_accuracy: 0.7583\n",
      "Epoch 27/50\n",
      "8418/8418 [==============================] - 35s 4ms/step - loss: 0.0642 - accuracy: 0.9754 - val_loss: 1.3939 - val_accuracy: 0.7608\n",
      "Epoch 28/50\n",
      "8418/8418 [==============================] - 37s 4ms/step - loss: 0.0637 - accuracy: 0.9753 - val_loss: 1.0189 - val_accuracy: 0.7981\n",
      "Epoch 29/50\n",
      "8418/8418 [==============================] - 39s 5ms/step - loss: 0.0635 - accuracy: 0.9756 - val_loss: 0.4819 - val_accuracy: 0.8487\n",
      "Epoch 30/50\n",
      "8418/8418 [==============================] - 40s 5ms/step - loss: 0.0625 - accuracy: 0.9762 - val_loss: 0.7949 - val_accuracy: 0.7937\n",
      "705/705 [==============================] - 4s 5ms/step - loss: 0.6520 - accuracy: 0.7867\n",
      "Test loss =  0.6519608497619629\n",
      "Test accuracy =  0.7866837978363037\n"
     ]
    }
   ],
   "source": [
    "opt = keras.optimizers.Adam(learning_rate=0.01)\n",
    "convnet.compile(loss=\"sparse_categorical_crossentropy\",optimizer=opt,metrics=\"accuracy\")\n",
    "es=keras.callbacks.EarlyStopping(monitor='loss',patience=10,restore_best_weights=True)\n",
    "cp=keras.callbacks.ModelCheckpoint(\"SaranyaConvNetAE_new.h5\",monitor='val_loss')\n",
    "history = convnet.fit(x1_encode_CNN,y1,epochs=50,batch_size=16,callbacks=[es,cp],validation_data = [x2_encode_CNN, y2])\n",
    "testloss,testaccuracy=convnet.evaluate(x2_encode_CNN,y2)\n",
    "print(\"Test loss = \",testloss)\n",
    "print(\"Test accuracy = \",testaccuracy)"
   ]
  },
  {
   "cell_type": "code",
   "execution_count": 41,
   "id": "eb680bbd",
   "metadata": {},
   "outputs": [
    {
     "name": "stdout",
     "output_type": "stream",
     "text": [
      "[[9.1038810e-10 1.0000000e+00]\n",
      " [3.1904597e-09 1.0000000e+00]\n",
      " [9.8498338e-01 1.5016567e-02]\n",
      " ...\n",
      " [9.8629320e-01 1.3706755e-02]\n",
      " [9.9992359e-01 7.6405275e-05]\n",
      " [2.1776669e-04 9.9978226e-01]]\n",
      "[1 1 0 ... 0 0 1]\n"
     ]
    }
   ],
   "source": [
    "y_pred_CNN = convnet.predict(x2_encode_CNN)\n",
    "print(y_pred_CNN)\n",
    "y_pred_class_CNN=np.argmax(y_pred_CNN,axis=1)\n",
    "print(y_pred_class_CNN)"
   ]
  },
  {
   "cell_type": "code",
   "execution_count": 42,
   "id": "d1ce8ccf",
   "metadata": {},
   "outputs": [
    {
     "name": "stdout",
     "output_type": "stream",
     "text": [
      "ROC AUC: 0.808298\n"
     ]
    }
   ],
   "source": [
    "# ROC AUC\n",
    "from sklearn.metrics import roc_auc_score\n",
    "auc = roc_auc_score(y2, y_pred_class_CNN)\n",
    "print('ROC AUC: %f' % auc)"
   ]
  },
  {
   "cell_type": "code",
   "execution_count": 43,
   "id": "7becafed",
   "metadata": {},
   "outputs": [
    {
     "data": {
      "image/png": "[encoded data removed]",
      "text/plain": [
       "<Figure size 432x288 with 1 Axes>"
      ]
     },
     "metadata": {
      "needs_background": "light"
     },
     "output_type": "display_data"
    }
   ],
   "source": [
    "fpr, tpr, _ = metrics.roc_curve(y2,  y_pred_class_CNN)\n",
    "#create ROC curve\n",
    "plt.plot(fpr,tpr)\n",
    "plt.ylabel('True Positive Rate')\n",
    "plt.xlabel('False Positive Rate')\n",
    "plt.show()"
   ]
  },
  {
   "cell_type": "code",
   "execution_count": 44,
   "id": "097b0152",
   "metadata": {},
   "outputs": [
    {
     "name": "stdout",
     "output_type": "stream",
     "text": [
      "Accuracy in CNN classifier model =  78.66838183108588\n",
      "Confusion Matrix = [[9365 4463]\n",
      " [ 346 8370]]\n",
      "Recall = 0.7866838183108588\n",
      "Precision = 0.8436880458643689\n",
      "Classification Report =\n",
      "               precision    recall  f1-score   support\n",
      "\n",
      "           0       0.96      0.68      0.80     13828\n",
      "           1       0.65      0.96      0.78      8716\n",
      "\n",
      "    accuracy                           0.79     22544\n",
      "   macro avg       0.81      0.82      0.79     22544\n",
      "weighted avg       0.84      0.79      0.79     22544\n",
      "\n",
      "F1 Score =  0.7862674718927158\n"
     ]
    }
   ],
   "source": [
    "from sklearn import metrics\n",
    "from sklearn.metrics import f1_score\n",
    "print('Accuracy in CNN classifier model = ', metrics.accuracy_score(y_pred_class_CNN, y2)*100)\n",
    "print(\"Confusion Matrix =\", metrics.confusion_matrix(y_pred_class_CNN, y2, labels=None, \n",
    "                                              sample_weight=None))\n",
    "print(\"Recall =\", metrics.recall_score(y_pred_class_CNN, y2, labels=None, \n",
    "                                             pos_label=1, average='weighted', \n",
    "                                             sample_weight=None))\n",
    "print(\"Precision =\", metrics.precision_score(y_pred_class_CNN, y2, labels=None, \n",
    "                                             pos_label=1, average='weighted', \n",
    "                                             sample_weight=None))\n",
    "print(\"Classification Report =\\n\", metrics.classification_report(y_pred_class_CNN, y2, \n",
    "                                                                 labels=None, \n",
    "                                                                 target_names=None, \n",
    "                                                                 sample_weight=None, \n",
    "                                                                 digits=2, \n",
    "                                                                 output_dict=False))\n",
    "print(\"F1 Score = \",f1_score(y_pred_class_CNN, y2, average='macro'))"
   ]
  },
  {
   "cell_type": "code",
   "execution_count": 45,
   "id": "4efc3f8c",
   "metadata": {},
   "outputs": [
    {
     "data": {
      "text/plain": [
       "<AxesSubplot:>"
      ]
     },
     "execution_count": 45,
     "metadata": {},
     "output_type": "execute_result"
    },
    {
     "data": {
      "image/png": "[encoded data removed]",
      "text/plain": [
       "<Figure size 432x288 with 2 Axes>"
      ]
     },
     "metadata": {
      "needs_background": "light"
     },
     "output_type": "display_data"
    }
   ],
   "source": [
    "cm_CNN = metrics.confusion_matrix(y_pred_class_CNN, y2, labels=None, \n",
    "                                              sample_weight=None)\n",
    "import seaborn as sns\n",
    "sns.heatmap(cm_CNN, annot=True)"
   ]
  },
  {
   "cell_type": "code",
   "execution_count": 46,
   "id": "fab0cf9b",
   "metadata": {},
   "outputs": [
    {
     "data": {
      "text/plain": [
       "<AxesSubplot:>"
      ]
     },
     "execution_count": 46,
     "metadata": {},
     "output_type": "execute_result"
    },
    {
     "data": {
      "image/png": "[encoded data removed]",
      "text/plain": [
       "<Figure size 432x288 with 2 Axes>"
      ]
     },
     "metadata": {
      "needs_background": "light"
     },
     "output_type": "display_data"
    }
   ],
   "source": [
    "sns.heatmap(cm_CNN/np.sum(cm_CNN), annot=True, \n",
    "            fmt='.2%', cmap='Blues')"
   ]
  },
  {
   "cell_type": "code",
   "execution_count": 47,
   "id": "cb43d4e1",
   "metadata": {},
   "outputs": [
    {
     "name": "stdout",
     "output_type": "stream",
     "text": [
      "134686\n",
      "22544\n"
     ]
    }
   ],
   "source": [
    "# 5. TCN CLASSIFIER MODEL\n",
    "\n",
    "print(x1_encode.shape[0])\n",
    "print(x2_encode.shape[0])"
   ]
  },
  {
   "cell_type": "code",
   "execution_count": 48,
   "id": "809a1815",
   "metadata": {},
   "outputs": [
    {
     "name": "stdout",
     "output_type": "stream",
     "text": [
      "(134686, 13) (134686,) (22544, 13) (22544,)\n",
      "(134686, 13, 1) (134686,) (22544, 13, 1) (22544,)\n"
     ]
    }
   ],
   "source": [
    "print(x1_encode.shape, y1.shape, x2_encode.shape, y2.shape)\n",
    "x1_encode_TCN = np.reshape(x1_encode, (x1_encode.shape[0],x1_encode.shape[1],1))\n",
    "x2_encode_TCN = np.reshape(x2_encode, (x2_encode.shape[0],x2_encode.shape[1],1))\n",
    "print(x1_encode_TCN.shape, y1.shape, x2_encode_TCN.shape, y2.shape)"
   ]
  },
  {
   "cell_type": "code",
   "execution_count": 49,
   "id": "b04c129e",
   "metadata": {},
   "outputs": [
    {
     "name": "stdout",
     "output_type": "stream",
     "text": [
      "(134686, 13, 1) (134686, 2) (22544, 13, 1) (22544, 2)\n"
     ]
    }
   ],
   "source": [
    "from tensorflow.keras.utils import to_categorical\n",
    "num_classes = 2\n",
    "y1_TCN = to_categorical(y1, num_classes)\n",
    "y2_TCN = to_categorical(y2, num_classes)\n",
    "print(x1_encode_TCN.shape, y1_TCN.shape, x2_encode_TCN.shape, y2_TCN.shape)"
   ]
  },
  {
   "cell_type": "code",
   "execution_count": 50,
   "id": "d12341ec",
   "metadata": {},
   "outputs": [
    {
     "name": "stdout",
     "output_type": "stream",
     "text": [
      "(134686, 13, 1) (134686, 2, 1) (22544, 13, 1) (22544, 2, 1)\n"
     ]
    }
   ],
   "source": [
    "y1_TCN = np.expand_dims(y1_TCN, axis=2)\n",
    "y2_TCN = np.expand_dims(y2_TCN, axis=2)\n",
    "print(x1_encode_TCN.shape, y1_TCN.shape, x2_encode_TCN.shape, y2_TCN.shape)"
   ]
  },
  {
   "cell_type": "code",
   "execution_count": 51,
   "id": "898ac709",
   "metadata": {},
   "outputs": [
    {
     "name": "stdout",
     "output_type": "stream",
     "text": [
      "Requirement already satisfied: keras-tcn in c:\\users\\admin\\anaconda3\\lib\\site-packages (3.4.2)\n",
      "Requirement already satisfied: tensorflow-addons in c:\\users\\admin\\anaconda3\\lib\\site-packages (from keras-tcn) (0.16.1)\n",
      "Requirement already satisfied: tensorflow in c:\\users\\admin\\anaconda3\\lib\\site-packages (from keras-tcn) (2.7.0)\n",
      "Requirement already satisfied: numpy in c:\\users\\admin\\anaconda3\\lib\\site-packages (from keras-tcn) (1.20.1)\n",
      "Requirement already satisfied: google-pasta>=0.1.1 in c:\\users\\admin\\anaconda3\\lib\\site-packages (from tensorflow->keras-tcn) (0.2.0)\n",
      "Requirement already satisfied: tensorboard~=2.6 in c:\\users\\admin\\anaconda3\\lib\\site-packages (from tensorflow->keras-tcn) (2.7.0)\n",
      "Requirement already satisfied: h5py>=2.9.0 in c:\\users\\admin\\anaconda3\\lib\\site-packages (from tensorflow->keras-tcn) (2.10.0)\n",
      "Requirement already satisfied: tensorflow-estimator<2.8,~=2.7.0rc0 in c:\\users\\admin\\anaconda3\\lib\\site-packages (from tensorflow->keras-tcn) (2.7.0)\n",
      "Requirement already satisfied: flatbuffers<3.0,>=1.12 in c:\\users\\admin\\anaconda3\\lib\\site-packages (from tensorflow->keras-tcn) (2.0)\n",
      "Requirement already satisfied: keras<2.8,>=2.7.0rc0 in c:\\users\\admin\\anaconda3\\lib\\site-packages (from tensorflow->keras-tcn) (2.7.0)\n",
      "Requirement already satisfied: absl-py>=0.4.0 in c:\\users\\admin\\anaconda3\\lib\\site-packages (from tensorflow->keras-tcn) (1.0.0)\n",
      "Requirement already satisfied: termcolor>=1.1.0 in c:\\users\\admin\\anaconda3\\lib\\site-packages (from tensorflow->keras-tcn) (1.1.0)\n",
      "Requirement already satisfied: tensorflow-io-gcs-filesystem>=0.21.0 in c:\\users\\admin\\anaconda3\\lib\\site-packages (from tensorflow->keras-tcn) (0.23.1)\n",
      "Requirement already satisfied: astunparse>=1.6.0 in c:\\users\\admin\\anaconda3\\lib\\site-packages (from tensorflow->keras-tcn) (1.6.3)\n",
      "Requirement already satisfied: protobuf>=3.9.2 in c:\\users\\admin\\anaconda3\\lib\\site-packages (from tensorflow->keras-tcn) (3.19.1)\n",
      "Requirement already satisfied: wheel<1.0,>=0.32.0 in c:\\users\\admin\\anaconda3\\lib\\site-packages (from tensorflow->keras-tcn) (0.36.2)\n",
      "Requirement already satisfied: opt-einsum>=2.3.2 in c:\\users\\admin\\anaconda3\\lib\\site-packages (from tensorflow->keras-tcn) (3.3.0)\n",
      "Requirement already satisfied: six>=1.12.0 in c:\\users\\admin\\anaconda3\\lib\\site-packages (from tensorflow->keras-tcn) (1.15.0)\n",
      "Requirement already satisfied: typing-extensions>=3.6.6 in c:\\users\\admin\\anaconda3\\lib\\site-packages (from tensorflow->keras-tcn) (3.7.4.3)\n",
      "Requirement already satisfied: gast<0.5.0,>=0.2.1 in c:\\users\\admin\\anaconda3\\lib\\site-packages (from tensorflow->keras-tcn) (0.4.0)\n",
      "Requirement already satisfied: keras-preprocessing>=1.1.1 in c:\\users\\admin\\anaconda3\\lib\\site-packages (from tensorflow->keras-tcn) (1.1.2)\n",
      "Requirement already satisfied: libclang>=9.0.1 in c:\\users\\admin\\anaconda3\\lib\\site-packages (from tensorflow->keras-tcn) (12.0.0)\n",
      "Requirement already satisfied: grpcio<2.0,>=1.24.3 in c:\\users\\admin\\anaconda3\\lib\\site-packages (from tensorflow->keras-tcn) (1.43.0)\n",
      "Requirement already satisfied: wrapt>=1.11.0 in c:\\users\\admin\\anaconda3\\lib\\site-packages (from tensorflow->keras-tcn) (1.12.1)\n",
      "Requirement already satisfied: setuptools>=41.0.0 in c:\\users\\admin\\anaconda3\\lib\\site-packages (from tensorboard~=2.6->tensorflow->keras-tcn) (52.0.0.post20210125)\n",
      "Requirement already satisfied: werkzeug>=0.11.15 in c:\\users\\admin\\anaconda3\\lib\\site-packages (from tensorboard~=2.6->tensorflow->keras-tcn) (1.0.1)\n",
      "Requirement already satisfied: requests<3,>=2.21.0 in c:\\users\\admin\\anaconda3\\lib\\site-packages (from tensorboard~=2.6->tensorflow->keras-tcn) (2.25.1)\n",
      "Requirement already satisfied: google-auth-oauthlib<0.5,>=0.4.1 in c:\\users\\admin\\anaconda3\\lib\\site-packages (from tensorboard~=2.6->tensorflow->keras-tcn) (0.4.6)\n",
      "Requirement already satisfied: tensorboard-data-server<0.7.0,>=0.6.0 in c:\\users\\admin\\anaconda3\\lib\\site-packages (from tensorboard~=2.6->tensorflow->keras-tcn) (0.6.1)\n",
      "Requirement already satisfied: tensorboard-plugin-wit>=1.6.0 in c:\\users\\admin\\anaconda3\\lib\\site-packages (from tensorboard~=2.6->tensorflow->keras-tcn) (1.8.0)\n",
      "Requirement already satisfied: markdown>=2.6.8 in c:\\users\\admin\\anaconda3\\lib\\site-packages (from tensorboard~=2.6->tensorflow->keras-tcn) (3.3.6)\n",
      "Requirement already satisfied: google-auth<3,>=1.6.3 in c:\\users\\admin\\anaconda3\\lib\\site-packages (from tensorboard~=2.6->tensorflow->keras-tcn) (2.3.3)\n",
      "Requirement already satisfied: pyasn1-modules>=0.2.1 in c:\\users\\admin\\anaconda3\\lib\\site-packages (from google-auth<3,>=1.6.3->tensorboard~=2.6->tensorflow->keras-tcn) (0.2.8)\n",
      "Requirement already satisfied: rsa<5,>=3.1.4 in c:\\users\\admin\\anaconda3\\lib\\site-packages (from google-auth<3,>=1.6.3->tensorboard~=2.6->tensorflow->keras-tcn) (4.8)\n",
      "Requirement already satisfied: cachetools<5.0,>=2.0.0 in c:\\users\\admin\\anaconda3\\lib\\site-packages (from google-auth<3,>=1.6.3->tensorboard~=2.6->tensorflow->keras-tcn) (4.2.4)\n",
      "Requirement already satisfied: requests-oauthlib>=0.7.0 in c:\\users\\admin\\anaconda3\\lib\\site-packages (from google-auth-oauthlib<0.5,>=0.4.1->tensorboard~=2.6->tensorflow->keras-tcn) (1.3.0)\n",
      "Requirement already satisfied: importlib-metadata>=4.4 in c:\\users\\admin\\anaconda3\\lib\\site-packages (from markdown>=2.6.8->tensorboard~=2.6->tensorflow->keras-tcn) (4.10.0)\n",
      "Requirement already satisfied: zipp>=0.5 in c:\\users\\admin\\anaconda3\\lib\\site-packages (from importlib-metadata>=4.4->markdown>=2.6.8->tensorboard~=2.6->tensorflow->keras-tcn) (3.4.1)\n",
      "Requirement already satisfied: pyasn1<0.5.0,>=0.4.6 in c:\\users\\admin\\anaconda3\\lib\\site-packages (from pyasn1-modules>=0.2.1->google-auth<3,>=1.6.3->tensorboard~=2.6->tensorflow->keras-tcn) (0.4.8)\n",
      "Requirement already satisfied: certifi>=2017.4.17 in c:\\users\\admin\\anaconda3\\lib\\site-packages (from requests<3,>=2.21.0->tensorboard~=2.6->tensorflow->keras-tcn) (2020.12.5)\n",
      "Requirement already satisfied: urllib3<1.27,>=1.21.1 in c:\\users\\admin\\anaconda3\\lib\\site-packages (from requests<3,>=2.21.0->tensorboard~=2.6->tensorflow->keras-tcn) (1.26.4)\n",
      "Requirement already satisfied: chardet<5,>=3.0.2 in c:\\users\\admin\\anaconda3\\lib\\site-packages (from requests<3,>=2.21.0->tensorboard~=2.6->tensorflow->keras-tcn) (4.0.0)\n",
      "Requirement already satisfied: idna<3,>=2.5 in c:\\users\\admin\\anaconda3\\lib\\site-packages (from requests<3,>=2.21.0->tensorboard~=2.6->tensorflow->keras-tcn) (2.10)\n",
      "Requirement already satisfied: oauthlib>=3.0.0 in c:\\users\\admin\\anaconda3\\lib\\site-packages (from requests-oauthlib>=0.7.0->google-auth-oauthlib<0.5,>=0.4.1->tensorboard~=2.6->tensorflow->keras-tcn) (3.1.1)\n",
      "Requirement already satisfied: typeguard>=2.7 in c:\\users\\admin\\anaconda3\\lib\\site-packages (from tensorflow-addons->keras-tcn) (2.13.3)\n"
     ]
    }
   ],
   "source": [
    "!pip install keras-tcn"
   ]
  },
  {
   "cell_type": "code",
   "execution_count": 52,
   "id": "598f3802",
   "metadata": {},
   "outputs": [],
   "source": [
    "import numpy as np\n",
    "from tensorflow.keras import Model, Input\n",
    "from tensorflow.keras.layers import Dense, Dropout, Embedding\n",
    "from tensorflow.keras.preprocessing import sequence\n",
    "from tcn import compiled_tcn"
   ]
  },
  {
   "cell_type": "code",
   "execution_count": 53,
   "id": "1600c55c",
   "metadata": {},
   "outputs": [
    {
     "name": "stdout",
     "output_type": "stream",
     "text": [
      "x.shape= (None, 64)\n",
      "model.x = (None, 13, 1)\n",
      "model.y = (None, 2)\n"
     ]
    },
    {
     "name": "stderr",
     "output_type": "stream",
     "text": [
      "C:\\Users\\admin\\anaconda3\\lib\\site-packages\\keras\\optimizer_v2\\adam.py:105: UserWarning: The `lr` argument is deprecated, use `learning_rate` instead.\n",
      "  super(Adam, self).__init__(name, **kwargs)\n"
     ]
    }
   ],
   "source": [
    "model_TCN = compiled_tcn(return_sequences = False,num_feat = 1, num_classes = 2, nb_filters = 64,kernel_size=6,\n",
    "                    dilations=[1,2,4,8,16,32,64],nb_stacks=1, opt='adam',lr=0.002,activation = 'relu',kernel_initializer = \n",
    "                    'he_normal',use_batch_norm=True,use_layer_norm = False,use_weight_norm = False,\n",
    "                     max_len=x1_encode_TCN[0:1].shape[1],use_skip_connections=True) "
   ]
  },
  {
   "cell_type": "code",
   "execution_count": 54,
   "id": "d41fcf2d",
   "metadata": {},
   "outputs": [
    {
     "name": "stdout",
     "output_type": "stream",
     "text": [
      "13\n"
     ]
    }
   ],
   "source": [
    "print(x1_encode_TCN[0:1].shape[1])"
   ]
  },
  {
   "cell_type": "code",
   "execution_count": 55,
   "id": "9eca217f",
   "metadata": {},
   "outputs": [
    {
     "name": "stdout",
     "output_type": "stream",
     "text": [
      "x_train.shape = (134686, 13, 1)\n",
      "y_train.shape = (134686, 2, 1)\n",
      "x_test.shape = (22544, 13, 1)\n",
      "y_test.shape = (22544, 2, 1)\n"
     ]
    }
   ],
   "source": [
    "print(f'x_train.shape = {x1_encode_TCN.shape}')\n",
    "print(f'y_train.shape = {y1_TCN.shape}')\n",
    "print(f'x_test.shape = {x2_encode_TCN.shape}')\n",
    "print(f'y_test.shape = {y2_TCN.shape}')"
   ]
  },
  {
   "cell_type": "code",
   "execution_count": 56,
   "id": "e065ab73",
   "metadata": {},
   "outputs": [
    {
     "name": "stdout",
     "output_type": "stream",
     "text": [
      "Model: \"model_2\"\n",
      "_________________________________________________________________\n",
      " Layer (type)                Output Shape              Param #   \n",
      "=================================================================\n",
      " input_2 (InputLayer)        [(None, 13, 1)]           0         \n",
      "                                                                 \n",
      " tcn (TCN)                   (None, 64)                324480    \n",
      "                                                                 \n",
      " dense_14 (Dense)            (None, 2)                 130       \n",
      "                                                                 \n",
      " activation (Activation)     (None, 2)                 0         \n",
      "                                                                 \n",
      "=================================================================\n",
      "Total params: 324,610\n",
      "Trainable params: 322,818\n",
      "Non-trainable params: 1,792\n",
      "_________________________________________________________________\n"
     ]
    }
   ],
   "source": [
    "model_TCN.summary()"
   ]
  },
  {
   "cell_type": "code",
   "execution_count": 57,
   "id": "01e205d6",
   "metadata": {},
   "outputs": [],
   "source": [
    "y1_TCN = y1_TCN.squeeze().argmax(axis=1)\n",
    "y2_TCN = y2_TCN.squeeze().argmax(axis=1)"
   ]
  },
  {
   "cell_type": "code",
   "execution_count": 58,
   "id": "ae22565b",
   "metadata": {},
   "outputs": [
    {
     "name": "stdout",
     "output_type": "stream",
     "text": [
      "Epoch 1/10\n",
      "4209/4209 [==============================] - 680s 156ms/step - loss: 0.0627 - accuracy: 0.9776 - val_loss: 0.9730 - val_accuracy: 0.7578\n",
      "Epoch 2/10\n",
      "4209/4209 [==============================] - 607s 144ms/step - loss: 0.0448 - accuracy: 0.9833 - val_loss: 0.8573 - val_accuracy: 0.7793\n",
      "Epoch 3/10\n",
      "4209/4209 [==============================] - 717s 170ms/step - loss: 0.0381 - accuracy: 0.9855 - val_loss: 0.9095 - val_accuracy: 0.7610\n",
      "Epoch 4/10\n",
      "4209/4209 [==============================] - 718s 171ms/step - loss: 0.0342 - accuracy: 0.9873 - val_loss: 1.0817 - val_accuracy: 0.7526\n",
      "Epoch 5/10\n",
      "4209/4209 [==============================] - 717s 170ms/step - loss: 0.0317 - accuracy: 0.9879 - val_loss: 1.2750 - val_accuracy: 0.7510\n",
      "Epoch 6/10\n",
      "4209/4209 [==============================] - 730s 173ms/step - loss: 0.0297 - accuracy: 0.9886 - val_loss: 1.0679 - val_accuracy: 0.7610\n",
      "Epoch 7/10\n",
      "4209/4209 [==============================] - 734s 174ms/step - loss: 0.0287 - accuracy: 0.9892 - val_loss: 1.1309 - val_accuracy: 0.7655\n",
      "Epoch 8/10\n",
      "4209/4209 [==============================] - 732s 174ms/step - loss: 0.0276 - accuracy: 0.9896 - val_loss: 1.0649 - val_accuracy: 0.7562\n",
      "Epoch 9/10\n",
      "4209/4209 [==============================] - 800s 190ms/step - loss: 0.0264 - accuracy: 0.9900 - val_loss: 1.2591 - val_accuracy: 0.7537\n",
      "Epoch 10/10\n",
      "4209/4209 [==============================] - 804s 191ms/step - loss: 0.0259 - accuracy: 0.9903 - val_loss: 1.0961 - val_accuracy: 0.7744\n"
     ]
    }
   ],
   "source": [
    "history = model_TCN.fit(x1_encode_TCN, y1_TCN, epochs = 10, validation_data = [x2_encode_TCN, y2_TCN], \n",
    "                    workers=4, use_multiprocessing=True)"
   ]
  },
  {
   "cell_type": "code",
   "execution_count": 59,
   "id": "e6792d6e",
   "metadata": {},
   "outputs": [
    {
     "name": "stdout",
     "output_type": "stream",
     "text": [
      "705/705 [==============================] - 42s 59ms/step - loss: 1.0961 - accuracy: 0.7744\n",
      "Accuracy : 77.44 %\n",
      "Loss : 109.61 %\n"
     ]
    }
   ],
   "source": [
    "result = model_TCN.evaluate(x2_encode_TCN, y2_TCN)\n",
    "print(f\"Accuracy : {result[1] * 100:.2f} %\")\n",
    "print(f\"Loss : {result[0] * 100:.2f} %\")"
   ]
  },
  {
   "cell_type": "code",
   "execution_count": 60,
   "id": "5b75b960",
   "metadata": {},
   "outputs": [
    {
     "name": "stdout",
     "output_type": "stream",
     "text": [
      "[1 1 0 ... 1 0 1]\n",
      "[1 1 0 ... 1 0 1]\n"
     ]
    }
   ],
   "source": [
    "y_pred_TCN = model_TCN.predict(x2_encode_TCN, verbose=0)\n",
    "print(np.argmax(y_pred_TCN, axis=1))\n",
    "y_pred_class_TCN=np.argmax(y_pred_TCN,axis=1)\n",
    "print(y_pred_class_TCN)"
   ]
  },
  {
   "cell_type": "code",
   "execution_count": 61,
   "id": "a6f523e3",
   "metadata": {},
   "outputs": [
    {
     "name": "stdout",
     "output_type": "stream",
     "text": [
      "ROC AUC: 0.792045\n"
     ]
    }
   ],
   "source": [
    "from sklearn.metrics import roc_auc_score\n",
    "auc = roc_auc_score(y2_TCN, y_pred_class_TCN)\n",
    "print('ROC AUC: %f' % auc)"
   ]
  },
  {
   "cell_type": "code",
   "execution_count": 62,
   "id": "d81c8394",
   "metadata": {},
   "outputs": [
    {
     "data": {
      "image/png": "[encoded data removed]",
      "text/plain": [
       "<Figure size 432x288 with 1 Axes>"
      ]
     },
     "metadata": {
      "needs_background": "light"
     },
     "output_type": "display_data"
    }
   ],
   "source": [
    "fpr, tpr, _ = metrics.roc_curve(y2,  y_pred_class_TCN)\n",
    "#create ROC curve\n",
    "plt.plot(fpr,tpr)\n",
    "plt.ylabel('True Positive Rate')\n",
    "plt.xlabel('False Positive Rate')\n",
    "plt.show()"
   ]
  },
  {
   "cell_type": "code",
   "execution_count": 63,
   "id": "21862946",
   "metadata": {},
   "outputs": [
    {
     "name": "stdout",
     "output_type": "stream",
     "text": [
      "Accuracy in TCN classifier model =  77.44410929737401\n",
      "Confusion Matrix = [[8926 4300]\n",
      " [ 785 8533]]\n",
      "Recall = 0.7744410929737402\n",
      "Precision = 0.8140811177234013\n",
      "Classification Report =\n",
      "               precision    recall  f1-score   support\n",
      "\n",
      "           0       0.92      0.67      0.78     13226\n",
      "           1       0.66      0.92      0.77      9318\n",
      "\n",
      "    accuracy                           0.77     22544\n",
      "   macro avg       0.79      0.80      0.77     22544\n",
      "weighted avg       0.81      0.77      0.78     22544\n",
      "\n",
      "F1 Score =  0.7743725259765348\n"
     ]
    }
   ],
   "source": [
    "from sklearn import metrics\n",
    "from sklearn.metrics import f1_score\n",
    "print('Accuracy in TCN classifier model = ', metrics.accuracy_score(y_pred_class_TCN, y2_TCN)*100)\n",
    "print(\"Confusion Matrix =\", metrics.confusion_matrix(y_pred_class_TCN, y2_TCN, labels=None, \n",
    "                                              sample_weight=None))\n",
    "print(\"Recall =\", metrics.recall_score(y_pred_class_TCN, y2_TCN, labels=None, \n",
    "                                             pos_label=1, average='weighted', \n",
    "                                             sample_weight=None))\n",
    "print(\"Precision =\", metrics.precision_score(y_pred_class_TCN, y2_TCN, labels=None, \n",
    "                                             pos_label=1, average='weighted', \n",
    "                                             sample_weight=None))\n",
    "print(\"Classification Report =\\n\", metrics.classification_report(y_pred_class_TCN, y2_TCN, \n",
    "                                                                 labels=None, \n",
    "                                                                 target_names=None, \n",
    "                                                                 sample_weight=None, \n",
    "                                                                 digits=2, \n",
    "                                                                 output_dict=False))\n",
    "print(\"F1 Score = \",f1_score(y_pred_class_TCN, y2_TCN, average='macro'))"
   ]
  },
  {
   "cell_type": "code",
   "execution_count": 64,
   "id": "a80cbdb5",
   "metadata": {},
   "outputs": [
    {
     "data": {
      "text/plain": [
       "<AxesSubplot:>"
      ]
     },
     "execution_count": 64,
     "metadata": {},
     "output_type": "execute_result"
    },
    {
     "data": {
      "image/png": "[encoded data removed]",
      "text/plain": [
       "<Figure size 432x288 with 2 Axes>"
      ]
     },
     "metadata": {
      "needs_background": "light"
     },
     "output_type": "display_data"
    }
   ],
   "source": [
    "cm_TCN = metrics.confusion_matrix(y_pred_class_TCN, y2, labels=None, \n",
    "                                              sample_weight=None)\n",
    "import seaborn as sns\n",
    "sns.heatmap(cm_TCN, annot=True)"
   ]
  },
  {
   "cell_type": "code",
   "execution_count": 65,
   "id": "ce5892ae",
   "metadata": {},
   "outputs": [
    {
     "data": {
      "text/plain": [
       "<AxesSubplot:>"
      ]
     },
     "execution_count": 65,
     "metadata": {},
     "output_type": "execute_result"
    },
    {
     "data": {
      "image/png": "[encoded data removed]",
      "text/plain": [
       "<Figure size 432x288 with 2 Axes>"
      ]
     },
     "metadata": {
      "needs_background": "light"
     },
     "output_type": "display_data"
    }
   ],
   "source": [
    "sns.heatmap(cm_TCN/np.sum(cm_TCN), annot=True, \n",
    "            fmt='.2%', cmap='Blues')"
   ]
  },
  {
   "cell_type": "code",
   "execution_count": 66,
   "id": "efa1ecdb",
   "metadata": {},
   "outputs": [
    {
     "name": "stdout",
     "output_type": "stream",
     "text": [
      "X train shape:  (134686, 13)\n",
      "X test shape:  (22544, 13)\n",
      "Y train shape:  (134686,)\n",
      "Y test shape:  (22544,)\n"
     ]
    }
   ],
   "source": [
    "# 6. TabNet CLASSIFIER MODEL\n",
    "\n",
    "print(\"X train shape: \", x1_recon.shape)\n",
    "print(\"X test shape: \", x2_recon.shape)\n",
    "print(\"Y train shape: \", y1.shape)\n",
    "print(\"Y test shape: \", y2.shape)"
   ]
  },
  {
   "cell_type": "code",
   "execution_count": 67,
   "id": "b8668de6",
   "metadata": {},
   "outputs": [
    {
     "name": "stdout",
     "output_type": "stream",
     "text": [
      "Requirement already satisfied: pytorch-tabnet in c:\\users\\admin\\anaconda3\\lib\\site-packages (3.1.1)\n",
      "Requirement already satisfied: tqdm<5.0,>=4.36 in c:\\users\\admin\\anaconda3\\lib\\site-packages (from pytorch-tabnet) (4.59.0)\n",
      "Requirement already satisfied: torch<2.0,>=1.2 in c:\\users\\admin\\anaconda3\\lib\\site-packages (from pytorch-tabnet) (1.11.0)\n",
      "Requirement already satisfied: scikit_learn>0.21 in c:\\users\\admin\\anaconda3\\lib\\site-packages (from pytorch-tabnet) (0.24.1)\n",
      "Requirement already satisfied: scipy>1.4 in c:\\users\\admin\\anaconda3\\lib\\site-packages (from pytorch-tabnet) (1.6.2)\n",
      "Requirement already satisfied: numpy<2.0,>=1.17 in c:\\users\\admin\\anaconda3\\lib\\site-packages (from pytorch-tabnet) (1.20.1)\n",
      "Requirement already satisfied: threadpoolctl>=2.0.0 in c:\\users\\admin\\anaconda3\\lib\\site-packages (from scikit_learn>0.21->pytorch-tabnet) (2.1.0)\n",
      "Requirement already satisfied: joblib>=0.11 in c:\\users\\admin\\anaconda3\\lib\\site-packages (from scikit_learn>0.21->pytorch-tabnet) (1.0.1)\n",
      "Requirement already satisfied: typing-extensions in c:\\users\\admin\\anaconda3\\lib\\site-packages (from torch<2.0,>=1.2->pytorch-tabnet) (3.7.4.3)\n"
     ]
    }
   ],
   "source": [
    "!pip install pytorch-tabnet\n",
    "from pytorch_tabnet.tab_model import TabNetClassifier\n",
    "import torch"
   ]
  },
  {
   "cell_type": "code",
   "execution_count": 68,
   "id": "a34e228a",
   "metadata": {},
   "outputs": [
    {
     "name": "stdout",
     "output_type": "stream",
     "text": [
      "Device used : cpu\n"
     ]
    }
   ],
   "source": [
    "# define the model\n",
    "model_TabNet = TabNetClassifier(optimizer_fn=torch.optim.Adam,\n",
    "                       optimizer_params=dict(lr=5e-2),\n",
    "                       scheduler_params={\"step_size\":10,\"gamma\":0.9},\n",
    "                       scheduler_fn=torch.optim.lr_scheduler.StepLR,\n",
    "                       mask_type='entmax')"
   ]
  },
  {
   "cell_type": "code",
   "execution_count": 69,
   "id": "749e0f71",
   "metadata": {},
   "outputs": [
    {
     "name": "stdout",
     "output_type": "stream",
     "text": [
      "epoch 0  | loss: 0.09404 | train_auc: 0.99524 | train_accuracy: 0.96979 | valid_auc: 0.92792 | valid_accuracy: 0.76002 |  0:01:40s\n",
      "epoch 1  | loss: 0.06381 | train_auc: 0.99818 | train_accuracy: 0.98226 | valid_auc: 0.90871 | valid_accuracy: 0.74397 |  0:02:45s\n",
      "epoch 2  | loss: 0.05432 | train_auc: 0.99808 | train_accuracy: 0.98024 | valid_auc: 0.93821 | valid_accuracy: 0.74148 |  0:03:22s\n",
      "epoch 3  | loss: 0.0466  | train_auc: 0.99875 | train_accuracy: 0.98103 | valid_auc: 0.94204 | valid_accuracy: 0.75271 |  0:03:58s\n",
      "epoch 4  | loss: 0.04439 | train_auc: 0.99885 | train_accuracy: 0.98557 | valid_auc: 0.93606 | valid_accuracy: 0.78278 |  0:04:39s\n",
      "epoch 5  | loss: 0.04544 | train_auc: 0.99881 | train_accuracy: 0.98247 | valid_auc: 0.91827 | valid_accuracy: 0.75129 |  0:05:26s\n",
      "epoch 6  | loss: 0.04383 | train_auc: 0.99907 | train_accuracy: 0.98555 | valid_auc: 0.92261 | valid_accuracy: 0.75235 |  0:06:15s\n",
      "epoch 7  | loss: 0.04007 | train_auc: 0.99889 | train_accuracy: 0.98404 | valid_auc: 0.91235 | valid_accuracy: 0.75932 |  0:07:04s\n",
      "epoch 8  | loss: 0.04158 | train_auc: 0.99921 | train_accuracy: 0.98588 | valid_auc: 0.92646 | valid_accuracy: 0.76521 |  0:07:56s\n",
      "epoch 9  | loss: 0.03863 | train_auc: 0.99801 | train_accuracy: 0.9813  | valid_auc: 0.86188 | valid_accuracy: 0.74636 |  0:08:43s\n",
      "epoch 10 | loss: 0.03706 | train_auc: 0.99914 | train_accuracy: 0.98312 | valid_auc: 0.93946 | valid_accuracy: 0.7547  |  0:09:29s\n",
      "epoch 11 | loss: 0.03692 | train_auc: 0.99925 | train_accuracy: 0.98554 | valid_auc: 0.94328 | valid_accuracy: 0.76357 |  0:10:17s\n",
      "epoch 12 | loss: 0.03556 | train_auc: 0.99952 | train_accuracy: 0.98879 | valid_auc: 0.90236 | valid_accuracy: 0.74037 |  0:11:03s\n",
      "epoch 13 | loss: 0.03476 | train_auc: 0.99854 | train_accuracy: 0.95014 | valid_auc: 0.8681  | valid_accuracy: 0.76344 |  0:11:47s\n",
      "epoch 14 | loss: 0.03526 | train_auc: 0.99957 | train_accuracy: 0.99001 | valid_auc: 0.90873 | valid_accuracy: 0.75013 |  0:12:33s\n",
      "epoch 15 | loss: 0.03292 | train_auc: 0.99944 | train_accuracy: 0.98842 | valid_auc: 0.91482 | valid_accuracy: 0.80842 |  0:13:18s\n",
      "epoch 16 | loss: 0.03329 | train_auc: 0.99942 | train_accuracy: 0.98678 | valid_auc: 0.91631 | valid_accuracy: 0.78353 |  0:14:02s\n",
      "epoch 17 | loss: 0.03116 | train_auc: 0.9995  | train_accuracy: 0.98736 | valid_auc: 0.90168 | valid_accuracy: 0.77888 |  0:14:47s\n",
      "epoch 18 | loss: 0.03087 | train_auc: 0.99963 | train_accuracy: 0.98971 | valid_auc: 0.90626 | valid_accuracy: 0.76073 |  0:15:31s\n",
      "epoch 19 | loss: 0.03295 | train_auc: 0.99945 | train_accuracy: 0.98801 | valid_auc: 0.90823 | valid_accuracy: 0.76042 |  0:16:15s\n",
      "Stop training because you reached max_epochs = 20 with best_epoch = 15 and best_valid_accuracy = 0.80842\n",
      "Best weights from best epoch are automatically used!\n"
     ]
    }
   ],
   "source": [
    "# fit the model \n",
    "model_TabNet.fit(x1_encode,y1, eval_set=[(x1_encode, y1), (x2_encode, y2)],eval_name=['train', 'valid'],\n",
    "                   eval_metric=['auc','accuracy'],max_epochs=20 , patience=50, batch_size=256, virtual_batch_size=128, \n",
    "                   num_workers=0, weights=1,drop_last=False)   "
   ]
  },
  {
   "cell_type": "code",
   "execution_count": 70,
   "id": "92072d3f",
   "metadata": {},
   "outputs": [
    {
     "data": {
      "text/plain": [
       "Text(0, 0.5, 'Feature index')"
      ]
     },
     "execution_count": 70,
     "metadata": {},
     "output_type": "execute_result"
    },
    {
     "data": {
      "image/png": "[encoded data removed]",
      "text/plain": [
       "<Figure size 576x576 with 1 Axes>"
      ]
     },
     "metadata": {
      "needs_background": "light"
     },
     "output_type": "display_data"
    }
   ],
   "source": [
    "# find and plot feature importance \n",
    "from IPython.core.pylabtools import figsize\n",
    "figsize(8, 8)\n",
    "model_TabNet.feature_importances_\n",
    "feat_importances = pd.Series(model_TabNet.feature_importances_)\n",
    "feat_importances.nlargest(14).plot(kind='barh')\n",
    "plt.title(\"Feature importance graph after Autoencoder feature extraction - TabNet (NSLKDD Dataset)\")\n",
    "plt.xlabel(\"Feature score\")\n",
    "plt.ylabel(\"Feature index\")"
   ]
  },
  {
   "cell_type": "code",
   "execution_count": 71,
   "id": "e2c96d28",
   "metadata": {},
   "outputs": [
    {
     "name": "stdout",
     "output_type": "stream",
     "text": [
      "[1 1 0 ... 1 0 1]\n"
     ]
    }
   ],
   "source": [
    "y_pred_TabNet = model_TabNet.predict(x2_encode)\n",
    "print(y_pred_TabNet)"
   ]
  },
  {
   "cell_type": "code",
   "execution_count": 72,
   "id": "3ba1940d",
   "metadata": {},
   "outputs": [
    {
     "name": "stdout",
     "output_type": "stream",
     "text": [
      "ROC AUC: 0.822504\n"
     ]
    }
   ],
   "source": [
    "# ROC AUC\n",
    "from sklearn.metrics import roc_auc_score\n",
    "auc = roc_auc_score(y2, y_pred_TabNet)\n",
    "print('ROC AUC: %f' % auc)"
   ]
  },
  {
   "cell_type": "code",
   "execution_count": 79,
   "id": "8a04b652",
   "metadata": {},
   "outputs": [
    {
     "data": {
      "image/png": "[encoded data removed]",
      "text/plain": [
       "<Figure size 432x360 with 1 Axes>"
      ]
     },
     "metadata": {
      "needs_background": "light"
     },
     "output_type": "display_data"
    }
   ],
   "source": [
    "figsize(6, 5)\n",
    "fpr, tpr, _ = metrics.roc_curve(y2,  y_pred_TabNet)\n",
    "#create ROC curve\n",
    "plt.plot(fpr,tpr)\n",
    "plt.ylabel('True Positive Rate')\n",
    "plt.xlabel('False Positive Rate')\n",
    "plt.show()"
   ]
  },
  {
   "cell_type": "code",
   "execution_count": 74,
   "id": "fc08ae0f",
   "metadata": {},
   "outputs": [
    {
     "name": "stdout",
     "output_type": "stream",
     "text": [
      "Accuracy in TabNet classifier model: 80.84190915542938\n",
      "Confusion Matrix = [[8975 3583]\n",
      " [ 736 9250]]\n",
      "Recall = 0.8084190915542938\n",
      "Precision = 0.8341072195012523\n",
      "Classification Report =\n",
      "               precision    recall  f1-score   support\n",
      "\n",
      "           0       0.92      0.71      0.81     12558\n",
      "           1       0.72      0.93      0.81      9986\n",
      "\n",
      "    accuracy                           0.81     22544\n",
      "   macro avg       0.82      0.82      0.81     22544\n",
      "weighted avg       0.83      0.81      0.81     22544\n",
      "\n",
      "F1 Score =  0.8083905800394556\n"
     ]
    }
   ],
   "source": [
    "from sklearn.metrics import accuracy_score\n",
    "from sklearn import metrics\n",
    "from sklearn.metrics import f1_score\n",
    "test_acc = accuracy_score(y_pred_TabNet, y2)\n",
    "print(\"Accuracy in TabNet classifier model:\",test_acc*100)\n",
    "print(\"Confusion Matrix =\", metrics.confusion_matrix(y_pred_TabNet, y2, labels=None, \n",
    "                                              sample_weight=None))\n",
    "print(\"Recall =\", metrics.recall_score(y_pred_TabNet, y2, labels=None, \n",
    "                                             pos_label=1, average='weighted', \n",
    "                                             sample_weight=None))\n",
    "print(\"Precision =\", metrics.precision_score(y_pred_TabNet, y2, labels=None, \n",
    "                                             pos_label=1, average='weighted', \n",
    "                                             sample_weight=None))\n",
    "print(\"Classification Report =\\n\", metrics.classification_report(y_pred_TabNet, y2, \n",
    "                                                                 labels=None, \n",
    "                                                                 target_names=None, \n",
    "                                                                 sample_weight=None, \n",
    "                                                                 digits=2, \n",
    "                                                                 output_dict=False))\n",
    "print(\"F1 Score = \",f1_score(y_pred_TabNet, y2, average='macro'))"
   ]
  },
  {
   "cell_type": "code",
   "execution_count": 80,
   "id": "926d4d42",
   "metadata": {},
   "outputs": [
    {
     "data": {
      "text/plain": [
       "<AxesSubplot:>"
      ]
     },
     "execution_count": 80,
     "metadata": {},
     "output_type": "execute_result"
    },
    {
     "data": {
      "image/png": "[encoded data removed]",
      "text/plain": [
       "<Figure size 432x360 with 2 Axes>"
      ]
     },
     "metadata": {
      "needs_background": "light"
     },
     "output_type": "display_data"
    }
   ],
   "source": [
    "cm_TabNet = metrics.confusion_matrix(y_pred_TabNet, y2, labels=None, \n",
    "                                              sample_weight=None)\n",
    "import seaborn as sns\n",
    "sns.heatmap(cm_TabNet, annot=True)"
   ]
  },
  {
   "cell_type": "code",
   "execution_count": 81,
   "id": "8ed1d0e9",
   "metadata": {},
   "outputs": [
    {
     "data": {
      "text/plain": [
       "<AxesSubplot:>"
      ]
     },
     "execution_count": 81,
     "metadata": {},
     "output_type": "execute_result"
    },
    {
     "data": {
      "image/png": "[encoded data removed]",
      "text/plain": [
       "<Figure size 432x360 with 2 Axes>"
      ]
     },
     "metadata": {
      "needs_background": "light"
     },
     "output_type": "display_data"
    }
   ],
   "source": [
    "sns.heatmap(cm_TabNet/np.sum(cm_TabNet), annot=True, \n",
    "            fmt='.2%', cmap='Blues')"
   ]
  },
  {
   "cell_type": "code",
   "execution_count": 77,
   "id": "7fc2df61",
   "metadata": {},
   "outputs": [
    {
     "name": "stdout",
     "output_type": "stream",
     "text": [
      "Number of selected features=13\n",
      "Accuracy result of all models:\n",
      "Accuracy in XGBoost classifier model:- 75.94038325053229\n",
      "Accuracy in DNN classifier model =  71.7707594038325\n",
      "Accuracy in CNN classifier model =  78.66838183108588\n",
      "Accuracy in TCN classifier model =  77.44410929737401\n",
      "Accuracy in TabNet classifier model: 80.84190915542938\n"
     ]
    }
   ],
   "source": [
    "print(\"Number of selected features=%d\" % (x1_encode[0:1].shape[1]))\n",
    "print('Accuracy result of all models:')\n",
    "print(\"Accuracy in XGBoost classifier model:-\", accuracy)\n",
    "print('Accuracy in DNN classifier model = ', metrics.accuracy_score(y_pred_class_DNN, y2)*100)\n",
    "print('Accuracy in CNN classifier model = ', metrics.accuracy_score(y_pred_class_CNN, y2)*100)\n",
    "print('Accuracy in TCN classifier model = ', metrics.accuracy_score(y_pred_class_TCN, y2_TCN)*100)\n",
    "print(\"Accuracy in TabNet classifier model:\",test_acc*100)"
   ]
  },
  {
   "cell_type": "code",
   "execution_count": 82,
   "id": "10c34a71",
   "metadata": {},
   "outputs": [
    {
     "data": {
      "image/png": "[encoded data removed]",
      "text/plain": [
       "<Figure size 360x360 with 1 Axes>"
      ]
     },
     "metadata": {
      "needs_background": "light"
     },
     "output_type": "display_data"
    }
   ],
   "source": [
    "data = {'XGBoost':75.94, 'DNN':71.77, 'CNN':78.67,\n",
    "        'TCN':77.44, 'TabNet':80.84}\n",
    "Classifier_model = list(data.keys())\n",
    "Classifier_accuracy = list(data.values())\n",
    "  \n",
    "fig = plt.figure(figsize = (5, 5))\n",
    " \n",
    "# creating the bar plot\n",
    "plt.bar(Classifier_model, Classifier_accuracy, color ='blue',\n",
    "        width = 0.3)\n",
    "plt.ylim(0, 100)\n",
    "plt.xlabel(\"Classifier\")\n",
    "plt.ylabel(\"Accuracy\")\n",
    "plt.title(\"Comparative analysis after Autoencoder feature extraction (NSLKDD Dataset)\")\n",
    "plt.show()"
   ]
  },
  {
   "cell_type": "code",
   "execution_count": 83,
   "id": "961fcac1",
   "metadata": {},
   "outputs": [
    {
     "data": {
      "text/plain": [
       "<matplotlib.legend.Legend at 0x26629ec1550>"
      ]
     },
     "execution_count": 83,
     "metadata": {},
     "output_type": "execute_result"
    },
    {
     "data": {
      "image/png": "[encoded data removed]",
      "text/plain": [
       "<Figure size 432x360 with 1 Axes>"
      ]
     },
     "metadata": {
      "needs_background": "light"
     },
     "output_type": "display_data"
    }
   ],
   "source": [
    "#set up plotting area\n",
    "plt.figure(0).clf()\n",
    "\n",
    "fpr, tpr, _ = metrics.roc_curve(y2,  y_pred_new)\n",
    "auc = roc_auc_score(y2, y_pred_new)\n",
    "plt.plot(fpr,tpr,label=\"XGBoost, AUC=\"+str(auc))\n",
    "\n",
    "fpr, tpr, _ = metrics.roc_curve(y2,  y_pred_class_DNN)\n",
    "auc = roc_auc_score(y2, y_pred_class_DNN)\n",
    "plt.plot(fpr,tpr,label=\"DNN, AUC=\"+str(auc))\n",
    "\n",
    "fpr, tpr, _ = metrics.roc_curve(y2,  y_pred_class_CNN)\n",
    "auc = roc_auc_score(y2, y_pred_class_CNN)\n",
    "plt.plot(fpr,tpr,label=\"CNN, AUC=\"+str(auc))\n",
    "\n",
    "fpr, tpr, _ = metrics.roc_curve(y2,  y_pred_class_TCN)\n",
    "auc = roc_auc_score(y2, y_pred_class_TCN)\n",
    "plt.plot(fpr,tpr,label=\"TCN, AUC=\"+str(auc))\n",
    "\n",
    "#add legend\n",
    "plt.title(\"ROC curve after Autoencoder feature extraction (NSLKDD Dataset)\")\n",
    "plt.legend()"
   ]
  },
  {
   "cell_type": "code",
   "execution_count": 84,
   "id": "666d49b0",
   "metadata": {},
   "outputs": [
    {
     "data": {
      "text/plain": [
       "<matplotlib.legend.Legend at 0x2662c3ddc40>"
      ]
     },
     "execution_count": 84,
     "metadata": {},
     "output_type": "execute_result"
    },
    {
     "data": {
      "image/png": "[encoded data removed]",
      "text/plain": [
       "<Figure size 432x360 with 1 Axes>"
      ]
     },
     "metadata": {
      "needs_background": "light"
     },
     "output_type": "display_data"
    }
   ],
   "source": [
    "fpr, tpr, _ = metrics.roc_curve(y2,  y_pred_TabNet)\n",
    "auc = roc_auc_score(y2, y_pred_TabNet)\n",
    "plt.plot(fpr,tpr,label=\"TabNet, AUC=\"+str(auc))\n",
    "#add legend\n",
    "plt.title(\"ROC curve of proposed model after Autoencoder feature extraction (NSLKDD Dataset)\")\n",
    "plt.legend()"
   ]
  },
  {
   "cell_type": "code",
   "execution_count": 87,
   "id": "0a9b0ce6",
   "metadata": {},
   "outputs": [
    {
     "data": {
      "text/plain": [
       "<matplotlib.legend.Legend at 0x2662c7c8fa0>"
      ]
     },
     "execution_count": 87,
     "metadata": {},
     "output_type": "execute_result"
    },
    {
     "data": {
      "image/png": "[encoded data removed]",
      "text/plain": [
       "<Figure size 432x360 with 1 Axes>"
      ]
     },
     "metadata": {
      "needs_background": "light"
     },
     "output_type": "display_data"
    }
   ],
   "source": [
    "#set up plotting area\n",
    "from IPython.core.pylabtools import figsize\n",
    "figsize(6, 5)\n",
    "plt.figure(0).clf()\n",
    "\n",
    "fpr, tpr, _ = metrics.roc_curve(y2,  y_pred_new)\n",
    "auc = roc_auc_score(y2, y_pred_new)\n",
    "plt.plot(fpr,tpr,label=\"XGBoost, AUC=\"+str(auc))\n",
    "\n",
    "fpr, tpr, _ = metrics.roc_curve(y2,  y_pred_class_DNN)\n",
    "auc = roc_auc_score(y2, y_pred_class_DNN)\n",
    "plt.plot(fpr,tpr,label=\"DNN, AUC=\"+str(auc))\n",
    "\n",
    "fpr, tpr, _ = metrics.roc_curve(y2,  y_pred_class_CNN)\n",
    "auc = roc_auc_score(y2, y_pred_class_CNN)\n",
    "plt.plot(fpr,tpr,label=\"CNN, AUC=\"+str(auc))\n",
    "\n",
    "fpr, tpr, _ = metrics.roc_curve(y2,  y_pred_class_TCN)\n",
    "auc = roc_auc_score(y2, y_pred_class_TCN)\n",
    "plt.plot(fpr,tpr,label=\"TCN, AUC=\"+str(auc))\n",
    "\n",
    "fpr, tpr, _ = metrics.roc_curve(y2,  y_pred_TabNet)\n",
    "auc = roc_auc_score(y2, y_pred_TabNet)\n",
    "plt.plot(fpr,tpr,label=\"TabNet, AUC=\"+str(auc))\n",
    "\n",
    "#add legend\n",
    "plt.title(\"ROC curve after Autoencoder feature extraction (NSLKDD Dataset)\")\n",
    "plt.legend()"
   ]
  },
  {
   "cell_type": "code",
   "execution_count": 85,
   "id": "ea9ab7f6",
   "metadata": {},
   "outputs": [
    {
     "data": {
      "image/png": "[encoded data removed]",
      "text/plain": [
       "<Figure size 720x576 with 1 Axes>"
      ]
     },
     "metadata": {
      "needs_background": "light"
     },
     "output_type": "display_data"
    }
   ],
   "source": [
    "from IPython.core.pylabtools import figsize\n",
    "figsize(10, 8)\n",
    "# Import Library\n",
    "import numpy as np \n",
    "import matplotlib.pyplot as plt \n",
    "\n",
    "# Define Data\n",
    "data3 = ['Before feature extraction','XGBoost feature extraction','Autoencoder feature extraction']\n",
    "xvals = [79.79,82.10,75.94]\n",
    "yvals = [77.85,77.72,71.77]\n",
    "zvals = [74.16,83.40,78.67]\n",
    "avals = [78.42,76.77,77.44]\n",
    "bvals = [86.39,88.35,80.84]\n",
    "\n",
    "x_axis = np.arange(len(data3))\n",
    "\n",
    "# Multi bar Chart\n",
    "plt.bar(x_axis +0.1, xvals, width=0.1, label = 'XGBoost')\n",
    "plt.bar(x_axis +0.1*2, yvals, width=0.1, label = 'DNN')\n",
    "plt.bar(x_axis +0.1*3, zvals, width=0.1, label = 'CNN')\n",
    "plt.bar(x_axis +0.1*4, avals, width=0.1, label = 'TCN')\n",
    "plt.bar(x_axis +0.1*5, bvals, width=0.1, label = 'TabNet')\n",
    "\n",
    "# Xticks\n",
    "plt.xticks(x_axis,data3)\n",
    "plt.ylabel(\"Accuracy (%)\")\n",
    "plt.xlabel(\"Experiments on classification\")\n",
    "plt.title(\"Comparitive analysis of different experiments (NSLKDD Dataset)\")\n",
    "plt.legend()\n",
    "plt.show()"
   ]
  },
  {
   "cell_type": "code",
   "execution_count": null,
   "id": "85e58883",
   "metadata": {},
   "outputs": [],
   "source": []
  }
 ],
 "metadata": {
  "kernelspec": {
   "display_name": "Python 3",
   "language": "python",
   "name": "python3"
  },
  "language_info": {
   "codemirror_mode": {
    "name": "ipython",
    "version": 3
   },
   "file_extension": ".py",
   "mimetype": "text/x-python",
   "name": "python",
   "nbconvert_exporter": "python",
   "pygments_lexer": "ipython3",
   "version": "3.8.8"
  }
 },
 "nbformat": 4,
 "nbformat_minor": 5
}
